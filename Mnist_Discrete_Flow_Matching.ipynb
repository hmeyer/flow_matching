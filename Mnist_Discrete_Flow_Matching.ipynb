{
  "cells": [
    {
      "cell_type": "markdown",
      "metadata": {
        "id": "dtKnMN895gBQ"
      },
      "source": [
        "## Setup"
      ]
    },
    {
      "cell_type": "code",
      "execution_count": null,
      "metadata": {
        "colab": {
          "base_uri": "https://localhost:8080/"
        },
        "id": "xCoLJzFZ5j12",
        "outputId": "d373a1b3-c165-4cb0-9bd5-4f680455d63f"
      },
      "outputs": [
        {
          "name": "stdout",
          "output_type": "stream",
          "text": [
            "\u001b[?25l   \u001b[90m━━━━━━━━━━━━━━━━━━━━━━━━━━━━━━━━━━━━━━━━\u001b[0m \u001b[32m0.0/1.6 MB\u001b[0m \u001b[31m?\u001b[0m eta \u001b[36m-:--:--\u001b[0m\r\u001b[2K   \u001b[91m━━━━━━━━━━━━━━━━━━━━━━━━━━━━━━━━━━━━━━━\u001b[0m\u001b[91m╸\u001b[0m \u001b[32m1.6/1.6 MB\u001b[0m \u001b[31m61.7 MB/s\u001b[0m eta \u001b[36m0:00:01\u001b[0m\r\u001b[2K   \u001b[90m━━━━━━━━━━━━━━━━━━━━━━━━━━━━━━━━━━━━━━━━\u001b[0m \u001b[32m1.6/1.6 MB\u001b[0m \u001b[31m40.7 MB/s\u001b[0m eta \u001b[36m0:00:00\u001b[0m\n",
            "\u001b[?25h"
          ]
        }
      ],
      "source": [
        "!pip install -q mediapy"
      ]
    },
    {
      "cell_type": "markdown",
      "metadata": {
        "id": "VVWAyVgg5pU9"
      },
      "source": [
        "## Imports"
      ]
    },
    {
      "cell_type": "code",
      "execution_count": 1,
      "metadata": {
        "id": "dEVypRK85q0z"
      },
      "outputs": [
        {
          "name": "stderr",
          "output_type": "stream",
          "text": [
            "/Users/henning/dev/flow_matching/.venv/lib/python3.11/site-packages/tqdm/auto.py:21: TqdmWarning: IProgress not found. Please update jupyter and ipywidgets. See https://ipywidgets.readthedocs.io/en/stable/user_install.html\n",
            "  from .autonotebook import tqdm as notebook_tqdm\n"
          ]
        }
      ],
      "source": [
        "import torch\n",
        "from torch import nn\n",
        "from torch.nn import functional as F\n",
        "import torchvision\n",
        "import torchvision.transforms as T\n",
        "from torch.utils.data import DataLoader, Subset\n",
        "import numpy as np\n",
        "from tqdm.auto import tqdm\n",
        "import math\n",
        "from mediapy import show_image, show_images, show_video\n",
        "import time\n",
        "from collections import defaultdict\n",
        "import einops"
      ]
    },
    {
      "cell_type": "markdown",
      "metadata": {
        "id": "-eeE0Bq353C0"
      },
      "source": [
        "## Setup Accelerator"
      ]
    },
    {
      "cell_type": "code",
      "execution_count": 2,
      "metadata": {
        "colab": {
          "base_uri": "https://localhost:8080/"
        },
        "id": "-WSzEefJ54S7",
        "outputId": "e8adba51-bd66-468f-9d97-90c195a5c105"
      },
      "outputs": [
        {
          "name": "stdout",
          "output_type": "stream",
          "text": [
            "using device: mps\n"
          ]
        }
      ],
      "source": [
        "if torch.cuda.is_available():\n",
        "    device = torch.device(\"cuda\")\n",
        "elif torch.backends.mps.is_available():\n",
        "    device = torch.device(\"mps\")\n",
        "else:\n",
        "    device = torch.device(\"cpu\")\n",
        "print(f\"using device: {device}\")"
      ]
    },
    {
      "cell_type": "markdown",
      "metadata": {
        "id": "zJzok4756FQ3"
      },
      "source": [
        "## Num Classes"
      ]
    },
    {
      "cell_type": "code",
      "execution_count": 3,
      "metadata": {
        "id": "U6uJRBTa6KrX"
      },
      "outputs": [],
      "source": [
        "N_GRAYSCALES = 4"
      ]
    },
    {
      "cell_type": "markdown",
      "metadata": {
        "id": "WuAvTZhk6QPv"
      },
      "source": [
        "## Prepare dataset"
      ]
    },
    {
      "cell_type": "code",
      "execution_count": 10,
      "metadata": {
        "colab": {
          "base_uri": "https://localhost:8080/",
          "height": 176
        },
        "id": "L8AoMiMC6SeL",
        "outputId": "5883a208-30d4-454d-eccf-d29c0d51b00f"
      },
      "outputs": [
        {
          "name": "stdout",
          "output_type": "stream",
          "text": [
            "\n",
            "train - showing original continuous images\n"
          ]
        },
        {
          "data": {
            "text/html": [
              "<table class=\"show_images\" style=\"border-spacing:0px;\"><tr><td style=\"padding:1px;\"><img width=\"28\" height=\"28\" style=\"image-rendering:auto; object-fit:cover;\" src=\"data:image/png;base64,iVBORw0KGgoAAAANSUhEUgAAABwAAAAcCAIAAAD9b0jDAAAAnUlEQVR4nO2TSw6AIAxEJ8QrDoesh8REU4LIR+onLnxLkj6mpQA/P28iIiFBREjadSRDBaOXaozRSKapLdKgxuzc7pW18mjMBjIwBGrlsSaTDsdkKUWcSbGPvhTNd+u2P7XvoAJgVrrJpuJpGja6os57P9Y+9ntTLN4mMOzt0l4AhwvU3srhAdznpHyi/bmysw7fITT31J70zH+9kwUIY+FTzEpdbwAAAABJRU5ErkJggg==\"/></td><td style=\"padding:1px;\"><img width=\"28\" height=\"28\" style=\"image-rendering:auto; object-fit:cover;\" src=\"data:image/png;base64,iVBORw0KGgoAAAANSUhEUgAAABwAAAAcCAIAAAD9b0jDAAAAuUlEQVR4nO2UUQ6EIAxEi/GKwyGnh2QTmnQRFwVZ44/vywAZWmeoyMsjAEgpAeg8H3oOpZT8W1VFJMYo82VWkJwSJVlLTuqiKJMkMn7NrCi3ddliy7r1VNc8MX8cVT0Iw3qsWGl1ssgjIDtjP9cscqOuBACF0S2Y6X1saGS+rNSpRENL1GOomdI027JUWHJDCANlYtfX6HD54rb8XD99S4uMYNdcHFHYtf/PJ3/7xOOkYtXyQLxf5B4+JPA9BI3to5IAAAAASUVORK5CYII=\"/></td><td style=\"padding:1px;\"><img width=\"28\" height=\"28\" style=\"image-rendering:auto; object-fit:cover;\" src=\"data:image/png;base64,iVBORw0KGgoAAAANSUhEUgAAABwAAAAcCAIAAAD9b0jDAAAAiUlEQVR4nO2TXQ6AIAyDgXjFXrIcEhNQEkXkbyQa/Z4GGU23MaV+vosuZsBjrQ3HGPTjEkiOOuVRAsD2TJdLzBJVAiSD39P9KACKTTAdomOuMjYly8c8RVZ8qQa5eo+mRvQyvmEpZlhPughiTYBU+YGmiZuaJJJT9tK948NDsHYnuEJqR34+j2MF2b2FmEwbq3EAAAAASUVORK5CYII=\"/></td><td style=\"padding:1px;\"><img width=\"28\" height=\"28\" style=\"image-rendering:auto; object-fit:cover;\" src=\"data:image/png;base64,iVBORw0KGgoAAAANSUhEUgAAABwAAAAcCAIAAAD9b0jDAAAAsklEQVR4nO2USw7DIAxEjdQrjg85HJKqpEEWH5c4uypvGWDyjAGRhz8BAMkygySAcUly4qZrcs72f8cXVd0SpLFbGbVp3ejrZ7ovoqokJbCbWGiuSDu536npM7nzyhUJUNZcq70BYPMk7cLZCY3HyenIk6Yc14SpehSP5MIkduuP3Eh/6BoF+17cGlsdl0PpigRDi9uNSCjdPW2j10LFdNneH/tg3z1VI7euKSqbD/aDVN6xSVDfAGC4vwAAAABJRU5ErkJggg==\"/></td><td style=\"padding:1px;\"><img width=\"28\" height=\"28\" style=\"image-rendering:auto; object-fit:cover;\" src=\"data:image/png;base64,iVBORw0KGgoAAAANSUhEUgAAABwAAAAcCAIAAAD9b0jDAAAAqUlEQVR4nO1UWwqAMAzrxCv2kvGQE5SVznU+Wj9EzZdMFpI0HdGPV4EX5BrMHCIFkC2EZOYOTLHDJfZpwcaBJwQuMgFIuMIo59eUTrW6VqzTPlsG7xk9iv1NE5zsrGLVdG2aoT49hg6d/TkZ32gyyuWU0vqt6+nXSDVk6NHlaX95AuXdm+djHdojcwuF63BHu/a1HP08O2eFMqi1A7qq/oZSp6TR54M+hBl2zUbv4IarLQAAAABJRU5ErkJggg==\"/></td><td style=\"padding:1px;\"><img width=\"28\" height=\"28\" style=\"image-rendering:auto; object-fit:cover;\" src=\"data:image/png;base64,iVBORw0KGgoAAAANSUhEUgAAABwAAAAcCAIAAAD9b0jDAAAAn0lEQVR4nO2UUQqEMAxEB/GK00OOh6xsgqG7LGuX5EPE99WCPtJ0GuDhJpCU1A2SNcY+ICnrpRldFPastBu+9g5IShnxLi3rqYb7kZE1fnhrzv41UpVeHD2tSVXgrrIMOHH1MzFYMAHJzQDQWjv9fsGfuLqgUknuqqQf7yoGQrZSWkPHbbpIvM4eGYpZ9fuXdVLt02+MwSWfvwpHFO7PDjfnxGAiHO/pAAAAAElFTkSuQmCC\"/></td><td style=\"padding:1px;\"><img width=\"28\" height=\"28\" style=\"image-rendering:auto; object-fit:cover;\" src=\"data:image/png;base64,iVBORw0KGgoAAAANSUhEUgAAABwAAAAcCAIAAAD9b0jDAAAArUlEQVR4nO2USw7FIAhFhT3iIrmL9CU1NQ0Pv6GznkFjRfAKSkof0ZD5l4s6qDMA6rcOTigz2mYbSkspcx+yXgZO+0z1cs8AIOdMRPnmmdOVJKyiqlvJ3Y6rqikKEWliI+PqIwlh1cfsFVDPYF6UoWmc3ln/gDV3ptbj45M7665ukgG0ErlKaT2oL8oLyu7S84b0XlAa2I47Fu86rMBjs2lOkYjI/819ZaeP1OEHcL6wrBY/R74AAAAASUVORK5CYII=\"/></td><td style=\"padding:1px;\"><img width=\"28\" height=\"28\" style=\"image-rendering:auto; object-fit:cover;\" src=\"data:image/png;base64,iVBORw0KGgoAAAANSUhEUgAAABwAAAAcCAIAAAD9b0jDAAAApklEQVR4nO2USwrFIAxF0+7xbvK6yBQURIytTcikj3cGnTQeND+RP5/g2EYAIFlKEZHxGwRVpytIAnDr1FgacTUG6XQMldHu8HJ3rAWQfGvcetsvd1onb79Rz2zQaL3uJD4wVvyN8dxGTKVIuCbN21U1x4h6u9687jbqLBW2GXzo6rHjpKVJxeQkWP07HhbgKTviZbHcraKExoJZrDmTCuPNmX35WS4bkFfKyWn7DAAAAABJRU5ErkJggg==\"/></td><td style=\"padding:1px;\"><img width=\"28\" height=\"28\" style=\"image-rendering:auto; object-fit:cover;\" src=\"data:image/png;base64,iVBORw0KGgoAAAANSUhEUgAAABwAAAAcCAIAAAD9b0jDAAAApUlEQVR4nO1VQQ4DIQhU/zg+Eh9Jk20kZosK1F42ndOGhXEGiKb0x5NBRMwM4BgjAO5QE0qMVP3+yiN3ROyz5lG8E9GssMx+iIrWmpowiydLT2/F28NWEJu3+NZ7vKGREWHYxLcuXBiDblK6lmkNXwcwLA0A9QB3T7EcUXxKn7DsvBvUm2BJzkZSoct5X1IsjLKVtdZjStkjM1mUnrzef/t4pCfjBefp8TBw9Zi8AAAAAElFTkSuQmCC\"/></td><td style=\"padding:1px;\"><img width=\"28\" height=\"28\" style=\"image-rendering:auto; object-fit:cover;\" src=\"data:image/png;base64,iVBORw0KGgoAAAANSUhEUgAAABwAAAAcCAIAAAD9b0jDAAAAj0lEQVR4nO2U0QoAERBFpf3F8ZF3PtIWmWSNdmRrk/NIjosb5/YHie6UnzNSQpv1c0Yt4zyxMAhrA8DvjUSUjcsuFCXjMX5ipFT+jK0G0I3xwWR7UPaQ8YyhtrGK0ESrjyxSQ0xKi7u6fK2GmFSkEkfTacZrYAfAzOJq/lBmDiG498Qh5iYJ3ede9jkd9uUG98Y94oduXvcAAAAASUVORK5CYII=\"/></td><td style=\"padding:1px;\"><img width=\"28\" height=\"28\" style=\"image-rendering:auto; object-fit:cover;\" src=\"data:image/png;base64,iVBORw0KGgoAAAANSUhEUgAAABwAAAAcCAIAAAD9b0jDAAAAsElEQVR4nO2VQQ7EIAgAqfGL8Eh8pE0k27QiVdTT7s6pae2IiAjw56tAxHwDC/M6Zs4GzLwhwFxEEqZMNuPFm1R0+qvPiyqPVmaq9+Fdej0TUUrJEdFImO1BAM1FBGu0q2JGpS6IaKeUnjohwgJSTHoDw4pUsrlTimVzmqUWrH+qofosTR78bPcOLmzoT/yxdFtJdE0j/Uk2p1lMfa7+poFFWHm72TxGvNXlMblw+BVOnyH4Q2fZ7P4AAAAASUVORK5CYII=\"/></td><td style=\"padding:1px;\"><img width=\"28\" height=\"28\" style=\"image-rendering:auto; object-fit:cover;\" src=\"data:image/png;base64,iVBORw0KGgoAAAANSUhEUgAAABwAAAAcCAIAAAD9b0jDAAAAl0lEQVR4nO2UUQ6EMAhECXfkktNDYpS4UbBduot/fX82k+mAkxItFndEhP6A3/DlnuNXUwA9Df8cZ24aEVFVABlZ1hSAqroUthB3GGWj+w1zj3y2mRnIm46xKx9N2X0PxmmtJZWeGCdIdrvrZiZMkVhWsieU1Z1YZKpFptqaJ7aVqQL7dVQIziZUJm1Hf12LCxg8gwsqYQMIIM1IeuS7awAAAABJRU5ErkJggg==\"/></td><td style=\"padding:1px;\"><img width=\"28\" height=\"28\" style=\"image-rendering:auto; object-fit:cover;\" src=\"data:image/png;base64,iVBORw0KGgoAAAANSUhEUgAAABwAAAAcCAIAAAD9b0jDAAAAlElEQVR4nO3U4QrDIAwE4KvsFc+HzD2kA8dkWJpq6hiMfr9KqeFMSoDbzWVmpSKJAen0C1YAJGEJklMZ5y6OVbiL2VoRVyoz694sGJTe8+kyOqnTUa2jA5JIWhVpRXF9tiUyqD0/4zZSuj2QlJRz9o88woO6NP3Oacw5r26uT6qxnZLwBemXRblw9TUj/3xwseLfPAEQvZuSqtns4wAAAABJRU5ErkJggg==\"/></td><td style=\"padding:1px;\"><img width=\"28\" height=\"28\" style=\"image-rendering:auto; object-fit:cover;\" src=\"data:image/png;base64,iVBORw0KGgoAAAANSUhEUgAAABwAAAAcCAIAAAD9b0jDAAAAlUlEQVR4nO2U0QqAIAxFZ/SL14+8+8gFihIFmWwFQedNkON1bor8vA8AkmbGAoAAqZ3wetky9rwBXhT2yyolKYFYuBQt6fW2ZVYqIqoaKa0MpdN3f+SJENL8n4rJMkvxF7dRb861FErAnLMvmy+mDJP2OvaR91YWLeYBl5rtA62W/RnXDbsO1araXymlVO2R4/8jN9gA0oTBYBRb1qcAAAAASUVORK5CYII=\"/></td><td style=\"padding:1px;\"><img width=\"28\" height=\"28\" style=\"image-rendering:auto; object-fit:cover;\" src=\"data:image/png;base64,iVBORw0KGgoAAAANSUhEUgAAABwAAAAcCAIAAAD9b0jDAAAAqUlEQVR4nO2TWw4DIQhFCekWr4vERdJEUtKMSn1N+jPnYxIxcwREooeHEACXiKrSDiJyUVikPmkUAFpwRR2ZRj+Ywo2qKiIrRillNo3GeproGINMubdhrlxoDkAAx1LP0Zd+jH3npAaAS5kpJdpBKyzfrZHSzs38vPpXsJdzBuD1fjcxaCjF0mb7RqpmugGe/cHn96TUiKXTjLx6phvg4w2ltUwPN/SfvAGkmMeA3Y8MTgAAAABJRU5ErkJggg==\"/></td><td style=\"padding:1px;\"><img width=\"28\" height=\"28\" style=\"image-rendering:auto; object-fit:cover;\" src=\"data:image/png;base64,iVBORw0KGgoAAAANSUhEUgAAABwAAAAcCAIAAAD9b0jDAAAApElEQVR4nO2UQQ7DIAwEbatf3E+uH5lKRbGoilIbOOSQOUVYjBZjIvLw8A8AxweSsg4AkkcHgCUjT10EDPWqEV20WNxmlK65ZSPOnb/tyyTV4Wrbozqohm5YbZhUWJonjs4YPdlwUST7UW0f85HxHa2JMu/qdVFzd1WNAXD3vjQpzezfcPvB9fM3KZIJbreQZtQmRTI/U6tKM2qr6trBJ+bslrwB/vPAfT2D5ekAAAAASUVORK5CYII=\"/></td><td style=\"padding:1px;\"><img width=\"28\" height=\"28\" style=\"image-rendering:auto; object-fit:cover;\" src=\"data:image/png;base64,iVBORw0KGgoAAAANSUhEUgAAABwAAAAcCAIAAAD9b0jDAAAAp0lEQVR4nO2VQQrFIAwFrfSK8ZDPQ+ZDpCULTTS6Kn8WRWodrT5iSn++ABExM4DDRg0EItLPNSkA9uhKb1ddhVFX8N/TOtmQRtZiS5suJr2Mvna42h6bw4nUZGYv9wsS3nZr1FpLKekUJJkfJXQL25u7AzZXkbtvXWlkVja37K0Ja2rIsNEa57M15dXJDe47niNuMdKVcKtso1dSD1wE9KT98L2SPssPRHHwP1606CMAAAAASUVORK5CYII=\"/></td><td style=\"padding:1px;\"><img width=\"28\" height=\"28\" style=\"image-rendering:auto; object-fit:cover;\" src=\"data:image/png;base64,iVBORw0KGgoAAAANSUhEUgAAABwAAAAcCAIAAAD9b0jDAAAAbElEQVR4nO3U0QkAMQgD0OCOcUgd0oNOECHHQbl8l9daa4E/t4VkVZnRqpoZs0tyTpwoABEN87b3onX63t1OlCTsGfk9xcpVaoeOrgYp3rjQWIli+YuvRJ/6ENetjhk6mpl+VE98ibax77g8DyorNvio+N8SAAAAAElFTkSuQmCC\"/></td><td style=\"padding:1px;\"><img width=\"28\" height=\"28\" style=\"image-rendering:auto; object-fit:cover;\" src=\"data:image/png;base64,iVBORw0KGgoAAAANSUhEUgAAABwAAAAcCAIAAAD9b0jDAAAAi0lEQVR4nO2UQQ7AIAgE6f4RH7k+kiZtaj0ptthenJMJm4UgILL4GJKqGuxoByTDTFX1NB313dphM7ulW0dcQDuccy5vf7Foh1NKMgOrcE4Cuoq6A2HjpdUMOItFTOaXpoxaBF6r5ewAHuSYZcpmEyATgEdUj2qkaR7xhVM3dAQg/6LHp/vPykIC2QGp9WHQ/fclRAAAAABJRU5ErkJggg==\"/></td><td style=\"padding:1px;\"><img width=\"28\" height=\"28\" style=\"image-rendering:auto; object-fit:cover;\" src=\"data:image/png;base64,iVBORw0KGgoAAAANSUhEUgAAABwAAAAcCAIAAAD9b0jDAAAAkklEQVR4nO2USw6AIAxES+MVh0OOh6wJBIOJqajVuPCtIMC0pR+Rn5/3AUDSCgACFNnkKiSDFWOctT1uOcutmwD6tfNQBw2klObCyOVpUNTM+i0Ax4DKA6hzlnOOF5X2lfI0LCXhV5XKF7CQpupZ619cVM5QHTxMnV4QPUQvKEYWGdt8ic87B+beifBr1G802C4LkUmbnAsJ5ygAAAAASUVORK5CYII=\"/></td><td style=\"padding:1px;\"><img width=\"28\" height=\"28\" style=\"image-rendering:auto; object-fit:cover;\" src=\"data:image/png;base64,iVBORw0KGgoAAAANSUhEUgAAABwAAAAcCAIAAAD9b0jDAAAAmUlEQVR4nO2USw6AIAxEkTuWQw6HHBMJBj8gLUZd+HZAMryWj3M/3wEASRG5OZEkgNtCmbGbYqszqikiR6MhTcmJpdSoJguSVLmNxRHZ6FTTUjiaiQBSaJpZh72JCSywznV/qWdn6o+hIQRVr2KMu5mpcVA9EXFBJVG9rUOIKdH3b2Aps62pekK+sVZeFJWmf7R2V/n3ft5hBjy2QO+XrzX+AAAAAElFTkSuQmCC\"/></td><td style=\"padding:1px;\"><img width=\"28\" height=\"28\" style=\"image-rendering:auto; object-fit:cover;\" src=\"data:image/png;base64,iVBORw0KGgoAAAANSUhEUgAAABwAAAAcCAIAAAD9b0jDAAAAnklEQVR4nO2U0QqAIAxFp/94/cj5kQt2IQZp0bKHoPMQUnl3sqnIz88BdWQhACywJtQcyqoqxyyW1FdPARDFY4H46IYmJtOi9e3VlAkMzayyzU2peSlbhjoc9N55hcObrTVVBVDKYO51P+0fy/Geyxcyvws+JzpGWE+WYznZc/IbISdb5RmvhA6p8pXQR3BfLG4smxwuNZ3IJuX58Fk28I6ldSUkYeEAAAAASUVORK5CYII=\"/></td><td style=\"padding:1px;\"><img width=\"28\" height=\"28\" style=\"image-rendering:auto; object-fit:cover;\" src=\"data:image/png;base64,iVBORw0KGgoAAAANSUhEUgAAABwAAAAcCAIAAAD9b0jDAAAAjUlEQVR4nO2TUQrAIAxDi3fUQ+aSHThWCqvORdmPe38WU9OoIj9bkHPWyvqOABixRADgbWqktI6tI3uEdqxIDq43O7NR6oWvW5EZXCPxVJQ5GnwwytTq2JeVUs5tjzuDKA1UwuVQDnDiDgBexKpOFhonrwjOhW/KtFv/wccf1ixKfcck36PLr0jY8WVvDj8IM+J9qbqEAAAAAElFTkSuQmCC\"/></td><td style=\"padding:1px;\"><img width=\"28\" height=\"28\" style=\"image-rendering:auto; object-fit:cover;\" src=\"data:image/png;base64,iVBORw0KGgoAAAANSUhEUgAAABwAAAAcCAIAAAD9b0jDAAAAt0lEQVR4nO2UQQ7DIAwE3YovmkeuH0mlWEWWCS64HDMHlECYLA6E6OE0r5WHmPm2R1sRqbXa0fLTCGCUdpxuNWlrzfWIiLZ6MVJiY8+oiWaWPQC0CzoFMzdDXNyk9Iwa37Wry94mvWxiWoWqAeRjYpjcXxbMfQdJ4z2UqQDmH+Svss7ILz9dFkpIVyhBIsX9O/KlhNnnt8TqMsvoCucszLz9x8I8qR3ak9Ll7efd7Vk9VMmT+kApPqx9/EZCrVDJAAAAAElFTkSuQmCC\"/></td><td style=\"padding:1px;\"><img width=\"28\" height=\"28\" style=\"image-rendering:auto; object-fit:cover;\" src=\"data:image/png;base64,iVBORw0KGgoAAAANSUhEUgAAABwAAAAcCAIAAAD9b0jDAAAAf0lEQVR4nO2USwrAIBBDB++YS8ZDptAyxY39SMSNb6t9JGM1YrMcACQlAejtKQPSB92g9Atl+MtaqycCAJ2Q9Bgj4joiSTYjMqZTqsTWnVncFhNN8S8xy7I/idl9yjTxdkGnTPOf0RaTTXHbNDVqLL0F55Nx4y8eOdApeTfxnwPft6Vrttud7AAAAABJRU5ErkJggg==\"/></td><td style=\"padding:1px;\"><img width=\"28\" height=\"28\" style=\"image-rendering:auto; object-fit:cover;\" src=\"data:image/png;base64,iVBORw0KGgoAAAANSUhEUgAAABwAAAAcCAIAAAD9b0jDAAAAn0lEQVR4nO2UUQ6AIAxDJ/GK5ZDjkJhAIItE3IAfou8PiF3rBkQ/2wOAE7HAzADG5eIzZl0WvlpruZhNNL7FzCWZ2SyKZyOD8TV/hpYrYolNiEnYQVHy2v2jcyZ7EkKQxYjIey83bWbRpM7X1zywGkZul4bst913NE1r1s1orcyO0qjBXiF147bUD6zqea30g5+dszrzAOqch0T/K/o2FxBwAitCnZAEAAAAAElFTkSuQmCC\"/></td><td style=\"padding:1px;\"><img width=\"28\" height=\"28\" style=\"image-rendering:auto; object-fit:cover;\" src=\"data:image/png;base64,iVBORw0KGgoAAAANSUhEUgAAABwAAAAcCAIAAAD9b0jDAAAAj0lEQVR4nO2TUQqAIBBEJ+iK4yGnQxoYLlFasu1HQe9T87kzJPDzMwZJSbkgiSQeoqozJDW/nAaNOWcAS8HuAJBSshVnZO7ybovNBuYRo83oGeoASauvudXr1GO8zn5Fs8dHY6Kc3Dhv9S7zI1/wW6Mn+G3LiIL1ZwgLzmoMC84vGfneHlGfTaQRRRpsfCMruJLSSORxxIEAAAAASUVORK5CYII=\"/></td><td style=\"padding:1px;\"><img width=\"28\" height=\"28\" style=\"image-rendering:auto; object-fit:cover;\" src=\"data:image/png;base64,iVBORw0KGgoAAAANSUhEUgAAABwAAAAcCAIAAAD9b0jDAAAAhElEQVR4nO2TUQrAMAhDo3f0kvaQDgYdfnVxOMag79cSYhOBTZGIcPfFA60qruUeipoZenH3OGl2CmCMgS7MjLEJQHjRS05E+te/RfFC6FoVbUvJZkRM80E6rRZevxF1buUakeg5fJsRkbdErZ+t8WWS9Ti7u71OyqmniPo7H/Rvbn7FAVT+WtD2UDSwAAAAAElFTkSuQmCC\"/></td><td style=\"padding:1px;\"><img width=\"28\" height=\"28\" style=\"image-rendering:auto; object-fit:cover;\" src=\"data:image/png;base64,iVBORw0KGgoAAAANSUhEUgAAABwAAAAcCAIAAAD9b0jDAAAAsElEQVR4nO2VQQ7FIAhEqXccDwmHpIkkzU9VBNv8Vd8SZDqKWKKPP8PMqsrMqarDT6uqiAAQEYtIw68qTg5AH+FGn8rtHU3oV+WK74vSCACbuuq2aNOvrvo+20qZFZgFv9GWTZhFO7XlMrsMUadB7BbfzJbnoqb7puiQMg6njj8uKqsB3xEN0nfJIzKItib3MKpbsDn+PJnu5ct9LM3emmbfqLU+6SSZr4vsr+WDXuEEOsCemyF43PMAAAAASUVORK5CYII=\"/></td><td style=\"padding:1px;\"><img width=\"28\" height=\"28\" style=\"image-rendering:auto; object-fit:cover;\" src=\"data:image/png;base64,iVBORw0KGgoAAAANSUhEUgAAABwAAAAcCAIAAAD9b0jDAAAAl0lEQVR4nO2V3QqAIAyFj9Ir7iXnQxZYrJGWs1YU9F2Elh7Pfkjg5+cNUGbMENHm61CuZuaU0e+Z+byFsZ/SKapODyQ4o6eFBsKetDwB6FSklOaDl/2hrtCNOL2UaI2OvZ1NIxbFiB7crAnS7Z6Bs3t9SNlsLg5GUdGyNGa0KLrF+7X6wNbtNxZdCOuwhtZy+yEd3BlPMwEfdPQsKn4ANgAAAABJRU5ErkJggg==\"/></td><td style=\"padding:1px;\"><img width=\"28\" height=\"28\" style=\"image-rendering:auto; object-fit:cover;\" src=\"data:image/png;base64,iVBORw0KGgoAAAANSUhEUgAAABwAAAAcCAIAAAD9b0jDAAAAm0lEQVR4nO2USwqAMAxEg3jF6SHjISMkILUfP+2sxLcT7Oskmoj8fBlVNTMABBccy2h61+cuTq6giBao6tQd6u2j6SSLSXDVMYUCgLrwWameja/U6+0bm3PcFBWklEaSwg/XHycqILSi6ZU+i7wnusEcsEAdGUuKfpzBpPBxaia6nojliTr3Fo/MEbDJvwqd1TcVtlgFzHUl32QHzsnpMRqcUq8AAAAASUVORK5CYII=\"/></td><td style=\"padding:1px;\"><img width=\"28\" height=\"28\" style=\"image-rendering:auto; object-fit:cover;\" src=\"data:image/png;base64,iVBORw0KGgoAAAANSUhEUgAAABwAAAAcCAIAAAD9b0jDAAAArklEQVR4nO2VQQ6FIAxEiXecHnI4JCY2kgoKrZ/kb3xreIxtwZQ+/gUAks7Fm9P4W6QrAIphgR1Xo0JSS4GDBcYetXulxaChdDPJ3huOibsgWoGAFzOjpaq9IyUiOedJBGMfSXGm8xsbtoE0xCgBzxp5emqrP0nqpx4sIiNpjncmH0xWl7svehrS8OTDMfZv7ihNkPAtauj3N1c+bKz0b8ebl+kpsm3L4r/AR/KxA04NUuBFwLbXAAAAAElFTkSuQmCC\"/></td></tr></table>"
            ],
            "text/plain": [
              "<IPython.core.display.HTML object>"
            ]
          },
          "metadata": {},
          "output_type": "display_data"
        },
        {
          "name": "stdout",
          "output_type": "stream",
          "text": [
            "Example pixel values from train_loader (continuous): 0, 3\n",
            "test - showing original continuous images\n"
          ]
        },
        {
          "data": {
            "text/html": [
              "<table class=\"show_images\" style=\"border-spacing:0px;\"><tr><td style=\"padding:1px;\"><img width=\"28\" height=\"28\" style=\"image-rendering:auto; object-fit:cover;\" src=\"data:image/png;base64,iVBORw0KGgoAAAANSUhEUgAAABwAAAAcCAIAAAD9b0jDAAAAlUlEQVR4nO2U0Q6AIAhF0X/Ej8SPvG24mkunRthT58nUHRANop8fV0I7xUoZZ8VBCuA2M/B2o4ZupvW4/uxKU0pkgNVbAlxhoIxDPoOZAYgIOYJhmtFgdE6QzoM7V1NEptWMNrXhj/jw0nlHNaF4pil6P21beAU2HZyXjXG6w1DEOF6etj6LlCrWH/ySNOccQqedf8oB0ZB0vGFlXc0AAAAASUVORK5CYII=\"/></td><td style=\"padding:1px;\"><img width=\"28\" height=\"28\" style=\"image-rendering:auto; object-fit:cover;\" src=\"data:image/png;base64,iVBORw0KGgoAAAANSUhEUgAAABwAAAAcCAIAAAD9b0jDAAAAqklEQVR4nO2VXQ6EMAiEwewV4ZDMITWpWdLtr6skffF7qlgG7GBK9NJHEma2J8xMROgJ9tUqCFO0xLm+2ayIuFZdqQj+J2q/yV5p2umnGQXAzHUlikU6BxKguN92qSafU1qlyNMdPu21dT228WvvDgCtdXwbi1Is9sBxDvRn8pvmiMjYpfxTVPVSpwVeoHniqgqg2ymAZloziIQ/ck+0yD/vlUIibHhf1nAAOMHDgcu0BR8AAAAASUVORK5CYII=\"/></td><td style=\"padding:1px;\"><img width=\"28\" height=\"28\" style=\"image-rendering:auto; object-fit:cover;\" src=\"data:image/png;base64,iVBORw0KGgoAAAANSUhEUgAAABwAAAAcCAIAAAD9b0jDAAAAdElEQVR4nO2UQQoAMQgDg+wX/WT6yBS6964Wy/bQOctgiAhcTkCSu08GLGuc6xYhKQmFuLskkvMxW1C31nB0dozeI1LL9h7Jbjukxb2vt18m9fLsCPee2DS7psWlxWgQV9ufv46xC92VHcDzOfGWXnyhFyTpVI9P3NeZUq0AAAAASUVORK5CYII=\"/></td><td style=\"padding:1px;\"><img width=\"28\" height=\"28\" style=\"image-rendering:auto; object-fit:cover;\" src=\"data:image/png;base64,iVBORw0KGgoAAAANSUhEUgAAABwAAAAcCAIAAAD9b0jDAAAApUlEQVR4nO2USw6AIAxE0XjFcsjhkOOCSBAsUsS4cVZG6KOfAed+fSUAJAHMhPKQiNxuXnuI1gS39rIcyv/EjxCCe1h1rZ4+qMNpyFklIgUCQGxFOsycLCvi5aqNSwVX12GGQjdTaoLZp977aS6GnsV4+WwGFMaYAMXZvIbpU4EWRK2biwbNB6UGL9fhvdep1sjbyrm4qPyOD07mFp1eE3Xrr1e1A1qGc7DdHFwSAAAAAElFTkSuQmCC\"/></td><td style=\"padding:1px;\"><img width=\"28\" height=\"28\" style=\"image-rendering:auto; object-fit:cover;\" src=\"data:image/png;base64,iVBORw0KGgoAAAANSUhEUgAAABwAAAAcCAIAAAD9b0jDAAAAmElEQVR4nO2TUQ6AIAxDB/GKXLIcciaSEKKuYbgvw/uUdesKimz+QClFVa0jS5W/zAOw0rTYdmqti15U1bJDkjFpGiID4G6KS0PW5yPdi/eRpGDdJil4YSZNYjMHvxjSlHdsW5OagygBjEpfgiQ4gtgkcnaz1lwDaN9TYtrFPy0gjWcsYpPFycxTy96mkVt34gOV4fY3YnACmVajht2xpzkAAAAASUVORK5CYII=\"/></td><td style=\"padding:1px;\"><img width=\"28\" height=\"28\" style=\"image-rendering:auto; object-fit:cover;\" src=\"data:image/png;base64,iVBORw0KGgoAAAANSUhEUgAAABwAAAAcCAIAAAD9b0jDAAAAgklEQVR4nO2UXQqAMAyDY+/YHTI7ZAQV35ztmAzU7zkNSfcD/LwTd5fk7g3NkjWVdEwul7OWcjwD1lobMnvCNL3NnbbSUqbBmIY8E7qjI+mwmABIBmM+0h3Z+sHuNufOY3vvkkgG9XaraH9InaYnpRSMTVoz27S4dLJpCJIdx4WvsgLrJ0/oidp+HwAAAABJRU5ErkJggg==\"/></td><td style=\"padding:1px;\"><img width=\"28\" height=\"28\" style=\"image-rendering:auto; object-fit:cover;\" src=\"data:image/png;base64,iVBORw0KGgoAAAANSUhEUgAAABwAAAAcCAIAAAD9b0jDAAAAq0lEQVR4nO2UwQ7EIAhEsfEXx4/Uj2QTSUxTWxx2PTX7Dj0YHAaEivx5A7XjxwC4nGQnWlVFpLW2jEkpsR5V1bdpMbPTewBoZxmzbE7AwsjK2qxE4b7NTOWZsprBUkpMFIAZOb++adnXn4rHfvnIF6A7tfu2Alb1OJGNKKF4hBTnLv8qio7spRLzGya2Qrv+BuGeIjLwmRQ9q/s7GmAsAvNWmRQdhW8wKC/nA3TPwXeL7mUfAAAAAElFTkSuQmCC\"/></td><td style=\"padding:1px;\"><img width=\"28\" height=\"28\" style=\"image-rendering:auto; object-fit:cover;\" src=\"data:image/png;base64,iVBORw0KGgoAAAANSUhEUgAAABwAAAAcCAIAAAD9b0jDAAAAoElEQVR4nO2UUQ6AIAxDK3fsJeGQmLiAE3Uzsvjl+yIha7puAPz8mOQNREGyNsJEqyLGbM65niDpFi62TQClFMlhr1msKj/N3rIO180h2ddiUw797JIMp0PXT9J0RLUvkrrl5+oXDHMX3dn14tVw+p69FEVrfPAlupEPF6qDSFE0s1MT+84sj08ujHrzxaQZUflZgpNFm1iwKLYQ4s1+xAoys7tj2NkcAQAAAABJRU5ErkJggg==\"/></td><td style=\"padding:1px;\"><img width=\"28\" height=\"28\" style=\"image-rendering:auto; object-fit:cover;\" src=\"data:image/png;base64,iVBORw0KGgoAAAANSUhEUgAAABwAAAAcCAIAAAD9b0jDAAAApklEQVR4nO2UQQ4EIQgEnY1fbB/ZPNJNMG7MuJgROU6duFgCgim9RHP5jgFogYiQFJEWJ5+LZDXY1tF2zdL8MMFfvTf+lpzX2Ylys/g7SK3XStAD1Ugy2Fgdr2kB4Nz4maX+MbY2qvYcSylu+2VJG+NItQDA9k18sDmewUB/qzXOEYZi5X40xeiJkxzvWEjzln38SU/h1IGYDebgjfwToA0N072kHb5snCknzp18gAAAAABJRU5ErkJggg==\"/></td><td style=\"padding:1px;\"><img width=\"28\" height=\"28\" style=\"image-rendering:auto; object-fit:cover;\" src=\"data:image/png;base64,iVBORw0KGgoAAAANSUhEUgAAABwAAAAcCAIAAAD9b0jDAAAApklEQVR4nO2V2w6AIAiGofWK+JD4kLbJcmSGJy77rlgi/BxmAD8/ruC4K2XEjpn1tETEzKkFZ3bDcUaM8rHI78PqWqVIbO0wqjGpiO980t+JoKS8m6Vph2bWs5ujuvNOE0LoK4Vnvwy+Ro/jGiuZMcZRjQaLa7QzvWnI3LDdiMlLJru3EgCcC4fViIdxVm0luMB3N2cLR+OsPD+IEz+IDrJMbhPf5AIdyCwBp+BTVAAAAABJRU5ErkJggg==\"/></td><td style=\"padding:1px;\"><img width=\"28\" height=\"28\" style=\"image-rendering:auto; object-fit:cover;\" src=\"data:image/png;base64,iVBORw0KGgoAAAANSUhEUgAAABwAAAAcCAIAAAD9b0jDAAAAs0lEQVR4nO2UUQ7EIAhEWbNXHA85HrKbaEJMLYhud786X4Tqy2ABkUd36zU9AaCU0gKNRUSDZZE8bAFYdkqyv9Zb03zOecEyAMeRVkAySpQOatWoXOuACfWNLJtlNeK7ULOnfLIuRIqyflFyiKVqio5CWZ9pu72T9WHbpjjQb5TGVLzv9Onn0KDafrkTio74E6gEdVzNSWOxyp/6t4Meh/q0Cdd6DtXRxnqea+Se1vaj/+kDOFLfcgJacfcAAAAASUVORK5CYII=\"/></td><td style=\"padding:1px;\"><img width=\"28\" height=\"28\" style=\"image-rendering:auto; object-fit:cover;\" src=\"data:image/png;base64,iVBORw0KGgoAAAANSUhEUgAAABwAAAAcCAIAAAD9b0jDAAAAvUlEQVR4nO2UXQrEIAyEs9IrjoeMh0yhoUH8bcRd9qHfo+I4JmOIXoYws4gwM+1VFBEAexQBqMdtinTbXFAM9GNktT9Hb2MsZzVJKTluk07TLQ+Go+hyUbjLtXJ1X5ioZbBeL8wePdG8XhbVdLPYqBxTjDFSRX1NoBn62J7iV8KPVuvD9JgaxEXvEY/ulyqAxQAE4J4M3Jqhdn46Dz8DXQB5Z1XChGKMvj+qFN+xGX6fU0X7o5Z15XmwXv6eExbA6WbhEq/SAAAAAElFTkSuQmCC\"/></td><td style=\"padding:1px;\"><img width=\"28\" height=\"28\" style=\"image-rendering:auto; object-fit:cover;\" src=\"data:image/png;base64,iVBORw0KGgoAAAANSUhEUgAAABwAAAAcCAIAAAD9b0jDAAAAp0lEQVR4nO2TWw6FIAxEC3GLsMhhkTWhsSGiSCv3fnm+CNDppA+ij4//k1ICwAcA9N6vyB2oMPOl7jbjUc455/ZJ750eAZwciU2PLm4iNZm5pjg6M59MibZUVVEMllKssXTptB2sQew2oy6HtoIem70v7cxgPJUweOvdaUFDeAg0cFrTZd2nNwXt8W/RHaYtivQDoul3qSwTTZbVjJOiJp7XVFg5Rj52wFK7fDHTGCoAAAAASUVORK5CYII=\"/></td><td style=\"padding:1px;\"><img width=\"28\" height=\"28\" style=\"image-rendering:auto; object-fit:cover;\" src=\"data:image/png;base64,iVBORw0KGgoAAAANSUhEUgAAABwAAAAcCAIAAAD9b0jDAAAAqElEQVR4nO2VUQ6AIAxDF+5YDjkOqQmLZsrAMf0wxvdldKul4CT6+RQAmHmpcOWu3GIR18VRcTcrPKAIgIi0bkSRVb8onl42nQCUTa0o6E2bEOWrNikwn6aBU7kopZgFvftdPKntNRNO/XbaxNO4bnqNHqcx0rtEUSPKOXsjgmP3I18qNt12c8cn/wLpbEUHJ9RFG0J8mpgr1SPm7uQnNQblR2Km/EMbK6IbDSB4UIx4AAAAAElFTkSuQmCC\"/></td><td style=\"padding:1px;\"><img width=\"28\" height=\"28\" style=\"image-rendering:auto; object-fit:cover;\" src=\"data:image/png;base64,iVBORw0KGgoAAAANSUhEUgAAABwAAAAcCAIAAAD9b0jDAAAAbElEQVR4nO2USwrAMAhEnbmjl9RDWugn6xHSFkLeKovxEVE02/xFRFRVRChhttR+YrOoB+Wz0KV3ATC5fRGKucy8Hkr7FKWt+VCPrijFcivVgsstfwu+cfEoSm0u7j6OqWinqM5MAGNcm685AO/PNQFrZ2MlAAAAAElFTkSuQmCC\"/></td><td style=\"padding:1px;\"><img width=\"28\" height=\"28\" style=\"image-rendering:auto; object-fit:cover;\" src=\"data:image/png;base64,iVBORw0KGgoAAAANSUhEUgAAABwAAAAcCAIAAAD9b0jDAAAAtklEQVR4nO2UUQ7EIAhEsdkrDofUQ9JEoyF0pWrd7E/fhzG2GWEAiV7+AoAYoyhipvd/cIQAtH07TxUniND7ICJNxazrxJyvk+MiktksCkBEtKGDfAbVy+app1TTN500EnhwFE3RdZMx83TUyG5+LX0bhP2NgSq9UMYbitGbdfHreElxPBfd0LxXJjoBqisdiqfm8OgpOsNT7mtyzDwx+8gjoC0z16SUroo08vKXVUvvebBfaIYTUguwmQ3P/ysAAAAASUVORK5CYII=\"/></td><td style=\"padding:1px;\"><img width=\"28\" height=\"28\" style=\"image-rendering:auto; object-fit:cover;\" src=\"data:image/png;base64,iVBORw0KGgoAAAANSUhEUgAAABwAAAAcCAIAAAD9b0jDAAAAm0lEQVR4nO2UQQrAIAwE1/xxPxkfaUFRpNQQU0+lczQ4jdEt8POzhqSqloqqksRLtOtmXnm1G2eLVtoJ4kY8QdKoIrZnjPixKispgJwzQohRW0nHNPe+WsxbHs8g0mm4Tdk1jssxpGlVaKfLldbdbRopLfe60jln1H5MLtgZKweSGguS7EpxnOIbqPiN/iAJ9jkppfsvI7vSb3EBsuaygmCf1XoAAAAASUVORK5CYII=\"/></td><td style=\"padding:1px;\"><img width=\"28\" height=\"28\" style=\"image-rendering:auto; object-fit:cover;\" src=\"data:image/png;base64,iVBORw0KGgoAAAANSUhEUgAAABwAAAAcCAIAAAD9b0jDAAAAoUlEQVR4nO2T0Q7DIAhFodkvXj4SP9IlIyWkU7tRHpas58lqPF6FEt3clMLxA4CqxpnWmg1EBECcWfBYL5uIiHrvfox5F3Z+twDwDS71weEeInIunRHt8QDmTw3nqGp/cajBVUw6XNpyxvVbc07qGYdvuiWMnm7WVVwekxJJvdzDDr3USbO6fw0ANw6L/gNG2lu98hfCHrPe2P/s4ka9MccTiLiVpB8TgcUAAAAASUVORK5CYII=\"/></td><td style=\"padding:1px;\"><img width=\"28\" height=\"28\" style=\"image-rendering:auto; object-fit:cover;\" src=\"data:image/png;base64,iVBORw0KGgoAAAANSUhEUgAAABwAAAAcCAIAAAD9b0jDAAAAs0lEQVR4nO2UUQ7DIAxD02pXNId0DsmkoKJMK1CifPZ9FuKY4CLyks0xWiApImok9CFZHU09U7EDIC4KoKmQhJFgmebU1yfo1rvDAuhjiejSiv+/e7/L+X4ma22mPVKqGrwumKNWXMdsq+MqmIjGcwa7n1FyffIkBbpO27oY747kDFeG5i5u53su1eenK6V0E2tRVe0FyXA8NT/T7d+3PiDyIODX1DKnx24Dkv412Db4IiG+riZ4u5S6IAYAAAAASUVORK5CYII=\"/></td><td style=\"padding:1px;\"><img width=\"28\" height=\"28\" style=\"image-rendering:auto; object-fit:cover;\" src=\"data:image/png;base64,iVBORw0KGgoAAAANSUhEUgAAABwAAAAcCAIAAAD9b0jDAAAAmUlEQVR4nO2U4QrDIAyEb9JXPB8yPuQVJpNCjdXQwdh2vySBz0uiAf76ZpkZSS+bYtABETHomIhLqJkFbk1jR1U3Q+HHSykISFK3fDOTFCGSlNQ1610Wnz4nat+8RPPSDvMTe3iJY9eOvho657w8Kz11dlfjl21dU8Xd+U35Yo0LT0vQGSLCW+rjoZx7qglv0BYYUXA/4Ve0A2gpVOht0I/yAAAAAElFTkSuQmCC\"/></td><td style=\"padding:1px;\"><img width=\"28\" height=\"28\" style=\"image-rendering:auto; object-fit:cover;\" src=\"data:image/png;base64,iVBORw0KGgoAAAANSUhEUgAAABwAAAAcCAIAAAD9b0jDAAAAo0lEQVR4nO2UUQrDMAxDld1ROaR2yA4cMFlDsrrxx2B7Xy04imTXBf78LiV6QBKAp5EgKomkv9Za28NCfQXJY0IzHkbSsWRLkcbpjr4hMUVZN8cmhLOzk5j1NKYIYDYWtx8OjmE+Lalbvjl0mMTJjt90U3EkweZIvk3tzGdGKHi5UuSRS7lU//hY4Xn9t7QrSlt25KJuBXIU+b7+maJM/Ia+jhcENCcBVRCy3QAAAABJRU5ErkJggg==\"/></td><td style=\"padding:1px;\"><img width=\"28\" height=\"28\" style=\"image-rendering:auto; object-fit:cover;\" src=\"data:image/png;base64,iVBORw0KGgoAAAANSUhEUgAAABwAAAAcCAIAAAD9b0jDAAAAmklEQVR4nO2UQQ7DMAgECX9cP3L9SCq5ikXUltSEQw6Zq60JXggiD2cAIGkDAFICd6OZkSwwAvC6mkptvUCNj2ddvXepgiPN1Rz1n0urZWpwhoHUwtTbT0hP+xZLfaDe3lpLzoN94H+tZNzmXLNpV/cAfzcqlmogDVKLA1VZ5+r88lsCBbvVjr2qWaxwIv+BvPHNHKMa3cNdeAFJqNdJGD9JbgAAAABJRU5ErkJggg==\"/></td><td style=\"padding:1px;\"><img width=\"28\" height=\"28\" style=\"image-rendering:auto; object-fit:cover;\" src=\"data:image/png;base64,iVBORw0KGgoAAAANSUhEUgAAABwAAAAcCAIAAAD9b0jDAAAAsklEQVR4nO2UUQ7DIAxDo2hXNIcMh8y0oCE6aCCIn0l9X1VRXceOIHq4AYCqAqAg7JyJCB1Ht2yS43RPboKIqCqdRY29b19ORTlnJxYA2YjNji7WsmQtw+h59T9Xm8mI9Skjp9VmfX9XJkdtppR+cuzNckg01sx0pYaBhMfP5sjpAUapaxV8axGR+tyfBhSdrQRQpt6+bj5UiZYzt6I2clODvCjablIJgY4glsOK04c/4Q31289njhDOjwAAAABJRU5ErkJggg==\"/></td><td style=\"padding:1px;\"><img width=\"28\" height=\"28\" style=\"image-rendering:auto; object-fit:cover;\" src=\"data:image/png;base64,iVBORw0KGgoAAAANSUhEUgAAABwAAAAcCAIAAAD9b0jDAAAAn0lEQVR4nO2UUQ6EIAxEZ81esRxy5pBsQmNCFkW75Wvj+xR5jtAWePhPzIxkHTCzBS6SLvLnJAM6nri+vhfLWE9cKdiSrjRiTxrass2X/bAkrZQ6Uen6fwfwvnxDUn9L2dRmNnbOndp6zZfHqnajpFJKKvJhv07ybgiyuBLQxQw3++Vkyc4Ba/SDKqurLVSomFIz9JeO0n7FatzX4QH4ALoE11a55qALAAAAAElFTkSuQmCC\"/></td><td style=\"padding:1px;\"><img width=\"28\" height=\"28\" style=\"image-rendering:auto; object-fit:cover;\" src=\"data:image/png;base64,iVBORw0KGgoAAAANSUhEUgAAABwAAAAcCAIAAAD9b0jDAAAAnElEQVR4nO2UUQ7DIAxDA9oVzSHNIT2paNXUtdAEvrb5CyHlJSQxZn99iUgCWEkEIMkblYfQQOG5TwSQUhpm8kFLKYfLWmufaEOo6z4+IpKSglxdREoiGXk+Ntyd9jmgJK+I4UzWGne6knfskPpL2g7v1e1p6ksO6Kf2HKeOmBK3zkx5PzarvJxosUoXf69NcZvOzOphfsVNZT+hJ1QKX+NJXa9pAAAAAElFTkSuQmCC\"/></td><td style=\"padding:1px;\"><img width=\"28\" height=\"28\" style=\"image-rendering:auto; object-fit:cover;\" src=\"data:image/png;base64,iVBORw0KGgoAAAANSUhEUgAAABwAAAAcCAIAAAD9b0jDAAAAuklEQVR4nO2VQQ7EIAhF0cwV8ZB4SCeRhNAqirTLvpUi/ABRBPh4m+R3xU6tVSx6HaQNEFFECDuWKCMOLohIh8k2LkpKgstExKmutwl0DdZhfESdg2Rplo4Ok7V4bpJFxKMC46JgMy0lj7XfLIsbbiWYV2l3xVIKPKSdtNLy/IUf2KJFaUxBb6V2S459NpOFjLdo4XpOOLtSp4p5NDmnZOmAn7bjbNwJ1kDyyCXrQGYoN4R78sL/8QEh/mJZznrQ+iVGAAAAAElFTkSuQmCC\"/></td><td style=\"padding:1px;\"><img width=\"28\" height=\"28\" style=\"image-rendering:auto; object-fit:cover;\" src=\"data:image/png;base64,iVBORw0KGgoAAAANSUhEUgAAABwAAAAcCAIAAAD9b0jDAAAAiUlEQVR4nO2USw7AIAhECekV55J4yHZBpNGFgp+kaXw7IoxjAIkOhz8AQETuEgAxFRExOVORjIUxxaq4MmVHXrMorTUubidcVZwyLhce0TQtpzDF6V7MtAEeqNG+N/zynKelomlRS1+6k88UxLNIHBWNbb0TXeLPDz96E0oDeN4ec7rFpv62ntQHT9qJt3XbXLMAAAAASUVORK5CYII=\"/></td><td style=\"padding:1px;\"><img width=\"28\" height=\"28\" style=\"image-rendering:auto; object-fit:cover;\" src=\"data:image/png;base64,iVBORw0KGgoAAAANSUhEUgAAABwAAAAcCAIAAAD9b0jDAAAApUlEQVR4nO2UQQ7FIAhEkTtyyfGQNJHENL9CkXbV/LcyKuMAKtGf76CqIpLfz7c7TO4qqqoAHon23tNG6UZUBt5JRXRwTRNAUGiObdpgK/eUzaUdc1pUhNNfW/VieTk7tZaJF7ukJwD83AHLfTt9dcAgroyLiJzjlwRFaMkz5rua49ZSsSkyBWUqET8H3pXL3CeuKb7sNANTiTe/GBrdf/SZ0vc5ANmhtndbqsAQAAAAAElFTkSuQmCC\"/></td><td style=\"padding:1px;\"><img width=\"28\" height=\"28\" style=\"image-rendering:auto; object-fit:cover;\" src=\"data:image/png;base64,iVBORw0KGgoAAAANSUhEUgAAABwAAAAcCAIAAAD9b0jDAAAAsUlEQVR4nO2U0Q6DMAhFkX+kHwkfiVGypnNIV9jLst0HY2zuKUV6Af76Cm3xsqpevoiIPe0lI70XESWhzBxwk1AAICJDvG5QLZaZ3drzRH02j9wMVL1j9oZkOkCnuR/cLdZdxYBoBnce4yHFAJoecpxCV4kQQCvCot89Csae6cSs9UfD8b5cs3ejTwdca01EetV06jBvk+Rcy6dkmtBwFz8ZpnAT0iUiPNpn/6TKgl/RDu7sLRewwFZWAAAAAElFTkSuQmCC\"/></td><td style=\"padding:1px;\"><img width=\"28\" height=\"28\" style=\"image-rendering:auto; object-fit:cover;\" src=\"data:image/png;base64,iVBORw0KGgoAAAANSUhEUgAAABwAAAAcCAIAAAD9b0jDAAAAeklEQVR4nO2UUQrAIAxD296xHrIeMgNl+10KdUPwfcdY0qjI4XswSB0xUufuUkhEZIe1V0UfSDnuDiAiijOVTKxWa5cwzWZqP/RpMisFgHQ3RtRamwkUj+yjVeQTsMqb9zNVUvekqaplk/a7/0wBLGu6w6L6il/1IBwXHF88/IP2jNoAAAAASUVORK5CYII=\"/></td><td style=\"padding:1px;\"><img width=\"28\" height=\"28\" style=\"image-rendering:auto; object-fit:cover;\" src=\"data:image/png;base64,iVBORw0KGgoAAAANSUhEUgAAABwAAAAcCAIAAAD9b0jDAAAAoElEQVR4nO2UUQrEIAxEo/SK8ZCTQ24hBYlbiJrmYxf6vgR1nIxRopeXG8wM4DMCgJkpBm5ylun26k+LSGtNFHtkvHYeK+324wl8YWOlh+WTurY52hyCsCpu2Qx2AiuU6zfzunh8DmlRLPZWpV8A6U8AJlNnWVlXtEKleBvrusFrLCK+4gQovd6EHDHKbXXlMV1xfaZb/8jhaHXFdbl/4wSo6fBLUhyHzwAAAABJRU5ErkJggg==\"/></td><td style=\"padding:1px;\"><img width=\"28\" height=\"28\" style=\"image-rendering:auto; object-fit:cover;\" src=\"data:image/png;base64,iVBORw0KGgoAAAANSUhEUgAAABwAAAAcCAIAAAD9b0jDAAAAZ0lEQVR4nO2U0QkAMQhDJTtmSR3SAwco8dCf0vedxjS0mj3uwQtdD1FHUveFIooI0a6XdIUsVpKSnDSNqnXYdAWSrVpV3D0zlQZgC6B7YDhpyP8KduH1t0jtqWJjNlpqcQPgh+nDjnyAMS7/Fe7drwAAAABJRU5ErkJggg==\"/></td><td style=\"padding:1px;\"><img width=\"28\" height=\"28\" style=\"image-rendering:auto; object-fit:cover;\" src=\"data:image/png;base64,iVBORw0KGgoAAAANSUhEUgAAABwAAAAcCAIAAAD9b0jDAAAApklEQVR4nO2UUQrEMAhEbekVzSEnh8xCBOlujNjGfuyy7ysoTsSMIfrz3TBze4eZlxQBNAsAkfLN7FGKa60SkYMESykan3GModqR+vNNkR6noh9yD4I+5eBMr9lg1QCmsWidZrHabJsAwJfenJw+ixqTO3KOGDaE7EXmiBXVzTHDqEsWO93iPOU0Ubirtd97KEoBnZxFwOS39uUOJzdWypeY43n6WV7+tO1RcXKqNgAAAABJRU5ErkJggg==\"/></td><td style=\"padding:1px;\"><img width=\"28\" height=\"28\" style=\"image-rendering:auto; object-fit:cover;\" src=\"data:image/png;base64,iVBORw0KGgoAAAANSUhEUgAAABwAAAAcCAIAAAD9b0jDAAAAp0lEQVR4nO2UQQrFMAhE/dIr6iHtIS1EkNI0ZkJXH/JWLRlGndgSbf6CX31sZkR0NnBTnipEZKqxBlpTRNy99g2Nu6OdGlA/St7z4akaBDVdAr1Jb9QJRKAPDY/UqatbeI2IR9JUL21ohZnF7OAyQVfqQJqvGxocNB5cVQmgz4cL0/j4MorofWHexAHCuihwPN5VtV+m/iEHQn9gckugIPudO2429I0LV1nAhNpce+4AAAAASUVORK5CYII=\"/></td><td style=\"padding:1px;\"><img width=\"28\" height=\"28\" style=\"image-rendering:auto; object-fit:cover;\" src=\"data:image/png;base64,iVBORw0KGgoAAAANSUhEUgAAABwAAAAcCAIAAAD9b0jDAAAAk0lEQVR4nO2TWwqFMAxEQ3GL00VOFhlBUdJ7K6aSgh+erxKSYfKoyMdHi5mRBPATFxEc2EE3rYOvueVftPQ0RVVrraoq88CGj5w2r6Y0zDkckt2EIhMoowUArgw+xwKXVIYU8z2SHD74uGKOX7QfLMEmWsVIyRIR3R+68crlwDWesxw6j8FR3mOOKTckWVjufl7KCrpZ7S5U5b3cAAAAAElFTkSuQmCC\"/></td><td style=\"padding:1px;\"><img width=\"28\" height=\"28\" style=\"image-rendering:auto; object-fit:cover;\" src=\"data:image/png;base64,iVBORw0KGgoAAAANSUhEUgAAABwAAAAcCAIAAAD9b0jDAAAAsklEQVR4nO2UQQ7DMAgEcdUvwiOXR9IDipWG2Mapo16yBysS2vGCHIge/UvMDMC+xcwXcQisg6bT2U4A9tFqdSIvb54DKzYRq+8WEQARqaqIZIN0oLwRRURVZ4lE9GoV8sTsxZyYfR06LZT9+FRbP4KPfo1wE9EWNo4t42KiJTKWDMs/nFXK2JJaJZ214rcOsvPZ3qy4SPdzALUzVU/sYPywOOfxgJ2uSzTU88LSe0Q36QOjXjUBvqDJMwAAAABJRU5ErkJggg==\"/></td><td style=\"padding:1px;\"><img width=\"28\" height=\"28\" style=\"image-rendering:auto; object-fit:cover;\" src=\"data:image/png;base64,iVBORw0KGgoAAAANSUhEUgAAABwAAAAcCAIAAAD9b0jDAAAAoUlEQVR4nO2UUQ6EIBBDi/GKcshySDZxoiEyQnE1ux++PwYplUkHeHm5lVCXlhUAKaVyuWP1GOPAPSRzhVu8qEjyYNO822691VFsH1CdclN03blOzz6Yy0XaaF9ftvE2sv6gIvZKJPHXNpe1RY/YRI9JV9x/uYzGFw7hZ3cgqW3FbjTgTqkaU7FxFYJ0RKIbzYuNghzN6fei0BgQVQbYg3wAm8jaWj6Ts6MAAAAASUVORK5CYII=\"/></td><td style=\"padding:1px;\"><img width=\"28\" height=\"28\" style=\"image-rendering:auto; object-fit:cover;\" src=\"data:image/png;base64,iVBORw0KGgoAAAANSUhEUgAAABwAAAAcCAIAAAD9b0jDAAAAW0lEQVR4nO3TMQrAMAxDUSN6RV9SPqQKKd0VSIa6+bN52JBEnPokiWRmrkRJPq45D5/2N4WP+i5iQ3CGquojm+6K41VJ6nU+Dro8tEPr/f4r0akuc65Gc3b8tBtyESARzugOKgAAAABJRU5ErkJggg==\"/></td><td style=\"padding:1px;\"><img width=\"28\" height=\"28\" style=\"image-rendering:auto; object-fit:cover;\" src=\"data:image/png;base64,iVBORw0KGgoAAAANSUhEUgAAABwAAAAcCAIAAAD9b0jDAAAAqklEQVR4nO2UUQ4DIQhECdkrjofEQ9JEEmO7VWGXtD87n4rjk+AQPfqXAIiIqgLIcZRmZxKRbT1vATPpaAA0U7vAQ3osHAGUUmqtaZg4PdlIPWd5tpEJuJCzoQFJk7OYnXWhqWJPkTH6u8zOutpEuV+AdrEQ6A+Wv8h2w1MhE8wxYmLJIKes6wFodFeCRod3JdjRgPkRprdiUN8Vsju+rvbzfTx/lC+PaKIXnGO/bjO8dHwAAAAASUVORK5CYII=\"/></td><td style=\"padding:1px;\"><img width=\"28\" height=\"28\" style=\"image-rendering:auto; object-fit:cover;\" src=\"data:image/png;base64,iVBORw0KGgoAAAANSUhEUgAAABwAAAAcCAIAAAD9b0jDAAAAdUlEQVR4nO2UQQrAMAgExT+uj4yPtGAJ9NSu1JBL5rxMNlEictgIgIholkYCoLnmzRjjPay8lG+gfHSt1Mx6Dg/6QYVsyojK0ifuLv+lSD5jNemSplWj7Jd6Il3EhJyYluydUi/eWpnQ8j1tk9r8ljqnf5AKF72ZRPhZwkifAAAAAElFTkSuQmCC\"/></td><td style=\"padding:1px;\"><img width=\"28\" height=\"28\" style=\"image-rendering:auto; object-fit:cover;\" src=\"data:image/png;base64,iVBORw0KGgoAAAANSUhEUgAAABwAAAAcCAIAAAD9b0jDAAAAWklEQVR4nO2UwQkAQQgDxR7TZCwyV8JmDyGfnbeMATFVjxQk96WS9r0kJZnDbc7NjJ+gK4skALGk/aQxKby7/0lqvkDnkyZbqre3X0qviuoMAL9MK199j/L4AOO5IQXw3ts6AAAAAElFTkSuQmCC\"/></td><td style=\"padding:1px;\"><img width=\"28\" height=\"28\" style=\"image-rendering:auto; object-fit:cover;\" src=\"data:image/png;base64,iVBORw0KGgoAAAANSUhEUgAAABwAAAAcCAIAAAD9b0jDAAAAjUlEQVR4nO2U4QoAERCEpXvFecnZh9wrcknHsefUle+HFMYsg3ObzXoAkNQEALsWM6GCtu5Rk8uXiUhsRURVLQYBXI5qo5YTQKCxJcnh8iXUuw4Ep+053iA6uQ703ZLvV3wb+1uK/BdZnvDAmPoDkaoRH5WbBYO1znr9P2x2Yf9BHm26uegXmW//cus4ARRgpYgYXMC1AAAAAElFTkSuQmCC\"/></td><td style=\"padding:1px;\"><img width=\"28\" height=\"28\" style=\"image-rendering:auto; object-fit:cover;\" src=\"data:image/png;base64,iVBORw0KGgoAAAANSUhEUgAAABwAAAAcCAIAAAD9b0jDAAAAoElEQVR4nO2TUQ6EIAxEm95xOORwSDaxSUMEunT1w018X2rp0BlB5OVlAEBrjWSqZKgsALAq+YKva860g2kbSatKdtIrA+qqMxC1h1prLD3/FaNBN75KJmKamu8UByr7mQLoz1DsXadfx57gVKYTIHly/WOgvd9eyF+vTo1D2lR85HuiMPYnVclTSrlZtG5cJH2E6A4q/yKawy5YsunJfACttqiAQa4jKAAAAABJRU5ErkJggg==\"/></td><td style=\"padding:1px;\"><img width=\"28\" height=\"28\" style=\"image-rendering:auto; object-fit:cover;\" src=\"data:image/png;base64,iVBORw0KGgoAAAANSUhEUgAAABwAAAAcCAIAAAD9b0jDAAAAgElEQVR4nO2UQQrAIAwEU/+4eeT6yBTipUUskQYq1DmKDBsxK7L5FjjJRnNIZnpFpHmf75RZaa1V0rH08eHPunxMkskx6cbkmDZjLJFLTRf/TEfECEBVm7Rf03aiqtOraT6+jQl1AoDeMioUOtF05gHflhPv6SQFuwRcuIY3P+MEHtGqas/gfdQAAAAASUVORK5CYII=\"/></td><td style=\"padding:1px;\"><img width=\"28\" height=\"28\" style=\"image-rendering:auto; object-fit:cover;\" src=\"data:image/png;base64,iVBORw0KGgoAAAANSUhEUgAAABwAAAAcCAIAAAD9b0jDAAAAiklEQVR4nO2TQQ6AIAwEi/GLyyPLI2vSamJiYlpcPTlXYFhgEfn5GFU1R1XJxgAAx6hONex6M9Z7H2PEBoSYVyJvUr1kJsHJzCxIg+Ewk0qFpSSlPReAvajFYtV+Ac0rHjn5EVpVbWb7ytYIlQqSrZq8XOFeqD03gl4pvFFSPR2ZVk8cSTm6H5llAwtLtmuL6tdLAAAAAElFTkSuQmCC\"/></td><td style=\"padding:1px;\"><img width=\"28\" height=\"28\" style=\"image-rendering:auto; object-fit:cover;\" src=\"data:image/png;base64,iVBORw0KGgoAAAANSUhEUgAAABwAAAAcCAIAAAD9b0jDAAAAt0lEQVR4nO2V0Q7DIAhFmfEX4SPxI1ki2bKJKNjsYdnOU4v29iq3FeDPV3CLTGJmvWitvdaH2xziwMyIaOfXraI+RkTqa1BBROu3Zl1HllyyopF3FPgAZTtj2oqrkRKRYaWtc+4UjU1E9JIURR55tMVDRWa2is/6wmxZiOreEZGtr93UrSjkKd6ANsQbgjO4Mx06b5Q4rfC6F4JnYbykCO+50f2dZjaNxH7J6W+fuy8N1qXDA36IO5z6raSLrb8QAAAAAElFTkSuQmCC\"/></td><td style=\"padding:1px;\"><img width=\"28\" height=\"28\" style=\"image-rendering:auto; object-fit:cover;\" src=\"data:image/png;base64,iVBORw0KGgoAAAANSUhEUgAAABwAAAAcCAIAAAD9b0jDAAAAhElEQVR4nO2TUQ7AIAhDgTviIfGQLJnZws9MWdAv35eJ2tRSiQ6bMTN3N7NKUX9QVfyWzLd772NRKfqiN1TrlJJmoVkNqOr5PZgFa8DIoeiRmWsG1Vpbm6wBCUhWHemW0AIEPLejsDrVFVwUNyv0i1UJ2He3JCUaE6jEgVlJVjR+2cM+LsZ1Zc87/P3bAAAAAElFTkSuQmCC\"/></td><td style=\"padding:1px;\"><img width=\"28\" height=\"28\" style=\"image-rendering:auto; object-fit:cover;\" src=\"data:image/png;base64,iVBORw0KGgoAAAANSUhEUgAAABwAAAAcCAIAAAD9b0jDAAAAlklEQVR4nO2VUQrEIAxEg+wV55LjIbOQYKBdtl10lkLp+xPxOUQSze4AAJIekAQgkLo7BmkXeLFVANB4d6TX5HjU94KwbVptWhiIk+IsZrM/0OZi9t6V0uRY+vqxfGUBcGw8oaZJkkNgqVMZxlqmbrWd/CNReWW9iGFcCusjaZWyrpmf2dy+0i5d7s6oGXw7pvwOHm7EG7VarmwlQpkSAAAAAElFTkSuQmCC\"/></td><td style=\"padding:1px;\"><img width=\"28\" height=\"28\" style=\"image-rendering:auto; object-fit:cover;\" src=\"data:image/png;base64,iVBORw0KGgoAAAANSUhEUgAAABwAAAAcCAIAAAD9b0jDAAAAnElEQVR4nO2UYQqFMAyDS++YS3aHjCA82Zyr7fYQBL9f0q0hbVSRj48BAMwMwGWdpGQBwB+Rek6RbXNd74cQEXVEj+dSSuRazibaztEEN9geQt955DMjyhbsnORImtmkTYf5hY5wbGpfcrIOos7ZunrDaFn1up2F6hMefeaDWkfjV0/fj7MiDSom3nNZGP8/YbIiZVxuRRM/kRewAeSAJQziiWDSAAAAAElFTkSuQmCC\"/></td><td style=\"padding:1px;\"><img width=\"28\" height=\"28\" style=\"image-rendering:auto; object-fit:cover;\" src=\"data:image/png;base64,iVBORw0KGgoAAAANSUhEUgAAABwAAAAcCAIAAAD9b0jDAAAAlklEQVR4nO2TWwrEIAxFY+gW4yLvXaQDyqQFUXG00IGeP2M8PmJEXv4YM0sp9ROmpSnT37Lj1ekNL+rHSG30cK0ElRvQxfVmBmC/VCp0RVTOGGPcIHVI1sYmAMr/B2BfPOjM9ZXlnhkyYWx5kfF4XXTnaE2QDCH4BUnWCbIR5MftnPQXhlVSuQF9ipR7S+SUv3WOX+TkA3NXmZk5SWsZAAAAAElFTkSuQmCC\"/></td><td style=\"padding:1px;\"><img width=\"28\" height=\"28\" style=\"image-rendering:auto; object-fit:cover;\" src=\"data:image/png;base64,iVBORw0KGgoAAAANSUhEUgAAABwAAAAcCAIAAAD9b0jDAAAApElEQVR4nO2UQQ6DMAwEHatf3DzSeaQrNSK1QNgO5NBKzAmRZbIEC6KHSUREVQGcBV6zRlWltQDQDyLyq0bajnKlEVvNTJjzUiKqtd7rdqiZf/ESJroLQClxeO4onVGfRi/NEGdCrTU7VWF3dly7x3pfuwEtnHaNynKoHtXySxxKz+o4m3Eo3XnHtSP1sN9aRACMO7d+KzAiy3XjUd37fhce/ps37ymqf+oX0XUAAAAASUVORK5CYII=\"/></td><td style=\"padding:1px;\"><img width=\"28\" height=\"28\" style=\"image-rendering:auto; object-fit:cover;\" src=\"data:image/png;base64,iVBORw0KGgoAAAANSUhEUgAAABwAAAAcCAIAAAD9b0jDAAAArklEQVR4nO2UUQ7DIAxD04kr2ocMh2QSaCiDDpJN6s/6Pqqiqo4dAiI3/8sxrAH05ym5EqigqsWBqgZEi5u1brILkkNwGxaA02P6JHEF+t7ugNOB1orTyO1TLBZq+7bbhUpAtPwwCY9tgZwzycNA0gYP+MULT5rYcVhjdb3x4d4E7xiguljksjaH8mkr3XWbnf5/f4mdw/LVPMl8n85OZ2vWOMmwqMWKXnrv3IjIE6mBPC/40u7pAAAAAElFTkSuQmCC\"/></td><td style=\"padding:1px;\"><img width=\"28\" height=\"28\" style=\"image-rendering:auto; object-fit:cover;\" src=\"data:image/png;base64,iVBORw0KGgoAAAANSUhEUgAAABwAAAAcCAIAAAD9b0jDAAAAkUlEQVR4nO2USwoEIQwFM97xXfJ5yDQoSprpDJhk11MrQS3MT5E/7wIDGbSkhaQOtvEAe8e6VJVkxEijyLom37q4a1IQpmckKSUAKDbKSmXM2H5v995tD6XSihW7R6oxObCK1AjRj3SnQgrBSo53oMWku4YFwBSwYLpw/5lSjYW7K14ffeKo7T/eG+eirBryIi4B9wkWTirUCAAAAABJRU5ErkJggg==\"/></td><td style=\"padding:1px;\"><img width=\"28\" height=\"28\" style=\"image-rendering:auto; object-fit:cover;\" src=\"data:image/png;base64,iVBORw0KGgoAAAANSUhEUgAAABwAAAAcCAIAAAD9b0jDAAAAqklEQVR4nO2UUQ4DIQhEWe44HhIPSZM1a0h0KS00/dn3ZSSOCINED/9FRPQEQIEcAFUVkYjc4ajY8wBaa733SAbHXUBVp8RYBBU9MoXj7W6yD5w5XJYpAo/g7a7tyTDTZFg16K29K6eQdRiAEfpYV66M/ItrRmu9mGq732/GgSnNWgHOi675ckauvkt0/g+OPfY4jnlrOAo6cfjfTgR9h1wSdkx/UsoHcnkBoD+fi5SzGfcAAAAASUVORK5CYII=\"/></td><td style=\"padding:1px;\"><img width=\"28\" height=\"28\" style=\"image-rendering:auto; object-fit:cover;\" src=\"data:image/png;base64,iVBORw0KGgoAAAANSUhEUgAAABwAAAAcCAIAAAD9b0jDAAAAvklEQVR4nO2U2w7DIAiG1ewV4SHhIV02UkM42LqYrBf97sTyc6ylPOQQUe+9bFfsG0XpUCSiWyi2+TUilpsUXr1pTKbW4PYKrx98AEAfmfncpx94rdEZDRGZMDUUDcsfzia1oYiIadbhlCbTAwBTXCuL+FyY2Wxey5xNm5Zoqw6TYLM/BVSPtMSw+3FLx0+Ko2QsWTxvidFr6LdVokrKXrEmmh9nQY78xX8QTn+GTirEN1e4+mT4nd/2Kj78jTcN6wVK3AEKRQAAAABJRU5ErkJggg==\"/></td><td style=\"padding:1px;\"><img width=\"28\" height=\"28\" style=\"image-rendering:auto; object-fit:cover;\" src=\"data:image/png;base64,iVBORw0KGgoAAAANSUhEUgAAABwAAAAcCAIAAAD9b0jDAAAAoElEQVR4nO2UUQ6EMAhEG+44HBIOiUkbG4wpm0K/dvd9qbXjQGVa+/NtALCOiJzREhFzADhj0Lr0Ab9witPdcJ0XFVe1L3k8XzWBkl+7pUuizKyq89Zfb2M3q16XnG5BwVr6fClYm4e720H6+IaqMvNh0YBVBZTbOTqTFw3I/K22CI7S7MtrM4BqmjQ3UT5ZqiEtz2wORnMPuFSuBn77CS694c5i7S1oLAAAAABJRU5ErkJggg==\"/></td><td style=\"padding:1px;\"><img width=\"28\" height=\"28\" style=\"image-rendering:auto; object-fit:cover;\" src=\"data:image/png;base64,iVBORw0KGgoAAAANSUhEUgAAABwAAAAcCAIAAAD9b0jDAAAAoElEQVR4nO2USw7DMAhExyhXxIeEQzpSLLFIYgJurapq3zIeyPARwJ/vhplbayLyzqQi0g4eNcycsNlxZF1wrYb87Krq2BxpCAug6UhrZdQpB3sPlFLSTmutL/41OnoTjLZ4wxhVPYX19j3a3Jy3a3CwasICyu1XPjiti9Vur7ejn8Gm5LSCskkjd4uwAEqpPzl9SqltGZyTOEPu2uMX2QEiVGvYQT4QOgAAAABJRU5ErkJggg==\"/></td><td style=\"padding:1px;\"><img width=\"28\" height=\"28\" style=\"image-rendering:auto; object-fit:cover;\" src=\"data:image/png;base64,iVBORw0KGgoAAAANSUhEUgAAABwAAAAcCAIAAAD9b0jDAAAAdklEQVR4nO2UUQrAIAxDS+4YD9kesgP3v6VSGcjed3loGjX7ORCSmUmyU+ruOemU5sTdn8ewoI6IfmkzqQUK3XhH+Xr3lWN29omzoWKZUFKPMfqlsSNQ04AyVF0OdKkYqEr1E8GOFUEf7ZSy/oSwo5v4oPN2OBdo5kfptsNQUwAAAABJRU5ErkJggg==\"/></td><td style=\"padding:1px;\"><img width=\"28\" height=\"28\" style=\"image-rendering:auto; object-fit:cover;\" src=\"data:image/png;base64,iVBORw0KGgoAAAANSUhEUgAAABwAAAAcCAIAAAD9b0jDAAAAp0lEQVR4nO2UUQ7EIAhEWbNXxEOOh3STmhJqDWG6fna+WpEn0Kkir15t1Se/VQ/Za631+bGqCqDfBGAPDoBf9IVnif3K8tHB5aDqiMvMASUmoCcxyImPFLaKadDLPd/lquW31ux5spSIWJQbaKznH2rygA8RRNOyZYPSJg1Emymj/WXq2Xu8rbDQjJMKRUx2XSgo7fn/LwS6UmXKjP59r8Fqh5Ipm/UD8WkKMYrmEiAAAAAASUVORK5CYII=\"/></td><td style=\"padding:1px;\"><img width=\"28\" height=\"28\" style=\"image-rendering:auto; object-fit:cover;\" src=\"data:image/png;base64,iVBORw0KGgoAAAANSUhEUgAAABwAAAAcCAIAAAD9b0jDAAAAkElEQVR4nO2UUQoDIQxEp7JXHA85OWQKCbuUQu2upj9l34cgkccYicDNzRokJR3bbdGVK8ne+2IySPKdlE6GYtzxcEmad+lFtKpLaqK9Mdev7VNhJVQb1NJrZijEg+KkFhkVXJI+Ts4MgPMz08ZlC/ALfLa5I3LAUYtfjNm+nsinr0xKsr6hHv9IpRH73f+XJ9c8faZmmoQSAAAAAElFTkSuQmCC\"/></td><td style=\"padding:1px;\"><img width=\"28\" height=\"28\" style=\"image-rendering:auto; object-fit:cover;\" src=\"data:image/png;base64,iVBORw0KGgoAAAANSUhEUgAAABwAAAAcCAIAAAD9b0jDAAAAlElEQVR4nO2UQQ6AIAwEV/64PLJ9pCYQDZEKQjl4cA6aEJy0SwX4+VnKll88UdW8ogmXW0T2JpIgOSAl2ZaW9q56u6mvZ7lSo6oxxoGqTUjWEY2l8TIlETG3BYywpmuTMocFldaYsQZ8UBqtiIPH+PQfB3wBKY5+zfAD6E4+PO17L8b3Y+8yNnrHXPvdG2BSOvGVlwPUVcly8XTXmQAAAABJRU5ErkJggg==\"/></td><td style=\"padding:1px;\"><img width=\"28\" height=\"28\" style=\"image-rendering:auto; object-fit:cover;\" src=\"data:image/png;base64,iVBORw0KGgoAAAANSUhEUgAAABwAAAAcCAIAAAD9b0jDAAAAp0lEQVR4nO2USw7DIAxEnahXHA45HJJKRSCaMomxuqmaWaHgPD3Mx+zOT2Rz1gGog5zzd6AASE6h+RVbDclylQVTtCijcTaltObItnZVcyjYPXRl0U0P2U9Yfb3TP6umx0l2QH0/b445uwZg3PegrIlTFcfZh1opRbXYxeJMMEjkO4tkPTpq0yI4a+J+2Yea6PeybsgIWn5BePV8eCCb//4FX7k7f5YnaacgKL8ID7cAAAAASUVORK5CYII=\"/></td><td style=\"padding:1px;\"><img width=\"28\" height=\"28\" style=\"image-rendering:auto; object-fit:cover;\" src=\"data:image/png;base64,iVBORw0KGgoAAAANSUhEUgAAABwAAAAcCAIAAAD9b0jDAAAAm0lEQVR4nO2UwRLDIAhEKdNf3Hwk+5F0Bia5mGqCzaXJO6k4y4qoyMN9efXDZgaA5LbCoJ4QgLsjsMBXzKwoasFuMgBFUa860n64Vj7th+vH/EbeTLs4zKT98K7ZKVE2Bc17n+pTaSqQ09njM0ydbaz3UJRkvqjjojrcsQQ5kCvA+hvMOi2gp3YffGBaMDLsUy3IXVJT/tap/BsfvJlh6dgyK+cAAAAASUVORK5CYII=\"/></td><td style=\"padding:1px;\"><img width=\"28\" height=\"28\" style=\"image-rendering:auto; object-fit:cover;\" src=\"data:image/png;base64,iVBORw0KGgoAAAANSUhEUgAAABwAAAAcCAIAAAD9b0jDAAAAjklEQVR4nO2U2wqAIBBER+kX5yfHjzRYSSy6oSv00Hm0Ou1lEPi5haQkknBEUjY81SRzwyyvJDcvbbjO3kL1TlmdfIsFUIq9eho7jM6NYx/b0e9lyXfYvjbFgdH2aUxJ/qFwPBHxmpTSyzfjTdfoZTk1SgohtIejo5TNrv2Hw6LyGaM3tJp41tj3636+ywpffeQs3E1bfwAAAABJRU5ErkJggg==\"/></td></tr></table>"
            ],
            "text/plain": [
              "<IPython.core.display.HTML object>"
            ]
          },
          "metadata": {},
          "output_type": "display_data"
        }
      ],
      "source": [
        "class QuantizeToNGrayscales:\n",
        "\n",
        "    def __init__(self, num_grayscales: int):\n",
        "        self.num_grayscales = num_grayscales\n",
        "\n",
        "    def __call__(self, tensor_image: torch.Tensor) -> torch.Tensor:\n",
        "        scaled_image = tensor_image * (self.num_grayscales - 1)\n",
        "        return torch.round(scaled_image).to(torch.int32).squeeze(0)\n",
        "\n",
        "\n",
        "transform_quantize = T.Compose([\n",
        "    T.ToTensor(),\n",
        "    QuantizeToNGrayscales(N_GRAYSCALES)\n",
        "])\n",
        "\n",
        "train_dataset = torchvision.datasets.MNIST(\n",
        "    root='./data', train=True, download=True,\n",
        "    transform=transform_quantize\n",
        ")\n",
        "\n",
        "test_dataset = torchvision.datasets.MNIST(\n",
        "    root='./data', train=False, download=True,\n",
        "    transform=transform_quantize\n",
        ")\n",
        "\n",
        "# train_dataset = torchvision.datasets.MNIST(\n",
        "#     root='./data', train=True, download=True,\n",
        "#     transform=transforms.ToTensor() # Keep as continuous initially\n",
        "# )\n",
        "# test_dataset = torchvision.datasets.MNIST(\n",
        "#     root='./data', train=False, download=True,\n",
        "#     transform=transforms.ToTensor()\n",
        "# )\n",
        "test_dataset = Subset(test_dataset, range(1_000))\n",
        "\n",
        "batch_size = 32\n",
        "\n",
        "train_loader = DataLoader(\n",
        "    train_dataset, batch_size=batch_size, shuffle=True, pin_memory=True\n",
        ")\n",
        "test_loader = DataLoader(\n",
        "    test_dataset, batch_size=batch_size * 2, shuffle=False, pin_memory=True\n",
        ")\n",
        "print()\n",
        "print(\"train - showing original continuous images\")\n",
        "temp_batch = next(iter(train_loader))[0]\n",
        "show_images(temp_batch.to(torch.uint32)) # This will show continuous images\n",
        "print(f\"Example pixel values from train_loader (continuous): {temp_batch.min()}, {temp_batch.max()}\")\n",
        "\n",
        "print(\"test - showing original continuous images\")\n",
        "temp_batch_test = next(iter(test_loader))[0]\n",
        "show_images(temp_batch_test.to(torch.uint32))"
      ]
    },
    {
      "cell_type": "markdown",
      "metadata": {
        "id": "vdz3SYg16mO2"
      },
      "source": [
        "## Flow Matching Model"
      ]
    },
    {
      "cell_type": "code",
      "execution_count": 13,
      "metadata": {
        "id": "n2Du_EpV6ocr"
      },
      "outputs": [],
      "source": [
        "class SinusoidalTimeEmbedding(nn.Module):\n",
        "    def __init__(self, dim):\n",
        "        super().__init__()\n",
        "        self.dim = dim\n",
        "\n",
        "    def forward(self, t):\n",
        "        device = t.device\n",
        "        half_dim = self.dim // 2\n",
        "        embeddings = math.log(10000) / (half_dim - 1)\n",
        "        embeddings = torch.exp(torch.arange(half_dim, device=device) * -embeddings)\n",
        "        embeddings = t[:, None] * embeddings[None, :]\n",
        "        if self.dim % 2 == 1: # zero pad if dim is odd for a final concat\n",
        "            pad_tensor = torch.zeros((embeddings.shape[0], 1), device=device)\n",
        "            embeddings = torch.cat((embeddings.sin(), embeddings.cos(), pad_tensor), dim=-1)\n",
        "        else:\n",
        "            embeddings = torch.cat((embeddings.sin(), embeddings.cos()), dim=-1)\n",
        "        return embeddings\n",
        "\n",
        "class MLP(nn.Module):\n",
        "    def __init__(self, time_embedding_dim, hidden_dim, out_dim):\n",
        "        super().__init__()\n",
        "        self.mlp = nn.Sequential(\n",
        "            nn.Linear(time_embedding_dim, hidden_dim),\n",
        "            nn.SiLU(),\n",
        "            nn.Linear(hidden_dim, out_dim)\n",
        "        )\n",
        "\n",
        "    def forward(self, t_emb):\n",
        "        return self.mlp(t_emb)\n",
        "\n",
        "class ConvBlock(nn.Module):\n",
        "    def __init__(self, in_channels, out_channels, time_emb_dim=None, num_groups=8):\n",
        "        super().__init__()\n",
        "\n",
        "        def get_effective_groups(channels, requested_groups):\n",
        "            if channels == 0: return 1 # Should not happen with >0 channels\n",
        "            # Find largest divisor of channels that is <= requested_groups\n",
        "            # Default to 1 if no other common divisor or too few channels.\n",
        "            if channels < requested_groups and channels > 0 : # If channels < num_groups, each channel is a group or 1 group\n",
        "                 return channels # Group per channel is often max useful grouping here.\n",
        "                                # Or, if channels is small (e.g. 1,2,3) use 1 group.\n",
        "                                # Let's be robust: use min(channels, requested_groups) then ensure divisibility\n",
        "\n",
        "            eff_groups = min(channels, requested_groups) if channels > 0 else 1\n",
        "            while eff_groups > 0 and channels % eff_groups != 0:\n",
        "                eff_groups -=1\n",
        "            return eff_groups if eff_groups > 0 else 1 # Fallback to 1 group\n",
        "\n",
        "        effective_num_groups = get_effective_groups(out_channels, num_groups)\n",
        "\n",
        "\n",
        "        self.conv1 = nn.Conv2d(in_channels, out_channels, kernel_size=3, padding=1)\n",
        "        self.norm1 = nn.GroupNorm(num_groups=effective_num_groups, num_channels=out_channels) if out_channels > 0 else nn.Identity()\n",
        "        self.act1 = nn.SiLU()\n",
        "\n",
        "        self.conv2 = nn.Conv2d(out_channels, out_channels, kernel_size=3, padding=1)\n",
        "        self.norm2 = nn.GroupNorm(num_groups=effective_num_groups, num_channels=out_channels) if out_channels > 0 else nn.Identity()\n",
        "        self.act2 = nn.SiLU()\n",
        "\n",
        "        self.time_proj = nn.Linear(time_emb_dim, out_channels) if time_emb_dim is not None and time_emb_dim > 0 else None\n",
        "        self.res_conv = nn.Conv2d(in_channels, out_channels, kernel_size=1) if in_channels != out_channels else nn.Identity()\n",
        "\n",
        "    def forward(self, x, t_emb=None):\n",
        "        h = self.conv1(x)\n",
        "        h = self.norm1(h)\n",
        "\n",
        "        if self.time_proj is not None and t_emb is not None:\n",
        "            time_cond = self.time_proj(t_emb)\n",
        "            if time_cond is not None:\n",
        "                h = h + time_cond[:, :, None, None]\n",
        "\n",
        "        h = self.act1(h)\n",
        "        h = self.conv2(h)\n",
        "        h = self.norm2(h)\n",
        "        h = self.act2(h)\n",
        "        return h + self.res_conv(x)\n",
        "\n",
        "\n",
        "class SelfAttentionBlock(nn.Module):\n",
        "    def __init__(self, channels, num_heads=4):\n",
        "        super().__init__()\n",
        "        self.attn = nn.MultiheadAttention(embed_dim=channels, num_heads=num_heads, batch_first=True)\n",
        "\n",
        "    def forward(self, x):\n",
        "      s = x.shape\n",
        "      t = einops.rearrange(x, 'b c h w -> b (h w) c')\n",
        "      t = self.attn(t, t, t)[0]\n",
        "      return x + einops.rearrange(t, 'b (h w) c -> b c h w', c=s[1], h=s[2])\n",
        "\n",
        "\n",
        "\n",
        "class DownBlock(nn.Module):\n",
        "    def __init__(self, in_channels, out_channels, time_emb_dim=None, num_groups_norm=8):\n",
        "        super().__init__()\n",
        "        self.conv = ConvBlock(in_channels, out_channels, time_emb_dim, num_groups_norm)\n",
        "        self.pool = nn.MaxPool2d(2)\n",
        "\n",
        "    def forward(self, x, t_emb=None):\n",
        "        x_pre_conv = self.pool(x)\n",
        "        x_post_conv = self.conv(x_pre_conv, t_emb)\n",
        "        return x_post_conv\n",
        "\n",
        "class UpBlock(nn.Module):\n",
        "    def __init__(self, in_channels_prev_up, channels_from_skip, out_channels_conv, time_emb_dim, num_groups_norm):\n",
        "        super().__init__()\n",
        "        self.up_conv_transpose = nn.ConvTranspose2d(in_channels_prev_up, in_channels_prev_up // 2, kernel_size=2, stride=2)\n",
        "        self.conv = ConvBlock( (in_channels_prev_up // 2) + channels_from_skip, out_channels_conv, time_emb_dim, num_groups_norm)\n",
        "\n",
        "    def forward(self, x_prev_up, x_skip, t_emb):\n",
        "        x_upsampled = self.up_conv_transpose(x_prev_up)\n",
        "\n",
        "        if x_upsampled.shape[2:] != x_skip.shape[2:]:\n",
        "            diffY = x_skip.size(2) - x_upsampled.size(2)\n",
        "            diffX = x_skip.size(3) - x_upsampled.size(3)\n",
        "            x_upsampled = F.pad(x_upsampled, [diffX // 2, diffX - diffX // 2,\n",
        "                                           diffY // 2, diffY - diffY // 2])\n",
        "\n",
        "        x_cat = torch.cat([x_upsampled, x_skip], dim=1)\n",
        "        x = self.conv(x_cat, t_emb)\n",
        "        return x\n",
        "\n",
        "\n",
        "class UNetFlowMatcherMNIST(nn.Module):\n",
        "    def __init__(self,\n",
        "                 num_pixel_classes=1, # Changed from out_channels for discrete output\n",
        "                 base_channels=32,\n",
        "                 time_embedding_dim=128,\n",
        "                 time_mlp_hidden_dim=512,\n",
        "                 num_groups_norm=8,\n",
        "                 use_attention_bottleneck=True):\n",
        "        super().__init__()\n",
        "\n",
        "        self.num_pixel_classes = num_pixel_classes\n",
        "        self.embedding = nn.Embedding(num_pixel_classes, base_channels)\n",
        "\n",
        "        if base_channels <= 0:\n",
        "            raise ValueError(\"base_channels must be positive.\")\n",
        "        if time_embedding_dim <= 0 and time_mlp_hidden_dim > 0 :\n",
        "             time_embedding_dim = 0\n",
        "             time_mlp_hidden_dim = 0\n",
        "\n",
        "        self.time_embedding = SinusoidalTimeEmbedding(time_embedding_dim) if time_embedding_dim > 0 else nn.Identity()\n",
        "        self.time_mlp = MLP(time_embedding_dim, time_mlp_hidden_dim, time_embedding_dim) if time_embedding_dim > 0 else nn.Identity()\n",
        "\n",
        "        self.conv_in = ConvBlock(base_channels, base_channels, time_embedding_dim, num_groups_norm)\n",
        "        self.down1 = DownBlock(base_channels, base_channels * 2, time_embedding_dim, num_groups_norm)\n",
        "        self.down2 = DownBlock(base_channels * 2, base_channels * 4, time_embedding_dim, num_groups_norm)\n",
        "        self.bottleneck_conv1 = ConvBlock(base_channels * 4, base_channels * 8, time_embedding_dim, num_groups_norm)\n",
        "        if use_attention_bottleneck:\n",
        "            self.attention = SelfAttentionBlock(base_channels * 8, num_heads=4)\n",
        "        else:\n",
        "            self.attention = nn.Identity()\n",
        "        self.bottleneck_conv2 = ConvBlock(base_channels * 8, base_channels * 4, time_embedding_dim, num_groups_norm)\n",
        "        self.up1 = UpBlock(in_channels_prev_up=base_channels * 4, channels_from_skip=base_channels * 2, out_channels_conv=base_channels * 2, time_emb_dim=time_embedding_dim, num_groups_norm=num_groups_norm)\n",
        "        self.up2 = UpBlock(in_channels_prev_up=base_channels * 2, channels_from_skip=base_channels, out_channels_conv=base_channels, time_emb_dim=time_embedding_dim, num_groups_norm=num_groups_norm)\n",
        "        self.conv_out = nn.Conv2d(base_channels, self.num_pixel_classes, kernel_size=1)\n",
        "\n",
        "    def forward(self, x, t):\n",
        "        x = self.embedding(x)\n",
        "        x = einops.rearrange(x, \"b h w d -> b d h w\")\n",
        "        if isinstance(self.time_embedding, nn.Identity) or t is None:\n",
        "            t_emb = None\n",
        "        else:\n",
        "            t_emb_sin = self.time_embedding(t)\n",
        "            t_emb = self.time_mlp(t_emb_sin)\n",
        "\n",
        "        s1_skip = self.conv_in(x, t_emb)\n",
        "        s2_skip = self.down1(s1_skip, t_emb)\n",
        "        s3_features = self.down2(s2_skip, t_emb)\n",
        "\n",
        "        b = self.bottleneck_conv1(s3_features, t_emb)\n",
        "        b = self.attention(b)\n",
        "        b = self.bottleneck_conv2(b, t_emb)\n",
        "\n",
        "        u1 = self.up1(b, s2_skip, t_emb)\n",
        "        u2 = self.up2(u1, s1_skip, t_emb)\n",
        "\n",
        "        out_logits = self.conv_out(u2)\n",
        "        return out_logits"
      ]
    },
    {
      "cell_type": "markdown",
      "metadata": {
        "id": "qZvG5Qdk6tgO"
      },
      "source": [
        "## Flow Matching Loss and sampling"
      ]
    },
    {
      "cell_type": "code",
      "execution_count": 14,
      "metadata": {
        "id": "JBTHvzts6wP7"
      },
      "outputs": [],
      "source": [
        "def flow_matching_loss(model, batch, K=N_GRAYSCALES):\n",
        "    x0_discrete = batch[0].to(next(model.parameters()).device)\n",
        "    batch_size, H, W = x0_discrete.shape\n",
        "    t_scalar = torch.rand((batch_size,), device=x0_discrete.device)\n",
        "    t_broadcast = t_scalar.view(batch_size, 1, 1)\n",
        "    noise_discrete = torch.randint(0, K, size=(batch_size, H, W), device=x0_discrete.device, dtype=torch.long)\n",
        "    mask = torch.rand((batch_size, H, W), device=x0_discrete.device) < t_broadcast\n",
        "    x_t_discrete = torch.where(mask, noise_discrete, x0_discrete)\n",
        "\n",
        "    logits_pred_x0 = model(x_t_discrete, t_scalar)\n",
        "\n",
        "    x0_target_for_loss = x0_discrete.squeeze(1)\n",
        "    loss = F.cross_entropy(logits_pred_x0, x0_target_for_loss.to(torch.int64))\n",
        "    return {\"loss\": loss}\n",
        "\n",
        "\n",
        "@torch.no_grad()\n",
        "def sample_batch(model, initial_noise_discrete, num_steps=10, K=N_GRAYSCALES):\n",
        "    model.eval()\n",
        "    device = next(model.parameters()).device\n",
        "    x_est_x0_discrete = initial_noise_discrete.clone().to(device)\n",
        "    fixed_x1_sample_discrete = torch.randint(0, K, size=initial_noise_discrete.shape, device=device, dtype=torch.long)\n",
        "\n",
        "    for i in range(num_steps):\n",
        "        t_model_scalar = (num_steps - i) / num_steps\n",
        "        t_for_model_nn = torch.full((x_est_x0_discrete.shape[0],), t_model_scalar, device=device, dtype=torch.float)\n",
        "        mask_prob = t_model_scalar\n",
        "        mask = torch.rand_like(x_est_x0_discrete, dtype=torch.float) < mask_prob\n",
        "        x_t_formed_discrete = torch.where(mask, fixed_x1_sample_discrete, x_est_x0_discrete)\n",
        "        logits_x0_pred = model(x_t_formed_discrete, t_for_model_nn)\n",
        "        x_est_x0_discrete = torch.argmax(logits_x0_pred, dim=1, keepdim=False)\n",
        "\n",
        "    # final_image_float = x_est_x0_discrete.squeeze(1).float() / (K - 1.0)\n",
        "    return x_est_x0_discrete.squeeze(1)"
      ]
    },
    {
      "cell_type": "markdown",
      "metadata": {
        "id": "45klsck961RS"
      },
      "source": [
        "## Trainer"
      ]
    },
    {
      "cell_type": "code",
      "execution_count": null,
      "metadata": {
        "id": "SGIdQ0Bw628c"
      },
      "outputs": [],
      "source": [
        "class TrainLossLogger:\n",
        "  def __init__(self, log_every_sec=10.0) -> None:\n",
        "    self.running = defaultdict(list)\n",
        "    self.log_every_sec = log_every_sec\n",
        "    self.last_log = time.time()\n",
        "\n",
        "  def log(self, data) -> None:\n",
        "    for k, v in data.items():\n",
        "      self.running[k].append(v)\n",
        "    if self.last_log + self.log_every_sec < time.time():\n",
        "      self.last_log = time.time()\n",
        "      print(\"mean train:\", {k: float(np.array(v).mean()) for k, v in self.running.items()})\n",
        "      self.running = defaultdict(list)\n",
        "\n",
        "\n",
        "class Trainer:\n",
        "    def __init__(self, *, model, train_loader, test_loader, loss_fn, extra_eval_fn=None, num_epochs=5, batch_size=32):\n",
        "        self.model = model\n",
        "        self.device = next(model.parameters()).device\n",
        "        self.loss_fn = loss_fn\n",
        "        self.extra_eval_fn = extra_eval_fn\n",
        "        self.num_epochs = num_epochs\n",
        "        self.batch_size = batch_size\n",
        "        self.train_loader = train_loader\n",
        "        self.test_loader = test_loader\n",
        "\n",
        "    def train(self):\n",
        "        optimizer = torch.optim.Adam(self.model.parameters(), lr=1e-3)\n",
        "        loss_logger = TrainLossLogger()\n",
        "\n",
        "        for epoch in range(self.num_epochs):\n",
        "            print(f\"epoch={epoch} test {self.eval()}\")\n",
        "            if self.extra_eval_fn:\n",
        "                self.extra_eval_fn(self.model)\n",
        "\n",
        "            self.model.train()\n",
        "            prog_bar = tqdm(enumerate(self.train_loader), desc=f\"Epoch {epoch + 1}/{self.num_epochs}\", total=len(self.train_loader), unit=\" batches\")\n",
        "            for i, batch in prog_bar:\n",
        "                optimizer.zero_grad()\n",
        "                loss_dict = self.loss_fn(self.model, batch)\n",
        "                loss = loss_dict[\"loss\"]\n",
        "                loss.backward()\n",
        "                optimizer.step()\n",
        "                log_items = {k: v.item() for k, v in loss_dict.items()}\n",
        "                loss_logger.log(log_items)\n",
        "                prog_bar.set_postfix(log_items)\n",
        "\n",
        "        print(f\"epoch={epoch} test {self.eval()}\") # Final eval after last epoch\n",
        "        if self.extra_eval_fn:\n",
        "            self.extra_eval_fn(self.model)\n",
        "\n",
        "    @torch.no_grad()\n",
        "    def eval(self) -> float:\n",
        "        torch.manual_seed(17)\n",
        "\n",
        "        self.model.eval()\n",
        "        total_loss_vals = defaultdict(list)\n",
        "        for batch in self.test_loader:\n",
        "            loss_dict = self.loss_fn(self.model, batch)\n",
        "            for k, v in loss_dict.items():\n",
        "              total_loss_vals[k].append(v.item())\n",
        "\n",
        "        torch.random.seed()\n",
        "        return {k: float(np.array(v).mean()) for k, v in total_loss_vals.items()}"
      ]
    },
    {
      "cell_type": "markdown",
      "metadata": {
        "id": "lCpPoaxB67PO"
      },
      "source": [
        "## Train the Flow matching model"
      ]
    },
    {
      "cell_type": "code",
      "execution_count": null,
      "metadata": {
        "colab": {
          "base_uri": "https://localhost:8080/",
          "height": 1000,
          "referenced_widgets": [
            "302e827db47f448db25f5563b5a8f339",
            "b2f7d15f3eae4b04b300b2cded5976dc",
            "a0983d7ddac840bba67057ce14aa0edd",
            "480246eda7694f35b89e08b65580e2fd",
            "1e6f524e36dd4c4fa27e0a7b6017d259",
            "3ea505faf97542ffbd53f77586988fd9",
            "6a8fa857a9ef48cd922f337c8b5d64ff",
            "09ab17ca353d416fb683883807975245",
            "9695cbdc5bce4ed3a6d97910905b4918",
            "e27c1987c3de4e47b81a01ac35f10f6c",
            "eb8d66bd703f4ef5b48a0293c71db478",
            "26fdabadfe2e48019045cdd0cf5ed118",
            "e231536546084290adc4e59f733778d5",
            "d6ea9a12289b415c8c033f257dc7727d",
            "fc2a426a63b3449f9abb7380b0e0d673",
            "a7d6bc1ea4eb476d9d844080acd19c81",
            "d2ef998576724d7180b95b478cedf690",
            "f6709ff21f2e426d9be412ca9740744e",
            "1842fa4bda4d476d8035ccb5cb395f19",
            "3a0ee1f63829471baa9e08511262612d",
            "d00ebfa28b2b4deaaab4cc49a412d0ef",
            "bc56b3ac3ce84897a1af1eb4c3b23c34",
            "fa3eb9af8c73472f811c7ea4afb882ae",
            "4abdaf6043c94982b01fbeaa2ba2e72c",
            "9e8c9e3b579542aa8d474d082621b8ee",
            "fa6da2130922470daac2bf1e15a0183e",
            "7b6f640401244d8fae19865d396661f0",
            "efd51d2039a64ed2a93da5fdde6c2d7a",
            "8baea493f3cc4baf933cf492b70fd64f",
            "e5cbfc6cfc5e40faa4bc327a26ad5b61",
            "1043e23d5a204fb7b4ef20da981e0e7f",
            "3b27a1a88eab4cfeb759761a12dc8a48",
            "f479001d999e4b7f918f8507eeb473b0",
            "43db760684bb485cbc09af0ddeac81fc",
            "d5875d5c92c34399a5cae7185167b14a",
            "20c4f5a4dfb0421a91d029fa84bbeca0",
            "8206ad17508c43618a74cfce1b1a80ac",
            "0a4f3067dc314dbaaedc97dc2363cb11",
            "0e59b12d8dba41d78be8a4391e7206eb",
            "f00dec2b363944dbb3e35f6fbb8f0243",
            "b6d4829e3dbd45e09e09553f67f37129",
            "9ff41acee076487eb57429a0626a7116",
            "a373983e192148779859354922acd65d",
            "99c39c358f8f4b5bb269b22c06cd0f1a",
            "6375611f14f4400cb808b3f40944a398",
            "8982a9bb56a94034aa330c9b16e79cc2",
            "4a62afe982e143739983ebfe4402d571",
            "59e7b4dcc81d49129864d4009cef3225",
            "5c20e93c62d84edb9ed79463aff04e46",
            "052221c1a3df4494ac4bc4d2c09172e3",
            "50825175952642f9916e6e494cfeba13",
            "442a1cf64e3041779f575c9a2c25d4a5",
            "e9f41a63f52444d39ab77f98018f0fd1",
            "25c93f0854ab4d0d9c1ebed9ea277ad1",
            "388b96001149462a9a3d50268c23e3f6"
          ]
        },
        "id": "NAX1KZ1Q7Aqg",
        "outputId": "3227668e-fe62-4318-cd61-29779c06d1f5"
      },
      "outputs": [
        {
          "name": "stdout",
          "output_type": "stream",
          "text": [
            "epoch=0 test {'loss': 1.3219246789813042}\n"
          ]
        },
        {
          "data": {
            "text/html": [
              "<table class=\"show_images\" style=\"border-spacing:0px;\"><tr><td style=\"padding:1px;\"><img width=\"28\" height=\"28\" style=\"image-rendering:auto; object-fit:cover;\" src=\"data:image/png;base64,iVBORw0KGgoAAAANSUhEUgAAABwAAAAcCAIAAAD9b0jDAAABoUlEQVR4nH1WW7bEIAiz7hEWqYt0zjTTNBNs/biXIoIJD6e11sa5VDAlNRAiArvQ4FOP9DFGZsKaQl3qMSLyXNDMOU34LY1GzbX5h8D0W7n9fQg0HLZIlCtkFTr+0dc8V2byRsapUZSZQK0cdm5AiwBrLcjmgncBrXprIhuEpdaVx5dKMGEw+9Cuteac9EsGwIkKDFwpmigAUr7WIhD+rSfxqcq1Vr14e08x+dUsqxcCYqTOPSUe+YkIFIPmijAd8iVERLdqUAb1gPWPOjLLgFMuLXhtREum3YAaZKUpocaU0U1mbVc1t4fYlW7VsDYszHYadG1K7R9oNEtMoKJGMh3c2E1SJUQJreTYkG0cKLyjGnFM0BqJVhK1wYAjTvkL37xoR1rBwUxZUuo4aJpCY8yaje3g0PmrB3+Lg7n28tN8gpe7NrUMxsMrUhP1YlMr3VHU6zxhB6waoytxmVmx1zLUx0bbFDnMzM5HBus4DqaSW7DWkmCFWC0Om6dqbUPEH58rRbV9bxeWAZ0G74TWqyDSF76NekLGj5HtkIZZDQP2PhPuwZY9HzF0AAAAAElFTkSuQmCC\"/></td><td style=\"padding:1px;\"><img width=\"28\" height=\"28\" style=\"image-rendering:auto; object-fit:cover;\" src=\"data:image/png;base64,iVBORw0KGgoAAAANSUhEUgAAABwAAAAcCAIAAAD9b0jDAAABv0lEQVR4nI1W0ZIDIQhjnf4ifqR8JDcrbRrD3s3x0FEXIUDAmpmtLbXgrbvbFiyg0xfujsUwsznn4x02WueZyZ/gXhzbb94+Xw7gHEqHnJlvf2KlPrCbzBRcsF6Cu1AYFXtEsF5mzjlxEhEMXLYMNsoO2wIKgbbWqmxyBL3C36T5x4po/JFrJEQKy4m+RSjF5+USuRbmPRZtWBPOJrbXdQnPqhhzC1/PzNdaq06lAhVy2ar0Q60WmXldF98qKBFxUAf0ZkoKh+RTb7+11igUsQXsEdKgPoyr0iKx2777YnO4w7xzdwk8Iip2JA2/JqUUh+BZAZQqF/beWmtvb6TSP6gsgvAtOEcS55ydsGY23B2XeWIhnII850Rm4Im5zGV4C0eH0BjjY7k5fNTTeUqx3c4nUehs4wE4kD50yAf9wYdSQE4xUKCs5IegBUQPYNEakhAwxBA+F6SbQ1Dgv4xBDtxEgPexLHijHp2J8i3S/iWFqL99gq43vpndUwqUBBPRmqxaws+PMPcr6xzdfNibktX6c3107aLEPb45/wmZs3T8meivJhuq+YAxKPMMVyJi8DW0AKzzzMcJ5oCkEV5/AL2w4mmjCjplAAAAAElFTkSuQmCC\"/></td><td style=\"padding:1px;\"><img width=\"28\" height=\"28\" style=\"image-rendering:auto; object-fit:cover;\" src=\"data:image/png;base64,iVBORw0KGgoAAAANSUhEUgAAABwAAAAcCAIAAAD9b0jDAAABs0lEQVR4nH1VUbLEIAhDZ6+Ih8RD+mbN2zQFWz86FimEBKyZWUTYXnXj7vFb2Fc32mFx925mc85kpcXdYec+IsYYNMKfr7aj9YiYc+IYm7kXPbBHIDyJOhkZt2s4YmFyTYCPmVjxEpbhqYzAlF7V+LJRioxnRFfpT1LUDR1cIWpElYhOa62K8enbXlUmy6phaw2hVcOEWoWxtZa7E4v2poI69umxc/PZWotp9uEV68gs/G/S224pNgcbqLWmTI0x4A1PBmLJuiLiliFlTr2SLPCsdUTEF6nihyAKAZB1rjjKqfZruchy7I/0WkeDG0rdCQHE6cCxRr1E0EnoFu5xxCp7zYkQmO6kA90gKZkBIKaxRHyq6DhFygwgp8SdfgSlOqg+2JAKMKiX7zVX/ptxTVVlPbbOkToz++glP8ZYa9WL8rjgpr8DfthSNi0TQZFMq9MO0WHzvcYY/5wyFhXXe159aFGiU1md5SNVutP0m2NN0Aq80dh1hBKDL9FxpLTelousR4lr51aw7BlP/6hUXbpha/Sn39S3pVRuqly5d/fWWr6NxPkmKefspa4nUPonVnL+AAfXtsZp8GI+AAAAAElFTkSuQmCC\"/></td><td style=\"padding:1px;\"><img width=\"28\" height=\"28\" style=\"image-rendering:auto; object-fit:cover;\" src=\"data:image/png;base64,iVBORw0KGgoAAAANSUhEUgAAABwAAAAcCAIAAAD9b0jDAAABzElEQVR4nH2Wa44DIQyDw2ivGA4Jh2SlevrVTWZ3flQQIA/biRrr/UWEfrVwO5aydovbr4iYc+rM70VEvj4ZfcF67+3B8HPhwq1ajDH23hGxX5+O9t5jDIXkVPfXWnPOtdbtVBvd8GS11eM5p6eGkcRxdbFXNE8Kd37KVnmUDALvhZbCQ2YWWkBclnPOWuuc88VKvo8z85zDtjhSMN3B75/sZyYUUb4H9+ogqocH36tkBHZzTrHfa5eqxhhFLRB7dZ2qRgDhmYoQe9hdLeecm8kCf0/KgwGLF+5Q6PuI/7HzeOxycdzdgnKDg/5x5OTSsl0bJPEz55TQvK+0cOzOOTKKeu99ECfABVF4dA1JJXpDs3NNF+D583y9y+lKdrVqQU1eb6E0M2/xO1J7b8RBXUpzjAHLHVa2o0rMaqfTmGlCQwEc0EdpRqnl/8GOBWR4u6TTPj07uSRbyvLiPiKNuIDME++z1S8gNbq2Tql8HaOn4p3HRZ5FWDWhfOupD2MJqDRSH1q9x346cZKU5p6zzwXxQy+wpoirDDeRUCrypJizQPnAyvoeZWU4cadU/Si+r1ePXQHKCokvvDgNxfs9UPxq143/JXFhFJSA/heJrcUhKiWD4gAAAABJRU5ErkJggg==\"/></td><td style=\"padding:1px;\"><img width=\"28\" height=\"28\" style=\"image-rendering:auto; object-fit:cover;\" src=\"data:image/png;base64,iVBORw0KGgoAAAANSUhEUgAAABwAAAAcCAIAAAD9b0jDAAAByUlEQVR4nHVWbbLEIAhjnb2iHFIOyZs1O9k0+vzRUQrIR0Iba685Z0SstSICe11zTryiDp8mj638zkyIqgpSbKCUmXxFM8r1Vg1iWFCqylVVuDszq6q74UUDqiomOrCDKpROjxYUXGQmA2RasfU/kaKmVYVnRHQ3U2ZZaKxBwRfcdTdcDY2O7dILsDQPyimBySPSkNuYl2aHfNWdVr+7NacJqzknI9dWQnLiTPFkkJrQJ05PxFk4NEP3aaLP2JtvTRX8V9da+rPihtxBg5MFagAv9pbUQFkpHAqgsxu60EMGYW20IgTP18qutVBQo8D1OPdND5oCSdocKL1eL62vUdloGlessNeWEft+ZkOori0ZqspikR4gEiqgLLA4jGMD2ZFIqqS8VAnbbQTj8U0pMaCV1UrpVDV3Nl6HnYlWm3LmLjMRhM2jhZryNrSYqpjHpCP21xF1PR7jQCRXdp+YMauh57Ozdr8hFO2izm/IrWeMyNdi4Yiyo36JCdUwOp6AtyuVCBY78B57fb9RzEJHhuZIMNjM1oR+k389xzjHis1TmyDn/4RG+gM/5ybAr6mRvmAtFXQ2k3Wfr6n2/b/JT3vlgv0P0Kqq/gCd/6BIgHDoNQAAAABJRU5ErkJggg==\"/></td><td style=\"padding:1px;\"><img width=\"28\" height=\"28\" style=\"image-rendering:auto; object-fit:cover;\" src=\"data:image/png;base64,iVBORw0KGgoAAAANSUhEUgAAABwAAAAcCAIAAAD9b0jDAAABvElEQVR4nI1WQY4DMQgj0X4RHsk8klXHXdcDqbQcRimBYBwgtcw0s7zF/kSV3NJv21WlmW2sIsKGQIlvVV3XlZn4mtl1XdyFuPvHGUaqaujcfcJ096qiYzN4ycwdPnocDmpUQNl8jXHUum552D0Twun4zngLhPotEQHuGJkaZRaEPhgUe8NFqay1sBcR8IcGwtO5gBl/5i1b0c1MSZly10oFWTKAmW3WipqyXJAm0fX7FUIYICI2kZPBeS3txlgbSHwG20dOGRzkEiyJg42aaYqmxTQrXPUsGu5mJjOj0t0f3QKj1ipavJOH1kuJ3m+MrLXcfa1X/TZ/WLL4Ffh5evjo39aIs2U1gOaXmR8sVUVrrOcoaYSQrgehTbSjsf0Jbl9v9TDPXBI/TutjSRyxN19rlcGkdA4xm1lG7Up/cHGc55BWEhFBTzb4vHG8C+5+yEtrhcxOzfFdgLzfKIXTBkRVcZjyUM2MtOoYMRzfUDTKWED/KYat4wCJsHMIfE6QOfQU7G5a5WEOY51VOvR0SiU7Spvs22uqN/btnwcWb6RAoQAxVoiOSSgibXF6PYa0uzfWmoBudQYOdcH6F0/oxblCkSapAAAAAElFTkSuQmCC\"/></td><td style=\"padding:1px;\"><img width=\"28\" height=\"28\" style=\"image-rendering:auto; object-fit:cover;\" src=\"data:image/png;base64,iVBORw0KGgoAAAANSUhEUgAAABwAAAAcCAIAAAD9b0jDAAABr0lEQVR4nH1VUbLEIAijzl5RDwmH9M02r9lsaNcPhyIiBEhjzpmZEYEdK89lAi3V2IQ891FV6gu7KrnmnGsteO+nuLLWejulO3zjABZU6jN1LQtFhaHuqmrvjUDUi34ChKoyuKoKeYQuAxH39QjuuOtFKD/6vC7svSNi752ZkDUv1dhjajb5mJ3hAN5/AKc5OaZxlYyIEFPi6Eh915DR0X48XdOQb71TRtG0kUcPgaZwehwHnbJP2Laq/5ympEyPLEsfp94kZhyIlFrCCkHj0oa1okFD4znnwPzgQodcBe1N5quIcwpe9mavlQJq4wcXOtMJEDqmJiusODIlwyL0Q7sHAvtUeYQs01PRLOtkgH/qIzrMpbtgIE9c8xVfnk9x6q17ejNpGazzAi3FHkbk9jJLoSV6Gn925KAKvo7jIF1an97C0m3ei/xIWmK+0PxgoycOjNuMdC5JK4o7X72f5nl1pZaIy8K0mpDauSY89Nrp76HXnbv+C1TOzBeGWsdRGRp5GLPdloseF8wsRwWkE50xno7iJ33O5e3UWwMYOfyYkS/eNeC1H55GyDglIv4A1xa+qBpcgd4AAAAASUVORK5CYII=\"/></td><td style=\"padding:1px;\"><img width=\"28\" height=\"28\" style=\"image-rendering:auto; object-fit:cover;\" src=\"data:image/png;base64,iVBORw0KGgoAAAANSUhEUgAAABwAAAAcCAIAAAD9b0jDAAABp0lEQVR4nI1WWXLFIAxzmF4RH9I5JJ1GraII5039BcYx8iYSEVFVcUldMueEBls9MmNd6HaYRUSc52kLSGZCiYvtFPpQwZ4YVc8jM34DW1VDD/TytZYBoVlmmjsNIjN/wycWfgAveYnCxPctXp4OeMnM4ziqigDpXUtn1dMgYBaXDL28RbErM/M8TwTBStAsIu6c7rkjBL0P6SYoZklzPbDSrBELRe+gBokiCK1VaI7mnDBVjbYLtpC11lsj/siHUdmttdXaMSsgtbawdXtl20+31BOOblEQbBkshDUAcOu5oWW1VB7Hwa12xVoLBUH1dBQLaxTHggIQtv3e/22sPaHUk/HWJR84Rd09Jqqek8vZwAKTw7jafuAnjzF94wVkqmWTzERmMaxW6mHWyn47WOpxkxEzRzY4GygFcaGANi20bDv0Nq62e/+MjPzt1YKB0XkgpxxnDXxnGXYreUspSnF8tZ9ZEg27ntI1DSagaK/9Zyh39uqfzvX08jYOrY09OXNOJ0plTOo/PN10bUTc584C1EfQvrch9j8UBdi/E9cC727b+WCpbzMQm73TXTIEAAAAAElFTkSuQmCC\"/></td><td style=\"padding:1px;\"><img width=\"28\" height=\"28\" style=\"image-rendering:auto; object-fit:cover;\" src=\"data:image/png;base64,iVBORw0KGgoAAAANSUhEUgAAABwAAAAcCAIAAAD9b0jDAAABwUlEQVR4nH2WWXLEIAxEgcoVpUPCIUmN23nVI+zw4RJoa23gPufMzDlnu1ZmxrW01Qnc1tpaKyIys7XmWtjJzOHSkosI0dKE0HetxbnEivCcc8CQdDHkcByvaAW01prXwsG9dMTXCbattb23iIgozjiJiFFwFdqDVSplVxhJ/ZzTMQ4P6gyWoqHWe1c1SD3mBDYivqx4CMX0Y3LfMjBwQrAC5YnnewM5ilYgD4/9lCZ3e280vUNkkXZsGBXDu09Zg4brEWBCedc2L7FxJhSeSoHdUmLcUDHWj/cQWfNCl/yU6mUmkdXw29+XofJw1EA6hD47lJwMjgjZ54c+dUNUhq1X9V6O1KeFoTyntrQza17rM1HEWK4Jh4MD5pXaliCaezgH45HrMOWpXECtiBY5lz59vNER8YVLtMvBLYeU8QHmP9HB2nv74Rt8n6BRGH6ZavXey4vE++HJpWfS3yhdwKVX0HRnpZPUJ5rDZPbRFFsSbwURzHLh+p0dek7K2D3C8ftB8+7QaPYmRVnxTjp9+OBSt7O8xDdK1rl13nqzvOQOk1H8GC36XPJn7L33wnIZHoJ79v1PpmgWl4WFlsLXG/4LrmKZYdLjqBoAAAAASUVORK5CYII=\"/></td><td style=\"padding:1px;\"><img width=\"28\" height=\"28\" style=\"image-rendering:auto; object-fit:cover;\" src=\"data:image/png;base64,iVBORw0KGgoAAAANSUhEUgAAABwAAAAcCAIAAAD9b0jDAAAByElEQVR4nH1WW5LDIAwzmb2iOSQ+JDtFWUURbPnoEPBTlk0jIsYYsdb4WxGRmTjkRiUzk2LYUPFZvJhzqpApmPuImHPSK3THGI1CvXdViwicqNeqysze+y6Pw4DWngV80rPk81hHdBo4N5l5caeaVaWRMkdLuap2u7V0H0C1SgaiLRPQuoWhbvEiKIJATexxThUYSZFxUIipBQudnUYHc+ONi/ncUaM/ygBlClxGHX7eeL+rQUM4ZO6tNVAtYdrqoz53rJVwWgBtv7lun6z3btNOo7J6xd4shBkyKA8d/SYWM9uZE8feMBpxMtDEq+L2OSRMJdaRA4YJu0v5d2E0aEHYgtrjKkO2tNYoiT3WZXzSRVZBBr82ScGtu+JrzTl/+MFweu8YcZ/J2BpA0PDpSXkKsb4cf8i/r8ysKlAatpgQNzhk+JCv5fUefdZI9pbohGZa1vuaxL32CW2TjWJ7SVU418mdPvwAdev9OSfOecUZZjwFypn57q0TZ783iPbCw9OQWPTiv+ZTr6QaUwkKKMu+t6yVDsnagA8zpK/58Y+CPiG7b6L8aVNFGpvWGjDhs4orMPEwkKRQL0xNgoS1SaiSNhVhsff+C9Y/qXQlEFG+AAAAAElFTkSuQmCC\"/></td><td style=\"padding:1px;\"><img width=\"28\" height=\"28\" style=\"image-rendering:auto; object-fit:cover;\" src=\"data:image/png;base64,iVBORw0KGgoAAAANSUhEUgAAABwAAAAcCAIAAAD9b0jDAAABsElEQVR4nH1VbbKEMAirzrsiHhIO2Tea3RhDXX44LVI+QkpHZo4xImJcgm1estzS/ofBDl80ghzHwbVuTU+N6Xezrir1XlVzThhAX1VIAkeYo0dNKeQNgbiEBurLABnMVHPpJWdmXaK+WBNyx/fhVN3Z1hIniPSCHFnHKVYjt3NOa3EPEBEwA+53Hbk6xoVaK/neAM3re2NKgDpS+LLdsEc8LKoKfwMgaBCDEkgxWdVrjlpNwBudcsEUVPAXv/AlDh2KHaWBNPgHBIyVWG/blpkk2dJ1KALooznqbemzQpVx6c/IrJEMt9r1XrBdWMw5kb46GYypUEJpo4s19VnVqXnK3bgVc5fEWA69+JLhY6eYvrF60RAp6w6WL1dQAWEWmuac03K80YjG07cry5vOavTu82zAoF+Sjrr1Suvt4Xcb+zYZeQasQo2Pay708ocjG6CGl3phsW9Y7UxKia3j3frLO6JhXHI1d1WDvJYz2wbNzbCQ4fTjyeN86rQ10IJTChOIE5doYMt6iSmf7v7oR8TfI+0vXmgiFhgZ1uWIoFI58AlvMPWHoLPVGGpPaWb+A6Dh4y8t3UlvAAAAAElFTkSuQmCC\"/></td><td style=\"padding:1px;\"><img width=\"28\" height=\"28\" style=\"image-rendering:auto; object-fit:cover;\" src=\"data:image/png;base64,iVBORw0KGgoAAAANSUhEUgAAABwAAAAcCAIAAAD9b0jDAAABuElEQVR4nH1VW5IEIQhTa64IhxwOydaarZgGe/3ospVHQALju9cYQzf6a2bc99vyi7XcfcjKTD0xs4jAiapxRQQ27n5M2waich2XiplZZip8/Y4tcAxRU/WLwlt+ShxLATKWiMDvNQ5EyixRiwKrZwp5ZKY0X+r1in1ApRvV6E6CJEXMbM/M2Ffr6s3MgFHzhT0ywyB4W7CPy8M9f/mAV3S9kD90Qoe2F/Hyi4LlQxEafdPu0mt9hEKKUh7uHntpGXCz6K3TBqgLrl7tuGVM7n7qNDPJSIKF3UJHTTrltVQ+BMVShz4yO+cEIrgsT9RT9LfwcBo1rbz1BKUZxZTTqzsEojlncVPESnmShw4xgtUORCClaDqFSpQGRpHgETHnhE8CKW+tIRdzh3gpJGE2qUzUPLx2QkgeU1/hdbfeW6o6IPFKD1ruTg+F+0iFdgA+iE4BsvzU+PdZT30WvbV9zZuCzcwPOdMbK4fg/yMPGGHXt/xidKwBVaM5PdeJS688MRjUuVhQ99HWS1UH5djrt/WhQtmWtO60Rb21xFI8dUT3QaSdQYlXoIEOjybd7RZoKDsl3mWCyvoBvlCk4/1a4N0AAAAASUVORK5CYII=\"/></td><td style=\"padding:1px;\"><img width=\"28\" height=\"28\" style=\"image-rendering:auto; object-fit:cover;\" src=\"data:image/png;base64,iVBORw0KGgoAAAANSUhEUgAAABwAAAAcCAIAAAD9b0jDAAABxUlEQVR4nH1WQZLDIAwzTL+IH2ke6Z1Gu4oqsuWQCcSALAmTWGtV1VorIqqKT4yzq19tROfG1Z17b35g04jMZDciMtOWxlyC2HtPxrFhG90M77ru3juvVlX4Osa49yhBcWZnKePZ3Y/j7E4iInhNPDPXWoxBTgRlnHxkXE9CEW93f8eoc9cF7s2pCbX37m4KQoqrihgJCqlwuXWl9buoCYUlMAfzVSuTAQ375RV8qw9QyMv88Ni4sSII+FT1MeuATW3Yz3xGARkQj7mAHaqx1uru84xhnALeX+uv6YoqJRrQEbt5w07qIJtqgMzs7jEG+dUXDeMITldezxdZ15NOw6urMAfeMLrMkaHpWJVSHs9xHgSQoLSGckobK1PKtb3bRCsdwSAeSqts5geqR0yaxzR2wIj6DnEsd0jWfE3zBsuNmpwkkoHTm/8xYJEfjaWBxj7nnJeK3S6hTGmh+3JNKYhTiWn2ZnGjPdk1M6jtTYnJGqPpa5Ui4yqLYdeKFVr6DBHicH4sgO/8hBduPy0pO4KKDsZS9Xl8MTLGuJHankYoS696UyvDKayrr9mp+urTx/tRu2+k+t+gPyBanJQQav148VTVD6N8qP7IIAq3AAAAAElFTkSuQmCC\"/></td><td style=\"padding:1px;\"><img width=\"28\" height=\"28\" style=\"image-rendering:auto; object-fit:cover;\" src=\"data:image/png;base64,iVBORw0KGgoAAAANSUhEUgAAABwAAAAcCAIAAAD9b0jDAAABrklEQVR4nH1VUZYDIQhT314RD4mHdF/NbiYNtny0DEMhQKCtHclMU6jnEXsbEXyMCPMc+FprwQQFHnNOfDKNBuIjdcpg5jnnOnKNBVFj9eHjADQEYiHVW9tiDkDD2jOzq2tErLVaa3tvKBq0hraUc844MrQpRIo+aFz4zCOwA6w1ZB35UYBWnaLrvQMF4GggDZ3nJ8NC2HzrlOFmw9x7K4sa27T3Vm4aQw2acVb9I+KFlEmuw6W3YkErtCbmWGs9eSytIr3u29We2CgC5EZB33sTr5GJZSpqa12zPIb9uvtV4UgCPTWpaVkN+cQToT581RSLNZQK09QuK+doGaAbMtsKGHZuFO2g52WMeTuaX4b+qZtvQfJWFBQCsbd7bzTqy47cTy+Uuqyf2KJpRh2ISkTgDH6hPU/aW8fzP38NSruhg1G5yY3IzIenyMaKNAHXTJOttXp/3XheWMgEWB2f7oZOgGm+71uip7YeWHn7U9OboL3mhaayjlunXz3VjIvbAYy9Pz+xvxzaRy2kUp37pkfg2uuHADYB5WZlLgegPsqQP8+6HjaNuja2S3aPfgH0vJXaUDQoYQAAAABJRU5ErkJggg==\"/></td><td style=\"padding:1px;\"><img width=\"28\" height=\"28\" style=\"image-rendering:auto; object-fit:cover;\" src=\"data:image/png;base64,iVBORw0KGgoAAAANSUhEUgAAABwAAAAcCAIAAAD9b0jDAAABz0lEQVR4nH1WW5LDMAjDmb0iHBIf0juxWlUBt3xkHIoBiUdq9pbcgoOZuTtfuwZPd4dezczsokVEQBURmTnnxCsPKmutuYWuKc5X5qIZUX/EQReqyS2vTDUIUlN9F3dfaxXjD/zYqPEbgONA7B0gbOacTCIi8DTltFyjIJi74xqoRFQ4RUiSENvvBVN6YbTiF4cxBjNCHjwTpZld9FX6BsAVBIrQu+WQRD599YJqBdZaSlRmQkN9bss7U6iY2g9hceBuPkVptN4TiHSMUSxLaycyLTcJnAVRfmjM6umkfjz42xoklFmqiKTty2ZQ3i9khL4rY96JRldyXnRF0O8Y4/FeWNOMemqdX75efWXoEtIWhk1BUwLbtr9bSicM1zA5hU1otKs4+LiL8Jn5wl9CcWBwYFRlGVAw+Lzo8vrgq/PLiq8tnV/N3bRPtQe1k0AIsIMW5sIddh4nf4aChs+y6pkszyWtAVBoLtiNMRC8c9oLQEvWMCL+4FGxsxq6/3XdkY270Gx1zTe/fJD10DGWwpYFcpFj+D2uXthw1dMF21OVBqeArEDgXT8YIFp57J3HX++JKt/O8q9Cd0dZoypIAvNd9+kxOAeU24CQFTjh/gMsEaYzbNy3hAAAAABJRU5ErkJggg==\"/></td><td style=\"padding:1px;\"><img width=\"28\" height=\"28\" style=\"image-rendering:auto; object-fit:cover;\" src=\"data:image/png;base64,iVBORw0KGgoAAAANSUhEUgAAABwAAAAcCAIAAAD9b0jDAAABtElEQVR4nH1VUbLEIAjTTq8oh5RDsrPNm2wa2sdHhyoihIBj7z0uWWtR35foIhQ16Ar189EoIuhr3EUNIoLrEXEz3nszoqoydwjBbrUMNKzRE+c2HK21qkpddxf0Dhm2YXd04LCFbHgBk2PGR7+TuWem+QWOmQkQsTXn1IAi4meth5GyyiMx3nI6EA4u596cU5E1vyg9siFP1OyAO1rrLxDgYWJiX1VuomV944qVXn+VPwXoujW9qPKPDQkwkH53YRkwO5YbHEAoUKwkXyHq2lfXzq1NFRDoaA3rwLXWQfiVRspQ7S78atEQY1VhZePUY+epO1Xe4IZHhnVyj7Sw8WMM1cXMRNQQcvYrfSwRQcWR60jWevoh130/j0U9bCOcihb5V5Xdml3HXR+MGoStaE8PRoSxBgu9pk9SRaPfdLDBUQTMMeU53w/OAW12yyMvLh69plBYyrgE57VzHhmyruC+TvWeR8jUC76shM3shAfFiE9FZ7u+VB1Zw+rsbFfGEASdmAiQEKELnPzjZawZz3SadD6pcnv4+LRYKbSJe8V6Hn+F0ueB9LLOs6naw6yqzJxzfgDMaqaNdQhCCQAAAABJRU5ErkJggg==\"/></td><td style=\"padding:1px;\"><img width=\"28\" height=\"28\" style=\"image-rendering:auto; object-fit:cover;\" src=\"data:image/png;base64,iVBORw0KGgoAAAANSUhEUgAAABwAAAAcCAIAAAD9b0jDAAABrklEQVR4nH1WYdLsIAiz3lEPCYfkzTOzab7Q1h87roIEEpiOMUZEjLOwWWthw18steFf9eLfqRdm3Z0jIjOrKjPfIu29PVpVdciGuoc0KKODf3wlImhj0FifO2T8LuqsHozYO1gFqExMHGXmdV2ZaWDXWigfrvSJx3QDlsCip1bZb3lY4utcTWCERWbuvYFurbX31qz5rqHWledqug5+qTHBfdYYo6pohngAoe5BosCSgTKiFKyddOVMAEZMywtYerKgznjH03HOp6bDPXpGX2cXWWVYYjAx1EfjWO8/LqsVXdYp13+iwDg2j73/JnitEktxHS3ddr0R3wIoNObK2FO5Y0fpoQ0RqAfEMgxy1RoOK//HcHnsNJXjOr73PO3S0RJjwzmgo4f6v6mLdwZ6Eh8jUYfvpIV2qiZrb3Hy8wqPssoRcdNndVGi6MyGVlym8UV3I0dr0qVqE0f1H5AUGXikSMcSn+AwZuKqwqqaag3Tb+p0GCoUamDvfc+xnntVWe0ozD4f/kg42hfD47Tvm7fPizu/x3Grnka6ca0wI+JMlF//9kY26rqWtaDk9h/P2rhrfIotngAAAABJRU5ErkJggg==\"/></td><td style=\"padding:1px;\"><img width=\"28\" height=\"28\" style=\"image-rendering:auto; object-fit:cover;\" src=\"data:image/png;base64,iVBORw0KGgoAAAANSUhEUgAAABwAAAAcCAIAAAD9b0jDAAABxUlEQVR4nH1VUbKEMAhLnXfF9pBwyL5Z42Qj6PLhaKFAAsKIiLUWnwAiAgBPAGTmnNNP1lrzFKp4i0IDAAcA6nhEF7xMp36NNzOzOJK7dRpfTpXLGKNbZyaheIAeT2YAsPd23ZxTkffeEcGoEcFPPgtkT+LwI3enHJVCnrLWGmPwRFzJkvJxKshUiH4icLq9gHzSuxcDwOFGRcYYhbXSGPLrXQFmSiACzhMaOeNKiqLUxPgX9JyT1zr3HqNbxik6ZwHxdP1yody9pu6ltGcJf0lRCzLjK0BpPoV5dhf3yD/asLwwpFKZBOGtoKK9Ea1PMeCWX1dx15WadigFspvJ5lC7jTF+kKBJ5g3kZur0zHxIxEvEXATQ/3pH6QR+pGAh2b3K3gmdNLEc9NbBSu39+IPZDnGw1mXU91/+UVu2gybDIYJ9nQiakuWE9vBlDNXRJ2EP8Brfe2/tvfvA97GSmR+nHtz/EJ/5uk8XJLEMTK214219CrJGeFmLHrvs1D99053novuZSdR9f3gSNN573/4NqvtTKZTmd65vvylMQU615spU12Dvw9QZuF5kxAYqtfIhpBlWBlVfxg/72av/NnDfVAD+AcE5rs6580duAAAAAElFTkSuQmCC\"/></td><td style=\"padding:1px;\"><img width=\"28\" height=\"28\" style=\"image-rendering:auto; object-fit:cover;\" src=\"data:image/png;base64,iVBORw0KGgoAAAANSUhEUgAAABwAAAAcCAIAAAD9b0jDAAABu0lEQVR4nH1VUXbDMAjDviMc0hzSe4sWRZHb+aOPJhiEBCQiYq0V11n3gZ2ZsDMTDvShbdfjOtP+VxWN7mZ0c6MREXB7nfXGYmAtkEKmMwrC75JkT2jNceZT/7033T4nXnKBmQ0ssfChifFcXO8XZiN0Zu69Lb1WbYknAVIitbt7rdXXefF156NK9AyyY+SqYoaR2C1HRNBzsm/O1kFXEcu3xiJX9JzdPcawxmT5qq8WmJlKkTIQERMXqoqGUlH30TJ1QL5OwXo3kLJ2TsH/M7qA1HRnOKQFlqrSeu2QUN6aiKIidLeKqzVqnygVDNfGgBna8HyOJzbTNinBLWWTCo8xhu0I5YQyWKsE1Ncy/xGU5KJYo3jv/bRU3VEYC++qinvorAbkaG+9EKz3nte6Pq59BmXn8RXPVEYwVPCjrDadbKBz4T9jGqLM6Z2Zup8UATpB6yDRkxewAWztMwc11Ek/lQwghSCQVaVETlfgZpNU2J7NK8hv+ehHIjIUeoc5xhjn6gFXYRnOaTmHSsfBPjZ8NRlFu5I5DT4us2T72DzYPy4LW3rMZF+9U6I/TnU9K/1n1bbJND2xI9kPwD2b9/ko0WAAAAAASUVORK5CYII=\"/></td><td style=\"padding:1px;\"><img width=\"28\" height=\"28\" style=\"image-rendering:auto; object-fit:cover;\" src=\"data:image/png;base64,iVBORw0KGgoAAAANSUhEUgAAABwAAAAcCAIAAAD9b0jDAAABuElEQVR4nHVWW7YDIQiD2SMsUhdpTyf3phGUjx5FnpmgtTGGvTJeuS1og9+IgEaV3D7cZybWWJjZnNPM4E8fSEQg5VqLxpvNWgvHMKVPROCIei2NC1a9dRAnH0TU7rTNGyxD48IfdWmxZaEVwfKM/tiz0aJURM3NZWs//r8DLagByr1G3TIQsRpjbJ+VCYnGkW0lbi/lyUw6QzITZHJ3GGFLma/oN9G1u395mpl0LnzEKR3IZYSOCJJ6a3dcGFMWimyfBf2YAxPFEnis20KpgjizAqJ8Hb+YKiIFvsx0d+0AboBVq6HjZATt/UipQlid3c4E6wPHAdXboMyuSrExVlRmg/cIlLd5o7CI9S4eoFOQBY5AByFALHJ2zqmlwMzdcfoNCi14B6rq/URY55xIBmNyFuGoN+1I29EtISOaHcRC6kdZeaQ0k2NqC3vUhfpHD/T96HE5lL1wuGxBbU8FZyBLqpdhxVCUZBvbRru+Si23B0NfCo3zAFO1Zu1Fz6Fk4eSASkT8eKMvT5m846WlU1fi2pah0UVzFHBurPol7Af8r9Bf+cMNsn+Yv6/fweaLon3oW0Jwu+8Hn2HXWufQLXQAAAAASUVORK5CYII=\"/></td></tr></table>"
            ],
            "text/plain": [
              "<IPython.core.display.HTML object>"
            ]
          },
          "metadata": {},
          "output_type": "display_data"
        },
        {
          "name": "stdout",
          "output_type": "stream",
          "text": [
            "Generated sample images (min/max): 0/3\n"
          ]
        },
        {
          "name": "stderr",
          "output_type": "stream",
          "text": [
            "Epoch 1/5:   0%|          | 2/1875 [00:08<1:51:11,  3.56s/ batches, loss=0.86]"
          ]
        },
        {
          "name": "stdout",
          "output_type": "stream",
          "text": [
            "mean train: {'loss': 1.3282442092895508}\n"
          ]
        },
        {
          "name": "stderr",
          "output_type": "stream",
          "text": [
            "Epoch 1/5:   4%|▎         | 69/1875 [00:18<05:32,  5.44 batches/s, loss=0.275] "
          ]
        },
        {
          "name": "stdout",
          "output_type": "stream",
          "text": [
            "mean train: {'loss': 0.3253377571479598}\n"
          ]
        },
        {
          "name": "stderr",
          "output_type": "stream",
          "text": [
            "Epoch 1/5:   6%|▋         | 121/1875 [00:28<06:09,  4.75 batches/s, loss=0.238]"
          ]
        },
        {
          "name": "stdout",
          "output_type": "stream",
          "text": [
            "mean train: {'loss': 0.25521188945724416}\n"
          ]
        },
        {
          "name": "stderr",
          "output_type": "stream",
          "text": [
            "Epoch 1/5:   9%|▉         | 166/1875 [00:39<05:12,  5.48 batches/s, loss=0.284]"
          ]
        },
        {
          "name": "stdout",
          "output_type": "stream",
          "text": [
            "mean train: {'loss': 0.23759122292200724}\n"
          ]
        },
        {
          "name": "stderr",
          "output_type": "stream",
          "text": [
            "Epoch 1/5:  11%|█▏        | 211/1875 [00:48<07:19,  3.78 batches/s, loss=0.239]"
          ]
        },
        {
          "name": "stdout",
          "output_type": "stream",
          "text": [
            "mean train: {'loss': 0.23614284882079}\n"
          ]
        },
        {
          "name": "stderr",
          "output_type": "stream",
          "text": [
            "Epoch 1/5:  14%|█▍        | 265/1875 [00:59<05:22,  4.99 batches/s, loss=0.228]"
          ]
        },
        {
          "name": "stdout",
          "output_type": "stream",
          "text": [
            "mean train: {'loss': 0.2329147460888017}\n"
          ]
        },
        {
          "name": "stderr",
          "output_type": "stream",
          "text": [
            "Epoch 1/5:  17%|█▋        | 310/1875 [01:09<06:48,  3.83 batches/s, loss=0.229]"
          ]
        },
        {
          "name": "stdout",
          "output_type": "stream",
          "text": [
            "mean train: {'loss': 0.22081863491431528}\n"
          ]
        },
        {
          "name": "stderr",
          "output_type": "stream",
          "text": [
            "Epoch 1/5:  18%|█▊        | 346/1875 [01:19<06:55,  3.68 batches/s, loss=0.217]"
          ]
        },
        {
          "name": "stdout",
          "output_type": "stream",
          "text": [
            "mean train: {'loss': 0.22221853708227476}\n"
          ]
        },
        {
          "name": "stderr",
          "output_type": "stream",
          "text": [
            "Epoch 1/5:  21%|██▏       | 402/1875 [01:29<04:14,  5.79 batches/s, loss=0.239]"
          ]
        },
        {
          "name": "stdout",
          "output_type": "stream",
          "text": [
            "mean train: {'loss': 0.2165218025445938}\n"
          ]
        },
        {
          "name": "stderr",
          "output_type": "stream",
          "text": [
            "Epoch 1/5:  24%|██▍       | 454/1875 [01:39<04:13,  5.60 batches/s, loss=0.146]"
          ]
        },
        {
          "name": "stdout",
          "output_type": "stream",
          "text": [
            "mean train: {'loss': 0.2135326567123521}\n"
          ]
        },
        {
          "name": "stderr",
          "output_type": "stream",
          "text": [
            "Epoch 1/5:  26%|██▌       | 491/1875 [01:49<04:44,  4.87 batches/s, loss=0.216]"
          ]
        },
        {
          "name": "stdout",
          "output_type": "stream",
          "text": [
            "mean train: {'loss': 0.21667006156510776}\n"
          ]
        },
        {
          "name": "stderr",
          "output_type": "stream",
          "text": [
            "Epoch 1/5:  28%|██▊       | 534/1875 [01:59<04:36,  4.85 batches/s, loss=0.216]"
          ]
        },
        {
          "name": "stdout",
          "output_type": "stream",
          "text": [
            "mean train: {'loss': 0.21182000983593074}\n"
          ]
        },
        {
          "name": "stderr",
          "output_type": "stream",
          "text": [
            "Epoch 1/5:  31%|███       | 583/1875 [02:09<03:38,  5.92 batches/s, loss=0.23] "
          ]
        },
        {
          "name": "stdout",
          "output_type": "stream",
          "text": [
            "mean train: {'loss': 0.21356557279217}\n"
          ]
        },
        {
          "name": "stderr",
          "output_type": "stream",
          "text": [
            "Epoch 1/5:  34%|███▍      | 641/1875 [02:20<03:29,  5.88 batches/s, loss=0.174]"
          ]
        },
        {
          "name": "stdout",
          "output_type": "stream",
          "text": [
            "mean train: {'loss': 0.2124871889065052}\n"
          ]
        },
        {
          "name": "stderr",
          "output_type": "stream",
          "text": [
            "Epoch 1/5:  37%|███▋      | 699/1875 [02:30<03:21,  5.84 batches/s, loss=0.194]"
          ]
        },
        {
          "name": "stdout",
          "output_type": "stream",
          "text": [
            "mean train: {'loss': 0.2070866026755037}\n"
          ]
        },
        {
          "name": "stderr",
          "output_type": "stream",
          "text": [
            "Epoch 1/5:  40%|███▉      | 742/1875 [02:40<04:51,  3.88 batches/s, loss=0.216]"
          ]
        },
        {
          "name": "stdout",
          "output_type": "stream",
          "text": [
            "mean train: {'loss': 0.2068325514820489}\n"
          ]
        },
        {
          "name": "stderr",
          "output_type": "stream",
          "text": [
            "Epoch 1/5:  42%|████▏     | 793/1875 [02:50<03:05,  5.82 batches/s, loss=0.196]"
          ]
        },
        {
          "name": "stdout",
          "output_type": "stream",
          "text": [
            "mean train: {'loss': 0.21008923083543776}\n"
          ]
        },
        {
          "name": "stderr",
          "output_type": "stream",
          "text": [
            "Epoch 1/5:  45%|████▌     | 846/1875 [03:00<02:56,  5.84 batches/s, loss=0.24] "
          ]
        },
        {
          "name": "stdout",
          "output_type": "stream",
          "text": [
            "mean train: {'loss': 0.20782691915080231}\n"
          ]
        },
        {
          "name": "stderr",
          "output_type": "stream",
          "text": [
            "Epoch 1/5:  48%|████▊     | 892/1875 [03:10<03:06,  5.26 batches/s, loss=0.203]"
          ]
        },
        {
          "name": "stdout",
          "output_type": "stream",
          "text": [
            "mean train: {'loss': 0.21191768769336783}\n"
          ]
        },
        {
          "name": "stderr",
          "output_type": "stream",
          "text": [
            "Epoch 1/5:  50%|█████     | 945/1875 [03:20<02:47,  5.56 batches/s, loss=0.208]"
          ]
        },
        {
          "name": "stdout",
          "output_type": "stream",
          "text": [
            "mean train: {'loss': 0.20744398995390478}\n"
          ]
        },
        {
          "name": "stderr",
          "output_type": "stream",
          "text": [
            "Epoch 1/5:  53%|█████▎    | 1001/1875 [03:30<02:37,  5.54 batches/s, loss=0.168]"
          ]
        },
        {
          "name": "stdout",
          "output_type": "stream",
          "text": [
            "mean train: {'loss': 0.2012663653918675}\n"
          ]
        },
        {
          "name": "stderr",
          "output_type": "stream",
          "text": [
            "Epoch 1/5:  56%|█████▌    | 1052/1875 [03:40<02:27,  5.58 batches/s, loss=0.184]"
          ]
        },
        {
          "name": "stdout",
          "output_type": "stream",
          "text": [
            "mean train: {'loss': 0.20330758977170085}\n"
          ]
        },
        {
          "name": "stderr",
          "output_type": "stream",
          "text": [
            "Epoch 1/5:  59%|█████▊    | 1101/1875 [03:51<02:39,  4.85 batches/s, loss=0.224]"
          ]
        },
        {
          "name": "stdout",
          "output_type": "stream",
          "text": [
            "mean train: {'loss': 0.20291564476733304}\n"
          ]
        },
        {
          "name": "stderr",
          "output_type": "stream",
          "text": [
            "Epoch 1/5:  61%|██████    | 1144/1875 [04:01<02:31,  4.84 batches/s, loss=0.193]"
          ]
        },
        {
          "name": "stdout",
          "output_type": "stream",
          "text": [
            "mean train: {'loss': 0.20754608546578607}\n"
          ]
        },
        {
          "name": "stderr",
          "output_type": "stream",
          "text": [
            "Epoch 1/5:  64%|██████▎   | 1193/1875 [04:11<02:29,  4.56 batches/s, loss=0.201]"
          ]
        },
        {
          "name": "stdout",
          "output_type": "stream",
          "text": [
            "mean train: {'loss': 0.2023658281078144}\n"
          ]
        },
        {
          "name": "stderr",
          "output_type": "stream",
          "text": [
            "Epoch 1/5:  66%|██████▌   | 1242/1875 [04:21<01:50,  5.75 batches/s, loss=0.201]"
          ]
        },
        {
          "name": "stdout",
          "output_type": "stream",
          "text": [
            "mean train: {'loss': 0.1961049686889259}\n"
          ]
        },
        {
          "name": "stderr",
          "output_type": "stream",
          "text": [
            "Epoch 1/5:  69%|██████▉   | 1292/1875 [04:31<01:43,  5.66 batches/s, loss=0.197]"
          ]
        },
        {
          "name": "stdout",
          "output_type": "stream",
          "text": [
            "mean train: {'loss': 0.2011588415503502}\n"
          ]
        },
        {
          "name": "stderr",
          "output_type": "stream",
          "text": [
            "Epoch 1/5:  72%|███████▏  | 1349/1875 [04:41<01:32,  5.67 batches/s, loss=0.195]"
          ]
        },
        {
          "name": "stdout",
          "output_type": "stream",
          "text": [
            "mean train: {'loss': 0.20343317601241565}\n"
          ]
        },
        {
          "name": "stderr",
          "output_type": "stream",
          "text": [
            "Epoch 1/5:  75%|███████▍  | 1398/1875 [04:51<01:38,  4.86 batches/s, loss=0.188]"
          ]
        },
        {
          "name": "stdout",
          "output_type": "stream",
          "text": [
            "mean train: {'loss': 0.2048388172169121}\n"
          ]
        },
        {
          "name": "stderr",
          "output_type": "stream",
          "text": [
            "Epoch 1/5:  77%|███████▋  | 1452/1875 [05:01<01:15,  5.58 batches/s, loss=0.177]"
          ]
        },
        {
          "name": "stdout",
          "output_type": "stream",
          "text": [
            "mean train: {'loss': 0.2023229369962657}\n"
          ]
        },
        {
          "name": "stderr",
          "output_type": "stream",
          "text": [
            "Epoch 1/5:  80%|████████  | 1506/1875 [05:11<01:03,  5.82 batches/s, loss=0.191]"
          ]
        },
        {
          "name": "stdout",
          "output_type": "stream",
          "text": [
            "mean train: {'loss': 0.20306087082082575}\n"
          ]
        },
        {
          "name": "stderr",
          "output_type": "stream",
          "text": [
            "Epoch 1/5:  83%|████████▎ | 1554/1875 [05:21<01:20,  4.00 batches/s, loss=0.214]"
          ]
        },
        {
          "name": "stdout",
          "output_type": "stream",
          "text": [
            "mean train: {'loss': 0.20447000163666745}\n"
          ]
        },
        {
          "name": "stderr",
          "output_type": "stream",
          "text": [
            "Epoch 1/5:  85%|████████▍ | 1593/1875 [05:31<01:06,  4.23 batches/s, loss=0.144]"
          ]
        },
        {
          "name": "stdout",
          "output_type": "stream",
          "text": [
            "mean train: {'loss': 0.20286257676780223}\n"
          ]
        },
        {
          "name": "stderr",
          "output_type": "stream",
          "text": [
            "Epoch 1/5:  87%|████████▋ | 1635/1875 [05:41<00:44,  5.43 batches/s, loss=0.212]"
          ]
        },
        {
          "name": "stdout",
          "output_type": "stream",
          "text": [
            "mean train: {'loss': 0.20134804088894914}\n"
          ]
        },
        {
          "name": "stderr",
          "output_type": "stream",
          "text": [
            "Epoch 1/5:  90%|████████▉ | 1684/1875 [05:51<00:34,  5.52 batches/s, loss=0.181]"
          ]
        },
        {
          "name": "stdout",
          "output_type": "stream",
          "text": [
            "mean train: {'loss': 0.20097084556307113}\n"
          ]
        },
        {
          "name": "stderr",
          "output_type": "stream",
          "text": [
            "Epoch 1/5:  93%|█████████▎| 1739/1875 [06:01<00:24,  5.47 batches/s, loss=0.212]"
          ]
        },
        {
          "name": "stdout",
          "output_type": "stream",
          "text": [
            "mean train: {'loss': 0.21300180391831833}\n"
          ]
        },
        {
          "name": "stderr",
          "output_type": "stream",
          "text": [
            "Epoch 1/5:  96%|█████████▌| 1792/1875 [06:12<00:14,  5.70 batches/s, loss=0.171]"
          ]
        },
        {
          "name": "stdout",
          "output_type": "stream",
          "text": [
            "mean train: {'loss': 0.19807534875734797}\n"
          ]
        },
        {
          "name": "stderr",
          "output_type": "stream",
          "text": [
            "Epoch 1/5:  98%|█████████▊| 1837/1875 [06:22<00:10,  3.55 batches/s, loss=0.211]"
          ]
        },
        {
          "name": "stdout",
          "output_type": "stream",
          "text": [
            "mean train: {'loss': 0.1984254154894087}\n"
          ]
        },
        {
          "name": "stderr",
          "output_type": "stream",
          "text": [
            "Epoch 1/5: 100%|██████████| 1875/1875 [06:29<00:00,  4.81 batches/s, loss=0.187]\n"
          ]
        },
        {
          "name": "stdout",
          "output_type": "stream",
          "text": [
            "epoch=1 test {'loss': 0.20092172361910343}\n"
          ]
        },
        {
          "data": {
            "text/html": [
              "<table class=\"show_images\" style=\"border-spacing:0px;\"><tr><td style=\"padding:1px;\"><img width=\"28\" height=\"28\" style=\"image-rendering:auto; object-fit:cover;\" src=\"data:image/png;base64,iVBORw0KGgoAAAANSUhEUgAAABwAAAAcCAIAAAD9b0jDAAAAY0lEQVR4nO2UwQ3AMAgDiXc0SzIklaqq39pSPhW59+FEEBJx2M0Sve5+CtZ3CawrVJWiQZFIWmfDsmeG8vR08KBK204vNDP/9kuJQPTetipDgxuqAD3UfQMSJPsmtkNzEWIeF2jgHyGAYEQOAAAAAElFTkSuQmCC\"/></td><td style=\"padding:1px;\"><img width=\"28\" height=\"28\" style=\"image-rendering:auto; object-fit:cover;\" src=\"data:image/png;base64,iVBORw0KGgoAAAANSUhEUgAAABwAAAAcCAIAAAD9b0jDAAAApklEQVR4nO2UUQ7EIAhE0fSKcMjxkG6yJE1Nq0C16cfu+6uFcQSU6M/vkswIZiYiAOXLviIi97etfQBcpuSxYi9timqhpQg45TZBCzqOMQBwrJ0mr6mpon0/m7r0Tk7R3enU2ak9fmie1vfdgJlvK+bej1KKXkQR6TVkCm5dm9XMTtHj5xrjdbI/49lyKmaK4BTd/Iop2S96zGnond/MCO31I6P6Ph9kzw9J0dK+SgAAAABJRU5ErkJggg==\"/></td><td style=\"padding:1px;\"><img width=\"28\" height=\"28\" style=\"image-rendering:auto; object-fit:cover;\" src=\"data:image/png;base64,iVBORw0KGgoAAAANSUhEUgAAABwAAAAcCAIAAAD9b0jDAAAAlElEQVR4nO2TQQ6AIAwEi/GL/eR+EhNUggKlUA7GMAdOZbtLKdHinzDzZDl/Y5UG4L0/zxcjvjixVgRA8e4ui3Z7kcltImB9ASIqJm3GN4WoiW5GdZUogOZ8YoFzrt0WyRyEyo4VwHOytQvKxhea75LWCDY3Epnw/7myl/mL9zVjxcoP2ueK7oQV4hA5pp65lItPcAA4SEXW0J3EsQAAAABJRU5ErkJggg==\"/></td><td style=\"padding:1px;\"><img width=\"28\" height=\"28\" style=\"image-rendering:auto; object-fit:cover;\" src=\"data:image/png;base64,iVBORw0KGgoAAAANSUhEUgAAABwAAAAcCAIAAAD9b0jDAAAAjElEQVR4nO2TSw6AIAxEK/GKwyGHQ2KiRsVPtdoEF7wdcXiRDog0qgMgj5B0k5LMG04zvcm4s8QYT2PB3fhmlPrBbeyMAMS3HLgb+f0msTQ6/CYO5fxylFI2bhplp0vXXKcln76ovDGmlOQ7KCuybg9XUmXpUD3ttz1cfVjm+GKg4TbhdvYJjsyLRl0GweTHWiyDvggAAAAASUVORK5CYII=\"/></td><td style=\"padding:1px;\"><img width=\"28\" height=\"28\" style=\"image-rendering:auto; object-fit:cover;\" src=\"data:image/png;base64,iVBORw0KGgoAAAANSUhEUgAAABwAAAAcCAIAAAD9b0jDAAAAc0lEQVR4nO2UUQrAMAhDo3f0kvaQGYyx7WcQQWgZfd/h1dpQYPMrSGZmRChh172iEaJU15UnBTDGUGKmhEheabP+SUUc06XRWCnTVvnkoVF6K5/fU2gHeFWq9N+XuH4nPMnMtSv1RhnWUUT8/QrcS9jgmwN4PSgN8jrADQAAAABJRU5ErkJggg==\"/></td><td style=\"padding:1px;\"><img width=\"28\" height=\"28\" style=\"image-rendering:auto; object-fit:cover;\" src=\"data:image/png;base64,iVBORw0KGgoAAAANSUhEUgAAABwAAAAcCAIAAAD9b0jDAAAAb0lEQVR4nO2VQQrAMAgEV/+4n9RHplBozisY7CFzlsGNYoDLIPGiVHrJS1LxuqiLCJLoZX0oaleM1R4dU0TEjj/WqStFmdkv5dFBpdayj0lZjG9K0d4kM/v3SlXfwUvz6ZQeYVXuHg7FVxF/J1yABy8DPfTkEsTdAAAAAElFTkSuQmCC\"/></td><td style=\"padding:1px;\"><img width=\"28\" height=\"28\" style=\"image-rendering:auto; object-fit:cover;\" src=\"data:image/png;base64,iVBORw0KGgoAAAANSUhEUgAAABwAAAAcCAIAAAD9b0jDAAAArElEQVR4nO2UURLDIAhE0ekV10PCIdOZ2pKk0bikTr/yvozBBQQUubmZSmruAtgu/NPM6trMSikBPwuHezqSezFOS19VT0Q9X1V9H07t29sB4JimvnBnquq/hAF7UY+oZ0OJVgDU6KSFR9ozCLPNPVB9nil98sOF8mWUKSyjxnBSSHQ9dtr2+YLikHyh0MP36REVZeY9M6JmxpjFRPGJlHqWhGM4l19cH9N/8wR7scdsGUl7uAAAAABJRU5ErkJggg==\"/></td><td style=\"padding:1px;\"><img width=\"28\" height=\"28\" style=\"image-rendering:auto; object-fit:cover;\" src=\"data:image/png;base64,iVBORw0KGgoAAAANSUhEUgAAABwAAAAcCAIAAAD9b0jDAAAAlUlEQVR4nO2U3Q6AIAiFkXekh8SHpM3KuUxBtHXTd8UmO+PwI8DPh1BCRIhomaJcqMloF82xRddELpOZVfto04QY42PsF2VDde96H1NctkzMXJa53jiYwc6b2ywa825rZDytMe/ORnMxoroP/QEiuNgSZaCLUkK9y1pOYWY9Q0f0zAjNnBbYejisqR/SGES07C5/YJod2gGsiUyE730AAAAASUVORK5CYII=\"/></td><td style=\"padding:1px;\"><img width=\"28\" height=\"28\" style=\"image-rendering:auto; object-fit:cover;\" src=\"data:image/png;base64,iVBORw0KGgoAAAANSUhEUgAAABwAAAAcCAIAAAD9b0jDAAAAhUlEQVR4nO2VwQrAIAhA1X+0j9SPdNDYDotIlxGMvVMHe5kmAfzsgitmdi7SpNbQC6bJk6akIgLpWMPsMdwUNKFXIhLKET3SR6MRB7vII1XVe11KGcYTLIBC0VrJkXKw15RuhBfXz5eKb4poT6a8tKaq6nn5sChT9A/+cOQD8PU1pRnh4xzOuXDKQvE/VwAAAABJRU5ErkJggg==\"/></td><td style=\"padding:1px;\"><img width=\"28\" height=\"28\" style=\"image-rendering:auto; object-fit:cover;\" src=\"data:image/png;base64,iVBORw0KGgoAAAANSUhEUgAAABwAAAAcCAIAAAD9b0jDAAAAqklEQVR4nO2TUQrEIAxEE+8YD5ke0oKyg7AaY+pHF/Z9lGKaYZKxRH9eQqmIyLCaYor2B2lXcebukSi4KjSC6cHszLztVFWNYXPOFNhdGUVs5x7ZqSclMkRVtb3M0oigqt+T4tDu5Vmh72yZwLuR+wKYAv2J3ctGTSpYa3tCMWh2CMw6b4ILrOLkv391qzhGcQSVYtInx5dPOPb4vCXqvFKJQhwOilYL/Slu5LCNuIUOYcoAAAAASUVORK5CYII=\"/></td><td style=\"padding:1px;\"><img width=\"28\" height=\"28\" style=\"image-rendering:auto; object-fit:cover;\" src=\"data:image/png;base64,iVBORw0KGgoAAAANSUhEUgAAABwAAAAcCAIAAAD9b0jDAAAAgUlEQVR4nO2SQQrAIAwEJfSL+8nkkSkollLaauwWPDgnwTDGZFNazIO7A7i92gZ0yJjZ58YqADzz1Oa4UVXJRnd/r5SQtBya05SosUfai6qSp6l0I077ocVIa5vNpQfw+MeF9nhIavEASWcdbUWXmTK9+CNSKXtLsGjhP2DmdDEFO6LWfJ7csGzzAAAAAElFTkSuQmCC\"/></td><td style=\"padding:1px;\"><img width=\"28\" height=\"28\" style=\"image-rendering:auto; object-fit:cover;\" src=\"data:image/png;base64,iVBORw0KGgoAAAANSUhEUgAAABwAAAAcCAIAAAD9b0jDAAAAlElEQVR4nO2UXQ7EIAiER+6Ih5RDskmbmm2aziLladPvzQiTkR+Bl39DVf1AVUlki4u6+ymz3eZKUPFqjZgVZDGzYtHeO7mVnChvlORUyNuRc2obxaKqOsbAc/wMr+nyLu3weAmKfh95QZGoqZnxIcWTjSoTtYBNBH+p2RnyM605HcdI/uzPpJXbRMTpNFgw8C/I8gFaNVP3chYP2wAAAABJRU5ErkJggg==\"/></td><td style=\"padding:1px;\"><img width=\"28\" height=\"28\" style=\"image-rendering:auto; object-fit:cover;\" src=\"data:image/png;base64,iVBORw0KGgoAAAANSUhEUgAAABwAAAAcCAIAAAD9b0jDAAAAdUlEQVR4nO2SSwrAMAhE1TuaQ+ohU+iP7hyDxU3eenygDtGmF1VFYpKVzhOqwswuYygV6mU+hJfllPSeYa5ZX7G/L+5uZmFYEONX5O410i+ItPjvK7UH81xbJvSm78pjjDCcluJIj9TzHeLyL1Gq/J0l3dAfHG56WNSTqZFEAAAAAElFTkSuQmCC\"/></td><td style=\"padding:1px;\"><img width=\"28\" height=\"28\" style=\"image-rendering:auto; object-fit:cover;\" src=\"data:image/png;base64,iVBORw0KGgoAAAANSUhEUgAAABwAAAAcCAIAAAD9b0jDAAAAoklEQVR4nO2UUQrDQAhEdckV55Kzh7QQKUhbjJsYKKXzucTni2Yj8s9PBUAzkaSZkcSeHqiFkGwgAojQBi4C0d+9gct9mk70k9jjkiZC/VVTPpeeiH/MSDTv+jYtmMal5bXbIX3O6dy6+FZRfm+Tl4xi8yXo2l2qDFRyUx/iCS+tPPRip6oNM51BtiKuFWiUPdSU1e0X5zt6cbIUAD3//O/KA4Kxu3lluRCIAAAAAElFTkSuQmCC\"/></td><td style=\"padding:1px;\"><img width=\"28\" height=\"28\" style=\"image-rendering:auto; object-fit:cover;\" src=\"data:image/png;base64,iVBORw0KGgoAAAANSUhEUgAAABwAAAAcCAIAAAD9b0jDAAAApUlEQVR4nO2T3QqAIAxG5+gVe8n5kAsciZX70aSrzkXIwOM+cwA/PyZ7gQuyhvfsp7HFUCfXyMx1nXOWr/Sbkr+9AxHV1ojoVm8rM6nhSrdYwYhdUndPnc8OD+xOLbTs9TCtU4RBWpF2LWjs116MeDWjzzN+5PFvtvTWzpoBNWYBVsGB7JMD5k4nDkll4f53DBqJKB4ZYZBcgC9vc4D1RpEuNk5wAOGbxG6Cf/VHAAAAAElFTkSuQmCC\"/></td><td style=\"padding:1px;\"><img width=\"28\" height=\"28\" style=\"image-rendering:auto; object-fit:cover;\" src=\"data:image/png;base64,iVBORw0KGgoAAAANSUhEUgAAABwAAAAcCAIAAAD9b0jDAAAAhUlEQVR4nO2U0QrAIAhFTfrF20fmRzaYzIfBSIcx2HYeogc5XNQiehW993zp2PGreVoBQC8ikiZVZIfSk/rhQO2HpYh0lp95AuPAH5anFa01vWRKjfwXFYJXJF0yqPx/zwWAqLdG7dZZACJiC3e/rSeuslePtJRi6XRcembug5K5DD80YwP4wWnYb/DvBAAAAABJRU5ErkJggg==\"/></td><td style=\"padding:1px;\"><img width=\"28\" height=\"28\" style=\"image-rendering:auto; object-fit:cover;\" src=\"data:image/png;base64,iVBORw0KGgoAAAANSUhEUgAAABwAAAAcCAIAAAD9b0jDAAAAnUlEQVR4nO2U0QrDMAhFNewXzUfqRzpYQS5Zk61WBoGdpxbs0V5MiP5sj4hs4hURd0982D5WhPeY+u7sDqgqvubVviTjlVegOOl7p5m3fdPAzHrv8YyNT+sfCxEz02/wqt8PItmDGukA5oswXWE4YLPQG2WJfbgr7XNRHoXDuijjq17U1WdqZmW3rUICw9rW7KlMJuWEy91P75cNeQJAlaSaSK2hQgAAAABJRU5ErkJggg==\"/></td><td style=\"padding:1px;\"><img width=\"28\" height=\"28\" style=\"image-rendering:auto; object-fit:cover;\" src=\"data:image/png;base64,iVBORw0KGgoAAAANSUhEUgAAABwAAAAcCAIAAAD9b0jDAAAArElEQVR4nO1VSRLEIAhE/oiPxEeSgxWLMS6tcW7pQw6maVaR6MNpBJwqIvkrIiEsGHYhIuZAQzD9AbyUe0aM8Yxzu6GqZyJVJ5RSmvIDIuo7g/SdkaYfrqaqTquJVLk7nn4AKq/VL37yKhvQ906Y1orUE1BRc2iGXETR9OWXh4znXHS/avRuoRRPVR4M2jfTz6JrN8KGrS+c5yEPRH0IPdHmKgjI+3Fyh36gLVw2dpmiE65G6wAAAABJRU5ErkJggg==\"/></td><td style=\"padding:1px;\"><img width=\"28\" height=\"28\" style=\"image-rendering:auto; object-fit:cover;\" src=\"data:image/png;base64,iVBORw0KGgoAAAANSUhEUgAAABwAAAAcCAIAAAD9b0jDAAAAdklEQVR4nO2TUQoAIQgF1TvaIfWQLQQbfbUab9kWmm8ZJjSiwyeoqpnVhpnBpHVAVefzEpRi6ial9IRkS90dIx0ppRBE6nddJJMWSveWavKkJDUdtMsbiwrRP37k8ulP2+fI0PhqZgYvavvSDvjve9Mh7/RAGS5s2U31Qm1y/QAAAABJRU5ErkJggg==\"/></td><td style=\"padding:1px;\"><img width=\"28\" height=\"28\" style=\"image-rendering:auto; object-fit:cover;\" src=\"data:image/png;base64,iVBORw0KGgoAAAANSUhEUgAAABwAAAAcCAIAAAD9b0jDAAAAp0lEQVR4nO2UUQrEIAxEp94xHnJ6SBciirRuoiUfhd33Vai+jlUH+GmOxXGiAMg5x3yZZFGq1yWtZwyDLSPJGDWbsZQSoIOuuhtJxkgZHhNAN4btEsNjcjDaMUVk+ruTMedUVvbTl55N5Bq/kYx3trTftPuwZE97Jp3jnvl+NTbuBb1a2u2t66mqVVIn1+exZbAFB++Uh4UgQ6hL8JiKodrD6urPK/gA8Jv0L1LPfzEAAAAASUVORK5CYII=\"/></td></tr></table>"
            ],
            "text/plain": [
              "<IPython.core.display.HTML object>"
            ]
          },
          "metadata": {},
          "output_type": "display_data"
        },
        {
          "name": "stdout",
          "output_type": "stream",
          "text": [
            "Generated sample images (min/max): 0/3\n"
          ]
        },
        {
          "name": "stderr",
          "output_type": "stream",
          "text": [
            "Epoch 2/5:   0%|          | 3/1875 [00:01<22:38,  1.38 batches/s, loss=0.216]"
          ]
        },
        {
          "name": "stdout",
          "output_type": "stream",
          "text": [
            "mean train: {'loss': 0.19798813795759565}\n"
          ]
        },
        {
          "name": "stderr",
          "output_type": "stream",
          "text": [
            "Epoch 2/5:   3%|▎         | 47/1875 [00:12<05:20,  5.70 batches/s, loss=0.201]"
          ]
        },
        {
          "name": "stdout",
          "output_type": "stream",
          "text": [
            "mean train: {'loss': 0.19670751864133879}\n"
          ]
        },
        {
          "name": "stderr",
          "output_type": "stream",
          "text": [
            "Epoch 2/5:   5%|▍         | 87/1875 [00:22<05:35,  5.33 batches/s, loss=0.174]"
          ]
        },
        {
          "name": "stdout",
          "output_type": "stream",
          "text": [
            "mean train: {'loss': 0.19984702616930008}\n"
          ]
        },
        {
          "name": "stderr",
          "output_type": "stream",
          "text": [
            "Epoch 2/5:   7%|▋         | 131/1875 [00:32<09:22,  3.10 batches/s, loss=0.224]"
          ]
        },
        {
          "name": "stdout",
          "output_type": "stream",
          "text": [
            "mean train: {'loss': 0.20361750369722192}\n"
          ]
        },
        {
          "name": "stderr",
          "output_type": "stream",
          "text": [
            "Epoch 2/5:   9%|▉         | 177/1875 [00:42<06:27,  4.38 batches/s, loss=0.174]"
          ]
        },
        {
          "name": "stdout",
          "output_type": "stream",
          "text": [
            "mean train: {'loss': 0.19984401438547217}\n"
          ]
        },
        {
          "name": "stderr",
          "output_type": "stream",
          "text": [
            "Epoch 2/5:  12%|█▏        | 229/1875 [00:52<05:03,  5.42 batches/s, loss=0.193]"
          ]
        },
        {
          "name": "stdout",
          "output_type": "stream",
          "text": [
            "mean train: {'loss': 0.19643723764098608}\n"
          ]
        },
        {
          "name": "stderr",
          "output_type": "stream",
          "text": [
            "Epoch 2/5:  15%|█▍        | 278/1875 [01:02<04:40,  5.69 batches/s, loss=0.188]"
          ]
        },
        {
          "name": "stdout",
          "output_type": "stream",
          "text": [
            "mean train: {'loss': 0.19541994497484091}\n"
          ]
        },
        {
          "name": "stderr",
          "output_type": "stream",
          "text": [
            "Epoch 2/5:  18%|█▊        | 329/1875 [01:12<04:48,  5.35 batches/s, loss=0.204]"
          ]
        },
        {
          "name": "stdout",
          "output_type": "stream",
          "text": [
            "mean train: {'loss': 0.18655949286543405}\n"
          ]
        },
        {
          "name": "stderr",
          "output_type": "stream",
          "text": [
            "Epoch 2/5:  20%|██        | 379/1875 [01:22<05:00,  4.98 batches/s, loss=0.169]"
          ]
        },
        {
          "name": "stdout",
          "output_type": "stream",
          "text": [
            "mean train: {'loss': 0.19512781143188476}\n"
          ]
        },
        {
          "name": "stderr",
          "output_type": "stream",
          "text": [
            "Epoch 2/5:  23%|██▎       | 425/1875 [01:32<04:54,  4.92 batches/s, loss=0.191]"
          ]
        },
        {
          "name": "stdout",
          "output_type": "stream",
          "text": [
            "mean train: {'loss': 0.2003198931614558}\n"
          ]
        },
        {
          "name": "stderr",
          "output_type": "stream",
          "text": [
            "Epoch 2/5:  24%|██▍       | 457/1875 [01:42<14:56,  1.58 batches/s, loss=0.149]"
          ]
        },
        {
          "name": "stdout",
          "output_type": "stream",
          "text": [
            "mean train: {'loss': 0.19311286509037018}\n"
          ]
        },
        {
          "name": "stderr",
          "output_type": "stream",
          "text": [
            "Epoch 2/5:  27%|██▋       | 502/1875 [01:52<05:14,  4.36 batches/s, loss=0.204]"
          ]
        },
        {
          "name": "stdout",
          "output_type": "stream",
          "text": [
            "mean train: {'loss': 0.19337768886577}\n"
          ]
        },
        {
          "name": "stderr",
          "output_type": "stream",
          "text": [
            "Epoch 2/5:  29%|██▉       | 544/1875 [02:02<05:12,  4.26 batches/s, loss=0.211]"
          ]
        },
        {
          "name": "stdout",
          "output_type": "stream",
          "text": [
            "mean train: {'loss': 0.19669521954797564}\n"
          ]
        },
        {
          "name": "stderr",
          "output_type": "stream",
          "text": [
            "Epoch 2/5:  32%|███▏      | 591/1875 [02:14<14:52,  1.44 batches/s, loss=0.162]"
          ]
        },
        {
          "name": "stdout",
          "output_type": "stream",
          "text": [
            "mean train: {'loss': 0.19644993046919504}\n"
          ]
        },
        {
          "name": "stderr",
          "output_type": "stream",
          "text": [
            "Epoch 2/5:  33%|███▎      | 621/1875 [02:24<05:34,  3.75 batches/s, loss=0.184]"
          ]
        },
        {
          "name": "stdout",
          "output_type": "stream",
          "text": [
            "mean train: {'loss': 0.1951100574485187}\n"
          ]
        },
        {
          "name": "stderr",
          "output_type": "stream",
          "text": [
            "Epoch 2/5:  35%|███▌      | 664/1875 [02:34<04:54,  4.12 batches/s, loss=0.248]"
          ]
        },
        {
          "name": "stdout",
          "output_type": "stream",
          "text": [
            "mean train: {'loss': 0.1927153200588443}\n"
          ]
        },
        {
          "name": "stderr",
          "output_type": "stream",
          "text": [
            "Epoch 2/5:  38%|███▊      | 718/1875 [02:44<03:27,  5.57 batches/s, loss=0.209]"
          ]
        },
        {
          "name": "stdout",
          "output_type": "stream",
          "text": [
            "mean train: {'loss': 0.19648493235965944}\n"
          ]
        },
        {
          "name": "stderr",
          "output_type": "stream",
          "text": [
            "Epoch 2/5:  41%|████      | 766/1875 [02:54<05:00,  3.69 batches/s, loss=0.174]"
          ]
        },
        {
          "name": "stdout",
          "output_type": "stream",
          "text": [
            "mean train: {'loss': 0.1843463802824215}\n"
          ]
        },
        {
          "name": "stderr",
          "output_type": "stream",
          "text": [
            "Epoch 2/5:  44%|████▎     | 819/1875 [03:05<04:17,  4.11 batches/s, loss=0.2]  "
          ]
        },
        {
          "name": "stdout",
          "output_type": "stream",
          "text": [
            "mean train: {'loss': 0.19033542219197974}\n"
          ]
        },
        {
          "name": "stderr",
          "output_type": "stream",
          "text": [
            "Epoch 2/5:  46%|████▌     | 867/1875 [03:15<03:12,  5.25 batches/s, loss=0.255]"
          ]
        },
        {
          "name": "stdout",
          "output_type": "stream",
          "text": [
            "mean train: {'loss': 0.18590172110719883}\n"
          ]
        },
        {
          "name": "stderr",
          "output_type": "stream",
          "text": [
            "Epoch 2/5:  48%|████▊     | 904/1875 [03:25<03:26,  4.70 batches/s, loss=0.166]"
          ]
        },
        {
          "name": "stdout",
          "output_type": "stream",
          "text": [
            "mean train: {'loss': 0.19778402109403867}\n"
          ]
        },
        {
          "name": "stderr",
          "output_type": "stream",
          "text": [
            "Epoch 2/5:  51%|█████     | 951/1875 [03:35<02:58,  5.17 batches/s, loss=0.201]"
          ]
        },
        {
          "name": "stdout",
          "output_type": "stream",
          "text": [
            "mean train: {'loss': 0.1909818281518652}\n"
          ]
        },
        {
          "name": "stderr",
          "output_type": "stream",
          "text": [
            "Epoch 2/5:  53%|█████▎    | 997/1875 [03:45<02:49,  5.19 batches/s, loss=0.195]"
          ]
        },
        {
          "name": "stdout",
          "output_type": "stream",
          "text": [
            "mean train: {'loss': 0.19917264775089596}\n"
          ]
        },
        {
          "name": "stderr",
          "output_type": "stream",
          "text": [
            "Epoch 2/5:  56%|█████▌    | 1042/1875 [03:55<02:21,  5.90 batches/s, loss=0.25] "
          ]
        },
        {
          "name": "stdout",
          "output_type": "stream",
          "text": [
            "mean train: {'loss': 0.19195286002424028}\n"
          ]
        },
        {
          "name": "stderr",
          "output_type": "stream",
          "text": [
            "Epoch 2/5:  58%|█████▊    | 1091/1875 [04:05<02:16,  5.73 batches/s, loss=0.233]"
          ]
        },
        {
          "name": "stdout",
          "output_type": "stream",
          "text": [
            "mean train: {'loss': 0.19291288420557975}\n"
          ]
        },
        {
          "name": "stderr",
          "output_type": "stream",
          "text": [
            "Epoch 2/5:  60%|██████    | 1133/1875 [04:15<02:15,  5.46 batches/s, loss=0.173]"
          ]
        },
        {
          "name": "stdout",
          "output_type": "stream",
          "text": [
            "mean train: {'loss': 0.19013770102035432}\n"
          ]
        },
        {
          "name": "stderr",
          "output_type": "stream",
          "text": [
            "Epoch 2/5:  63%|██████▎   | 1185/1875 [04:25<02:24,  4.77 batches/s, loss=0.209]"
          ]
        },
        {
          "name": "stdout",
          "output_type": "stream",
          "text": [
            "mean train: {'loss': 0.18522356991090028}\n"
          ]
        },
        {
          "name": "stderr",
          "output_type": "stream",
          "text": [
            "Epoch 2/5:  66%|██████▌   | 1234/1875 [04:35<01:52,  5.69 batches/s, loss=0.205]"
          ]
        },
        {
          "name": "stdout",
          "output_type": "stream",
          "text": [
            "mean train: {'loss': 0.19749833554029464}\n"
          ]
        },
        {
          "name": "stderr",
          "output_type": "stream",
          "text": [
            "Epoch 2/5:  69%|██████▊   | 1286/1875 [04:45<01:48,  5.45 batches/s, loss=0.174]"
          ]
        },
        {
          "name": "stdout",
          "output_type": "stream",
          "text": [
            "mean train: {'loss': 0.19758842856276268}\n"
          ]
        },
        {
          "name": "stderr",
          "output_type": "stream",
          "text": [
            "Epoch 2/5:  71%|███████▏  | 1338/1875 [04:55<01:36,  5.58 batches/s, loss=0.169]"
          ]
        },
        {
          "name": "stdout",
          "output_type": "stream",
          "text": [
            "mean train: {'loss': 0.18589760784832937}\n"
          ]
        },
        {
          "name": "stderr",
          "output_type": "stream",
          "text": [
            "Epoch 2/5:  74%|███████▍  | 1388/1875 [05:06<02:49,  2.88 batches/s, loss=0.208]"
          ]
        },
        {
          "name": "stdout",
          "output_type": "stream",
          "text": [
            "mean train: {'loss': 0.19812945336103438}\n"
          ]
        },
        {
          "name": "stderr",
          "output_type": "stream",
          "text": [
            "Epoch 2/5:  76%|███████▌  | 1429/1875 [05:16<02:01,  3.68 batches/s, loss=0.211]"
          ]
        },
        {
          "name": "stdout",
          "output_type": "stream",
          "text": [
            "mean train: {'loss': 0.19492229019723287}\n"
          ]
        },
        {
          "name": "stderr",
          "output_type": "stream",
          "text": [
            "Epoch 2/5:  78%|███████▊  | 1471/1875 [05:26<01:45,  3.85 batches/s, loss=0.169]"
          ]
        },
        {
          "name": "stdout",
          "output_type": "stream",
          "text": [
            "mean train: {'loss': 0.18422428429836318}\n"
          ]
        },
        {
          "name": "stderr",
          "output_type": "stream",
          "text": [
            "Epoch 2/5:  81%|████████  | 1522/1875 [05:36<01:09,  5.09 batches/s, loss=0.24] "
          ]
        },
        {
          "name": "stdout",
          "output_type": "stream",
          "text": [
            "mean train: {'loss': 0.19383966505527497}\n"
          ]
        },
        {
          "name": "stderr",
          "output_type": "stream",
          "text": [
            "Epoch 2/5:  84%|████████▍ | 1573/1875 [05:46<00:56,  5.33 batches/s, loss=0.159]"
          ]
        },
        {
          "name": "stdout",
          "output_type": "stream",
          "text": [
            "mean train: {'loss': 0.1941068245499742}\n"
          ]
        },
        {
          "name": "stderr",
          "output_type": "stream",
          "text": [
            "Epoch 2/5:  87%|████████▋ | 1628/1875 [05:56<00:45,  5.47 batches/s, loss=0.18] "
          ]
        },
        {
          "name": "stdout",
          "output_type": "stream",
          "text": [
            "mean train: {'loss': 0.1853951338146414}\n"
          ]
        },
        {
          "name": "stderr",
          "output_type": "stream",
          "text": [
            "Epoch 2/5:  90%|████████▉ | 1682/1875 [06:06<00:34,  5.58 batches/s, loss=0.132]"
          ]
        },
        {
          "name": "stdout",
          "output_type": "stream",
          "text": [
            "mean train: {'loss': 0.1900291216542136}\n"
          ]
        },
        {
          "name": "stderr",
          "output_type": "stream",
          "text": [
            "Epoch 2/5:  92%|█████████▏| 1733/1875 [06:17<00:27,  5.11 batches/s, loss=0.152]"
          ]
        },
        {
          "name": "stdout",
          "output_type": "stream",
          "text": [
            "mean train: {'loss': 0.19221806613837972}\n"
          ]
        },
        {
          "name": "stderr",
          "output_type": "stream",
          "text": [
            "Epoch 2/5:  95%|█████████▌| 1786/1875 [06:27<00:16,  5.38 batches/s, loss=0.208]"
          ]
        },
        {
          "name": "stdout",
          "output_type": "stream",
          "text": [
            "mean train: {'loss': 0.1960380735262385}\n"
          ]
        },
        {
          "name": "stderr",
          "output_type": "stream",
          "text": [
            "Epoch 2/5:  98%|█████████▊| 1841/1875 [06:37<00:06,  4.92 batches/s, loss=0.2]  "
          ]
        },
        {
          "name": "stdout",
          "output_type": "stream",
          "text": [
            "mean train: {'loss': 0.198878844759681}\n"
          ]
        },
        {
          "name": "stderr",
          "output_type": "stream",
          "text": [
            "Epoch 2/5: 100%|██████████| 1875/1875 [06:43<00:00,  4.65 batches/s, loss=0.185]\n"
          ]
        },
        {
          "name": "stdout",
          "output_type": "stream",
          "text": [
            "epoch=2 test {'loss': 0.19198512006551027}\n"
          ]
        },
        {
          "data": {
            "text/html": [
              "<table class=\"show_images\" style=\"border-spacing:0px;\"><tr><td style=\"padding:1px;\"><img width=\"28\" height=\"28\" style=\"image-rendering:auto; object-fit:cover;\" src=\"data:image/png;base64,iVBORw0KGgoAAAANSUhEUgAAABwAAAAcCAIAAAD9b0jDAAAAkklEQVR4nO2U0QqAIAxFNfzF+ZF3H7lAUcSamdpD0XlaCoermxnz8xGICIAEYoHAlFR0NLXtSaqtxy1rryU/rwNAHNJyTrVhuCGV5Mq1iCzwophwIlrjrcgv1ayFQt5G2G1Y3WjaNqBjZvPQnxDz10qJnu67tqX87D++1URVFg50Xqg7Bsy1936sLe50lZmj8evsBTeblT5MjM0AAAAASUVORK5CYII=\"/></td><td style=\"padding:1px;\"><img width=\"28\" height=\"28\" style=\"image-rendering:auto; object-fit:cover;\" src=\"data:image/png;base64,iVBORw0KGgoAAAANSUhEUgAAABwAAAAcCAIAAAD9b0jDAAAAs0lEQVR4nO2TSw7DMAhEwcoV8SHHh2yVWkUoNg5OXKlS+xbZBMbDj+jP78LxUAClFCISESLKOd99XEQeDQC6wSkuSmsBoNb0W7nyGEw+gCphW3HLoBhHKur11MWr0dr0amdPVEtj3mM0X17YX9eH0zKonU+ddqmbX2+hZRunVcvdAE+Rps700OUBKag4NZw0JTooeRp572bwKHltN6Pl6/Tjq56CcVPdTJ8Q3YJyK+f+RTwB8uDFh6WYBI8AAAAASUVORK5CYII=\"/></td><td style=\"padding:1px;\"><img width=\"28\" height=\"28\" style=\"image-rendering:auto; object-fit:cover;\" src=\"data:image/png;base64,iVBORw0KGgoAAAANSUhEUgAAABwAAAAcCAIAAAD9b0jDAAAAiklEQVR4nO2UUQoAIQhEbdkrekk7pAtFEVHG1rTsR+8jomjQ0SQ6HD6DmSWgqnEtmVTUESLSfHsZojSLM0SrQLz35SbeOtdV6MKB5rmR/k0mObrtcKrhiu81ub0IHqZ0DP1HmJIUYW4yPHEOfwFspcKLwylxfHEEaKVuUlRgD+loGL8m9xByaqzwAEk5ykmwQxb6AAAAAElFTkSuQmCC\"/></td><td style=\"padding:1px;\"><img width=\"28\" height=\"28\" style=\"image-rendering:auto; object-fit:cover;\" src=\"data:image/png;base64,iVBORw0KGgoAAAANSUhEUgAAABwAAAAcCAIAAAD9b0jDAAAAo0lEQVR4nO2UwQ7DIAxDk/6j+UjzkZlENNTDoGmWQzXNJyTQw4kDIj8uG1rtHjmiiPTey6AALs8caejG6T0BMDOSEb9RkTSzMiKGx33oUxqETpaq1gRF0hettaCJUB89H3koEe9w6geIVR7lipj0buvCvS355yjr+5Jz2rZTebsD/PTGAcwJy5dvowOuyfrql8LpBzlfEMHpftuz6kMZa389Wi9Mf7hp1VJSlgAAAABJRU5ErkJggg==\"/></td><td style=\"padding:1px;\"><img width=\"28\" height=\"28\" style=\"image-rendering:auto; object-fit:cover;\" src=\"data:image/png;base64,iVBORw0KGgoAAAANSUhEUgAAABwAAAAcCAIAAAD9b0jDAAAAXklEQVR4nO2TwQ3AMAgDMTt6SZZ0f307EahVm3ujw45IxOFTkOyXSvK92b8/POlq99xN0yStqublJCWN1Kf3uBkDpDm3dAC5m+a1Uv67/vN3CnPu/qMA2pLCcB0GuQBdORMTOOxFeAAAAABJRU5ErkJggg==\"/></td><td style=\"padding:1px;\"><img width=\"28\" height=\"28\" style=\"image-rendering:auto; object-fit:cover;\" src=\"data:image/png;base64,iVBORw0KGgoAAAANSUhEUgAAABwAAAAcCAIAAAD9b0jDAAAAYklEQVR4nO2UQQoAMQgDQ/6YT9ZHdsEXRFA8bOcsQ0KrwGORkziTLHklOV76xogwJ+lLJZlqYgBWkzZL+5F0k86ksrtjuf5NRjYqvP9PLHLt7jCTlp4em2uqfycN+zw/MMQH2DApBMDOsxsAAAAASUVORK5CYII=\"/></td><td style=\"padding:1px;\"><img width=\"28\" height=\"28\" style=\"image-rendering:auto; object-fit:cover;\" src=\"data:image/png;base64,iVBORw0KGgoAAAANSUhEUgAAABwAAAAcCAIAAAD9b0jDAAAAoElEQVR4nO2T4QrDMAiETegr6kPqQ2aQUhkhvWgYY4x+vwqxlzujRA8PX4A7rTXttAv/VtWcor6pAJj5TqFOPYIrzWxp6xg8ThVFxMz8CN86cvYRZ/Tm0D0VBLTO9BQ34Rh+KKWA6mD2SltEnivBsqGUdbo5AJjz6dPrhFnuUprIhP6ATb6WLVJcgqIut9wOCo6URxYR+qtJqpGiT6be5gVnW7aJM53RbwAAAABJRU5ErkJggg==\"/></td><td style=\"padding:1px;\"><img width=\"28\" height=\"28\" style=\"image-rendering:auto; object-fit:cover;\" src=\"data:image/png;base64,iVBORw0KGgoAAAANSUhEUgAAABwAAAAcCAIAAAD9b0jDAAAAe0lEQVR4nO2TQQrAIAwEt/nj+kj3kSlYCj2JhoiUdq7KkGwS4GcLtZEsJek3I/ZjRPoUkQQgqZSCRNhAOu7eebWYVFJ+RQy3zzb0/ARrrZc3U4qWwOzm24qx2NTvNKmk2UxtT/tccZFvhmR/cy0m7WdtAWlgyVbdLj7DCekSRuD/dFUKAAAAAElFTkSuQmCC\"/></td><td style=\"padding:1px;\"><img width=\"28\" height=\"28\" style=\"image-rendering:auto; object-fit:cover;\" src=\"data:image/png;base64,iVBORw0KGgoAAAANSUhEUgAAABwAAAAcCAIAAAD9b0jDAAAAn0lEQVR4nO2UQQ6EMAwDA+KLziPdR2alZosqWKFCfeCwc6oEHdkN1OyPmmVmM4BclFIEWQBEg+Th6fpMehb1bA/67q3dHYC7C/omF2GXQWMq+lBTwyGZufbWU6AG/LaNEEjZ6Xqm1KiTydZsyCL/PF/TEpXrd9ZbxsGM27gRFc3dcThQE8I2er2RqrlTbkS7nJQffGgzWjPqM0L7m7+OD20mwGCrdncAAAAAAElFTkSuQmCC\"/></td><td style=\"padding:1px;\"><img width=\"28\" height=\"28\" style=\"image-rendering:auto; object-fit:cover;\" src=\"data:image/png;base64,iVBORw0KGgoAAAANSUhEUgAAABwAAAAcCAIAAAD9b0jDAAAAhUlEQVR4nO2SUQoAIQgFRbri65B2SBcS9ius3IIlmo+gkiHtEV2ORStOAc8aAXRrmE5oX0RGmp2TUstr25xzUFpK2fVRpaX+KkWrfZ/k3ImIrTbB8U9LI0VmXwMA06HynvghjWBSfxQ8K7UwLJai6vycMYUIhLeDqvp5YPrJS2VHqi7k8gAce0ju4+ovdAAAAABJRU5ErkJggg==\"/></td><td style=\"padding:1px;\"><img width=\"28\" height=\"28\" style=\"image-rendering:auto; object-fit:cover;\" src=\"data:image/png;base64,iVBORw0KGgoAAAANSUhEUgAAABwAAAAcCAIAAAD9b0jDAAAAe0lEQVR4nO2UQQrAIAwEk0euj4yPbCFKqKW0NoZC0Tl5cVh0E6LFL2DHHSjlUC3s8VQAiMjWIgr52A4Wy3gJ90tNlHOm+RD3b0wGf90kAGGTcxpKE5XI8R2AZn/08itjCZtSGo5HzXK6XyVdlDcN0yE2HWlAa1KAbkHD7FLNeJixkcjFAAAAAElFTkSuQmCC\"/></td><td style=\"padding:1px;\"><img width=\"28\" height=\"28\" style=\"image-rendering:auto; object-fit:cover;\" src=\"data:image/png;base64,iVBORw0KGgoAAAANSUhEUgAAABwAAAAcCAIAAAD9b0jDAAAAfElEQVR4nO2UMQ7AIAwDQ/4YHuk8Mh0QVafWSK5YuBmdbBLF7LCXqgIQETJjRNRE5i3a6KTxKZJJB5k5pO9etxWdHgD3t8rq5wz7mdp5Kb9GjZferVtr4pVKYmK+Uzrovf+SVLyhAMj3brso7bmz9e7G1NePyGZSvfdgK1yeL1rY2XZh2QAAAABJRU5ErkJggg==\"/></td><td style=\"padding:1px;\"><img width=\"28\" height=\"28\" style=\"image-rendering:auto; object-fit:cover;\" src=\"data:image/png;base64,iVBORw0KGgoAAAANSUhEUgAAABwAAAAcCAIAAAD9b0jDAAAAdElEQVR4nO2SwQ3AMAgDUXZ0hiRDuhIdoKZylT5yb3QCm4jDXgAoY6MrJWmWrrWUfUdLmpnK2Ii9oAI1Z4qKcs7pl/4+U1Sg5vZRt99/aoNa7w0yk6SzKBSdHUKStozxkVQN1NwSC/FDVV6sOR4nzA9/iFdc3BFE4MQLzZUAAAAASUVORK5CYII=\"/></td><td style=\"padding:1px;\"><img width=\"28\" height=\"28\" style=\"image-rendering:auto; object-fit:cover;\" src=\"data:image/png;base64,iVBORw0KGgoAAAANSUhEUgAAABwAAAAcCAIAAAD9b0jDAAAAnUlEQVR4nO2UQQ6FIAxEm+ZfcTjkcMia0JWIQhGji/+WTXiUKSDy51OQbNb1phfASikKshaSZrayIxbjZKcArNAthjNNKVXSYzHcJvbHNLOzy9THg6vW+0630uTe2NwmkClKLznnqlIVm/xGWnbdMikPJ+0aO/joPURPc35EZ2/p+sJPYsNSDXkHA1V5AH1TisjQ9QmpjEvnf6bvsgHYaICvtT317wAAAABJRU5ErkJggg==\"/></td><td style=\"padding:1px;\"><img width=\"28\" height=\"28\" style=\"image-rendering:auto; object-fit:cover;\" src=\"data:image/png;base64,iVBORw0KGgoAAAANSUhEUgAAABwAAAAcCAIAAAD9b0jDAAAAkUlEQVR4nO2V4QqAIAyEt+gVbw95PqSBUkSoqS3oR98/3ZDbnajIz48r2t+KRAjhvHlZDkAyliBZ7F96jgOQRWnCzOYFAjhEFUuTSjM1XZN6kQav2SK+xJInj+ApPR+wp+c/OCu5f0ymfDqfmPBPnI7hyLiVy21HFjj/LDXu0JCb2i4fU6sO/BFru2xm/We9ywYW9JScUiofYgAAAABJRU5ErkJggg==\"/></td><td style=\"padding:1px;\"><img width=\"28\" height=\"28\" style=\"image-rendering:auto; object-fit:cover;\" src=\"data:image/png;base64,iVBORw0KGgoAAAANSUhEUgAAABwAAAAcCAIAAAD9b0jDAAAAo0lEQVR4nO2U0Q6DMAhFWf+RfuT1I1kCsTE2K5SQ+bCdxwqnqADRT/Oaj1ghokMpuwqAKADsgmKviFR6SdVmBxDPauvHvfdEKc2NSHgbPQL0m367Uj77egNRFsZMz7GXMEubK01MaqMK/EqxM+82af7byPLPzMGhCUa4UmYOGTnWIqbbaCZ8jjbXdduGjHQWO9LG6huHySXLF+8Nu6Z4bf95hjeQwrloBBXESgAAAABJRU5ErkJggg==\"/></td><td style=\"padding:1px;\"><img width=\"28\" height=\"28\" style=\"image-rendering:auto; object-fit:cover;\" src=\"data:image/png;base64,iVBORw0KGgoAAAANSUhEUgAAABwAAAAcCAIAAAD9b0jDAAAAcUlEQVR4nO3S3QqAIAwF4NPe8fiQ8yEXFEWIDTOFoH1X4s9xgwEhhHskVdUOJJ3LABY/q1iTzDkDSCn5uXUkz9LMTFXPo5Zim3q/7gwIrXZQfFMQTCAR+sg+p4NDuQ2THy2fqLSFYAL5d2gPM+t6984KvyM87ISmfRAAAAAASUVORK5CYII=\"/></td><td style=\"padding:1px;\"><img width=\"28\" height=\"28\" style=\"image-rendering:auto; object-fit:cover;\" src=\"data:image/png;base64,iVBORw0KGgoAAAANSUhEUgAAABwAAAAcCAIAAAD9b0jDAAAAqUlEQVR4nO2UUQ7DMAhDEdoVzSHZIZlEJFRtK4GWv+39hjjgxCFqog7NYs6kIgAzA5CXcVf0XlcnbU4aCleszE7d8Z/OmCi8wYpiFVUddlNdsehmaXw41ISLdSIyZqj67Hmzba9tl/Svp/JWV0S2NQ1R7K4orvHNbr5v1mfMOK+mWZD+IAAuhIJCdAVUVcPBWLoYXBw6OrLOONv1yEWXrbE/XK68sz+/yQt8Y6WYpfmoUgAAAABJRU5ErkJggg==\"/></td><td style=\"padding:1px;\"><img width=\"28\" height=\"28\" style=\"image-rendering:auto; object-fit:cover;\" src=\"data:image/png;base64,iVBORw0KGgoAAAANSUhEUgAAABwAAAAcCAIAAAD9b0jDAAAAY0lEQVR4nO3U0QkAIQwD0JId0yHbIXvgAtdAxQ993yWkopo9R5CMiP48NuX+i4haSI41zUx370xqoaaAND25vgqzHbVQ6VhxsqnUF7YBzq/fBLs6tKuqhv/TWrY8Uyq36rFZH5ZTKgkRll3JAAAAAElFTkSuQmCC\"/></td><td style=\"padding:1px;\"><img width=\"28\" height=\"28\" style=\"image-rendering:auto; object-fit:cover;\" src=\"data:image/png;base64,iVBORw0KGgoAAAANSUhEUgAAABwAAAAcCAIAAAD9b0jDAAAAhklEQVR4nO2TQQrAIAwE1/5xfeTmkS1YFGlVqOZQaOcgGHGISQR+vksYnEkCQNLMANTrPJL2FiQnjSSVqCPFW8cdYFb7e5Uq4+xFrri/lynle3xb9/pLm2xYYH5gB6z+hd7AenZfw3kKvTv11hIlwRMzizE+TmTA/KuZv+NF59YZObp+3sIBR+OodX/dTf0AAAAASUVORK5CYII=\"/></td></tr></table>"
            ],
            "text/plain": [
              "<IPython.core.display.HTML object>"
            ]
          },
          "metadata": {},
          "output_type": "display_data"
        },
        {
          "name": "stdout",
          "output_type": "stream",
          "text": [
            "Generated sample images (min/max): 0/3\n"
          ]
        },
        {
          "name": "stderr",
          "output_type": "stream",
          "text": [
            "Epoch 3/5:   1%|          | 12/1875 [00:02<05:18,  5.85 batches/s, loss=0.185]"
          ]
        },
        {
          "name": "stdout",
          "output_type": "stream",
          "text": [
            "mean train: {'loss': 0.20327427238225937}\n"
          ]
        },
        {
          "name": "stderr",
          "output_type": "stream",
          "text": [
            "Epoch 3/5:   4%|▎         | 67/1875 [00:12<05:31,  5.45 batches/s, loss=0.207]"
          ]
        },
        {
          "name": "stdout",
          "output_type": "stream",
          "text": [
            "mean train: {'loss': 0.19214307367801667}\n"
          ]
        },
        {
          "name": "stderr",
          "output_type": "stream",
          "text": [
            "Epoch 3/5:   6%|▌         | 117/1875 [00:22<05:16,  5.56 batches/s, loss=0.219]"
          ]
        },
        {
          "name": "stdout",
          "output_type": "stream",
          "text": [
            "mean train: {'loss': 0.19710684150457383}\n"
          ]
        },
        {
          "name": "stderr",
          "output_type": "stream",
          "text": [
            "Epoch 3/5:   9%|▊         | 164/1875 [00:32<05:01,  5.68 batches/s, loss=0.172]"
          ]
        },
        {
          "name": "stdout",
          "output_type": "stream",
          "text": [
            "mean train: {'loss': 0.19824369156614263}\n"
          ]
        },
        {
          "name": "stderr",
          "output_type": "stream",
          "text": [
            "Epoch 3/5:  11%|█         | 206/1875 [00:42<05:54,  4.71 batches/s, loss=0.24] "
          ]
        },
        {
          "name": "stdout",
          "output_type": "stream",
          "text": [
            "mean train: {'loss': 0.18472657547820182}\n"
          ]
        },
        {
          "name": "stderr",
          "output_type": "stream",
          "text": [
            "Epoch 3/5:  14%|█▍        | 258/1875 [00:52<04:47,  5.63 batches/s, loss=0.187]"
          ]
        },
        {
          "name": "stdout",
          "output_type": "stream",
          "text": [
            "mean train: {'loss': 0.19920225928609187}\n"
          ]
        },
        {
          "name": "stderr",
          "output_type": "stream",
          "text": [
            "Epoch 3/5:  17%|█▋        | 310/1875 [01:02<05:29,  4.76 batches/s, loss=0.219]"
          ]
        },
        {
          "name": "stdout",
          "output_type": "stream",
          "text": [
            "mean train: {'loss': 0.1937361150406874}\n"
          ]
        },
        {
          "name": "stderr",
          "output_type": "stream",
          "text": [
            "Epoch 3/5:  19%|█▉        | 357/1875 [01:13<12:55,  1.96 batches/s, loss=0.209]"
          ]
        },
        {
          "name": "stdout",
          "output_type": "stream",
          "text": [
            "mean train: {'loss': 0.20025953215857348}\n"
          ]
        },
        {
          "name": "stderr",
          "output_type": "stream",
          "text": [
            "Epoch 3/5:  21%|██▏       | 399/1875 [01:23<05:17,  4.64 batches/s, loss=0.192]"
          ]
        },
        {
          "name": "stdout",
          "output_type": "stream",
          "text": [
            "mean train: {'loss': 0.18802485923941542}\n"
          ]
        },
        {
          "name": "stderr",
          "output_type": "stream",
          "text": [
            "Epoch 3/5:  23%|██▎       | 437/1875 [01:33<05:04,  4.72 batches/s, loss=0.196]"
          ]
        },
        {
          "name": "stdout",
          "output_type": "stream",
          "text": [
            "mean train: {'loss': 0.19820027167980486}\n"
          ]
        },
        {
          "name": "stderr",
          "output_type": "stream",
          "text": [
            "Epoch 3/5:  26%|██▌       | 485/1875 [01:43<04:31,  5.13 batches/s, loss=0.179]"
          ]
        },
        {
          "name": "stdout",
          "output_type": "stream",
          "text": [
            "mean train: {'loss': 0.18299218378168472}\n"
          ]
        },
        {
          "name": "stderr",
          "output_type": "stream",
          "text": [
            "Epoch 3/5:  28%|██▊       | 531/1875 [01:53<04:01,  5.56 batches/s, loss=0.206]"
          ]
        },
        {
          "name": "stdout",
          "output_type": "stream",
          "text": [
            "mean train: {'loss': 0.1876213535990404}\n"
          ]
        },
        {
          "name": "stderr",
          "output_type": "stream",
          "text": [
            "Epoch 3/5:  30%|███       | 569/1875 [02:03<05:27,  3.99 batches/s, loss=0.158]"
          ]
        },
        {
          "name": "stdout",
          "output_type": "stream",
          "text": [
            "mean train: {'loss': 0.18814991682003707}\n"
          ]
        },
        {
          "name": "stderr",
          "output_type": "stream",
          "text": [
            "Epoch 3/5:  31%|███       | 579/1875 [02:27<2:21:01,  6.53s/ batches, loss=0.189]"
          ]
        },
        {
          "name": "stdout",
          "output_type": "stream",
          "text": [
            "mean train: {'loss': 0.19523584097623825}\n"
          ]
        },
        {
          "name": "stderr",
          "output_type": "stream",
          "text": [
            "Epoch 3/5:  33%|███▎      | 613/1875 [02:37<04:18,  4.89 batches/s, loss=0.212]  "
          ]
        },
        {
          "name": "stdout",
          "output_type": "stream",
          "text": [
            "mean train: {'loss': 0.1947691493174609}\n"
          ]
        },
        {
          "name": "stderr",
          "output_type": "stream",
          "text": [
            "Epoch 3/5:  34%|███▎      | 631/1875 [11:32<55:00:30, 159.19s/ batches, loss=0.129]"
          ]
        },
        {
          "name": "stdout",
          "output_type": "stream",
          "text": [
            "mean train: {'loss': 0.18900328460666868}\n"
          ]
        },
        {
          "name": "stderr",
          "output_type": "stream",
          "text": [
            "Epoch 3/5:  36%|███▌      | 674/1875 [11:42<04:27,  4.48 batches/s, loss=0.184]    "
          ]
        },
        {
          "name": "stdout",
          "output_type": "stream",
          "text": [
            "mean train: {'loss': 0.18023993664009627}\n"
          ]
        },
        {
          "name": "stderr",
          "output_type": "stream",
          "text": [
            "Epoch 3/5:  39%|███▉      | 732/1875 [11:53<03:14,  5.88 batches/s, loss=0.235]"
          ]
        },
        {
          "name": "stdout",
          "output_type": "stream",
          "text": [
            "mean train: {'loss': 0.18382266582104198}\n"
          ]
        },
        {
          "name": "stderr",
          "output_type": "stream",
          "text": [
            "Epoch 3/5:  41%|████      | 767/1875 [12:03<04:54,  3.76 batches/s, loss=0.215] "
          ]
        },
        {
          "name": "stdout",
          "output_type": "stream",
          "text": [
            "mean train: {'loss': 0.18469815509659904}\n"
          ]
        },
        {
          "name": "stderr",
          "output_type": "stream",
          "text": [
            "Epoch 3/5:  41%|████▏     | 774/1875 [16:33<24:39:27, 80.62s/ batches, loss=0.24]"
          ]
        },
        {
          "name": "stdout",
          "output_type": "stream",
          "text": [
            "mean train: {'loss': 0.19930985569953918}\n"
          ]
        },
        {
          "name": "stderr",
          "output_type": "stream",
          "text": [
            "Epoch 3/5:  43%|████▎     | 815/1875 [16:44<03:34,  4.93 batches/s, loss=0.225]   "
          ]
        },
        {
          "name": "stdout",
          "output_type": "stream",
          "text": [
            "mean train: {'loss': 0.1922056835144758}\n"
          ]
        },
        {
          "name": "stderr",
          "output_type": "stream",
          "text": [
            "Epoch 3/5:  44%|████▍     | 832/1875 [25:38<32:21:59, 111.72s/ batches, loss=0.198]"
          ]
        },
        {
          "name": "stdout",
          "output_type": "stream",
          "text": [
            "mean train: {'loss': 0.19571474808103898}\n"
          ]
        },
        {
          "name": "stderr",
          "output_type": "stream",
          "text": [
            "Epoch 3/5:  46%|████▌     | 859/1875 [25:49<13:36,  1.24 batches/s, loss=0.19]     "
          ]
        },
        {
          "name": "stdout",
          "output_type": "stream",
          "text": [
            "mean train: {'loss': 0.19289237314036914}\n"
          ]
        },
        {
          "name": "stderr",
          "output_type": "stream",
          "text": [
            "Epoch 3/5:  48%|████▊     | 897/1875 [34:45<42:54:04, 157.92s/ batches, loss=0.211]"
          ]
        },
        {
          "name": "stdout",
          "output_type": "stream",
          "text": [
            "mean train: {'loss': 0.18866844749764392}\n"
          ]
        },
        {
          "name": "stderr",
          "output_type": "stream",
          "text": [
            "Epoch 3/5:  49%|████▉     | 928/1875 [34:55<03:24,  4.63 batches/s, loss=0.203]    "
          ]
        },
        {
          "name": "stdout",
          "output_type": "stream",
          "text": [
            "mean train: {'loss': 0.1980648934841156}\n"
          ]
        },
        {
          "name": "stderr",
          "output_type": "stream",
          "text": [
            "Epoch 3/5:  50%|████▉     | 937/1875 [43:52<29:18:49, 112.50s/ batches, loss=0.216]"
          ]
        },
        {
          "name": "stdout",
          "output_type": "stream",
          "text": [
            "mean train: {'loss': 0.1831562425941229}\n"
          ]
        },
        {
          "name": "stderr",
          "output_type": "stream",
          "text": [
            "Epoch 3/5:  52%|█████▏    | 972/1875 [44:02<02:51,  5.28 batches/s, loss=0.184]    "
          ]
        },
        {
          "name": "stdout",
          "output_type": "stream",
          "text": [
            "mean train: {'loss': 0.19205087508474078}\n"
          ]
        },
        {
          "name": "stderr",
          "output_type": "stream",
          "text": [
            "Epoch 3/5:  52%|█████▏    | 983/1875 [52:58<39:40:09, 160.10s/ batches, loss=0.247]"
          ]
        },
        {
          "name": "stdout",
          "output_type": "stream",
          "text": [
            "mean train: {'loss': 0.19568684697151184}\n"
          ]
        },
        {
          "name": "stderr",
          "output_type": "stream",
          "text": [
            "Epoch 3/5:  54%|█████▍    | 1016/1875 [53:08<03:18,  4.34 batches/s, loss=0.205]   "
          ]
        },
        {
          "name": "stdout",
          "output_type": "stream",
          "text": [
            "mean train: {'loss': 0.18190902607007461}\n"
          ]
        },
        {
          "name": "stderr",
          "output_type": "stream",
          "text": [
            "Epoch 3/5:  57%|█████▋    | 1063/1875 [53:18<03:31,  3.84 batches/s, loss=0.172]"
          ]
        },
        {
          "name": "stdout",
          "output_type": "stream",
          "text": [
            "mean train: {'loss': 0.1880631852657237}\n"
          ]
        },
        {
          "name": "stderr",
          "output_type": "stream",
          "text": [
            "Epoch 3/5:  60%|█████▉    | 1117/1875 [53:28<02:40,  4.73 batches/s, loss=0.203]"
          ]
        },
        {
          "name": "stdout",
          "output_type": "stream",
          "text": [
            "mean train: {'loss': 0.19047670176735632}\n"
          ]
        },
        {
          "name": "stderr",
          "output_type": "stream",
          "text": [
            "Epoch 3/5:  60%|█████▉    | 1123/1875 [1:02:06<32:24:46, 155.17s/ batches, loss=0.182]"
          ]
        },
        {
          "name": "stdout",
          "output_type": "stream",
          "text": [
            "mean train: {'loss': 0.18566269675890604}\n"
          ]
        },
        {
          "name": "stderr",
          "output_type": "stream",
          "text": [
            "Epoch 3/5:  62%|██████▏   | 1168/1875 [1:02:16<02:04,  5.67 batches/s, loss=0.203]    "
          ]
        },
        {
          "name": "stdout",
          "output_type": "stream",
          "text": [
            "mean train: {'loss': 0.18841241672635078}\n"
          ]
        },
        {
          "name": "stderr",
          "output_type": "stream",
          "text": [
            "Epoch 3/5:  63%|██████▎   | 1178/1875 [1:11:12<31:00:39, 160.17s/ batches, loss=0.194]"
          ]
        },
        {
          "name": "stdout",
          "output_type": "stream",
          "text": [
            "mean train: {'loss': 0.1960154961455952}\n"
          ]
        },
        {
          "name": "stderr",
          "output_type": "stream",
          "text": [
            "Epoch 3/5:  65%|██████▌   | 1224/1875 [1:11:22<01:57,  5.53 batches/s, loss=0.149]    "
          ]
        },
        {
          "name": "stdout",
          "output_type": "stream",
          "text": [
            "mean train: {'loss': 0.184026903907458}\n"
          ]
        },
        {
          "name": "stderr",
          "output_type": "stream",
          "text": [
            "Epoch 3/5:  68%|██████▊   | 1268/1875 [1:11:32<01:48,  5.60 batches/s, loss=0.151]"
          ]
        },
        {
          "name": "stdout",
          "output_type": "stream",
          "text": [
            "mean train: {'loss': 0.1952297146121661}\n"
          ]
        },
        {
          "name": "stderr",
          "output_type": "stream",
          "text": [
            "Epoch 3/5:  68%|██████▊   | 1276/1875 [1:20:18<18:21:06, 110.29s/ batches, loss=0.162]"
          ]
        },
        {
          "name": "stdout",
          "output_type": "stream",
          "text": [
            "mean train: {'loss': 0.18690708066735948}\n"
          ]
        },
        {
          "name": "stderr",
          "output_type": "stream",
          "text": [
            "Epoch 3/5:  70%|███████   | 1318/1875 [1:20:28<01:35,  5.81 batches/s, loss=0.168]    "
          ]
        },
        {
          "name": "stdout",
          "output_type": "stream",
          "text": [
            "mean train: {'loss': 0.18636093643449603}\n"
          ]
        },
        {
          "name": "stderr",
          "output_type": "stream",
          "text": [
            "Epoch 3/5:  71%|███████   | 1332/1875 [1:29:24<16:55:11, 112.18s/ batches, loss=0.199]"
          ]
        },
        {
          "name": "stdout",
          "output_type": "stream",
          "text": [
            "mean train: {'loss': 0.1971178501844406}\n"
          ]
        },
        {
          "name": "stderr",
          "output_type": "stream",
          "text": [
            "Epoch 3/5:  73%|███████▎  | 1368/1875 [1:29:34<02:28,  3.42 batches/s, loss=0.205]    "
          ]
        },
        {
          "name": "stdout",
          "output_type": "stream",
          "text": [
            "mean train: {'loss': 0.18877507061571688}\n"
          ]
        },
        {
          "name": "stderr",
          "output_type": "stream",
          "text": [
            "Epoch 3/5:  73%|███████▎  | 1371/1875 [1:38:29<22:28:35, 160.55s/ batches, loss=0.153]"
          ]
        },
        {
          "name": "stdout",
          "output_type": "stream",
          "text": [
            "mean train: {'loss': 0.1728713313738505}\n"
          ]
        },
        {
          "name": "stderr",
          "output_type": "stream",
          "text": [
            "Epoch 3/5:  75%|███████▌  | 1409/1875 [1:38:39<02:17,  3.39 batches/s, loss=0.201]    "
          ]
        },
        {
          "name": "stdout",
          "output_type": "stream",
          "text": [
            "mean train: {'loss': 0.18696415659628415}\n"
          ]
        },
        {
          "name": "stderr",
          "output_type": "stream",
          "text": [
            "Epoch 3/5:  76%|███████▌  | 1419/1875 [1:46:34<17:58:26, 141.90s/ batches, loss=0.196]"
          ]
        },
        {
          "name": "stdout",
          "output_type": "stream",
          "text": [
            "mean train: {'loss': 0.18339382559061052}\n"
          ]
        },
        {
          "name": "stderr",
          "output_type": "stream",
          "text": [
            "Epoch 3/5:  77%|███████▋  | 1453/1875 [1:46:44<01:34,  4.48 batches/s, loss=0.189]    "
          ]
        },
        {
          "name": "stdout",
          "output_type": "stream",
          "text": [
            "mean train: {'loss': 0.19407855105750701}\n"
          ]
        },
        {
          "name": "stderr",
          "output_type": "stream",
          "text": [
            "Epoch 3/5:  80%|███████▉  | 1495/1875 [1:46:54<01:42,  3.69 batches/s, loss=0.176]"
          ]
        },
        {
          "name": "stdout",
          "output_type": "stream",
          "text": [
            "mean train: {'loss': 0.19186390475148246}\n"
          ]
        },
        {
          "name": "stderr",
          "output_type": "stream",
          "text": [
            "Epoch 3/5:  82%|████████▏ | 1544/1875 [1:47:04<00:55,  6.00 batches/s, loss=0.222]"
          ]
        },
        {
          "name": "stdout",
          "output_type": "stream",
          "text": [
            "mean train: {'loss': 0.1898956916605433}\n"
          ]
        },
        {
          "name": "stderr",
          "output_type": "stream",
          "text": [
            "Epoch 3/5:  83%|████████▎ | 1558/1875 [1:55:41<9:31:24, 108.15s/ batches, loss=0.173] "
          ]
        },
        {
          "name": "stdout",
          "output_type": "stream",
          "text": [
            "mean train: {'loss': 0.1843669010060174}\n"
          ]
        },
        {
          "name": "stderr",
          "output_type": "stream",
          "text": [
            "Epoch 3/5:  85%|████████▍ | 1586/1875 [1:55:51<01:07,  4.28 batches/s, loss=0.219]   "
          ]
        },
        {
          "name": "stdout",
          "output_type": "stream",
          "text": [
            "mean train: {'loss': 0.18983708578964759}\n"
          ]
        },
        {
          "name": "stderr",
          "output_type": "stream",
          "text": [
            "Epoch 3/5:  87%|████████▋ | 1633/1875 [1:56:01<00:42,  5.63 batches/s, loss=0.173]"
          ]
        },
        {
          "name": "stdout",
          "output_type": "stream",
          "text": [
            "mean train: {'loss': 0.1902571688203708}\n"
          ]
        },
        {
          "name": "stderr",
          "output_type": "stream",
          "text": [
            "Epoch 3/5:  88%|████████▊ | 1645/1875 [2:03:00<7:58:44, 124.89s/ batches, loss=0.172]"
          ]
        },
        {
          "name": "stdout",
          "output_type": "stream",
          "text": [
            "mean train: {'loss': 0.18377303790587646}\n"
          ]
        },
        {
          "name": "stderr",
          "output_type": "stream",
          "text": [
            "Epoch 3/5:  90%|████████▉ | 1685/1875 [2:03:10<00:34,  5.47 batches/s, loss=0.185]   "
          ]
        },
        {
          "name": "stdout",
          "output_type": "stream",
          "text": [
            "mean train: {'loss': 0.18476436344476846}\n"
          ]
        },
        {
          "name": "stderr",
          "output_type": "stream",
          "text": [
            "Epoch 3/5:  92%|█████████▏| 1733/1875 [2:03:20<00:34,  4.10 batches/s, loss=0.199]"
          ]
        },
        {
          "name": "stdout",
          "output_type": "stream",
          "text": [
            "mean train: {'loss': 0.18359704408794641}\n"
          ]
        },
        {
          "name": "stderr",
          "output_type": "stream",
          "text": [
            "Epoch 3/5:  95%|█████████▌| 1787/1875 [2:03:30<00:19,  4.42 batches/s, loss=0.176]"
          ]
        },
        {
          "name": "stdout",
          "output_type": "stream",
          "text": [
            "mean train: {'loss': 0.19593848977927808}\n"
          ]
        },
        {
          "name": "stderr",
          "output_type": "stream",
          "text": [
            "Epoch 3/5:  96%|█████████▌| 1792/1875 [2:12:07<3:34:08, 154.80s/ batches, loss=0.208]"
          ]
        },
        {
          "name": "stdout",
          "output_type": "stream",
          "text": [
            "mean train: {'loss': 0.1813132663567861}\n"
          ]
        },
        {
          "name": "stderr",
          "output_type": "stream",
          "text": [
            "Epoch 3/5:  98%|█████████▊| 1830/1875 [2:12:17<00:15,  2.84 batches/s, loss=0.185]   "
          ]
        },
        {
          "name": "stdout",
          "output_type": "stream",
          "text": [
            "mean train: {'loss': 0.18604162657583082}\n"
          ]
        },
        {
          "name": "stderr",
          "output_type": "stream",
          "text": [
            "Epoch 3/5:  98%|█████████▊| 1839/1875 [2:19:45<1:20:22, 133.96s/ batches, loss=0.194]"
          ]
        },
        {
          "name": "stdout",
          "output_type": "stream",
          "text": [
            "mean train: {'loss': 0.19305520504713058}\n"
          ]
        },
        {
          "name": "stderr",
          "output_type": "stream",
          "text": [
            "Epoch 3/5:  99%|█████████▉| 1852/1875 [2:19:55<00:37,  1.65s/ batches, loss=0.157]   "
          ]
        },
        {
          "name": "stdout",
          "output_type": "stream",
          "text": [
            "mean train: {'loss': 0.20175565779209137}\n"
          ]
        },
        {
          "name": "stderr",
          "output_type": "stream",
          "text": [
            "Epoch 3/5: 100%|██████████| 1875/1875 [2:20:01<00:00,  4.48s/ batches, loss=0.2]  \n"
          ]
        },
        {
          "name": "stdout",
          "output_type": "stream",
          "text": [
            "epoch=3 test {'loss': 0.18951482325792313}\n"
          ]
        },
        {
          "data": {
            "text/html": [
              "<table class=\"show_images\" style=\"border-spacing:0px;\"><tr><td style=\"padding:1px;\"><img width=\"28\" height=\"28\" style=\"image-rendering:auto; object-fit:cover;\" src=\"data:image/png;base64,iVBORw0KGgoAAAANSUhEUgAAABwAAAAcCAIAAAD9b0jDAAAAi0lEQVR4nO2UUQqAIBBEN/GKc8npkBsoiRBp2YARvS8/5LG6s2v28zUAkHR3kjKjV7Qvx4sF5vOaENToCdmTbX81ALHRez94JLSl+R+V0mHCHClSpJTdZxqhgiwG2KdTH1irEtatN9hcqF1RVnVM2Su/Y4wNUVGUeX209yiPJ6olP6ZbzipV7vn3sgF6cZuNLob49wAAAABJRU5ErkJggg==\"/></td><td style=\"padding:1px;\"><img width=\"28\" height=\"28\" style=\"image-rendering:auto; object-fit:cover;\" src=\"data:image/png;base64,iVBORw0KGgoAAAANSUhEUgAAABwAAAAcCAIAAAD9b0jDAAAAoUlEQVR4nO2U0QqAIAxFTfrF+ZG3jzRoKOUqNy0K6jxExDhud5JzP99lMFUTUX5OC12HE1EUAOADGgEgpeyVxaNGl0dmeOocQleDSMOuozB3imThneib8lVjsej2zUCshRJFIAZpVHBi9LtGzcG2vePgShZpnBhG+SmEAGDdCL8rJzBQvZstIGVyvTHW0nzOSHdEGZuMXlnX+5N3W67J8aXMLZopI8EyXfoAAAAASUVORK5CYII=\"/></td><td style=\"padding:1px;\"><img width=\"28\" height=\"28\" style=\"image-rendering:auto; object-fit:cover;\" src=\"data:image/png;base64,iVBORw0KGgoAAAANSUhEUgAAABwAAAAcCAIAAAD9b0jDAAAAnUlEQVR4nO2SUQrDMAxD05Iryod0DqlBO4KhWZy6Zl/VRynBvMiRSnn16s9SVZLn10pVIzgA9ATgtkFXQ791SCR5PWyt2Z/J+tW1LCId1zXfuv4CARAR98rrfUHZAIcDewyabLMcMUb6tFK1YPnn5c2xqelEmMTTnpJ33nFbJH6nt6X53Z3o7tJaqSacHCJMOGmtZDoRwLl7WoEe6gNeivA/wkH0lgAAAABJRU5ErkJggg==\"/></td><td style=\"padding:1px;\"><img width=\"28\" height=\"28\" style=\"image-rendering:auto; object-fit:cover;\" src=\"data:image/png;base64,iVBORw0KGgoAAAANSUhEUgAAABwAAAAcCAIAAAD9b0jDAAAAjElEQVR4nO2TUQ6AMAhDkTv2kt0hMZm6H90CBOOP72sJW1MoE/n5HADWITm7syV0zex8vD0/16gigOPQWpvdUcmyEI1B8hjomEABdjGGUGYTVYpwbFI4KDhCT9qEr3F1ikotvPLxTDOsWObXUh51USvr9574K/+Hcb86K4wlT2y7rsutI4WwPKgfybIDhc+BpntMwi8AAAAASUVORK5CYII=\"/></td><td style=\"padding:1px;\"><img width=\"28\" height=\"28\" style=\"image-rendering:auto; object-fit:cover;\" src=\"data:image/png;base64,iVBORw0KGgoAAAANSUhEUgAAABwAAAAcCAIAAAD9b0jDAAAAX0lEQVR4nO2UMQrAQAgExT+uj9RHborrUgQDexwJTmUh44Ki2fArAGSmWEoSQLPZxcP70n7G00l3QVK/fQD9A3Dx8FfSlVGftKrE0ohYRcfrtgEf6UkpPvBPb6c62CMXpfYbD/+rokQAAAAASUVORK5CYII=\"/></td><td style=\"padding:1px;\"><img width=\"28\" height=\"28\" style=\"image-rendering:auto; object-fit:cover;\" src=\"data:image/png;base64,iVBORw0KGgoAAAANSUhEUgAAABwAAAAcCAIAAAD9b0jDAAAAaklEQVR4nO2TUQrAIAxDQ++YS7aH7MCBnzMOpYz5vsMjQQscanH3zHT355hNSUkqMXthjIhl0s5KKbXtc2RDURsKIXk3VcKmS/UGhkKyMbyliabdNfyhG+dbvTT+Pf8j0tBeSYWkeEs4ABelwjAA29luUgAAAABJRU5ErkJggg==\"/></td><td style=\"padding:1px;\"><img width=\"28\" height=\"28\" style=\"image-rendering:auto; object-fit:cover;\" src=\"data:image/png;base64,iVBORw0KGgoAAAANSUhEUgAAABwAAAAcCAIAAAD9b0jDAAAAq0lEQVR4nO2UQQ7AIAgEgT/iI/GR9mBCaNSyGo+dk7a4yoIS/fxchadfVTUOfFprJaJSyvY+qtoAfKdrik6uaGZtwMzchE78u3dMfbs5DTMzVNSy0JjQNEDipNbKzL3ECCdtsMLTXwXIgWI3+iMhORb9QOgU3HoC6w41E0LsYrpFe9+LC54q/nzQ4ukb8ZSZ8yVy/ZgouxWXNMK18MZMRJH7M5K4HlsSKVHnAdek7Ucq/m+yAAAAAElFTkSuQmCC\"/></td><td style=\"padding:1px;\"><img width=\"28\" height=\"28\" style=\"image-rendering:auto; object-fit:cover;\" src=\"data:image/png;base64,iVBORw0KGgoAAAANSUhEUgAAABwAAAAcCAIAAAD9b0jDAAAAf0lEQVR4nO2UUQrAIAxDg3eMh6yHzJgi7GeDbhH2Yb4E9ZGStsDWH0RSEkkbMSLUZfYoKSIenpUsdBxaa9/sJW2uIpYM+ay61gqjzXBVfW0j2Inhtak8sTxfD5ytK7EoH3lnHDMf5yrinJ9338sdFIBteLBiB3NF4uxyErfg0AHaeHCnZ3K+2QAAAABJRU5ErkJggg==\"/></td><td style=\"padding:1px;\"><img width=\"28\" height=\"28\" style=\"image-rendering:auto; object-fit:cover;\" src=\"data:image/png;base64,iVBORw0KGgoAAAANSUhEUgAAABwAAAAcCAIAAAD9b0jDAAAAiklEQVR4nO2U4QqAIAyEz+gV50OeD2ng/YmwMl1Q0fdjoMLt1G3Az5cxs1yons7tKgBIrjdjjEOiKIpSUQLFIaywyYHXE06vnFJSBKDYD8lco+V/wp5H6aaClrKpGhi1XC17uGNm/vWUz5xOHaLOD/pISHaPjOngzGEOHUxi9at6zCFTvt6jP7iDBdKwcr0jns8IAAAAAElFTkSuQmCC\"/></td><td style=\"padding:1px;\"><img width=\"28\" height=\"28\" style=\"image-rendering:auto; object-fit:cover;\" src=\"data:image/png;base64,iVBORw0KGgoAAAANSUhEUgAAABwAAAAcCAIAAAD9b0jDAAAAoElEQVR4nO2UQQ7EIAhFiXf8HvL3kEwiiZlEBTuyaNJ5W8oTBCvy5zloI98IYBotPxhXriOpcTUkt9JrYRRfSnLaadi+B8lxGgCcEQVY8rg005N2YUsepapK0s8tof27KNM5IwqkPdPGZfToafsrVrsRAMD6tTK7q593tFty8/dRdj7anE/Cwh6hKdd3Xmbxw1ZgrVUS0Y1HeRskXqW8hQ8uwKp7kDrX2QAAAABJRU5ErkJggg==\"/></td><td style=\"padding:1px;\"><img width=\"28\" height=\"28\" style=\"image-rendering:auto; object-fit:cover;\" src=\"data:image/png;base64,iVBORw0KGgoAAAANSUhEUgAAABwAAAAcCAIAAAD9b0jDAAAAm0lEQVR4nO2UUQqEMAxEJ9IrJodMDlmhi9mAqG2s7H74voqU55RMC7z8Icxca41fSs7CzADMTFX3G8qoDoCLXJ1I9j2jow0cUDCIiOSj7TlPF1kwQmfG5QnpI1Dnvk97OsPSpct1vrhVAFWtB+QHZSGOiFBjwvStQUT+g/kF4HZZO6/AL4y8vSbzjbxV6pZLQ6UmGDXoZo7lBVlW38+QvPZwRHIAAAAASUVORK5CYII=\"/></td><td style=\"padding:1px;\"><img width=\"28\" height=\"28\" style=\"image-rendering:auto; object-fit:cover;\" src=\"data:image/png;base64,iVBORw0KGgoAAAANSUhEUgAAABwAAAAcCAIAAAD9b0jDAAAAlUlEQVR4nO2USw7EIAxDA5ormkM6h2wXiAi1HZWPl32LiEViWU6E2ceHlDTYB6B/1JrS6PgVACSPJ0jaE78R0bDp7lH/KQ5RTYVupXpf1+VtMtLYMtsDIDI1rSJVHq3le494HXaHpY8SKpvH28FPw8kbyuPS7l5KMa1NqKJE249M0ZpNvSLn151fOxaWk2cHdhF/HJucloitcMEHacsAAAAASUVORK5CYII=\"/></td><td style=\"padding:1px;\"><img width=\"28\" height=\"28\" style=\"image-rendering:auto; object-fit:cover;\" src=\"data:image/png;base64,iVBORw0KGgoAAAANSUhEUgAAABwAAAAcCAIAAAD9b0jDAAAAm0lEQVR4nO2UUQoDIQxE495xPOTkkCndrRIoVrc7FEr7viI4Y6KJZn9+lzLdgZ0jdneSd1mZC4cAIBlj8pGr8KVjts6qzc7j7rXWvHT3E3oAEUGy59KDo4h3yp8eZiqwOz5f5SVC64iWo7LwGPTQJ66yrJtGxEMzm9FN7miLpv1Z8iBdgm38ZY/D5ijrIcpzxDf1OdOPp0FZtYQbM0TTUCo+lDwAAAAASUVORK5CYII=\"/></td><td style=\"padding:1px;\"><img width=\"28\" height=\"28\" style=\"image-rendering:auto; object-fit:cover;\" src=\"data:image/png;base64,iVBORw0KGgoAAAANSUhEUgAAABwAAAAcCAIAAAD9b0jDAAAAoElEQVR4nO2UUQrEIAxEg+wVx0OOh0yhUnFptCYtLCx9vzbJGyMVefkrAEyOJqdDSKoqyXMxAN1x99WD0TzzaEZzIfmMJo4ys7JquoNj7HI3OL47Amiriy9drEnx4Dy5tNRxTXQuLfXlVX5WlGvrfkDO2a0pXUyTeW0KzAtqVvqFLN6mj/4lXX6c1puuGyRxUkqRp1DPg0/yQ2j99l/EYgMLreYvM33a4QAAAABJRU5ErkJggg==\"/></td><td style=\"padding:1px;\"><img width=\"28\" height=\"28\" style=\"image-rendering:auto; object-fit:cover;\" src=\"data:image/png;base64,iVBORw0KGgoAAAANSUhEUgAAABwAAAAcCAIAAAD9b0jDAAAAjElEQVR4nO2USwrAIAxEY+kVx0OOh7RQsdiPlpIpdNG3CoiTyYeY/fwMwYo5IQkgD3mWCXdyGyX3WWHuSaeUDsEWo6F99YJazaXTyb4DydJTsWLu1G6e8mOMsimhjsiE5LqhMkW8Z9OEcB264LK82MosV2Rddb0iVTbRHNZHH6exaAlCCD57e8Q75GEBHOzJVlHlPuoAAAAASUVORK5CYII=\"/></td><td style=\"padding:1px;\"><img width=\"28\" height=\"28\" style=\"image-rendering:auto; object-fit:cover;\" src=\"data:image/png;base64,iVBORw0KGgoAAAANSUhEUgAAABwAAAAcCAIAAAD9b0jDAAAAh0lEQVR4nO2VQQrAMAgE1T+aR24emUKkPTQtaDC9pHMMcV1EVqKt4fFJO0RUO2mtALQOAGuQhqqadLIuna4B+Esk2YJTtJRCK2idTKeITDM8U/8OyIqZiucTM+eLRpFwxZaitdZxpd6WTOa8qKqlYjRrnhP2lrbzioYJecKbKcJ1aVZF18+nHGROXdLhmtCZAAAAAElFTkSuQmCC\"/></td><td style=\"padding:1px;\"><img width=\"28\" height=\"28\" style=\"image-rendering:auto; object-fit:cover;\" src=\"data:image/png;base64,iVBORw0KGgoAAAANSUhEUgAAABwAAAAcCAIAAAD9b0jDAAAAj0lEQVR4nO2UWwrAIAwE09ArrodcD2lBQSwWH42FFjp/QpgkQlbk59uQBBDOkLxvRKXLmMZknLRsQ9LqbWxQNrtEZQbv/UiZTkmTd/GkiUekzrmVUkS6ZTorHSlTeQB9i5SWBChPtnyuSRacQ2BBsoRqrq50b0t9pF0DYDATWuTATt9Sr7KJgezqHu6PGDkAMSeHpdTooSkAAAAASUVORK5CYII=\"/></td><td style=\"padding:1px;\"><img width=\"28\" height=\"28\" style=\"image-rendering:auto; object-fit:cover;\" src=\"data:image/png;base64,iVBORw0KGgoAAAANSUhEUgAAABwAAAAcCAIAAAD9b0jDAAAAm0lEQVR4nO2U4QrDMAiEb7JXNA95PmTHDCtjLYm2QqHs+20ud8YI3BNVXZxxmWRFAbTWznnb2CSJQhanm73ApsRFAZhZmSjJytRwxWw3BRdOuxbGp2cfK+YmVwOfcvdWKfmUCdEp6sTn9830iXpBoqc6a+igQCLq2eDPqSjJfvL7fI9sZkd2q34y/jDeBo+I7voUq9nK5f/nXrwAPW+ampgAwSoAAAAASUVORK5CYII=\"/></td><td style=\"padding:1px;\"><img width=\"28\" height=\"28\" style=\"image-rendering:auto; object-fit:cover;\" src=\"data:image/png;base64,iVBORw0KGgoAAAANSUhEUgAAABwAAAAcCAIAAAD9b0jDAAAAsklEQVR4nO2UUQ7EIAhEcbNXxEOOh+wmNRJLlYr1o2n2fTXqDCBSoj9vA8B2BMBKO2HSkZm3DjnYLUfeOe+qxWuyDEBTmTP13SyKpukoRThMuWh61Un3HOWjaHohjdq/o0Equ3PHFMFIhIhSSmpd60NwZ8r9jFQ8h6lB2vGVT8fvrJe2xBiNTGdG69Z/pKYeVloCJt75oON41eHyhAxV80k2+djbkt2CXguLr5IK6x0fxA/ki+xDS1iJtAAAAABJRU5ErkJggg==\"/></td><td style=\"padding:1px;\"><img width=\"28\" height=\"28\" style=\"image-rendering:auto; object-fit:cover;\" src=\"data:image/png;base64,iVBORw0KGgoAAAANSUhEUgAAABwAAAAcCAIAAAD9b0jDAAAAmUlEQVR4nO2USw4DIQxDA3f0Jc0hqTRRUFumDANetX0rxMdxEsDsp0mT+3Dgg5RmT40gWQOStg+ApuhmZR5JihVrrQI5e81aU0cLm7KsnZ2s8+msLN9nJi8QgNPw2RT9vBbFdmfyYK2UMj7s4fttedlOu20yUUSJysG97uNDfdvTWP/rENI+XlHsdXvWXwfC1Juc8jf483U8AN/ZxVqhinJAAAAAAElFTkSuQmCC\"/></td></tr></table>"
            ],
            "text/plain": [
              "<IPython.core.display.HTML object>"
            ]
          },
          "metadata": {},
          "output_type": "display_data"
        },
        {
          "name": "stdout",
          "output_type": "stream",
          "text": [
            "Generated sample images (min/max): 0/3\n"
          ]
        },
        {
          "name": "stderr",
          "output_type": "stream",
          "text": [
            "Epoch 4/5:   1%|          | 10/1875 [00:02<06:13,  4.99 batches/s, loss=0.171]"
          ]
        },
        {
          "name": "stdout",
          "output_type": "stream",
          "text": [
            "mean train: {'loss': 0.19156051223928278}\n"
          ]
        },
        {
          "name": "stderr",
          "output_type": "stream",
          "text": [
            "Epoch 4/5:   2%|▏         | 44/1875 [00:12<08:44,  3.49 batches/s, loss=0.165]"
          ]
        },
        {
          "name": "stdout",
          "output_type": "stream",
          "text": [
            "mean train: {'loss': 0.17998982401508273}\n"
          ]
        },
        {
          "name": "stderr",
          "output_type": "stream",
          "text": [
            "Epoch 4/5:   4%|▍         | 75/1875 [00:22<09:27,  3.17 batches/s, loss=0.176]"
          ]
        },
        {
          "name": "stdout",
          "output_type": "stream",
          "text": [
            "mean train: {'loss': 0.18974381685256958}\n"
          ]
        },
        {
          "name": "stderr",
          "output_type": "stream",
          "text": [
            "Epoch 4/5:   6%|▌         | 111/1875 [00:32<05:32,  5.30 batches/s, loss=0.192]"
          ]
        },
        {
          "name": "stdout",
          "output_type": "stream",
          "text": [
            "mean train: {'loss': 0.18388812823428047}\n"
          ]
        },
        {
          "name": "stderr",
          "output_type": "stream",
          "text": [
            "Epoch 4/5:   8%|▊         | 157/1875 [00:43<04:50,  5.91 batches/s, loss=0.159]"
          ]
        },
        {
          "name": "stdout",
          "output_type": "stream",
          "text": [
            "mean train: {'loss': 0.1879460159275267}\n"
          ]
        },
        {
          "name": "stderr",
          "output_type": "stream",
          "text": [
            "Epoch 4/5:  11%|█         | 209/1875 [00:53<04:44,  5.85 batches/s, loss=0.214]"
          ]
        },
        {
          "name": "stdout",
          "output_type": "stream",
          "text": [
            "mean train: {'loss': 0.18364025050630936}\n"
          ]
        },
        {
          "name": "stderr",
          "output_type": "stream",
          "text": [
            "Epoch 4/5:  14%|█▍        | 266/1875 [01:03<04:44,  5.66 batches/s, loss=0.178]"
          ]
        },
        {
          "name": "stdout",
          "output_type": "stream",
          "text": [
            "mean train: {'loss': 0.19198113915167356}\n"
          ]
        },
        {
          "name": "stderr",
          "output_type": "stream",
          "text": [
            "Epoch 4/5:  17%|█▋        | 324/1875 [01:13<04:15,  6.08 batches/s, loss=0.213]"
          ]
        },
        {
          "name": "stdout",
          "output_type": "stream",
          "text": [
            "mean train: {'loss': 0.18635202301987286}\n"
          ]
        },
        {
          "name": "stderr",
          "output_type": "stream",
          "text": [
            "Epoch 4/5:  20%|██        | 381/1875 [01:23<04:24,  5.64 batches/s, loss=0.173]"
          ]
        },
        {
          "name": "stdout",
          "output_type": "stream",
          "text": [
            "mean train: {'loss': 0.1880358698075278}\n"
          ]
        },
        {
          "name": "stderr",
          "output_type": "stream",
          "text": [
            "Epoch 4/5:  23%|██▎       | 433/1875 [01:33<04:13,  5.70 batches/s, loss=0.169]"
          ]
        },
        {
          "name": "stdout",
          "output_type": "stream",
          "text": [
            "mean train: {'loss': 0.18551508824412638}\n"
          ]
        },
        {
          "name": "stderr",
          "output_type": "stream",
          "text": [
            "Epoch 4/5:  25%|██▌       | 477/1875 [01:44<06:06,  3.82 batches/s, loss=0.213]"
          ]
        },
        {
          "name": "stdout",
          "output_type": "stream",
          "text": [
            "mean train: {'loss': 0.18749792230400172}\n"
          ]
        },
        {
          "name": "stderr",
          "output_type": "stream",
          "text": [
            "Epoch 4/5:  28%|██▊       | 517/1875 [01:54<04:15,  5.32 batches/s, loss=0.198]"
          ]
        },
        {
          "name": "stdout",
          "output_type": "stream",
          "text": [
            "mean train: {'loss': 0.18490683920681478}\n"
          ]
        },
        {
          "name": "stderr",
          "output_type": "stream",
          "text": [
            "Epoch 4/5:  30%|███       | 570/1875 [02:04<03:57,  5.49 batches/s, loss=0.181]"
          ]
        },
        {
          "name": "stdout",
          "output_type": "stream",
          "text": [
            "mean train: {'loss': 0.19760402671571048}\n"
          ]
        },
        {
          "name": "stderr",
          "output_type": "stream",
          "text": [
            "Epoch 4/5:  33%|███▎      | 622/1875 [02:14<03:40,  5.68 batches/s, loss=0.177]"
          ]
        },
        {
          "name": "stdout",
          "output_type": "stream",
          "text": [
            "mean train: {'loss': 0.18412362999067858}\n"
          ]
        },
        {
          "name": "stderr",
          "output_type": "stream",
          "text": [
            "Epoch 4/5:  36%|███▌      | 672/1875 [02:24<03:58,  5.04 batches/s, loss=0.154]"
          ]
        },
        {
          "name": "stdout",
          "output_type": "stream",
          "text": [
            "mean train: {'loss': 0.18426820144057274}\n"
          ]
        },
        {
          "name": "stderr",
          "output_type": "stream",
          "text": [
            "Epoch 4/5:  39%|███▉      | 728/1875 [02:34<03:21,  5.69 batches/s, loss=0.194]"
          ]
        },
        {
          "name": "stdout",
          "output_type": "stream",
          "text": [
            "mean train: {'loss': 0.1840976532548666}\n"
          ]
        },
        {
          "name": "stderr",
          "output_type": "stream",
          "text": [
            "Epoch 4/5:  42%|████▏     | 784/1875 [02:44<03:02,  5.97 batches/s, loss=0.215]"
          ]
        },
        {
          "name": "stdout",
          "output_type": "stream",
          "text": [
            "mean train: {'loss': 0.19029572632695949}\n"
          ]
        },
        {
          "name": "stderr",
          "output_type": "stream",
          "text": [
            "Epoch 4/5:  45%|████▍     | 835/1875 [02:54<03:01,  5.74 batches/s, loss=0.211]"
          ]
        },
        {
          "name": "stdout",
          "output_type": "stream",
          "text": [
            "mean train: {'loss': 0.18527619248511745}\n"
          ]
        },
        {
          "name": "stderr",
          "output_type": "stream",
          "text": [
            "Epoch 4/5:  48%|████▊     | 892/1875 [03:04<02:56,  5.58 batches/s, loss=0.214]"
          ]
        },
        {
          "name": "stdout",
          "output_type": "stream",
          "text": [
            "mean train: {'loss': 0.1884890151651282}\n"
          ]
        },
        {
          "name": "stderr",
          "output_type": "stream",
          "text": [
            "Epoch 4/5:  50%|█████     | 946/1875 [03:14<03:09,  4.91 batches/s, loss=0.194]"
          ]
        },
        {
          "name": "stdout",
          "output_type": "stream",
          "text": [
            "mean train: {'loss': 0.1853028922169297}\n"
          ]
        },
        {
          "name": "stderr",
          "output_type": "stream",
          "text": [
            "Epoch 4/5:  53%|█████▎    | 999/1875 [03:24<03:07,  4.66 batches/s, loss=0.148]"
          ]
        },
        {
          "name": "stdout",
          "output_type": "stream",
          "text": [
            "mean train: {'loss': 0.19572175111410753}\n"
          ]
        },
        {
          "name": "stderr",
          "output_type": "stream",
          "text": [
            "Epoch 4/5:  56%|█████▌    | 1045/1875 [03:34<02:48,  4.93 batches/s, loss=0.223] "
          ]
        },
        {
          "name": "stdout",
          "output_type": "stream",
          "text": [
            "mean train: {'loss': 0.18775324840494928}\n"
          ]
        },
        {
          "name": "stderr",
          "output_type": "stream",
          "text": [
            "Epoch 4/5:  58%|█████▊    | 1089/1875 [03:44<02:19,  5.65 batches/s, loss=0.211]"
          ]
        },
        {
          "name": "stdout",
          "output_type": "stream",
          "text": [
            "mean train: {'loss': 0.1810665834088658}\n"
          ]
        },
        {
          "name": "stderr",
          "output_type": "stream",
          "text": [
            "Epoch 4/5:  61%|██████    | 1138/1875 [03:55<02:23,  5.14 batches/s, loss=0.183]"
          ]
        },
        {
          "name": "stdout",
          "output_type": "stream",
          "text": [
            "mean train: {'loss': 0.18434090973163136}\n"
          ]
        },
        {
          "name": "stderr",
          "output_type": "stream",
          "text": [
            "Epoch 4/5:  64%|██████▍   | 1197/1875 [04:05<01:53,  5.99 batches/s, loss=0.193]"
          ]
        },
        {
          "name": "stdout",
          "output_type": "stream",
          "text": [
            "mean train: {'loss': 0.18961567873671903}\n"
          ]
        },
        {
          "name": "stderr",
          "output_type": "stream",
          "text": [
            "Epoch 4/5:  67%|██████▋   | 1255/1875 [04:15<01:46,  5.82 batches/s, loss=0.188]"
          ]
        },
        {
          "name": "stdout",
          "output_type": "stream",
          "text": [
            "mean train: {'loss': 0.18530329959145908}\n"
          ]
        },
        {
          "name": "stderr",
          "output_type": "stream",
          "text": [
            "Epoch 4/5:  70%|██████▉   | 1309/1875 [04:25<02:12,  4.27 batches/s, loss=0.179]"
          ]
        },
        {
          "name": "stdout",
          "output_type": "stream",
          "text": [
            "mean train: {'loss': 0.1860438527332412}\n"
          ]
        },
        {
          "name": "stderr",
          "output_type": "stream",
          "text": [
            "Epoch 4/5:  73%|███████▎  | 1366/1875 [04:35<01:27,  5.81 batches/s, loss=0.177]"
          ]
        },
        {
          "name": "stdout",
          "output_type": "stream",
          "text": [
            "mean train: {'loss': 0.19199276676303462}\n"
          ]
        },
        {
          "name": "stderr",
          "output_type": "stream",
          "text": [
            "Epoch 4/5:  76%|███████▌  | 1421/1875 [04:45<01:17,  5.89 batches/s, loss=0.222]"
          ]
        },
        {
          "name": "stdout",
          "output_type": "stream",
          "text": [
            "mean train: {'loss': 0.17784100558076585}\n"
          ]
        },
        {
          "name": "stderr",
          "output_type": "stream",
          "text": [
            "Epoch 4/5:  78%|███████▊  | 1468/1875 [04:55<01:44,  3.90 batches/s, loss=0.205]"
          ]
        },
        {
          "name": "stdout",
          "output_type": "stream",
          "text": [
            "mean train: {'loss': 0.1863555441731992}\n"
          ]
        },
        {
          "name": "stderr",
          "output_type": "stream",
          "text": [
            "Epoch 4/5:  81%|████████  | 1519/1875 [05:05<01:02,  5.67 batches/s, loss=0.168]"
          ]
        },
        {
          "name": "stdout",
          "output_type": "stream",
          "text": [
            "mean train: {'loss': 0.19281646317126705}\n"
          ]
        },
        {
          "name": "stderr",
          "output_type": "stream",
          "text": [
            "Epoch 4/5:  84%|████████▍ | 1575/1875 [05:15<00:55,  5.44 batches/s, loss=0.211]"
          ]
        },
        {
          "name": "stdout",
          "output_type": "stream",
          "text": [
            "mean train: {'loss': 0.18810190025128817}\n"
          ]
        },
        {
          "name": "stderr",
          "output_type": "stream",
          "text": [
            "Epoch 4/5:  87%|████████▋ | 1632/1875 [05:25<00:41,  5.85 batches/s, loss=0.166]"
          ]
        },
        {
          "name": "stdout",
          "output_type": "stream",
          "text": [
            "mean train: {'loss': 0.18351202032395772}\n"
          ]
        },
        {
          "name": "stderr",
          "output_type": "stream",
          "text": [
            "Epoch 4/5:  90%|████████▉ | 1683/1875 [05:35<00:35,  5.42 batches/s, loss=0.24] "
          ]
        },
        {
          "name": "stdout",
          "output_type": "stream",
          "text": [
            "mean train: {'loss': 0.19007128032927328}\n"
          ]
        },
        {
          "name": "stderr",
          "output_type": "stream",
          "text": [
            "Epoch 4/5:  92%|█████████▏| 1727/1875 [05:46<00:58,  2.54 batches/s, loss=0.2]  "
          ]
        },
        {
          "name": "stdout",
          "output_type": "stream",
          "text": [
            "mean train: {'loss': 0.19127347523515875}\n"
          ]
        },
        {
          "name": "stderr",
          "output_type": "stream",
          "text": [
            "Epoch 4/5:  95%|█████████▍| 1775/1875 [05:56<00:25,  3.91 batches/s, loss=0.192]"
          ]
        },
        {
          "name": "stdout",
          "output_type": "stream",
          "text": [
            "mean train: {'loss': 0.1945255753841806}\n"
          ]
        },
        {
          "name": "stderr",
          "output_type": "stream",
          "text": [
            "Epoch 4/5:  97%|█████████▋| 1821/1875 [06:06<00:13,  4.13 batches/s, loss=0.23] "
          ]
        },
        {
          "name": "stdout",
          "output_type": "stream",
          "text": [
            "mean train: {'loss': 0.18608340256391687}\n"
          ]
        },
        {
          "name": "stderr",
          "output_type": "stream",
          "text": [
            "Epoch 4/5: 100%|█████████▉| 1866/1875 [06:16<00:02,  3.22 batches/s, loss=0.192]"
          ]
        },
        {
          "name": "stdout",
          "output_type": "stream",
          "text": [
            "mean train: {'loss': 0.19178573448549618}\n"
          ]
        },
        {
          "name": "stderr",
          "output_type": "stream",
          "text": [
            "Epoch 4/5: 100%|██████████| 1875/1875 [06:18<00:00,  4.95 batches/s, loss=0.222]\n"
          ]
        },
        {
          "name": "stdout",
          "output_type": "stream",
          "text": [
            "epoch=4 test {'loss': 0.18759789690375328}\n"
          ]
        },
        {
          "data": {
            "text/html": [
              "<table class=\"show_images\" style=\"border-spacing:0px;\"><tr><td style=\"padding:1px;\"><img width=\"28\" height=\"28\" style=\"image-rendering:auto; object-fit:cover;\" src=\"data:image/png;base64,iVBORw0KGgoAAAANSUhEUgAAABwAAAAcCAIAAAD9b0jDAAAAvElEQVR4nO2UYQrDMAhGzegVvxxSD+kgAXFLZk3oBht7P0Jp6NNqDNGfX0NVmbmv1xgB6MC+HU7HzGh4NYBNIw9JBVsRPqNpOrYbah6Ja2ch135fw0T6SZiGPAKpiAAQkZ6Xrf5BRGqtC1KjN51mjEbKSIOSTY3nWOGsJzsdHwFgagtz2aSSS3x5il6RP5iF0lgdSzn56pY0WhE3O/7GUqI13R+pfMfLk2gcxGAcP3q9H9O3/RKRxk52X8MdJGkPO6GzAuUAAAAASUVORK5CYII=\"/></td><td style=\"padding:1px;\"><img width=\"28\" height=\"28\" style=\"image-rendering:auto; object-fit:cover;\" src=\"data:image/png;base64,iVBORw0KGgoAAAANSUhEUgAAABwAAAAcCAIAAAD9b0jDAAAAuElEQVR4nO2UXQrDMAyDnbAr2odUDulBTEMJ+RFbxl76PRTatKoiqxV5+COqCsDdTyr6haoeVgwAHFb0ndm0FV2EWEoRETM7YHPIh4oAogDDN1Epo7bnLre13+7JjOVSaYqLnQlpM/LSi25p6HRA91icokLOKnWK4UU4IpM4quq0W0p3iK2R0orrmWRmj1ZpBdgPeu20Ld2ntFV8CcFdvbNM4V9EOQXzMvIiefFFtitmltL+J/nwQ95jStx0iwhL2QAAAABJRU5ErkJggg==\"/></td><td style=\"padding:1px;\"><img width=\"28\" height=\"28\" style=\"image-rendering:auto; object-fit:cover;\" src=\"data:image/png;base64,iVBORw0KGgoAAAANSUhEUgAAABwAAAAcCAIAAAD9b0jDAAAAnklEQVR4nO2UXQrAIAyDi3jFesh4yA6UicNR/wobY3kSkfIlbSX6spgZgHFFEWFm5Y2jxwVAkoyNi2FFnIx6miuZxiSyNc4DmHMVx2fTTXkn2xbhirmbgzRp5kDW7fMdUb5cH1g03svAKsPgdEw9u5XWodmiEUzqkk6D6Kqhysdc3yjyndopOAA1dQjBBnZqU73OmA8ZM8a4xfjrdToAMBKxfl3tHlAAAAAASUVORK5CYII=\"/></td><td style=\"padding:1px;\"><img width=\"28\" height=\"28\" style=\"image-rendering:auto; object-fit:cover;\" src=\"data:image/png;base64,iVBORw0KGgoAAAANSUhEUgAAABwAAAAcCAIAAAD9b0jDAAAAlklEQVR4nO2UwQrEIAxEs9JfHD9y9iNbUEaWhdqmO4c9+A4iiM9oEiMWeQCQPFstduMTSO4iLAAYxkmwW1baJ7VWc4yQ+ld2u5FKjt9IVxnRboSSY7t1KExn89BuDNWQ8+Jor3kZ5tmRZbJn3otoRPZBoT39r+vjaK30LwUVE8Wn6+vIJ95Bt99xvSZrI1HvRjquxb9zAB42yUwnE4oxAAAAAElFTkSuQmCC\"/></td><td style=\"padding:1px;\"><img width=\"28\" height=\"28\" style=\"image-rendering:auto; object-fit:cover;\" src=\"data:image/png;base64,iVBORw0KGgoAAAANSUhEUgAAABwAAAAcCAIAAAD9b0jDAAAAdUlEQVR4nO2VQQrAIAwEk/1jPhkfuT0UvZUmZYVSOud1lOCq2c93IBkReik7Xoj3L0pJWhN0F2ik7q6XLsQXgJOiF5VQdwIo5sYY9QnANoBWunhSL+pWBSrzhW0Ar5CGsAKcnN7MVEoz88G7dclqqv4X+LE7DkrIQuNKuaGHAAAAAElFTkSuQmCC\"/></td><td style=\"padding:1px;\"><img width=\"28\" height=\"28\" style=\"image-rendering:auto; object-fit:cover;\" src=\"data:image/png;base64,iVBORw0KGgoAAAANSUhEUgAAABwAAAAcCAIAAAD9b0jDAAAAf0lEQVR4nO2VMQ7AMAgDDX/0J8kjqdRKHTq0RgJ1iacM6ERyCQF2/k1EZGZEvJd5iUhSqXQdutZ6LNr2npmdnY4kzyjH6lV0J5Sa9ylLAEyE3jgzaz7Tpd1QV4rud9kJZbslkpci0RJEUSVLqIrqn1IYgorxUnf9kzS+fpGdwRzsZUnmiPTG6gAAAABJRU5ErkJggg==\"/></td><td style=\"padding:1px;\"><img width=\"28\" height=\"28\" style=\"image-rendering:auto; object-fit:cover;\" src=\"data:image/png;base64,iVBORw0KGgoAAAANSUhEUgAAABwAAAAcCAIAAAD9b0jDAAAAsUlEQVR4nO2U2wqAIAxAt+Evzo+cH2lgMIa5qVH00nkQIzusXQT4+fkEZq61ikhtiMh9kTSLuizM7H2IV1G3xiD2hp5hRDEwguxDKWV4SN/mnM81Pp9ii27sXqvk5Sd1FkTkBgBoRB7eAYR9NJVelWjXqL8cFIB2jSt9toftuWfsYozxmOK61LZ6PEi0aLShTVuN3qhP2jXOb5CXKk6wjL0BnpTCGhPpvRGaZ316fVw5AGhvuq6Nz6YxAAAAAElFTkSuQmCC\"/></td><td style=\"padding:1px;\"><img width=\"28\" height=\"28\" style=\"image-rendering:auto; object-fit:cover;\" src=\"data:image/png;base64,iVBORw0KGgoAAAANSUhEUgAAABwAAAAcCAIAAAD9b0jDAAAAwElEQVR4nO1V0QrEIAyr4i/aj6wf6cCeh+totSIMjsvTmFuWxNQB/PEWiCg3nCTNOdcGIpo+HLxi+bo0jJ9ExB2xRFR1HGOkpn2ftN6JRLI7G1jvjDuiBEa/i4zJXh5thuCoyqrx8b7d1misaWanoxVhDaLqbAIOeoc+te4mUG+7ViOj83HKLsb8KXlVZu7Dp2nxNvcDg/GbjDvTqry2ojFpC4jIW1RKEcXkiI2gkyGW6UQIfBgbjL5j9PAPCn4WF6PeCkIaWusTAAAAAElFTkSuQmCC\"/></td><td style=\"padding:1px;\"><img width=\"28\" height=\"28\" style=\"image-rendering:auto; object-fit:cover;\" src=\"data:image/png;base64,iVBORw0KGgoAAAANSUhEUgAAABwAAAAcCAIAAAD9b0jDAAAAwElEQVR4nO2UWwrFIAxEjXSLk0WOi/SCgoSq6VX72fOVKpnmZUL4eBs5cQZQjZSSPb98HwDWwaqQbPZN1INk/oOm/gyAbUWZieac/b/WlFW1v7pmYdpPVa0St/NZKWV4SrLv7FpDeoblu4W5DJ/67ndcZhcASNp8rd1ERY6ezziVYcgxnFETekdUC7PbGI7p5yxua7UJOx01W8fN+UWh2cP5XQ6TRcJ5CDuJw91+jqL4uv0CdDbeQrAo8dr6fgSXH/FbNC8SFEVMAAAAAElFTkSuQmCC\"/></td><td style=\"padding:1px;\"><img width=\"28\" height=\"28\" style=\"image-rendering:auto; object-fit:cover;\" src=\"data:image/png;base64,iVBORw0KGgoAAAANSUhEUgAAABwAAAAcCAIAAAD9b0jDAAAArUlEQVR4nO2UXQ7EIAiEiXecS46H7D40Icj6g9ikyWbnzQofOFJF/npRVysARzgAJB10wi1B6GlfTrY1kgDsUhJCD2HLbBPZ+qgO2Ep7XLSZ1lO3FTUB0zR3gij0muaMbJmNFNqgWqsL+P7yAHSpIvtKlJHIJait3YDi1sHfUcOiXdNcbreGHbj82MOglyVDUPUuOfOq7uvpiJnHkANuEqc6Pe9Id1PPv/zyy/oA2uSZjpYLMxEAAAAASUVORK5CYII=\"/></td><td style=\"padding:1px;\"><img width=\"28\" height=\"28\" style=\"image-rendering:auto; object-fit:cover;\" src=\"data:image/png;base64,iVBORw0KGgoAAAANSUhEUgAAABwAAAAcCAIAAAD9b0jDAAAAmUlEQVR4nO2TQQ6AIAwEe/CLwyPhkTUpgSghUWq9GOdkjKzb7iLys042JBY1gDBFQFUjnWKKkTZpimE2CVcUS/yVVRIYt7xRzGyD37e5XX6BMTwDpRQRSSktewR6PjrDsxM90236byqtmNPDj0TzbMDV6K5r5FfEbA5v6m88+dCmrqK1Rsf9ehLnfH4okP9eqa2sKx77//Mhdq2w9hTnboGSAAAAAElFTkSuQmCC\"/></td><td style=\"padding:1px;\"><img width=\"28\" height=\"28\" style=\"image-rendering:auto; object-fit:cover;\" src=\"data:image/png;base64,iVBORw0KGgoAAAANSUhEUgAAABwAAAAcCAIAAAD9b0jDAAAAmklEQVR4nO2UUQqAIBBEF+mK2yFnD2ngYBiVtilI0PsQJRue7abIz88UVDXGqKpIcN4Vh5RyBsDlK6GZSLi0hHQSb7zofme61BP3OR0BmFnp7g7d4ZHp9aQ+oZnFcc2cN7jR40nZWPXS+/hCohS9NSwR+Y96mBhkCsiaXTfIZX1cnzLUH5dXiUypj69QNkpTcm++aMy26UjNHjY9XsN+PoZdUAAAAABJRU5ErkJggg==\"/></td><td style=\"padding:1px;\"><img width=\"28\" height=\"28\" style=\"image-rendering:auto; object-fit:cover;\" src=\"data:image/png;base64,iVBORw0KGgoAAAANSUhEUgAAABwAAAAcCAIAAAD9b0jDAAAAiUlEQVR4nO2UXQ6AIAyDK3cshxyHnAkkRo0hDqvxgT6Nv29bCgBTU1ItN/e5++V8zhlAKSWc2cy8K5KDRJItMLMtbsMYkfVwo5yWtkyDZfJ4bF8yJOJ7RO+ak8bopQraMvFl4+O3VUy0e46nEF1jDv7QeMBxWY188BxTByo2B7ufTUZsFilxz7UC6HHTRm+OwfQAAAAASUVORK5CYII=\"/></td><td style=\"padding:1px;\"><img width=\"28\" height=\"28\" style=\"image-rendering:auto; object-fit:cover;\" src=\"data:image/png;base64,iVBORw0KGgoAAAANSUhEUgAAABwAAAAcCAIAAAD9b0jDAAAApUlEQVR4nO2SawrDMAyDg9kVlUPKh/RgpcGkq7t4Zowx/VTiD/nR2l8/JQBHk6SZPX261lZM0psAbNf0X9Ixg4CSI5L0/toE4Hocld7MzJSPaU6Vw8wQsSeaKgdxWl3N0pGOSQf1jQcxJYDGTu/9rPZ2GVlVt1AeGhDbK9DENqR9UnauzCUdT2qCtirRoetnqqr10B4e05qWViSFXS8LwFuX9KW6Ay+L4EgFDrd5AAAAAElFTkSuQmCC\"/></td><td style=\"padding:1px;\"><img width=\"28\" height=\"28\" style=\"image-rendering:auto; object-fit:cover;\" src=\"data:image/png;base64,iVBORw0KGgoAAAANSUhEUgAAABwAAAAcCAIAAAD9b0jDAAAAmElEQVR4nO2U0Q6AIAhFtfWL14+Ej7QtN9cKCBm9dZ4q6HoVsJSfn1SqJwnAfGDma+j2ugARdQkiEvM3j9xwysz1pLUWNwhAczRCmtP3Lc8DfYqKIe/GtWi+Yl8V7eY/9pIydhFm9YrOLn6tVR2KsVi8pWI2l/lKEau9aWAPewTEhjL3KLfXjHlF+UW9PZRfHyQqDtFkxTAH2wW6bWJ0MAUAAAAASUVORK5CYII=\"/></td><td style=\"padding:1px;\"><img width=\"28\" height=\"28\" style=\"image-rendering:auto; object-fit:cover;\" src=\"data:image/png;base64,iVBORw0KGgoAAAANSUhEUgAAABwAAAAcCAIAAAD9b0jDAAAAwElEQVR4nO2VUQ6EIAxEkewV20MOh3QTGxpWFKayf7vzhXXyqHXElP76tjbeKod87XVVLaW0zhePa0GrArBXARARq9g2Vo/th0o03MDAEoVrJACVSgTA2NpiHrhtoapUF1Mo6gQfEG/FPPhg7rn3OesU6UtdenJaE5VQCebZcjoZFCJhdvOkg71qpc2cFnTXYD5dk8G0YyWwP4Zj9VOKz/JHANo30ILCxJ7b4+6Owblw6BluG9/2v4h9jsyHm35ebxXmGCT+pSF9AAAAAElFTkSuQmCC\"/></td><td style=\"padding:1px;\"><img width=\"28\" height=\"28\" style=\"image-rendering:auto; object-fit:cover;\" src=\"data:image/png;base64,iVBORw0KGgoAAAANSUhEUgAAABwAAAAcCAIAAAD9b0jDAAAAp0lEQVR4nO2USw7DIAxEDcoVx4e0D0mkolrkY2hNGnWRt8giSkaPkTHRw50AKA0iMpsoIm2i5cbTsXU8Te/8nr1QVWXm9IaZVTUi+Lk+AJoEQFvxMDH1s+qzTaklMHPQrvj0ZXN44KZqLS8vq6Itl/50Bo653hXINMHF16H8ztQj0/eY4DXHl+0+9D5bjq/qMFYLc7E5DepgtEyHk586re32yM794VZW9pkHSBACDREAAAAASUVORK5CYII=\"/></td><td style=\"padding:1px;\"><img width=\"28\" height=\"28\" style=\"image-rendering:auto; object-fit:cover;\" src=\"data:image/png;base64,iVBORw0KGgoAAAANSUhEUgAAABwAAAAcCAIAAAD9b0jDAAAAt0lEQVR4nO2VQQ6FIAxES+84HLIcsj/RQPgIpSBL38poGQemVqIPNyKiqgDoFAA0c15RZ6K88YIQwqSAHNTWporkcSoi5TrG6DHBnqKimFLqPmr6gW0hXDhj9LrTjC290LzIbWQvuL8Ir025qu0F3Ro2qm+DnsSbAJleUGI8KSpVC5/JHTnGpzSPRO2jBFC0Rl/EZCw1XmqPy7NVcrvUh1DfpD10wNvhj//xvLPlLmXLJ/9OH7TCDzdK21QOQlFHAAAAAElFTkSuQmCC\"/></td><td style=\"padding:1px;\"><img width=\"28\" height=\"28\" style=\"image-rendering:auto; object-fit:cover;\" src=\"data:image/png;base64,iVBORw0KGgoAAAANSUhEUgAAABwAAAAcCAIAAAD9b0jDAAAAe0lEQVR4nO2UQQrAMAgEVfpFP6mPtJBDySndBUMumfMyrKCKXI7g7hFRg4hok9aEu6/zBkp72i2ayh/GNs3MHimLISGkHS39yIG0j59dUidXyqg0aDdKCnqNlR7bU0VC82mqakNT57+JnZFuoSbAt//8JlS1qsCrv8gmXlmwUO+LkHOoAAAAAElFTkSuQmCC\"/></td><td style=\"padding:1px;\"><img width=\"28\" height=\"28\" style=\"image-rendering:auto; object-fit:cover;\" src=\"data:image/png;base64,iVBORw0KGgoAAAANSUhEUgAAABwAAAAcCAIAAAD9b0jDAAAAtklEQVR4nO1UWw6EIAxE7lgOORyym0ho0JU+lA+T3fky0k6HcWxKP43NWUc7UkqllDWTAXAHgAWMRMRHLNMIQNjXMPJOJKTN3Ke3RvdxNOEONbrMU/M4LMzL804iaiNjScDRTaXm8ihfvhV1ZtQDYtmRc+UqWZFZa/WqMEkFOqniTFba9MTIqTdYbHkqaQ18KEyS7y8w9khbJd/JD/9RGMI/w53FCpVXZ9xMankmotoR1vjHG/EByNE2+iyROOkAAAAASUVORK5CYII=\"/></td></tr></table>"
            ],
            "text/plain": [
              "<IPython.core.display.HTML object>"
            ]
          },
          "metadata": {},
          "output_type": "display_data"
        },
        {
          "name": "stdout",
          "output_type": "stream",
          "text": [
            "Generated sample images (min/max): 0/3\n"
          ]
        },
        {
          "name": "stderr",
          "output_type": "stream",
          "text": [
            "Epoch 5/5:   2%|▏         | 35/1875 [00:06<05:21,  5.72 batches/s, loss=0.228]"
          ]
        },
        {
          "name": "stdout",
          "output_type": "stream",
          "text": [
            "mean train: {'loss': 0.18548725951801648}\n"
          ]
        },
        {
          "name": "stderr",
          "output_type": "stream",
          "text": [
            "Epoch 5/5:   4%|▍         | 80/1875 [00:16<06:53,  4.34 batches/s, loss=0.134]"
          ]
        },
        {
          "name": "stdout",
          "output_type": "stream",
          "text": [
            "mean train: {'loss': 0.18802152185336404}\n"
          ]
        },
        {
          "name": "stderr",
          "output_type": "stream",
          "text": [
            "Epoch 5/5:   6%|▋         | 119/1875 [00:27<08:52,  3.30 batches/s, loss=0.188]"
          ]
        },
        {
          "name": "stdout",
          "output_type": "stream",
          "text": [
            "mean train: {'loss': 0.18543875609573565}\n"
          ]
        },
        {
          "name": "stderr",
          "output_type": "stream",
          "text": [
            "Epoch 5/5:   8%|▊         | 159/1875 [00:36<11:01,  2.59 batches/s, loss=0.19] "
          ]
        },
        {
          "name": "stdout",
          "output_type": "stream",
          "text": [
            "mean train: {'loss': 0.18459085611308493}\n"
          ]
        },
        {
          "name": "stderr",
          "output_type": "stream",
          "text": [
            "Epoch 5/5:  11%|█         | 204/1875 [00:47<06:51,  4.06 batches/s, loss=0.166]"
          ]
        },
        {
          "name": "stdout",
          "output_type": "stream",
          "text": [
            "mean train: {'loss': 0.1885627739959293}\n"
          ]
        },
        {
          "name": "stderr",
          "output_type": "stream",
          "text": [
            "Epoch 5/5:  13%|█▎        | 248/1875 [00:57<05:10,  5.24 batches/s, loss=0.167]"
          ]
        },
        {
          "name": "stdout",
          "output_type": "stream",
          "text": [
            "mean train: {'loss': 0.18458490281604056}\n"
          ]
        },
        {
          "name": "stderr",
          "output_type": "stream",
          "text": [
            "Epoch 5/5:  16%|█▌        | 294/1875 [01:07<04:58,  5.29 batches/s, loss=0.216]"
          ]
        },
        {
          "name": "stdout",
          "output_type": "stream",
          "text": [
            "mean train: {'loss': 0.1890171468257904}\n"
          ]
        },
        {
          "name": "stderr",
          "output_type": "stream",
          "text": [
            "Epoch 5/5:  18%|█▊        | 345/1875 [01:17<04:31,  5.63 batches/s, loss=0.209]"
          ]
        },
        {
          "name": "stdout",
          "output_type": "stream",
          "text": [
            "mean train: {'loss': 0.18760363519191742}\n"
          ]
        },
        {
          "name": "stderr",
          "output_type": "stream",
          "text": [
            "Epoch 5/5:  21%|██        | 391/1875 [01:27<05:10,  4.77 batches/s, loss=0.179]"
          ]
        },
        {
          "name": "stdout",
          "output_type": "stream",
          "text": [
            "mean train: {'loss': 0.18843918925394182}\n"
          ]
        },
        {
          "name": "stderr",
          "output_type": "stream",
          "text": [
            "Epoch 5/5:  24%|██▎       | 443/1875 [01:37<04:40,  5.11 batches/s, loss=0.226]"
          ]
        },
        {
          "name": "stdout",
          "output_type": "stream",
          "text": [
            "mean train: {'loss': 0.18374059750483587}\n"
          ]
        },
        {
          "name": "stderr",
          "output_type": "stream",
          "text": [
            "Epoch 5/5:  27%|██▋       | 498/1875 [01:48<04:38,  4.94 batches/s, loss=0.173]"
          ]
        },
        {
          "name": "stdout",
          "output_type": "stream",
          "text": [
            "mean train: {'loss': 0.18708002377640118}\n"
          ]
        },
        {
          "name": "stderr",
          "output_type": "stream",
          "text": [
            "Epoch 5/5:  29%|██▉       | 552/1875 [01:58<04:13,  5.21 batches/s, loss=0.134]"
          ]
        },
        {
          "name": "stdout",
          "output_type": "stream",
          "text": [
            "mean train: {'loss': 0.19140922940439647}\n"
          ]
        },
        {
          "name": "stderr",
          "output_type": "stream",
          "text": [
            "Epoch 5/5:  32%|███▏      | 609/1875 [02:08<03:43,  5.66 batches/s, loss=0.146]"
          ]
        },
        {
          "name": "stdout",
          "output_type": "stream",
          "text": [
            "mean train: {'loss': 0.18344416006885725}\n"
          ]
        },
        {
          "name": "stderr",
          "output_type": "stream",
          "text": [
            "Epoch 5/5:  35%|███▌      | 659/1875 [02:18<03:31,  5.75 batches/s, loss=0.245]"
          ]
        },
        {
          "name": "stdout",
          "output_type": "stream",
          "text": [
            "mean train: {'loss': 0.18511675313419226}\n"
          ]
        },
        {
          "name": "stderr",
          "output_type": "stream",
          "text": [
            "Epoch 5/5:  38%|███▊      | 708/1875 [02:28<05:04,  3.83 batches/s, loss=0.22] "
          ]
        },
        {
          "name": "stdout",
          "output_type": "stream",
          "text": [
            "mean train: {'loss': 0.19073649267761075}\n"
          ]
        },
        {
          "name": "stderr",
          "output_type": "stream",
          "text": [
            "Epoch 5/5:  41%|████      | 761/1875 [02:38<03:04,  6.02 batches/s, loss=0.165]"
          ]
        },
        {
          "name": "stdout",
          "output_type": "stream",
          "text": [
            "mean train: {'loss': 0.18290815460232068}\n"
          ]
        },
        {
          "name": "stderr",
          "output_type": "stream",
          "text": [
            "Epoch 5/5:  44%|████▎     | 817/1875 [02:48<03:23,  5.20 batches/s, loss=0.183]"
          ]
        },
        {
          "name": "stdout",
          "output_type": "stream",
          "text": [
            "mean train: {'loss': 0.19366126214819296}\n"
          ]
        },
        {
          "name": "stderr",
          "output_type": "stream",
          "text": [
            "Epoch 5/5:  46%|████▋     | 870/1875 [02:58<03:09,  5.32 batches/s, loss=0.138]"
          ]
        },
        {
          "name": "stdout",
          "output_type": "stream",
          "text": [
            "mean train: {'loss': 0.18673693473046682}\n"
          ]
        },
        {
          "name": "stderr",
          "output_type": "stream",
          "text": [
            "Epoch 5/5:  49%|████▉     | 926/1875 [03:08<03:02,  5.21 batches/s, loss=0.175]"
          ]
        },
        {
          "name": "stdout",
          "output_type": "stream",
          "text": [
            "mean train: {'loss': 0.18800958565303258}\n"
          ]
        },
        {
          "name": "stderr",
          "output_type": "stream",
          "text": [
            "Epoch 5/5:  52%|█████▏    | 974/1875 [03:18<02:49,  5.32 batches/s, loss=0.167]"
          ]
        },
        {
          "name": "stdout",
          "output_type": "stream",
          "text": [
            "mean train: {'loss': 0.1913134315982461}\n"
          ]
        },
        {
          "name": "stderr",
          "output_type": "stream",
          "text": [
            "Epoch 5/5:  54%|█████▍    | 1014/1875 [03:29<03:43,  3.86 batches/s, loss=0.219]"
          ]
        },
        {
          "name": "stdout",
          "output_type": "stream",
          "text": [
            "mean train: {'loss': 0.18750623539090155}\n"
          ]
        },
        {
          "name": "stderr",
          "output_type": "stream",
          "text": [
            "Epoch 5/5:  57%|█████▋    | 1066/1875 [03:39<02:16,  5.91 batches/s, loss=0.162]"
          ]
        },
        {
          "name": "stdout",
          "output_type": "stream",
          "text": [
            "mean train: {'loss': 0.1817250195890665}\n"
          ]
        },
        {
          "name": "stderr",
          "output_type": "stream",
          "text": [
            "Epoch 5/5:  59%|█████▉    | 1112/1875 [03:49<02:19,  5.48 batches/s, loss=0.216]"
          ]
        },
        {
          "name": "stdout",
          "output_type": "stream",
          "text": [
            "mean train: {'loss': 0.1901199341468189}\n"
          ]
        },
        {
          "name": "stderr",
          "output_type": "stream",
          "text": [
            "Epoch 5/5:  62%|██████▏   | 1159/1875 [03:59<02:54,  4.10 batches/s, loss=0.162]"
          ]
        },
        {
          "name": "stdout",
          "output_type": "stream",
          "text": [
            "mean train: {'loss': 0.18677490854516943}\n"
          ]
        },
        {
          "name": "stderr",
          "output_type": "stream",
          "text": [
            "Epoch 5/5:  64%|██████▍   | 1206/1875 [04:09<02:10,  5.13 batches/s, loss=0.186]"
          ]
        },
        {
          "name": "stdout",
          "output_type": "stream",
          "text": [
            "mean train: {'loss': 0.1866747702055789}\n"
          ]
        },
        {
          "name": "stderr",
          "output_type": "stream",
          "text": [
            "Epoch 5/5:  67%|██████▋   | 1258/1875 [04:19<01:45,  5.85 batches/s, loss=0.198] "
          ]
        },
        {
          "name": "stdout",
          "output_type": "stream",
          "text": [
            "mean train: {'loss': 0.18102299321729404}\n"
          ]
        },
        {
          "name": "stderr",
          "output_type": "stream",
          "text": [
            "Epoch 5/5:  70%|██████▉   | 1306/1875 [04:29<02:02,  4.64 batches/s, loss=0.177]"
          ]
        },
        {
          "name": "stdout",
          "output_type": "stream",
          "text": [
            "mean train: {'loss': 0.1913300339753429}\n"
          ]
        },
        {
          "name": "stderr",
          "output_type": "stream",
          "text": [
            "Epoch 5/5:  73%|███████▎  | 1362/1875 [04:39<01:29,  5.76 batches/s, loss=0.176]"
          ]
        },
        {
          "name": "stdout",
          "output_type": "stream",
          "text": [
            "mean train: {'loss': 0.18808284375284398}\n"
          ]
        },
        {
          "name": "stderr",
          "output_type": "stream",
          "text": [
            "Epoch 5/5:  76%|███████▌  | 1419/1875 [04:49<01:22,  5.56 batches/s, loss=0.177]"
          ]
        },
        {
          "name": "stdout",
          "output_type": "stream",
          "text": [
            "mean train: {'loss': 0.19054610020758814}\n"
          ]
        },
        {
          "name": "stderr",
          "output_type": "stream",
          "text": [
            "Epoch 5/5:  78%|███████▊  | 1470/1875 [04:59<01:14,  5.41 batches/s, loss=0.155]"
          ]
        },
        {
          "name": "stdout",
          "output_type": "stream",
          "text": [
            "mean train: {'loss': 0.1850823163986206}\n"
          ]
        },
        {
          "name": "stderr",
          "output_type": "stream",
          "text": [
            "Epoch 5/5:  81%|████████  | 1522/1875 [05:09<01:01,  5.79 batches/s, loss=0.179]"
          ]
        },
        {
          "name": "stdout",
          "output_type": "stream",
          "text": [
            "mean train: {'loss': 0.17921686315765747}\n"
          ]
        },
        {
          "name": "stderr",
          "output_type": "stream",
          "text": [
            "Epoch 5/5:  84%|████████▍ | 1579/1875 [05:20<00:52,  5.67 batches/s, loss=0.185]"
          ]
        },
        {
          "name": "stdout",
          "output_type": "stream",
          "text": [
            "mean train: {'loss': 0.18564044383534214}\n"
          ]
        },
        {
          "name": "stderr",
          "output_type": "stream",
          "text": [
            "Epoch 5/5:  87%|████████▋ | 1631/1875 [05:30<00:44,  5.47 batches/s, loss=0.186]"
          ]
        },
        {
          "name": "stdout",
          "output_type": "stream",
          "text": [
            "mean train: {'loss': 0.18592736612145716}\n"
          ]
        },
        {
          "name": "stderr",
          "output_type": "stream",
          "text": [
            "Epoch 5/5:  90%|████████▉ | 1684/1875 [05:40<00:45,  4.19 batches/s, loss=0.169]"
          ]
        },
        {
          "name": "stdout",
          "output_type": "stream",
          "text": [
            "mean train: {'loss': 0.1903509939054273}\n"
          ]
        },
        {
          "name": "stderr",
          "output_type": "stream",
          "text": [
            "Epoch 5/5:  93%|█████████▎| 1741/1875 [05:50<00:23,  5.68 batches/s, loss=0.213]"
          ]
        },
        {
          "name": "stdout",
          "output_type": "stream",
          "text": [
            "mean train: {'loss': 0.18459238843959674}\n"
          ]
        },
        {
          "name": "stderr",
          "output_type": "stream",
          "text": [
            "Epoch 5/5:  96%|█████████▌| 1795/1875 [06:00<00:14,  5.59 batches/s, loss=0.181]"
          ]
        },
        {
          "name": "stdout",
          "output_type": "stream",
          "text": [
            "mean train: {'loss': 0.1878645963690899}\n"
          ]
        },
        {
          "name": "stderr",
          "output_type": "stream",
          "text": [
            "Epoch 5/5:  99%|█████████▉| 1854/1875 [06:10<00:03,  5.84 batches/s, loss=0.231]"
          ]
        },
        {
          "name": "stdout",
          "output_type": "stream",
          "text": [
            "mean train: {'loss': 0.18967059886051438}\n"
          ]
        },
        {
          "name": "stderr",
          "output_type": "stream",
          "text": [
            "Epoch 5/5: 100%|██████████| 1875/1875 [06:14<00:00,  5.00 batches/s, loss=0.217]\n"
          ]
        },
        {
          "name": "stdout",
          "output_type": "stream",
          "text": [
            "epoch=4 test {'loss': 0.1893084291368723}\n"
          ]
        },
        {
          "data": {
            "text/html": [
              "<table class=\"show_images\" style=\"border-spacing:0px;\"><tr><td style=\"padding:1px;\"><img width=\"28\" height=\"28\" style=\"image-rendering:auto; object-fit:cover;\" src=\"data:image/png;base64,iVBORw0KGgoAAAANSUhEUgAAABwAAAAcCAIAAAD9b0jDAAAAYElEQVR4nO2UQQrAQAgD1T/mk/rI9FJ6NsVuYdk5x0FBNTtsBQCSmdkJR1Pa1AlSAKYQUvpIx6RVNS9VCfsAb+ZI3gXuG40fakHnZONtNxPSUlY1fpaWeFfC838W9rCUCygLHhZc4KPoAAAAAElFTkSuQmCC\"/></td><td style=\"padding:1px;\"><img width=\"28\" height=\"28\" style=\"image-rendering:auto; object-fit:cover;\" src=\"data:image/png;base64,iVBORw0KGgoAAAANSUhEUgAAABwAAAAcCAIAAAD9b0jDAAAApElEQVR4nO2USwqFMAxF2+IWk0XeLDKChXJF1H4yEN47A5Gqp4lJk9Kf3yUPvS0i7WoHq/sD8DMA6gZhxgqAGCMO6v1MpCBdS1ZEePH61fZs5JoEl0UoRw5zJtKGmTUvW8xMVdOc1N2vi3fGJ/yNmbrL+d8NGcvdA85OVXMeO9BdvPbmUochyigU5tIEYeKNGE+89Nv7W72EG1PPMa3DKWBEfZEdtxAVR+7czqoAAAAASUVORK5CYII=\"/></td><td style=\"padding:1px;\"><img width=\"28\" height=\"28\" style=\"image-rendering:auto; object-fit:cover;\" src=\"data:image/png;base64,iVBORw0KGgoAAAANSUhEUgAAABwAAAAcCAIAAAD9b0jDAAAAnUlEQVR4nO2T0QqAIAxFZ/SL+pF3H2mgJMPGShs+eR4i0k7XtRFtNosBkHOuVwmAYVcsdKK/XjyiqajvnupTdTcztxs74/kaOaUkjepnOoJR0GY0jhKCbhhG/kB1wzEntY8/jOyKZndIWuECrYk5b5yZ0SfdyJKvES4ZqbS6sxF3Kb8bg70sy/d9Ig9jTTaN2/Bk91LGGGs1fZr8PxcgA+9F9bxOYgAAAABJRU5ErkJggg==\"/></td><td style=\"padding:1px;\"><img width=\"28\" height=\"28\" style=\"image-rendering:auto; object-fit:cover;\" src=\"data:image/png;base64,iVBORw0KGgoAAAANSUhEUgAAABwAAAAcCAIAAAD9b0jDAAAAaklEQVR4nO2TQQrAMAgExT9uHrk+0kIKvTVtZAM5ZK7KsIlqdtgBAJlJUinNzqDBZ40APnvcSrTWlFL++EqXv704IqWa5KpNwom5dcwcHnvRCGHMXGTk/Hz8rfCkiwiZ9CY6ppJGSXewRVxTP2y0/mcCwwAAAABJRU5ErkJggg==\"/></td><td style=\"padding:1px;\"><img width=\"28\" height=\"28\" style=\"image-rendering:auto; object-fit:cover;\" src=\"data:image/png;base64,iVBORw0KGgoAAAANSUhEUgAAABwAAAAcCAIAAAD9b0jDAAAAaklEQVR4nO2TwQ3AIAwDE+/oDEmGpFIfvB0VREV7b+tiCJj9HAXJ1tpkab8Rw5g8XJeStAoopXdKX7AoapcLUZeZ+mzsbLpQKuJibqze3Q96/BBz49TKrvCs0yQpVzRN4WtB10VEtYF9kgv3uB0Uxm+GdgAAAABJRU5ErkJggg==\"/></td><td style=\"padding:1px;\"><img width=\"28\" height=\"28\" style=\"image-rendering:auto; object-fit:cover;\" src=\"data:image/png;base64,iVBORw0KGgoAAAANSUhEUgAAABwAAAAcCAIAAAD9b0jDAAAAcklEQVR4nO2TQQoAIQwDQ/+YT9ZHZkHvSwpdCrJz8iBDayLwM0tmSmqWapOZ79fCN5I8h7UWeneXsX5gFnkPio8mjWpKnaSdEoaDkp0SqpOatQ98QNwlZbGkUZKa9sAIJE9JJXV+1tx/1Gy+C8lmI27mAQeeStSW/s8lAAAAAElFTkSuQmCC\"/></td><td style=\"padding:1px;\"><img width=\"28\" height=\"28\" style=\"image-rendering:auto; object-fit:cover;\" src=\"data:image/png;base64,iVBORw0KGgoAAAANSUhEUgAAABwAAAAcCAIAAAD9b0jDAAAAnklEQVR4nO2UUQrEIAxEY+44HjIe0oKyxW67ZlJk+9P3IQphHBMTkZeXP4BGPWFm+6bvAbCKlcbMFit2HEX7vI7nUkfHQynlHFEaOed9ncc7b7/M11eMkADoxXVT9Kv0SYKM7lJKfk5dRvuThKpEoCoTgi+RhkQXW8a9nzRnVHSHiAoBO4p40Hph3mZh7Dhl1tiscY/KX8B/o1hHPckG9z1L+RMRxwsAAAAASUVORK5CYII=\"/></td><td style=\"padding:1px;\"><img width=\"28\" height=\"28\" style=\"image-rendering:auto; object-fit:cover;\" src=\"data:image/png;base64,iVBORw0KGgoAAAANSUhEUgAAABwAAAAcCAIAAAD9b0jDAAAAf0lEQVR4nO2TQQ7AIAgEkT/iI+GRNLGHNmklQE1tE+e8rpONAiwmQo2Rddpw5tFZKiKlFBiIuh29pqoqIhABQ+mRpfIb0yjoCUXfPE7blC6m9gdDSFFrTcxyoKq3h5m5J4tgYrjsQ98G0C49n++NkIGZ4QWIyL4Jc6UPlBbfYQM4WDf+ZkYLNwAAAABJRU5ErkJggg==\"/></td><td style=\"padding:1px;\"><img width=\"28\" height=\"28\" style=\"image-rendering:auto; object-fit:cover;\" src=\"data:image/png;base64,iVBORw0KGgoAAAANSUhEUgAAABwAAAAcCAIAAAD9b0jDAAAAh0lEQVR4nO2S7QqAIAxFNXrF60PePeSCpBCrVWYk1fklYxz35dzPd/FHkgDEB8k0HkIQkWV+v2skOUsjUZQFT6AJmYUjJVIAS93835a0t6Ui4v3K3Mt7N1gdyCVIGr2XT1lVXUV0xC6zO2W8ZT+8aZpsej94auPvO3VMxmplYjLWPHitbmyRASpTkIpE2zlJAAAAAElFTkSuQmCC\"/></td><td style=\"padding:1px;\"><img width=\"28\" height=\"28\" style=\"image-rendering:auto; object-fit:cover;\" src=\"data:image/png;base64,iVBORw0KGgoAAAANSUhEUgAAABwAAAAcCAIAAAD9b0jDAAAAhElEQVR4nO2UQQrAMAgEjX9cH2kfaSG0kINN0XhoIXNMUFZXJdpU03JhZnbFNycDrygSEfedV2SWAcBuynpqQy63oRQtX1VfG0ppo44OlWA3AIot0qEJH5ZpVUOKfxSuqlGZPP9Gp0KbZ07IH578jRpD+9MWb0d+9+X5diR918LZ3FCWE+q0e7H1nSzVAAAAAElFTkSuQmCC\"/></td><td style=\"padding:1px;\"><img width=\"28\" height=\"28\" style=\"image-rendering:auto; object-fit:cover;\" src=\"data:image/png;base64,iVBORw0KGgoAAAANSUhEUgAAABwAAAAcCAIAAAD9b0jDAAAAWklEQVR4nO2SQQoAMQgDg3/MJ80jXegLItjDSucsU9MIPFZBsqrM4eiq56UmgQ6SJqX0grc3NdfEpT/dd1K8UZTsltBtf/hOM9N/PvzReans7DClPPwk/mMjH8TYHhjk42jHAAAAAElFTkSuQmCC\"/></td><td style=\"padding:1px;\"><img width=\"28\" height=\"28\" style=\"image-rendering:auto; object-fit:cover;\" src=\"data:image/png;base64,iVBORw0KGgoAAAANSUhEUgAAABwAAAAcCAIAAAD9b0jDAAAAhklEQVR4nO2UQQ7AIAgEkT+uj4RH0sTGxpNCi+nFuUImG9ZIdPgdETEzAJlS60y8HDKKiGeNQ1JVpU0HvUlL+lBrpe8AGGM6j7tgNC6fFFMcbeRLKQWLXJM9xvGCaTGlt5RTOrWYztL3xuT5GI1oDvav+itivzFNilfNlPn4+eJKWWwe9nIBnfF7uG/niZ4AAAAASUVORK5CYII=\"/></td><td style=\"padding:1px;\"><img width=\"28\" height=\"28\" style=\"image-rendering:auto; object-fit:cover;\" src=\"data:image/png;base64,iVBORw0KGgoAAAANSUhEUgAAABwAAAAcCAIAAAD9b0jDAAAAiUlEQVR4nO2TQQ7AIAgEF/6oj8RH0tSmHu1iMOnBuYoTFhQ4/AF3N7NJgS4YAbTW0qSlFKZMQ9J56oEsZL+vieR0Wt7s84FikzSAd5ixKmkcLqZNyV1RoNMxzVorsjCzZ6BkvaRnBxN/IbvyUh79NC5I2RXxWwL/+ENfU8m60AvV+XHr8LoDNnEB3kpI/E909OgAAAAASUVORK5CYII=\"/></td><td style=\"padding:1px;\"><img width=\"28\" height=\"28\" style=\"image-rendering:auto; object-fit:cover;\" src=\"data:image/png;base64,iVBORw0KGgoAAAANSUhEUgAAABwAAAAcCAIAAAD9b0jDAAAAnElEQVR4nO2UUQ6EIBBDB+IVe8lyyNkElOiurN0F4w/vTzPUjq2aTZ4CGXdXhqOuSzKl1GHsCEnPADCBoAzVrUMIY9bH5m7Y7sjhuDtJ/VS8FL3LJo75ACjR/WR/5fRkfVLB+t8mt25VTksWv4h+3hF7ulxOlIhIioom9nTvUanBooi2LsUPrJnyG/+UqZW1/k9pUks+wOBkYh28AGsZtXMXwytIAAAAAElFTkSuQmCC\"/></td><td style=\"padding:1px;\"><img width=\"28\" height=\"28\" style=\"image-rendering:auto; object-fit:cover;\" src=\"data:image/png;base64,iVBORw0KGgoAAAANSUhEUgAAABwAAAAcCAIAAAD9b0jDAAAAhUlEQVR4nO2USwqAMAxER+84PWR6yBFaUlxYkZhFBd8q/U3zI8DPTyrbk0skhzFsAKWUWmvkW5JyrEHSzPoyomjtsaSzg2M/Ikr3cXY0E93xgnhCcUUPH7lokpY43c1ZEBFuqhdH3rBfcBPpikysj9JTqXRF85mysCK9gdKKQ5/EmeVejgPbU55uQ9YcWgAAAABJRU5ErkJggg==\"/></td><td style=\"padding:1px;\"><img width=\"28\" height=\"28\" style=\"image-rendering:auto; object-fit:cover;\" src=\"data:image/png;base64,iVBORw0KGgoAAAANSUhEUgAAABwAAAAcCAIAAAD9b0jDAAAAm0lEQVR4nO2UUQoDMQhE3d5xckhzSAuRpqWw5GUR9mfft4zjJGr2cCOS3J1UHlBOkpm11qwEd4+BFRIDODgNMSJy9gIkFXs0HGX2pqPEYFkNy742yeAzpbVu8P7wezi2eebgdVbaeyeK2bsPFjaFPyYKKnbSpEEFFs13R9GLLdKGItmleRD21lcfs5lDMjtdPwj60f2j8r483MwbVuXzHO0EsGEAAAAASUVORK5CYII=\"/></td><td style=\"padding:1px;\"><img width=\"28\" height=\"28\" style=\"image-rendering:auto; object-fit:cover;\" src=\"data:image/png;base64,iVBORw0KGgoAAAANSUhEUgAAABwAAAAcCAIAAAD9b0jDAAAAcklEQVR4nO2UQQ7AIAgEV/64PhIfSRMPPaoYbDk4V82EBRS45IGkmcUbSUZKVXVQpmx7a61I3U0AX3dzE+vEGznLLuvG4D66ynTPR1Xx13xk0QigtYa8wdlfpHcxZSo9Etz8a1QGZ2/qUkbXEnxxF2zxAP4qY7KHv0nwAAAAAElFTkSuQmCC\"/></td><td style=\"padding:1px;\"><img width=\"28\" height=\"28\" style=\"image-rendering:auto; object-fit:cover;\" src=\"data:image/png;base64,iVBORw0KGgoAAAANSUhEUgAAABwAAAAcCAIAAAD9b0jDAAAAmElEQVR4nO2TQQ6AIAwE0fjF7SOXR9YEEmLEtKD1pHPgBMPSlpR+ZgCgqvFGkpFSLQAIM5IMjsliDK6mvvRwDBtXdwcKj4N1M/RKf2gap+9Tr+OX5V5dr4i4eyak6k1l62HOeVRqA6BW82RMhtQeo2asnLybk8czikifdHMVJOuxuh7/Qi7cCaVXkDTqs0w9tuUambOfb7IDoiKRpnlIVUAAAAAASUVORK5CYII=\"/></td><td style=\"padding:1px;\"><img width=\"28\" height=\"28\" style=\"image-rendering:auto; object-fit:cover;\" src=\"data:image/png;base64,iVBORw0KGgoAAAANSUhEUgAAABwAAAAcCAIAAAD9b0jDAAAAdElEQVR4nO2UUQrAMAhDNXfMJfWQHQw2+tUqswy2vu8Qgk0jsnkLM2snZlbjSLJ1kBzrETStSTdIKjOQTeruNaZZEBFF0j2qFAOPhhUJ8DlTZvqvQd3deVX9203ZHbSsp0yuFFLqyi/bLoKzj1TAVcuykRkHd9lL5OMO2sYAAAAASUVORK5CYII=\"/></td><td style=\"padding:1px;\"><img width=\"28\" height=\"28\" style=\"image-rendering:auto; object-fit:cover;\" src=\"data:image/png;base64,iVBORw0KGgoAAAANSUhEUgAAABwAAAAcCAIAAAD9b0jDAAAAaUlEQVR4nO2UQQoAMQgDg3/MJ/WRLux5YaNYCqVzLtNYQ4HLXki6++8xa3i7kb4gmS8YTxoRk1LKgxv2JtWlBcQt1chM8VlNNCqdb87umtrm78ex0tBKaiXpcKUWJhWxUsbhHxorjBfIPCc5LwDUa5lNAAAAAElFTkSuQmCC\"/></td></tr></table>"
            ],
            "text/plain": [
              "<IPython.core.display.HTML object>"
            ]
          },
          "metadata": {},
          "output_type": "display_data"
        },
        {
          "name": "stdout",
          "output_type": "stream",
          "text": [
            "Generated sample images (min/max): 0/3\n"
          ]
        }
      ],
      "source": [
        "fm_model = UNetFlowMatcherMNIST(num_pixel_classes=N_GRAYSCALES, base_channels=32)\n",
        "fm_model.to(device)\n",
        "\n",
        "def sample_and_viz(model_to_eval):\n",
        "  torch.manual_seed(1)\n",
        "  initial_noise = torch.randint(0, N_GRAYSCALES, (20, 28, 28),\n",
        "                                dtype=torch.long, device=device)\n",
        "  imgs = sample_batch(model_to_eval, initial_noise, num_steps=20, K=N_GRAYSCALES)\n",
        "  show_images(imgs.cpu().to(torch.uint8))\n",
        "  print(f\"Generated sample images (min/max): {imgs.min()}/{imgs.max()}\")\n",
        "  torch.random.seed()\n",
        "\n",
        "trainer_fm = Trainer(model=fm_model,\n",
        "                  train_loader=train_loader,\n",
        "                  test_loader=test_loader,\n",
        "                  loss_fn=flow_matching_loss,\n",
        "                  extra_eval_fn=sample_and_viz,\n",
        "                  num_epochs=5)\n",
        "trainer_fm.train()\n"
      ]
    },
    {
      "cell_type": "markdown",
      "metadata": {
        "id": "YupNGtOw7j9h"
      },
      "source": [
        "## Simple Guidance (just brightness)"
      ]
    },
    {
      "cell_type": "code",
      "execution_count": 84,
      "metadata": {
        "colab": {
          "base_uri": "https://localhost:8080/",
          "height": 213,
          "referenced_widgets": [
            "5213f3f256494124a13e80e24817c7f3",
            "5394e63c1204475383b6ad7a265d2072",
            "e0d1fa184e194b359c83fc22864699cd",
            "154fe1e2f29743b4b560f2b38d3b205a",
            "e965b52660e846bd8fba0e7c759b2f1d",
            "d1e0b665e5bb4882ad0c062a5452ce6d",
            "f7b91ab79cc344d69d3651ee035648c9",
            "680af2c3635f43459b4304e623a0d7ba",
            "a50b5741bcde46b6830cc4609983f643",
            "610b5088516940bf8421e8eb04dea88e",
            "8b1e1ebae90d4d69b9db45d01270c48c"
          ]
        },
        "id": "ROr_U0gs7mFt",
        "outputId": "415217a5-1115-4d02-d461-4a6e1aef0616"
      },
      "outputs": [
        {
          "name": "stderr",
          "output_type": "stream",
          "text": [
            "Intensity Guidance: 100%|██████████| 30/30 [00:08<00:00,  3.67guidance_steps/s]\n"
          ]
        },
        {
          "data": {
            "text/html": [
              "<table class=\"show_images\" style=\"border-spacing:0px;\"><tr><td style=\"padding:1px;\"><img width=\"840\" height=\"280\" style=\"image-rendering:auto; object-fit:cover;\" src=\"data:image/png;base64,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\"/></td></tr></table>"
            ],
            "text/plain": [
              "<IPython.core.display.HTML object>"
            ]
          },
          "metadata": {},
          "output_type": "display_data"
        }
      ],
      "source": [
        "@torch.no_grad()\n",
        "def sample_with_guidance(model, initial_noise_discrete, guidance_fn, guidance_scale,\n",
        "                         num_steps=10, K=N_GRAYSCALES):\n",
        "    model.eval()\n",
        "    device = next(model.parameters()).device\n",
        "    x_est_x0_discrete = initial_noise_discrete.clone().to(device)\n",
        "    fixed_x1_sample_discrete = torch.randint(0, K, size=initial_noise_discrete.shape, device=device, dtype=torch.long)\n",
        "\n",
        "    for i in range(num_steps):\n",
        "        t_model_scalar = (num_steps - i) / num_steps\n",
        "        t_for_model_nn = torch.full((x_est_x0_discrete.shape[0],), t_model_scalar, device=device, dtype=torch.float)\n",
        "        mask_prob = t_model_scalar\n",
        "        mask = torch.rand_like(x_est_x0_discrete, dtype=torch.float) < mask_prob\n",
        "        x_t_formed_discrete = torch.where(mask, fixed_x1_sample_discrete, x_est_x0_discrete)\n",
        "\n",
        "        logits_pred_x0 = model(x_t_formed_discrete, t_for_model_nn)\n",
        "\n",
        "        with torch.enable_grad():\n",
        "            logits_for_guidance = logits_pred_x0.clone().requires_grad_(True)\n",
        "            probs_for_guidance = F.softmax(logits_for_guidance, dim=1)\n",
        "            scores = guidance_fn(probs_for_guidance)\n",
        "            grad_wrt_logits = torch.autograd.grad(scores, logits_for_guidance)[0]\n",
        "\n",
        "        logits_guided = logits_pred_x0 + guidance_scale * grad_wrt_logits\n",
        "        x_est_x0_discrete = torch.argmax(logits_guided, dim=1)\n",
        "\n",
        "    return x_est_x0_discrete.squeeze(1)\n",
        "\n",
        "\n",
        "def intensity_guidance_viz(model_to_guide, steps=30, num_examples=10, K_val=N_GRAYSCALES):\n",
        "  device = next(model_to_guide.parameters()).device\n",
        "  def intensity_objective(x):\n",
        "    pixel_values_tensor = torch.arange(K_val, device=device, dtype=torch.float32).view(1, K_val, 1, 1)\n",
        "    expected_img_values = torch.sum(x * pixel_values_tensor, dim=1)\n",
        "    return expected_img_values.mean()\n",
        "  torch.manual_seed(1)\n",
        "  device_viz = next(model_to_guide.parameters()).device\n",
        "  initial_noise = torch.randint(0, K_val, (num_examples, 28, 28), dtype=torch.long, device=device_viz)\n",
        "\n",
        "  images = []\n",
        "  for s in tqdm(range(steps), total=steps, unit=\"guidance_steps\", desc=\"Intensity Guidance\"):\n",
        "    scale = torch.tensor(s / (steps - 1)) * 2 - 1\n",
        "    scale *= 1e4\n",
        "\n",
        "    sampled_imgs = sample_with_guidance(\n",
        "        model_to_guide, initial_noise_discrete=initial_noise, guidance_fn=intensity_objective,\n",
        "        guidance_scale=scale, num_steps=20, K=K_val)\n",
        "    images.append(sampled_imgs.cpu())\n",
        "\n",
        "  torch.random.seed()\n",
        "\n",
        "  i = torch.stack(images, axis=0).to(torch.uint8)\n",
        "  i = einops.rearrange(i, \"r c w h -> (c w) (r h)\")\n",
        "  show_image(i)\n",
        "\n",
        "intensity_guidance_viz(fm_model)"
      ]
    },
    {
      "cell_type": "markdown",
      "metadata": {},
      "source": [
        "## Classifier Model"
      ]
    },
    {
      "cell_type": "code",
      "execution_count": 75,
      "metadata": {},
      "outputs": [],
      "source": [
        "class MNISTClassifier(nn.Module):\n",
        "    def __init__(self,\n",
        "                 num_classes=10, base_channels=32,\n",
        "                 num_groups_norm=8, use_attention_bottleneck=True,\n",
        "                 K_pixel_input=N_GRAYSCALES):\n",
        "        super().__init__()\n",
        "        if base_channels <= 0:\n",
        "            raise ValueError(\"base_channels must be positive.\")\n",
        "        self.embedding = nn.Conv2d(K_pixel_input, base_channels, kernel_size=1, padding=0)\n",
        "        self.conv_in = ConvBlock(base_channels, base_channels, time_emb_dim=None, num_groups=num_groups_norm)\n",
        "        self.down1 = DownBlock(base_channels, base_channels * 2, time_emb_dim=None, num_groups_norm=num_groups_norm)\n",
        "        self.down2 = DownBlock(base_channels * 2, base_channels * 4, time_emb_dim=None, num_groups_norm=num_groups_norm)\n",
        "        self.bottleneck_conv1 = ConvBlock(base_channels * 4, base_channels * 8, time_emb_dim=None, num_groups=num_groups_norm)\n",
        "        if use_attention_bottleneck:\n",
        "            self.attention = SelfAttentionBlock(base_channels * 8, num_heads=4)\n",
        "        else:\n",
        "            self.attention = nn.Identity()\n",
        "        bottleneck_out_channels = base_channels * 8\n",
        "        self.global_avg_pool = nn.AdaptiveAvgPool2d((1, 1))\n",
        "        self.classifier_head = nn.Linear(bottleneck_out_channels, num_classes)\n",
        "        self.num_pixel_classes = K_pixel_input\n",
        "\n",
        "    def forward(self, x):\n",
        "        x = x.to(torch.long)\n",
        "        x = F.one_hot(x, num_classes=self.num_pixel_classes).to(torch.float32)\n",
        "        x = einops.rearrange(x, \"b h w d -> b d h w\")\n",
        "        return self.forward_onehot(x)\n",
        "\n",
        "    def forward_onehot(self, x):\n",
        "        h = self.embedding(x)\n",
        "        h = self.conv_in(h, t_emb=None)\n",
        "        h = self.down1(h, t_emb=None)\n",
        "        h = self.down2(h, t_emb=None)\n",
        "        h = self.bottleneck_conv1(h, t_emb=None)\n",
        "        h = self.attention(h)\n",
        "        h = self.global_avg_pool(h)\n",
        "        h = torch.flatten(h, 1)\n",
        "        out_logits = self.classifier_head(h)\n",
        "        return out_logits\n"
      ]
    },
    {
      "cell_type": "markdown",
      "metadata": {},
      "source": [
        "## CE Loss"
      ]
    },
    {
      "cell_type": "code",
      "execution_count": 55,
      "metadata": {},
      "outputs": [],
      "source": [
        "def ce_loss_classifier(model, batch, K_pixel_val=N_GRAYSCALES):\n",
        "    x = batch[0].to(next(model.parameters()).device)\n",
        "    y_digit_labels = batch[1].to(next(model.parameters()).device)\n",
        "    y_logits_pred = model(x)\n",
        "    loss = nn.CrossEntropyLoss()(y_logits_pred, y_digit_labels)\n",
        "    predicted_classes = torch.argmax(y_logits_pred, dim=1)\n",
        "    accuracy = (predicted_classes == y_digit_labels).float().mean()\n",
        "    return dict(loss=loss, accuracy=accuracy)\n"
      ]
    },
    {
      "cell_type": "markdown",
      "metadata": {},
      "source": [
        "## Train the classifier"
      ]
    },
    {
      "cell_type": "code",
      "execution_count": 76,
      "metadata": {},
      "outputs": [
        {
          "name": "stderr",
          "output_type": "stream",
          "text": [
            "/Users/henning/dev/flow_matching/.venv/lib/python3.11/site-packages/torch/utils/data/dataloader.py:683: UserWarning: 'pin_memory' argument is set as true but not supported on MPS now, then device pinned memory won't be used.\n",
            "  warnings.warn(warn_msg)\n"
          ]
        },
        {
          "name": "stdout",
          "output_type": "stream",
          "text": [
            "epoch=0 test {'loss': 2.35019189119339, 'accuracy': 0.09785156254656613}\n"
          ]
        },
        {
          "name": "stderr",
          "output_type": "stream",
          "text": [
            "Epoch 1/1:  11%|█         | 199/1875 [00:09<01:18, 21.44 batches/s, loss=0.579, accuracy=0.781]"
          ]
        },
        {
          "name": "stdout",
          "output_type": "stream",
          "text": [
            "mean train: {'loss': 1.6542066698752078, 'accuracy': 0.3934010152284264}\n"
          ]
        },
        {
          "name": "stderr",
          "output_type": "stream",
          "text": [
            "Epoch 1/1:  22%|██▏       | 412/1875 [00:19<01:08, 21.49 batches/s, loss=0.118, accuracy=0.969] "
          ]
        },
        {
          "name": "stdout",
          "output_type": "stream",
          "text": [
            "mean train: {'loss': 0.3901084248728595, 'accuracy': 0.8770539906103286}\n"
          ]
        },
        {
          "name": "stderr",
          "output_type": "stream",
          "text": [
            "Epoch 1/1:  33%|███▎      | 622/1875 [00:29<00:59, 21.14 batches/s, loss=0.0427, accuracy=1]    "
          ]
        },
        {
          "name": "stdout",
          "output_type": "stream",
          "text": [
            "mean train: {'loss': 0.21647653753677623, 'accuracy': 0.9382476076555024}\n"
          ]
        },
        {
          "name": "stderr",
          "output_type": "stream",
          "text": [
            "Epoch 1/1:  45%|████▍     | 835/1875 [00:39<00:48, 21.26 batches/s, loss=0.12, accuracy=0.969]  "
          ]
        },
        {
          "name": "stdout",
          "output_type": "stream",
          "text": [
            "mean train: {'loss': 0.1678204565383319, 'accuracy': 0.9526115023474179}\n"
          ]
        },
        {
          "name": "stderr",
          "output_type": "stream",
          "text": [
            "Epoch 1/1:  56%|█████▌    | 1048/1875 [00:49<00:38, 21.44 batches/s, loss=0.188, accuracy=0.938] "
          ]
        },
        {
          "name": "stdout",
          "output_type": "stream",
          "text": [
            "mean train: {'loss': 0.15001875221152122, 'accuracy': 0.9534917840375586}\n"
          ]
        },
        {
          "name": "stderr",
          "output_type": "stream",
          "text": [
            "Epoch 1/1:  66%|██████▌   | 1240/1875 [00:59<00:29, 21.22 batches/s, loss=0.0123, accuracy=1]    "
          ]
        },
        {
          "name": "stdout",
          "output_type": "stream",
          "text": [
            "mean train: {'loss': 0.12167227092437953, 'accuracy': 0.963023560209424}\n"
          ]
        },
        {
          "name": "stderr",
          "output_type": "stream",
          "text": [
            "Epoch 1/1:  77%|███████▋  | 1446/1875 [01:10<00:20, 20.58 batches/s, loss=0.0301, accuracy=1]    "
          ]
        },
        {
          "name": "stdout",
          "output_type": "stream",
          "text": [
            "mean train: {'loss': 0.11223514819770906, 'accuracy': 0.9690533980582524}\n"
          ]
        },
        {
          "name": "stderr",
          "output_type": "stream",
          "text": [
            "Epoch 1/1:  88%|████████▊ | 1656/1875 [01:20<00:10, 21.37 batches/s, loss=0.0746, accuracy=0.969]"
          ]
        },
        {
          "name": "stdout",
          "output_type": "stream",
          "text": [
            "mean train: {'loss': 0.11598409482810114, 'accuracy': 0.9668154761904761}\n"
          ]
        },
        {
          "name": "stderr",
          "output_type": "stream",
          "text": [
            "Epoch 1/1: 100%|█████████▉| 1866/1875 [01:30<00:00, 20.94 batches/s, loss=0.0192, accuracy=1]    "
          ]
        },
        {
          "name": "stdout",
          "output_type": "stream",
          "text": [
            "mean train: {'loss': 0.10878661370611019, 'accuracy': 0.9674295774647887}\n"
          ]
        },
        {
          "name": "stderr",
          "output_type": "stream",
          "text": [
            "Epoch 1/1: 100%|██████████| 1875/1875 [01:30<00:00, 20.75 batches/s, loss=0.0621, accuracy=0.969]\n"
          ]
        },
        {
          "name": "stdout",
          "output_type": "stream",
          "text": [
            "epoch=0 test {'loss': 0.12684620963409543, 'accuracy': 0.9558593742549419}\n"
          ]
        }
      ],
      "source": [
        "classifier_model = MNISTClassifier(K_pixel_input=N_GRAYSCALES)\n",
        "classifier_model.to(device)\n",
        "trainer_classifier = Trainer(\n",
        "    model=classifier_model, train_loader=train_loader, test_loader=test_loader,\n",
        "    loss_fn=ce_loss_classifier, extra_eval_fn=None, num_epochs=1 )\n",
        "trainer_classifier.train()"
      ]
    },
    {
      "cell_type": "markdown",
      "metadata": {},
      "source": [
        "## Classifier Guidance"
      ]
    },
    {
      "cell_type": "code",
      "execution_count": 97,
      "metadata": {},
      "outputs": [
        {
          "name": "stderr",
          "output_type": "stream",
          "text": [
            "100%|██████████| 10/10 [00:10<00:00,  1.06s/it]\n"
          ]
        },
        {
          "data": {
            "text/html": [
              "<table class=\"show_images\" style=\"border-spacing:0px;\"><tr><td style=\"padding:1px;\"><img width=\"280\" height=\"280\" style=\"image-rendering:auto; object-fit:cover;\" src=\"data:image/png;base64,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\"/></td></tr></table>"
            ],
            "text/plain": [
              "<IPython.core.display.HTML object>"
            ]
          },
          "metadata": {},
          "output_type": "display_data"
        }
      ],
      "source": [
        "def class_scorer(classifier_nn, x, class_weights):\n",
        "    digit_logits = classifier_nn.forward_onehot(x)\n",
        "    log_probs_digits = F.log_softmax(digit_logits, dim=-1)\n",
        "    score = (log_probs_digits * class_weights[None, :]).sum(dim=-1).mean()\n",
        "    return score\n",
        "\n",
        "\n",
        "def number_guidance(model_to_guide, classifier_model, num_examples=10, K_val=N_GRAYSCALES):\n",
        "  torch.manual_seed(1)\n",
        "  device_viz = next(model_to_guide.parameters()).device\n",
        "  initial_noise = torch.randint(0, K_val, (num_examples, 28, 28), dtype=torch.long, device=device_viz)\n",
        "\n",
        "\n",
        "  images = []\n",
        "  for n in tqdm(range(10)):\n",
        "    one_hot = F.one_hot(torch.tensor(n), 10).to(device)\n",
        "    def scorer(x):\n",
        "      return class_scorer(classifier_model, x, one_hot)\n",
        "    sampled_imgs = sample_with_guidance(\n",
        "      fm_model, initial_noise_discrete=initial_noise, guidance_fn=scorer,\n",
        "      guidance_scale=1e4, num_steps=30, K=N_GRAYSCALES)\n",
        "    images.append(sampled_imgs.cpu())\n",
        "  i = torch.stack(images, axis=0).to(torch.uint8)\n",
        "  i = einops.rearrange(i, \"r c w h -> (c w) (r h)\")\n",
        "  show_image(i)\n",
        "\n",
        "\n",
        "number_guidance(fm_model, classifier_model)"
      ]
    }
  ],
  "metadata": {
    "accelerator": "GPU",
    "colab": {
      "collapsed_sections": [
        "dtKnMN895gBQ",
        "VVWAyVgg5pU9",
        "-eeE0Bq353C0",
        "zJzok4756FQ3",
        "45klsck961RS"
      ],
      "gpuType": "T4",
      "provenance": []
    },
    "kernelspec": {
      "display_name": ".venv",
      "language": "python",
      "name": "python3"
    },
    "language_info": {
      "codemirror_mode": {
        "name": "ipython",
        "version": 3
      },
      "file_extension": ".py",
      "mimetype": "text/x-python",
      "name": "python",
      "nbconvert_exporter": "python",
      "pygments_lexer": "ipython3",
      "version": "3.11.10"
    }
  },
  "nbformat": 4,
  "nbformat_minor": 0
}
