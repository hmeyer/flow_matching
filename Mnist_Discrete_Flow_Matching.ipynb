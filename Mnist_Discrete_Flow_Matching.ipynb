{
  "cells": [
    {
      "cell_type": "markdown",
      "metadata": {
        "id": "dtKnMN895gBQ"
      },
      "source": [
        "## Setup"
      ]
    },
    {
      "cell_type": "code",
      "execution_count": 1,
      "metadata": {
        "colab": {
          "base_uri": "https://localhost:8080/"
        },
        "id": "xCoLJzFZ5j12",
        "outputId": "a88b3b0c-c382-4cee-a02f-587540f57828"
      },
      "outputs": [
        {
          "output_type": "stream",
          "name": "stdout",
          "text": [
            "\u001b[?25l   \u001b[90m━━━━━━━━━━━━━━━━━━━━━━━━━━━━━━━━━━━━━━━━\u001b[0m \u001b[32m0.0/1.6 MB\u001b[0m \u001b[31m?\u001b[0m eta \u001b[36m-:--:--\u001b[0m\r\u001b[2K   \u001b[91m━━━━━━━━━━━━━━━━━━━━━━━━━━━━━━━━\u001b[0m\u001b[90m╺\u001b[0m\u001b[90m━━━━━━━\u001b[0m \u001b[32m1.3/1.6 MB\u001b[0m \u001b[31m38.8 MB/s\u001b[0m eta \u001b[36m0:00:01\u001b[0m\r\u001b[2K   \u001b[91m━━━━━━━━━━━━━━━━━━━━━━━━━━━━━━━━━━━━━━━\u001b[0m\u001b[91m╸\u001b[0m \u001b[32m1.6/1.6 MB\u001b[0m \u001b[31m23.3 MB/s\u001b[0m eta \u001b[36m0:00:01\u001b[0m\r\u001b[2K   \u001b[90m━━━━━━━━━━━━━━━━━━━━━━━━━━━━━━━━━━━━━━━━\u001b[0m \u001b[32m1.6/1.6 MB\u001b[0m \u001b[31m14.4 MB/s\u001b[0m eta \u001b[36m0:00:00\u001b[0m\n",
            "\u001b[?25h"
          ]
        }
      ],
      "source": [
        "!pip install -q mediapy"
      ]
    },
    {
      "cell_type": "markdown",
      "metadata": {
        "id": "VVWAyVgg5pU9"
      },
      "source": [
        "## Imports"
      ]
    },
    {
      "cell_type": "code",
      "execution_count": 2,
      "metadata": {
        "id": "dEVypRK85q0z"
      },
      "outputs": [],
      "source": [
        "import torch\n",
        "from torch import nn\n",
        "from torch.nn import functional as F\n",
        "import torchvision\n",
        "import torchvision.transforms as T\n",
        "from torch.utils.data import DataLoader, Subset\n",
        "import numpy as np\n",
        "from tqdm.auto import tqdm\n",
        "import math\n",
        "from mediapy import show_image, show_images, show_video\n",
        "import time\n",
        "from collections import defaultdict\n",
        "import einops"
      ]
    },
    {
      "cell_type": "markdown",
      "metadata": {
        "id": "-eeE0Bq353C0"
      },
      "source": [
        "## Setup Accelerator"
      ]
    },
    {
      "cell_type": "code",
      "execution_count": 3,
      "metadata": {
        "colab": {
          "base_uri": "https://localhost:8080/"
        },
        "id": "-WSzEefJ54S7",
        "outputId": "f0481a05-951f-4525-89c2-49d4fa1bb9fb"
      },
      "outputs": [
        {
          "output_type": "stream",
          "name": "stdout",
          "text": [
            "using device: cuda\n"
          ]
        }
      ],
      "source": [
        "if torch.cuda.is_available():\n",
        "    device = torch.device(\"cuda\")\n",
        "elif torch.backends.mps.is_available():\n",
        "    device = torch.device(\"mps\")\n",
        "else:\n",
        "    device = torch.device(\"cpu\")\n",
        "print(f\"using device: {device}\")"
      ]
    },
    {
      "cell_type": "markdown",
      "metadata": {
        "id": "zJzok4756FQ3"
      },
      "source": [
        "## Num Classes"
      ]
    },
    {
      "cell_type": "code",
      "execution_count": 4,
      "metadata": {
        "id": "U6uJRBTa6KrX"
      },
      "outputs": [],
      "source": [
        "N_GRAYSCALES = 4"
      ]
    },
    {
      "cell_type": "markdown",
      "metadata": {
        "id": "WuAvTZhk6QPv"
      },
      "source": [
        "## Prepare dataset"
      ]
    },
    {
      "cell_type": "code",
      "execution_count": 5,
      "metadata": {
        "colab": {
          "base_uri": "https://localhost:8080/",
          "height": 248
        },
        "id": "L8AoMiMC6SeL",
        "outputId": "f5810aff-95cd-476d-de4d-28123f40ec2a"
      },
      "outputs": [
        {
          "output_type": "stream",
          "name": "stderr",
          "text": [
            "100%|██████████| 9.91M/9.91M [00:00<00:00, 15.9MB/s]\n",
            "100%|██████████| 28.9k/28.9k [00:00<00:00, 488kB/s]\n",
            "100%|██████████| 1.65M/1.65M [00:00<00:00, 4.43MB/s]\n",
            "100%|██████████| 4.54k/4.54k [00:00<00:00, 10.1MB/s]\n"
          ]
        },
        {
          "output_type": "stream",
          "name": "stdout",
          "text": [
            "\n",
            "train - showing original continuous images\n"
          ]
        },
        {
          "output_type": "display_data",
          "data": {
            "text/plain": [
              "<IPython.core.display.HTML object>"
            ],
            "text/html": [
              "<table class=\"show_images\" style=\"border-spacing:0px;\"><tr><td style=\"padding:1px;\"><img width=\"28\" height=\"28\" style=\"image-rendering:auto; object-fit:cover;\" src=\"data:image/png;base64,iVBORw0KGgoAAAANSUhEUgAAABwAAAAcCAIAAAD9b0jDAAAAl0lEQVR4nO2UQQ7DIAwEoX/cT64f6RwsWRZqYye4VQ+ZAwqIjFbGMMbDwy8BQFJVVZUkgAZpNNrYY3SRTSthX+kOEYkfuxWwaHEFQDHsR94qSO5W1k9pWTz3ztRrnSQiXlwzzpn/e0bsVmfLuNjN2HMLnMoVyPs0Ugx4TWr4if29NOUr0stUOvRO0oZXdcH6v1k6Wh6qGxytwYaeFMrWewAAAABJRU5ErkJggg==\"/></td><td style=\"padding:1px;\"><img width=\"28\" height=\"28\" style=\"image-rendering:auto; object-fit:cover;\" src=\"data:image/png;base64,iVBORw0KGgoAAAANSUhEUgAAABwAAAAcCAIAAAD9b0jDAAAAlElEQVR4nO1UQQ6AMAhbjF/sJ9kj8UAk6KZO1oMHe1pCVkppKOXHjwEAEBFVFREOo9FF8BlVFUCeEcBJHcGEVpq3SfL64HHYKWe7iqK/GaX+3xpEc/MBaDdO2H43SSODrze1Wmt8mwNtKY9o6FTsI7rZusIyyEhTZ3gc/HW/yMi5eH5AaYzlmFOap3zGsisl7/1b2AAZKC3wa4GbVgAAAABJRU5ErkJggg==\"/></td><td style=\"padding:1px;\"><img width=\"28\" height=\"28\" style=\"image-rendering:auto; object-fit:cover;\" src=\"data:image/png;base64,iVBORw0KGgoAAAANSUhEUgAAABwAAAAcCAIAAAD9b0jDAAAApklEQVR4nO2USwqAMAxEq3jF9JCZQ8ZFYSh+0qS6Et9CBPUxHdOW8k1UVVWHr60po4g8iHRCRMzMzN70qmrcGFq+iKQCRqVxY4iJNjdfRxEAAEHpYPkAmjduLH7SlChBmyQzS321+I97HYOn+r2W3uEMg9cpqbW2mybidTLvZShO7oyR0vNx90jKv9+HHSYNdVq67c9tNj8ADHUgcv57sIF3dD9fZweg3LiCZdKx+gAAAABJRU5ErkJggg==\"/></td><td style=\"padding:1px;\"><img width=\"28\" height=\"28\" style=\"image-rendering:auto; object-fit:cover;\" src=\"data:image/png;base64,iVBORw0KGgoAAAANSUhEUgAAABwAAAAcCAIAAAD9b0jDAAAAY0lEQVR4nO2UwQnAMAzEQnf0kvaQ10feBR11MYRqAKHYJmv9HEhmSmqWSiLSixsj4kXPM/2lHFtaVZ1SPtPpUs70ScF7Wrx0Z5KBGlKLT6SUyf9pg55vbYlKXQwpL6X0b+lcbkUzM/awrK7kAAAAAElFTkSuQmCC\"/></td><td style=\"padding:1px;\"><img width=\"28\" height=\"28\" style=\"image-rendering:auto; object-fit:cover;\" src=\"data:image/png;base64,iVBORw0KGgoAAAANSUhEUgAAABwAAAAcCAIAAAD9b0jDAAAAjElEQVR4nO2USw7AIAhEsekV8ZB4SLsgIQZo/ZQlb2udDjMqQJL8g4gQMUAIEYmoD8jSvSvEjqyvWuuJr274O7WVO9diODsRiulE9TDlWvmotQYAASOPSEsxg1vdcwm3X65rxayTqRxvtZ+TXaG8ORUh0eLflOJvmWMvT0BR6qXYrch/UFR8YwhJ8s0Dgc6pf5dPP90AAAAASUVORK5CYII=\"/></td><td style=\"padding:1px;\"><img width=\"28\" height=\"28\" style=\"image-rendering:auto; object-fit:cover;\" src=\"data:image/png;base64,iVBORw0KGgoAAAANSUhEUgAAABwAAAAcCAIAAAD9b0jDAAAAkElEQVR4nO2VXQrAIAyDdXeMh2wPmT2MjeLARSyMwfIm1M/0Ry3l17syM5JpOAAHkaSZjYOrCO0M1jrauClEAOLZqgDwpnziY02l9Du5+yr0QERQWom7OoyDvzNSktN7vqtOHwdoWtd9Jxl7tQSNA68/KFKj3L21FpdLTsvZet3mBDdWNpmYYzN2P/Mj+TWrHSfkt3OvDDlrAAAAAElFTkSuQmCC\"/></td><td style=\"padding:1px;\"><img width=\"28\" height=\"28\" style=\"image-rendering:auto; object-fit:cover;\" src=\"data:image/png;base64,iVBORw0KGgoAAAANSUhEUgAAABwAAAAcCAIAAAD9b0jDAAAAtElEQVR4nO2UwQ7DIAxDYdovmo90PjI7RLIQ2tYwctrmQw+UPFzitLW/vkfu7u4ki4mVXACBa62RFBcAyVdn3DNoM9MzjtErkmOMz51qRYvuDmCPGFqKRTy636AIemRwMRu+5l4VQItT1fbv8ZbZZGaRp6R6cp9S1ft1ScppECPkc2aPpAzF5Rb0apmoSNX7kovPD4PzdGc6lu3+ckwBVCIJYCteTzTHXkN1RJQ7cQv+Iz+gB7or0V/sv3r6AAAAAElFTkSuQmCC\"/></td><td style=\"padding:1px;\"><img width=\"28\" height=\"28\" style=\"image-rendering:auto; object-fit:cover;\" src=\"data:image/png;base64,iVBORw0KGgoAAAANSUhEUgAAABwAAAAcCAIAAAD9b0jDAAAAwElEQVR4nO1USw4DIQgdm16Rd0g4ZLsgIQYUBrtq07dixvg+ilzXH1+BsVtgZi1ExGr9BHAixcyvPWaNuyAiR6Eas1Kb10iJKNGLqzXpbo/xnphNjNg59EhLyZz0mW+OfkXEFQ3kXXUS/w5jcpmPUgAAgDEGgJPI0WkZYml27dQcuT2RYtmtdXxHYbw2VhqvYA6oiKn1Z4PUsSzPcTcltvFFJN61DtOyB7IXpac2T2tH91GHJdAO643BO2i/11/HG03mThFjd3WoAAAAAElFTkSuQmCC\"/></td><td style=\"padding:1px;\"><img width=\"28\" height=\"28\" style=\"image-rendering:auto; object-fit:cover;\" src=\"data:image/png;base64,iVBORw0KGgoAAAANSUhEUgAAABwAAAAcCAIAAAD9b0jDAAAAfUlEQVR4nO2UwQnAMAwDTXdUhlSGTB+CvGVQHg29AQ5h2a76+TwASK61klIZBUkAGS+AnVfE1GKrk9KqMqVP1zvnTEo1TUfaID9QtZSsHkArpjVTBRxjJKXCr8iSSpdfexVFMuw9cqPaAWer2mca/lJ17qE4NKTKGH4oN/IC4ldutCOia0oAAAAASUVORK5CYII=\"/></td><td style=\"padding:1px;\"><img width=\"28\" height=\"28\" style=\"image-rendering:auto; object-fit:cover;\" src=\"data:image/png;base64,iVBORw0KGgoAAAANSUhEUgAAABwAAAAcCAIAAAD9b0jDAAAAuElEQVR4nO1UQRKEMAgTZ79IHwmP7B46drDStNS9rGMOjqMSAwndthd/AQLvcs71XlXr1T6JQUQyhIj0avfw3w4wMzPHSGe665GGy5jZTsatQkb1YLmIHIZPiK6ZY0ppQVPLaBsH7gcETuZpFtfMLvpeNbpbgKvG4XdF4fYHkQKi3DAVDJTWvVJVIrIZuuVVk0074lt2NRiSrp9SACfSEiDQVPkgQG93xqVeWYFrjRxwT/5fuvQsfAGseP81TJ6jOQAAAABJRU5ErkJggg==\"/></td><td style=\"padding:1px;\"><img width=\"28\" height=\"28\" style=\"image-rendering:auto; object-fit:cover;\" src=\"data:image/png;base64,iVBORw0KGgoAAAANSUhEUgAAABwAAAAcCAIAAAD9b0jDAAAAg0lEQVR4nO2UQQ7AIAgETf+4n4RHtgcjIRYJKu3JudpMt3SxlMOfENGtICIAyVIhI3ADgLwm2SujcB67pqTMzMx7wSwkrPPT5pIGOdJFnBrY0trz0ZFvtNEN73oTLL+N3vTqBSDGxTXVa/5m967S6Ra/ekRaxg6ZxlfezCFob6b0EOEB5IbIUg2+f64AAAAASUVORK5CYII=\"/></td><td style=\"padding:1px;\"><img width=\"28\" height=\"28\" style=\"image-rendering:auto; object-fit:cover;\" src=\"data:image/png;base64,iVBORw0KGgoAAAANSUhEUgAAABwAAAAcCAIAAAD9b0jDAAAAlklEQVR4nO2TQQ7AIAgEtX/ER8Ij6cHYoFEBQ9KLc6vBqbiY0uUSSpYfAEBEw8p+/1DfSaFBRLIOEVVpKWUuZeb95g0552HlOXbpqG0OxdyI+T0AVB0irmJ0ty9F0+jd0joh3nMoRhbE2GU+Yef9jOqoWO9Uilb5uKXB+aT+Ni3PxD2nau8nUgv/SS0tn0i9XivxD9/FCyc6cc0AbdsrAAAAAElFTkSuQmCC\"/></td><td style=\"padding:1px;\"><img width=\"28\" height=\"28\" style=\"image-rendering:auto; object-fit:cover;\" src=\"data:image/png;base64,iVBORw0KGgoAAAANSUhEUgAAABwAAAAcCAIAAAD9b0jDAAAAi0lEQVR4nO2TMQ7AIAwDo/7RnzSPTIeIqBJSS8BDB26C5bAJmB0OEwAg6e7uDkCv25UC8E66dqWhI5miSL3lDWluM7hAGmH9wboxSB3JWJPclY4HvHe/qlLBCx2NM91rSSNma20912jUzP2J7Ncnk7dZo1R8alD6+Vh/8EqjmVVv87t+6MTd9UP/ETdQN6VsO7vucQAAAABJRU5ErkJggg==\"/></td><td style=\"padding:1px;\"><img width=\"28\" height=\"28\" style=\"image-rendering:auto; object-fit:cover;\" src=\"data:image/png;base64,iVBORw0KGgoAAAANSUhEUgAAABwAAAAcCAIAAAD9b0jDAAAAiElEQVR4nO2TQQrAIAwEtX9cHxkfaQ+BUCiNiV1KD85VHVY3lrL5CQBEZIzBlKqRKQWgRhGhSafGI2sEMN2zLu29Z88+GiOvmUvKj2lj9GnpRvT6zHSK9RP8QqGk1k9rbT3aFesnMvYhshcPYUZ+zGz1XlHL6aqzZu9Yq7ftjpdUPzhtjDZvOAFW5HumUhZPsQAAAABJRU5ErkJggg==\"/></td><td style=\"padding:1px;\"><img width=\"28\" height=\"28\" style=\"image-rendering:auto; object-fit:cover;\" src=\"data:image/png;base64,iVBORw0KGgoAAAANSUhEUgAAABwAAAAcCAIAAAD9b0jDAAAAsUlEQVR4nO2UQRIDIQgEMX+cT8IjyYEqi1LEoHtKMsdlbQYEif76BgFgZlVVVWYG8ABRI12hu0ez6dOccz3UU664vvwh1L2Hem3RItJamz/aHZadWvmrkxYNQxunIiIiqxAR1TrbG5r8w8y1DvhJSqBh1n35BSOfQJOGnkAvd3zj9HloLgAAwsQZNG+CRWvV5POUL9tSdmw225fiZPG9HZN/W/POjM/P7Gu4kOPh/R29AUsb12dgwOaPAAAAAElFTkSuQmCC\"/></td><td style=\"padding:1px;\"><img width=\"28\" height=\"28\" style=\"image-rendering:auto; object-fit:cover;\" src=\"data:image/png;base64,iVBORw0KGgoAAAANSUhEUgAAABwAAAAcCAIAAAD9b0jDAAAAuUlEQVR4nO2VQQ7DMAgETZUvwiPhkfSA5FIgSnF8adW9xZhhg4kzxl9fKUTcT1TV+1zwD8xsRABARE8XERFZqcDMqmpoTZolV6AZ5Gu0uQEa8mf0kvM4CxCRb6IvwMwNp6XHsr+NPpQJJbFxdIgY9mWb9u62c3EkMtRHJ7cHHe7Qs6NZcvPHXc7Z6Ujd0R7oyrUQLpe5eNZuGFey5GAnUuCNc7T8lutE9DnkJWbOF9i2STLK/l/Ob+kJxykuCKsD+rgAAAAASUVORK5CYII=\"/></td><td style=\"padding:1px;\"><img width=\"28\" height=\"28\" style=\"image-rendering:auto; object-fit:cover;\" src=\"data:image/png;base64,iVBORw0KGgoAAAANSUhEUgAAABwAAAAcCAIAAAD9b0jDAAAAuUlEQVR4nO2VwRLDIAhEY6e/uHzk+pHtwanDiFJgcsyeTIwPskByXY/uVnP2SAIY6977WIhIMRTJz1kzUkIAHGKE+9pC9WX/yXkml6Y+rLdIJqDazSWdJV4Rmgr5R04iQQfe9lZrXvNGtKn+SQAqHXrSdhbqOACn6aoT/bmqQH3i5Fqjj4XSHSMiy5jqwNHq2eHRzlqXo9zT+47zlhuCbos+PbE1DEFtsstczm7TP4hEviRz37pHt+sLPD3BcMogDVYAAAAASUVORK5CYII=\"/></td><td style=\"padding:1px;\"><img width=\"28\" height=\"28\" style=\"image-rendering:auto; object-fit:cover;\" src=\"data:image/png;base64,iVBORw0KGgoAAAANSUhEUgAAABwAAAAcCAIAAAD9b0jDAAAAsUlEQVR4nO2VwQ7DMAhDybRfhI/EH8kO1qJq6grJuGyaD1VUtS+GOInIt2gUv3N3EQEAoGdmd48IPlW1B9rJolSVtdd1q0B3/bxXf+2Erv6SlL/ncQ3q7quLdg5l+RxQn7aYgZ8Dxmujy+dQ7qhp+dpsntMXVfZ+At07PqpOAcyS05lKUFU9gtLVz8/TiABgZhzwpZlV3FxBj2Gq5PSeQscYM09FLV8n8uxp59Xy1w/pARsrirgtJD4RAAAAAElFTkSuQmCC\"/></td><td style=\"padding:1px;\"><img width=\"28\" height=\"28\" style=\"image-rendering:auto; object-fit:cover;\" src=\"data:image/png;base64,iVBORw0KGgoAAAANSUhEUgAAABwAAAAcCAIAAAD9b0jDAAAAo0lEQVR4nO2UQQ6FMAhErfGK00MOh9QFCWlsWkFx8fN9K1NxCiOwLB8/QfEEkdQHAKdXIlJrDV9Lcp/S37TNFQHoNyIiIn36/fk1APpc9HCU5h3yFVt/E+ReLNl6a46rT63YUlzxqyfIIJlTu9J6miaqhJz1YvnOTYh56pzI8I8KxV8AwMYpJm07aSQXHqd2Ian6aZPeadLRMn7a8K1u8vD8EwdEWOo6EDv8tgAAAABJRU5ErkJggg==\"/></td><td style=\"padding:1px;\"><img width=\"28\" height=\"28\" style=\"image-rendering:auto; object-fit:cover;\" src=\"data:image/png;base64,iVBORw0KGgoAAAANSUhEUgAAABwAAAAcCAIAAAD9b0jDAAAAmElEQVR4nO2UQQ6AMAgEMfGL+8ntI/HQSCqxpLZ40jl4MGWEFRX5mQIASQCZRlVVVZLRoXEjST1J6LTVVZZ0NUFnXGrTEjSiKEdwDeaHmGB0Uyf3uJrgW0YR6RlJTj7Pyqzmdkmfed3X0tO5Yy173LJcfwullHoFECxDJHVlrdHdHCKed3IxgjczYtxitU1qOVoIDwb/+RIHGspkzsDnl0QAAAAASUVORK5CYII=\"/></td><td style=\"padding:1px;\"><img width=\"28\" height=\"28\" style=\"image-rendering:auto; object-fit:cover;\" src=\"data:image/png;base64,iVBORw0KGgoAAAANSUhEUgAAABwAAAAcCAIAAAD9b0jDAAAAj0lEQVR4nO2TQQ7DIAwETdUvrh+5+8jmEMkilBQrIT0xp8gSw9oxZovF3yD5OQJgsvGuF0AtIgkgihelTbomPsnfx1/DC0op8S0pk6kvdXdJkmrjUyTbf+eNMdzhEMbS/b/XleRkT+lu675hF43Nts5Rfz+BqNcdxNNI3RHSs1DdVsxswho2Gd39vnOxOLABtL7jRQwLR7gAAAAASUVORK5CYII=\"/></td><td style=\"padding:1px;\"><img width=\"28\" height=\"28\" style=\"image-rendering:auto; object-fit:cover;\" src=\"data:image/png;base64,iVBORw0KGgoAAAANSUhEUgAAABwAAAAcCAIAAAD9b0jDAAAAnUlEQVR4nO2TUQ7CMAxDB+KKziHdQ5qPiFKNNSVl0xDifWWe5nnOuix/fhlJJHt3r8PnSQJYKR8lAiBJUiu6MpkUwFyogakPpZR9TAFsmq76TZvWeTfTiplt6tlOnkv3LZOU1Ip+OW/aI+foeLoe8a92ifO+vskHMws6vQWm6VU8GG//WNP3j+xk0riZsz+/Ja7ikKQ56ok4O8hXcwdBZKCYfwR8ywAAAABJRU5ErkJggg==\"/></td><td style=\"padding:1px;\"><img width=\"28\" height=\"28\" style=\"image-rendering:auto; object-fit:cover;\" src=\"data:image/png;base64,iVBORw0KGgoAAAANSUhEUgAAABwAAAAcCAIAAAD9b0jDAAAAkklEQVR4nO2TMQ7EMAgEfVG+iB+5PHJTILnxBRvCSVdkWmANZmnt5WVCRJYJAADMoY9f+bVmiKpq730OnY4iSf9JVfUTdgFAkqQzxJGTvhs8g4hYmzVyxnJwIzD+MFnZfsyVO20GGEtfHkWAesXRZpli2156gIQ315ayfwzZKHmmj8h5c6vTshNqv1i6iRYr/h0XbwB3sI8nTw4AAAAASUVORK5CYII=\"/></td><td style=\"padding:1px;\"><img width=\"28\" height=\"28\" style=\"image-rendering:auto; object-fit:cover;\" src=\"data:image/png;base64,iVBORw0KGgoAAAANSUhEUgAAABwAAAAcCAIAAAD9b0jDAAAArklEQVR4nO2U0Q6AIAhFs3+Ej4SPtAfKOcNrstra6j6WHAEvLMunldyvRNQLUNXIPSKS+xIRcKUvIgLEGg0gTvmWS6/MkqaqMvNcvr1fdXMmiEMNm+C//hC6Byc/fA1Ah5qGlpKBYeOZBqfgrOJi7NMIMec8PVSPEC3e5spUGz5OBIpAr2yTZrNYHugyvPewCqT1qes+Zk6HIvZsegqKsgd0d7azEepDt43NrzdqA54YU/GhqcQJAAAAAElFTkSuQmCC\"/></td><td style=\"padding:1px;\"><img width=\"28\" height=\"28\" style=\"image-rendering:auto; object-fit:cover;\" src=\"data:image/png;base64,iVBORw0KGgoAAAANSUhEUgAAABwAAAAcCAIAAAD9b0jDAAAAq0lEQVR4nO2USw7EIAxDO72jOaQ5ZLvITBS1fBzU1aheQWSeDInYtld/KADHTwAeJkYt0nu4dS5JPxzXtvXKCs7ixMgkzRbXCaLfzouRkkjaJJK8P58E7c1NrxsSNNVTTzAyNV9t6p+YPaZCdP/lTnvcZGe459+b1VprCnrxP5D0nqCdVJE3p5QysSqNApAbksHfE1n6IH9PHoLUHyRyB2gl3WdMt4U4Ya9MJ4/BfKolZc+PAAAAAElFTkSuQmCC\"/></td><td style=\"padding:1px;\"><img width=\"28\" height=\"28\" style=\"image-rendering:auto; object-fit:cover;\" src=\"data:image/png;base64,iVBORw0KGgoAAAANSUhEUgAAABwAAAAcCAIAAAD9b0jDAAAAg0lEQVR4nO3USwqAMAwE0ME7JodMDhkXosQqfuKACp1lF49pWgL0fC1mFhFmlg+HJ6KIiMj2vI5m0d0JqMwBoKrlZitxGuU0zd0JVNBFJHBZjAi+yKn5BxHALfHSP6VVyyL54mQxvwxHzAUL4vlDuTthZTQ1C8JJ01rHI1RVm+3b81pGeMKudRbAmKwAAAAASUVORK5CYII=\"/></td><td style=\"padding:1px;\"><img width=\"28\" height=\"28\" style=\"image-rendering:auto; object-fit:cover;\" src=\"data:image/png;base64,iVBORw0KGgoAAAANSUhEUgAAABwAAAAcCAIAAAD9b0jDAAAAoUlEQVR4nO2VQQrEMAhFpcwVv4fUQzoLqUikmaS4KGXeKhX86jehRC8EgJmJCIA2URExM9dtVjSznk598M42+xWJ6PGKAJ617s+NekMNVV1Nu3IzT+Cs9pIzczxrTRw/VusQ5QLMzMx+ruP/EI2E7CMzz33cFlVVD0ak3o3t7asqTvwzfJgxrN6p+9l+FPXeVO48s6HBBsUgWxF0/k7+vI4veac9B99QUBAAAAAASUVORK5CYII=\"/></td><td style=\"padding:1px;\"><img width=\"28\" height=\"28\" style=\"image-rendering:auto; object-fit:cover;\" src=\"data:image/png;base64,iVBORw0KGgoAAAANSUhEUgAAABwAAAAcCAIAAAD9b0jDAAAAkklEQVR4nO2UQQ6AIAwEi/GLyyPhkXogNmia0qLIhTkZsJOtVIgWCwMAjouUkvJmsOiKAsCtMphqZV2dDgCvuF11Met4q9m+jKirs+vSXVyNMRJRztkdpwMeAD3p5pWWh8+aMMYkV9KBMR/D8ArLJPkYGLPn11QwHjrTPn0OOGE23Ubv19Ta57Mu98s30l/vqjmcvA6rf3V9Y7QAAAAASUVORK5CYII=\"/></td><td style=\"padding:1px;\"><img width=\"28\" height=\"28\" style=\"image-rendering:auto; object-fit:cover;\" src=\"data:image/png;base64,iVBORw0KGgoAAAANSUhEUgAAABwAAAAcCAIAAAD9b0jDAAAAlElEQVR4nO2TwQ6AIAxDF+Mvlo8cHzkPi4vhwBg2nuwJgzRvLYj8+vW9VNVuASA7ulR1fuScb5uZL3rvIkLAHLieyG9NfQ1gPYFkfAcUyuBhN9AF7z5pay0Ah6L8kyMnTa/UUTVd+a1gCoBWV8h7S2cvOy6+/VqmQuw9ricz02qa+fgbpRcyZb6i6H39SE7qgEzMPV37m6mHu4ZGDwAAAABJRU5ErkJggg==\"/></td><td style=\"padding:1px;\"><img width=\"28\" height=\"28\" style=\"image-rendering:auto; object-fit:cover;\" src=\"data:image/png;base64,iVBORw0KGgoAAAANSUhEUgAAABwAAAAcCAIAAAD9b0jDAAAAl0lEQVR4nO2UUQrAMAhDZeyKXtIe0n1IRca6OnUwyvJXKI8Y0wL8WlZExMyIOLqwBaCI2FpLuOoiIiXe2wSnU+xyOnBBxWbNyEq088qxgKiBAgAzp6CykxMiBRWi9eiHDhclIcaWM9m+Zmr7lKqBdFO4GsVlJkEpuhIKpgz+p+WSs/mRX+oV6HT8zzidan90W2pf+QeuqANzO4SkGIrBWgAAAABJRU5ErkJggg==\"/></td><td style=\"padding:1px;\"><img width=\"28\" height=\"28\" style=\"image-rendering:auto; object-fit:cover;\" src=\"data:image/png;base64,iVBORw0KGgoAAAANSUhEUgAAABwAAAAcCAIAAAD9b0jDAAAAiklEQVR4nO2UOw7AMAhD096RHNIckg6WUFT1QylSO+RNGZBlwKS1yeQ/iIiIvJUAAMBOAMDKJSLH6tGUqqoqH0mD7qWgX7fpfdVAm0/drZGi5OAuGNca5N5p753SZVtyGFIzqxQl+SRcDzFplm0e6jJhGdE2XNFOuuAQfDlUj2cr9KF4kuqvYPIlG3+TiJBe4CG6AAAAAElFTkSuQmCC\"/></td><td style=\"padding:1px;\"><img width=\"28\" height=\"28\" style=\"image-rendering:auto; object-fit:cover;\" src=\"data:image/png;base64,iVBORw0KGgoAAAANSUhEUgAAABwAAAAcCAIAAAD9b0jDAAAAj0lEQVR4nO2UMQ7FMAhDrepf0RwSDkmHqFH/0hiJLFU9ZCJPxiEALxFJd+/nZmY/190zk+QWrl5/KEURAWCL2f5kSerJSu3jSkCUCi1xC1AAYqw1qKgyVHmrLU5rEqfqJ+ImqzRbT7i8aXytZ7/rTMcYmdn0uFwFUvsRMYlmplxZaOy9eTYQ8Z9pD/HTq3UC9klh1UValE0AAAAASUVORK5CYII=\"/></td></tr></table>"
            ]
          },
          "metadata": {}
        },
        {
          "output_type": "stream",
          "name": "stdout",
          "text": [
            "Example pixel values from train_loader (continuous): 0, 3\n",
            "test - showing original continuous images\n"
          ]
        },
        {
          "output_type": "display_data",
          "data": {
            "text/plain": [
              "<IPython.core.display.HTML object>"
            ],
            "text/html": [
              "<table class=\"show_images\" style=\"border-spacing:0px;\"><tr><td style=\"padding:1px;\"><img width=\"28\" height=\"28\" style=\"image-rendering:auto; object-fit:cover;\" src=\"data:image/png;base64,iVBORw0KGgoAAAANSUhEUgAAABwAAAAcCAIAAAD9b0jDAAAAl0lEQVR4nO2USw6AIAwFi3csh+w75HNBTIgiBayunBUSM/3QVOTnJ5R0vVJVVS1nAAACpCRPNx1vM2o70/pcfzalOefOD7cUr1aICEmS/ZDTYUiaWZhRvDS3BWNwgnIUHtxNM3O7uVK+dCd3mvhHf6WbxRiZZnmf61p4xFuFjxv9kVpooiN1V9+KtGZ84IekAFJqrPNP2QHRkHS8s665VwAAAABJRU5ErkJggg==\"/></td><td style=\"padding:1px;\"><img width=\"28\" height=\"28\" style=\"image-rendering:auto; object-fit:cover;\" src=\"data:image/png;base64,iVBORw0KGgoAAAANSUhEUgAAABwAAAAcCAIAAAD9b0jDAAAAr0lEQVR4nO2VwQ7EIAhEddNfHD6S+Uj2sAkxKLZrTXrpO9I4jAympbzkAACgqmZmZqoK4JaiawW2KaqqVxbNAnCtvlMo/icaDnunU6fHsEqy1tp3WjE4IRvIBsX1lHraPX1MMabR49veR5fxmX92dyQvKp6wnPjM6f7FvJN4OvuFfJzxM20BME+pvYqIlCtOA95gOHERIZk6JTk8NiySbG8zm1d7/vdfCRLblvflGb44wcOBIqMH8QAAAABJRU5ErkJggg==\"/></td><td style=\"padding:1px;\"><img width=\"28\" height=\"28\" style=\"image-rendering:auto; object-fit:cover;\" src=\"data:image/png;base64,iVBORw0KGgoAAAANSUhEUgAAABwAAAAcCAIAAAD9b0jDAAAAfElEQVR4nO2UMQrAMAwDRekX/UnnkerguakUHOiQm80hoRDg8AdIRsTk4HKNc90imUmy0xgRJDNzfmbXBzDGWIr0Qn93ACQVqVG/dle6b5EaRmX3YmX9Nml/d8i7F1JSN6Yhbaa66+rvpBv/OvGFqrjdAdyfFzV68ws9uDxUj0/cfHkW/wAAAABJRU5ErkJggg==\"/></td><td style=\"padding:1px;\"><img width=\"28\" height=\"28\" style=\"image-rendering:auto; object-fit:cover;\" src=\"data:image/png;base64,iVBORw0KGgoAAAANSUhEUgAAABwAAAAcCAIAAAD9b0jDAAAArElEQVR4nO2USw7DIAwFkypXNId8HNJdWKEV/oApUjeZFQowGOP4OB7+BQBmBrBTyjdENFz8mjFmA7ziabr5/iKDWmvqpA/sM5MHA3mcgLSRiDoFAElFOywdrDaaszmvp9P3SEuDYmpJ0FODOi2lDI+freIgCmHl+vGGrjA2SLviTby+J+2MXjZPTyoDeSh382lvt9G/k2alt27WtWDNhrLYnEx16ya/Gh/WeANahnOwmWR8qQAAAABJRU5ErkJggg==\"/></td><td style=\"padding:1px;\"><img width=\"28\" height=\"28\" style=\"image-rendering:auto; object-fit:cover;\" src=\"data:image/png;base64,iVBORw0KGgoAAAANSUhEUgAAABwAAAAcCAIAAAD9b0jDAAAAl0lEQVR4nO1UQQ6AIAwD4xf5ZHnkPCxZiGHVTU6GHmXtujooZeMPaK2JiHfksY4v/QBkRImd3nvSi4h4dkgyD4qEBiAsqhwyPm85AR/cWpKCvE1S4HLSNt2VSm4MEeWKOjWpOQkTwMiMJTiFBkdAuJWc3aypawD6vVbGjcFu2oI0DBYLqQk/fW9WLSy6cmrD+kDL8Pc3PFyZVqOGlTca0gAAAABJRU5ErkJggg==\"/></td><td style=\"padding:1px;\"><img width=\"28\" height=\"28\" style=\"image-rendering:auto; object-fit:cover;\" src=\"data:image/png;base64,iVBORw0KGgoAAAANSUhEUgAAABwAAAAcCAIAAAD9b0jDAAAAhElEQVR4nO2USQ6AMAwDXf6YPtJ9ZDgUuFGcqAgJ8DkdjbsBf94ZM3N3MxvMlCjU3beV5XTtEiIegq21wdgt0BjR94wnA6a6Zqy+CFWjd0fCdJomAJKipppQd0Tri90l6Pw7D6AXJynOX5uOP6Qk9EitdRq0m4Z2M/NMn4FKIZk4rs9mBesnT+iIrUQNAAAAAElFTkSuQmCC\"/></td><td style=\"padding:1px;\"><img width=\"28\" height=\"28\" style=\"image-rendering:auto; object-fit:cover;\" src=\"data:image/png;base64,iVBORw0KGgoAAAANSUhEUgAAABwAAAAcCAIAAAD9b0jDAAAArElEQVR4nO2UOw7DMAxD5aJXpA8pH1IdhApFPgqJdgrKIYOhUM/62OyvO8jd3b2PAbA5eTbREWFma63LmDEGyxgRPWbG7EmPBSAikqKPuSyOgFBZWUzm4j1m16gmawLOOTVTAAny2f30ym8/FQd2QUhw3JDm//5W5ROazohxfEiO+yp/awqAnUpezPzK0laIEfMalNiaSgMvr2m162xHBdUiML1iSeviPwC8u150z8F3rkuexgAAAABJRU5ErkJggg==\"/></td><td style=\"padding:1px;\"><img width=\"28\" height=\"28\" style=\"image-rendering:auto; object-fit:cover;\" src=\"data:image/png;base64,iVBORw0KGgoAAAANSUhEUgAAABwAAAAcCAIAAAD9b0jDAAAAoklEQVR4nO2USw6AIAxEB+/YSw6HxEUDaVBao9WVb0VCmMz0A/Dz40KSZJqciLROmmgz5Jgl2Q6ISPiw+DYB1FoBWK1SvFceWs0R2RY3rMPmX6tNPYxzyFJU89rUV6oZiFpfImIjX1c/Yeq76j4dr9PmjDm7b1aDT75UN3NxYRJkiqKbfdSxI2+ZnVYujdUXE6ypj/4syZVF71iyKID8MfiOHTKzu2Of6idFAAAAAElFTkSuQmCC\"/></td><td style=\"padding:1px;\"><img width=\"28\" height=\"28\" style=\"image-rendering:auto; object-fit:cover;\" src=\"data:image/png;base64,iVBORw0KGgoAAAANSUhEUgAAABwAAAAcCAIAAAD9b0jDAAAApUlEQVR4nO2UQQ4EIQgEnc1+sX1k88idA1lidDCKHKdOxsQSECzlJZsrdgyALkSEpIjoOugi+XPY1k1co/S7GKDl2/GY8kyqxeqO2U6kgpqvF2AENZJMNkZe0wPAufEzSku4jf/0E2Ux1lrDdleqtC2lCwDbN61MTqQx7K3mBFtYp9OL/aiLLXCS7R0T6dKHYvbS/KSnjBXImeDWm/knaEHTdC9b3GycKSfKp5wNAAAAAElFTkSuQmCC\"/></td><td style=\"padding:1px;\"><img width=\"28\" height=\"28\" style=\"image-rendering:auto; object-fit:cover;\" src=\"data:image/png;base64,iVBORw0KGgoAAAANSUhEUgAAABwAAAAcCAIAAAD9b0jDAAAAq0lEQVR4nO1VSQ4EIQjEyXwRHwmP7DmQGEZtEOVonYgNRbFoA1xcpKKsuyIiIorNzMy8nxYRieiZgYiI6JROWMRoh02+Dx3WKRJbO6xq1IxjPulvgFR7T0vTDtOsXzdHFzOmqbX6SuG/XwbeRm/t6RijZTLzqsZF+YE1MuBO74gxfIVcxjSZ+a0EgOTCtxk/xrduK/elabRuRgu3blR7fkoJ/CAcyDKlTfwQPx3ILAHBQu3NAAAAAElFTkSuQmCC\"/></td><td style=\"padding:1px;\"><img width=\"28\" height=\"28\" style=\"image-rendering:auto; object-fit:cover;\" src=\"data:image/png;base64,iVBORw0KGgoAAAANSUhEUgAAABwAAAAcCAIAAAD9b0jDAAAArklEQVR4nO2UQQ7EIAhFmclcEQ/5OeR0QUKMFRDbmVX/yhh9fViU6MndeaUrmFlEdGBjIrJBOQC+fpi5bAqg39ar2XxrraDMzIGRVQBgldhDvRqN6y1wobFIWVZFYguTHebfgWn6Ye8XzaFKFJG9ZpxD9Zi229stf1szgl7JBLred3b0OXSdeDO0J/4Eurpnek+UBSC99Z8Afb7Uw0tY6zk12nie85y5w7P95H85ADhS33JR7RcxAAAAAElFTkSuQmCC\"/></td><td style=\"padding:1px;\"><img width=\"28\" height=\"28\" style=\"image-rendering:auto; object-fit:cover;\" src=\"data:image/png;base64,iVBORw0KGgoAAAANSUhEUgAAABwAAAAcCAIAAAD9b0jDAAAAvUlEQVR4nO2USxLEIAhEnalcsTkkHpIsqFCWgr9xMYv0MsZHBzqk9KorZhYRZj5MFBEAZ4gA1OMxYnpsbhC/xyxMans+V3TQx1lPcs4L1aKhWx5MC03XC5W7klXSp4gWJtdg+7wy6/dUX7J+WVTzo76ncFBuDSJqT9sy45zqx0ZEV7+G3x39GKoGAbjxSvNRbQNYLUAAy5vB3aF2f7gPPx0ugHKyijAQEa39oyoJNNwyoVNzpzJT88F69fe6ARbA6Wb84shqAAAAAElFTkSuQmCC\"/></td><td style=\"padding:1px;\"><img width=\"28\" height=\"28\" style=\"image-rendering:auto; object-fit:cover;\" src=\"data:image/png;base64,iVBORw0KGgoAAAANSUhEUgAAABwAAAAcCAIAAAD9b0jDAAAApklEQVR4nO2TTQ6FIAyEi/GKcMjpIXVB3oSA/LT6XPmtDKbTYUpFPj7eJ8YI4PgBgOd+xaMBQG5zqbuveMzfKaXyF8+dHgFUjrJNj26vks3MmXIy683IZmslwihU1Vp77bR8WIPayfSlmHKZoMdm64uTGTxPEsa6lTsGGsKk0EC1pj3M05c7gbb4t6iHaYs8139YVFVXAl0VNa3mX64/X9PMk8/IxwnAUrt8owTfUwAAAABJRU5ErkJggg==\"/></td><td style=\"padding:1px;\"><img width=\"28\" height=\"28\" style=\"image-rendering:auto; object-fit:cover;\" src=\"data:image/png;base64,iVBORw0KGgoAAAANSUhEUgAAABwAAAAcCAIAAAD9b0jDAAAAqElEQVR4nO2VQQ6FMAgFiXekh3w9JC5ICLHYUvyLH+OsjLYjfa1I9PEqmBmAiIgIAABPdRJR916MVqzyAyMzE5H3Vox+vhovL9tOwJfpjYrftA3pcpoOCJ8ek0r1ovceDri7f0smNRuzUWm+nDHxWLpc+5xFpTX+TKoRtdayEWV2v/KlmnfcXJqe/AU6c5ROTmiKMYR6N/HYSn2Ledr5ybVB/ZGEKX8YJ6IbDSAyf1TFAAAAAElFTkSuQmCC\"/></td><td style=\"padding:1px;\"><img width=\"28\" height=\"28\" style=\"image-rendering:auto; object-fit:cover;\" src=\"data:image/png;base64,iVBORw0KGgoAAAANSUhEUgAAABwAAAAcCAIAAAD9b0jDAAAAcElEQVR4nO2UMQ6AMAwDG/7oT7qPDAPQCQkbCSJQb+rQnBI5SmuTKkhmJknl82KpAQC41dUZeaA0G7p0L4jrEm98EVXae98eyviq1MqndPx66f9W6jvSR5bfQpK6F0+V6kYJAOOYinYjqIgYcU3eZgXvzzUBU/6OcgAAAABJRU5ErkJggg==\"/></td><td style=\"padding:1px;\"><img width=\"28\" height=\"28\" style=\"image-rendering:auto; object-fit:cover;\" src=\"data:image/png;base64,iVBORw0KGgoAAAANSUhEUgAAABwAAAAcCAIAAAD9b0jDAAAAtklEQVR4nO2UQQ7EIAhF7WSuCIfEQzKLnxJiK1VLM5v+hTHEPOGDlvLqLyIiEVEnERGR3vktABGR7S1edwVJdKGqapRmXRfqDWpcFOxLhhKRqnpDB/UdpGNz19Oyl99M0kjiF933TfdDxszTWcPN09bbQ8gfDEMvtPFCMDqZ+3i+PvK5D00Y3qMmJsFPZSB42gTPy0cHelDcZzhmbg5Ebx9PwFvWXFNrPRLLyM+P1aNzPuxXU/oBUguwmX5liSYAAAAASUVORK5CYII=\"/></td><td style=\"padding:1px;\"><img width=\"28\" height=\"28\" style=\"image-rendering:auto; object-fit:cover;\" src=\"data:image/png;base64,iVBORw0KGgoAAAANSUhEUgAAABwAAAAcCAIAAAD9b0jDAAAApUlEQVR4nO2UQQ7AIAgEsX/kk8sj6YGEmFYUak9N90ocF2Ql+vUrFjMDUFVVBcDMu0TH9driOrGnAABgHTwnDqvMPKmOtTzjIx5WjwhKRCJSMLKEmiKoT7N26/yVfQ2i4zOnQ2Vs1qAWhCW0RQXrTkRExNxdptFaeHZhqg+SZXS+TFm0qe9gN6n3OzJBKj/UhqVAyYEWnOaDVF7+l6H5X+ZJ+x/SCbLmsoI4cY/1AAAAAElFTkSuQmCC\"/></td><td style=\"padding:1px;\"><img width=\"28\" height=\"28\" style=\"image-rendering:auto; object-fit:cover;\" src=\"data:image/png;base64,iVBORw0KGgoAAAANSUhEUgAAABwAAAAcCAIAAAD9b0jDAAAApUlEQVR4nO2TSw7CMAxEHcQVx4e0D2kWFkNUpQmYLJDoW+WjvExjV+TiYiutnwAws37F3XOgqgD6lQn3+XaKRCQieE16J/Z2mAMAwAOUctDj7qq6li4j562v8+1dwxozi4iIONTgW1I63LrVjPO3Lr4IMw7ftJKU6c66qpJ0HlMKSVnuYYdWYCed1f1jANA4LPoPGOXZ6jt/Icbcb/y3D0/2G2s8AIi4laSh9rQNAAAAAElFTkSuQmCC\"/></td><td style=\"padding:1px;\"><img width=\"28\" height=\"28\" style=\"image-rendering:auto; object-fit:cover;\" src=\"data:image/png;base64,iVBORw0KGgoAAAANSUhEUgAAABwAAAAcCAIAAAD9b0jDAAAAsElEQVR4nO1VQQ7DIAyj075oHhk/sj1EiiINgpLlWN8otTHGtGO86Ma1mxCRMQZJkg3riMjtoOqdigYAdVEAZhCADf+yrE49v0F3uVkAFktFV8m/z73fY77fYE4ztUqRLB6XOlLysgbFMhghEK33TM9n11zfvLT0En6ltG7wdqVn1qHYxTLfz1E93t2c00ycRUkaoRlBaj7T9PU9tjWtuDR17On2d7KDiPivQdrgixoeriZ4u/AJH18AAAAASUVORK5CYII=\"/></td><td style=\"padding:1px;\"><img width=\"28\" height=\"28\" style=\"image-rendering:auto; object-fit:cover;\" src=\"data:image/png;base64,iVBORw0KGgoAAAANSUhEUgAAABwAAAAcCAIAAAD9b0jDAAAAmklEQVR4nO2USwqAMAxEo3jF9JDTQ44LMbhoYhsURJ1VaeDlM01Ffr1ZAFTVi845aEBMQmPiORRAImsE1V0XQ4P7WutoMhERks32AZDMEFWVZLNYL5lp2P2e3hcvYLXYod+xyQscp3asy9CllGGvSDZnyl25J+wmixdfRo0yVtx4ZvdPR5n8pR4P7Xyqt1TqblRTm0XJ/+kzWgFoKVTor03NvwAAAABJRU5ErkJggg==\"/></td><td style=\"padding:1px;\"><img width=\"28\" height=\"28\" style=\"image-rendering:auto; object-fit:cover;\" src=\"data:image/png;base64,iVBORw0KGgoAAAANSUhEUgAAABwAAAAcCAIAAAD9b0jDAAAApklEQVR4nO2UwQ7DMAhDnf2j85HwkdsBCUXJ6ELDYdLmUyulDxtKgL9+Vy37gYgAUFVVLYCKCEl/7b3bwwX9SiSfgcx4WiISEU1HRJIkpxpjQ3JE6+bahHT2ERH1NEcEEI3F7aeDY5mPJXXLN4duiMmOV7pJfFvj1OaqeptH84mUCr51oXjk1rbOPz6e8Lx+LZ1Cbdk3WbsaV6CGOK1/JbTyH/o6vQAENCcByFrhbgAAAABJRU5ErkJggg==\"/></td><td style=\"padding:1px;\"><img width=\"28\" height=\"28\" style=\"image-rendering:auto; object-fit:cover;\" src=\"data:image/png;base64,iVBORw0KGgoAAAANSUhEUgAAABwAAAAcCAIAAAD9b0jDAAAAmElEQVR4nO2UUQrAIAxD3e4YD1kPmX0IpbhRZy3sZ/kVnjGNLeXXTABEhCRJADlQJZIUkQQiAIvLcRowePrH6qu1Fvc1qKe5muPEadeqTQ8KIK1AqtjbJwq3/fChxQRq6bXWYB94k/1awbgtS4e2uwecQflQr1JOan6gr8o/aLe/jwkk7NZhVjmL1YLsBXGicjWH/G3w6zNdSajXSb+AzQcAAAAASUVORK5CYII=\"/></td><td style=\"padding:1px;\"><img width=\"28\" height=\"28\" style=\"image-rendering:auto; object-fit:cover;\" src=\"data:image/png;base64,iVBORw0KGgoAAAANSUhEUgAAABwAAAAcCAIAAAD9b0jDAAAAvElEQVR4nO1UQQ7DMAhD075oHgmPZAe0KEoIDVkvk+pTFRrL2FaIHiwAwMwAVC++kpmI/CBpgTOZlCg9o7uAiJjZzaRmdkz6Dk89IlWdR80WAKoa/hPDd59t9ZL1CK3PKpXIZGZmplKeodIms52vwiwodS5mHnycxdZIa8nMGCoVGlJe3xUlOQAA4HHtosUiIu17nhYYh5t9KwH41sfPDdHXuAH3vIo93aXA3Ur1TXITzgX2cB92lD74E3wA9dvPZ5KvnSQAAAAASUVORK5CYII=\"/></td><td style=\"padding:1px;\"><img width=\"28\" height=\"28\" style=\"image-rendering:auto; object-fit:cover;\" src=\"data:image/png;base64,iVBORw0KGgoAAAANSUhEUgAAABwAAAAcCAIAAAD9b0jDAAAAoElEQVR4nO2USw6DMAxEXcQVJ4f0HJIurKIoIQmuvUK8JYHHgD8iL88EgKoeHQASXKpqIruuqg7dyNW8z5dx5AphSTON8kvqemSbH9vPIpkpNbzSBX98u4jsyztI1lWKpgbQT86d3vrMj/uuNiPJUkokcStddu6t6tckd4JUMd3DPuLcLNE9AKBZelGdhXI104zlDp1zPVFniUnml/vpfAG6BNdWL1MVFgAAAABJRU5ErkJggg==\"/></td><td style=\"padding:1px;\"><img width=\"28\" height=\"28\" style=\"image-rendering:auto; object-fit:cover;\" src=\"data:image/png;base64,iVBORw0KGgoAAAANSUhEUgAAABwAAAAcCAIAAAD9b0jDAAAAo0lEQVR4nO2UwQ4DIQhEtdlfHD9y/Eh6sG02RkDYPbWdI5GHAmMpf32JSAK4kwhARKJZDxc6RXYubkEBAKi1upVi0NbaFOy920QfGor70kZEUkSSXC1TREjauevnD9xO+wJQkhoxXenVuOVK7thh3sFz8iACON/uU6a/FYAuyxTdEZc0OmOfcby/lDurMPSqTTXd/L0O5W1qyJ3VkYDmTfUbegJUCl/jeRajmQAAAABJRU5ErkJggg==\"/></td><td style=\"padding:1px;\"><img width=\"28\" height=\"28\" style=\"image-rendering:auto; object-fit:cover;\" src=\"data:image/png;base64,iVBORw0KGgoAAAANSUhEUgAAABwAAAAcCAIAAAD9b0jDAAAAv0lEQVR4nO1VQQ7EIAh0N/vF4ZHwyO6BhBAqCqbHzsnaYQQEHOPF0/jUqQAAiIjt+PUhrhuY+URIvctEFUYogZm9mX2ei3oJDRPAVLeahGDszfQXM3vO3tmpO97M1sbcOAugFeC56II/DeUbSPczFxWeORhF74pEtObs0Uplxvy1jvQN5hFSFAdKuBaLPZNTzmayZL2YodRO05LqKk5uvzgliahXGFsfe+POkA2kilz6nNgMHWOIiObkgffjxRn+YlnOembDg5QAAAAASUVORK5CYII=\"/></td><td style=\"padding:1px;\"><img width=\"28\" height=\"28\" style=\"image-rendering:auto; object-fit:cover;\" src=\"data:image/png;base64,iVBORw0KGgoAAAANSUhEUgAAABwAAAAcCAIAAAD9b0jDAAAAhklEQVR4nO2USwqAMAwFg3jFXPJ5SF2ERswiPxWKOLti+jqliUQ/P1+AmQHsV5i5lgJA4zQFA13WEs1mI6WfsrJGzTnYL1jNehukLDKh9+OEpbEnPLgTGtIJlXd3fKcxpeee9CTs/LJpZpDKobWpTyJD7NdM0Pxhh3bI3J1Kpq9oyt82U3kAT9qJt8x2CDYAAAAASUVORK5CYII=\"/></td><td style=\"padding:1px;\"><img width=\"28\" height=\"28\" style=\"image-rendering:auto; object-fit:cover;\" src=\"data:image/png;base64,iVBORw0KGgoAAAANSUhEUgAAABwAAAAcCAIAAAD9b0jDAAAApklEQVR4nO2TwQ7DMAhDm/0jP+l8pHtAQlUHBLLtUu2dIiU42AnH8ec5kBSR+vnX8oTKvYuSBPCR6Jxz3WFRVERc46007pB0bQJIgs46tZqW9wXaptuOdrqpGL2v7ka1vn3Tco1vvhIvALj9AfXets8AAKYYJRMiItd6lySEUbzD5srWY5RqS1QCXc++Sz4ObdHKf+qJFgd3037OTzJtowP2TcXHcQLZobZ36OZXmAAAAABJRU5ErkJggg==\"/></td><td style=\"padding:1px;\"><img width=\"28\" height=\"28\" style=\"image-rendering:auto; object-fit:cover;\" src=\"data:image/png;base64,iVBORw0KGgoAAAANSUhEUgAAABwAAAAcCAIAAAD9b0jDAAAApklEQVR4nO2UQQ7AIAgEsX9cHwmPtAdSYyxiil6adg/G1DBdECH69Qol/7iU0n0REV11E1EZC0AQyswONwglIgCKuP9g1Swzm97jxC645UagZpq1IJEKaHBN3DRrnh4OUQPMfvSb1INStMnn0KdED7qiVaiZygQ67Zhn9fHbu3tmnYajr8XlnEWkugag+5Qmk9P2snn0tW9xD7FqP5Gu8umdrLI+oxPu7C0XtwJuZgAAAABJRU5ErkJggg==\"/></td><td style=\"padding:1px;\"><img width=\"28\" height=\"28\" style=\"image-rendering:auto; object-fit:cover;\" src=\"data:image/png;base64,iVBORw0KGgoAAAANSUhEUgAAABwAAAAcCAIAAAD9b0jDAAAAgElEQVR4nO2UUQrAIAxD7e5YD9keMvuQ+ScmbG4MfN9tCGm0lM37AAAgrRzknLvrfsZEhGp27jQzM/OGqwHuDiAiyHk206LESomqV6JE1UyXOKXABalOOa21tgQettxaRT4BoVI8/xE1cq6naTZfYZ32/jMFkEUZvj7Ukl91Q3ICHF88/OyNRbQAAAAASUVORK5CYII=\"/></td><td style=\"padding:1px;\"><img width=\"28\" height=\"28\" style=\"image-rendering:auto; object-fit:cover;\" src=\"data:image/png;base64,iVBORw0KGgoAAAANSUhEUgAAABwAAAAcCAIAAAD9b0jDAAAAoUlEQVR4nO2TUQoDIQxEY+kVx0NmDtl+hJY0glEbCoV9X8Lq22SMIhcXAwBU9fGJqgI4NI46T3r8Nv9MsvdOkqT/5Uml1nvo9F3+eQIBH2u6OWlfRAD4HH0Oh5hxq8wlxkkAUBBrqLfyusJzKIvCSGcrv/1fUP8EfKaTbW3d6EWtzQ4uZWoF2prk3Ji7wuR/m2PQbU3lPd3BFwVSs+zq/o0nqOnwS0hzZ5IAAAAASUVORK5CYII=\"/></td><td style=\"padding:1px;\"><img width=\"28\" height=\"28\" style=\"image-rendering:auto; object-fit:cover;\" src=\"data:image/png;base64,iVBORw0KGgoAAAANSUhEUgAAABwAAAAcCAIAAAD9b0jDAAAAZUlEQVR4nO2UwQnAMAwDQ3fUksqQ6qP/ci4xlJB7i8MWccY47INt2zx/wZwk7kXSOSfUFaRdJEkCw7VJJa2UPrUulrYgqVQrxXYS0kDL+mXp4kn5XW25fhfwqf6gU/gDfJEe3rkBgDEu/9yUJx8AAAAASUVORK5CYII=\"/></td><td style=\"padding:1px;\"><img width=\"28\" height=\"28\" style=\"image-rendering:auto; object-fit:cover;\" src=\"data:image/png;base64,iVBORw0KGgoAAAANSUhEUgAAABwAAAAcCAIAAAD9b0jDAAAAsElEQVR4nO2UQQ7DMAgE0ypfhEfCI+lhJeQG7Lo2PbTqnCJHTBDecBx/vhsismeIaMsoIpYhIjPlt7RHFKsqTvCAQ2b28x5nPFJVlDFz+6WZHrvSi+6DYMqTM31NG4PdAESjmRUY01TtNptKMdmxOsmp49fiwSQi180Edgr8F5UjdtxbE4boTd/e16TtlMuk41/rPalf1ForV0QkLtnFi+pt67EuX30gVmIl1mT+d3kA/rTtUc6FBvcAAAAASUVORK5CYII=\"/></td><td style=\"padding:1px;\"><img width=\"28\" height=\"28\" style=\"image-rendering:auto; object-fit:cover;\" src=\"data:image/png;base64,iVBORw0KGgoAAAANSUhEUgAAABwAAAAcCAIAAAD9b0jDAAAArElEQVR4nO2UwQoDMQhEbekv6kfqR9qDrIQkq7P0VMg7Ldlh1ImE6PAXvOrfqkpEZmZmuOm7VTBzq1HVKA/BzO5e+4bG3fOk6RSpHyXHfCpTZPAENX0EepORVJ1ABDppbjtNXd3CNqK9KTOn+tGGVqhqzA4uE3SlSJq029Dgs+qyrIj09Xf5zJmOpnrhF2AsMw4Q1kWBeXwRWZdp/ciB0AdsTKAg++0dD4cf+QJXWcCEcFjuMwAAAABJRU5ErkJggg==\"/></td><td style=\"padding:1px;\"><img width=\"28\" height=\"28\" style=\"image-rendering:auto; object-fit:cover;\" src=\"data:image/png;base64,iVBORw0KGgoAAAANSUhEUgAAABwAAAAcCAIAAAD9b0jDAAAAkklEQVR4nO2TQQ6AMAgEjfGL9JHsI/HQaLBiChUTD52T0XZcCl2WyeSKiDAzEd0/0YEcmMsM9J4ud+lqSgGUUgAEK4xQ69VvzphPpzTyj9NoLrDLf0lYSkRPAcfxTFIsaX5GZg4PvN+Yk7e5YAkxG6Nny+aR1gcAORc3vzm68Jzm6IzOo+yjjZ/MUIKxktyfn7IDulntLkYfxsUAAAAASUVORK5CYII=\"/></td><td style=\"padding:1px;\"><img width=\"28\" height=\"28\" style=\"image-rendering:auto; object-fit:cover;\" src=\"data:image/png;base64,iVBORw0KGgoAAAANSUhEUgAAABwAAAAcCAIAAAD9b0jDAAAArUlEQVR4nO2U0Q6AIAhFsfWL8JHwkfXAxgpMsWy9dB+cG3K8MAXg11dCRGbezkLEm7jIchp2d0xm5qM1iw74tRzHikXE6HpFZGYAEBEiyhppQI1IRCIySgSA5SqQJ2YvzvTemp4iJvX0qTrZR9DWz9FbxJmFm8fJxIzHkmHpRlml9FPqcqOkMVb01o736tw0XKTr2oFWcZYTK+g/rGSOGmxU7buu53S9MfR+vaUdo141AQs1hzkAAAAASUVORK5CYII=\"/></td><td style=\"padding:1px;\"><img width=\"28\" height=\"28\" style=\"image-rendering:auto; object-fit:cover;\" src=\"data:image/png;base64,iVBORw0KGgoAAAANSUhEUgAAABwAAAAcCAIAAAD9b0jDAAAAoUlEQVR4nO2UQQ6AIAwEi/GL5ZHLI/XQSBqp0BpIPDg3CiwLzUL08zOV1JaYmZmJqJSihxWp55wD5wA4GsziS0UAN5viXWbbqYFif4PXaVU03ZlOnxbselAu+sfrNk4j8KBO5JUATFOkFTalRUtsDpdtfsV6ZR2Nl+4EM6aBpPYVh9Eg85dqERX5rlJybXExjKYm0ChyR/MDok4Cop4PbCEnm8jaWi0QDIQAAAAASUVORK5CYII=\"/></td><td style=\"padding:1px;\"><img width=\"28\" height=\"28\" style=\"image-rendering:auto; object-fit:cover;\" src=\"data:image/png;base64,iVBORw0KGgoAAAANSUhEUgAAABwAAAAcCAIAAAD9b0jDAAAAXElEQVR4nO2TMQrAMAwDQ+kX/UnpkepgyFoZUmgb3+RBHDLYYzT/QRKAiFgpBZBeM3/4ar9pQep7a1ITS0oyh9c3fYq8KklO+Dvrt7Sl98z3XyktcZo5kqWyO3MBchEgEUkkANEAAAAASUVORK5CYII=\"/></td><td style=\"padding:1px;\"><img width=\"28\" height=\"28\" style=\"image-rendering:auto; object-fit:cover;\" src=\"data:image/png;base64,iVBORw0KGgoAAAANSUhEUgAAABwAAAAcCAIAAAD9b0jDAAAAp0lEQVR4nO2UQQ4DIQwDUdUvmkc6j6QHS4h2CyS7UXtZXwEzCcGl3PqXAJBsrQHIcZSdRHK7/7EFzKQrA6BMdYGH9LlwBFBrNbM0zGPJIvWcnfY0E3AhZ0MDIul33IxUV2iqXKZi9HfZS2pmmU+nL7DYoFgI9Gf9i7QanooZ5hgxsWQ4Zl0PQNGdCZqxrgS7EfMjTC/FYHtXyO579PXzfTx/lC+3ZnoBnGO/bo42ynAAAAAASUVORK5CYII=\"/></td><td style=\"padding:1px;\"><img width=\"28\" height=\"28\" style=\"image-rendering:auto; object-fit:cover;\" src=\"data:image/png;base64,iVBORw0KGgoAAAANSUhEUgAAABwAAAAcCAIAAAD9b0jDAAAAdElEQVR4nO2UQQrAIBADpX+Mj3QfmR4E6akkJcUeOmcZs26wtZ+NACAZlpIkCSBmnDEnY4z7w4cu1ROoUosn0t575nL9QZuYVBHZ0itVFZACcLu5Kalr/IC0qkSpxCqpuDFv/KTUnVqSvt7TmHR9S8nt/1icvZlE+Gre8sAAAAAASUVORK5CYII=\"/></td><td style=\"padding:1px;\"><img width=\"28\" height=\"28\" style=\"image-rendering:auto; object-fit:cover;\" src=\"data:image/png;base64,iVBORw0KGgoAAAANSUhEUgAAABwAAAAcCAIAAAD9b0jDAAAAXUlEQVR4nO2UwQnAMAwDTXfUkvKQ6iMDVAYH9+F7i0PgRBHLFCT7pZL6vSQlmeHHzGWm38CV3kISACd5pelK56Tm3WvSg/kFftC0mdJKTT+p0lB9A8Af05ifvsXkBeO5IQVdtSptAAAAAElFTkSuQmCC\"/></td><td style=\"padding:1px;\"><img width=\"28\" height=\"28\" style=\"image-rendering:auto; object-fit:cover;\" src=\"data:image/png;base64,iVBORw0KGgoAAAANSUhEUgAAABwAAAAcCAIAAAD9b0jDAAAAkklEQVR4nO2UQQoAIQhFY5gr/kvqIZuFTEiklDXNpreIoPx8S03pcNgPACLKLwDiWlqowte9LTkdxsyyMnPOOWIQQHFknUZeAIAVJqJE5IS305d89yFO/TtXQHRxHp2/NOB0tuwtUU1Vy0F0g5V982a7pCykqWbdFcRaZ74DH/WnzS7iE8RBbK5UTB/VvD/l9vEAFGCliMXQIj4AAAAASUVORK5CYII=\"/></td><td style=\"padding:1px;\"><img width=\"28\" height=\"28\" style=\"image-rendering:auto; object-fit:cover;\" src=\"data:image/png;base64,iVBORw0KGgoAAAANSUhEUgAAABwAAAAcCAIAAAD9b0jDAAAAnElEQVR4nO2TUQrEMAhEpXc0hzSHnP0YkNIaG7eB7kLfXzBOxiGKvLycUFUAZlYqkS0RvXz18s4RAADCNjNjddQ7dHrHYCyatHmp9162Ew7og4+SyQhT85fyQGU+U1Xd/6F89lj03JP8ygJMwMwOU38ZKOG8eyE/3nVNaaq45TVRkHmn5Y0SkdbaYtGZRfoN0Rn+R7QGF+xpFwv5AK22qIBBTgRtAAAAAElFTkSuQmCC\"/></td><td style=\"padding:1px;\"><img width=\"28\" height=\"28\" style=\"image-rendering:auto; object-fit:cover;\" src=\"data:image/png;base64,iVBORw0KGgoAAAANSUhEUgAAABwAAAAcCAIAAAD9b0jDAAAAi0lEQVR4nO2UQQ6AIAwEq3/cPnJ5ZD30IJGgRWs8yB4JGYamrcjMtwEAIJloZmZGMpMrIs49v7OOQkspd336yf++lzWTKG9okkzWdGKy5hAx1FKOizfTEiECUFWHtmPqJ6oafHIfTf++9RPaCQBaSm+hkLyoeG3ngk+X08HuPqhOLZhDlDfW8MzPsgEe0apqPmLT2QAAAABJRU5ErkJggg==\"/></td><td style=\"padding:1px;\"><img width=\"28\" height=\"28\" style=\"image-rendering:auto; object-fit:cover;\" src=\"data:image/png;base64,iVBORw0KGgoAAAANSUhEUgAAABwAAAAcCAIAAAD9b0jDAAAAjUlEQVR4nO2TQQ6EMAwDA9ovuo90HhkOQagSYpUgw4m5lg5u6pp9vAzJiIgIkmJjAkBjJHkj7O/P2hjD3fMHgphnMm9RvVY+AtBKWpIm7p7T0Ei7A+1JZdcFYG7rU69A5jUzAMWHsHTVEbHvXC73NiqVFFvVYB6uQDcPVGDUV+qRks5HltXzSKrRfdxmAwtLtmtiFlTsAAAAAElFTkSuQmCC\"/></td><td style=\"padding:1px;\"><img width=\"28\" height=\"28\" style=\"image-rendering:auto; object-fit:cover;\" src=\"data:image/png;base64,iVBORw0KGgoAAAANSUhEUgAAABwAAAAcCAIAAAD9b0jDAAAAuklEQVR4nO2VSw7DIAxE3SpXNIccH5IuLKE2xh9gVbVvRRwyDHiSEP35Ch6VSQB0ICLv9dvlGt0BADPb+VeqqI+11tTXTYWZrd9c9EZly89V0coap6JTctFpK2LySPXedTB2KiLxySZOrU1m9pJUZeTRFjcVAVjFUQ/MRtvXs2ut2XrsJgp/2hAP16k2xLu1sRIREQBPdL9RXiu87pWYhvFIkT5zo+c7zewyxU+yJXn31ZcG6+jn8Uu8AJz6raTvQ+/WAAAAAElFTkSuQmCC\"/></td><td style=\"padding:1px;\"><img width=\"28\" height=\"28\" style=\"image-rendering:auto; object-fit:cover;\" src=\"data:image/png;base64,iVBORw0KGgoAAAANSUhEUgAAABwAAAAcCAIAAAD9b0jDAAAAhklEQVR4nO2TMQ7AIAwDoX8MjwyPTAdUlAkuFTBxE1KJZRw3pcthVNXMVHWlqH2ICJ96xp9rre2wUrQjIlyXOk1BsxParhpwZP58bxbWIJNL3mPO8xG0qFJKP29JliRAK9Uh3QqLEqjoicKOdQPP52Z/ZrorgUG3Yk59Aishuwpn6n/ZyzlexnVlzyH+ZkYAAAAASUVORK5CYII=\"/></td><td style=\"padding:1px;\"><img width=\"28\" height=\"28\" style=\"image-rendering:auto; object-fit:cover;\" src=\"data:image/png;base64,iVBORw0KGgoAAAANSUhEUgAAABwAAAAcCAIAAAD9b0jDAAAAnklEQVR4nO2VQQrDMAwERekX95PrR24OokuxiVMUnUL3GjQeK0iOeEIAkJQkiSSABqgkfJL0Bu6EANDDXY+R1AyNiOxvM/QX2VcZXSs8Dcl9Byqml5rF6zdDU3OM0QnN7KHvfbHbZwqAPfEi3iaZXAK3JjWJ38peV3XN1cjcInGdRRNvydrUrfQx9Z09/aXJLr9W0DnjZ2Wdz8E/D8oBtVqubGlLeIgAAAAASUVORK5CYII=\"/></td><td style=\"padding:1px;\"><img width=\"28\" height=\"28\" style=\"image-rendering:auto; object-fit:cover;\" src=\"data:image/png;base64,iVBORw0KGgoAAAANSUhEUgAAABwAAAAcCAIAAAD9b0jDAAAAlklEQVR4nO2UQQ7AIAgESf+4n8RH0kNTY1UooJcmnVNDZAO7WqKfHwUAzAxgWheRjKLceOoxxa65rY9LENFhiNbvUornWGzMrlPb4IUrhLGz5pMRlScARjkRYebkmAZ5QzWMMSfpG1k7Ua/UFvUHmlmt3Yah80k3z2iTD2qdgGj3fgyLvKKBe76y/p4wkw/UIxr4iXyAE+SAJQxo1QkbAAAAAElFTkSuQmCC\"/></td><td style=\"padding:1px;\"><img width=\"28\" height=\"28\" style=\"image-rendering:auto; object-fit:cover;\" src=\"data:image/png;base64,iVBORw0KGgoAAAANSUhEUgAAABwAAAAcCAIAAAD9b0jDAAAAl0lEQVR4nO2TWwrEIAxF69AtxkXeu8j0I0wYECOxFizM+aumx+sjx/HnxYiIqsYFaamqBlJbMvB+0gv+qLeRDg+uVzCfNOCuVEQArJe2gzNSF1nGWusCqUOyNXYBYO8fgHzxQSfXV9YzQ9Jba70ALLh/9v49exMkSym+QZJtQTppgB1ukHSG4S1t2abLpIuvyLG39Yj6/VxzV5mZeprZ9gAAAABJRU5ErkJggg==\"/></td><td style=\"padding:1px;\"><img width=\"28\" height=\"28\" style=\"image-rendering:auto; object-fit:cover;\" src=\"data:image/png;base64,iVBORw0KGgoAAAANSUhEUgAAABwAAAAcCAIAAAD9b0jDAAAApklEQVR4nO2UQQ6FIAxEi/lXHA5ZDjl/QSREQlvQhQtnRbQ+HrRR5MtiVJUkgFnBb5VI8p7SEAAkSarqW4lyXuWTxKYZKT7iUBHJOe97jcSlgye3orIApOQXh9Ku0hj15ezNUKhRpZS6qFPlulvQy2fVt98gInTNbNpdWf/4TS3+yofOdIzNQo3quW1tQK30vVZVAO3Jrd9KD+qzTxzR1fcB4pdX5A/vKap/zVbs7QAAAABJRU5ErkJggg==\"/></td><td style=\"padding:1px;\"><img width=\"28\" height=\"28\" style=\"image-rendering:auto; object-fit:cover;\" src=\"data:image/png;base64,iVBORw0KGgoAAAANSUhEUgAAABwAAAAcCAIAAAD9b0jDAAAAsElEQVR4nO1UQQ6EMAisG7/IPBIe6R6IDdKGwpp4WedgbKrDDB3a2ov/xebWRNSfU4iIiBQqMPORADMXSDOMGd7dLgA449YsESU1XkjL/boJ1+744z3Y01ZMLetWzZa2b3lcRBSEb0J6JwmfZQERAbAZALDGC3rpRMZNbRyWhad5iOznDyEbA1UR+LIyXfkop+06miqn/99fanP4W57aeJ+OSkdpVjiAMqkr4BhfPIcvqYE8L7d9QboAAAAASUVORK5CYII=\"/></td><td style=\"padding:1px;\"><img width=\"28\" height=\"28\" style=\"image-rendering:auto; object-fit:cover;\" src=\"data:image/png;base64,iVBORw0KGgoAAAANSUhEUgAAABwAAAAcCAIAAAD9b0jDAAAAl0lEQVR4nO2UwQ4EIQhD3fnH/mT9yM6BLDE6uhG8zfbEwbwALZby17sEAIDVV5JCUpIkJ+4h2tpZkkhGiC0iyzKNuDhr7DHV2kgkmWWZABwmlu8qY8QfOa21liZDqbX67DOlgkmy6y51QotJfRXb0IV8ObMHkQ/FJjAPD6g18MB1dT9TKlgdK+7PYzC3Yv+Z9WjFMTfepBsB9wkWPC7DlwAAAABJRU5ErkJggg==\"/></td><td style=\"padding:1px;\"><img width=\"28\" height=\"28\" style=\"image-rendering:auto; object-fit:cover;\" src=\"data:image/png;base64,iVBORw0KGgoAAAANSUhEUgAAABwAAAAcCAIAAAD9b0jDAAAAp0lEQVR4nO2TSw4DMQhD097ROSQ5pLtAQlF+JYKqm/FqlBEvDphSHv1XIkKSJIAEHACSIuLBvQ6Uvh5ArbW15nGwhZI0hH44iSdFGvdengbnsIYGde3U84g1tJ+JhsmkUXVma7Rj9YYwCgD9dc01R+eLc1Zrvng+D01/tw4JkZo7kACd/Yag+VMqpZzjsa3ZefkauK2GJGr++424JvaOhjX9SSsfnfUBoD+fiwCf9+8AAAAASUVORK5CYII=\"/></td><td style=\"padding:1px;\"><img width=\"28\" height=\"28\" style=\"image-rendering:auto; object-fit:cover;\" src=\"data:image/png;base64,iVBORw0KGgoAAAANSUhEUgAAABwAAAAcCAIAAAD9b0jDAAAAvElEQVR4nO2USw7DIAxEQ5Ur2occH5IuUCzLxlBSpHaRtwPEePyB43jIAVBr3a+4U1QVAfyF4mt8zMy3XAW+T7zELe1MKZ3TTzhv3CEiuxSR+Z16EbW0MhYALsxC+nrZWVNFZk5dd7s06B4RueQmIxWJXkTETV4q6sq0xLLTQbDRS7E1shK6H9vdKj5JLmtLFi/u9LFj6HQBtKjNclRMHyJdtKWIxPHUsV34d6ypLrG4E6eOOPPbfsWHn/EGDesFSpOTp5gAAAAASUVORK5CYII=\"/></td><td style=\"padding:1px;\"><img width=\"28\" height=\"28\" style=\"image-rendering:auto; object-fit:cover;\" src=\"data:image/png;base64,iVBORw0KGgoAAAANSUhEUgAAABwAAAAcCAIAAAD9b0jDAAAAnUlEQVR4nO2USw7AIAhETe84HBIOSRemhNiqEVy1nZWa8PgYppRfbxMAVVVVZt7DYmZ1ArCnwIreUK8nWnW16jjUd+1bru+9IRzBbBc6BSUiEbGrPy/Lem/ebdaPUan2expBw/87gtrnrk5w3r6IENFm6DhfEPoYWScTh67mm6hnHKndvwcDyLpJcRvlnSVr0o03D1ZzTd6Vs4b/DZ294c5iCfjY4AAAAABJRU5ErkJggg==\"/></td><td style=\"padding:1px;\"><img width=\"28\" height=\"28\" style=\"image-rendering:auto; object-fit:cover;\" src=\"data:image/png;base64,iVBORw0KGgoAAAANSUhEUgAAABwAAAAcCAIAAAD9b0jDAAAAo0lEQVR4nO1UQQ7DMAgjU7/oPBIeSQ+R6LS0QNJO67T5mIBjMIHoj+8GAFVl5itJmVlVVTWMAZBibDJD0hbQV/Pw2UXEkXkUE5DOYZ7UWplVmu09USmlPwyU1lpPvrol+NZbwNEULw67iLyktfaFMj3SPjlZ9VtGasc7IgLQRD2Pi9Vut7vWz8BccloxXH5mb93gm37S/TFSGwZnJc5gbNv/JFYiVGvYWJHuNgAAAABJRU5ErkJggg==\"/></td><td style=\"padding:1px;\"><img width=\"28\" height=\"28\" style=\"image-rendering:auto; object-fit:cover;\" src=\"data:image/png;base64,iVBORw0KGgoAAAANSUhEUgAAABwAAAAcCAIAAAD9b0jDAAAAeElEQVR4nO2UMQ7AIAwDUf+YPDI80h2yFxuZBdUzOiW2wxi/LlREAIgIJ7SqAABwQptYVd/Png30nNMPNYs0VJi0rVzurqnHdPapG0qWSQsqM/3QI4aSj6lJ1XAEKGkoK/UTYYOSIjpy+2voxgmtoRvdpNY3d/52vWjmR+lLLTCRAAAAAElFTkSuQmCC\"/></td><td style=\"padding:1px;\"><img width=\"28\" height=\"28\" style=\"image-rendering:auto; object-fit:cover;\" src=\"data:image/png;base64,iVBORw0KGgoAAAANSUhEUgAAABwAAAAcCAIAAAD9b0jDAAAAqElEQVR4nO2UwQ7EIAhE2c3+4viR8JHdgwkhaijTcOycbMHngLQir1616lNPBQDAH8cYz48FoKrXJlXtwalqfBmNV4kLK0Ynl4NG4nHnhBIdcGKyJz/yoNzF0uhjzi+3bGa+XkZKRDx6r9jQXM8vapmBGCKIEb2X7FB6SBPRw1RRv02vPU/7slApTBIB3S+tBzoXxMzfEuu/0apTymb27UdNlpm11c7qD/FpCjFwA2ZWAAAAAElFTkSuQmCC\"/></td><td style=\"padding:1px;\"><img width=\"28\" height=\"28\" style=\"image-rendering:auto; object-fit:cover;\" src=\"data:image/png;base64,iVBORw0KGgoAAAANSUhEUgAAABwAAAAcCAIAAAD9b0jDAAAAl0lEQVR4nO2USw6EMAxDPYgruod0DsksIirEpzBJViO8QEKFp1eXALx5kwtJSf12TrL8SrK1llWTtKxxaFDK99hZkuKsLSiL89SoHU0DoMvTz0hNgzXnmlmYfhKvMvDiyNQdJW2n5Uk+4+U+MwCez8zIFICZFXfaEy73Blrz2e+gPz1/0ykAP/pKU5L1hfp/pJKIde//my/XPH2mQtf9jgAAAABJRU5ErkJggg==\"/></td><td style=\"padding:1px;\"><img width=\"28\" height=\"28\" style=\"image-rendering:auto; object-fit:cover;\" src=\"data:image/png;base64,iVBORw0KGgoAAAANSUhEUgAAABwAAAAcCAIAAAD9b0jDAAAAl0lEQVR4nO2UQQ6AIAwEi38sj9x9pB6MhEiFlHLwwBzUEJy0a0Vks1lKum/6QPJeIVmeJwFwdgEAQFUdUlXtS2v7UJ1e6nKtV1pI5pwdVX+10kbkS6OjfkVhbjtc0jVdm9Q5mBt8lbaYsf5SakYckn79x9FK11B/+jXDLyLDyZdI+9GDsTAc+5Cx07vMtT88ASalE29FuQDUVclyQX3fcAAAAABJRU5ErkJggg==\"/></td><td style=\"padding:1px;\"><img width=\"28\" height=\"28\" style=\"image-rendering:auto; object-fit:cover;\" src=\"data:image/png;base64,iVBORw0KGgoAAAANSUhEUgAAABwAAAAcCAIAAAD9b0jDAAAApklEQVR4nO2UQQ7DIAwESdUvLo9cP5IeUC3k2o2xcqmaPUUCJgMGt3bnJ3Ik5wGYHyJyDRQASRcqIpnf2JAcZ9kwxTuR0Trae99z1L1Hc8yER4YeWaipyTeo7tddOTUzTs4ytxRr9Spoc2oA1roXZVtwq+q4T7UxRnTEKZYrWCQaFsl5daKiVXAqnpd9RgP6LmdBVtB2BzltHxmI31Dc91fscnf+LC9ppyAoUEFr/wAAAABJRU5ErkJggg==\"/></td><td style=\"padding:1px;\"><img width=\"28\" height=\"28\" style=\"image-rendering:auto; object-fit:cover;\" src=\"data:image/png;base64,iVBORw0KGgoAAAANSUhEUgAAABwAAAAcCAIAAAD9b0jDAAAAn0lEQVR4nO2UTQ5CIQyE0XjF6SFnDomLxhcTnpQW3aiz4i9fh7bQ2l+/q8t8myQASceKpOdpWgB67wAAkCTZHyJZhDroNBiAIrTs6DrfrqUvgNav+UpemXExjBQ4bWdmt6BjQr3uW33ahgz4dPf6birbWLcQKslf1Do0LpSZmZkP1rkJHb/B/FjstKAcdPGBVZyGfZqDOu4jOX2z06/THbyZYem79PSIAAAAAElFTkSuQmCC\"/></td><td style=\"padding:1px;\"><img width=\"28\" height=\"28\" style=\"image-rendering:auto; object-fit:cover;\" src=\"data:image/png;base64,iVBORw0KGgoAAAANSUhEUgAAABwAAAAcCAIAAAD9b0jDAAAAkklEQVR4nO2USw6AIAxEi/GKc8nhkHXRhFSDilASF7yl4qOfiSKLRwCQBBApJamqqhqpBqCOWV6SYV4bbrDXKN4pqwsuVkSs2Lu3W4cxuHE5x3b0e0t+wPaL4sJo+xbPKck3SuGvJz9sP+fceLIuta7b77uwV40kU0r+4egobXb+joBFVWM0+of28Syx79ct/ssBX33kLLpRlG0AAAAASUVORK5CYII=\"/></td></tr></table>"
            ]
          },
          "metadata": {}
        }
      ],
      "source": [
        "class QuantizeToNGrayscales:\n",
        "\n",
        "    def __init__(self, num_grayscales: int):\n",
        "        self.num_grayscales = num_grayscales\n",
        "\n",
        "    def __call__(self, tensor_image: torch.Tensor) -> torch.Tensor:\n",
        "        scaled_image = tensor_image * (self.num_grayscales - 1)\n",
        "        return torch.round(scaled_image).to(torch.int32).squeeze(0)\n",
        "\n",
        "\n",
        "transform_quantize = T.Compose([\n",
        "    T.ToTensor(),\n",
        "    QuantizeToNGrayscales(N_GRAYSCALES)\n",
        "])\n",
        "\n",
        "train_dataset = torchvision.datasets.MNIST(\n",
        "    root='./data', train=True, download=True,\n",
        "    transform=transform_quantize\n",
        ")\n",
        "\n",
        "test_dataset = torchvision.datasets.MNIST(\n",
        "    root='./data', train=False, download=True,\n",
        "    transform=transform_quantize\n",
        ")\n",
        "\n",
        "# train_dataset = torchvision.datasets.MNIST(\n",
        "#     root='./data', train=True, download=True,\n",
        "#     transform=transforms.ToTensor() # Keep as continuous initially\n",
        "# )\n",
        "# test_dataset = torchvision.datasets.MNIST(\n",
        "#     root='./data', train=False, download=True,\n",
        "#     transform=transforms.ToTensor()\n",
        "# )\n",
        "test_dataset = Subset(test_dataset, range(1_000))\n",
        "\n",
        "batch_size = 32\n",
        "\n",
        "train_loader = DataLoader(\n",
        "    train_dataset, batch_size=batch_size, shuffle=True, pin_memory=True\n",
        ")\n",
        "test_loader = DataLoader(\n",
        "    test_dataset, batch_size=batch_size * 2, shuffle=False, pin_memory=True\n",
        ")\n",
        "print()\n",
        "print(\"train - showing original continuous images\")\n",
        "temp_batch = next(iter(train_loader))[0]\n",
        "show_images(temp_batch.to(torch.uint32)) # This will show continuous images\n",
        "print(f\"Example pixel values from train_loader (continuous): {temp_batch.min()}, {temp_batch.max()}\")\n",
        "\n",
        "print(\"test - showing original continuous images\")\n",
        "temp_batch_test = next(iter(test_loader))[0]\n",
        "show_images(temp_batch_test.to(torch.uint32))"
      ]
    },
    {
      "cell_type": "markdown",
      "metadata": {
        "id": "vdz3SYg16mO2"
      },
      "source": [
        "## Flow Matching Model"
      ]
    },
    {
      "cell_type": "code",
      "execution_count": 6,
      "metadata": {
        "id": "n2Du_EpV6ocr"
      },
      "outputs": [],
      "source": [
        "class SinusoidalTimeEmbedding(nn.Module):\n",
        "    def __init__(self, dim):\n",
        "        super().__init__()\n",
        "        self.dim = dim\n",
        "\n",
        "    def forward(self, t):\n",
        "        device = t.device\n",
        "        half_dim = self.dim // 2\n",
        "        embeddings = math.log(10000) / (half_dim - 1)\n",
        "        embeddings = torch.exp(torch.arange(half_dim, device=device) * -embeddings)\n",
        "        embeddings = t[:, None] * embeddings[None, :]\n",
        "        if self.dim % 2 == 1: # zero pad if dim is odd for a final concat\n",
        "            pad_tensor = torch.zeros((embeddings.shape[0], 1), device=device)\n",
        "            embeddings = torch.cat((embeddings.sin(), embeddings.cos(), pad_tensor), dim=-1)\n",
        "        else:\n",
        "            embeddings = torch.cat((embeddings.sin(), embeddings.cos()), dim=-1)\n",
        "        return embeddings\n",
        "\n",
        "class MLP(nn.Module):\n",
        "    def __init__(self, time_embedding_dim, hidden_dim, out_dim):\n",
        "        super().__init__()\n",
        "        self.mlp = nn.Sequential(\n",
        "            nn.Linear(time_embedding_dim, hidden_dim),\n",
        "            nn.SiLU(),\n",
        "            nn.Linear(hidden_dim, out_dim)\n",
        "        )\n",
        "\n",
        "    def forward(self, t_emb):\n",
        "        return self.mlp(t_emb)\n",
        "\n",
        "class ConvBlock(nn.Module):\n",
        "    def __init__(self, in_channels, out_channels, time_emb_dim=None, num_groups=8):\n",
        "        super().__init__()\n",
        "\n",
        "        def get_effective_groups(channels, requested_groups):\n",
        "            if channels == 0: return 1 # Should not happen with >0 channels\n",
        "            # Find largest divisor of channels that is <= requested_groups\n",
        "            # Default to 1 if no other common divisor or too few channels.\n",
        "            if channels < requested_groups and channels > 0 : # If channels < num_groups, each channel is a group or 1 group\n",
        "                 return channels # Group per channel is often max useful grouping here.\n",
        "                                # Or, if channels is small (e.g. 1,2,3) use 1 group.\n",
        "                                # Let's be robust: use min(channels, requested_groups) then ensure divisibility\n",
        "\n",
        "            eff_groups = min(channels, requested_groups) if channels > 0 else 1\n",
        "            while eff_groups > 0 and channels % eff_groups != 0:\n",
        "                eff_groups -=1\n",
        "            return eff_groups if eff_groups > 0 else 1 # Fallback to 1 group\n",
        "\n",
        "        effective_num_groups = get_effective_groups(out_channels, num_groups)\n",
        "\n",
        "\n",
        "        self.conv1 = nn.Conv2d(in_channels, out_channels, kernel_size=3, padding=1)\n",
        "        self.norm1 = nn.GroupNorm(num_groups=effective_num_groups, num_channels=out_channels) if out_channels > 0 else nn.Identity()\n",
        "        self.act1 = nn.SiLU()\n",
        "\n",
        "        self.conv2 = nn.Conv2d(out_channels, out_channels, kernel_size=3, padding=1)\n",
        "        self.norm2 = nn.GroupNorm(num_groups=effective_num_groups, num_channels=out_channels) if out_channels > 0 else nn.Identity()\n",
        "        self.act2 = nn.SiLU()\n",
        "\n",
        "        self.time_proj = nn.Linear(time_emb_dim, out_channels) if time_emb_dim is not None and time_emb_dim > 0 else None\n",
        "        self.res_conv = nn.Conv2d(in_channels, out_channels, kernel_size=1) if in_channels != out_channels else nn.Identity()\n",
        "\n",
        "    def forward(self, x, t_emb=None):\n",
        "        h = self.conv1(x)\n",
        "        h = self.norm1(h)\n",
        "\n",
        "        if self.time_proj is not None and t_emb is not None:\n",
        "            time_cond = self.time_proj(t_emb)\n",
        "            if time_cond is not None:\n",
        "                h = h + time_cond[:, :, None, None]\n",
        "\n",
        "        h = self.act1(h)\n",
        "        h = self.conv2(h)\n",
        "        h = self.norm2(h)\n",
        "        h = self.act2(h)\n",
        "        return h + self.res_conv(x)\n",
        "\n",
        "\n",
        "class SelfAttentionBlock(nn.Module):\n",
        "    def __init__(self, channels, num_heads=4):\n",
        "        super().__init__()\n",
        "        self.attn = nn.MultiheadAttention(embed_dim=channels, num_heads=num_heads, batch_first=True)\n",
        "\n",
        "    def forward(self, x):\n",
        "      s = x.shape\n",
        "      t = einops.rearrange(x, 'b c h w -> b (h w) c')\n",
        "      t = self.attn(t, t, t)[0]\n",
        "      return x + einops.rearrange(t, 'b (h w) c -> b c h w', c=s[1], h=s[2])\n",
        "\n",
        "\n",
        "\n",
        "class DownBlock(nn.Module):\n",
        "    def __init__(self, in_channels, out_channels, time_emb_dim=None, num_groups_norm=8):\n",
        "        super().__init__()\n",
        "        self.conv = ConvBlock(in_channels, out_channels, time_emb_dim, num_groups_norm)\n",
        "        self.pool = nn.MaxPool2d(2)\n",
        "\n",
        "    def forward(self, x, t_emb=None):\n",
        "        x_pre_conv = self.pool(x)\n",
        "        x_post_conv = self.conv(x_pre_conv, t_emb)\n",
        "        return x_post_conv\n",
        "\n",
        "class UpBlock(nn.Module):\n",
        "    def __init__(self, in_channels_prev_up, channels_from_skip, out_channels_conv, time_emb_dim, num_groups_norm):\n",
        "        super().__init__()\n",
        "        self.up_conv_transpose = nn.ConvTranspose2d(in_channels_prev_up, in_channels_prev_up // 2, kernel_size=2, stride=2)\n",
        "        self.conv = ConvBlock( (in_channels_prev_up // 2) + channels_from_skip, out_channels_conv, time_emb_dim, num_groups_norm)\n",
        "\n",
        "    def forward(self, x_prev_up, x_skip, t_emb):\n",
        "        x_upsampled = self.up_conv_transpose(x_prev_up)\n",
        "\n",
        "        if x_upsampled.shape[2:] != x_skip.shape[2:]:\n",
        "            diffY = x_skip.size(2) - x_upsampled.size(2)\n",
        "            diffX = x_skip.size(3) - x_upsampled.size(3)\n",
        "            x_upsampled = F.pad(x_upsampled, [diffX // 2, diffX - diffX // 2,\n",
        "                                           diffY // 2, diffY - diffY // 2])\n",
        "\n",
        "        x_cat = torch.cat([x_upsampled, x_skip], dim=1)\n",
        "        x = self.conv(x_cat, t_emb)\n",
        "        return x\n",
        "\n",
        "\n",
        "class UNetFlowMatcherMNIST(nn.Module):\n",
        "    def __init__(self,\n",
        "                 num_pixel_classes=1, # Changed from out_channels for discrete output\n",
        "                 base_channels=32,\n",
        "                 time_embedding_dim=128,\n",
        "                 time_mlp_hidden_dim=512,\n",
        "                 num_groups_norm=8,\n",
        "                 use_attention_bottleneck=True):\n",
        "        super().__init__()\n",
        "\n",
        "        self.num_pixel_classes = num_pixel_classes\n",
        "        self.embedding = nn.Embedding(num_pixel_classes, base_channels)\n",
        "\n",
        "        if base_channels <= 0:\n",
        "            raise ValueError(\"base_channels must be positive.\")\n",
        "        if time_embedding_dim <= 0 and time_mlp_hidden_dim > 0 :\n",
        "             time_embedding_dim = 0\n",
        "             time_mlp_hidden_dim = 0\n",
        "\n",
        "        self.time_embedding = SinusoidalTimeEmbedding(time_embedding_dim) if time_embedding_dim > 0 else nn.Identity()\n",
        "        self.time_mlp = MLP(time_embedding_dim, time_mlp_hidden_dim, time_embedding_dim) if time_embedding_dim > 0 else nn.Identity()\n",
        "\n",
        "        self.conv_in = ConvBlock(base_channels, base_channels, time_embedding_dim, num_groups_norm)\n",
        "        self.down1 = DownBlock(base_channels, base_channels * 2, time_embedding_dim, num_groups_norm)\n",
        "        self.down2 = DownBlock(base_channels * 2, base_channels * 4, time_embedding_dim, num_groups_norm)\n",
        "        self.bottleneck_conv1 = ConvBlock(base_channels * 4, base_channels * 8, time_embedding_dim, num_groups_norm)\n",
        "        if use_attention_bottleneck:\n",
        "            self.attention = SelfAttentionBlock(base_channels * 8, num_heads=4)\n",
        "        else:\n",
        "            self.attention = nn.Identity()\n",
        "        self.bottleneck_conv2 = ConvBlock(base_channels * 8, base_channels * 4, time_embedding_dim, num_groups_norm)\n",
        "        self.up1 = UpBlock(in_channels_prev_up=base_channels * 4, channels_from_skip=base_channels * 2, out_channels_conv=base_channels * 2, time_emb_dim=time_embedding_dim, num_groups_norm=num_groups_norm)\n",
        "        self.up2 = UpBlock(in_channels_prev_up=base_channels * 2, channels_from_skip=base_channels, out_channels_conv=base_channels, time_emb_dim=time_embedding_dim, num_groups_norm=num_groups_norm)\n",
        "        self.conv_out = nn.Conv2d(base_channels, self.num_pixel_classes, kernel_size=1)\n",
        "\n",
        "    def forward(self, x, t):\n",
        "        x = self.embedding(x)\n",
        "        x = einops.rearrange(x, \"b h w d -> b d h w\")\n",
        "        if isinstance(self.time_embedding, nn.Identity) or t is None:\n",
        "            t_emb = None\n",
        "        else:\n",
        "            t_emb_sin = self.time_embedding(t)\n",
        "            t_emb = self.time_mlp(t_emb_sin)\n",
        "\n",
        "        s1_skip = self.conv_in(x, t_emb)\n",
        "        s2_skip = self.down1(s1_skip, t_emb)\n",
        "        s3_features = self.down2(s2_skip, t_emb)\n",
        "\n",
        "        b = self.bottleneck_conv1(s3_features, t_emb)\n",
        "        b = self.attention(b)\n",
        "        b = self.bottleneck_conv2(b, t_emb)\n",
        "\n",
        "        u1 = self.up1(b, s2_skip, t_emb)\n",
        "        u2 = self.up2(u1, s1_skip, t_emb)\n",
        "\n",
        "        out_logits = self.conv_out(u2)\n",
        "        return out_logits"
      ]
    },
    {
      "cell_type": "markdown",
      "metadata": {
        "id": "qZvG5Qdk6tgO"
      },
      "source": [
        "## Flow Matching Loss and sampling"
      ]
    },
    {
      "cell_type": "code",
      "execution_count": 21,
      "metadata": {
        "id": "JBTHvzts6wP7"
      },
      "outputs": [],
      "source": [
        "def flow_matching_loss(model, batch, K=N_GRAYSCALES):\n",
        "    x0_discrete = batch[0].to(next(model.parameters()).device)\n",
        "    batch_size, H, W = x0_discrete.shape\n",
        "    t_scalar = torch.rand((batch_size,), device=x0_discrete.device)\n",
        "    t_broadcast = t_scalar.view(batch_size, 1, 1)\n",
        "    noise_discrete = torch.randint(0, K, size=(batch_size, H, W), device=x0_discrete.device, dtype=torch.long)\n",
        "    mask = torch.rand((batch_size, H, W), device=x0_discrete.device) < t_broadcast\n",
        "    x_t_discrete = torch.where(mask, noise_discrete, x0_discrete)\n",
        "\n",
        "    logits_pred_x0 = model(x_t_discrete, t_scalar)\n",
        "\n",
        "    x0_target_for_loss = x0_discrete.squeeze(1)\n",
        "    loss = F.cross_entropy(logits_pred_x0, x0_target_for_loss.to(torch.int64))\n",
        "    return {\"loss\": loss}\n",
        "\n",
        "\n",
        "@torch.no_grad()\n",
        "def sample_batch(model, initial_noise_discrete, num_steps=10, K=N_GRAYSCALES, temperature=1.0):\n",
        "    model.eval()\n",
        "    device = next(model.parameters()).device\n",
        "    x_est_x0_discrete = initial_noise_discrete.clone().to(device)\n",
        "    fixed_x1_sample_discrete = torch.randint(0, K, size=initial_noise_discrete.shape, device=device, dtype=torch.long)\n",
        "\n",
        "    for i in range(num_steps):\n",
        "        t_model_scalar = (num_steps - i) / num_steps\n",
        "        t_for_model_nn = torch.full((x_est_x0_discrete.shape[0],), t_model_scalar, device=device, dtype=torch.float)\n",
        "        mask_prob = t_model_scalar\n",
        "        mask = torch.rand_like(x_est_x0_discrete, dtype=torch.float) < mask_prob\n",
        "        x_t_formed_discrete = torch.where(mask, fixed_x1_sample_discrete, x_est_x0_discrete)\n",
        "        logits_x0_pred = model(x_t_formed_discrete, t_for_model_nn)\n",
        "        b, _, h, w = logits_x0_pred.shape\n",
        "        flat_logits = einops.rearrange(logits_x0_pred, \"b c h w -> (b h w) c\")\n",
        "        flat_probs = F.softmax(flat_logits / temperature, dim=-1)\n",
        "        flat_discrete = torch.multinomial(flat_probs, num_samples=1)\n",
        "        x_est_x0_discrete = einops.rearrange(flat_discrete, \"(b h w) 1 -> b h w\", b=b, h=h, w=w)\n",
        "\n",
        "    # final_image_float = x_est_x0_discrete.squeeze(1).float() / (K - 1.0)\n",
        "    return x_est_x0_discrete.squeeze(1)"
      ]
    },
    {
      "cell_type": "markdown",
      "metadata": {
        "id": "45klsck961RS"
      },
      "source": [
        "## Trainer"
      ]
    },
    {
      "cell_type": "code",
      "execution_count": 8,
      "metadata": {
        "id": "SGIdQ0Bw628c"
      },
      "outputs": [],
      "source": [
        "class TrainLossLogger:\n",
        "  def __init__(self, log_every_sec=10.0) -> None:\n",
        "    self.running = defaultdict(list)\n",
        "    self.log_every_sec = log_every_sec\n",
        "    self.last_log = time.time()\n",
        "\n",
        "  def log(self, data) -> None:\n",
        "    for k, v in data.items():\n",
        "      self.running[k].append(v)\n",
        "    if self.last_log + self.log_every_sec < time.time():\n",
        "      self.last_log = time.time()\n",
        "      print(\"mean train:\", {k: float(np.array(v).mean()) for k, v in self.running.items()})\n",
        "      self.running = defaultdict(list)\n",
        "\n",
        "\n",
        "class Trainer:\n",
        "    def __init__(self, *, model, train_loader, test_loader, loss_fn, extra_eval_fn=None, num_epochs=5, batch_size=32):\n",
        "        self.model = model\n",
        "        self.device = next(model.parameters()).device\n",
        "        self.loss_fn = loss_fn\n",
        "        self.extra_eval_fn = extra_eval_fn\n",
        "        self.num_epochs = num_epochs\n",
        "        self.batch_size = batch_size\n",
        "        self.train_loader = train_loader\n",
        "        self.test_loader = test_loader\n",
        "\n",
        "    def train(self):\n",
        "        optimizer = torch.optim.Adam(self.model.parameters(), lr=1e-3)\n",
        "        loss_logger = TrainLossLogger()\n",
        "\n",
        "        for epoch in range(self.num_epochs):\n",
        "            print(f\"epoch={epoch} test {self.eval()}\")\n",
        "            if self.extra_eval_fn:\n",
        "                self.extra_eval_fn(self.model)\n",
        "\n",
        "            self.model.train()\n",
        "            prog_bar = tqdm(enumerate(self.train_loader), desc=f\"Epoch {epoch + 1}/{self.num_epochs}\", total=len(self.train_loader), unit=\" batches\")\n",
        "            for i, batch in prog_bar:\n",
        "                optimizer.zero_grad()\n",
        "                loss_dict = self.loss_fn(self.model, batch)\n",
        "                loss = loss_dict[\"loss\"]\n",
        "                loss.backward()\n",
        "                optimizer.step()\n",
        "                log_items = {k: v.item() for k, v in loss_dict.items()}\n",
        "                loss_logger.log(log_items)\n",
        "                prog_bar.set_postfix(log_items)\n",
        "\n",
        "        print(f\"epoch={epoch} test {self.eval()}\") # Final eval after last epoch\n",
        "        if self.extra_eval_fn:\n",
        "            self.extra_eval_fn(self.model)\n",
        "\n",
        "    @torch.no_grad()\n",
        "    def eval(self) -> float:\n",
        "        torch.manual_seed(17)\n",
        "\n",
        "        self.model.eval()\n",
        "        total_loss_vals = defaultdict(list)\n",
        "        for batch in self.test_loader:\n",
        "            loss_dict = self.loss_fn(self.model, batch)\n",
        "            for k, v in loss_dict.items():\n",
        "              total_loss_vals[k].append(v.item())\n",
        "\n",
        "        torch.random.seed()\n",
        "        return {k: float(np.array(v).mean()) for k, v in total_loss_vals.items()}"
      ]
    },
    {
      "cell_type": "markdown",
      "metadata": {
        "id": "lCpPoaxB67PO"
      },
      "source": [
        "## Train the Flow matching model"
      ]
    },
    {
      "cell_type": "code",
      "execution_count": 22,
      "metadata": {
        "colab": {
          "base_uri": "https://localhost:8080/",
          "height": 1000,
          "referenced_widgets": [
            "a791daa0472e44b39bd9d28e5f12771c",
            "58f62ad9748542c3bf37ce6e47f6d5b7",
            "ead74539726646af8f7a8f7bef463a81",
            "155661884904413ea995def76ca7f777",
            "40ceffb367834121b7f92eb7994a9562",
            "53f0aaff118a4a60a3206669b4815686",
            "58667f0c09f249f3ad1da4e80928c7dd",
            "8272600ec3d940c2a23d356a35cc5300",
            "bb363ae62a8e403291c237670d1bed5e",
            "d3a900bec0e3453da3e8ca179d599075",
            "10a6f4b7342e49fe9d977887cace2740",
            "7667520e2af74533962bebe21f039a4f",
            "65b57673635c4323bc265ab75fae5f05",
            "e24aef2ce50a460c9c5d1a191e647bf2",
            "31f5428c32124e00a715e2db83d203e5",
            "c01cc91315624120ae0088b5dc08d657",
            "5a2fdf956002442eb7ebbdf2a2579607",
            "878e51b73a3b49beb765af92a41ccf2e",
            "e5849091bfb3427e836eff92253b178f",
            "57dd741ce516489081c574d5ace08e44",
            "b7dd3e0da3a948a9ae734fb4fe07fc74",
            "b8bf658f986442fcb47d79611d96a800",
            "430b0e91f30b46e0b2cd50c015556f30",
            "d0d721ad10ea4fcb914d4ba5da7f4d4e",
            "e5888e86a90242c381144e90e5f72977",
            "75e9713379d64db4b015bcba6a61418e",
            "8a893264d2524caf806c455508a76271",
            "6e3920eadc064825904be83f780c6a01",
            "8e625efe2271419eb9be0143c2a12b85",
            "8ae388cb40c84871a4893183c925950f",
            "75130986e8ad4fc19817604615feab21",
            "3fb0ec5cc8634d62bf38b0ca02d2256b",
            "263591639fda47418a1097b3234f0477",
            "04e5e12412b645fa8d3cfcd23523eff6",
            "3673a1cd81f14de980be17204f1deb8f",
            "ec9e21d0d113434180b2fbac5c7a0160",
            "c0fbad0359774e308c4a6ba0d8c04ca3",
            "6e330bb8c7074aa3b0cdc31c95b0a686",
            "dba1cd180b0345c385119ac5533c961f",
            "347e6f3f9b2e434a87de16300b10d7ba",
            "3a6fa01a9d1140b18f3ae7a858572c91",
            "ddd6c4d03dfc44e2aa47e70fe1963f61",
            "5462015082de47d3bd85af27e73611d1",
            "0d17e18aa99d4fe3bf5e5f4ffe1ec571",
            "7b7f3f15fec04bde8e49861fada7eaad",
            "4ddfc2a0b4ed4927a6d212cd2d7b5b92",
            "331e78c472c24d52b16ea2ed5cc069a0",
            "f7011ab1728e42d980cd68acd0f044f3",
            "aa5df5e1c5d448f6bb9896ddaee88fa6",
            "f5aa0017fb5948b39c53540c979b5bd1",
            "44cc7ef981c9425fab2c6262b690464c",
            "37465911047e4502b3cac7c40b9308c0",
            "ee6522f6d8474982bdae55447d8e1284",
            "284329254cf84e178ee3268f39bc4ef0",
            "8c6b300889d94f8c9ac57115c957316f"
          ]
        },
        "id": "NAX1KZ1Q7Aqg",
        "outputId": "ec7eb046-3a92-4aaf-ca43-2cf6942feb3d"
      },
      "outputs": [
        {
          "output_type": "stream",
          "name": "stdout",
          "text": [
            "epoch=0 test {'loss': 1.5773299187421799}\n"
          ]
        },
        {
          "output_type": "display_data",
          "data": {
            "text/plain": [
              "<IPython.core.display.HTML object>"
            ],
            "text/html": [
              "<table class=\"show_images\" style=\"border-spacing:0px;\"><tr><td style=\"padding:1px;\"><img width=\"28\" height=\"28\" style=\"image-rendering:auto; object-fit:cover;\" src=\"data:image/png;base64,iVBORw0KGgoAAAANSUhEUgAAABwAAAAcCAIAAAD9b0jDAAAB90lEQVR4nG2VQZbDIAxD7bxeER/SHNKzUPqj0GHRR8BgWZZodPdaa601MzMTEd09M8tGRMxMd2tLvxGhYD+r4OzuvXd3Z2Z3x3soaO+t+d57rVVVvhsRVTUzVaWYmO9Q/gMvdeg8n34jFaig8DjwCy85FOrJFK8wahdj+g3o04QbnS9HB7lgdPgvpF7+cUYr1Otp2PUGzsyT7cnzrdf7q8V/a4J6RJKKU1sFJDN1Rl32ds+MlLD31hF90nqFXZIUJzMTjAyA13fAxt2ZCDJV1SN176z31KXm9MGAZ3VfPMyiIU/jAjjafXjsnnhzXADgYlHQDlUd6W9aKP9fGRyaJTc8Iizn5/KT6pgEQARm0xPhSkC/VZWZCCOcGpchJeuYIzpudDY1LpqIVKtq752ZVQUhuld66m52IUFy1PrHVUbc8cphEDcrN+rNfHnfPw5xUDL3ujZ85XmfIiLiw43CIrCaC5oPOdhXcKfiBf/ShguIOH80XYweQ+Hu3ZcSnXVvupeJzuLrzmOlu9MvQol6dcjkpRxZea7U1XvL1YeA/L34XXRTua7Zekhx/3iLDxc6gkMVJE73jGSv0rA/f92qDh93t8vDOXn+KcES9hKC9/AuDXQ2uOGSIxGaY8RU8qWXohbhb3VSk6oKR+fEQcKvlzCL1wQPM/MHWPE6Ko/obYYAAAAASUVORK5CYII=\"/></td><td style=\"padding:1px;\"><img width=\"28\" height=\"28\" style=\"image-rendering:auto; object-fit:cover;\" src=\"data:image/png;base64,iVBORw0KGgoAAAANSUhEUgAAABwAAAAcCAIAAAD9b0jDAAAB40lEQVR4nHWVUbYDIQhDcfaIi4RF+j5irxnb1w+PQ0FCiBhrrcysqqqKiKrKzLWW7PphjAit8tQqizaKerpbMXPOzIyIzOzuMYbCIqK7tVbVGENHd7eOc88xRmbGhXStpT1pgamN/+tRAruBCx1Fvf77VZ02vio3dEXEo+Q6148WG3POOWdVdfecs7tFhSrVCjk0YNfrhbPHAtf0ytlgf06Q39Vipw9yDhCzOLlyWGsdBp2ES0NXWwDupOsnz6HjRRyqQkBOFoTSECfXLaetgHV2EOBFIoFeKM6PUikbbPIpaGie1jsuVAEhj4cRIw0hYd/jILWR28/dVVyse4svomj0xYwL8VEHSP4fWJrj6MS+LAoXmY/80BBj4uJOI4YiZMcYdgP33acQtOka+L5XLgyy8rlvlM9NFAanpOHTBy7n+lh5yAMWOHIB6ZPrAPtkgutdd31mOEVdIwZVXJcCfsB4Rp1L6mfMej8h6z3IKfHIy7sECd+zyqfcd/eobyPwW+8K9yfE+x6fgeJu7pOZ4eh8KADt6nLZ0PEZ5NS/nlbn1MfSBfO7RU7u5tQZCXus1vtR4NwLB6WcZjpBP119g4PX64WfO+m0+sh56c6BvN8S18Cu2+VyXi7Xh40CMpHDseP5BySpZrfFADVUAAAAAElFTkSuQmCC\"/></td><td style=\"padding:1px;\"><img width=\"28\" height=\"28\" style=\"image-rendering:auto; object-fit:cover;\" src=\"data:image/png;base64,iVBORw0KGgoAAAANSUhEUgAAABwAAAAcCAIAAAD9b0jDAAAB+0lEQVR4nH2WS3LEMAhEwZUrSoeEQ5JFe57bylS0cEk236ZBjmVrZiKiqtZa2sxMVVUV79da2ugr7yWjY0SEzGlhvT5Le9xgiyMWpBsR18x0d3dnZndLLjMlGhF777DFERMy192o3Dl+Tec4SgGUlJkcKBs9I+JSmHK7964qxdLde2/s4l7BSliKmJbizCRyyhq8ZddBUI6CSy9BSZ/YXIJSEnJw4/JZkqP0FEBxUChp3f4wdLAKAnhZQZPngfKNqRwSoOMLdsROTnpCO9DXyqpSdlIAb0zPjKwAN5IICBPJ7L2fmL1zSEdk8i4YWwcjpT4zF8z4x/9X8lN6V1xrZeYFXsCXmdrLLQSSMrB6O0heiq8QOHsLeRcdUHh0DsXMPBXwcsFtSIpvF6AvsKDj5aAcs4PQHDU37YrkXlWJiSMc1/eGkWOorTqLdqAcTM/4tAQIep8cg87H2LJxrHWR3cxAe7llypCpdzrgSl4gPBR0V/HuAiLye4GQYf7B/2cu+MXgt8jRSH+vEOfTbXC97zinm0fkG2fCca1J/Ye5qyqjRllBXKRRDb5yi6+vgQKO5PXA9LmUPGpyOnBPYuGpoMCaPpn3XURTKSfY0t0XcmAku9JEH+ZxtciWFuG/etE5cUxML1HZogAghtgPs8MrS+w+9Hzy+wxChn+RXxZO4xt1OslFAAAAAElFTkSuQmCC\"/></td><td style=\"padding:1px;\"><img width=\"28\" height=\"28\" style=\"image-rendering:auto; object-fit:cover;\" src=\"data:image/png;base64,iVBORw0KGgoAAAANSUhEUgAAABwAAAAcCAIAAAD9b0jDAAAB+ElEQVR4nGWWSxLDMAhDIdMr4kPah6QLJa8KzcJjY8xHCNqMiKqKiL13RGTm3vucExFaJZeaJH5ca3W3Xq21XD/281VVd3e37qqqqvbe3a29NrzkiSR6G+5Zdx44JtyQhKySe0DTIlFjRWF6RP7hBs3ufr1BQ0dZGWk6CAMN9tnd4L3Wohr4OOeccziqjOhQUnmVqZRDXWivUoK1HmSmol5rSSKjOiogKXd3eIL6lH4/n/ZeOhD/h1VPPmSkKMjOcZCchKjtIKYIe0dKQfDsZSFq2KpVdkkOYgQFoZpIMDeQ4YoVqv2YAFI8dpbQUc5fxeVMIgPZubzEgjUzKZ2vdNo5JzOFu4jh8u6+dAHdvB11FGkiIjO1l1xl8QYhskt+qKkz33MnfZgvi4pO/qS21gpA9EkB870jfVyBr1eCer6ahxTUryDgnTraj8xouYC0TgsnqQfr3PIWcvLft/s905wxLmTj1PkHTQ5SD9SIo1YMLUaUtzJGmXBgEnCQBAcOI3zX5C1Fu5MgijFrycj73R2g5jHp9uPdQq23/TQqLw1Zqfn+l++DRmbGiCLev1eeptdn8NSt36MPBJ0iPqWo7JhJ7tW74AelNw+Qu4PhzMdN2bSsqs9oJzKilx01JplY1c9/E2/rqrrgoxuSKtH5vx2PwDmrVpaFLxhmDZBhJUmZAAAAAElFTkSuQmCC\"/></td><td style=\"padding:1px;\"><img width=\"28\" height=\"28\" style=\"image-rendering:auto; object-fit:cover;\" src=\"data:image/png;base64,iVBORw0KGgoAAAANSUhEUgAAABwAAAAcCAIAAAD9b0jDAAAB7klEQVR4nG2WQZbDMAhDcV6vaB8SDskslPlVSLNwHccGCQTuiojuPudU1d47IvbePj/nRITme++1VmZGhNa7W3MtRkRVfbq7qnQm7DnnyKI28DgCHdFO3ETEB/Oym5mau2etVJUWBwgx4+taK7o7MzMTz1qBGta1p7s16lUjm7VygUKMIJuZ4i5nMo2DtRanhIk0BLgY3S2gZLS7oeWL4OV1KfCedEKGc1aUk3fQ9So79zox1ZyYjqgR6BFKz8p9Fl6QJadEA1BuDgdIGCjXkJgIiqP0+PYBIm3GzUPp7tk5Eg04YhFmwER/mXn5N3CROuVBkKUeasGLBUU+8H5jbKnwKAN5RGDkU9su/eANZQgvYiLK5A28qI0SvymMnP58SDGlEc8O4FSCqnedvrU5SkgPsB7C8tCMkU8AGdkflf3l4TEecmGTFz48SOOwu/e+XEB0LDUh8hMRay1NRploM02DmHxzNeI1BO889IT1M9/wCLNzfKfbq27E1Gv/3tzW4f2MJ6qtk+LDFxkzM7x+Rzcb0XAsnpx83ijdHe5hCBvrbuunbF0zN1Kn4BzbusGANiZusbvXt2CtkLlvw651zbsbwelvgASH/qrqor95i9Vch7EuUPKnSf/fb/l/w1N44ZRHbZCxUan4GN1Epv4AP9BrGOIOkHMAAAAASUVORK5CYII=\"/></td><td style=\"padding:1px;\"><img width=\"28\" height=\"28\" style=\"image-rendering:auto; object-fit:cover;\" src=\"data:image/png;base64,iVBORw0KGgoAAAANSUhEUgAAABwAAAAcCAIAAAD9b0jDAAAB6klEQVR4nGWVUbaEMAhDqedtkS4SFtn3Eb1m0A+nQymUJGBERGZm5nke/a0q1r6ICB2JiKqSp5y1CDzYJhzJtFA+zhN9GJX+0k93K6Jc994R0d0E3Xt3t4zy4VKyyGGtlZnvHo+ScwWS+X0VVBfSEfdfAORv5d97n3P23m7UWpXx977gc/xP6GibqnUXWYgiCwsFYuFYBdV9cYDxwa+vcYDnl3q4G7EcZXmC4MgH4pl5hwBvCsf1G1q5eSPBNzHa5jDHgMX14OwTjgi3xRMSF7y8nbxMv9fornPO31rLyR2SZlFVay0ayVWlt3dBeFPClQPvVPjtHGJvk8wMB9T59Yahum/hX21V1UWZ55zuHuVI0tpC+eoRRR9dc9M75MYzGp8KXMg/jD/Kqao/75+1FkSp8bWAEFrTaQQ6ttY5RwJwnY5+1XDBzjTobpBxuH56nMKHwqndSacPnSVFWFUlmP3+QM70wwGIBlyA9lq4Gv1DlK90xvXLPhkyXvpBTKLCsY/fqeiCk/07xS/AdqJdd/08TiByZubTKVX1UuFS9Ur9ANQ5b2HzTD6XNwlfRLjSYe0OkYslqnEJvcnTvvg+ZVy5GFEVF+f4XX7YJE77BPiE5/GsY87GM+ou9KjafTIyRPwzQ1wk6bqW5R/akSKDAQoSZQAAAABJRU5ErkJggg==\"/></td><td style=\"padding:1px;\"><img width=\"28\" height=\"28\" style=\"image-rendering:auto; object-fit:cover;\" src=\"data:image/png;base64,iVBORw0KGgoAAAANSUhEUgAAABwAAAAcCAIAAAD9b0jDAAAB/ElEQVR4nG2VUbaEMAhDwfO2SBdZFsn7iF6jTj+cjlIIAdKcmcycme6Oa3V3VbFZa+29qwobbbp7763nWquqdCr0s/fWvqpmZu/tT21mJiJ47mt9bUIe9Z9QwkXIqvJjHBYUOdVG9scJOKK7lZR7lDuR0N2ZmZndvdaKCKWsPWtm7pRBpICChndQkDWnfjDATingwrMGhTPgxnWt0w/nqYw2wsVLBQApOUGlM/unH5El+qBYRnAty74WNpkJszOz1gqvOzG9dUjNWXNavAd06sjMtZaCq8kFWZwwBTQJ9rjTRki7e2YOmBIoeXk1Cvl6A1AJqMAygUBYgNxjd535WgJTBmcM6kjTeRjny7vn7vMrBowHzYhr72q6Sm9YtJe+uoGcpMsMqiM4P3UrTJwUGPZhIMBMFg6fyQGmC5gzQ6mrKl6ffw6YrxcIn/rHRL2kVxsp0Fe/RYunpTaSmWhJJu/VPQh+XBIng7WWkGo6fS4IdjAJDBWgxJG8uIbJo4f36yczb7n2KsGUk+vtSbd5h1KxhBdXeHqIjuG94/KUtaQbd6Hc1Msl0uGXoj2uz8udpO8Pa9mxV0E1EXL9khjNC5EegJzBMAHlLnJZeI2vD6jfBeEekQwfm/25/lzRweGK87jLKB8b7wq8e2PER9jO9P3t49tTlX3Avzicz39oPjKoE5p0DgAAAABJRU5ErkJggg==\"/></td><td style=\"padding:1px;\"><img width=\"28\" height=\"28\" style=\"image-rendering:auto; object-fit:cover;\" src=\"data:image/png;base64,iVBORw0KGgoAAAANSUhEUgAAABwAAAAcCAIAAAD9b0jDAAAB80lEQVR4nGWVS5LEMAhDYaqviA+JD8kslH5WO16kYvwBJIFjZqqqv6OqqmpmNI2IqoqI7p4ZppzSj/brW1WptbWWDuy9uzszdUVmyq67ImLvrW1YNDQ9dkWET10hz7paP2SjI2zwkGX/m5m998ystRSyUth7RwRGTQlKU33lZu9NEk+k4KLgNXXnpEKYsvDF3t0fhTMzmT/4ZmZ3ExFJEDKMOejPKn7mOzgDcK4BWFZajjKp/Mk/zBKvh8y9BC6UCVAZSCrd/QEdHdA+HZCxquRYgKy1tJSZYtg5PMMF7D/OBln7KhIEkEfd9R3gIAQI+ZK3MIFupQwHyuOE6VVwZXAR4j9OFyUeFIbrFKm6ilGllzxTbxcHLK9R7sJOghf07ukUiG/11Lyu/Mw7/avPxXUexnHDvwse7JwJx/1DN5EM2QRX1AVi8IpE1DSNJ32g9BbpJDhX3mgcWa/jH51yKZrFTvMmDy2FtZsTk0sKHPH5DvDCMawlnhtcgH7vJfU3hy5VNjxe6/fVu0j36p5X1XtFebGeCsEhCbrawvoxLDtcZSNhKey1oVlwRdgDgcV7ipbEWMyr44U9PmPNxe+6aFBkR1tOyFhbvDBte5CB+NLpkdSbBK9rfHghzKsxX7X/cUBBUxYQnBk96wpCWPvT7+UwM/9xUnff1DokVgAAAABJRU5ErkJggg==\"/></td><td style=\"padding:1px;\"><img width=\"28\" height=\"28\" style=\"image-rendering:auto; object-fit:cover;\" src=\"data:image/png;base64,iVBORw0KGgoAAAANSUhEUgAAABwAAAAcCAIAAAD9b0jDAAAB9ElEQVR4nGWVS5bFIAhEwZMt6iJxkfSg8m5X1EGOGj4FFBgRMeeMiIioKo7dXVW60Zq/1d3djUpVzTnZdPdromy5OeljSHuZ0AYoWKyq5DYi1lr6l5ndvdaKiL03MnvvqtKNjrKLyisPNPcPCjJzZIMUEbgLpG4zP5DvRRDcAHPvrQgkFhEphzKq/VprzikrWOxuohZS2dLGw3pNCazwKy9kQ3vqI2EiBbuHWFUPNJJnB06wupddqqeKOcyq0t/HzWnvlBQWBPbeMNTzAALth3vTrXJK1oHvavrrefNiDlmkUKT1JsNBz5c9mZlJxSQwdIDSQncE6P7IoCQFba11sCogk5f7/jpJoT1sCRsdw0OmGg7wxhXffpUuEX984hnnR3Kdnt7c8Zs7qKdaxRvj3mTmwTYnQFxr6IeqrzpK2fceKdbF2aOjJPk4Q1H2hrnRkWhB8XEhu+NQU8gS0vI5Qink8siS3Oy9/1uFOjDhfdapaD504L8z7wVHiZ3kHH0aeUcyt7z6PDzJoPQKaN4wAeQ4M3lU4jtSj+Qkfebl02g4rDurfDb6SNR6vG2cQ26FJdR642A3Wv/cIh3+JvsRaZLrJfU3goo9pENhevsjel96vNLy4T08OzJ9kx/HxCutY1rSioPKECyN643vjeANBljQdPcflnKFwAnwRYcAAAAASUVORK5CYII=\"/></td><td style=\"padding:1px;\"><img width=\"28\" height=\"28\" style=\"image-rendering:auto; object-fit:cover;\" src=\"data:image/png;base64,iVBORw0KGgoAAAANSUhEUgAAABwAAAAcCAIAAAD9b0jDAAAB9UlEQVR4nI2WS5ZDIQhEISdbxEXCIu1BmZuKyaAdeNSH/KrAl3vvzIyIvXdEzMzMREREVFVVzWt0t87XWnvvtZa23Z2ZVaXFubn31qwhOS5IWlb7NbSWVa5IsqqeEZGZMqLPVeUaq0qfZqaqcJDtWosrxyHUy7hOrxPJsCU+vNatt4COvkV9yx1PQr0GGtD7lBzgaDEzAlCZUXTCBzC7WyegFO6dLOimJ5QZDPFdWxTx6ZBBH5xGjgNzd4OMUOXEhc+J8uJZQzUEuhjjZPIFc3pC5YUWkF8LTjTPjJgkf3Hl1I5njeTioDPMbeDyRbt3TmXKCUyyYP4F8eWp4lDtVtWN71WLpMzjcNqTfUxW1YNOkZmqORxXirW4iKzhnciL7UTtNmG7o+zp9uQ6f1Hyzqmj7J3tJwHEEGyzPgt30FU4snh6tT7PJjT/IL/3U2+RRO0BXvTyi90d20oYLc4+ihoDAOWEwY/uvinlpfkd3RXy1Wio9SSQb9prTdv3WgRPp5owP2X6n07sbPeuzC3H9iEO6+gnya84nPMi0ForM+nuEfGQKSJypZRWWdMEcX+iQV96HvLOn3WG1Lk9f13C3jcJqKyPHmgUVpreSuKzwJ1GnmhsPPfnW0aM7ppXLYP/FGmQ5InDKeYJ+u4sXqPx2ZWpSQn8AaWyErDW6e/0AAAAAElFTkSuQmCC\"/></td><td style=\"padding:1px;\"><img width=\"28\" height=\"28\" style=\"image-rendering:auto; object-fit:cover;\" src=\"data:image/png;base64,iVBORw0KGgoAAAANSUhEUgAAABwAAAAcCAIAAAD9b0jDAAACB0lEQVR4nGWVQRbEIAhDYd5cEQ8Jh3QWaX8z1kUfVUAIATMiIqK7qyoiZmat1d0zo52IqCptRkRmSj9sVVVmyklmRlVV1d7bXSPrqLv3vTjyTd2B7be7M1NxzUxEyFJyd6+1ImKtpX0PX4LHPjPd/SEvnGbmWkvXkNTee+4lF5J1pU4RUr50LapKXB6B2PHde6+1CJbTK+S+lwwOHJEFomyA3jGVpswf91ruCG0go1bI78v23o+eLsEXhabKnB6OdMHjMSK1K5goi+AHYsoK0A6iTpWQbL+yhxnOU3HgzXPsuU8BqXpX+ng5ACVNrxWA8EXhr/pA5hXAkXwRoKPs7YR8eYdPR0ei54V6h88OrPp46b0smSmU9evzBcTdBLWZecKEaIDlxKI4Dr1/Xfnj7uK1VFn4xPSj9NAIeWY+ay22EFyDKeXccqCcWw8pidxbBT44k7yRXIGuvzap4LvlncLuiyCIC2JcTX+MHChyeCfM45S0nK1fhq4ItO9x68NbsKpcB7e0NBD6fiZSiein7rdPjlQBdTRMQFYE1BaP3Z3KF6e0o1M67EH1ga/8rnF3z6Oq+iocn2aioQyUlF5GKtP3G6NgpQZuj5K3s/dG2Ej3No//Uc+suXpfgDqBqAlP3tFRTimWt3ISdtnT6A8qKLMUhG8eTfVMsPifZrxd8T9hfY44ID7If5gsBuMBnyNnAAAAAElFTkSuQmCC\"/></td><td style=\"padding:1px;\"><img width=\"28\" height=\"28\" style=\"image-rendering:auto; object-fit:cover;\" src=\"data:image/png;base64,iVBORw0KGgoAAAANSUhEUgAAABwAAAAcCAIAAAD9b0jDAAAB+0lEQVR4nG2VW5bDIAxDRU63CIvEi/R8KL1R6OSjx8UvLMtG3T3n3Ht3d3dL8smcs7v33pZ9LilVe29J2OCu1DmcFeTAAZVduAoX8nl3X1XFLfjGGJLWWt1tA0kIfFVlS8trrap6zMicVTstF7dlmlGfBcoStVAjaKQPyFIjmQDwVTGn2THL2UDntlkaZ3EWPt09xrAaOMYY/rvWypKJuPeuqjmnf9daPrejaCjNzS7Tkyw5UTo4cMdJGgIuUIIU0CedM3EafKrKCKy1jqKczHSpKvuDlZFxdONmCkoaDkG7rUs5sbYKl4Ozvt/NO8oB2eQTZcK5ZNIzml98JV1UVN8vJ9oEGGNklw9wDIW97goSbJqYZETIAT8Osbd8GW9bW3a2HDB/Hu0cVldp3H3iUi7XgikOrlrvPZIrI9cdZtZe+i4YdMhgSpQD69xJYDjnvNL/V81vNsexslcu65nmBJ5YqNk1TCdbQ7EwE+gbUyf/bX3Ovq9jN/a6r8xEMJAjnbNp+m9+YLFx33ub4xjf6yqXSJIx35yj0tTm1D1kQEfc3PDsN3yOPamfN6K7Bzqz0htLsXuSg+RgeQNRAvgBMhYgcdleDgfih0CEh85HLYonCw7N92sI1ZJz6fIhm2/HEup4k48xw942PFD4vh7uo2M7XtaD88d9j7frD7qcA9u8j4eYAAAAAElFTkSuQmCC\"/></td><td style=\"padding:1px;\"><img width=\"28\" height=\"28\" style=\"image-rendering:auto; object-fit:cover;\" src=\"data:image/png;base64,iVBORw0KGgoAAAANSUhEUgAAABwAAAAcCAIAAAD9b0jDAAAB7UlEQVR4nHWWS5LDMAhEIZUrSocUh2QW7Ty3SUYLl2TxbRrsjIi1lp5VpX1EVJVvzjlVdc4Zt2utzOxu6WbmOSe6W6LdvdbSU8dzjq7wypXEJCBJ3ep4KZzP0l7WcaA38VkEIRNEw/5NIHtvTy0z5XnsWcoUHPbeRPD21KQmuRHa3tsxBVDMYT2A0u0qWUcTMaUJPkPYEQuvDEc0R0GkCfr+xNMLQ1VFItgF6IE4UHQ3kre8xw9kgyg/2eZcdPnuvsnkxHQFfJA4DHMoHai7XNKnYjoSBUwELkcWZ5eRwXlnvvcJUYOAEx6LevlSfVxBdRAxYWJ3qwXC5kBmqgukgkCAhdcE5oIpyAxKgRJad/pEPkBw8pPNqPVPoO95QdT/6XiAJOGtqKtXd/vEhNsgK8i8BTQ3xXaPSTWoqmu+SmKtxbABRDpNtz50XIyZsvd++4UH5XK8ccceh9xI+OqoMW7pGQj4zX/vFGqLfCqcY+MWqkpT4YMJ8CEvowJU7H6FNfj6rEcLP3mKS5JjqAuWu1MHXXzEkPhgos+RMb3utiGi0dSo+Z7282YhoQz79i77iNPd0GDZF0n6DGZnYUQkBISVulD4Pm5AE3yHOfmoqsckDWvBkRfph/1nfJfh5qnTBYa6m4eCkSF+zZeI+AMrLxZgBICh5QAAAABJRU5ErkJggg==\"/></td><td style=\"padding:1px;\"><img width=\"28\" height=\"28\" style=\"image-rendering:auto; object-fit:cover;\" src=\"data:image/png;base64,iVBORw0KGgoAAAANSUhEUgAAABwAAAAcCAIAAAD9b0jDAAAB70lEQVR4nH2VS5LEIAxDTVdfEQ5pH9KzUOYhyNRkkSJg/JFlJTJzzjnnjAi9I6K72dRaZpmpBcaZqXdmYhndrZta6M7lSJ+yYYGxAhyL7s7fhzs69uAyw1h5aEeLJ8eIiBgEWWspeFURdq0FJlpnJptVxRUMqipITcfkomBkAXwUIWPvxF5T+9UTx/f/7uGEwKO7lfycc4zhSY0x5NENfId9T1ObQRXvRLw/nF5dvWw2pegmMUDZSeb8ezOMbJ7yqZ0SNj/Ghugp7SQG5OnutVZmDgghOwKOMUhW7h66vECETPJbVV8lBUllVFU6riqZ4sVJrbwoa3fyPUu4dp45iLpPf8iXdsXVnLe1K4AT/hIRjnY67jrP50+PntqlFZn5id/hZeqFFwrAIKy1fFO9Bl/5VRv+FsQrL+jp4MBfCL4Hlw4wM0y0e+QIBXCsrlufqhpjUF2YBgoEr047PgJhjzB8xtRV3TXcx5lOerudvIekMdfXwpXUZeEtAlfI7v6SvHqXmRpQQNAnR3Lhc6iL/t7QuOj5e57/Qe+eI+tTN6b9dlx72CEX74zSh7P+K9uhHEF85fmPcUy560UA9JY+QYbH6xGTNEXAh4CJecT+EAcBvVDWI9p7Q+LUUxZrra1PLjPIxCUoEcdYe0shVmb+APBOCWtgqunOAAAAAElFTkSuQmCC\"/></td><td style=\"padding:1px;\"><img width=\"28\" height=\"28\" style=\"image-rendering:auto; object-fit:cover;\" src=\"data:image/png;base64,iVBORw0KGgoAAAANSUhEUgAAABwAAAAcCAIAAAD9b0jDAAAB6UlEQVR4nH2WSXLEMAwDyal8kX6k9UjlAKfddlLxYUq7QACkpvbeVXWe5957750G3ZlJt6rSmJm0Z2ZmspJ2Vc1McUSOZs+pL9uygTUs829OL27IENcynik+wvIWRhLfFxDq58vOtZbHZyYj3DQzx3HQXWud53kcx30K7ADBKBwjdz9IFPybU6az1CusG2t+Q0Hnmem9d3dD/1qLSKvqOI6991orjaw02KrqbmS4Nt6SqX0HIifQeGkIwPs++xTRbBpQoK+9CUVQNzNfa629d1QDb6TsbuKFEHTPKd0dBh62ccL8zhk3jB2w3sXUp7sBixNDeboJgs1RMhhzGVEG/hWTDeEENfCXpC4LhnyJZB0cy5+hUWXsFqYY+Zj7KPOSxbmIK0tftsTIOfdjA4XmUOwTw7t5tJdRMlAu9f/JZXNtM0K6laifovGwPXMcDePoyU4nmN32FqpU2Zx8t6wSx+v3s6Teiehktaz1fAiMCCpMy6MiQO7LVc5x+8zhj56PC2npdXKYxkgo5tSnE98N1olIt/QE0LZKr4wi3A/gu5vk5ReHx7+xIc8XJSpVnOrxLtIGYh7Npg1HZK4J10PC/S+TepCPaguU7k7gV3y2kfmd55vx8iZtZp115bNGf3LsU9Myz4rnZEGDbwnwVMzpa0bvAAAAAElFTkSuQmCC\"/></td><td style=\"padding:1px;\"><img width=\"28\" height=\"28\" style=\"image-rendering:auto; object-fit:cover;\" src=\"data:image/png;base64,iVBORw0KGgoAAAANSUhEUgAAABwAAAAcCAIAAAD9b0jDAAAB80lEQVR4nGWVSRLEIAwD5dR8ER5JHuk5KOkohAPFYmNLXpCktVZ3jzHGGGsttp4t4JnD7kbFo7ut2N3aJLpb0ia3WcohCavIv+ynUxZK5dyi5SvLg7W8l3Sepy/YWsjnHK61fOVzn3jBedkFSVVl+5LmnPk6xuacOOFtuvlogRrIsHkR9GYN7ji3Kx4+KRTwC7zgws3uNiBQJyagHPjiAdl+zgBtZq3lF1n7NrHb64IRXPC76YJ9zFBsNgjghTITEGZXDHgk/58kv/MM89cLW7ZTVChnhgKWt6iOjPavqowIgKSEt5arukIKLcSzqmzPLI0xDnxEbUtPnrZVzxY2xVskJL0CZYUtt6yTC1viibzyOLaLOed5D2o8g55JxjCHD0SYzmohVe1XrtkyE2paXZlNgJu+tOyFwSZMygwDjuEY4zBMcsAKZA81mgI2sDUawlAW3dodjlAwnIAm0yuN5QsPnGz11DIllJ0sG/n2TUjvvr21NUWBfn+arZqRry3FKKHkrru9yAyDVn2ap7J+1/3zIJrYYaPj64XBjg/4lzSTydRysk5uKZoDtyTceZ4P67CG/a1/bzmfDRBPL3ussrSYiQkCWVGQkG2wu4/8Y8nhOaf7kO6m9w2j3p2MLjXnPPTpDoovD1wmi3aT34HuqqkqL/7y498r4MF53AAAAABJRU5ErkJggg==\"/></td><td style=\"padding:1px;\"><img width=\"28\" height=\"28\" style=\"image-rendering:auto; object-fit:cover;\" src=\"data:image/png;base64,iVBORw0KGgoAAAANSUhEUgAAABwAAAAcCAIAAAD9b0jDAAAB9klEQVR4nGWVyxHDMAhEIeMWUZFQpHJY53mt6ODBiD8Liqrq7ojo7u6uqr13ROzfEa0riUVEVSHZvyO6qh5lcUXsveUMQofbwzrCYl5rLd3NzN57raWLiJgZfRUjTElmZnevtWQxM+Wsqq6wI33JydDMdLcMwZGM+IpDYtgNJSijpKDSeL76+q0UYXoD4uBSRNQo4lE+8vN+3LTCpPbenyMPTDseiAYURcRH6ay19t7qjJomTapJLCDJu8evrH3ocmaKVqPEUUNkUVdyo1t1LDNF4+BSII4Sdw4YyEACajS/QO3GaUSQO6DxjACW/7oVICWvM3N5ERWXQ89NKzplI5Dqizq4jGM6ZcVnDvSAp0PS+37TjiEA7KiWGjMGHhkW8PAqGvXyoDDnPv6HB5dY91YHnqFJDWnffj4gYXP1GD0S8ZRdE6PU191wleqgB/sPKbrv7RbhKHzGFGW/FuBnRkOVmZoObzTu5+98sIiCCLavL2mNMkExvqrbk/Gx3LxeXntvtEPiEL6B0e+HyH0ca81hAN8R+XTCMQ+SHA+HgoOXeF34GVMdh7cvczKl+piL94Ddzv5jJDSfYI+o308Zwri/2FosU/YT8NIvj3n8NpYjxOH8erbKHrv4TZ6j55g0XyW+rj5rLR7xY3iF5OP58rJ6Mwi2u7/v6RScPeZ4NwAAAABJRU5ErkJggg==\"/></td><td style=\"padding:1px;\"><img width=\"28\" height=\"28\" style=\"image-rendering:auto; object-fit:cover;\" src=\"data:image/png;base64,iVBORw0KGgoAAAANSUhEUgAAABwAAAAcCAIAAAD9b0jDAAAB70lEQVR4nGWWSZYDIQxD7by6on1Ic0h6oeqPQlgkDEYeJJxEROy9Z6aqIqKqZubanJmZ0Q7LqtLp3lsXI+Kd+M2qkoXG3ltAQpQ/TTjVRWGBc6IQECEAwSaBeOCC5vTNBjjiciDCd9+OIjcYvO6JiJI5BKbEKAjhekCe6PGjlL1kYMmaInr5QB8byfFa69AXwfJ3f2a6G2jNdaTTOylSY3gdXSGuisO7jytx0vxlhpsuCc/9EEUIAKEqkqCI2DuxLthjx80rHJeXF8E3wdX4MOvutZY/vr33WovAMRAzEAhFJProuLslAOfR2QdI/GruTyAiMlMgR1LaJdJLVdoXKFe6G0SWVfXoKzO9pu4WlyhUm7oiM07l8q2pypeZ3Y3DsE7osUNRd7tOyezD2vuQ5+tVwxPEZqYoUSjv5t6bdyZmlYWThif0SzXJ3fMIF5D3t+vtXiL1efy/qPhvVw8h8Clr2GCuCiqVzHTeXTAzk4J3MXnuXhbdF+nYeFnkqao+1/vV5au340nPxjOjuPIhnK8soBjqPARpCGYUo4fiyZ2e4qrELf6Q5MXe9RsRNBRi8cJ7ZaFIxiqF5OkNQex/uObq84bibdDb2NVZeAuj3/3w/mpZIFuKQ3/Y3/8tcKzl4+/kd4IeIQQBuDyojBj+A2xbzQwGV+HXAAAAAElFTkSuQmCC\"/></td><td style=\"padding:1px;\"><img width=\"28\" height=\"28\" style=\"image-rendering:auto; object-fit:cover;\" src=\"data:image/png;base64,iVBORw0KGgoAAAANSUhEUgAAABwAAAAcCAIAAAD9b0jDAAAB9ElEQVR4nH2WUbIsIQhDw9TdoixSF+n7yPQx40w9P7oUEQMEbI0x5pySmMw599577zGGhSxTaE1PJFnHwr8xhkXe81JSd6+1rCSpqjg/56wqPcNnrewrjzRBceeOgQLW0bm+mnPaNr4w8bU4gYQjuesjb0CWGkiiZklAiKnlIACHL3sbZXF78YQ4s8TXaqA70ZReTsgYo7u7OzPAZd09xsit7s7srbUOTKlAtNayKvHyt6qwa4tOtG/tbltIhT8sEqDkR1Whavlaa+9tBSM1GgttqpxNH864+LxvYp4AEwQ4bF3wKZnocc3/X2+ZzxcEcrCvm/Obw6Fk12eraq1VVYcQMDSXwPdAR1FLKLCl1AYpqcf6RdtkqycIJb3wiBRRcBcHsz8lgcxxzr5rH6/TnZ8RUFQkudXTjPDspadyIL/pluTXU0LeRQ0iZjK7+8Tx6gBIsv0ktzJiV/cpEDl2lIcLxvLsfgihFB6c2gMIEclv0uuiUep/N+WPbjg+e7Bt4RchopYuFh+fMrOZ9GzDPys1uZlBL6/plcyT/9+xs5C2BAFOAtLr/fnAZUV98zeXjPcyk5NVC132z9dNB5Ciacw5X3pqDl9+XBsPovVNuwxoHizu5y2h5NM6pTWfJ4SXDcJ6ebwEPOFTNATk+vy9yfJLLv4DsjfveQkRqfEAAAAASUVORK5CYII=\"/></td><td style=\"padding:1px;\"><img width=\"28\" height=\"28\" style=\"image-rendering:auto; object-fit:cover;\" src=\"data:image/png;base64,iVBORw0KGgoAAAANSUhEUgAAABwAAAAcCAIAAAD9b0jDAAAB7UlEQVR4nG2VS5LDQAhDwZUrNoc0h2QW8rwoJFmk+gM0SALHOeecMzP3fc8M64jQema0vu9b/7KMCJ1HBGa6SplWlQLp191hv+7ubl6qKq7OObrKzPu+ZXmdc7THLjPdRwsM5EbKWhMR+6c0VU05CuRo+AlwceXIJLG1UDkLB3mSI/86/5EmCQK2FiIQciAB3mS5yITAYK/8tdUJdt/IYElOQJRsVClEU3h3V9XMYOC8gwPn3Z2LXFfMMl1cO+ISjB6uqudaOlVEAqE71m8qrDjgynxov3ShRyAUopwHZQFExCItUnmC8ghUkIVbg6zKojIyE8Qv6lL+rjNCC5zu1tuuZef5jQ/1Iknq/T73HkPUuGAWH5tPPetZKmWBhN3etfw+xZOkPCMIif92YlTyGKEviQ68vQUEcWauCdvd8s9M7wjE8wLm1TMuyTUbRRQuLJjLl/rBqfe4elylcKX3/G1a5t2QTvoaka4EZiPQ+xZAA90sBx/4ayq7Cl2nsBcRF3AgQ9oD2XuDQRR0wfvHZFgkIC9XjOvGsyYCQWbm8gLlBkWCfE2mqsrMqqoqx4rEq2rD76idX98Mbr2/HdaZeXEt+BisyJYEdSjlHfvcL2E8Xj41SMpTcBw598nrtzMTx35LH0sr39/U9e0jiT/uweL96vF+9AAAAABJRU5ErkJggg==\"/></td></tr></table>"
            ]
          },
          "metadata": {}
        },
        {
          "output_type": "stream",
          "name": "stdout",
          "text": [
            "Generated sample images (min/max): 0/3\n"
          ]
        },
        {
          "output_type": "display_data",
          "data": {
            "text/plain": [
              "Epoch 1/5:   0%|          | 0/1875 [00:00<?, ? batches/s]"
            ],
            "application/vnd.jupyter.widget-view+json": {
              "version_major": 2,
              "version_minor": 0,
              "model_id": "a791daa0472e44b39bd9d28e5f12771c"
            }
          },
          "metadata": {}
        },
        {
          "output_type": "stream",
          "name": "stdout",
          "text": [
            "mean train: {'loss': 0.25546213551362357}\n",
            "mean train: {'loss': 0.21424549015668723}\n",
            "mean train: {'loss': 0.20240490787876042}\n",
            "mean train: {'loss': 0.20091412401230466}\n",
            "epoch=1 test {'loss': 0.1895612608641386}\n"
          ]
        },
        {
          "output_type": "display_data",
          "data": {
            "text/plain": [
              "<IPython.core.display.HTML object>"
            ],
            "text/html": [
              "<table class=\"show_images\" style=\"border-spacing:0px;\"><tr><td style=\"padding:1px;\"><img width=\"28\" height=\"28\" style=\"image-rendering:auto; object-fit:cover;\" src=\"data:image/png;base64,iVBORw0KGgoAAAANSUhEUgAAABwAAAAcCAIAAAD9b0jDAAAAtUlEQVR4nO2UwQ6EMAhE7f4jfOTwkeyhCSHYQqsmuwfnqOFlHAaP49VvpaoAHsMRkToR0V0iAD3pFvGM67qeQ6AE7iyET0L0XkSEmVtrIlJamUKJyBth5pK1BPUG7bl3utcBi2845sNd5VolZ/v1nV2CLg7sQe3TkhqG6wJQoMuDGV5XcWCJzWAw4bYwae98MQGISBmfb97A6a5WM01UbyZotocOAnDl59SH+07MzgO/5Ff/qC9BxpuedeA84AAAAABJRU5ErkJggg==\"/></td><td style=\"padding:1px;\"><img width=\"28\" height=\"28\" style=\"image-rendering:auto; object-fit:cover;\" src=\"data:image/png;base64,iVBORw0KGgoAAAANSUhEUgAAABwAAAAcCAIAAAD9b0jDAAAAmUlEQVR4nO2USw7DIAxEh95xfEjPIdMFkkXTDy5Gahd5ywheZhwCcHGRwN2PAXcv6UiGi2TYSVYDjor+cFH60hjBS9LT5ulMbwuvASDJzBZSAk9Nq8XHaMcjU+O8vplJKuV6x7biIzGEzOKWlIautfmW747UzuHGQJPrU0n7x/llzBQLt+en+j0jAEnbuvezWb3hT+z8ef6UOzU9uW2Qvc3nAAAAAElFTkSuQmCC\"/></td><td style=\"padding:1px;\"><img width=\"28\" height=\"28\" style=\"image-rendering:auto; object-fit:cover;\" src=\"data:image/png;base64,iVBORw0KGgoAAAANSUhEUgAAABwAAAAcCAIAAAD9b0jDAAAArklEQVR4nO2VQQ6FMAhE9d9xekh6SFygfGIsYK3RhW+liYzTzlSn6eNZAAxWZGZmzujOecX/zBxM/TKKO3dE5D+fcmptrmOu2dip+qq1llLkImOlCQDJR6SJSG79Kc8pAGvzkjtFfWlQvOEXK5X+4fuuioovKySJ9aApyXrZEFa1CbcZsPyzdIr6DQuOKQBJadeh8JuSRWsbpvT0ntpuDvsF3FKpfDjn9rT/dL6UBfn9nKF2p23TAAAAAElFTkSuQmCC\"/></td><td style=\"padding:1px;\"><img width=\"28\" height=\"28\" style=\"image-rendering:auto; object-fit:cover;\" src=\"data:image/png;base64,iVBORw0KGgoAAAANSUhEUgAAABwAAAAcCAIAAAD9b0jDAAAAhklEQVR4nO2UQQ7AIAgEtX9cH4mPpAcST20FXNMeOkejE8WFUn6+g6qKyBbv5fqRNgJ48CZRVXIFAJCNIsL/JXu41ZQD/5pvGgM59RcxHP7ee/TILRZMZ/94b2pvb63RpABCqfRK/UavdMD8pehAys/TJRKtWac7RjZrnW82trSpV8ScnjlOUZxivbMXtYAAAAAASUVORK5CYII=\"/></td><td style=\"padding:1px;\"><img width=\"28\" height=\"28\" style=\"image-rendering:auto; object-fit:cover;\" src=\"data:image/png;base64,iVBORw0KGgoAAAANSUhEUgAAABwAAAAcCAIAAAD9b0jDAAAAuElEQVR4nO1Uyw4EIQiD/Uf4SPhI52BmYxR5mDlMstsroZYWAfjjVyAiRFRoIKJ2Q0RMxl4deT+lB1ZFpsaA1FRnVrMOTLNPbWO1tZZihI1fa3VntyfTz+dQZsiYJXVkroypiHa72VeqLUjJBICxp+dORCLylelnaGOdcYfa8qsqM5slZkZEAEBEVc0qhfu39KnLsYSY/H2AMbxSJoKDMg5bs89hPLMydU9VtSQzRbrbrUM8E/d7cQH8s03ruwCHywAAAABJRU5ErkJggg==\"/></td><td style=\"padding:1px;\"><img width=\"28\" height=\"28\" style=\"image-rendering:auto; object-fit:cover;\" src=\"data:image/png;base64,iVBORw0KGgoAAAANSUhEUgAAABwAAAAcCAIAAAD9b0jDAAAAqUlEQVR4nO2UsQ7EIAxD4dRfTD4y+Uh3qI5DbUhJynBDPTAU6dUGk1Je/ZUAALh+/0RBRLTCz0Aigq9OWzWBMyPX+kNNQVtkIrrGV1Vmjvk6YvZhe4lIDHdYM1l56C0RQLgMpq9HNkeHuNjmPHEb2XT+p6ptDUAdMbOD8zTKO3kzxkBxDiv8chrRtJl5OU1rqtPL7GbC482QzkwgH5ojnqGtg6qaLOOrUnY4VFf7gXmGgQAAAABJRU5ErkJggg==\"/></td><td style=\"padding:1px;\"><img width=\"28\" height=\"28\" style=\"image-rendering:auto; object-fit:cover;\" src=\"data:image/png;base64,iVBORw0KGgoAAAANSUhEUgAAABwAAAAcCAIAAAD9b0jDAAAAmUlEQVR4nO2UsQ7EIAxDQ3W/aD4y+cjcgBohlR5JmuGGemIA88AGoldBAfg94Ug4AlDVrXXAUU8x8920T9R0DFprj+hMzLxlHArfKRH13lNUKzkxyU9qXiKS55ploZfViKaIVLXY0Y+5r5vR+bvpDaqyRuPsnhrFHCtDN8YyzGsxATzdYP47EiVdt+S6XkTGA80/08q4X/2vvjobkJaqIJrOAAAAAElFTkSuQmCC\"/></td><td style=\"padding:1px;\"><img width=\"28\" height=\"28\" style=\"image-rendering:auto; object-fit:cover;\" src=\"data:image/png;base64,iVBORw0KGgoAAAANSUhEUgAAABwAAAAcCAIAAAD9b0jDAAAAn0lEQVR4nO2TwQ6AIAxDh/EX+5PbR+KBZCG4TVhI9GBPHuCltJXo1xcEAECtdTOuiZnNY8cqtweJSN6gqnbybFLC6Yxmocw838wz1MMlA+2L1hz1G4B38QyIWsWelhvx3vLgfQ2qxOGNk5OybXpe8jsNotzTeBDoQqb9aMwlZWK92wnkQYpplohEpFXvjbwU4+6CmHlIIPidMtqM+/WmLr1ULAdYl5/oAAAAAElFTkSuQmCC\"/></td><td style=\"padding:1px;\"><img width=\"28\" height=\"28\" style=\"image-rendering:auto; object-fit:cover;\" src=\"data:image/png;base64,iVBORw0KGgoAAAANSUhEUgAAABwAAAAcCAIAAAD9b0jDAAAAqklEQVR4nO1UUQ6FIAwz3nEcsjukfiw2PGAykPh+7JchrrTdxrZ9+BdE5LjQ/XmPk6qqfQOYV0cAOH7xlDE3HuTt2xeRofM+KSstUFVlsjekHUZLs+iM2V+glOAFM0rz/rA+P5wcrLq4mK1hsRTFynpaPbHtTK1FkYubYqNrCqBZP5BA7bSJMftBcBGWkaaUPFIXucfa+OSOerF6HYuiePQArHmevUn88DZOsVscGP8cRGQAAAAASUVORK5CYII=\"/></td><td style=\"padding:1px;\"><img width=\"28\" height=\"28\" style=\"image-rendering:auto; object-fit:cover;\" src=\"data:image/png;base64,iVBORw0KGgoAAAANSUhEUgAAABwAAAAcCAIAAAD9b0jDAAAApUlEQVR4nO2VOw7EMAhEYe8Ihxwf0ltYithYyyehS17lxsPwMSZ6NFy9ICLrMMa4GxzANAA41G8xf3FEP3nRhnxPiEjSJpWcWnzXWVFrra0O+dyznOapX7FBdP7hevcBHOee5tjB3Ctg4xWc2gSr7fa2lNMTZu+iV9PLdSyLqmoYLFjSewX8xBfB22dm60tVQ0XKfCfWbMYmhU57dsfOmnx/2l8sX+54u4gvC3cxAAAAAElFTkSuQmCC\"/></td><td style=\"padding:1px;\"><img width=\"28\" height=\"28\" style=\"image-rendering:auto; object-fit:cover;\" src=\"data:image/png;base64,iVBORw0KGgoAAAANSUhEUgAAABwAAAAcCAIAAAD9b0jDAAAApUlEQVR4nO2UMRLDMAgEj/wRHnk80i7UMDLGkqUmmWzJmB0QYODPD6KqJFV1g4skySOw6lXVI6PwfkakS0WlxrTMxl2W1NIiE4BInn7bfqvxGnf3+E1dUy7tiDtAcs4IoNuhzdNvxK4BmFkXeSPt6nq5Z+0iZxsfIp3VY9ZD+yJiZjFSPOWo9Mp+6d0JTbO07SnxrvYbt/0A455OJVaDcveRWX8zJwqZ+zpwMi/YAAAAAElFTkSuQmCC\"/></td><td style=\"padding:1px;\"><img width=\"28\" height=\"28\" style=\"image-rendering:auto; object-fit:cover;\" src=\"data:image/png;base64,iVBORw0KGgoAAAANSUhEUgAAABwAAAAcCAIAAAD9b0jDAAAAjElEQVR4nO2UUQrAMAhD7dgVvaQeMvso9W+tlgwGW36lj0StIr/eIFUFYGZMKAAAqkojmlmH8onz7Mce3d0n1VZiRerWZg8LTsnjlrFGyRFlncYCzbtZU9ikrWdkTxJT8fkjkpE9j147DRZtRNVudi2cMk9REKvdXIt/5eSJYxzZN96edwV3Z37zL+kCeKR+pUoO6GIAAAAASUVORK5CYII=\"/></td><td style=\"padding:1px;\"><img width=\"28\" height=\"28\" style=\"image-rendering:auto; object-fit:cover;\" src=\"data:image/png;base64,iVBORw0KGgoAAAANSUhEUgAAABwAAAAcCAIAAAD9b0jDAAAAl0lEQVR4nO2SwQ7DMAhDk/5j8pHwkd4BzaraCRLEtB72zollY7f257cAABA+O9YVxxiUTpq6K+KE/3jDKem9F4vOORM+PiMiAERk5XEmfg1siQPwCU5usO6wIiOOT3eVFW0FX4LXLFNsb5uLSyLeTRlZVfO+LtjgK7PzmrvZWzgpVX32kkw0EdzDDlqpSN30X6+or5h9Fi9gkWy6ai0NogAAAABJRU5ErkJggg==\"/></td><td style=\"padding:1px;\"><img width=\"28\" height=\"28\" style=\"image-rendering:auto; object-fit:cover;\" src=\"data:image/png;base64,iVBORw0KGgoAAAANSUhEUgAAABwAAAAcCAIAAAD9b0jDAAAAg0lEQVR4nO2UOw7AIAxDoXf0JcMh3SFq1pjKVRfelAGe8iGMcfgXABHhNJKMCJJOKQCSinTq0tLN2dy6RCOADNZa7WFVWihSlRyROCW1p3pDh1j+VkNVaeGUVqYVGOCDTVqLpBv78l9k10tfvPZeav7rEvOIxuZ2quToncbkk54edrkBQJJX0N4DFgEAAAAASUVORK5CYII=\"/></td><td style=\"padding:1px;\"><img width=\"28\" height=\"28\" style=\"image-rendering:auto; object-fit:cover;\" src=\"data:image/png;base64,iVBORw0KGgoAAAANSUhEUgAAABwAAAAcCAIAAAD9b0jDAAAAk0lEQVR4nO2TSw7AIAhEa+84HHJ6SLswJQTtB3XV+Fb+GBHGbVv8E5IA5mgBIJkNo9JOrkDy7vzefROAnPNQcElNx1/yfVfUpGrdsKhWU9syqmgf7u54N0BzT+Nt1Vw1Y66yhSuRtU9jVnWtAFA3J9z9ptWfcQr95n9ggqiIfBU9LlJKZarr9oyI2JUwPT9ysZjCCS+0Nf/ZZrjdAAAAAElFTkSuQmCC\"/></td><td style=\"padding:1px;\"><img width=\"28\" height=\"28\" style=\"image-rendering:auto; object-fit:cover;\" src=\"data:image/png;base64,iVBORw0KGgoAAAANSUhEUgAAABwAAAAcCAIAAAD9b0jDAAAArElEQVR4nO2USw7DIAxEQ9Urjg9pDtkskEZuAuZnZZVZIYxe/Jn4OF49L1X9/QtAJI5S1S2uqgK4fMBP9utDRaQctkpuCYDNNAY6NahO+XellLpvPiMgO+uS6W6LL92McRURhWK9tcglonrZGtpQT3POPAMQEXszJ3azmo4T8vzBqqs2cqL98keMOQr1J8sol8OQWr+53VjTluKUuPqKwkwav6QtiImvE1+t6QQHiiUWCmxlmwAAAABJRU5ErkJggg==\"/></td><td style=\"padding:1px;\"><img width=\"28\" height=\"28\" style=\"image-rendering:auto; object-fit:cover;\" src=\"data:image/png;base64,iVBORw0KGgoAAAANSUhEUgAAABwAAAAcCAIAAAD9b0jDAAAAeElEQVR4nO2VQQrAMAgEk/7RT+ojt4cWyaVkpYpQOmczQdaYMX4aUVUAqpopBQBARLaVR1SdKXWXmeVLGUqkk6wDcB+Y+yPhoBhYKZOP09d+KCVW+uaCR7DAvP2+9JlwwoiIt8/U96W/Tn7JPs1cfSVcH1Ta5H+aE5FlQfIj4/+BAAAAAElFTkSuQmCC\"/></td><td style=\"padding:1px;\"><img width=\"28\" height=\"28\" style=\"image-rendering:auto; object-fit:cover;\" src=\"data:image/png;base64,iVBORw0KGgoAAAANSUhEUgAAABwAAAAcCAIAAAD9b0jDAAAAn0lEQVR4nO2USw7EIAxDoXf0JZNDehZooohfaWDXeoUiYZ7BIqVPyxIRAIcdSZK89b3WTQ8zJodJ8pipOXreEftSfBEpi5yzqlbDiAAURu9SbiPu2wa3Y0ZNuIlvLKpqwXdrUBEB8DVY6WwtH7OdTBxn8ds9+tczujnpaPhA3Zh2p8E+jeoZfKLU+5N88C3MruI9rfq4yzjx3XX89AL9AGr9JgYtMXWXAAAAAElFTkSuQmCC\"/></td><td style=\"padding:1px;\"><img width=\"28\" height=\"28\" style=\"image-rendering:auto; object-fit:cover;\" src=\"data:image/png;base64,iVBORw0KGgoAAAANSUhEUgAAABwAAAAcCAIAAAD9b0jDAAAAk0lEQVR4nO2TSwrAIAxEtfSK4yH1kHZhDf1Q8zHQjW8lYoaZJIawWPwLAAC1A+D9ZldptcOsr9ypd+gm56xTvMb8Qm18YNCoSE5bfLqcUhzbV7eSVWRtbnJF2ipP5N2MKtGzJjJV0vg0mZSS3McI+gWeQ/ffTfs3H2BQZAZFeUspdl8PKLu/onY+oj31zN7W01B4AO7S4zaK3hzCAAAAAElFTkSuQmCC\"/></td><td style=\"padding:1px;\"><img width=\"28\" height=\"28\" style=\"image-rendering:auto; object-fit:cover;\" src=\"data:image/png;base64,iVBORw0KGgoAAAANSUhEUgAAABwAAAAcCAIAAAD9b0jDAAAAfklEQVR4nO2UQQ7AIAgEtekX10fCI+mBpDE96GLopXbOOFmEUMrPBwFgZiICIE0qImbm3mTj1HuQRgB8ywEpWcni83kwqGeThliUquo+0ujoV5K21sYFlRT1O1Tr5NUZMqrq+DedcPuMlCL5MpXuOKUZyxsx71OSZnSSY27ABdAgbsHsmMW3AAAAAElFTkSuQmCC\"/></td></tr></table>"
            ]
          },
          "metadata": {}
        },
        {
          "output_type": "stream",
          "name": "stdout",
          "text": [
            "Generated sample images (min/max): 0/3\n"
          ]
        },
        {
          "output_type": "display_data",
          "data": {
            "text/plain": [
              "Epoch 2/5:   0%|          | 0/1875 [00:00<?, ? batches/s]"
            ],
            "application/vnd.jupyter.widget-view+json": {
              "version_major": 2,
              "version_minor": 0,
              "model_id": "7667520e2af74533962bebe21f039a4f"
            }
          },
          "metadata": {}
        },
        {
          "output_type": "stream",
          "name": "stdout",
          "text": [
            "mean train: {'loss': 0.19969260673781838}\n",
            "mean train: {'loss': 0.1955519162602239}\n",
            "mean train: {'loss': 0.19408576536660244}\n",
            "mean train: {'loss': 0.19090774543967443}\n",
            "mean train: {'loss': 0.1920909532873901}\n",
            "epoch=2 test {'loss': 0.18285615555942059}\n"
          ]
        },
        {
          "output_type": "display_data",
          "data": {
            "text/plain": [
              "<IPython.core.display.HTML object>"
            ],
            "text/html": [
              "<table class=\"show_images\" style=\"border-spacing:0px;\"><tr><td style=\"padding:1px;\"><img width=\"28\" height=\"28\" style=\"image-rendering:auto; object-fit:cover;\" src=\"data:image/png;base64,iVBORw0KGgoAAAANSUhEUgAAABwAAAAcCAIAAAD9b0jDAAAArklEQVR4nO2UQRLDIAhFoXf8HBIOSRdOGWsaVMbu8nY6k+ePAkQPKQBU1d3dXVUPGEMXFL19tDsA7BlzXZBIXpV/ISKi5B7qUgB3lzBKzYyZRWTYFBFmNrNyiIz+DVeTTunD7tVAToQ9lpS+w56RttYoRBktSY9VzjjSYEXjkndlpuxJC7p5zOn3qtoqtD1RLAO+Gn+eZGZRnnsTQFWT0ln3jEn7gQbAPmxEe/gHb630votlB5ZuAAAAAElFTkSuQmCC\"/></td><td style=\"padding:1px;\"><img width=\"28\" height=\"28\" style=\"image-rendering:auto; object-fit:cover;\" src=\"data:image/png;base64,iVBORw0KGgoAAAANSUhEUgAAABwAAAAcCAIAAAD9b0jDAAAAfklEQVR4nO2UQQ6AIAwEG//YT+4n66GxadQmUNbEA3OGYZcqIptNjaqaGQAAlgCgqk3dk7ADWJJ6rogW3mmpb86u22GdpBV8oxdnGqN4Z+4VS/N55ZOYfGPEHFl8jEsXIhXwv82p7nNG/k/JnHt+QznGXJwck3mVciVlGn/HCeBO0THC/8FyAAAAAElFTkSuQmCC\"/></td><td style=\"padding:1px;\"><img width=\"28\" height=\"28\" style=\"image-rendering:auto; object-fit:cover;\" src=\"data:image/png;base64,iVBORw0KGgoAAAANSUhEUgAAABwAAAAcCAIAAAD9b0jDAAAAmElEQVR4nO2USwrEMAxDnd5ROaRzSM0iIMq0TOLGhVJGuyzykOWP2V9vEwCSJAEkE0m6ezKxK9njTALbkKhiSymttVWPZiZrHa3ndaIKl9mE8vWz1hpyM8jUzE5z/B1uAApA3pe6L+3HYEnqkvqTsFRfi+Tux3m4yO1Oe4j5N0XQoc3ZRoUUg05GeYvTmCZH6gGZRi/L4/UBwaHCZ7vsBz0AAAAASUVORK5CYII=\"/></td><td style=\"padding:1px;\"><img width=\"28\" height=\"28\" style=\"image-rendering:auto; object-fit:cover;\" src=\"data:image/png;base64,iVBORw0KGgoAAAANSUhEUgAAABwAAAAcCAIAAAD9b0jDAAAAkElEQVR4nO2VwQ6AIAxDp/9YPrL7SDwQyQQlQurN3nZ5NKUDs19qbc1M0szc3d01JwDIp0gCEEBJ5qsEXADRrNgygMa1hmud8XKHMvQnaRRQDESWhl3roeRaCESZcuTe+t3XoOMlXoRWrtKprFhVsbkanKZV/Tsw3aeCeAItbuqY9dJg+51UdBxTShO+fn2hA8SgDBqGxEntAAAAAElFTkSuQmCC\"/></td><td style=\"padding:1px;\"><img width=\"28\" height=\"28\" style=\"image-rendering:auto; object-fit:cover;\" src=\"data:image/png;base64,iVBORw0KGgoAAAANSUhEUgAAABwAAAAcCAIAAAD9b0jDAAAAqklEQVR4nO2UQQ6AIAwExfjF8sj2kfVA0mwE66KJF90jhe2UQpfl11ekqiKCK2t+QETc3d0PxxLHa1OS8SzlQIE5JFXViB5CG+NuZmaGK2hUa2UxkaXHTCrIFLWrKp+MxexDZ8lex8Smo6mIhGOOOeh+bzRBxJAyYrM2QMb9fh34eZpRS/noZsj+TCh5XjeFhfMPs+Rh/FGlXGwOZfMU0aZGETWk+9H3K9EOjkYmD/dH1QgAAAAASUVORK5CYII=\"/></td><td style=\"padding:1px;\"><img width=\"28\" height=\"28\" style=\"image-rendering:auto; object-fit:cover;\" src=\"data:image/png;base64,iVBORw0KGgoAAAANSUhEUgAAABwAAAAcCAIAAAD9b0jDAAAAvElEQVR4nO1Uyw7EIAjEzf4ifuTwke6BxLDYIjY26aFzMirD8CR68RAwczNwr+UCHREB6DciQkS11m0aO9TZTsbWmtX+WaIL5GgSNqg7U7qH0QXxjRmdfxHRMJnZsmRjBxDX135IlR6AtRnztcxIRHEFXKKzMmMDl5k5o1Vx2CVXZFqb8clpzPZmN3MGjtG1lMNfnwKwX+159JFdS2NvHmLKk10oChEpZb6CozG1XDqIa6tI4QZpYVpe3I0fERComzD5K4oAAAAASUVORK5CYII=\"/></td><td style=\"padding:1px;\"><img width=\"28\" height=\"28\" style=\"image-rendering:auto; object-fit:cover;\" src=\"data:image/png;base64,iVBORw0KGgoAAAANSUhEUgAAABwAAAAcCAIAAAD9b0jDAAAAqElEQVR4nO2UQQ7EIAhFnd4RDgmHpAtmCBHtSGXV9C+JvHzwa2uvkgIAERGR2YHjBhEA9lwFovxERAU4I/7FJcbXqZkZEbcMqoiobGTV+tRp4kWAoq526tNTs8c2H3wrqnY/sXJjJ19pm5ryy/UiooRr/8AjqLO8yvXZ9M3W7+s5m8OXDgCeuJrfWU+HmxE/Q2g3ETMb1IqIaPW006iCkPobL/6eXz1RJ4xcROOU7HTZAAAAAElFTkSuQmCC\"/></td><td style=\"padding:1px;\"><img width=\"28\" height=\"28\" style=\"image-rendering:auto; object-fit:cover;\" src=\"data:image/png;base64,iVBORw0KGgoAAAANSUhEUgAAABwAAAAcCAIAAAD9b0jDAAAApElEQVR4nO2UOw6FMAwEEeKKvuTmkFBYWOBP5JhUEVtRvIzHZHnb9mfBEBGAybjzDgAi+oQ7g0TWRx/HqRtZotrXlR0juq+PxYtQOWN3VxtkiXLGvQe1hEvY7Rmxa6250Kxd3iJTKW0qsZo8MiP36qmaDIDR9bZ2vpwoqUkAopLbDP+zcBml9mI0rJmZ9IR2fhnevguVZ7fCFWg+RdNpmXxF6+YCi8FT2dU9mW4AAAAASUVORK5CYII=\"/></td><td style=\"padding:1px;\"><img width=\"28\" height=\"28\" style=\"image-rendering:auto; object-fit:cover;\" src=\"data:image/png;base64,iVBORw0KGgoAAAANSUhEUgAAABwAAAAcCAIAAAD9b0jDAAAAo0lEQVR4nO1VQQ7DIAxDU78YHhk/Mj0gRVFLQ9JlmlTVJw7Udu0ArT0NzCwiIsLMy82fICmA71ydQERisNwfckpEuu6933dnoR4jgf6JUdNMMS4ytWnWkCojgFQ/P3Hq0WlFZdTOuRx6zJwWm04SEalYesjsv48vD3R+MlvQtSN/vmvm7Vv9spYO19IV0ge3nrGZkZrCzyRUlGJ0AqD+IXjxFOx3SQwvO1AmcAAAAABJRU5ErkJggg==\"/></td><td style=\"padding:1px;\"><img width=\"28\" height=\"28\" style=\"image-rendering:auto; object-fit:cover;\" src=\"data:image/png;base64,iVBORw0KGgoAAAANSUhEUgAAABwAAAAcCAIAAAD9b0jDAAAAv0lEQVR4nO1Uyw7EIAism/1F/Ej4yO6BlLCoOLZNT52TiTC8BrbtxWMgIiLaDzCzPZj5DJ1RJCAilBGhm/J+kEgiUmvt1gRlGvro2+e/8ky/SVIiMoqtNonBmQoucSn89G5gbOV1Q45dGWkkndKCWhWgZtd4fR9z3uAYJTWCV89yyTi8yMJXucJrdKX88cTdt/hTPZoBtFeIzv3ooBb7e9w6hHVAF6y9RnqupkpCkx0hT3A4fXWz8m0a3Wv9wuMHbn+9g3a0/rsAAAAASUVORK5CYII=\"/></td><td style=\"padding:1px;\"><img width=\"28\" height=\"28\" style=\"image-rendering:auto; object-fit:cover;\" src=\"data:image/png;base64,iVBORw0KGgoAAAANSUhEUgAAABwAAAAcCAIAAAD9b0jDAAAAhElEQVR4nO2VQQ6AIAwEwT/2k8sj64FIjKYbspZ40Ll3XMpGSvl5ETNLE7k7AD8A8NTepXcA6MZzxgtiXmLsRIObeAoZHpOsNUyaVqD5pPz2xZ221vKlOlHzSZk6YtIlO+Uw6ZJWkUrx71UuDccqG1R2yku6SsqIeqobh3f8VRMekm+wA8evByfx4JY+AAAAAElFTkSuQmCC\"/></td><td style=\"padding:1px;\"><img width=\"28\" height=\"28\" style=\"image-rendering:auto; object-fit:cover;\" src=\"data:image/png;base64,iVBORw0KGgoAAAANSUhEUgAAABwAAAAcCAIAAAD9b0jDAAAAeUlEQVR4nO2TQQ7AIAgETf+4PBIfSQ8mpodGF7KJF+dMhkWwtctx3B2A2BgREbEue5Q9CwAYMd19XVlJamYyKb+fdNJtzIQUgPiSGn1MOci9D6jx5+C9d71UBn/zk33SQswT0tprJqTk6vdSXpSQfu21Bv/of+elwAs0P0fo8Zh4JgAAAABJRU5ErkJggg==\"/></td><td style=\"padding:1px;\"><img width=\"28\" height=\"28\" style=\"image-rendering:auto; object-fit:cover;\" src=\"data:image/png;base64,iVBORw0KGgoAAAANSUhEUgAAABwAAAAcCAIAAAD9b0jDAAAAmUlEQVR4nO2USw6AMAhE0TvOJZlD6oKENLUf0G5MOitj2zdUB0S2tpbqGC8DAFC9JEnypaGqXn2p6tNvIgB+2D0AlE6+FNX0mNFzXIOO99htolyrIvLJIt7prc1iz5BJX81sjaDpnzuGmn8z+ZVyUfVI9uotM5tDO9eq9oeqtRLEktts016nTgZKiRYRkkb5NFO2Fis6KX6sG7CEz05BxCRhAAAAAElFTkSuQmCC\"/></td><td style=\"padding:1px;\"><img width=\"28\" height=\"28\" style=\"image-rendering:auto; object-fit:cover;\" src=\"data:image/png;base64,iVBORw0KGgoAAAANSUhEUgAAABwAAAAcCAIAAAD9b0jDAAAAZ0lEQVR4nO2UQQrAMAgEY/+4n9RHbg9Cr1nBElqcs4ybLLjWcBB3J9ksJUkSwHbyat78nlQFQD5fGVaTKl9ZliYR0S8V+ZkUwBT1BenTklhXLWmnNCKydzMrhdiQV8rdleGj93TQuQEoLicJIcm2jwAAAABJRU5ErkJggg==\"/></td><td style=\"padding:1px;\"><img width=\"28\" height=\"28\" style=\"image-rendering:auto; object-fit:cover;\" src=\"data:image/png;base64,iVBORw0KGgoAAAANSUhEUgAAABwAAAAcCAIAAAD9b0jDAAAAqklEQVR4nO2VSw4EIQhEy74jHBIO2b0gmSGOqGAyq66liY9ficCr/4uIROR2EpFT4h2IiKJbVzmeiETcOtS4RSgzZ7lraGEsR+UDGLZ1AZ2MGAAzt9ZyUCKaQyNdUTrmeX+iqqpaiPElDq1u3tzx/0CTx7MD3fJptuoFdN7HYqa/xJofANfTDtENsAi17Wn26rZqOuVoh/pIOSJG2/7DKhI7tKeffiSvynoAujQLODIr9JAAAAAASUVORK5CYII=\"/></td><td style=\"padding:1px;\"><img width=\"28\" height=\"28\" style=\"image-rendering:auto; object-fit:cover;\" src=\"data:image/png;base64,iVBORw0KGgoAAAANSUhEUgAAABwAAAAcCAIAAAD9b0jDAAAAt0lEQVR4nO1UWw6AMAgT7wiHZIfED5KFMGTP+GU/zKKzq7T2un58BkRkZhHRqwUzrzAyc8s1zgshIyLqupRitdttRGSfdoCIKsex6HnrQ7Biw/PWJ5swikiyM5jpGxwRwOu79zgpEYXrLRyIqkMb29DJLcZdXpdNl4GQt2OUDSwAqD8TP1KLKqq1ZVGptpTq2pJmUUeZN8Acaf12e8dV4nRa7UBrYR/If9LTeUI7hRIW9knrfgziAZciVus9OobPAAAAAElFTkSuQmCC\"/></td><td style=\"padding:1px;\"><img width=\"28\" height=\"28\" style=\"image-rendering:auto; object-fit:cover;\" src=\"data:image/png;base64,iVBORw0KGgoAAAANSUhEUgAAABwAAAAcCAIAAAD9b0jDAAAAlUlEQVR4nO2TQQ6AIAwE1T8uj+w+Eg8aQxDtVjEx0TkSGLaFDsPPdxn1rTnn9czonJpcFwAz24yLvQSAnmxlMZaKvOOWsUk4qWs0s4BuX6Ze+OFDVUWRrFZSSu43qLlTcjvpee9JdpO6Lkeq33RRqgf0AVBGK6eg5x36/Kg9DU2OJI1Od+D1O0ufTUpS+WFhaWj/65kBvQrtSgu/KLUAAAAASUVORK5CYII=\"/></td><td style=\"padding:1px;\"><img width=\"28\" height=\"28\" style=\"image-rendering:auto; object-fit:cover;\" src=\"data:image/png;base64,iVBORw0KGgoAAAANSUhEUgAAABwAAAAcCAIAAAD9b0jDAAAAkElEQVR4nO2TwQ6AMAhDifEX+Un2kfVANMQRZQPjQd+xh64URvTzOiJS7wig3rEyKTMDAMDMVixwtKKIpEz7wfWZ+SrcwfWZ+aW5+1HHyaRum252yxKxbq2dTFU86VHca0+16a7YLWQAt7jrNu+RHasU/1TKx+yJtxk6qcOUuvPKEp99IGmcAdP44OsTph9nA8ZHsW0CwG7EAAAAAElFTkSuQmCC\"/></td><td style=\"padding:1px;\"><img width=\"28\" height=\"28\" style=\"image-rendering:auto; object-fit:cover;\" src=\"data:image/png;base64,iVBORw0KGgoAAAANSUhEUgAAABwAAAAcCAIAAAD9b0jDAAAApklEQVR4nO2UTQ6EIAyFYTJXLId8PeS4aDREobxWZ+e3IETos7+U8vLyb0TktyMipyNjdsH4+j8AoKqqeig+4OkSAKwugKG90X8c+l4dXdtY7LZaHP1Ra41OARfE7M4nre74GBMFkG+AIX1X+EWfFupKn8RaPcNMTo9OuAtT9BjLYc8QHcp1TgPTTcJMeozTc8W7HGgp/u3wRNPBsp76IxTAcpow3AAblOZPmJYFdQAAAABJRU5ErkJggg==\"/></td><td style=\"padding:1px;\"><img width=\"28\" height=\"28\" style=\"image-rendering:auto; object-fit:cover;\" src=\"data:image/png;base64,iVBORw0KGgoAAAANSUhEUgAAABwAAAAcCAIAAAD9b0jDAAAAjUlEQVR4nO2USwqAMAxEW/GK6SGTQ8ZFaBDEOMG4sm8hCuU5nX5aWyxgVFVVmbnMyMw6Cbw7qCMifz6SkIJGFCLSC8E/NlwtIiIyxvDPu5Ho9Hvv9mLrExjT+OqX9XtuNh6Z6NTTea1vwWM2POmHMcEjDyWtvD6MbEwI25uVRouZNUKdVh7KNudeafwBB9PrgLHpYeODAAAAAElFTkSuQmCC\"/></td></tr></table>"
            ]
          },
          "metadata": {}
        },
        {
          "output_type": "stream",
          "name": "stdout",
          "text": [
            "Generated sample images (min/max): 0/3\n"
          ]
        },
        {
          "output_type": "display_data",
          "data": {
            "text/plain": [
              "Epoch 3/5:   0%|          | 0/1875 [00:00<?, ? batches/s]"
            ],
            "application/vnd.jupyter.widget-view+json": {
              "version_major": 2,
              "version_minor": 0,
              "model_id": "430b0e91f30b46e0b2cd50c015556f30"
            }
          },
          "metadata": {}
        },
        {
          "output_type": "stream",
          "name": "stdout",
          "text": [
            "mean train: {'loss': 0.19144878081362887}\n",
            "mean train: {'loss': 0.19120753212764705}\n",
            "mean train: {'loss': 0.1898669790137898}\n",
            "mean train: {'loss': 0.1895357338116341}\n",
            "mean train: {'loss': 0.18745055557301007}\n",
            "epoch=3 test {'loss': 0.18094043899327517}\n"
          ]
        },
        {
          "output_type": "display_data",
          "data": {
            "text/plain": [
              "<IPython.core.display.HTML object>"
            ],
            "text/html": [
              "<table class=\"show_images\" style=\"border-spacing:0px;\"><tr><td style=\"padding:1px;\"><img width=\"28\" height=\"28\" style=\"image-rendering:auto; object-fit:cover;\" src=\"data:image/png;base64,iVBORw0KGgoAAAANSUhEUgAAABwAAAAcCAIAAAD9b0jDAAAAnklEQVR4nO2VSw6AMAhEq3ecHpI5JC5MiNKU9IM7Z+XqMdABS/kVCoCIqKqqAkggGs4kIlsGta/Y8jlSgGStlSRJ62DdaevIRrw1h169YAhD7Ts955AGvbn50FuZ7Ruu53cFCiAhp474VZhyctpuqpVZwbU3ZfYUvBTflAB9BAaf9d0WWaTsI14Hb9DRp9X2m/DE7k1yfh5lOSK/vtYF47oZLB/X5GsAAAAASUVORK5CYII=\"/></td><td style=\"padding:1px;\"><img width=\"28\" height=\"28\" style=\"image-rendering:auto; object-fit:cover;\" src=\"data:image/png;base64,iVBORw0KGgoAAAANSUhEUgAAABwAAAAcCAIAAAD9b0jDAAAAqklEQVR4nO2USQ6EMAwEPfxx8sj2I+FgYVlZvGTmhOgDQpFTFIkTojfPyffOeQeAjO8Tz1kAKL0WmakR33Fwk9gZWf0CNNSxyilit46OS2Fluw1xoPr5gmZmvcbKYwqVF2Zm5hAa11Q1tT4wLWna+hQ0BElXEVFrzY4voXli9p/81rNtnz37fj87ZzfQHOcA+OkeWd11+0T1WuH8Uyv5+Mr6lP0tde6bf+YCM11p0iR+FHYAAAAASUVORK5CYII=\"/></td><td style=\"padding:1px;\"><img width=\"28\" height=\"28\" style=\"image-rendering:auto; object-fit:cover;\" src=\"data:image/png;base64,iVBORw0KGgoAAAANSUhEUgAAABwAAAAcCAIAAAD9b0jDAAAAmUlEQVR4nO2TQQ6AIAwEqX9cHtk+sh6IBDG2hGL04B5IODBs6JDSnz+vBAAzq6qqMvMaop4DIERsCxZ6tGntWKuV7UpiLW4f3EboInK9LwS9Et1Y0FKnhQIYmbsF7XDMvMDQKlBrVXT66RCo89SV3xkUERFRzrmsoYJ3GfxRQ552cSWbgbpWzUDdTDa1n/UzTR+BishTzhrZAZtmlKjc0KdjAAAAAElFTkSuQmCC\"/></td><td style=\"padding:1px;\"><img width=\"28\" height=\"28\" style=\"image-rendering:auto; object-fit:cover;\" src=\"data:image/png;base64,iVBORw0KGgoAAAANSUhEUgAAABwAAAAcCAIAAAD9b0jDAAAAp0lEQVR4nO1UQQ7DMAjL9kfzSPuR7ICGoqRtqNTDJsWnhhpjGmhrGxu/j9fZCwAkJUnq43EEMMRLAOAFkARQderu6UVSZA75GTezknF3ny3M3ZAMy0tyC+qa95WO77C2uSZNJvL4Pqxcl7uB6KhIJnk4A6fUYvm6g7VcXv1jijn8D2j1g3n7Svv8fOi38yJ3XNOoL2lI61d2uZGjaGjlr8jMCl1t/Ck+NmzGbbgRJnYAAAAASUVORK5CYII=\"/></td><td style=\"padding:1px;\"><img width=\"28\" height=\"28\" style=\"image-rendering:auto; object-fit:cover;\" src=\"data:image/png;base64,iVBORw0KGgoAAAANSUhEUgAAABwAAAAcCAIAAAD9b0jDAAAAm0lEQVR4nO2SQRLDMAgD006/iB8pPVI5MGUytnHDNbWOTlgk4Di2/kVmBqBWIAmAmU1/ACBJ0vXxfROdEf0TyTI06xTE1lqhzNONI9NFNS/TeXXQbDKpzYwYzWrEqJyWOXFxRuVFBauwHFeWPd7XwT83fY307jZ/K1axlp/q2Hju1F2Q9LIw1aUGQHK0/KpF+HK9k5mV17W19WidiN62fVUqxFoAAAAASUVORK5CYII=\"/></td><td style=\"padding:1px;\"><img width=\"28\" height=\"28\" style=\"image-rendering:auto; object-fit:cover;\" src=\"data:image/png;base64,iVBORw0KGgoAAAANSUhEUgAAABwAAAAcCAIAAAD9b0jDAAAAoUlEQVR4nO2UQQ6AIAwE8ZH7yfLIeiBpaiuFIgdj3AOJEIft1lrKr1eJiJiZmTfjmojoKREAOwHY4xGAPC6a1QixJptppwanEYu9MgmaMhs0V7shmhrlNAGNiUXVPhuo70lw5SzUdzmA5mz2LGjiVKBD4jCZroWAuN6f2/s0LjFCve9Rl5wec/2mTAtflSMW96M0mvR4+C3Jq621VrP++opOtMKKji+Z/pUAAAAASUVORK5CYII=\"/></td><td style=\"padding:1px;\"><img width=\"28\" height=\"28\" style=\"image-rendering:auto; object-fit:cover;\" src=\"data:image/png;base64,iVBORw0KGgoAAAANSUhEUgAAABwAAAAcCAIAAAD9b0jDAAAAsklEQVR4nO2UQQ4EIQgEcbJfhEfCI9kDkXTGbMQJt9k+GaNl06JEr9Z4sIeZY2BmPS6YWVXd3d3biD6lqp3EHhxB1RVi9aIywTH2W64KMd2JSNHEnhhRZie1Edsuh4j6idlDORPGmTmaQVWPM8Eose1RZ1y0eSPqVHqv5pOr866y8PXgqlmkrNvwW1mJn1+14wBfUcxEvTZVgqLMDCPL80Tk7D/FHFc9f1qY2nHr/PVifQEfwQ8qeO42QQAAAABJRU5ErkJggg==\"/></td><td style=\"padding:1px;\"><img width=\"28\" height=\"28\" style=\"image-rendering:auto; object-fit:cover;\" src=\"data:image/png;base64,iVBORw0KGgoAAAANSUhEUgAAABwAAAAcCAIAAAD9b0jDAAAAnElEQVR4nO2VSw6AIAxEB+84HLIcUhfEhhixH3Tn26nNOFMKAD8/H0FSRMya/cQsBoA9DknbaUL3Vqpcnnuo1pr+ST/pSy0DUMpVIYmIPLd1W1EfvY9kzGsrZ9nDTu0VXxGdZUcivpkdUaee7HnRWuv7oq8x7uPnyoBTz7qHRRVTNID3uFvc+zMCw+8Z+47XKUltpesi8euaw9Q5APn9u4HcKKtKAAAAAElFTkSuQmCC\"/></td><td style=\"padding:1px;\"><img width=\"28\" height=\"28\" style=\"image-rendering:auto; object-fit:cover;\" src=\"data:image/png;base64,iVBORw0KGgoAAAANSUhEUgAAABwAAAAcCAIAAAD9b0jDAAAAo0lEQVR4nO2UwQ7DIAxD6f7R+UjnI7sDWoQ6GhJKJ02bTxwi5yUYSvkWbfFSAABKKSLiVz4mTJcJwP7SsDhKaozD2aMiWRlJrnFsB1+2U8OMOw52akaqqqqX6EwVM7tKj/TeYH7ifmo/kulm3fcDwJqld22zH1j2N3Vhcx+KnS1eV01bR/8riIb/zD2H00aqK6efR+qAiMj8qz3wkpyJ51+/pCeUEMtnI/N4hQAAAABJRU5ErkJggg==\"/></td><td style=\"padding:1px;\"><img width=\"28\" height=\"28\" style=\"image-rendering:auto; object-fit:cover;\" src=\"data:image/png;base64,iVBORw0KGgoAAAANSUhEUgAAABwAAAAcCAIAAAD9b0jDAAAAc0lEQVR4nO2UQQoAIQwDdf8YH1kf2T0IsrcmUpEF5xyGUtKWcjkIAHc3szD5LKgBpElD14o0n7HQQRjeMqks7b3nSxmOSpnOa1IAzCplZp/SzpS/JUH6pbWWI1UnpZgLJe3/KX9lQvMz1UrlhUm39P9C8gKZnDb4u/BpsgAAAABJRU5ErkJggg==\"/></td><td style=\"padding:1px;\"><img width=\"28\" height=\"28\" style=\"image-rendering:auto; object-fit:cover;\" src=\"data:image/png;base64,iVBORw0KGgoAAAANSUhEUgAAABwAAAAcCAIAAAD9b0jDAAAAn0lEQVR4nO2UQQ7EIAwDYbVfNI90HtkeUCOUBdQEVO2hc0TFMcYlpZeXKSRJHhckVxUBHD0ArCpWCQCt5bgiSWPKTPIx2qmiQZvdnZqA26mefTRs0oGva1Kbr4j4bFbUjrn0pT4ZoT3lb+MDcP/SZ5mKSM7ZrMQ9dqlpxNP8JV745xTT9b9uePEULdY2xaUHaUS16T34585HpZSQpf/nBGGT8SgO+jvWAAAAAElFTkSuQmCC\"/></td><td style=\"padding:1px;\"><img width=\"28\" height=\"28\" style=\"image-rendering:auto; object-fit:cover;\" src=\"data:image/png;base64,iVBORw0KGgoAAAANSUhEUgAAABwAAAAcCAIAAAD9b0jDAAAAZklEQVR4nO2UwQnAMAwDQ+mKWlIZUn3k30jgYgq5tzgiE3uMQzskAbxnrnJjLF3MOeulxUgiuY0FL13T3HbPpD7dUqd4LP0EAJKcZPdMnQWNpT7/kd5+tPmfZlIAxUfar5/hHNPDA6CBHxWrgEcEAAAAAElFTkSuQmCC\"/></td><td style=\"padding:1px;\"><img width=\"28\" height=\"28\" style=\"image-rendering:auto; object-fit:cover;\" src=\"data:image/png;base64,iVBORw0KGgoAAAANSUhEUgAAABwAAAAcCAIAAAD9b0jDAAAAlklEQVR4nO2UXQqAMAyDnXfMDpkesj4Misz9RAVBWJ5E0o8sdm7b0tLHAkDS3d2dpDKSprjqZc65PJjZk4BVusgbEoN3iaEKfYMbMz3DGS1xIyaAsTPQKlQ8V9O8K5MDNXegC23u0ytFWdNab3Ulfa6eZ3SjSBa3mV27AxCslEacRpbrRTpv6Kvey3wBiXUvfSXpT/FvHSYR1kIBRKbKAAAAAElFTkSuQmCC\"/></td><td style=\"padding:1px;\"><img width=\"28\" height=\"28\" style=\"image-rendering:auto; object-fit:cover;\" src=\"data:image/png;base64,iVBORw0KGgoAAAANSUhEUgAAABwAAAAcCAIAAAD9b0jDAAAAYUlEQVR4nO2SwQnAMAwDQ3f0kvaQ6sMLnMAhLeTe4oisrHU5SGZmJkk+XBoRMGlIOVukBpIkkeS2+nyBqqJSGOX8Z/2j0h7TGIpLIUfrW9/uA/WHh2rge72bDksb67KXSV4JoR4Zl4r09QAAAABJRU5ErkJggg==\"/></td><td style=\"padding:1px;\"><img width=\"28\" height=\"28\" style=\"image-rendering:auto; object-fit:cover;\" src=\"data:image/png;base64,iVBORw0KGgoAAAANSUhEUgAAABwAAAAcCAIAAAD9b0jDAAAAlklEQVR4nO2USwrAIAxES+kV55KZQ04XgSC2FT+hi9K3FH1OEnHbfr6JmQFINkqSlOMNnWNmaUYzywkLIIwu8pV5aRglVYvegRn1bbFLHYiY1eHIPh+zGnQ5tJyYZYsb0uPJWJ4Jb3UBAJK9MdXHWE8XjfflO9fSSHpbSA4U3iYG1d6259y2SM8LHUua8ONdKf+qn1c5Aed7Cx+v149OAAAAAElFTkSuQmCC\"/></td><td style=\"padding:1px;\"><img width=\"28\" height=\"28\" style=\"image-rendering:auto; object-fit:cover;\" src=\"data:image/png;base64,iVBORw0KGgoAAAANSUhEUgAAABwAAAAcCAIAAAD9b0jDAAAAq0lEQVR4nO2UwRKDMAhEsdNf3Hwk+ch6YLqTTgIKtT25R5WXzYKI3Pq/VPX1KQB11oyjVDVNBMBiVaU1ADwp7deKvTI7smI2UD0BT0zmemIMfWahItJaiz/bzhNHd733M/QDcZJsKi7o1Tyb5Bb/LhKXz5fQR0wE4DXHYk0rzi5wGinuBi9Rsbl8aza92oPhn6PEW5VMx0C5tMYNmyaavCX97X4aucGGvfVz7aP9ER7zwMK1AAAAAElFTkSuQmCC\"/></td><td style=\"padding:1px;\"><img width=\"28\" height=\"28\" style=\"image-rendering:auto; object-fit:cover;\" src=\"data:image/png;base64,iVBORw0KGgoAAAANSUhEUgAAABwAAAAcCAIAAAD9b0jDAAAAa0lEQVR4nO2SQQrAMAgEY/+oj9RHbg+BXOOCxRA653VQ3DF+GnF3AO5eKQUAQFW3yYdVV0qXKyLKpBRnSO86n2D2NJNsPT/TeVpKccCmmZIS0qRuIsncKpPIfqTvUdSXslIW7lFm9sUSl/ECE8knEtfIJC4AAAAASUVORK5CYII=\"/></td><td style=\"padding:1px;\"><img width=\"28\" height=\"28\" style=\"image-rendering:auto; object-fit:cover;\" src=\"data:image/png;base64,iVBORw0KGgoAAAANSUhEUgAAABwAAAAcCAIAAAD9b0jDAAAAk0lEQVR4nO2UUQ6AIAxDh/GK5ZDlkPrRxBglOuaMP74vskDTjoHZz8+3AACwrbt7ZqeQmZE81GutQWvLCZIktXgqug8LQMXukfv4pRTJtdb2oodKAmfvT1H2i4ZOMVHLzX59RWLYqWzGJ7SLZzzHnL44SbfbBpwqdb7N+GPvoh8kU9Hc3RSunr5y6aPZXT9/sscYK/BlfbcAJGqNAAAAAElFTkSuQmCC\"/></td><td style=\"padding:1px;\"><img width=\"28\" height=\"28\" style=\"image-rendering:auto; object-fit:cover;\" src=\"data:image/png;base64,iVBORw0KGgoAAAANSUhEUgAAABwAAAAcCAIAAAD9b0jDAAAAoUlEQVR4nO2UUQrEIAxE69IrjoecHNL9CAyCohFSWJa+j0JreU5Sm+t6eXkaAK01kgAAjKsASPo7Z1IhO0l39Yy7hqRTtME07D0+MrNSitt11ZKZ9X3QbQ6eNNPoLYo2NG7MjCljWkwZD05o0LgtvMSlcvmBW/AJGlVvrTWeY8VPfJx9+UqX9kdqLB2doVXS6TxNQEmP7JPR1+N97Cfef/EFAp7NY/Jd2NwAAAAASUVORK5CYII=\"/></td><td style=\"padding:1px;\"><img width=\"28\" height=\"28\" style=\"image-rendering:auto; object-fit:cover;\" src=\"data:image/png;base64,iVBORw0KGgoAAAANSUhEUgAAABwAAAAcCAIAAAD9b0jDAAAAiElEQVR4nO2SOw7DMAxD1d6ROiR1SGYQIhStkcSIhqAwJw32w9PHbOU/A4AkgE6oJJKdRJKSOokAJPU33qyZjZdmWt8iJuJz6Q1z+Jpmg2aBqu5fV0KPH7xniVccX9c/R4SZSXL3rCdE8nqGqTOYM815lUgWQ0rsOYcCAPD7esh192PllZUHZwNTu4Gll7scpwAAAABJRU5ErkJggg==\"/></td></tr></table>"
            ]
          },
          "metadata": {}
        },
        {
          "output_type": "stream",
          "name": "stdout",
          "text": [
            "Generated sample images (min/max): 0/3\n"
          ]
        },
        {
          "output_type": "display_data",
          "data": {
            "text/plain": [
              "Epoch 4/5:   0%|          | 0/1875 [00:00<?, ? batches/s]"
            ],
            "application/vnd.jupyter.widget-view+json": {
              "version_major": 2,
              "version_minor": 0,
              "model_id": "04e5e12412b645fa8d3cfcd23523eff6"
            }
          },
          "metadata": {}
        },
        {
          "output_type": "stream",
          "name": "stdout",
          "text": [
            "mean train: {'loss': 0.18671691588106307}\n",
            "mean train: {'loss': 0.18874840447518984}\n",
            "mean train: {'loss': 0.18784246449759984}\n",
            "mean train: {'loss': 0.1878523529154958}\n",
            "mean train: {'loss': 0.1897931025012747}\n",
            "epoch=4 test {'loss': 0.17818129155784845}\n"
          ]
        },
        {
          "output_type": "display_data",
          "data": {
            "text/plain": [
              "<IPython.core.display.HTML object>"
            ],
            "text/html": [
              "<table class=\"show_images\" style=\"border-spacing:0px;\"><tr><td style=\"padding:1px;\"><img width=\"28\" height=\"28\" style=\"image-rendering:auto; object-fit:cover;\" src=\"data:image/png;base64,iVBORw0KGgoAAAANSUhEUgAAABwAAAAcCAIAAAD9b0jDAAAAqElEQVR4nO2UQQ7EIAhFYTJXhEPiIZkFKTG2qLSsJn2rtpYvH0SAlylEJCKqqqpEVKDocoaIPFXUK3aS/UQLUfCjCgzGU0UIM22tLb/coU/NXHv6BernnQqOQQ8RLZMNa7qjXia60y7MigKAe0e8Dv/O492jPQyW7TV31Lwnc+oV9y8EgOmYLqXDRuV8HVjrErPfLzEzIg7/MPN62/7Ot/EXkeIBffk7fgveHySYIz08AAAAAElFTkSuQmCC\"/></td><td style=\"padding:1px;\"><img width=\"28\" height=\"28\" style=\"image-rendering:auto; object-fit:cover;\" src=\"data:image/png;base64,iVBORw0KGgoAAAANSUhEUgAAABwAAAAcCAIAAAD9b0jDAAAAnklEQVR4nO2UQQ6EMAwDu/zReaT7SDhEa1VIqE5B2sPiU1OFqZuGtPbqf/XxUwGQVNh7H9dj6OL2mWpOZTAixk0AMlizSTKNAPC/2pykiCh5mUDL5XegKZKl61vEhbIWuE9C27dVczFNtmoqkVx7ukucX4GaU9OmBc2f0j/7DM1rnhAKFwuqgaSG186tPiWpZ5Ge6fyceGl5nM2vfqMDz8qmkeuTdd0AAAAASUVORK5CYII=\"/></td><td style=\"padding:1px;\"><img width=\"28\" height=\"28\" style=\"image-rendering:auto; object-fit:cover;\" src=\"data:image/png;base64,iVBORw0KGgoAAAANSUhEUgAAABwAAAAcCAIAAAD9b0jDAAAAnklEQVR4nO2VWQqAMAxEG/GK6SEnh4wfweCCphsI0vns8jpJp5rS1FQkZlZVVWXmcPFSSATQbexM1IPG0B3nB4QdCMr3/UR0H2yBeitFpBAXC4AX/jRS7dTkNtPuNOc8DOq1dzXheNeXYPVCLZtVUS19Uenc3C5ZqgAY1yyHTtf3aRFpMFhU/n+hdfJUvee/zikR2b0N+LLcNfhH8Jk2HL2To2ysiJYAAAAASUVORK5CYII=\"/></td><td style=\"padding:1px;\"><img width=\"28\" height=\"28\" style=\"image-rendering:auto; object-fit:cover;\" src=\"data:image/png;base64,iVBORw0KGgoAAAANSUhEUgAAABwAAAAcCAIAAAD9b0jDAAAAcUlEQVR4nO2UwQ3AMAgDUXdkSTOk++AfcBUUqcp9AxYYgtnlDwAg6e5S1rN+jggz2yyaqKI1JFUH6ko/ONAV3U/uwGZR1dbW9JMR0T4t0ZFZuXva2ow/1/4U0lZ1K5U+q9b+1LkCUEYKlaYDU/flsuYF1XRC68PwuioAAAAASUVORK5CYII=\"/></td><td style=\"padding:1px;\"><img width=\"28\" height=\"28\" style=\"image-rendering:auto; object-fit:cover;\" src=\"data:image/png;base64,iVBORw0KGgoAAAANSUhEUgAAABwAAAAcCAIAAAD9b0jDAAAAi0lEQVR4nO2USw7AIAgFTdMrPg4Jh6QLU1eAH9zYdJaNDvIgLeXnYJhZVQHslAJQ1WXvlantNWRLRWRcPSoNLqTQl6DeXO4Aal6BtFvVvRO8IjDamSajzA7KPHDHR2u4dcPaRxFZaaVNtotpd5efiIho+jlrAGh9MPNOb7yh2R/KfqnHOdJ1do7+WzwIk5aUJWidqQAAAABJRU5ErkJggg==\"/></td><td style=\"padding:1px;\"><img width=\"28\" height=\"28\" style=\"image-rendering:auto; object-fit:cover;\" src=\"data:image/png;base64,iVBORw0KGgoAAAANSUhEUgAAABwAAAAcCAIAAAD9b0jDAAAAn0lEQVR4nO2TOw6AMAxDi8QVfUnnkGGIiKBfSjow4AGVT6yXxKT061MiqaqqutJUT5Fc4+iYJgAhOwBa6CUsgIwuRNq3myatdtqSV+1DwOsTERERe2W3/qWf5xij+033xKyJYbmWchRRxyjycN1vfDNMkmVIp31bxVkH/ST0cprOPF4PpkeprJIuG2t/UTbioclW9bWr1/vfOdf1r6/rALfiqoUy+xj4AAAAAElFTkSuQmCC\"/></td><td style=\"padding:1px;\"><img width=\"28\" height=\"28\" style=\"image-rendering:auto; object-fit:cover;\" src=\"data:image/png;base64,iVBORw0KGgoAAAANSUhEUgAAABwAAAAcCAIAAAD9b0jDAAAApUlEQVR4nO2UwQ7DIAxDYdovOh+ZfKR3QJqyaE1Jl9NUn4Ci19gBxrhVFACS/USSAJqJJFW1AbdPfJS4a2BmIvJTjePTdVuU1RzP7XuQmV0vzRObjV+O8plD18DMlnGPBvBeL4hOPoewXjDhvZ8qnIrD7n/9/zr2IjLn9MZ3Q8hrCVa2iPk1BxAiDhuy7nuEn/qvhXfgqNdB5euQdF9VGx7TW3+qF82uQQlrns3jAAAAAElFTkSuQmCC\"/></td><td style=\"padding:1px;\"><img width=\"28\" height=\"28\" style=\"image-rendering:auto; object-fit:cover;\" src=\"data:image/png;base64,iVBORw0KGgoAAAANSUhEUgAAABwAAAAcCAIAAAD9b0jDAAAAtElEQVR4nO2USxLCMAxDXYYryod0DmkWARoU4okbuoDhrfqxZVXxVOTPDwIAwIfbALi7mcXSG8m11apan7c1e+e29w5FRcTdg/ncORa9zKsk5tE95VVKeV5TjoHTBADMzB8EZ5X4/Na1dMaXaM2Oak45qLQohfCWK93Tqtf9P6x+V/FXzIxqZjJl2p5+AL2dFY11iYRopf5c4gFLqzpS7xM/wsg4Wc7tqaoGS7YKBXLWmO/kBqT/CDkzFKdgAAAAAElFTkSuQmCC\"/></td><td style=\"padding:1px;\"><img width=\"28\" height=\"28\" style=\"image-rendering:auto; object-fit:cover;\" src=\"data:image/png;base64,iVBORw0KGgoAAAANSUhEUgAAABwAAAAcCAIAAAD9b0jDAAAAmUlEQVR4nO1Uyw6AIAwD4y+Oj+w+ch5MCHECG+6k9sSBdG33SOltACAiIgJg+nkzkjLzM1UKRCQNpv9NSonofDBzzjmYNAzVtaVFJtQ0XYwT+2vGR6Rtf0opMaQpvEXtbIZR3zYdQLuv7mJaZqVbHDLt/bKp42R2o+pBeeut0U57cMTaM/soUwvvyimYJuBmrGK13pXx/PElHChxQ+3FwnHaAAAAAElFTkSuQmCC\"/></td><td style=\"padding:1px;\"><img width=\"28\" height=\"28\" style=\"image-rendering:auto; object-fit:cover;\" src=\"data:image/png;base64,iVBORw0KGgoAAAANSUhEUgAAABwAAAAcCAIAAAD9b0jDAAAAuElEQVR4nO2VwQ7EIAhEtdlfnJ+Ej2wPZgkVC2i8bLZzskZeRhxtKa9+UgAAnEZEBGCFaFkWneFU/SE12hQzdx5rvVWti4jEb9iHIwllZhlvgy6ekiO99+RZebLxylQ9niOAoSlm1v3V41hhZvNhuDnVffS5Xa0XY7HQ9ti6MfS17TrorewhdtzUaiLK5HEuuZnVYtN2+TO06bPK99mVmTitXZhkchisiVsbBnOaKFyLbjPrv5b/0AWpjmrKU56OxgAAAABJRU5ErkJggg==\"/></td><td style=\"padding:1px;\"><img width=\"28\" height=\"28\" style=\"image-rendering:auto; object-fit:cover;\" src=\"data:image/png;base64,iVBORw0KGgoAAAANSUhEUgAAABwAAAAcCAIAAAD9b0jDAAAArklEQVR4nO1UQQ7DMAhL9kd4JH4kO6AhlKRqCj2186lKZMvYpK398RCoqojoD0RERCVFItIVRCQvGj2KyGC5pBj5y8PLonFSTyMf68B3xXygsSJr/IaK3Oltpc9mDVVFw2y2uvlL0R3dz6Y6MzOzfVfNDtZ88/ONuYSfDHt2RNwa3/kAdkLYzdQBAEBe1MhHfL+9jPhM7aT6l2rTo5qrW+IkU2smTgqg9570+A58AW/+NQtMa533AAAAAElFTkSuQmCC\"/></td><td style=\"padding:1px;\"><img width=\"28\" height=\"28\" style=\"image-rendering:auto; object-fit:cover;\" src=\"data:image/png;base64,iVBORw0KGgoAAAANSUhEUgAAABwAAAAcCAIAAAD9b0jDAAAAgElEQVR4nO2UXQ6AIAyDwTv2kt0h68OiMVH+FhJJ9HuFlZYNUvr56QaAJACVPVtYeqaoy5lZxEspoyRJ9dpnpyQjRg5yacHtmNk1KQC3n3OxsIZ3uURE8YQkAJIzRe9nNIc0hed0edFm8AidXRpw2v9AF7jTN0XHmN+oFP5GP8YOP4RlxDzwRycAAAAASUVORK5CYII=\"/></td><td style=\"padding:1px;\"><img width=\"28\" height=\"28\" style=\"image-rendering:auto; object-fit:cover;\" src=\"data:image/png;base64,iVBORw0KGgoAAAANSUhEUgAAABwAAAAcCAIAAAD9b0jDAAAAl0lEQVR4nO2TwQoEIQxD7TK/mH5k85HuoWyRRRQ7PQ3zDoKoIaltay9PA0Cxopn13s2sRg5ApSKA/qMmeyiWRW73ivhZHwNIBL+2N9wsyb81g8efsq3JJj5JERERVVVV9+hNlnEav78IkXQ6ZbR8JkrSX1b2qRPdOpqKyuTHbGwDM4ttQYJRbmtTjqRjwKLiL2csZuYpfAEqtbOHd/+KHAAAAABJRU5ErkJggg==\"/></td><td style=\"padding:1px;\"><img width=\"28\" height=\"28\" style=\"image-rendering:auto; object-fit:cover;\" src=\"data:image/png;base64,iVBORw0KGgoAAAANSUhEUgAAABwAAAAcCAIAAAD9b0jDAAAAWUlEQVR4nO2UwQnAMAwD4+7oJeUh1UcWkEEhpfje4hBYeK3hIpnpN5IEoIQfXao3UKUtelKx7weaVpVfKvI/6cGdzqH8UvP3A0CSpBLuNY0Ip3SPyfykh8u81J0bFAAJBNwAAAAASUVORK5CYII=\"/></td><td style=\"padding:1px;\"><img width=\"28\" height=\"28\" style=\"image-rendering:auto; object-fit:cover;\" src=\"data:image/png;base64,iVBORw0KGgoAAAANSUhEUgAAABwAAAAcCAIAAAD9b0jDAAAAqklEQVR4nO2UXQ7CMAyDN8QV00MmhzQPE25WltI/CYT4nhfPdtNu259vQFUBiMhiRQCqGn2z94oCyMP79fjtra8oppn1Gsq+fFIRwZPxTinxKup7KKjFpxcm9e5m41OLR19voMnpMlif30ecif56jxSpZWbH8JTx4ogrtHbqPQ5zIdo+3NfpATeRtZqZz5FSandQszZ7o4b5xNNXUCzG/J5k1jyAESud/hAP3D7WYPUwg4QAAAAASUVORK5CYII=\"/></td><td style=\"padding:1px;\"><img width=\"28\" height=\"28\" style=\"image-rendering:auto; object-fit:cover;\" src=\"data:image/png;base64,iVBORw0KGgoAAAANSUhEUgAAABwAAAAcCAIAAAD9b0jDAAAAt0lEQVR4nO2UwQ7DIAxDYdovmo9MPjI7REJRC4YFbaf6RFv6Ggc3pTz6pwAAEBEzM7O4yOBEpCOGynAB9JdFJNbrApCBOuvu4KgDs4/lK+VEM+M735vECFJVvvm1xHmB8Y6qntqfZYuc1a79aNnL9IS01o5KjuIxqGlub3StV8j6oGYixvPQbvzegTyUpJVB7wmNj0ikFtAycseJZSenEepju1+q6tc55XM6+adeZrOvh3P20c/1Ac/E70X57Z68AAAAAElFTkSuQmCC\"/></td><td style=\"padding:1px;\"><img width=\"28\" height=\"28\" style=\"image-rendering:auto; object-fit:cover;\" src=\"data:image/png;base64,iVBORw0KGgoAAAANSUhEUgAAABwAAAAcCAIAAAD9b0jDAAAAaklEQVR4nO2UQQ7AIAgEpX/kk/DI7cHotUuyJKZxzjhBWRnj8jfcXS8FAICpfEjjbpPpl5VGBFlZkJYwsm6/ptn3kZZOa9LM1EtJKGk19i3XZ5nfiUzrAdNXSnsHJd5+WCi3VClMLdKLnhdS9CsC1Dm1TwAAAABJRU5ErkJggg==\"/></td><td style=\"padding:1px;\"><img width=\"28\" height=\"28\" style=\"image-rendering:auto; object-fit:cover;\" src=\"data:image/png;base64,iVBORw0KGgoAAAANSUhEUgAAABwAAAAcCAIAAAD9b0jDAAAAo0lEQVR4nO2UsQ7DMAhEz1V/8fyR8JFkQEYe2oJcprQ3RBnI84XDAD+tUS8lSVJVAfizQSJiZmZGsodI0oki0kPEstlJDJvF+lJQgRujVP8oHg5gzlmszKEHfaw6VdW22QTQPJtYuXsH/EY1nOHjueNCH756pk7jJdLn0mGXX/5sel/z9N/ZOR+GPSg0rpVIJlZffQkkZnf0t8QdTbKT+NdNdQGEu6yAhFuyDQAAAABJRU5ErkJggg==\"/></td><td style=\"padding:1px;\"><img width=\"28\" height=\"28\" style=\"image-rendering:auto; object-fit:cover;\" src=\"data:image/png;base64,iVBORw0KGgoAAAANSUhEUgAAABwAAAAcCAIAAAD9b0jDAAAAkElEQVR4nO2TSw6AIAxEifGKwyGHQ44LomkE+aXGjW8J9DFtIISfn7eRJIkkSQC3XQAAdFIeqGNrclmGpAoWpW1Ijk6gGqrKaNIrb6nOU1403uy2+Lqp0fjelaaUptanGYk5h880n4ySHIzh/GaeMa3UzWgfrI8xvBrT7RnZxsdjbj6Xfy9d++B9aYxxwevPAS15KgAVj2tAAAAAAElFTkSuQmCC\"/></td><td style=\"padding:1px;\"><img width=\"28\" height=\"28\" style=\"image-rendering:auto; object-fit:cover;\" src=\"data:image/png;base64,iVBORw0KGgoAAAANSUhEUgAAABwAAAAcCAIAAAD9b0jDAAAAcklEQVR4nO2UUQrAIAxD6+7oJeMh48egnzOBFTcw3/HRNMWIo10CQFI0XxZa5HrQMcb70N675V+IJEkAinlf/EwtxvcmFfUfaBN9efatrZ+ok2bvSlclUDV+OBswihIv34Pq+gx02VXJTj3dH2AJ+uhZE+HfLgs96/XZAAAAAElFTkSuQmCC\"/></td></tr></table>"
            ]
          },
          "metadata": {}
        },
        {
          "output_type": "stream",
          "name": "stdout",
          "text": [
            "Generated sample images (min/max): 0/3\n"
          ]
        },
        {
          "output_type": "display_data",
          "data": {
            "text/plain": [
              "Epoch 5/5:   0%|          | 0/1875 [00:00<?, ? batches/s]"
            ],
            "application/vnd.jupyter.widget-view+json": {
              "version_major": 2,
              "version_minor": 0,
              "model_id": "7b7f3f15fec04bde8e49861fada7eaad"
            }
          },
          "metadata": {}
        },
        {
          "output_type": "stream",
          "name": "stdout",
          "text": [
            "mean train: {'loss': 0.18635761298588158}\n",
            "mean train: {'loss': 0.1869810040937992}\n",
            "mean train: {'loss': 0.18822680789052992}\n",
            "mean train: {'loss': 0.18363674968863145}\n",
            "mean train: {'loss': 0.18764396217100474}\n",
            "epoch=4 test {'loss': 0.17708954866975546}\n"
          ]
        },
        {
          "output_type": "display_data",
          "data": {
            "text/plain": [
              "<IPython.core.display.HTML object>"
            ],
            "text/html": [
              "<table class=\"show_images\" style=\"border-spacing:0px;\"><tr><td style=\"padding:1px;\"><img width=\"28\" height=\"28\" style=\"image-rendering:auto; object-fit:cover;\" src=\"data:image/png;base64,iVBORw0KGgoAAAANSUhEUgAAABwAAAAcCAIAAAD9b0jDAAAAtUlEQVR4nO2UQQ6EMAhFqfGKn0PCIZlFMw1WitrpZhL/wsQqD/ohEL1KBUBEzMzMACwgNlyTiMyjAdhYOXebSyki66E59wFUVf0rgBlzvYM1vjN6zTDQcR5G0MeeehOWVUrHYsMfZrp/Weyv0FAlPA3zqyqA+vRDql9l0JFTvsxz1lLi+oiiDXJfMTFfIvehWwdNLp6Imf319wnEuTOdene7HVwjW3z9xMx51qBlDXo5j6/+XB/CrxtGkfkHkQAAAABJRU5ErkJggg==\"/></td><td style=\"padding:1px;\"><img width=\"28\" height=\"28\" style=\"image-rendering:auto; object-fit:cover;\" src=\"data:image/png;base64,iVBORw0KGgoAAAANSUhEUgAAABwAAAAcCAIAAAD9b0jDAAAAqUlEQVR4nO2UQQ7DMAgEadUvLo+ER7YHVAsRG5KUHCplTklsD2s7gujmL3jsmQTAHlT1JykAcw1jwBdQ1boegPdB6qRjktW3ICE4gJGOmf3rBBGx4iJS7GjBMxnDl3Pq6Arn1eYdh9DpHXh7p9p7RaRNHQ76wshtXnKpr7q96Wj2868oA75Wy6Yrw0dmPpalbEvJRZ3ZPhGpahIz6/zbXkdEzLyz/9908gGz8/NIF64LrwAAAABJRU5ErkJggg==\"/></td><td style=\"padding:1px;\"><img width=\"28\" height=\"28\" style=\"image-rendering:auto; object-fit:cover;\" src=\"data:image/png;base64,iVBORw0KGgoAAAANSUhEUgAAABwAAAAcCAIAAAD9b0jDAAAAlklEQVR4nO2TSwqAMAxEq3jFuWRySF0Egp+ahmmhm76FiMhzUielLBZpAIiIXf/eOfIuAHZjT1S1N935xNVVtozRJlVVT9cV0zPG0aYaXUoY9+YbxPFFUgBfY+9RvMa3GmRa1S5/tfZ83lfnbTu/EzBeEXHd/WP87t+3KE+7UgS8NJiAkY7cWif+S4VIGusYvLmDvdO4ACOGjarKsoy+AAAAAElFTkSuQmCC\"/></td><td style=\"padding:1px;\"><img width=\"28\" height=\"28\" style=\"image-rendering:auto; object-fit:cover;\" src=\"data:image/png;base64,iVBORw0KGgoAAAANSUhEUgAAABwAAAAcCAIAAAD9b0jDAAAAnklEQVR4nO2USw6AMAhEq3ecHhIOiYtJDCl+YsWkJp1FE6l9ItApZerfMjMAyUQqcgEwCEBEzIzrPZTvUSJCkA/63Xh8OeOS0gRVVVX9432CkdskmFlljz7838G4xTWQ3ctEA8gv8efcQ+j6Hp0JvZiBTuieYM+liiw/sP1dOnOTZ1eAgx0NqfGtC0LrUvw+z/h6AaBFAai1PshxalxtNBrfQQ7QDzYAAAAASUVORK5CYII=\"/></td><td style=\"padding:1px;\"><img width=\"28\" height=\"28\" style=\"image-rendering:auto; object-fit:cover;\" src=\"data:image/png;base64,iVBORw0KGgoAAAANSUhEUgAAABwAAAAcCAIAAAD9b0jDAAAArklEQVR4nO2UQQ4DIQhFae+Ih4RD0gWJIQTtl5nNNP2LiRn0+0AC0V+P0OvieREhIlVVVfQMM5uZiDDzKmpmKfoGrcufjrnasMMsWYjIgpqmG8fJC0lESpB9Bk3M1WUHmCm7edlZ1q4Ss5/4Csd7CMGs+zRS+JqZj9GSJhEitLixdg3H5UBJ1Ywhnx3x21Gqxtf90ECJGmPcb4rke2YKVhAynV79ZynlTXan4+/qA1L1KxBKhHU+AAAAAElFTkSuQmCC\"/></td><td style=\"padding:1px;\"><img width=\"28\" height=\"28\" style=\"image-rendering:auto; object-fit:cover;\" src=\"data:image/png;base64,iVBORw0KGgoAAAANSUhEUgAAABwAAAAcCAIAAAD9b0jDAAAAsklEQVR4nO2UwQ7EIAhEm83+In7k8JHswaQhAxate+ihczINTh8OehyvniYzMzP6+LnnBcDbicgWWrewoC3fk5EE4Kz5znD59YhIVWsiERlB3SSNgZbypInpxZGrat9M51D3PmrQu9DJEAeTppittakc5jHjb+KcLpgCSMGpd597bZoWEGZ9kfyGtHrZkUh3HIfXFIBPPA7mwjzE9KPqZEjps1bOw6y1n5vu9YeX+NWz9ANhbpOvXKedqAAAAABJRU5ErkJggg==\"/></td><td style=\"padding:1px;\"><img width=\"28\" height=\"28\" style=\"image-rendering:auto; object-fit:cover;\" src=\"data:image/png;base64,iVBORw0KGgoAAAANSUhEUgAAABwAAAAcCAIAAAD9b0jDAAAAl0lEQVR4nO2TSw6EMAxDs5grpod0D2kWCMviJ4oigUZ4Var21XFIxKfHlZkASJIsI3IRgLcSVXVm1hDl8a3EiKgnKseazoQVPkr8nUPnRWtNmyT9s/c+9F54lN4uF4CBrEUJS1ag7c4l6OqaXMuXH7hqdovbrWPApvd9dcfn9SjQs+5LzvVf4mbrd3V/tLxM5VA2qZ/+VxOwmTPyXKOOPwAAAABJRU5ErkJggg==\"/></td><td style=\"padding:1px;\"><img width=\"28\" height=\"28\" style=\"image-rendering:auto; object-fit:cover;\" src=\"data:image/png;base64,iVBORw0KGgoAAAANSUhEUgAAABwAAAAcCAIAAAD9b0jDAAAAvUlEQVR4nO2UQQ7EIAhFsekVv4eEQzoLE0JQLE7abmbewqRBv3yEEv35XYr7BqCro9aqUREhor5ewMxE1NL0/SOHy6W1ljG45owCam1aCrfngu4LgNUCwMyj/ZQiABWdRp10SlTPLCxnRI8oEGHrGN09F11kakm1lBVN6k4JW4qZRcQ21njNXkvdOVFEVIr/G9i8kqmFEt2+ylkrySQ20AFZV2Cbb+Yqg3sx1xjbE9XJNtMuTxVBdW97rrf5AMtxHTs19jlzAAAAAElFTkSuQmCC\"/></td><td style=\"padding:1px;\"><img width=\"28\" height=\"28\" style=\"image-rendering:auto; object-fit:cover;\" src=\"data:image/png;base64,iVBORw0KGgoAAAANSUhEUgAAABwAAAAcCAIAAAD9b0jDAAAAqUlEQVR4nO2UwQ7EIAhE7WZ/ET9y+Eh6ICFs2xXQZg/NzslEnTwGpbWniYhEREQAhIdfPwC6lmGqwvMpUiKyde99ns7LGDOBtgypr5eZ59FMPk0fwpIAlApXjcqf7k+QqfreE2VbS3Mb7Gnfmdlq12QVfAb//NmtadVn+4Hpb54dB8m8v2Hampkz/z3WYYIMVPPNOJYzDWHLjqHv0hw4+AIAcNtk+euJ2gHq1TgB4ednbgAAAABJRU5ErkJggg==\"/></td><td style=\"padding:1px;\"><img width=\"28\" height=\"28\" style=\"image-rendering:auto; object-fit:cover;\" src=\"data:image/png;base64,iVBORw0KGgoAAAANSUhEUgAAABwAAAAcCAIAAAD9b0jDAAAAtUlEQVR4nO1UQQ7EIAikzX4RHwmPdA+0hoBVaJs0TToHY4gOMIwCfHgFFh/CHcwMALLqTRpEVI9BRBGSNZUSEWutiJirVK5NkSP1OYhIJM6KkOvgHlIzvWcYOz5tEEFNkJm1YXPmDdpAHBYymWl5/CK8LD9P103b2owUZTXVOUsphlGjfREb0XI8Hq3UtCKtu46v5lB3fxVmPsEyJxUYJ/nToqP2Q+jVmjtjpP+BMdcZxg+n8QeYTZWiE5uQBgAAAABJRU5ErkJggg==\"/></td><td style=\"padding:1px;\"><img width=\"28\" height=\"28\" style=\"image-rendering:auto; object-fit:cover;\" src=\"data:image/png;base64,iVBORw0KGgoAAAANSUhEUgAAABwAAAAcCAIAAAD9b0jDAAAAr0lEQVR4nO2UQQ7FIAhEa+84HBIO2b8wnxC0iHTVpLOqLF4HBj2OT68XM1+DAAB4SuS/HHqbCECJ03rMPQM0ERGRrYiIiCw9zaHdxTg+e8zQPXRsM9l7CqqJ69ENus7dwt0GJSKttaKjWGWzKahd/qdcm3U+q2j5nfqUt9fTSVu2RQC9HphdO3XW9Fi8++VO107vHAW/TAVlXxZm7t/1xNxlnUY3KnURXdDukf3k9AN2KxE/ThZb3AAAAABJRU5ErkJggg==\"/></td><td style=\"padding:1px;\"><img width=\"28\" height=\"28\" style=\"image-rendering:auto; object-fit:cover;\" src=\"data:image/png;base64,iVBORw0KGgoAAAANSUhEUgAAABwAAAAcCAIAAAD9b0jDAAAAl0lEQVR4nO2UQQ6FMAhE6Y9XnB5yOCQuiI35iRYU48a3pi9ToBX5eAvbIAngvLjFvSRFxI2tJQ6G1GZ2HvaXlaqqbHnLpHt1GT6rSqM3dFq2RFzeQQAAeu93o7nLdkTunh4UgJqejgUaqaePKscjyx8hJ/UFqJem6ud4NyunNIx394nkcNVk/NOlAh6+ff/cVLX4l/u4xgr2BoWlNfRrXAAAAABJRU5ErkJggg==\"/></td><td style=\"padding:1px;\"><img width=\"28\" height=\"28\" style=\"image-rendering:auto; object-fit:cover;\" src=\"data:image/png;base64,iVBORw0KGgoAAAANSUhEUgAAABwAAAAcCAIAAAD9b0jDAAAAmElEQVR4nO2UQQ7AIAgE2/5xeeT6SHswJYZaheiliXMwHnDBFTyOzWYp5zACgO5TSrMJAeQXdY41igWSixU90m1Pc866FxGTT9f0ECizUwsAkgE3QsYVaRN8eU52MOZ84rl+TQkex6lfw67UClz9q0/Rf67mUAzGlCSAZt8AUCERiU2wWtHs/5I1IGekjfrUJ7BZiWtO/s0Nl0r3LPa7tfIAAAAASUVORK5CYII=\"/></td><td style=\"padding:1px;\"><img width=\"28\" height=\"28\" style=\"image-rendering:auto; object-fit:cover;\" src=\"data:image/png;base64,iVBORw0KGgoAAAANSUhEUgAAABwAAAAcCAIAAAD9b0jDAAAAUUlEQVR4nO3U0QlAIQxDUXHHLJkMGVdIQfE96f0uRynoGN1rASCZTM4TxxdQAD9B8xpt9B4qaT+a9wE0fP7lnSZu7aaSSIZfdRpJ27Z3ol3SAncCGRNAukhGAAAAAElFTkSuQmCC\"/></td><td style=\"padding:1px;\"><img width=\"28\" height=\"28\" style=\"image-rendering:auto; object-fit:cover;\" src=\"data:image/png;base64,iVBORw0KGgoAAAANSUhEUgAAABwAAAAcCAIAAAD9b0jDAAAAq0lEQVR4nO2UwQ6EMAhE0ewv0o+Ej2QPm5gKSCmrB43vZCIzHTutAC/PhIhERETmZIgYvJWOc4IgYm8aL+9oXMG2ZDy2KlP3Oc4xYZoEEa1qdUenIKKsqRuhgirXRoD9kTqq6xOvoapLZl9skIxMuyw7H72nrbWC6Rh7wmPsnjh7uoX9TfcaZnbbO/87bFJdVAZVpmoJajeKmQuqMfEF+csXSv+gAZechPvzBYab3UtplWNHAAAAAElFTkSuQmCC\"/></td><td style=\"padding:1px;\"><img width=\"28\" height=\"28\" style=\"image-rendering:auto; object-fit:cover;\" src=\"data:image/png;base64,iVBORw0KGgoAAAANSUhEUgAAABwAAAAcCAIAAAD9b0jDAAAAsklEQVR4nO2UQQ7EIAwDYf9oHuk8snuIGqESQom2e6pPFZSRcUJKefVnASB5dAIAID5V3VWSBnV/EJHWWtIaSZKu37tE9Ric7Hc3oLEXAHegn9mGiGx4iaEaf61+AfOKi5DJdCmrlbXdb2Tleoq717Am7f9xPfkQSpfgeDJpdpndDDpt/nKOFRFxH0IyzeB28YhYQ0eDy4kVPUcl9te/hLs3VQ1xzJXM9MLVb53ZSdyrtL4z4SUTJVYiGwAAAABJRU5ErkJggg==\"/></td><td style=\"padding:1px;\"><img width=\"28\" height=\"28\" style=\"image-rendering:auto; object-fit:cover;\" src=\"data:image/png;base64,iVBORw0KGgoAAAANSUhEUgAAABwAAAAcCAIAAAD9b0jDAAAAjUlEQVR4nO2UMQ6AMAwDW/7oPNKfDEOlCDG0TigSA945LonV1v78EeLuAABsYAHwaSq/mRPdnWSOSHKz40STZJEY2xwDBnH54aHQzSwWZ2YVwcgwzWo2xfTazaeaI7fr72n+jStWcj1+YWTp+r33/dBsVIUok2KdNlUKoEJT53plp2lo+vVc4ipP8qdzAuSc01Xk8lD4AAAAAElFTkSuQmCC\"/></td><td style=\"padding:1px;\"><img width=\"28\" height=\"28\" style=\"image-rendering:auto; object-fit:cover;\" src=\"data:image/png;base64,iVBORw0KGgoAAAANSUhEUgAAABwAAAAcCAIAAAD9b0jDAAAAr0lEQVR4nO2UwQ7DMAhD2bRf9E86H8kO3lCUqC0LOexQn2hUHhjamN26lRBJd3d3kudvPpNEdwfQWotHMwOw3iMAQftDkiUoydnyyRyu7QPojUeZ5RY/+YN3nZS42rhiDbdKDFB8T5nlvDJQBe2rUo/STz2mNHjfA42dbNi4JNBcYF1hfKiRmezhH6XkPbvu+xrMqvdMbvbqs+JFF4h+pvOIS9xQnvi45CrYvLF/0RuQ0btnTOT0iQAAAABJRU5ErkJggg==\"/></td><td style=\"padding:1px;\"><img width=\"28\" height=\"28\" style=\"image-rendering:auto; object-fit:cover;\" src=\"data:image/png;base64,iVBORw0KGgoAAAANSUhEUgAAABwAAAAcCAIAAAD9b0jDAAAAl0lEQVR4nO2UQRKAIAwDq38sj2weqQdGBooiSLyxN5wSksAoslj8jaoeF6p6O2BmccDM6pntaU9aAgAQv6cBtwVACKHXaT/vDaR0TFEpi2uTdzVMrLI+6fYyx3CiUzafFGdt1q+CEJyv6EQJVUrZJsdj3ibHo5TBOTbz4PwqOTbdw+y3uc+ePCrqwsZf9ayoo1+0xedrOQEmGmm+nsmAbQAAAABJRU5ErkJggg==\"/></td><td style=\"padding:1px;\"><img width=\"28\" height=\"28\" style=\"image-rendering:auto; object-fit:cover;\" src=\"data:image/png;base64,iVBORw0KGgoAAAANSUhEUgAAABwAAAAcCAIAAAD9b0jDAAAAiUlEQVR4nO2UQQ4AIQgDdf+Ij4RHdm/GGKOFJdmLc/KADQ2UUi4/IiIAAIjIvvJxifbHUZcFA6qaoNi9M7oO+zyVrAOw+FzX36lOvWOJ22+t5YuaWbLopk0WVZ32aV9/7jQQnsj0E7xPxhNSP6WTjPzBfto1GhVjl4ndUzPj50OJuhTPZB75yxde/gJ9taw5H2cAAAAASUVORK5CYII=\"/></td></tr></table>"
            ]
          },
          "metadata": {}
        },
        {
          "output_type": "stream",
          "name": "stdout",
          "text": [
            "Generated sample images (min/max): 0/3\n"
          ]
        }
      ],
      "source": [
        "fm_model = UNetFlowMatcherMNIST(num_pixel_classes=N_GRAYSCALES, base_channels=32)\n",
        "fm_model.to(device)\n",
        "\n",
        "def sample_and_viz(model_to_eval):\n",
        "  torch.manual_seed(1)\n",
        "  initial_noise = torch.randint(0, N_GRAYSCALES, (20, 28, 28),\n",
        "                                dtype=torch.long, device=device)\n",
        "  imgs = sample_batch(model_to_eval, initial_noise, num_steps=20, K=N_GRAYSCALES)\n",
        "  show_images(imgs.cpu().to(torch.uint8))\n",
        "  print(f\"Generated sample images (min/max): {imgs.min()}/{imgs.max()}\")\n",
        "  torch.random.seed()\n",
        "\n",
        "trainer_fm = Trainer(model=fm_model,\n",
        "                  train_loader=train_loader,\n",
        "                  test_loader=test_loader,\n",
        "                  loss_fn=flow_matching_loss,\n",
        "                  extra_eval_fn=sample_and_viz,\n",
        "                  num_epochs=5)\n",
        "trainer_fm.train()\n"
      ]
    },
    {
      "cell_type": "markdown",
      "metadata": {
        "id": "YupNGtOw7j9h"
      },
      "source": [
        "## Simple Guidance (just brightness)"
      ]
    },
    {
      "cell_type": "code",
      "execution_count": 20,
      "metadata": {
        "colab": {
          "base_uri": "https://localhost:8080/",
          "height": 335,
          "referenced_widgets": [
            "fac3ab86c81a496b9f922978661caa2b",
            "51c65509a02744dc8083931c9054a5bb",
            "9953b552144f473a895fcc5692f8ef92",
            "f93687666a7a4869a1be8d68e0f7fe5d",
            "6abe8ba357a048fa82a74a704bcd0ffa",
            "de3aa56c14a940878329180d969dba8b",
            "a1fb1efc7bfa48cd8194ef95744f9d18",
            "48acf2779fd84fec9684c44df3340ac0",
            "9113a2caa03045bf9b042305d77ad16c",
            "50ea122e481c4fcb8692b8d421a45246",
            "f0a1825df73b4199aea7d4e8f39e5104"
          ]
        },
        "id": "ROr_U0gs7mFt",
        "outputId": "f56aae01-9402-4937-ba4a-d461b29ffb52"
      },
      "outputs": [
        {
          "output_type": "display_data",
          "data": {
            "text/plain": [
              "Intensity Guidance:   0%|          | 0/30 [00:00<?, ?guidance_steps/s]"
            ],
            "application/vnd.jupyter.widget-view+json": {
              "version_major": 2,
              "version_minor": 0,
              "model_id": "fac3ab86c81a496b9f922978661caa2b"
            }
          },
          "metadata": {}
        },
        {
          "output_type": "display_data",
          "data": {
            "text/plain": [
              "<IPython.core.display.HTML object>"
            ],
            "text/html": [
              "<table class=\"show_images\" style=\"border-spacing:0px;\"><tr><td style=\"padding:1px;\"><img width=\"840\" height=\"280\" style=\"image-rendering:auto; object-fit:cover;\" src=\"data:image/png;base64,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\"/></td></tr></table>"
            ]
          },
          "metadata": {}
        }
      ],
      "source": [
        "@torch.no_grad()\n",
        "def sample_with_guidance(model, initial_noise_discrete, guidance_fn, guidance_scale,\n",
        "                         num_steps=10, K=N_GRAYSCALES, temperature=1.0):\n",
        "    model.eval()\n",
        "    device = next(model.parameters()).device\n",
        "    x_est_x0_discrete = initial_noise_discrete.clone().to(device)\n",
        "    fixed_x1_sample_discrete = torch.randint(0, K, size=initial_noise_discrete.shape, device=device, dtype=torch.long)\n",
        "\n",
        "    for i in range(num_steps):\n",
        "        t_model_scalar = (num_steps - i) / num_steps\n",
        "        t_for_model_nn = torch.full((x_est_x0_discrete.shape[0],), t_model_scalar, device=device, dtype=torch.float)\n",
        "        mask_prob = t_model_scalar\n",
        "        mask = torch.rand_like(x_est_x0_discrete, dtype=torch.float) < mask_prob\n",
        "        x_t_formed_discrete = torch.where(mask, fixed_x1_sample_discrete, x_est_x0_discrete)\n",
        "\n",
        "        logits_pred_x0 = model(x_t_formed_discrete, t_for_model_nn)\n",
        "\n",
        "        with torch.enable_grad():\n",
        "            logits_for_guidance = logits_pred_x0.clone().requires_grad_(True)\n",
        "            probs_for_guidance = F.softmax(logits_for_guidance, dim=1)\n",
        "            scores = guidance_fn(probs_for_guidance)\n",
        "            grad_wrt_logits = torch.autograd.grad(scores, logits_for_guidance)[0]\n",
        "\n",
        "        logits_guided = logits_pred_x0 + guidance_scale * grad_wrt_logits\n",
        "        flat_logits = einops.rearrange(logits_guided, \"b c h w -> (b h w) c\")\n",
        "        flat_probs = F.softmax(flat_logits / temperature, dim=-1)\n",
        "        flat_discrete = torch.multinomial(flat_probs, num_samples=1)\n",
        "        x_est_x0_discrete = einops.rearrange(flat_discrete, \"(b h w) 1 -> b h w\", b=logits_guided.shape[0], h=logits_guided.shape[2], w=logits_guided.shape[3])\n",
        "\n",
        "    return x_est_x0_discrete.squeeze(1)\n",
        "\n",
        "\n",
        "def intensity_guidance_viz(model_to_guide, steps=30, num_examples=10, K_val=N_GRAYSCALES):\n",
        "  device = next(model_to_guide.parameters()).device\n",
        "  def intensity_objective(x):\n",
        "    pixel_values_tensor = torch.arange(K_val, device=device, dtype=torch.float32).view(1, K_val, 1, 1)\n",
        "    expected_img_values = torch.sum(x * pixel_values_tensor, dim=1)\n",
        "    return expected_img_values.mean()\n",
        "  torch.manual_seed(1)\n",
        "  device_viz = next(model_to_guide.parameters()).device\n",
        "  initial_noise = torch.randint(0, K_val, (num_examples, 28, 28), dtype=torch.long, device=device_viz)\n",
        "\n",
        "  images = []\n",
        "  for s in tqdm(range(steps), total=steps, unit=\"guidance_steps\", desc=\"Intensity Guidance\"):\n",
        "    scale = torch.tensor(s / (steps - 1)) * 2 - 1\n",
        "    scale *= 1e4\n",
        "\n",
        "    sampled_imgs = sample_with_guidance(\n",
        "        model_to_guide, initial_noise_discrete=initial_noise, guidance_fn=intensity_objective,\n",
        "        guidance_scale=scale, num_steps=20, K=K_val)\n",
        "    images.append(sampled_imgs.cpu())\n",
        "\n",
        "  torch.random.seed()\n",
        "\n",
        "  i = torch.stack(images, axis=0).to(torch.uint8)\n",
        "  i = einops.rearrange(i, \"r c w h -> (c w) (r h)\")\n",
        "  show_image(i)\n",
        "\n",
        "intensity_guidance_viz(fm_model)"
      ]
    },
    {
      "cell_type": "markdown",
      "metadata": {
        "id": "_e2TcD2kUfyC"
      },
      "source": [
        "## Classifier Model"
      ]
    },
    {
      "cell_type": "code",
      "execution_count": 11,
      "metadata": {
        "id": "lK4hsltuUfyC"
      },
      "outputs": [],
      "source": [
        "class MNISTClassifier(nn.Module):\n",
        "    def __init__(self,\n",
        "                 num_classes=10, base_channels=32,\n",
        "                 num_groups_norm=8, use_attention_bottleneck=True,\n",
        "                 K_pixel_input=N_GRAYSCALES):\n",
        "        super().__init__()\n",
        "        if base_channels <= 0:\n",
        "            raise ValueError(\"base_channels must be positive.\")\n",
        "        self.embedding = nn.Conv2d(K_pixel_input, base_channels, kernel_size=1, padding=0)\n",
        "        self.conv_in = ConvBlock(base_channels, base_channels, time_emb_dim=None, num_groups=num_groups_norm)\n",
        "        self.down1 = DownBlock(base_channels, base_channels * 2, time_emb_dim=None, num_groups_norm=num_groups_norm)\n",
        "        self.down2 = DownBlock(base_channels * 2, base_channels * 4, time_emb_dim=None, num_groups_norm=num_groups_norm)\n",
        "        self.bottleneck_conv1 = ConvBlock(base_channels * 4, base_channels * 8, time_emb_dim=None, num_groups=num_groups_norm)\n",
        "        if use_attention_bottleneck:\n",
        "            self.attention = SelfAttentionBlock(base_channels * 8, num_heads=4)\n",
        "        else:\n",
        "            self.attention = nn.Identity()\n",
        "        bottleneck_out_channels = base_channels * 8\n",
        "        self.global_avg_pool = nn.AdaptiveAvgPool2d((1, 1))\n",
        "        self.classifier_head = nn.Linear(bottleneck_out_channels, num_classes)\n",
        "        self.num_pixel_classes = K_pixel_input\n",
        "\n",
        "    def forward(self, x):\n",
        "        x = x.to(torch.long)\n",
        "        x = F.one_hot(x, num_classes=self.num_pixel_classes).to(torch.float32)\n",
        "        x = einops.rearrange(x, \"b h w d -> b d h w\")\n",
        "        return self.forward_onehot(x)\n",
        "\n",
        "    def forward_onehot(self, x):\n",
        "        h = self.embedding(x)\n",
        "        h = self.conv_in(h, t_emb=None)\n",
        "        h = self.down1(h, t_emb=None)\n",
        "        h = self.down2(h, t_emb=None)\n",
        "        h = self.bottleneck_conv1(h, t_emb=None)\n",
        "        h = self.attention(h)\n",
        "        h = self.global_avg_pool(h)\n",
        "        h = torch.flatten(h, 1)\n",
        "        out_logits = self.classifier_head(h)\n",
        "        return out_logits\n"
      ]
    },
    {
      "cell_type": "markdown",
      "metadata": {
        "id": "_JZlqTJ0UfyD"
      },
      "source": [
        "## CE Loss"
      ]
    },
    {
      "cell_type": "code",
      "execution_count": 12,
      "metadata": {
        "id": "xRVxKTDbUfyD"
      },
      "outputs": [],
      "source": [
        "def ce_loss_classifier(model, batch, K_pixel_val=N_GRAYSCALES):\n",
        "    x = batch[0].to(next(model.parameters()).device)\n",
        "    y_digit_labels = batch[1].to(next(model.parameters()).device)\n",
        "    y_logits_pred = model(x)\n",
        "    loss = nn.CrossEntropyLoss()(y_logits_pred, y_digit_labels)\n",
        "    predicted_classes = torch.argmax(y_logits_pred, dim=1)\n",
        "    accuracy = (predicted_classes == y_digit_labels).float().mean()\n",
        "    return dict(loss=loss, accuracy=accuracy)\n"
      ]
    },
    {
      "cell_type": "markdown",
      "metadata": {
        "id": "ueUyTjedUfyD"
      },
      "source": [
        "## Train the classifier"
      ]
    },
    {
      "cell_type": "code",
      "execution_count": 13,
      "metadata": {
        "colab": {
          "base_uri": "https://localhost:8080/",
          "height": 138,
          "referenced_widgets": [
            "d471143af99349aabed98bb135158ffa",
            "1df332bafcab4674a50e56c866fe9d62",
            "575813497bdc4fec9182bb774d28533b",
            "8c133e6a346846298c6b999327245b88",
            "c81bb15d130a42e1a7c2eaff2d37f4e8",
            "d497a0c7cc5d40cfbcacc390a9f2b4e0",
            "6e810c26c0a24d83accadb115d539712",
            "4715d1ef38ea41c0a84149257e338e71",
            "08eb1200e515410d8f8bb8cebcbfde81",
            "7830d68bd8bc47739f78da7068806b94",
            "9f7749e40e9a44a4bbd3b9876120be5a"
          ]
        },
        "id": "zKWb0BPGUfyD",
        "outputId": "6ca6b2f4-2f59-4828-b829-35646c299165"
      },
      "outputs": [
        {
          "output_type": "stream",
          "name": "stdout",
          "text": [
            "epoch=0 test {'loss': 2.3458196073770523, 'accuracy': 0.12675781268626451}\n"
          ]
        },
        {
          "output_type": "display_data",
          "data": {
            "text/plain": [
              "Epoch 1/1:   0%|          | 0/1875 [00:00<?, ? batches/s]"
            ],
            "application/vnd.jupyter.widget-view+json": {
              "version_major": 2,
              "version_minor": 0,
              "model_id": "d471143af99349aabed98bb135158ffa"
            }
          },
          "metadata": {}
        },
        {
          "output_type": "stream",
          "name": "stdout",
          "text": [
            "mean train: {'loss': 0.6146456665088954, 'accuracy': 0.787799092409241}\n",
            "mean train: {'loss': 0.12772046047662305, 'accuracy': 0.9622104632587859}\n",
            "mean train: {'loss': 0.1011327545762516, 'accuracy': 0.9701433121019108}\n",
            "epoch=0 test {'loss': 0.08340325462631881, 'accuracy': 0.9769531264901161}\n"
          ]
        }
      ],
      "source": [
        "classifier_model = MNISTClassifier(K_pixel_input=N_GRAYSCALES)\n",
        "classifier_model.to(device)\n",
        "trainer_classifier = Trainer(\n",
        "    model=classifier_model, train_loader=train_loader, test_loader=test_loader,\n",
        "    loss_fn=ce_loss_classifier, extra_eval_fn=None, num_epochs=1 )\n",
        "trainer_classifier.train()"
      ]
    },
    {
      "cell_type": "markdown",
      "metadata": {
        "id": "sZo70soCUfyD"
      },
      "source": [
        "## Classifier Guidance"
      ]
    },
    {
      "cell_type": "code",
      "execution_count": 23,
      "metadata": {
        "colab": {
          "base_uri": "https://localhost:8080/",
          "height": 335,
          "referenced_widgets": [
            "b4d13393bcd24c1a882632efb231d014",
            "4810f1b08c9a4040b5f162294be71a04",
            "636ebdfffa394f2daf00a8c04c77b68f",
            "8f8630eb406140c29b2e78424bc5a590",
            "9067006a3c4f4beabe7be1bba5279d2b",
            "962b847fb90247f4975cdf74f77ad940",
            "7e71f21c07f34a918cf558555ef6cd13",
            "923c0196549b41a5aa1f4f865eda8a0c",
            "45132e4dd5b64907a848fc114a904847",
            "ff886970fc124d5caa7b4998002d686c",
            "c55eb73ce03c4c03b84fb0931d1c953e"
          ]
        },
        "id": "HtVZ4B9HUfyD",
        "outputId": "4aa349b8-96db-42ed-8753-1ace70b1b106"
      },
      "outputs": [
        {
          "output_type": "display_data",
          "data": {
            "text/plain": [
              "  0%|          | 0/10 [00:00<?, ?it/s]"
            ],
            "application/vnd.jupyter.widget-view+json": {
              "version_major": 2,
              "version_minor": 0,
              "model_id": "b4d13393bcd24c1a882632efb231d014"
            }
          },
          "metadata": {}
        },
        {
          "output_type": "display_data",
          "data": {
            "text/plain": [
              "<IPython.core.display.HTML object>"
            ],
            "text/html": [
              "<table class=\"show_images\" style=\"border-spacing:0px;\"><tr><td style=\"padding:1px;\"><img width=\"280\" height=\"280\" style=\"image-rendering:auto; object-fit:cover;\" src=\"data:image/png;base64,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\"/></td></tr></table>"
            ]
          },
          "metadata": {}
        }
      ],
      "source": [
        "def class_scorer(classifier_nn, x, class_weights):\n",
        "    digit_logits = classifier_nn.forward_onehot(x)\n",
        "    log_probs_digits = F.log_softmax(digit_logits, dim=-1)\n",
        "    score = (log_probs_digits * class_weights[None, :]).sum(dim=-1).mean()\n",
        "    return score\n",
        "\n",
        "\n",
        "def number_guidance(model_to_guide, classifier_model, num_examples=10, K_val=N_GRAYSCALES):\n",
        "  torch.manual_seed(1)\n",
        "  device_viz = next(model_to_guide.parameters()).device\n",
        "  initial_noise = torch.randint(0, K_val, (num_examples, 28, 28), dtype=torch.long, device=device_viz)\n",
        "\n",
        "\n",
        "  images = []\n",
        "  for n in tqdm(range(10)):\n",
        "    one_hot = F.one_hot(torch.tensor(n), 10).to(device)\n",
        "    def scorer(x):\n",
        "      return class_scorer(classifier_model, x, one_hot)\n",
        "    sampled_imgs = sample_with_guidance(\n",
        "      fm_model, initial_noise_discrete=initial_noise, guidance_fn=scorer,\n",
        "      guidance_scale=1e4, num_steps=30, K=N_GRAYSCALES)\n",
        "    images.append(sampled_imgs.cpu())\n",
        "  i = torch.stack(images, axis=0).to(torch.uint8)\n",
        "  i = einops.rearrange(i, \"r c w h -> (c w) (r h)\")\n",
        "  show_image(i)\n",
        "\n",
        "\n",
        "number_guidance(fm_model, classifier_model)"
      ]
    }
  ],
  "metadata": {
    "accelerator": "GPU",
    "colab": {
      "collapsed_sections": [
        "dtKnMN895gBQ",
        "VVWAyVgg5pU9",
        "-eeE0Bq353C0",
        "zJzok4756FQ3",
        "45klsck961RS"
      ],
      "gpuType": "T4",
      "provenance": []
    },
    "kernelspec": {
      "display_name": ".venv",
      "language": "python",
      "name": "python3"
    },
    "language_info": {
      "codemirror_mode": {
        "name": "ipython",
        "version": 3
      },
      "file_extension": ".py",
      "mimetype": "text/x-python",
      "name": "python",
      "nbconvert_exporter": "python",
      "pygments_lexer": "ipython3",
      "version": "3.11.10"
    }
  },
  "nbformat": 4,
  "nbformat_minor": 0
}
