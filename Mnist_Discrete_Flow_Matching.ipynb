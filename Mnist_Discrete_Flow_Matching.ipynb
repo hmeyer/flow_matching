{
  "cells": [
    {
      "cell_type": "markdown",
      "metadata": {
        "id": "view-in-github",
        "colab_type": "text"
      },
      "source": [
        "<a href=\"https://colab.research.google.com/github/hmeyer/flow_matching/blob/main/Mnist_Discrete_Flow_Matching.ipynb\" target=\"_parent\"><img src=\"https://colab.research.google.com/assets/colab-badge.svg\" alt=\"Open In Colab\"/></a>"
      ]
    },
    {
      "cell_type": "markdown",
      "metadata": {
        "id": "dtKnMN895gBQ"
      },
      "source": [
        "## Setup"
      ]
    },
    {
      "cell_type": "code",
      "execution_count": 15,
      "metadata": {
        "id": "xCoLJzFZ5j12"
      },
      "outputs": [],
      "source": [
        "!pip install -q mediapy"
      ]
    },
    {
      "cell_type": "markdown",
      "metadata": {
        "id": "VVWAyVgg5pU9"
      },
      "source": [
        "## Imports"
      ]
    },
    {
      "cell_type": "code",
      "execution_count": 16,
      "metadata": {
        "id": "dEVypRK85q0z"
      },
      "outputs": [],
      "source": [
        "import torch\n",
        "from torch import nn\n",
        "from torch.nn import functional as F\n",
        "import torchvision\n",
        "import torchvision.transforms as T\n",
        "from torch.utils.data import DataLoader, Subset\n",
        "import numpy as np\n",
        "from tqdm.auto import tqdm\n",
        "import math\n",
        "from mediapy import show_image, show_images, show_video\n",
        "import time\n",
        "from collections import defaultdict\n",
        "import einops"
      ]
    },
    {
      "cell_type": "markdown",
      "metadata": {
        "id": "-eeE0Bq353C0"
      },
      "source": [
        "## Setup Accelerator"
      ]
    },
    {
      "cell_type": "code",
      "execution_count": 17,
      "metadata": {
        "colab": {
          "base_uri": "https://localhost:8080/"
        },
        "id": "-WSzEefJ54S7",
        "outputId": "818bb0b6-8cfd-4e00-9d05-517e3fde8987"
      },
      "outputs": [
        {
          "output_type": "stream",
          "name": "stdout",
          "text": [
            "using device: cuda\n"
          ]
        }
      ],
      "source": [
        "if torch.cuda.is_available():\n",
        "    device = torch.device(\"cuda\")\n",
        "elif torch.backends.mps.is_available():\n",
        "    device = torch.device(\"mps\")\n",
        "else:\n",
        "    device = torch.device(\"cpu\")\n",
        "print(f\"using device: {device}\")"
      ]
    },
    {
      "cell_type": "markdown",
      "metadata": {
        "id": "zJzok4756FQ3"
      },
      "source": [
        "## Num Classes"
      ]
    },
    {
      "cell_type": "code",
      "execution_count": 18,
      "metadata": {
        "id": "U6uJRBTa6KrX"
      },
      "outputs": [],
      "source": [
        "N_GRAYSCALES = 4"
      ]
    },
    {
      "cell_type": "markdown",
      "metadata": {
        "id": "WuAvTZhk6QPv"
      },
      "source": [
        "## Prepare dataset"
      ]
    },
    {
      "cell_type": "code",
      "execution_count": 19,
      "metadata": {
        "colab": {
          "base_uri": "https://localhost:8080/",
          "height": 176
        },
        "id": "L8AoMiMC6SeL",
        "outputId": "f4181459-79a6-4416-c0f8-95a51d9c911c"
      },
      "outputs": [
        {
          "output_type": "stream",
          "name": "stdout",
          "text": [
            "\n",
            "train - showing original continuous images\n"
          ]
        },
        {
          "output_type": "display_data",
          "data": {
            "text/plain": [
              "<IPython.core.display.HTML object>"
            ],
            "text/html": [
              "<table class=\"show_images\" style=\"border-spacing:0px;\"><tr><td style=\"padding:1px;\"><img width=\"28\" height=\"28\" style=\"image-rendering:auto; object-fit:cover;\" src=\"data:image/png;base64,iVBORw0KGgoAAAANSUhEUgAAABwAAAAcCAIAAAD9b0jDAAAAm0lEQVR4nO2UwQrEIAxE69JfnJ+MHzk9BEq72EkdtrCHzkHU4HOMIcvy6k8UEQCuop8nrjShwqYJ1cQaqnPnQD1iAdXE3rsDLQ9PQ9PmkOh/lICK/UIkSV6FIkKcHTvdH5houwxOigiSAADkfKfnRN+xilgmLsev9+aytTbhNA0OQ2VCHd2BzjUUXWemRJ0dNd367th8pPO/+r02bnZo1E6joFQAAAAASUVORK5CYII=\"/></td><td style=\"padding:1px;\"><img width=\"28\" height=\"28\" style=\"image-rendering:auto; object-fit:cover;\" src=\"data:image/png;base64,iVBORw0KGgoAAAANSUhEUgAAABwAAAAcCAIAAAD9b0jDAAAAoklEQVR4nO2VQQ7AIAgESf+4PBIeSQ8mhMZGqdj00j2aOBkFkejPJwFgZmYmIgB2EmNK6FtiUx7sOqbQflFV1zWJSESaV9Jxnv7sSeLk+DGqysxVqKquXd8D06TmHBpNqyWKoLcK5b4ANvjGR+nWJa73qa/E2xhsfFB9ImJm74F1X3+m/eJgVmVN4/7qQKFrfQC0BqhO1UjZOap79LZ/5U8yJ7pP9D0wjWa6AAAAAElFTkSuQmCC\"/></td><td style=\"padding:1px;\"><img width=\"28\" height=\"28\" style=\"image-rendering:auto; object-fit:cover;\" src=\"data:image/png;base64,iVBORw0KGgoAAAANSUhEUgAAABwAAAAcCAIAAAD9b0jDAAAAuUlEQVR4nO2UwQ7DIAxD26m/aD4y+Uh2sJSx0C4Eetk0H6qqFQ/jhGzbX1+hPbsAAJ+qqqrzUADGelu8pz29iLWRiIgIABGptbpt0kS3nr9OoUcI5Ys7Kc2mPTqnI94TYnaMsk12EmdyhQoNPkJij7hqz1FZgjS4GiXlEiR3KVArUfhxVFemlsx+uDDhBY2r34vVvxlK3GRjnR6zv7i9goFCtM1jG6yllBmbrVmn1eanu3aa3ED8dT0BRQHtQT9bLmIAAAAASUVORK5CYII=\"/></td><td style=\"padding:1px;\"><img width=\"28\" height=\"28\" style=\"image-rendering:auto; object-fit:cover;\" src=\"data:image/png;base64,iVBORw0KGgoAAAANSUhEUgAAABwAAAAcCAIAAAD9b0jDAAAAk0lEQVR4nO2TUQ6AMAhD0TuWQ8Ih6wdxMTNxcdb4Yz9J9uigmP2aUkSIiQBIKrlD4joB1X+cpPjjEaEkAigiSQ3Rdo+vEAFoiBUgJdHeW3enYYNlaNPMMvNYBJCZ7j5js02zqw/TenWmtZmzI3fvvN+Alq7f34YW7pwkAI/iVbM7IgSH0HYVEQ3XtXnE1d/Vr4+1AecPsm8kRyrWAAAAAElFTkSuQmCC\"/></td><td style=\"padding:1px;\"><img width=\"28\" height=\"28\" style=\"image-rendering:auto; object-fit:cover;\" src=\"data:image/png;base64,iVBORw0KGgoAAAANSUhEUgAAABwAAAAcCAIAAAD9b0jDAAAAgklEQVR4nO2TUQqAQAhEp+iKXlIPWR+CBIHMhEFE72txF51RF/j5GWVp7twdQERERAXNLINCEXffabLqla2vUYrM7HwWZJL0MgGsasaSqbW1z5gyJztQY+yfyfYxaDx5ynsz9EKwzwu809N3J53fedAbmrBKJYHfG1TBLL+WbviPShxPh323eqJSfwAAAABJRU5ErkJggg==\"/></td><td style=\"padding:1px;\"><img width=\"28\" height=\"28\" style=\"image-rendering:auto; object-fit:cover;\" src=\"data:image/png;base64,iVBORw0KGgoAAAANSUhEUgAAABwAAAAcCAIAAAD9b0jDAAAAeElEQVR4nO2TsQ3AMAgETXZkSRgSF5Eow78FSuOr3ycwsNblX1TVzCLiO/YceN29U2pmSIyQqiqYPJE2tz8lLY2cFP9TwhgR5Ya+oJVSZQqYyxpF6ifcoJApoVLwkDgpO/eR9mtymcB9Wkil+MkT0mREijMivfSzAceHNQia4v2MAAAAAElFTkSuQmCC\"/></td><td style=\"padding:1px;\"><img width=\"28\" height=\"28\" style=\"image-rendering:auto; object-fit:cover;\" src=\"data:image/png;base64,iVBORw0KGgoAAAANSUhEUgAAABwAAAAcCAIAAAD9b0jDAAAAsklEQVR4nO2UwRKEIAxDdcdfLB9ZPhIPdTMdgUBxD3swJ6T0TQzWbXs1LVUtpagqP/YJEUUEj369KPMIm369KBEpX9nOUyiIHgHjzZZxps3scs6g/8am6RZIQOis/RLoPoRe5/b7SVJimcIdEvTCZuyD5VfMqwNi735JpoExbaqZTBfKk1ocfPJ29dROiQSKUnj2fac3uE40+WbPevR/qkHzxKNXsG/F37LtpJRWPL76R530UR8aHTTIIAAAAABJRU5ErkJggg==\"/></td><td style=\"padding:1px;\"><img width=\"28\" height=\"28\" style=\"image-rendering:auto; object-fit:cover;\" src=\"data:image/png;base64,iVBORw0KGgoAAAANSUhEUgAAABwAAAAcCAIAAAD9b0jDAAAAnklEQVR4nO2UwQ7EIAhEcdNf5CeHj7QHN6ahiOjS7KXv1CYwZego0cvLozCzemVmAPWGqhzKXXtMoaBu6U8AnI+LiGmolHIvPsw2EVEqijaBX7NMW87I2WdP0f9LO6JTfhJN22lPHoBRjREIn1rrt9MKU2PTfmaY+jFLU4xsc5n8MYlo4XIK8v9thiJ1tZxjX13ekZb5pH00EXFO0eOc7jK1fvHkqdMAAAAASUVORK5CYII=\"/></td><td style=\"padding:1px;\"><img width=\"28\" height=\"28\" style=\"image-rendering:auto; object-fit:cover;\" src=\"data:image/png;base64,iVBORw0KGgoAAAANSUhEUgAAABwAAAAcCAIAAAD9b0jDAAAAjUlEQVR4nO2UQQrAMAgES+kXN49cH2kPgoQcGk2FUsicPCTD2hqPY/MJAFRVVQFEzp9B6VC8xWMakSvzpGXpeqMFJFmW1GKKiIhYUSA1UWvN64h0gn9Qa59kgdSpn9MsueGvlGZJSH2wKqVx/vOjrpTUiuHtrjCsPufhdU2SklxYfROpNwig77dms2zi3HUWctqbth+ZAAAAAElFTkSuQmCC\"/></td><td style=\"padding:1px;\"><img width=\"28\" height=\"28\" style=\"image-rendering:auto; object-fit:cover;\" src=\"data:image/png;base64,iVBORw0KGgoAAAANSUhEUgAAABwAAAAcCAIAAAD9b0jDAAAAo0lEQVR4nO2UQQ6FMAgF0TvCIR+H9C9ICKnmFyobjbMwVu1ApYXo4xFs+U+Z2a8i0hCcmY8AAGa2AOu4zvONw4E9mabdiIiqXr4qY3kBiMP4ZCXTIYC7hqzLHCfuVomIAOR15eWr6t1VG6U0s3it/1S8hrns/Jh9OmX+TxfWO5GasVqcrDRvzEojDU0vbqNklSjfpUzXs+3PjblBGrtc21l6Oz96T7501iuw1QAAAABJRU5ErkJggg==\"/></td><td style=\"padding:1px;\"><img width=\"28\" height=\"28\" style=\"image-rendering:auto; object-fit:cover;\" src=\"data:image/png;base64,iVBORw0KGgoAAAANSUhEUgAAABwAAAAcCAIAAAD9b0jDAAAAl0lEQVR4nO2UUQrEIAxEZekVx0POHNJ+CKG7rTYpWSil8yEoyXOi0VJevXqaAJAk2VojGUjrmX1s3/pZAeCC7kET6Ajy8ewkyeqQtJ26nHoEIMHpocxvDrRXPYFeIdqljWLCTu1ykss/VQy67aE0px0kqdYaSpzJXtQ87MqZ5jeT53MKOPX/dTdoqeI70L84Xfyh1qSnkSu6W5mt1/QsngAAAABJRU5ErkJggg==\"/></td><td style=\"padding:1px;\"><img width=\"28\" height=\"28\" style=\"image-rendering:auto; object-fit:cover;\" src=\"data:image/png;base64,iVBORw0KGgoAAAANSUhEUgAAABwAAAAcCAIAAAD9b0jDAAAAkElEQVR4nO2UUQ6AIAxDwTuWQ45D1g8igaDoxkz88P1Tuq1bCD8aAIiIp6KIkCQ5191UogDWXA1yPLgtX+e0kFIyGetpbbp1oM6HpI/iuzafx1MxqJyzydVArV21RepI2b7pqA0F0E5snoQ4F51nKMbz55aNKtj3ihcsBXaUczim/oqh33rPg190nc/zzyfYAdUwx1B2EwGWAAAAAElFTkSuQmCC\"/></td><td style=\"padding:1px;\"><img width=\"28\" height=\"28\" style=\"image-rendering:auto; object-fit:cover;\" src=\"data:image/png;base64,iVBORw0KGgoAAAANSUhEUgAAABwAAAAcCAIAAAD9b0jDAAAAqElEQVR4nO2UwQ7DIAxD2dRfhI90PjI7WEPTSlwWOOzQd4Mork2ilnLzb7j7+fK5olhrXWkfA2C/7jB7uYwvvAiPSpSKotnMfhOlnJlFnZnXdHd3F9lFdQwA3QMAQFRVbxoFL1fZD1ED0HU/P5DcTcY/83UftT+iAu10U9yEfrQ3GctRgg1aHb1nGbibYpMyzAef/Z/S4J7JEAafn8+UU06mtZb3dbPIC5Wbk6TefEcKAAAAAElFTkSuQmCC\"/></td><td style=\"padding:1px;\"><img width=\"28\" height=\"28\" style=\"image-rendering:auto; object-fit:cover;\" src=\"data:image/png;base64,iVBORw0KGgoAAAANSUhEUgAAABwAAAAcCAIAAAD9b0jDAAAApklEQVR4nO2UwQ7EIAhEtdlf5CeZj6QHE0LRIKvuYZO+I23pwEwo5eUlhIiYWUREhJmJ6Fg7CzMHX32mHW0FAID2aFGj6mot9B9EtNhUp3bFVo/Hn8h0iuxaD8h0ju0qHQZgd6dW3XDR39FLS7oU5bTW6irJqa/MS46W/zNN8+asNN09KJbdPPVocldiH5BPaBQpx9T03+LjXZ4u60kG0PujN/tvuQF1YexCvT7LMgAAAABJRU5ErkJggg==\"/></td><td style=\"padding:1px;\"><img width=\"28\" height=\"28\" style=\"image-rendering:auto; object-fit:cover;\" src=\"data:image/png;base64,iVBORw0KGgoAAAANSUhEUgAAABwAAAAcCAIAAAD9b0jDAAAAfklEQVR4nO2TMQrAMAwDTf/oPNJ5pDtoLMSyUaFDby6HailmP1/A3c8fXDPp2duWlsYJEZGZeqNYShobN40IM9t7K6WAkbK4e2YibAmbFDNSxjS6ogZYEr/5+vdffEJkRSy4pjIsltStqLgpAq615rmezK55SqovHYhL/xlzA5RTU8lyDEcvAAAAAElFTkSuQmCC\"/></td><td style=\"padding:1px;\"><img width=\"28\" height=\"28\" style=\"image-rendering:auto; object-fit:cover;\" src=\"data:image/png;base64,iVBORw0KGgoAAAANSUhEUgAAABwAAAAcCAIAAAD9b0jDAAAAw0lEQVR4nO1UQQ7DMAhLpn2RPNI8kh3YIpSQkKJeNs2nVgXXMQ6l/PEVqIkeInIfan2zPcP+3jkQucXMHJASEYBAtoeAdN+suorRqFh6CsCSttYskX6yREcAICIiknDgEVZclrOBfKA+AOjaQ69jUhdJ3q7LSravSbGafD24SiMi+48k7/4Eq5p4+gNsGFbOXiY9gXNN+xJh5jmkSStXo9ChnQwqWH1W4ODg5qbF+7R4W9V1JiCak3/DdSpTzu8P/O/iBUCb/E5e+CqeAAAAAElFTkSuQmCC\"/></td><td style=\"padding:1px;\"><img width=\"28\" height=\"28\" style=\"image-rendering:auto; object-fit:cover;\" src=\"data:image/png;base64,iVBORw0KGgoAAAANSUhEUgAAABwAAAAcCAIAAAD9b0jDAAAAxUlEQVR4nO2UwQ6EIAxEdeMvlo8cPpI9NFtJGYp2PTonjOG1dAa27dXT2uPfAGwtIrqoP92uBqCF6utdkoiMiH+5DmGbRcTVs5lc6hSAosd2+pIUelCo+QAgYcjCfarW2rl/JwTe6Uw6U/sspSR6Olk2YrPuhkUji4Y02V0cfm38YWgcqcj92dRGuzLvAOUGl/VDN+jZA3/jV4rk1CqnD+WhFpcZUdt3Y3XyRvUZpFzHqrWu79X4ksZpXeB67jL5yTv6Kq0vXY6D1ExJzTwAAAAASUVORK5CYII=\"/></td><td style=\"padding:1px;\"><img width=\"28\" height=\"28\" style=\"image-rendering:auto; object-fit:cover;\" src=\"data:image/png;base64,iVBORw0KGgoAAAANSUhEUgAAABwAAAAcCAIAAAD9b0jDAAAAiklEQVR4nO2USQ7AIAhF26ZXxEPyD9kuSAxBI0hcNI1v58AHGTyOzeb7nONjZtZLAADy3pj56WHcRCMlompZSmkDB2D2HXRQRNT6q6cTovLqwRur7oSomI0vZERdXNFrscMcknQ3RdOKkVaNInVPNn8XU5l2WPUE3xFFnUExbv+EYHBWd2VxNv/lBY95gKrhh6pnAAAAAElFTkSuQmCC\"/></td><td style=\"padding:1px;\"><img width=\"28\" height=\"28\" style=\"image-rendering:auto; object-fit:cover;\" src=\"data:image/png;base64,iVBORw0KGgoAAAANSUhEUgAAABwAAAAcCAIAAAD9b0jDAAAAt0lEQVR4nO2UQQ7EIAwDy6pfdB4ZHskeorUQpBAQhz3UV8rgxGmu69VMqlpKUdXDRFOQ+xkfAwCw6uMeE2ktpbRBd8TCD7BMAJb6WOuxpyw253wMSuIG9FFW+144o/R7NRMGIP8Uut84ZW6uQmESYdCGqKp8jGM3b1T9aU10by5sBlLGXpqaQtCxR7Npr86JV3g5uRsnNFLuxBDXn6axWboQEdediCz/cnUT+tncX4aM4gzu1R/pCwDDHydHzWmbAAAAAElFTkSuQmCC\"/></td><td style=\"padding:1px;\"><img width=\"28\" height=\"28\" style=\"image-rendering:auto; object-fit:cover;\" src=\"data:image/png;base64,iVBORw0KGgoAAAANSUhEUgAAABwAAAAcCAIAAAD9b0jDAAAAwklEQVR4nO1UQQ4DIQikTb+Ij8RH0gNZMkFlxfTQw87Bg4RhgFGiB38CZlZVVZ1GP5sUzBxuzhWJiKaoKRURl9N791NETtT5vFQVqUPIojXGVYKVSXonovcq0For3Wek3myyXwvZiLcwTs2AxfLel7y3TgoLDHjl7JQOpF+oqcYCqBFbOWR0CvSZlzl5slNGJy0/MGxzTC7LxJFNF10zVq5uU2b8pfDrNK+MmV6sYKbc9rdN0Mr8qDcIp8vzuxof/ARfz91W8UVsiW0AAAAASUVORK5CYII=\"/></td><td style=\"padding:1px;\"><img width=\"28\" height=\"28\" style=\"image-rendering:auto; object-fit:cover;\" src=\"data:image/png;base64,iVBORw0KGgoAAAANSUhEUgAAABwAAAAcCAIAAAD9b0jDAAAAp0lEQVR4nO2UQRKDMAhFfzteEQ5JDokLZizaNBDiTDe+NT5/yFfg4V8QUTgjIpmxz7Sq5mfet7xfRAAw80RGI5PR2FLu3zo7RDajoY5uwLnLMYjoW3rsxFZZwUuJ6Aajl/rUS0acC3DYx4/EPb3AzK21akIA54vKHzlIOl2XkMI2A/zBfZPqXl9Gs3S/gjm6ofJhRz+Uy8OrC9Uhof2Vj2mdX23+Q40dEeAMJII+VWoAAAAASUVORK5CYII=\"/></td><td style=\"padding:1px;\"><img width=\"28\" height=\"28\" style=\"image-rendering:auto; object-fit:cover;\" src=\"data:image/png;base64,iVBORw0KGgoAAAANSUhEUgAAABwAAAAcCAIAAAD9b0jDAAAAq0lEQVR4nO1UWwrDMAxrx66oHNI+pPph8EKyOM0DBmX+KqZSZEXxcTy2AJAUkeCf1wTpgqQGI0mS3hGRWvWYUsOnlNb1fRi7bv6a0a3ceUv7GW3wzUmasLITKaNT1aIPYF57LdMvLX8CA1W4CcA6S6S5zFygU7eA75sHmF5VNX8B1EaPKS3W3VJsi2FtIfl3ADxj0ibsjIBRTr+6pqoxY788Rjb7/rX/r8fVBXugw2XW/VucAAAAAElFTkSuQmCC\"/></td><td style=\"padding:1px;\"><img width=\"28\" height=\"28\" style=\"image-rendering:auto; object-fit:cover;\" src=\"data:image/png;base64,iVBORw0KGgoAAAANSUhEUgAAABwAAAAcCAIAAAD9b0jDAAAAjUlEQVR4nO2UMQ7DMAwD7aJf5CfpRyqDAKFIC4dqOXTIzfaZEAWPcXOjAYBkRADwGFNXGLyngAbpyQggIkh+b3xX5BsGqdNY0uo92V95iurXaGut/eHZMmZXc0q3JMxrn+j9PETjr3V/RCm9kJJmzMvSe7RiStTym43dli5mmgG709xJSZpXfVj+zX/nAMQHjot7OGF+AAAAAElFTkSuQmCC\"/></td><td style=\"padding:1px;\"><img width=\"28\" height=\"28\" style=\"image-rendering:auto; object-fit:cover;\" src=\"data:image/png;base64,iVBORw0KGgoAAAANSUhEUgAAABwAAAAcCAIAAAD9b0jDAAAAk0lEQVR4nO2UQQ7EIAhFaTNX/B6Sf0hmwYakVaGxaTLTt1R8AUFFXn4QVTWzlUYAZmZmAMaRe0majMxKASyWlow1KUmSefXE6P2RdPcnmQJQVRFprcXF69JoXFa4V+3e3sopn95GPOn1lgZglGaPcbLbYC+mdhxVkrF7F/HZml6olN6+kxmDRz+UEk+Xn+cW6Z/zBc/cc8Va6+NCAAAAAElFTkSuQmCC\"/></td><td style=\"padding:1px;\"><img width=\"28\" height=\"28\" style=\"image-rendering:auto; object-fit:cover;\" src=\"data:image/png;base64,iVBORw0KGgoAAAANSUhEUgAAABwAAAAcCAIAAAD9b0jDAAAAqklEQVR4nO2USw7DIAxErapXHA5pH3K6GAWhNKEx8aKLzMri8xhsjNmjvEi6+9nsK4sDQHK+JgcFAMDMIiIisoaORZKkuDXSxSepTMvdi4n1HkX8WfEyIjbloJNyK8vp93BWHAB9SsFdm92gxsVdtzkaHOPvve+LZ4hiZq01Hak416z9bXZTYxI1nsB1jfUdobd6f5fEddAOutZLs/9U7lSZMmjZN/zoT/UBHO/XSiy02XsAAAAASUVORK5CYII=\"/></td><td style=\"padding:1px;\"><img width=\"28\" height=\"28\" style=\"image-rendering:auto; object-fit:cover;\" src=\"data:image/png;base64,iVBORw0KGgoAAAANSUhEUgAAABwAAAAcCAIAAAD9b0jDAAAAoUlEQVR4nO2UwQ7EIAhE2f3H8SPHj2QPJoTUlkI12UvnVqvPCYOIvPqjSKoqyT04AOq0gWtEkgDGJ4Al6MHdKMIS1xDzyvM6BKYGvez3Nu6yWcsn8FI2m+zKGvSQTwn6Pd2avPxqWwTtvWfQWSUTuCrRudPkxSLSWssesH4KiDub1M+XAnHIHvhs8Pmr9478EFmdezopafAT//aUQtCvtusHcwD7FczO1eAAAAAASUVORK5CYII=\"/></td><td style=\"padding:1px;\"><img width=\"28\" height=\"28\" style=\"image-rendering:auto; object-fit:cover;\" src=\"data:image/png;base64,iVBORw0KGgoAAAANSUhEUgAAABwAAAAcCAIAAAD9b0jDAAAAm0lEQVR4nO2UQRKAIAhFqemKcEg8JC2YmiYDhHFV/W3xfCgK8OfNQUQRYebHr2sZCgCttbpXH0cTfFOnDFxNE4qIunHZxTyopaOLVaBnJRFZlSH6HmYWEat3OWJxt5B+3YGR3s3oEYWxyhcf7QgS0ZzhV8FwpCrQ8LfE3VfBkZYT0PFzT79SM01T41l8T+dAUyOZMNXHpX5NP5Md0Pt/v/EpozYAAAAASUVORK5CYII=\"/></td><td style=\"padding:1px;\"><img width=\"28\" height=\"28\" style=\"image-rendering:auto; object-fit:cover;\" src=\"data:image/png;base64,iVBORw0KGgoAAAANSUhEUgAAABwAAAAcCAIAAAD9b0jDAAAAp0lEQVR4nO2UMQ4EIQhFnc1e8XtIOOROQUKIK6iE6eYXFgpPAaG1V9W6vAMAuqqYmZkz9xDRLxQRFRCJaNg/4wIQxBD4/5VTg6QAPMJdJuGTgPbeY4MMdKkMtDKVqrJCAdAeU6hn/A1AUlzvOctyTXBxp8p/2g3fRqeew6bVFnf6sS00MwesgzzT8z+bA96gii3XSZA8BuNKzQ6SsC/lVkKb6YtXD+oGAGxut2oqLj0AAAAASUVORK5CYII=\"/></td><td style=\"padding:1px;\"><img width=\"28\" height=\"28\" style=\"image-rendering:auto; object-fit:cover;\" src=\"data:image/png;base64,iVBORw0KGgoAAAANSUhEUgAAABwAAAAcCAIAAAD9b0jDAAAAkUlEQVR4nO2USwoAIQxDZe4YD1kPWReBMjiCv8BszEJw4TOmtildrQiAmbm7mWmIgQOgIbq7mKj3CIA2NTiKxHmPj/LyeWi8WlwflkjzN6M+DJTcU78BpcHYDrlThSqlcM05p/Nwv9YE4XYRw0bY+afDEBYybbQPJa45371jTc18kg3p6KuQZuy/+1U2BK5+VgW3Zbxl0dVf+wAAAABJRU5ErkJggg==\"/></td><td style=\"padding:1px;\"><img width=\"28\" height=\"28\" style=\"image-rendering:auto; object-fit:cover;\" src=\"data:image/png;base64,iVBORw0KGgoAAAANSUhEUgAAABwAAAAcCAIAAAD9b0jDAAAAnUlEQVR4nO2TSw6AIAxEwTsOhxwOqQuSBon9EePKtzIpnc5IKeXn52NInndIknxNbpFOK0ozAABzCcAobXpc5JaRWtWyqfWI04So2LQPJP6puDB63AOHVmitaVPHR+896nRue2R/n1xRe7Aa/5HcDgUJZk84FS33impcVDa3Vqcr6nRzk2zcZzYTjR/PXoLxJbv2zHZEs+RE37ylLBcLM7puuY5+wQAAAABJRU5ErkJggg==\"/></td><td style=\"padding:1px;\"><img width=\"28\" height=\"28\" style=\"image-rendering:auto; object-fit:cover;\" src=\"data:image/png;base64,iVBORw0KGgoAAAANSUhEUgAAABwAAAAcCAIAAAD9b0jDAAAAiklEQVR4nO2USwrAIBBDpXeMh4yHnC6kg2jBX0o3vp0uHomME8LhXwCYmZnJjCTtgaTYqAnrrUu1xgigPS6S05WP2N5UXIPqGON4jo4UwELNjjR3TCkppZmp7qNSMa8juTtSr6PTHf5P6k9LBaukaqr5o9Wi84UiSJq9btx9Ae/rbBVvvSQ1xsMCN5bWxFNvG1E2AAAAAElFTkSuQmCC\"/></td><td style=\"padding:1px;\"><img width=\"28\" height=\"28\" style=\"image-rendering:auto; object-fit:cover;\" src=\"data:image/png;base64,iVBORw0KGgoAAAANSUhEUgAAABwAAAAcCAIAAAD9b0jDAAAAlUlEQVR4nO2UQQ6AIBADi39cHlkeqYeNjQFMZMGT9mAiyQ61BYFf31UKT5pZ9QSQ0gjQzDRPcu+J5BjRZ4Qjaaf0OkAE4CAAkeGu3N0C0OvEeBWtvAH1ow1mM61q0TZT0FYPoVu7dFeOB1pKidtpO/HPD2ba7VqLESIA71q1BM5TJ1Ocf50qvpxz0KbMXj2uue+/vqEDs23UPYwmeGwAAAAASUVORK5CYII=\"/></td></tr></table>"
            ]
          },
          "metadata": {}
        },
        {
          "output_type": "stream",
          "name": "stdout",
          "text": [
            "Example pixel values from train_loader (continuous): 0, 3\n",
            "test - showing original continuous images\n"
          ]
        },
        {
          "output_type": "display_data",
          "data": {
            "text/plain": [
              "<IPython.core.display.HTML object>"
            ],
            "text/html": [
              "<table class=\"show_images\" style=\"border-spacing:0px;\"><tr><td style=\"padding:1px;\"><img width=\"28\" height=\"28\" style=\"image-rendering:auto; object-fit:cover;\" src=\"data:image/png;base64,iVBORw0KGgoAAAANSUhEUgAAABwAAAAcCAIAAAD9b0jDAAAAl0lEQVR4nO2USw6AIAwFi3csh+w75HNBTIgiBayunBUSM/3QVOTnJ5R0vVJVVS1nAAACpCRPNx1vM2o70/pcfzalOefOD7cUr1aICEmS/ZDTYUiaWZhRvDS3BWNwgnIUHtxNM3O7uVK+dCd3mvhHf6WbxRiZZnmf61p4xFuFjxv9kVpooiN1V9+KtGZ84IekAFJqrPNP2QHRkHS8s665VwAAAABJRU5ErkJggg==\"/></td><td style=\"padding:1px;\"><img width=\"28\" height=\"28\" style=\"image-rendering:auto; object-fit:cover;\" src=\"data:image/png;base64,iVBORw0KGgoAAAANSUhEUgAAABwAAAAcCAIAAAD9b0jDAAAAr0lEQVR4nO2VwQ7EIAhEddNfHD6S+Uj2sAkxKLZrTXrpO9I4jAympbzkAACgqmZmZqoK4JaiawW2KaqqVxbNAnCtvlMo/icaDnunU6fHsEqy1tp3WjE4IRvIBsX1lHraPX1MMabR49veR5fxmX92dyQvKp6wnPjM6f7FvJN4OvuFfJzxM20BME+pvYqIlCtOA95gOHERIZk6JTk8NiySbG8zm1d7/vdfCRLblvflGb44wcOBIqMH8QAAAABJRU5ErkJggg==\"/></td><td style=\"padding:1px;\"><img width=\"28\" height=\"28\" style=\"image-rendering:auto; object-fit:cover;\" src=\"data:image/png;base64,iVBORw0KGgoAAAANSUhEUgAAABwAAAAcCAIAAAD9b0jDAAAAfElEQVR4nO2UMQrAMAwDRekX/UnnkerguakUHOiQm80hoRDg8AdIRsTk4HKNc90imUmy0xgRJDNzfmbXBzDGWIr0Qn93ACQVqVG/dle6b5EaRmX3YmX9Nml/d8i7F1JSN6Yhbaa66+rvpBv/OvGFqrjdAdyfFzV68ws9uDxUj0/cfHkW/wAAAABJRU5ErkJggg==\"/></td><td style=\"padding:1px;\"><img width=\"28\" height=\"28\" style=\"image-rendering:auto; object-fit:cover;\" src=\"data:image/png;base64,iVBORw0KGgoAAAANSUhEUgAAABwAAAAcCAIAAAD9b0jDAAAArElEQVR4nO2USw7DIAwFkypXNId8HNJdWKEV/oApUjeZFQowGOP4OB7+BQBmBrBTyjdENFz8mjFmA7ziabr5/iKDWmvqpA/sM5MHA3mcgLSRiDoFAElFOywdrDaaszmvp9P3SEuDYmpJ0FODOi2lDI+freIgCmHl+vGGrjA2SLviTby+J+2MXjZPTyoDeSh382lvt9G/k2alt27WtWDNhrLYnEx16ya/Gh/WeANahnOwmWR8qQAAAABJRU5ErkJggg==\"/></td><td style=\"padding:1px;\"><img width=\"28\" height=\"28\" style=\"image-rendering:auto; object-fit:cover;\" src=\"data:image/png;base64,iVBORw0KGgoAAAANSUhEUgAAABwAAAAcCAIAAAD9b0jDAAAAl0lEQVR4nO1UQQ6AIAwD4xf5ZHnkPCxZiGHVTU6GHmXtujooZeMPaK2JiHfksY4v/QBkRImd3nvSi4h4dkgyD4qEBiAsqhwyPm85AR/cWpKCvE1S4HLSNt2VSm4MEeWKOjWpOQkTwMiMJTiFBkdAuJWc3aypawD6vVbGjcFu2oI0DBYLqQk/fW9WLSy6cmrD+kDL8Pc3PFyZVqOGlTca0gAAAABJRU5ErkJggg==\"/></td><td style=\"padding:1px;\"><img width=\"28\" height=\"28\" style=\"image-rendering:auto; object-fit:cover;\" src=\"data:image/png;base64,iVBORw0KGgoAAAANSUhEUgAAABwAAAAcCAIAAAD9b0jDAAAAhElEQVR4nO2USQ6AMAwDXf6YPtJ9ZDgUuFGcqAgJ8DkdjbsBf94ZM3N3MxvMlCjU3beV5XTtEiIegq21wdgt0BjR94wnA6a6Zqy+CFWjd0fCdJomAJKipppQd0Tri90l6Pw7D6AXJynOX5uOP6Qk9EitdRq0m4Z2M/NMn4FKIZk4rs9mBesnT+iIrUQNAAAAAElFTkSuQmCC\"/></td><td style=\"padding:1px;\"><img width=\"28\" height=\"28\" style=\"image-rendering:auto; object-fit:cover;\" src=\"data:image/png;base64,iVBORw0KGgoAAAANSUhEUgAAABwAAAAcCAIAAAD9b0jDAAAArElEQVR4nO2UOw7DMAxD5aJXpA8pH1IdhApFPgqJdgrKIYOhUM/62OyvO8jd3b2PAbA5eTbREWFma63LmDEGyxgRPWbG7EmPBSAikqKPuSyOgFBZWUzm4j1m16gmawLOOTVTAAny2f30ym8/FQd2QUhw3JDm//5W5ROazohxfEiO+yp/awqAnUpezPzK0laIEfMalNiaSgMvr2m162xHBdUiML1iSeviPwC8u150z8F3rkuexgAAAABJRU5ErkJggg==\"/></td><td style=\"padding:1px;\"><img width=\"28\" height=\"28\" style=\"image-rendering:auto; object-fit:cover;\" src=\"data:image/png;base64,iVBORw0KGgoAAAANSUhEUgAAABwAAAAcCAIAAAD9b0jDAAAAoklEQVR4nO2USw6AIAxEB+/YSw6HxEUDaVBao9WVb0VCmMz0A/Dz40KSZJqciLROmmgz5Jgl2Q6ISPiw+DYB1FoBWK1SvFceWs0R2RY3rMPmX6tNPYxzyFJU89rUV6oZiFpfImIjX1c/Yeq76j4dr9PmjDm7b1aDT75UN3NxYRJkiqKbfdSxI2+ZnVYujdUXE6ypj/4syZVF71iyKID8MfiOHTKzu2Of6idFAAAAAElFTkSuQmCC\"/></td><td style=\"padding:1px;\"><img width=\"28\" height=\"28\" style=\"image-rendering:auto; object-fit:cover;\" src=\"data:image/png;base64,iVBORw0KGgoAAAANSUhEUgAAABwAAAAcCAIAAAD9b0jDAAAApUlEQVR4nO2UQQ4EIQgEnc1+sX1k88idA1lidDCKHKdOxsQSECzlJZsrdgyALkSEpIjoOugi+XPY1k1co/S7GKDl2/GY8kyqxeqO2U6kgpqvF2AENZJMNkZe0wPAufEzSku4jf/0E2Ux1lrDdleqtC2lCwDbN61MTqQx7K3mBFtYp9OL/aiLLXCS7R0T6dKHYvbS/KSnjBXImeDWm/knaEHTdC9b3GycKSfKp5wNAAAAAElFTkSuQmCC\"/></td><td style=\"padding:1px;\"><img width=\"28\" height=\"28\" style=\"image-rendering:auto; object-fit:cover;\" src=\"data:image/png;base64,iVBORw0KGgoAAAANSUhEUgAAABwAAAAcCAIAAAD9b0jDAAAAq0lEQVR4nO1VSQ4EIQjEyXwRHwmP7DmQGEZtEOVonYgNRbFoA1xcpKKsuyIiIorNzMy8nxYRieiZgYiI6JROWMRoh02+Dx3WKRJbO6xq1IxjPulvgFR7T0vTDtOsXzdHFzOmqbX6SuG/XwbeRm/t6RijZTLzqsZF+YE1MuBO74gxfIVcxjSZ+a0EgOTCtxk/xrduK/elabRuRgu3blR7fkoJ/CAcyDKlTfwQPx3ILAHBQu3NAAAAAElFTkSuQmCC\"/></td><td style=\"padding:1px;\"><img width=\"28\" height=\"28\" style=\"image-rendering:auto; object-fit:cover;\" src=\"data:image/png;base64,iVBORw0KGgoAAAANSUhEUgAAABwAAAAcCAIAAAD9b0jDAAAArklEQVR4nO2UQQ7EIAhFmclcEQ/5OeR0QUKMFRDbmVX/yhh9fViU6MndeaUrmFlEdGBjIrJBOQC+fpi5bAqg39ar2XxrraDMzIGRVQBgldhDvRqN6y1wobFIWVZFYguTHebfgWn6Ye8XzaFKFJG9ZpxD9Zi229stf1szgl7JBLred3b0OXSdeDO0J/4Eurpnek+UBSC99Z8Afb7Uw0tY6zk12nie85y5w7P95H85ADhS33JR7RcxAAAAAElFTkSuQmCC\"/></td><td style=\"padding:1px;\"><img width=\"28\" height=\"28\" style=\"image-rendering:auto; object-fit:cover;\" src=\"data:image/png;base64,iVBORw0KGgoAAAANSUhEUgAAABwAAAAcCAIAAAD9b0jDAAAAvUlEQVR4nO2USxLEIAhEnalcsTkkHpIsqFCWgr9xMYv0MsZHBzqk9KorZhYRZj5MFBEAZ4gA1OMxYnpsbhC/xyxMans+V3TQx1lPcs4L1aKhWx5MC03XC5W7klXSp4gWJtdg+7wy6/dUX7J+WVTzo76ncFBuDSJqT9sy45zqx0ZEV7+G3x39GKoGAbjxSvNRbQNYLUAAy5vB3aF2f7gPPx0ugHKyijAQEa39oyoJNNwyoVNzpzJT88F69fe6ARbA6Wb84shqAAAAAElFTkSuQmCC\"/></td><td style=\"padding:1px;\"><img width=\"28\" height=\"28\" style=\"image-rendering:auto; object-fit:cover;\" src=\"data:image/png;base64,iVBORw0KGgoAAAANSUhEUgAAABwAAAAcCAIAAAD9b0jDAAAApklEQVR4nO2TTQ6FIAyEi/GKcMjpIXVB3oSA/LT6XPmtDKbTYUpFPj7eJ8YI4PgBgOd+xaMBQG5zqbuveMzfKaXyF8+dHgFUjrJNj26vks3MmXIy683IZmslwihU1Vp77bR8WIPayfSlmHKZoMdm64uTGTxPEsa6lTsGGsKk0EC1pj3M05c7gbb4t6iHaYs8139YVFVXAl0VNa3mX64/X9PMk8/IxwnAUrt8owTfUwAAAABJRU5ErkJggg==\"/></td><td style=\"padding:1px;\"><img width=\"28\" height=\"28\" style=\"image-rendering:auto; object-fit:cover;\" src=\"data:image/png;base64,iVBORw0KGgoAAAANSUhEUgAAABwAAAAcCAIAAAD9b0jDAAAAqElEQVR4nO2VQQ6FMAgFiXekh3w9JC5ICLHYUvyLH+OsjLYjfa1I9PEqmBmAiIgIAABPdRJR916MVqzyAyMzE5H3Vox+vhovL9tOwJfpjYrftA3pcpoOCJ8ek0r1ovceDri7f0smNRuzUWm+nDHxWLpc+5xFpTX+TKoRtdayEWV2v/KlmnfcXJqe/AU6c5ROTmiKMYR6N/HYSn2Ledr5ybVB/ZGEKX8YJ6IbDSAyf1TFAAAAAElFTkSuQmCC\"/></td><td style=\"padding:1px;\"><img width=\"28\" height=\"28\" style=\"image-rendering:auto; object-fit:cover;\" src=\"data:image/png;base64,iVBORw0KGgoAAAANSUhEUgAAABwAAAAcCAIAAAD9b0jDAAAAcElEQVR4nO2UMQ6AMAwDG/7oT7qPDAPQCQkbCSJQb+rQnBI5SmuTKkhmJknl82KpAQC41dUZeaA0G7p0L4jrEm98EVXae98eyviq1MqndPx66f9W6jvSR5bfQpK6F0+V6kYJAOOYinYjqIgYcU3eZgXvzzUBU/6OcgAAAABJRU5ErkJggg==\"/></td><td style=\"padding:1px;\"><img width=\"28\" height=\"28\" style=\"image-rendering:auto; object-fit:cover;\" src=\"data:image/png;base64,iVBORw0KGgoAAAANSUhEUgAAABwAAAAcCAIAAAD9b0jDAAAAtklEQVR4nO2UQQ7EIAhF7WSuCIfEQzKLnxJiK1VLM5v+hTHEPOGDlvLqLyIiEVEnERGR3vktABGR7S1edwVJdKGqapRmXRfqDWpcFOxLhhKRqnpDB/UdpGNz19Oyl99M0kjiF933TfdDxszTWcPN09bbQ8gfDEMvtPFCMDqZ+3i+PvK5D00Y3qMmJsFPZSB42gTPy0cHelDcZzhmbg5Ebx9PwFvWXFNrPRLLyM+P1aNzPuxXU/oBUguwmX5liSYAAAAASUVORK5CYII=\"/></td><td style=\"padding:1px;\"><img width=\"28\" height=\"28\" style=\"image-rendering:auto; object-fit:cover;\" src=\"data:image/png;base64,iVBORw0KGgoAAAANSUhEUgAAABwAAAAcCAIAAAD9b0jDAAAApUlEQVR4nO2UQQ7AIAgEsX/kk8sj6YGEmFYUak9N90ocF2Ql+vUrFjMDUFVVBcDMu0TH9driOrGnAABgHTwnDqvMPKmOtTzjIx5WjwhKRCJSMLKEmiKoT7N26/yVfQ2i4zOnQ2Vs1qAWhCW0RQXrTkRExNxdptFaeHZhqg+SZXS+TFm0qe9gN6n3OzJBKj/UhqVAyYEWnOaDVF7+l6H5X+ZJ+x/SCbLmsoI4cY/1AAAAAElFTkSuQmCC\"/></td><td style=\"padding:1px;\"><img width=\"28\" height=\"28\" style=\"image-rendering:auto; object-fit:cover;\" src=\"data:image/png;base64,iVBORw0KGgoAAAANSUhEUgAAABwAAAAcCAIAAAD9b0jDAAAApUlEQVR4nO2TSw7CMAxEHcQVx4e0D2kWFkNUpQmYLJDoW+WjvExjV+TiYiutnwAws37F3XOgqgD6lQn3+XaKRCQieE16J/Z2mAMAwAOUctDj7qq6li4j562v8+1dwxozi4iIONTgW1I63LrVjPO3Lr4IMw7ftJKU6c66qpJ0HlMKSVnuYYdWYCed1f1jANA4LPoPGOXZ6jt/Icbcb/y3D0/2G2s8AIi4laSh9rQNAAAAAElFTkSuQmCC\"/></td><td style=\"padding:1px;\"><img width=\"28\" height=\"28\" style=\"image-rendering:auto; object-fit:cover;\" src=\"data:image/png;base64,iVBORw0KGgoAAAANSUhEUgAAABwAAAAcCAIAAAD9b0jDAAAAsElEQVR4nO1VQQ7DIAyj075oHhk/sj1EiiINgpLlWN8otTHGtGO86Ma1mxCRMQZJkg3riMjtoOqdigYAdVEAZhCADf+yrE49v0F3uVkAFktFV8m/z73fY77fYE4ztUqRLB6XOlLysgbFMhghEK33TM9n11zfvLT0En6ltG7wdqVn1qHYxTLfz1E93t2c00ycRUkaoRlBaj7T9PU9tjWtuDR17On2d7KDiPivQdrgixoeriZ4u/AJH18AAAAASUVORK5CYII=\"/></td><td style=\"padding:1px;\"><img width=\"28\" height=\"28\" style=\"image-rendering:auto; object-fit:cover;\" src=\"data:image/png;base64,iVBORw0KGgoAAAANSUhEUgAAABwAAAAcCAIAAAD9b0jDAAAAmklEQVR4nO2USwqAMAxEo3jF9JDTQ44LMbhoYhsURJ1VaeDlM01Ffr1ZAFTVi845aEBMQmPiORRAImsE1V0XQ4P7WutoMhERks32AZDMEFWVZLNYL5lp2P2e3hcvYLXYod+xyQscp3asy9CllGGvSDZnyl25J+wmixdfRo0yVtx4ZvdPR5n8pR4P7Xyqt1TqblRTm0XJ/+kzWgFoKVTor03NvwAAAABJRU5ErkJggg==\"/></td><td style=\"padding:1px;\"><img width=\"28\" height=\"28\" style=\"image-rendering:auto; object-fit:cover;\" src=\"data:image/png;base64,iVBORw0KGgoAAAANSUhEUgAAABwAAAAcCAIAAAD9b0jDAAAApklEQVR4nO2UwQ7DMAhDnf2j85HwkdsBCUXJ6ELDYdLmUyulDxtKgL9+Vy37gYgAUFVVLYCKCEl/7b3bwwX9SiSfgcx4WiISEU1HRJIkpxpjQ3JE6+bahHT2ERH1NEcEEI3F7aeDY5mPJXXLN4duiMmOV7pJfFvj1OaqeptH84mUCr51oXjk1rbOPz6e8Lx+LZ1Cbdk3WbsaV6CGOK1/JbTyH/o6vQAENCcByFrhbgAAAABJRU5ErkJggg==\"/></td><td style=\"padding:1px;\"><img width=\"28\" height=\"28\" style=\"image-rendering:auto; object-fit:cover;\" src=\"data:image/png;base64,iVBORw0KGgoAAAANSUhEUgAAABwAAAAcCAIAAAD9b0jDAAAAmElEQVR4nO2UUQrAIAxD3e4YD1kPmX0IpbhRZy3sZ/kVnjGNLeXXTABEhCRJADlQJZIUkQQiAIvLcRowePrH6qu1Fvc1qKe5muPEadeqTQ8KIK1AqtjbJwq3/fChxQRq6bXWYB94k/1awbgtS4e2uwecQflQr1JOan6gr8o/aLe/jwkk7NZhVjmL1YLsBXGicjWH/G3w6zNdSajXSb+AzQcAAAAASUVORK5CYII=\"/></td><td style=\"padding:1px;\"><img width=\"28\" height=\"28\" style=\"image-rendering:auto; object-fit:cover;\" src=\"data:image/png;base64,iVBORw0KGgoAAAANSUhEUgAAABwAAAAcCAIAAAD9b0jDAAAAvElEQVR4nO1UQQ7DMAhD075oHgmPZAe0KEoIDVkvk+pTFRrL2FaIHiwAwMwAVC++kpmI/CBpgTOZlCg9o7uAiJjZzaRmdkz6Dk89IlWdR80WAKoa/hPDd59t9ZL1CK3PKpXIZGZmplKeodIms52vwiwodS5mHnycxdZIa8nMGCoVGlJe3xUlOQAA4HHtosUiIu17nhYYh5t9KwH41sfPDdHXuAH3vIo93aXA3Ur1TXITzgX2cB92lD74E3wA9dvPZ5KvnSQAAAAASUVORK5CYII=\"/></td><td style=\"padding:1px;\"><img width=\"28\" height=\"28\" style=\"image-rendering:auto; object-fit:cover;\" src=\"data:image/png;base64,iVBORw0KGgoAAAANSUhEUgAAABwAAAAcCAIAAAD9b0jDAAAAoElEQVR4nO2USw6DMAxEXcQVJ4f0HJIurKIoIQmuvUK8JYHHgD8iL88EgKoeHQASXKpqIruuqg7dyNW8z5dx5AphSTON8kvqemSbH9vPIpkpNbzSBX98u4jsyztI1lWKpgbQT86d3vrMj/uuNiPJUkokcStddu6t6tckd4JUMd3DPuLcLNE9AKBZelGdhXI104zlDp1zPVFniUnml/vpfAG6BNdWL1MVFgAAAABJRU5ErkJggg==\"/></td><td style=\"padding:1px;\"><img width=\"28\" height=\"28\" style=\"image-rendering:auto; object-fit:cover;\" src=\"data:image/png;base64,iVBORw0KGgoAAAANSUhEUgAAABwAAAAcCAIAAAD9b0jDAAAAo0lEQVR4nO2UwQ4DIQhEtdlfHD9y/Eh6sG02RkDYPbWdI5GHAmMpf32JSAK4kwhARKJZDxc6RXYubkEBAKi1upVi0NbaFOy920QfGor70kZEUkSSXC1TREjauevnD9xO+wJQkhoxXenVuOVK7thh3sFz8iACON/uU6a/FYAuyxTdEZc0OmOfcby/lDurMPSqTTXd/L0O5W1qyJ3VkYDmTfUbegJUCl/jeRajmQAAAABJRU5ErkJggg==\"/></td><td style=\"padding:1px;\"><img width=\"28\" height=\"28\" style=\"image-rendering:auto; object-fit:cover;\" src=\"data:image/png;base64,iVBORw0KGgoAAAANSUhEUgAAABwAAAAcCAIAAAD9b0jDAAAAv0lEQVR4nO1VQQ7EIAh0N/vF4ZHwyO6BhBAqCqbHzsnaYQQEHOPF0/jUqQAAiIjt+PUhrhuY+URIvctEFUYogZm9mX2ei3oJDRPAVLeahGDszfQXM3vO3tmpO97M1sbcOAugFeC56II/DeUbSPczFxWeORhF74pEtObs0Uplxvy1jvQN5hFSFAdKuBaLPZNTzmayZL2YodRO05LqKk5uvzgliahXGFsfe+POkA2kilz6nNgMHWOIiObkgffjxRn+YlnOembDg5QAAAAASUVORK5CYII=\"/></td><td style=\"padding:1px;\"><img width=\"28\" height=\"28\" style=\"image-rendering:auto; object-fit:cover;\" src=\"data:image/png;base64,iVBORw0KGgoAAAANSUhEUgAAABwAAAAcCAIAAAD9b0jDAAAAhklEQVR4nO2USwqAMAwFg3jFXPJ5SF2ERswiPxWKOLti+jqliUQ/P1+AmQHsV5i5lgJA4zQFA13WEs1mI6WfsrJGzTnYL1jNehukLDKh9+OEpbEnPLgTGtIJlXd3fKcxpeee9CTs/LJpZpDKobWpTyJD7NdM0Pxhh3bI3J1Kpq9oyt82U3kAT9qJt8x2CDYAAAAASUVORK5CYII=\"/></td><td style=\"padding:1px;\"><img width=\"28\" height=\"28\" style=\"image-rendering:auto; object-fit:cover;\" src=\"data:image/png;base64,iVBORw0KGgoAAAANSUhEUgAAABwAAAAcCAIAAAD9b0jDAAAApklEQVR4nO2TwQ7DMAhDm/0jP+l8pHtAQlUHBLLtUu2dIiU42AnH8ec5kBSR+vnX8oTKvYuSBPCR6Jxz3WFRVERc46007pB0bQJIgs46tZqW9wXaptuOdrqpGL2v7ka1vn3Tco1vvhIvALj9AfXets8AAKYYJRMiItd6lySEUbzD5srWY5RqS1QCXc++Sz4ObdHKf+qJFgd3037OTzJtowP2TcXHcQLZobZ36OZXmAAAAABJRU5ErkJggg==\"/></td><td style=\"padding:1px;\"><img width=\"28\" height=\"28\" style=\"image-rendering:auto; object-fit:cover;\" src=\"data:image/png;base64,iVBORw0KGgoAAAANSUhEUgAAABwAAAAcCAIAAAD9b0jDAAAApklEQVR4nO2UQQ7AIAgEsX9cHwmPtAdSYyxiil6adg/G1DBdECH69Qol/7iU0n0REV11E1EZC0AQyswONwglIgCKuP9g1Swzm97jxC645UagZpq1IJEKaHBN3DRrnh4OUQPMfvSb1INStMnn0KdED7qiVaiZygQ67Zhn9fHbu3tmnYajr8XlnEWkugag+5Qmk9P2snn0tW9xD7FqP5Gu8umdrLI+oxPu7C0XtwJuZgAAAABJRU5ErkJggg==\"/></td><td style=\"padding:1px;\"><img width=\"28\" height=\"28\" style=\"image-rendering:auto; object-fit:cover;\" src=\"data:image/png;base64,iVBORw0KGgoAAAANSUhEUgAAABwAAAAcCAIAAAD9b0jDAAAAgElEQVR4nO2UUQrAIAxD7e5YD9keMvuQ+ScmbG4MfN9tCGm0lM37AAAgrRzknLvrfsZEhGp27jQzM/OGqwHuDiAiyHk206LESomqV6JE1UyXOKXABalOOa21tgQettxaRT4BoVI8/xE1cq6naTZfYZ32/jMFkEUZvj7Ukl91Q3ICHF88/OyNRbQAAAAASUVORK5CYII=\"/></td><td style=\"padding:1px;\"><img width=\"28\" height=\"28\" style=\"image-rendering:auto; object-fit:cover;\" src=\"data:image/png;base64,iVBORw0KGgoAAAANSUhEUgAAABwAAAAcCAIAAAD9b0jDAAAAoUlEQVR4nO2TUQoDIQxEY+kVx0NmDtl+hJY0glEbCoV9X8Lq22SMIhcXAwBU9fGJqgI4NI46T3r8Nv9MsvdOkqT/5Uml1nvo9F3+eQIBH2u6OWlfRAD4HH0Oh5hxq8wlxkkAUBBrqLfyusJzKIvCSGcrv/1fUP8EfKaTbW3d6EWtzQ4uZWoF2prk3Ji7wuR/m2PQbU3lPd3BFwVSs+zq/o0nqOnwS0hzZ5IAAAAASUVORK5CYII=\"/></td><td style=\"padding:1px;\"><img width=\"28\" height=\"28\" style=\"image-rendering:auto; object-fit:cover;\" src=\"data:image/png;base64,iVBORw0KGgoAAAANSUhEUgAAABwAAAAcCAIAAAD9b0jDAAAAZUlEQVR4nO2UwQnAMAwDQ3fUksqQ6qP/ci4xlJB7i8MWccY47INt2zx/wZwk7kXSOSfUFaRdJEkCw7VJJa2UPrUulrYgqVQrxXYS0kDL+mXp4kn5XW25fhfwqf6gU/gDfJEe3rkBgDEu/9yUJx8AAAAASUVORK5CYII=\"/></td><td style=\"padding:1px;\"><img width=\"28\" height=\"28\" style=\"image-rendering:auto; object-fit:cover;\" src=\"data:image/png;base64,iVBORw0KGgoAAAANSUhEUgAAABwAAAAcCAIAAAD9b0jDAAAAsElEQVR4nO2UQQ7DMAgE0ypfhEfCI+lhJeQG7Lo2PbTqnCJHTBDecBx/vhsismeIaMsoIpYhIjPlt7RHFKsqTvCAQ2b28x5nPFJVlDFz+6WZHrvSi+6DYMqTM31NG4PdAESjmRUY01TtNptKMdmxOsmp49fiwSQi180Edgr8F5UjdtxbE4boTd/e16TtlMuk41/rPalf1ForV0QkLtnFi+pt67EuX30gVmIl1mT+d3kA/rTtUc6FBvcAAAAASUVORK5CYII=\"/></td><td style=\"padding:1px;\"><img width=\"28\" height=\"28\" style=\"image-rendering:auto; object-fit:cover;\" src=\"data:image/png;base64,iVBORw0KGgoAAAANSUhEUgAAABwAAAAcCAIAAAD9b0jDAAAArElEQVR4nO2UwQoDMQhEbekv6kfqR9qDrIQkq7P0VMg7Ldlh1ImE6PAXvOrfqkpEZmZmuOm7VTBzq1HVKA/BzO5e+4bG3fOk6RSpHyXHfCpTZPAENX0EepORVJ1ABDppbjtNXd3CNqK9KTOn+tGGVqhqzA4uE3SlSJq029Dgs+qyrIj09Xf5zJmOpnrhF2AsMw4Q1kWBeXwRWZdp/ciB0AdsTKAg++0dD4cf+QJXWcCEcFjuMwAAAABJRU5ErkJggg==\"/></td><td style=\"padding:1px;\"><img width=\"28\" height=\"28\" style=\"image-rendering:auto; object-fit:cover;\" src=\"data:image/png;base64,iVBORw0KGgoAAAANSUhEUgAAABwAAAAcCAIAAAD9b0jDAAAAkklEQVR4nO2TQQ6AMAgEjfGL9JHsI/HQaLBiChUTD52T0XZcCl2WyeSKiDAzEd0/0YEcmMsM9J4ud+lqSgGUUgAEK4xQ69VvzphPpzTyj9NoLrDLf0lYSkRPAcfxTFIsaX5GZg4PvN+Yk7e5YAkxG6Nny+aR1gcAORc3vzm68Jzm6IzOo+yjjZ/MUIKxktyfn7IDulntLkYfxsUAAAAASUVORK5CYII=\"/></td><td style=\"padding:1px;\"><img width=\"28\" height=\"28\" style=\"image-rendering:auto; object-fit:cover;\" src=\"data:image/png;base64,iVBORw0KGgoAAAANSUhEUgAAABwAAAAcCAIAAAD9b0jDAAAArUlEQVR4nO2U0Q6AIAhFsfWL8JHwkfXAxgpMsWy9dB+cG3K8MAXg11dCRGbezkLEm7jIchp2d0xm5qM1iw74tRzHikXE6HpFZGYAEBEiyhppQI1IRCIySgSA5SqQJ2YvzvTemp4iJvX0qTrZR9DWz9FbxJmFm8fJxIzHkmHpRlml9FPqcqOkMVb01o736tw0XKTr2oFWcZYTK+g/rGSOGmxU7buu53S9MfR+vaUdo141AQs1hzkAAAAASUVORK5CYII=\"/></td><td style=\"padding:1px;\"><img width=\"28\" height=\"28\" style=\"image-rendering:auto; object-fit:cover;\" src=\"data:image/png;base64,iVBORw0KGgoAAAANSUhEUgAAABwAAAAcCAIAAAD9b0jDAAAAoUlEQVR4nO2UQQ6AIAwEi/GL5ZHLI/XQSBqp0BpIPDg3CiwLzUL08zOV1JaYmZmJqJSihxWp55wD5wA4GsziS0UAN5viXWbbqYFif4PXaVU03ZlOnxbselAu+sfrNk4j8KBO5JUATFOkFTalRUtsDpdtfsV6ZR2Nl+4EM6aBpPYVh9Eg85dqERX5rlJybXExjKYm0ChyR/MDok4Cop4PbCEnm8jaWi0QDIQAAAAASUVORK5CYII=\"/></td><td style=\"padding:1px;\"><img width=\"28\" height=\"28\" style=\"image-rendering:auto; object-fit:cover;\" src=\"data:image/png;base64,iVBORw0KGgoAAAANSUhEUgAAABwAAAAcCAIAAAD9b0jDAAAAXElEQVR4nO2TMQrAMAwDQ+kX/UnpkepgyFoZUmgb3+RBHDLYYzT/QRKAiFgpBZBeM3/4ar9pQep7a1ITS0oyh9c3fYq8KklO+Dvrt7Sl98z3XyktcZo5kqWyO3MBchEgEUkkANEAAAAASUVORK5CYII=\"/></td><td style=\"padding:1px;\"><img width=\"28\" height=\"28\" style=\"image-rendering:auto; object-fit:cover;\" src=\"data:image/png;base64,iVBORw0KGgoAAAANSUhEUgAAABwAAAAcCAIAAAD9b0jDAAAAp0lEQVR4nO2UQQ4DIQwDUdUvmkc6j6QHS4h2CyS7UXtZXwEzCcGl3PqXAJBsrQHIcZSdRHK7/7EFzKQrA6BMdYGH9LlwBFBrNbM0zGPJIvWcnfY0E3AhZ0MDIul33IxUV2iqXKZi9HfZS2pmmU+nL7DYoFgI9Gf9i7QanooZ5hgxsWQ4Zl0PQNGdCZqxrgS7EfMjTC/FYHtXyO579PXzfTx/lC+3ZnoBnGO/bo42ynAAAAAASUVORK5CYII=\"/></td><td style=\"padding:1px;\"><img width=\"28\" height=\"28\" style=\"image-rendering:auto; object-fit:cover;\" src=\"data:image/png;base64,iVBORw0KGgoAAAANSUhEUgAAABwAAAAcCAIAAAD9b0jDAAAAdElEQVR4nO2UQQrAIBADpX+Mj3QfmR4E6akkJcUeOmcZs26wtZ+NACAZlpIkCSBmnDEnY4z7w4cu1ROoUosn0t575nL9QZuYVBHZ0itVFZACcLu5Kalr/IC0qkSpxCqpuDFv/KTUnVqSvt7TmHR9S8nt/1icvZlE+Gre8sAAAAAASUVORK5CYII=\"/></td><td style=\"padding:1px;\"><img width=\"28\" height=\"28\" style=\"image-rendering:auto; object-fit:cover;\" src=\"data:image/png;base64,iVBORw0KGgoAAAANSUhEUgAAABwAAAAcCAIAAAD9b0jDAAAAXUlEQVR4nO2UwQnAMAwDTXfUkvKQ6iMDVAYH9+F7i0PgRBHLFCT7pZL6vSQlmeHHzGWm38CV3kISACd5pelK56Tm3WvSg/kFftC0mdJKTT+p0lB9A8Af05ifvsXkBeO5IQVdtSptAAAAAElFTkSuQmCC\"/></td><td style=\"padding:1px;\"><img width=\"28\" height=\"28\" style=\"image-rendering:auto; object-fit:cover;\" src=\"data:image/png;base64,iVBORw0KGgoAAAANSUhEUgAAABwAAAAcCAIAAAD9b0jDAAAAkklEQVR4nO2UQQoAIQhFY5gr/kvqIZuFTEiklDXNpreIoPx8S03pcNgPACLKLwDiWlqowte9LTkdxsyyMnPOOWIQQHFknUZeAIAVJqJE5IS305d89yFO/TtXQHRxHp2/NOB0tuwtUU1Vy0F0g5V982a7pCykqWbdFcRaZ74DH/WnzS7iE8RBbK5UTB/VvD/l9vEAFGCliMXQIj4AAAAASUVORK5CYII=\"/></td><td style=\"padding:1px;\"><img width=\"28\" height=\"28\" style=\"image-rendering:auto; object-fit:cover;\" src=\"data:image/png;base64,iVBORw0KGgoAAAANSUhEUgAAABwAAAAcCAIAAAD9b0jDAAAAnElEQVR4nO2TUQrEMAhEpXc0hzSHnP0YkNIaG7eB7kLfXzBOxiGKvLycUFUAZlYqkS0RvXz18s4RAADCNjNjddQ7dHrHYCyatHmp9162Ew7og4+SyQhT85fyQGU+U1Xd/6F89lj03JP8ygJMwMwOU38ZKOG8eyE/3nVNaaq45TVRkHmn5Y0SkdbaYtGZRfoN0Rn+R7QGF+xpFwv5AK22qIBBTgRtAAAAAElFTkSuQmCC\"/></td><td style=\"padding:1px;\"><img width=\"28\" height=\"28\" style=\"image-rendering:auto; object-fit:cover;\" src=\"data:image/png;base64,iVBORw0KGgoAAAANSUhEUgAAABwAAAAcCAIAAAD9b0jDAAAAi0lEQVR4nO2UQQ6AIAwEq3/cPnJ5ZD30IJGgRWs8yB4JGYamrcjMtwEAIJloZmZGMpMrIs49v7OOQkspd336yf++lzWTKG9okkzWdGKy5hAx1FKOizfTEiECUFWHtmPqJ6oafHIfTf++9RPaCQBaSm+hkLyoeG3ngk+X08HuPqhOLZhDlDfW8MzPsgEe0apqPmLT2QAAAABJRU5ErkJggg==\"/></td><td style=\"padding:1px;\"><img width=\"28\" height=\"28\" style=\"image-rendering:auto; object-fit:cover;\" src=\"data:image/png;base64,iVBORw0KGgoAAAANSUhEUgAAABwAAAAcCAIAAAD9b0jDAAAAjUlEQVR4nO2TQQ6EMAwDA9ovuo90HhkOQagSYpUgw4m5lg5u6pp9vAzJiIgIkmJjAkBjJHkj7O/P2hjD3fMHgphnMm9RvVY+AtBKWpIm7p7T0Ei7A+1JZdcFYG7rU69A5jUzAMWHsHTVEbHvXC73NiqVFFvVYB6uQDcPVGDUV+qRks5HltXzSKrRfdxmAwtLtmtiFlTsAAAAAElFTkSuQmCC\"/></td><td style=\"padding:1px;\"><img width=\"28\" height=\"28\" style=\"image-rendering:auto; object-fit:cover;\" src=\"data:image/png;base64,iVBORw0KGgoAAAANSUhEUgAAABwAAAAcCAIAAAD9b0jDAAAAuklEQVR4nO2VSw7DIAxE3SpXNIccH5IuLKE2xh9gVbVvRRwyDHiSEP35Ch6VSQB0ICLv9dvlGt0BADPb+VeqqI+11tTXTYWZrd9c9EZly89V0coap6JTctFpK2LySPXedTB2KiLxySZOrU1m9pJUZeTRFjcVAVjFUQ/MRtvXs2ut2XrsJgp/2hAP16k2xLu1sRIREQBPdL9RXiu87pWYhvFIkT5zo+c7zewyxU+yJXn31ZcG6+jn8Uu8AJz6raTvQ+/WAAAAAElFTkSuQmCC\"/></td><td style=\"padding:1px;\"><img width=\"28\" height=\"28\" style=\"image-rendering:auto; object-fit:cover;\" src=\"data:image/png;base64,iVBORw0KGgoAAAANSUhEUgAAABwAAAAcCAIAAAD9b0jDAAAAhklEQVR4nO2TMQ7AIAwDoX8MjwyPTAdUlAkuFTBxE1KJZRw3pcthVNXMVHWlqH2ICJ96xp9rre2wUrQjIlyXOk1BsxParhpwZP58bxbWIJNL3mPO8xG0qFJKP29JliRAK9Uh3QqLEqjoicKOdQPP52Z/ZrorgUG3Yk59Aishuwpn6n/ZyzlexnVlzyH+ZkYAAAAASUVORK5CYII=\"/></td><td style=\"padding:1px;\"><img width=\"28\" height=\"28\" style=\"image-rendering:auto; object-fit:cover;\" src=\"data:image/png;base64,iVBORw0KGgoAAAANSUhEUgAAABwAAAAcCAIAAAD9b0jDAAAAnklEQVR4nO2VQQrDMAwERekX95PrR24OokuxiVMUnUL3GjQeK0iOeEIAkJQkiSSABqgkfJL0Bu6EANDDXY+R1AyNiOxvM/QX2VcZXSs8Dcl9Byqml5rF6zdDU3OM0QnN7KHvfbHbZwqAPfEi3iaZXAK3JjWJ38peV3XN1cjcInGdRRNvydrUrfQx9Z09/aXJLr9W0DnjZ2Wdz8E/D8oBtVqubGlLeIgAAAAASUVORK5CYII=\"/></td><td style=\"padding:1px;\"><img width=\"28\" height=\"28\" style=\"image-rendering:auto; object-fit:cover;\" src=\"data:image/png;base64,iVBORw0KGgoAAAANSUhEUgAAABwAAAAcCAIAAAD9b0jDAAAAlklEQVR4nO2UQQ7AIAgESf+4n8RH0kNTY1UooJcmnVNDZAO7WqKfHwUAzAxgWheRjKLceOoxxa65rY9LENFhiNbvUornWGzMrlPb4IUrhLGz5pMRlScARjkRYebkmAZ5QzWMMSfpG1k7Ua/UFvUHmlmt3Yah80k3z2iTD2qdgGj3fgyLvKKBe76y/p4wkw/UIxr4iXyAE+SAJQxo1QkbAAAAAElFTkSuQmCC\"/></td><td style=\"padding:1px;\"><img width=\"28\" height=\"28\" style=\"image-rendering:auto; object-fit:cover;\" src=\"data:image/png;base64,iVBORw0KGgoAAAANSUhEUgAAABwAAAAcCAIAAAD9b0jDAAAAl0lEQVR4nO2TWwrEIAxF69AtxkXeu8j0I0wYECOxFizM+aumx+sjx/HnxYiIqsYFaamqBlJbMvB+0gv+qLeRDg+uVzCfNOCuVEQArJe2gzNSF1nGWusCqUOyNXYBYO8fgHzxQSfXV9YzQ9Jba70ALLh/9v49exMkSym+QZJtQTppgB1ukHSG4S1t2abLpIuvyLG39Yj6/VxzV5mZeprZ9gAAAABJRU5ErkJggg==\"/></td><td style=\"padding:1px;\"><img width=\"28\" height=\"28\" style=\"image-rendering:auto; object-fit:cover;\" src=\"data:image/png;base64,iVBORw0KGgoAAAANSUhEUgAAABwAAAAcCAIAAAD9b0jDAAAApklEQVR4nO2UQQ6FIAxEi/lXHA5ZDjl/QSREQlvQhQtnRbQ+HrRR5MtiVJUkgFnBb5VI8p7SEAAkSarqW4lyXuWTxKYZKT7iUBHJOe97jcSlgye3orIApOQXh9Ku0hj15ezNUKhRpZS6qFPlulvQy2fVt98gInTNbNpdWf/4TS3+yofOdIzNQo3quW1tQK30vVZVAO3Jrd9KD+qzTxzR1fcB4pdX5A/vKap/zVbs7QAAAABJRU5ErkJggg==\"/></td><td style=\"padding:1px;\"><img width=\"28\" height=\"28\" style=\"image-rendering:auto; object-fit:cover;\" src=\"data:image/png;base64,iVBORw0KGgoAAAANSUhEUgAAABwAAAAcCAIAAAD9b0jDAAAAsElEQVR4nO1UQQ6EMAisG7/IPBIe6R6IDdKGwpp4WedgbKrDDB3a2ov/xebWRNSfU4iIiBQqMPORADMXSDOMGd7dLgA449YsESU1XkjL/boJ1+744z3Y01ZMLetWzZa2b3lcRBSEb0J6JwmfZQERAbAZALDGC3rpRMZNbRyWhad5iOznDyEbA1UR+LIyXfkop+06miqn/99fanP4W57aeJ+OSkdpVjiAMqkr4BhfPIcvqYE8L7d9QboAAAAASUVORK5CYII=\"/></td><td style=\"padding:1px;\"><img width=\"28\" height=\"28\" style=\"image-rendering:auto; object-fit:cover;\" src=\"data:image/png;base64,iVBORw0KGgoAAAANSUhEUgAAABwAAAAcCAIAAAD9b0jDAAAAl0lEQVR4nO2UwQ4EIQhD3fnH/mT9yM6BLDE6uhG8zfbEwbwALZby17sEAIDVV5JCUpIkJ+4h2tpZkkhGiC0iyzKNuDhr7DHV2kgkmWWZABwmlu8qY8QfOa21liZDqbX67DOlgkmy6y51QotJfRXb0IV8ObMHkQ/FJjAPD6g18MB1dT9TKlgdK+7PYzC3Yv+Z9WjFMTfepBsB9wkWPC7DlwAAAABJRU5ErkJggg==\"/></td><td style=\"padding:1px;\"><img width=\"28\" height=\"28\" style=\"image-rendering:auto; object-fit:cover;\" src=\"data:image/png;base64,iVBORw0KGgoAAAANSUhEUgAAABwAAAAcCAIAAAD9b0jDAAAAp0lEQVR4nO2TSw4DMQhD097ROSQ5pLtAQlF+JYKqm/FqlBEvDphSHv1XIkKSJIAEHACSIuLBvQ6Uvh5ArbW15nGwhZI0hH44iSdFGvdengbnsIYGde3U84g1tJ+JhsmkUXVma7Rj9YYwCgD9dc01R+eLc1Zrvng+D01/tw4JkZo7kACd/Yag+VMqpZzjsa3ZefkauK2GJGr++424JvaOhjX9SSsfnfUBoD+fiwCf9+8AAAAASUVORK5CYII=\"/></td><td style=\"padding:1px;\"><img width=\"28\" height=\"28\" style=\"image-rendering:auto; object-fit:cover;\" src=\"data:image/png;base64,iVBORw0KGgoAAAANSUhEUgAAABwAAAAcCAIAAAD9b0jDAAAAvElEQVR4nO2USw7DIAxEQ5Ur2occH5IuUCzLxlBSpHaRtwPEePyB43jIAVBr3a+4U1QVAfyF4mt8zMy3XAW+T7zELe1MKZ3TTzhv3CEiuxSR+Z16EbW0MhYALsxC+nrZWVNFZk5dd7s06B4RueQmIxWJXkTETV4q6sq0xLLTQbDRS7E1shK6H9vdKj5JLmtLFi/u9LFj6HQBtKjNclRMHyJdtKWIxPHUsV34d6ypLrG4E6eOOPPbfsWHn/EGDesFSpOTp5gAAAAASUVORK5CYII=\"/></td><td style=\"padding:1px;\"><img width=\"28\" height=\"28\" style=\"image-rendering:auto; object-fit:cover;\" src=\"data:image/png;base64,iVBORw0KGgoAAAANSUhEUgAAABwAAAAcCAIAAAD9b0jDAAAAnUlEQVR4nO2USw7AIAhETe84HBIOSRemhNiqEVy1nZWa8PgYppRfbxMAVVVVZt7DYmZ1ArCnwIreUK8nWnW16jjUd+1bru+9IRzBbBc6BSUiEbGrPy/Lem/ebdaPUan2expBw/87gtrnrk5w3r6IENFm6DhfEPoYWScTh67mm6hnHKndvwcDyLpJcRvlnSVr0o03D1ZzTd6Vs4b/DZ294c5iCfjY4AAAAABJRU5ErkJggg==\"/></td><td style=\"padding:1px;\"><img width=\"28\" height=\"28\" style=\"image-rendering:auto; object-fit:cover;\" src=\"data:image/png;base64,iVBORw0KGgoAAAANSUhEUgAAABwAAAAcCAIAAAD9b0jDAAAAo0lEQVR4nO1UQQ7DMAgjU7/oPBIeSQ+R6LS0QNJO67T5mIBjMIHoj+8GAFVl5itJmVlVVTWMAZBibDJD0hbQV/Pw2UXEkXkUE5DOYZ7UWplVmu09USmlPwyU1lpPvrol+NZbwNEULw67iLyktfaFMj3SPjlZ9VtGasc7IgLQRD2Pi9Vut7vWz8BccloxXH5mb93gm37S/TFSGwZnJc5gbNv/JFYiVGvYWJHuNgAAAABJRU5ErkJggg==\"/></td><td style=\"padding:1px;\"><img width=\"28\" height=\"28\" style=\"image-rendering:auto; object-fit:cover;\" src=\"data:image/png;base64,iVBORw0KGgoAAAANSUhEUgAAABwAAAAcCAIAAAD9b0jDAAAAeElEQVR4nO2UMQ7AIAwDUf+YPDI80h2yFxuZBdUzOiW2wxi/LlREAIgIJ7SqAABwQptYVd/Png30nNMPNYs0VJi0rVzurqnHdPapG0qWSQsqM/3QI4aSj6lJ1XAEKGkoK/UTYYOSIjpy+2voxgmtoRvdpNY3d/52vWjmR+lLLTCRAAAAAElFTkSuQmCC\"/></td><td style=\"padding:1px;\"><img width=\"28\" height=\"28\" style=\"image-rendering:auto; object-fit:cover;\" src=\"data:image/png;base64,iVBORw0KGgoAAAANSUhEUgAAABwAAAAcCAIAAAD9b0jDAAAAqElEQVR4nO2UwQ7EIAhE2c3+4viR8JHdgwkhaijTcOycbMHngLQir1616lNPBQDAH8cYz48FoKrXJlXtwalqfBmNV4kLK0Ynl4NG4nHnhBIdcGKyJz/yoNzF0uhjzi+3bGa+XkZKRDx6r9jQXM8vapmBGCKIEb2X7FB6SBPRw1RRv02vPU/7slApTBIB3S+tBzoXxMzfEuu/0apTymb27UdNlpm11c7qD/FpCjFwA2ZWAAAAAElFTkSuQmCC\"/></td><td style=\"padding:1px;\"><img width=\"28\" height=\"28\" style=\"image-rendering:auto; object-fit:cover;\" src=\"data:image/png;base64,iVBORw0KGgoAAAANSUhEUgAAABwAAAAcCAIAAAD9b0jDAAAAl0lEQVR4nO2USw6EMAxDPYgruod0DsksIirEpzBJViO8QEKFp1eXALx5kwtJSf12TrL8SrK1llWTtKxxaFDK99hZkuKsLSiL89SoHU0DoMvTz0hNgzXnmlmYfhKvMvDiyNQdJW2n5Uk+4+U+MwCez8zIFICZFXfaEy73Blrz2e+gPz1/0ykAP/pKU5L1hfp/pJKIde//my/XPH2mQtf9jgAAAABJRU5ErkJggg==\"/></td><td style=\"padding:1px;\"><img width=\"28\" height=\"28\" style=\"image-rendering:auto; object-fit:cover;\" src=\"data:image/png;base64,iVBORw0KGgoAAAANSUhEUgAAABwAAAAcCAIAAAD9b0jDAAAAl0lEQVR4nO2UQQ6AIAwEi38sj9x9pB6MhEiFlHLwwBzUEJy0a0Vks1lKum/6QPJeIVmeJwFwdgEAQFUdUlXtS2v7UJ1e6nKtV1pI5pwdVX+10kbkS6OjfkVhbjtc0jVdm9Q5mBt8lbaYsf5SakYckn79x9FK11B/+jXDLyLDyZdI+9GDsTAc+5Cx07vMtT88ASalE29FuQDUVclyQX3fcAAAAABJRU5ErkJggg==\"/></td><td style=\"padding:1px;\"><img width=\"28\" height=\"28\" style=\"image-rendering:auto; object-fit:cover;\" src=\"data:image/png;base64,iVBORw0KGgoAAAANSUhEUgAAABwAAAAcCAIAAAD9b0jDAAAApklEQVR4nO2UQQ7DIAwESdUvLo9cP5IeUC3k2o2xcqmaPUUCJgMGt3bnJ3Ik5wGYHyJyDRQASRcqIpnf2JAcZ9kwxTuR0Trae99z1L1Hc8yER4YeWaipyTeo7tddOTUzTs4ytxRr9Spoc2oA1roXZVtwq+q4T7UxRnTEKZYrWCQaFsl5daKiVXAqnpd9RgP6LmdBVtB2BzltHxmI31Dc91fscnf+LC9ppyAoUEFr/wAAAABJRU5ErkJggg==\"/></td><td style=\"padding:1px;\"><img width=\"28\" height=\"28\" style=\"image-rendering:auto; object-fit:cover;\" src=\"data:image/png;base64,iVBORw0KGgoAAAANSUhEUgAAABwAAAAcCAIAAAD9b0jDAAAAn0lEQVR4nO2UTQ5CIQyE0XjF6SFnDomLxhcTnpQW3aiz4i9fh7bQ2l+/q8t8myQASceKpOdpWgB67wAAkCTZHyJZhDroNBiAIrTs6DrfrqUvgNav+UpemXExjBQ4bWdmt6BjQr3uW33ahgz4dPf6birbWLcQKslf1Do0LpSZmZkP1rkJHb/B/FjstKAcdPGBVZyGfZqDOu4jOX2z06/THbyZYem79PSIAAAAAElFTkSuQmCC\"/></td><td style=\"padding:1px;\"><img width=\"28\" height=\"28\" style=\"image-rendering:auto; object-fit:cover;\" src=\"data:image/png;base64,iVBORw0KGgoAAAANSUhEUgAAABwAAAAcCAIAAAD9b0jDAAAAkklEQVR4nO2USw6AIAxEi/GKc8nhkHXRhFSDilASF7yl4qOfiSKLRwCQBBApJamqqhqpBqCOWV6SYV4bbrDXKN4pqwsuVkSs2Lu3W4cxuHE5x3b0e0t+wPaL4sJo+xbPKck3SuGvJz9sP+fceLIuta7b77uwV40kU0r+4egobXb+joBFVWM0+of28Syx79ct/ssBX33kLLpRlG0AAAAASUVORK5CYII=\"/></td></tr></table>"
            ]
          },
          "metadata": {}
        }
      ],
      "source": [
        "class QuantizeToNGrayscales:\n",
        "\n",
        "    def __init__(self, num_grayscales: int):\n",
        "        self.num_grayscales = num_grayscales\n",
        "\n",
        "    def __call__(self, tensor_image: torch.Tensor) -> torch.Tensor:\n",
        "        scaled_image = tensor_image * (self.num_grayscales - 1)\n",
        "        return torch.round(scaled_image).to(torch.int32).squeeze(0)\n",
        "\n",
        "\n",
        "transform_quantize = T.Compose([\n",
        "    T.ToTensor(),\n",
        "    QuantizeToNGrayscales(N_GRAYSCALES)\n",
        "])\n",
        "\n",
        "train_dataset = torchvision.datasets.MNIST(\n",
        "    root='./data', train=True, download=True,\n",
        "    transform=transform_quantize\n",
        ")\n",
        "\n",
        "test_dataset = torchvision.datasets.MNIST(\n",
        "    root='./data', train=False, download=True,\n",
        "    transform=transform_quantize\n",
        ")\n",
        "\n",
        "# train_dataset = torchvision.datasets.MNIST(\n",
        "#     root='./data', train=True, download=True,\n",
        "#     transform=transforms.ToTensor() # Keep as continuous initially\n",
        "# )\n",
        "# test_dataset = torchvision.datasets.MNIST(\n",
        "#     root='./data', train=False, download=True,\n",
        "#     transform=transforms.ToTensor()\n",
        "# )\n",
        "test_dataset = Subset(test_dataset, range(1_000))\n",
        "\n",
        "batch_size = 32\n",
        "\n",
        "train_loader = DataLoader(\n",
        "    train_dataset, batch_size=batch_size, shuffle=True, pin_memory=True\n",
        ")\n",
        "test_loader = DataLoader(\n",
        "    test_dataset, batch_size=batch_size * 2, shuffle=False, pin_memory=True\n",
        ")\n",
        "print()\n",
        "print(\"train - showing original continuous images\")\n",
        "temp_batch = next(iter(train_loader))[0]\n",
        "show_images(temp_batch.to(torch.uint32)) # This will show continuous images\n",
        "print(f\"Example pixel values from train_loader (continuous): {temp_batch.min()}, {temp_batch.max()}\")\n",
        "\n",
        "print(\"test - showing original continuous images\")\n",
        "temp_batch_test = next(iter(test_loader))[0]\n",
        "show_images(temp_batch_test.to(torch.uint32))"
      ]
    },
    {
      "cell_type": "markdown",
      "metadata": {
        "id": "vdz3SYg16mO2"
      },
      "source": [
        "## Flow Matching Model"
      ]
    },
    {
      "cell_type": "code",
      "execution_count": 20,
      "metadata": {
        "id": "n2Du_EpV6ocr"
      },
      "outputs": [],
      "source": [
        "class SinusoidalTimeEmbedding(nn.Module):\n",
        "    def __init__(self, dim):\n",
        "        super().__init__()\n",
        "        self.dim = dim\n",
        "\n",
        "    def forward(self, t):\n",
        "        device = t.device\n",
        "        half_dim = self.dim // 2\n",
        "        embeddings = math.log(10000) / (half_dim - 1)\n",
        "        embeddings = torch.exp(torch.arange(half_dim, device=device) * -embeddings)\n",
        "        embeddings = t[:, None] * embeddings[None, :]\n",
        "        if self.dim % 2 == 1: # zero pad if dim is odd for a final concat\n",
        "            pad_tensor = torch.zeros((embeddings.shape[0], 1), device=device)\n",
        "            embeddings = torch.cat((embeddings.sin(), embeddings.cos(), pad_tensor), dim=-1)\n",
        "        else:\n",
        "            embeddings = torch.cat((embeddings.sin(), embeddings.cos()), dim=-1)\n",
        "        return embeddings\n",
        "\n",
        "class MLP(nn.Module):\n",
        "    def __init__(self, time_embedding_dim, hidden_dim, out_dim):\n",
        "        super().__init__()\n",
        "        self.mlp = nn.Sequential(\n",
        "            nn.Linear(time_embedding_dim, hidden_dim),\n",
        "            nn.SiLU(),\n",
        "            nn.Linear(hidden_dim, out_dim)\n",
        "        )\n",
        "\n",
        "    def forward(self, t_emb):\n",
        "        return self.mlp(t_emb)\n",
        "\n",
        "class ConvBlock(nn.Module):\n",
        "    def __init__(self, in_channels, out_channels, time_emb_dim=None, num_groups=8):\n",
        "        super().__init__()\n",
        "\n",
        "        def get_effective_groups(channels, requested_groups):\n",
        "            if channels == 0: return 1 # Should not happen with >0 channels\n",
        "            # Find largest divisor of channels that is <= requested_groups\n",
        "            # Default to 1 if no other common divisor or too few channels.\n",
        "            if channels < requested_groups and channels > 0 : # If channels < num_groups, each channel is a group or 1 group\n",
        "                 return channels # Group per channel is often max useful grouping here.\n",
        "                                # Or, if channels is small (e.g. 1,2,3) use 1 group.\n",
        "                                # Let's be robust: use min(channels, requested_groups) then ensure divisibility\n",
        "\n",
        "            eff_groups = min(channels, requested_groups) if channels > 0 else 1\n",
        "            while eff_groups > 0 and channels % eff_groups != 0:\n",
        "                eff_groups -=1\n",
        "            return eff_groups if eff_groups > 0 else 1 # Fallback to 1 group\n",
        "\n",
        "        effective_num_groups = get_effective_groups(out_channels, num_groups)\n",
        "\n",
        "\n",
        "        self.conv1 = nn.Conv2d(in_channels, out_channels, kernel_size=3, padding=1)\n",
        "        self.norm1 = nn.GroupNorm(num_groups=effective_num_groups, num_channels=out_channels) if out_channels > 0 else nn.Identity()\n",
        "        self.act1 = nn.SiLU()\n",
        "\n",
        "        self.conv2 = nn.Conv2d(out_channels, out_channels, kernel_size=3, padding=1)\n",
        "        self.norm2 = nn.GroupNorm(num_groups=effective_num_groups, num_channels=out_channels) if out_channels > 0 else nn.Identity()\n",
        "        self.act2 = nn.SiLU()\n",
        "\n",
        "        self.time_proj = nn.Linear(time_emb_dim, out_channels) if time_emb_dim is not None and time_emb_dim > 0 else None\n",
        "        self.res_conv = nn.Conv2d(in_channels, out_channels, kernel_size=1) if in_channels != out_channels else nn.Identity()\n",
        "\n",
        "    def forward(self, x, t_emb=None):\n",
        "        h = self.conv1(x)\n",
        "        h = self.norm1(h)\n",
        "\n",
        "        if self.time_proj is not None and t_emb is not None:\n",
        "            time_cond = self.time_proj(t_emb)\n",
        "            if time_cond is not None:\n",
        "                h = h + time_cond[:, :, None, None]\n",
        "\n",
        "        h = self.act1(h)\n",
        "        h = self.conv2(h)\n",
        "        h = self.norm2(h)\n",
        "        h = self.act2(h)\n",
        "        return h + self.res_conv(x)\n",
        "\n",
        "\n",
        "class SelfAttentionBlock(nn.Module):\n",
        "    def __init__(self, channels, num_heads=4):\n",
        "        super().__init__()\n",
        "        self.attn = nn.MultiheadAttention(embed_dim=channels, num_heads=num_heads, batch_first=True)\n",
        "\n",
        "    def forward(self, x):\n",
        "      s = x.shape\n",
        "      t = einops.rearrange(x, 'b c h w -> b (h w) c')\n",
        "      t = self.attn(t, t, t)[0]\n",
        "      return x + einops.rearrange(t, 'b (h w) c -> b c h w', c=s[1], h=s[2])\n",
        "\n",
        "\n",
        "\n",
        "class DownBlock(nn.Module):\n",
        "    def __init__(self, in_channels, out_channels, time_emb_dim=None, num_groups_norm=8):\n",
        "        super().__init__()\n",
        "        self.conv = ConvBlock(in_channels, out_channels, time_emb_dim, num_groups_norm)\n",
        "        self.pool = nn.MaxPool2d(2)\n",
        "\n",
        "    def forward(self, x, t_emb=None):\n",
        "        x_pre_conv = self.pool(x)\n",
        "        x_post_conv = self.conv(x_pre_conv, t_emb)\n",
        "        return x_post_conv\n",
        "\n",
        "class UpBlock(nn.Module):\n",
        "    def __init__(self, in_channels_prev_up, channels_from_skip, out_channels_conv, time_emb_dim, num_groups_norm):\n",
        "        super().__init__()\n",
        "        self.up_conv_transpose = nn.ConvTranspose2d(in_channels_prev_up, in_channels_prev_up // 2, kernel_size=2, stride=2)\n",
        "        self.conv = ConvBlock( (in_channels_prev_up // 2) + channels_from_skip, out_channels_conv, time_emb_dim, num_groups_norm)\n",
        "\n",
        "    def forward(self, x_prev_up, x_skip, t_emb):\n",
        "        x_upsampled = self.up_conv_transpose(x_prev_up)\n",
        "\n",
        "        if x_upsampled.shape[2:] != x_skip.shape[2:]:\n",
        "            diffY = x_skip.size(2) - x_upsampled.size(2)\n",
        "            diffX = x_skip.size(3) - x_upsampled.size(3)\n",
        "            x_upsampled = F.pad(x_upsampled, [diffX // 2, diffX - diffX // 2,\n",
        "                                           diffY // 2, diffY - diffY // 2])\n",
        "\n",
        "        x_cat = torch.cat([x_upsampled, x_skip], dim=1)\n",
        "        x = self.conv(x_cat, t_emb)\n",
        "        return x\n",
        "\n",
        "\n",
        "class UNetFlowMatcherMNIST(nn.Module):\n",
        "    def __init__(self,\n",
        "                 num_pixel_classes=1, # Changed from out_channels for discrete output\n",
        "                 base_channels=32,\n",
        "                 time_embedding_dim=128,\n",
        "                 time_mlp_hidden_dim=512,\n",
        "                 num_groups_norm=8,\n",
        "                 use_attention_bottleneck=True):\n",
        "        super().__init__()\n",
        "\n",
        "        self.num_pixel_classes = num_pixel_classes\n",
        "        self.embedding = nn.Embedding(num_pixel_classes, base_channels)\n",
        "\n",
        "        if base_channels <= 0:\n",
        "            raise ValueError(\"base_channels must be positive.\")\n",
        "        if time_embedding_dim <= 0 and time_mlp_hidden_dim > 0 :\n",
        "             time_embedding_dim = 0\n",
        "             time_mlp_hidden_dim = 0\n",
        "\n",
        "        self.time_embedding = SinusoidalTimeEmbedding(time_embedding_dim) if time_embedding_dim > 0 else nn.Identity()\n",
        "        self.time_mlp = MLP(time_embedding_dim, time_mlp_hidden_dim, time_embedding_dim) if time_embedding_dim > 0 else nn.Identity()\n",
        "\n",
        "        self.conv_in = ConvBlock(base_channels, base_channels, time_embedding_dim, num_groups_norm)\n",
        "        self.down1 = DownBlock(base_channels, base_channels * 2, time_embedding_dim, num_groups_norm)\n",
        "        self.down2 = DownBlock(base_channels * 2, base_channels * 4, time_embedding_dim, num_groups_norm)\n",
        "        self.bottleneck_conv1 = ConvBlock(base_channels * 4, base_channels * 8, time_embedding_dim, num_groups_norm)\n",
        "        if use_attention_bottleneck:\n",
        "            self.attention = SelfAttentionBlock(base_channels * 8, num_heads=4)\n",
        "        else:\n",
        "            self.attention = nn.Identity()\n",
        "        self.bottleneck_conv2 = ConvBlock(base_channels * 8, base_channels * 4, time_embedding_dim, num_groups_norm)\n",
        "        self.up1 = UpBlock(in_channels_prev_up=base_channels * 4, channels_from_skip=base_channels * 2, out_channels_conv=base_channels * 2, time_emb_dim=time_embedding_dim, num_groups_norm=num_groups_norm)\n",
        "        self.up2 = UpBlock(in_channels_prev_up=base_channels * 2, channels_from_skip=base_channels, out_channels_conv=base_channels, time_emb_dim=time_embedding_dim, num_groups_norm=num_groups_norm)\n",
        "        self.conv_out = nn.Conv2d(base_channels, self.num_pixel_classes, kernel_size=1)\n",
        "\n",
        "    def forward(self, x, t):\n",
        "        x = self.embedding(x)\n",
        "        x = einops.rearrange(x, \"b h w d -> b d h w\")\n",
        "        if isinstance(self.time_embedding, nn.Identity) or t is None:\n",
        "            t_emb = None\n",
        "        else:\n",
        "            t_emb_sin = self.time_embedding(t)\n",
        "            t_emb = self.time_mlp(t_emb_sin)\n",
        "\n",
        "        s1_skip = self.conv_in(x, t_emb)\n",
        "        s2_skip = self.down1(s1_skip, t_emb)\n",
        "        s3_features = self.down2(s2_skip, t_emb)\n",
        "\n",
        "        b = self.bottleneck_conv1(s3_features, t_emb)\n",
        "        b = self.attention(b)\n",
        "        b = self.bottleneck_conv2(b, t_emb)\n",
        "\n",
        "        u1 = self.up1(b, s2_skip, t_emb)\n",
        "        u2 = self.up2(u1, s1_skip, t_emb)\n",
        "\n",
        "        out_logits = self.conv_out(u2)\n",
        "        return out_logits"
      ]
    },
    {
      "cell_type": "markdown",
      "metadata": {
        "id": "qZvG5Qdk6tgO"
      },
      "source": [
        "## Flow Matching Loss and sampling"
      ]
    },
    {
      "cell_type": "code",
      "execution_count": 21,
      "metadata": {
        "id": "JBTHvzts6wP7"
      },
      "outputs": [],
      "source": [
        "def flow_matching_loss(model, batch, K=N_GRAYSCALES):\n",
        "    x0_discrete = batch[0].to(next(model.parameters()).device)\n",
        "    batch_size, H, W = x0_discrete.shape\n",
        "    t_scalar = torch.rand((batch_size,), device=x0_discrete.device)\n",
        "    t_broadcast = t_scalar.view(batch_size, 1, 1)\n",
        "    noise_discrete = torch.randint(0, K, size=(batch_size, H, W), device=x0_discrete.device, dtype=torch.long)\n",
        "    mask = torch.rand((batch_size, H, W), device=x0_discrete.device) < t_broadcast\n",
        "    x_t_discrete = torch.where(mask, noise_discrete, x0_discrete)\n",
        "\n",
        "    logits_pred_x0 = model(x_t_discrete, t_scalar)\n",
        "\n",
        "    x0_target_for_loss = x0_discrete.squeeze(1)\n",
        "    loss = F.cross_entropy(logits_pred_x0, x0_target_for_loss.to(torch.int64))\n",
        "    return {\"loss\": loss}\n",
        "\n",
        "\n",
        "@torch.no_grad()\n",
        "def sample_batch(model, initial_noise_discrete, num_steps=10, K=N_GRAYSCALES):\n",
        "    model.eval()\n",
        "    device = next(model.parameters()).device\n",
        "    x_est_x0_discrete = initial_noise_discrete.clone().to(device)\n",
        "    fixed_x1_sample_discrete = torch.randint(0, K, size=initial_noise_discrete.shape, device=device, dtype=torch.long)\n",
        "\n",
        "    for i in range(num_steps):\n",
        "        t_model_scalar = (num_steps - i) / num_steps\n",
        "        t_for_model_nn = torch.full((x_est_x0_discrete.shape[0],), t_model_scalar, device=device, dtype=torch.float)\n",
        "        mask_prob = t_model_scalar\n",
        "        mask = torch.rand_like(x_est_x0_discrete, dtype=torch.float) < mask_prob\n",
        "        x_t_formed_discrete = torch.where(mask, fixed_x1_sample_discrete, x_est_x0_discrete)\n",
        "        logits_x0_pred = model(x_t_formed_discrete, t_for_model_nn)\n",
        "        b, _, h, w = logits_x0_pred.shape\n",
        "        flat_logits = einops.rearrange(logits_x0_pred, \"b c h w -> (b h w) c\")\n",
        "        flat_probs = F.softmax(flat_logits, dim=-1)\n",
        "        flat_discrete = torch.multinomial(flat_probs, num_samples=1)\n",
        "        x_est_x0_discrete = einops.rearrange(flat_discrete, \"(b h w) 1 -> b h w\", b=b, h=h, w=w)\n",
        "\n",
        "    # final_image_float = x_est_x0_discrete.squeeze(1).float() / (K - 1.0)\n",
        "    return x_est_x0_discrete.squeeze(1)"
      ]
    },
    {
      "cell_type": "markdown",
      "metadata": {
        "id": "45klsck961RS"
      },
      "source": [
        "## Trainer"
      ]
    },
    {
      "cell_type": "code",
      "execution_count": 22,
      "metadata": {
        "id": "SGIdQ0Bw628c"
      },
      "outputs": [],
      "source": [
        "class TrainLossLogger:\n",
        "  def __init__(self, log_every_sec=10.0) -> None:\n",
        "    self.running = defaultdict(list)\n",
        "    self.log_every_sec = log_every_sec\n",
        "    self.last_log = time.time()\n",
        "\n",
        "  def log(self, data) -> None:\n",
        "    for k, v in data.items():\n",
        "      self.running[k].append(v)\n",
        "    if self.last_log + self.log_every_sec < time.time():\n",
        "      self.last_log = time.time()\n",
        "      print(\"mean train:\", {k: float(np.array(v).mean()) for k, v in self.running.items()})\n",
        "      self.running = defaultdict(list)\n",
        "\n",
        "\n",
        "class Trainer:\n",
        "    def __init__(self, *, model, train_loader, test_loader, loss_fn, extra_eval_fn=None, num_epochs=5, batch_size=32):\n",
        "        self.model = model\n",
        "        self.device = next(model.parameters()).device\n",
        "        self.loss_fn = loss_fn\n",
        "        self.extra_eval_fn = extra_eval_fn\n",
        "        self.num_epochs = num_epochs\n",
        "        self.batch_size = batch_size\n",
        "        self.train_loader = train_loader\n",
        "        self.test_loader = test_loader\n",
        "\n",
        "    def train(self):\n",
        "        optimizer = torch.optim.Adam(self.model.parameters(), lr=1e-3)\n",
        "        loss_logger = TrainLossLogger()\n",
        "\n",
        "        for epoch in range(self.num_epochs):\n",
        "            print(f\"epoch={epoch} test {self.eval()}\")\n",
        "            if self.extra_eval_fn:\n",
        "                self.extra_eval_fn(self.model)\n",
        "\n",
        "            self.model.train()\n",
        "            prog_bar = tqdm(enumerate(self.train_loader), desc=f\"Epoch {epoch + 1}/{self.num_epochs}\", total=len(self.train_loader), unit=\" batches\")\n",
        "            for i, batch in prog_bar:\n",
        "                optimizer.zero_grad()\n",
        "                loss_dict = self.loss_fn(self.model, batch)\n",
        "                loss = loss_dict[\"loss\"]\n",
        "                loss.backward()\n",
        "                optimizer.step()\n",
        "                log_items = {k: v.item() for k, v in loss_dict.items()}\n",
        "                loss_logger.log(log_items)\n",
        "                prog_bar.set_postfix(log_items)\n",
        "\n",
        "        print(f\"epoch={epoch} test {self.eval()}\") # Final eval after last epoch\n",
        "        if self.extra_eval_fn:\n",
        "            self.extra_eval_fn(self.model)\n",
        "\n",
        "    @torch.no_grad()\n",
        "    def eval(self) -> float:\n",
        "        torch.manual_seed(17)\n",
        "\n",
        "        self.model.eval()\n",
        "        total_loss_vals = defaultdict(list)\n",
        "        for batch in self.test_loader:\n",
        "            loss_dict = self.loss_fn(self.model, batch)\n",
        "            for k, v in loss_dict.items():\n",
        "              total_loss_vals[k].append(v.item())\n",
        "\n",
        "        torch.random.seed()\n",
        "        return {k: float(np.array(v).mean()) for k, v in total_loss_vals.items()}"
      ]
    },
    {
      "cell_type": "markdown",
      "metadata": {
        "id": "lCpPoaxB67PO"
      },
      "source": [
        "## Train the Flow matching model"
      ]
    },
    {
      "cell_type": "code",
      "execution_count": 23,
      "metadata": {
        "colab": {
          "base_uri": "https://localhost:8080/",
          "height": 1000,
          "referenced_widgets": [
            "810361717f3241829a17333bb710786c",
            "b30821dc827640e995157901608c0618",
            "91e34db66e654920b9e7a624aa6b51a5",
            "5e2f697a533c4c34a6c32a16cef8e702",
            "d5d2d000fc394dcaa16efd9b71af81a2",
            "d9af5395adc64be6b21302d0654fc28b",
            "9bdadbe7d48f412c94bb5a53fe1660de",
            "6366db4262be42c3bd2ce05a6703629d",
            "620b92df3a254ade9356817f872f0052",
            "f7c7a5588ad647a483ad77dba894a0f5",
            "76a5e9c1faa7474fb6875245547519f3",
            "4b719706304d463bb4a5b857fdba347d",
            "cf5a844d419148b5838249c581921000",
            "313413ea09564102bccf4aa9f0472091",
            "c875b8b0f6d6471bbd4e831501c054ff",
            "63296cc2e9354c598a032b97239c8231",
            "1103666818f14fe2afa5c1d963b2d6b6",
            "a3c3275ce9c0429db0086a752a413fdb",
            "71d49d3e1a89431f9c3b1393f254eb55",
            "4b3c767050ae4b2596ff8f0e1ea51cd5",
            "3322539c28194a9d9d6caf4f8a98a1c3",
            "48404a3bca0342919315bd38c657e0d7",
            "1df33551d60d4b09b92d58e83ed398ad",
            "2a4357b467d14264a3239450695c9d36",
            "ba2af13c4af64cec888bb86056f881cf",
            "1555168e69ff4c4bb34a090786242c81",
            "d0ae9baed5c9432ba41b7f627fca19c8",
            "88c9e894175d492585a9b7a6b0baf6a5",
            "f9c8476cf68f4b0ea262e2b31e6944b7",
            "ffe006b1d89f47debcc3938a35e2bbeb",
            "78dc5ef2a23d46509277d65c2aaa0bf4",
            "b922405a1daf48eab98cc7615c97d148",
            "e104e6c6cc0e4c248caefaae7bf09015",
            "39fbcbfa4e7e4e94aa98e0900d9657d7",
            "02cd3faa63044ed7a29de4119b7c7166",
            "93c76759613c4bb1a36edaeba75a6c0e",
            "614c6aa056a042449fcddf7637f2ccab",
            "f652a4e358ce4d14b1eb57e79f6e68eb",
            "d1e853a4889748a3a4fbd312979c90d7",
            "e4a5bb8544594a29809a8fe078bdd3fa",
            "07300d6152a244eeae6c135a0c26f048",
            "ffc723187b6a414eae968c336296ea29",
            "1727c9c5d1a84a599e28e2914466f0a8",
            "06b33bce3e684e65b4b11030b6a0ff3b",
            "c9a549f9d98b4664b8d3c67395c8bb5a",
            "6c52b082bb7948a9a103422d700b4ed9",
            "cf5be34edfad48fb9c84baf0b58257e9",
            "8abb15de42fc435983b3392bdb44accf",
            "3f4ccd5912974d2ab50771f60a1be691",
            "d7717098526840f6b75e2436212c3b14",
            "1ecf6c9b9a1747e490f8f2b045f18d85",
            "bc2f3a6ad50a4fceaeaf991a5259eab6",
            "e0439e4ef37d4421a93f3305afccfd0a",
            "6e0ca93b34f24dc4933f50af27017030",
            "febf41076c924d7cbb28c87316be5796"
          ]
        },
        "id": "NAX1KZ1Q7Aqg",
        "outputId": "6ef66337-a1f0-4e1f-cc0a-0a4b49c23492"
      },
      "outputs": [
        {
          "output_type": "stream",
          "name": "stdout",
          "text": [
            "epoch=0 test {'loss': 1.6118702217936516}\n"
          ]
        },
        {
          "output_type": "display_data",
          "data": {
            "text/plain": [
              "<IPython.core.display.HTML object>"
            ],
            "text/html": [
              "<table class=\"show_images\" style=\"border-spacing:0px;\"><tr><td style=\"padding:1px;\"><img width=\"28\" height=\"28\" style=\"image-rendering:auto; object-fit:cover;\" src=\"data:image/png;base64,iVBORw0KGgoAAAANSUhEUgAAABwAAAAcCAIAAAD9b0jDAAAB3klEQVR4nH2VS5LAIAhEMTVXlEPqIZlFm85Tp8ZFyqBA03yMqoqI3ntVaT/GqKreu+Te+EjfiJCEumtJ3+a0rK8loc31d1loO/IR1CRYKxgpf42d7h3Wwm8derYP7n1f1xy7I15IZd74pWlCyQ/DckCkfjFrph0FaT2AGBrlh7+q2pLjDHJjHs3ajZ1IxxjPnNP6c05dzUxD45IDqbTW/DUyHT3e+dJWca8tHWVmZppE4ZUkIuacvffMfOacYwwf8JJsORQnnVUlKDbqWMPUsODNEcvF176SvAquqoJnLPJCIzEbPGJKA638pc9k261JKPT7kcCjtj6kDIp151SwwuyeKna/GOf4oZWD2fircckbJ8Ajz0qcTGRma00FpKvayERmKunKOwejhUFEJs5xHdgdO4UEvjZknQk58kPr/2xk54l9PmWmeJhzttboUhJR4Y6Q0Jsv+5wRHPssDMfBUDjz2UE/7msjVf+6C4VLhtiyGjrxtnxgbjQ2g5QZtV3WOxPcoB4fVF+KTKKtcGowjWxTzmwmeYzx6bMR65rtB7lxPTmsxe+J3h6Za/YcnR77i+n6XRZuOFIe+0N/V+XW7MBhBN9b5C+b6vBql7TiSv/or/01rWss8YjOGLjB/gJ3DLlMv1znqgAAAABJRU5ErkJggg==\"/></td><td style=\"padding:1px;\"><img width=\"28\" height=\"28\" style=\"image-rendering:auto; object-fit:cover;\" src=\"data:image/png;base64,iVBORw0KGgoAAAANSUhEUgAAABwAAAAcCAIAAAD9b0jDAAAByklEQVR4nG2VWZYFIQhD8e1RF4mLpD9ixdtU+eFxYAgQMapqzpmZERERmTnnrCqda+i2qjx7IWFtrRWZqY0lvJWErWemfTd/hhJ2SIWq0tqmG/bC0BVhSjF8Gs+wUa1bdDoxAoalCCJi6FqbiBjjnOy9NStMbbXITG8lLzHN4Xjt1mtFKtR22SQ5U35U1RjDcDJzreW1sFfVWsv52XtLy0kTxivjmjQUrOblylN6z0464xv2rzt5y0wmV3EQqWOSJKsy5xxMGa81S18utXB9BMLF0a0w/Q4JxjCZCMpBjDFs1DSwA0ZzeUrmM6dOscnLd/HO73ljTYhMJp9plO4pfA/5tA3Zan77DTXPWwOK5oecd0MgmWi6vfp/8ZGPrY+1BRPnmNpjO7eG7dA+M8utMbpKjPIY5WDd2QcYr6G1yKx4adF6cANu5csbcMDy1yidv01QgMRoVeXVFZV/pqZxwLNrYnOdCUxfPF3n/YWQG8wPKxbP33UdEgWBNxq2j4SoLfmzvlssS7HW2nuri+tWHdpJ09bfyTFib+QH2cPkEqPzzvBPKGb++x9uJKctpuKzJQWLzgy2E9KucYhfy2l9nygcAelJgc9Daf0BwwKXPfq/6ggAAAAASUVORK5CYII=\"/></td><td style=\"padding:1px;\"><img width=\"28\" height=\"28\" style=\"image-rendering:auto; object-fit:cover;\" src=\"data:image/png;base64,iVBORw0KGgoAAAANSUhEUgAAABwAAAAcCAIAAAD9b0jDAAAB0ElEQVR4nG1VQRLEIAiLnf2iPlIeyR5iY8R66FAFgRAQeS4Ac04AFDKTXwpcAHrv3Je+W4EaurT3DkBXSKYOf6lDe17NU3oC8GRmRABorUUElVprAPhLmYIH1Xun4cdSFiV9/fIrwdX8yP396I0/EdHfNcZgUhGhbDJzjMEwGalS5ubyLUQcMoJFSwpu4/pyoM3lwxGQmbB3bvh18sdNL+z2L5sbQQVbbvdIPcyHkY4xiBphAkDsXOCpeFLI4LDCuV2C0lGhSrflqQiHnZHfexdNDrTkyTH5qL6Q3j7fthHKhSpF5r2PYCJ8zh6/aM7phJW+YGmttdaWoSfCLQLk4MJaXjjIfWmtJTteOOeLNgWFzw6nV75UTfJUcfnIuavnERV6OGHgS2bih4LyLnBufdZqReq7SlD27gbWxDcflOWex9IuEDvW3uZlMGcZNO7KiYmzr49YTky9UAel7lwcitvyDkXONjfTWuizpqW4BWI332X1QO4o5Fvkk+B1X5pprVIqkOegKtXzKVNOjzG8QTmdl4J8PgoCekV6p1Ds76tFwc/G+XHSZCZHFN96VYMTnrGPMaY9unpWOaLyZVFEbCr4cMqX1c72AjrOV2PaVPsD97gRxVzftXsAAAAASUVORK5CYII=\"/></td><td style=\"padding:1px;\"><img width=\"28\" height=\"28\" style=\"image-rendering:auto; object-fit:cover;\" src=\"data:image/png;base64,iVBORw0KGgoAAAANSUhEUgAAABwAAAAcCAIAAAD9b0jDAAABy0lEQVR4nGWVUQLDIAhDYXfUQ8oh3UfaZ4p+OHUIJEQaETHGGGPsd6y1IkLnEbHesff2ra5EBOfcSq323pm51qoqzREx55RfRZ1zxjvYEjgzCRBEU2SlgLXOdUguGDPIlG2wIUBD5yfyzuC68pDxTz+ZWVWCIOCa996OWqOqxhhVpYXWJFtVT15yDUFQAQI4cbqcKBk/uQuO9pQYyNDHobvAbzNLYd97CwKR25ANljCADPg3In7aQyKsaeaEmrbYzuan7i5g59dRNzZATQHcJhopviA+6qEyrjCv6iPnlrm7i/ctaYvfG4oL4+PF7VB4ezmYcddlh9NTTaefyqp6agj+2ON97yc7E8nZE7PJtqXpScEM5D6tA4C3hj1xD+yFavLQSGri8Gl6Ted4FyHodIzRgbvo7lL6ur1jbrlOHkkhNMfiurnfu5PjpMlJevcFWry93TubxpyTT4MzLpEciu50mMnLc3dkfBTcJklEgvXGjBJpK00MXk+q95FUU2JYv/Aq+UyOLE7p2ykwZeB6cM03m0/18Og9qXlpN118Yc3oXPEILfitwSZqVy42T6EoiH8mm8hcdqhKF5HNeVQOFok4s44Xlu6e7Qz8AZqLbbWOPz+BAAAAAElFTkSuQmCC\"/></td><td style=\"padding:1px;\"><img width=\"28\" height=\"28\" style=\"image-rendering:auto; object-fit:cover;\" src=\"data:image/png;base64,iVBORw0KGgoAAAANSUhEUgAAABwAAAAcCAIAAAD9b0jDAAABwklEQVR4nHWVQZYDIQhEMW+uiIfEQzILTPmlOy6SFkWroEAzM3c3s8x098yMCDOLiIgoY42a1n59Z6Yca0SE1Z9j1KZy1r5m4dH82L61g3jriELaHAhQVIRJaKxtpaV2VDTElHsafcH/W2uZmX4zc61VU11TQMYYmtaq7nP3tZbs7+hkFOta1TYOhUgnjMycc+o2QSi8NLr7nFM5IL+iWOds+Equ8itVFQoGV/ISJ1E5vqSjeCsyLVdKcZM2fbdOKTGNlhAGl8pTmSgTG4GcBZMK17fokxkJafUSPzPI0lQQqU0CZ1mfAPLE18pr6JpdRoXuxEJYWHNMAq9pMPWRmQcjJcLBWlSNs9haHe+GQiVRoZq2tNjd/Rq/0/p4HMtUmmXL+MXm0Gd+WyGwn9JZsm1KkNeVR7t7mqbtLWiCFZVzd4MpebJpPYXVcihy286ibGQZATaENp5cL52Kb4PDaDRj67M7Vmwlr4z8fq+eCiMIYw0wA09cPIvl+OsVOI2LpdXoP6GxXhotM/vY970zszlnLdTDIK3Us6H+Nudca40xxGmMQZfrqsBDT4xNpM/+wtXNgLXEbsZ+eErwralTVRHxD825D42ugMBJAAAAAElFTkSuQmCC\"/></td><td style=\"padding:1px;\"><img width=\"28\" height=\"28\" style=\"image-rendering:auto; object-fit:cover;\" src=\"data:image/png;base64,iVBORw0KGgoAAAANSUhEUgAAABwAAAAcCAIAAAD9b0jDAAAB1UlEQVR4nH1VS5IFIQiDqb6iHBIOySxipyNOjYsun8ovCTwzsz7XWmutlZnc68bMzGytZWaZiQ0MYYIHht801jvY0DIzccsH4xAejBF4xPi6tAj6wgYmSHx/sRv2DIMAtOchjOFRz3emqI4J8oVmh2CwQbEjNlPG4YOjqlprVVVVIQwsI4KY4grfzHR3ZIMNvvuxMji+ZJy05LsUfaL0MaEl05c6UnkouHSnPH/s08utPjoaylMoKcGPRpWnEqIxNC+6G5LQlvHuVozBDAzICenCA7DU3WTV3ZlTRDzuTuyqSpV/002pwBiO6BGxP6IGP6x3oHFLklaqCmtpvqGEll7ss3k0D7jTMB/FfHd3jvIwWpmG6vqINhJReTHAUPc91TLT/nfELMaEHUNW0c9M7+6IAO+MZueqqojQcw6KlsZTSRz86CRX9kzGAjtdO/CoeMxarUuvbk6U2LvTjKn9maPKZcBn50BgHj+7W93RMO5OfHVKao8B0A8+6VTM5fnno5ORgAzUlH0KRvk4/g5HgQNW2g+slczZ+/Rr70Aa2fW5COhoh+1dZa/l8MVQLgEhgSaDdQ9pk6GtP1WeXHzZ52BWw2ewrDMUjyICfocS7J3fHO28/QWbv601fJwvzAAAAABJRU5ErkJggg==\"/></td><td style=\"padding:1px;\"><img width=\"28\" height=\"28\" style=\"image-rendering:auto; object-fit:cover;\" src=\"data:image/png;base64,iVBORw0KGgoAAAANSUhEUgAAABwAAAAcCAIAAAD9b0jDAAABzUlEQVR4nHWVS5blIAxDTe0RLxIW6R6I3CjmNYMckvgnW4ioqjlnVUVEVa211lpVpf2cc60VEfoYETLz73KXvTYx59Q/rP03/sc6gu+k9FIU52/vTbbMjIgxhioaY2xbihjP2nurIC3tZRZzTuDzj71KwIwWYSYo7M8rcIji/SUQziD1SbSOhY+F0BSLm14/ng8aJQDxWisIdM+HesnqyRyTG1RVtBA4OI28uYTzzvB6Ws+ntnFrrUZhCneeAuVtIr2nFgI5gjZS5knKP0A1COJsS+xdorliul4zMzPDB0cHCeFIm6VPuA32BdKwOMZ6OOv+zlCIdUDIs50Wr6Wu1Yjs64TyPPEoi3e5oSPTTZiXhT5ETmGYprWKUCOnhJ/dU2mDyZT9gDn2srNbX907f5HbMultSOurnm55t/7TO9f2W/DbScWL7x9eOg3d+qfau+f/vALUPzlPB+8EfrTalM6gaHCjesNOma4JTYCUY9RzNVGp7hmeVbX3zkwsZZyZb2nfNYRCl53c/JgeozFURVMZLk1ejxKB14nlM3VcZSx22vpsp0Q6TEDJQZtcQ301Vvjzk9An9pNVin4jcD16edqEh72rzK0gdd1mMvsHzDUCoqXjwZsAAAAASUVORK5CYII=\"/></td><td style=\"padding:1px;\"><img width=\"28\" height=\"28\" style=\"image-rendering:auto; object-fit:cover;\" src=\"data:image/png;base64,iVBORw0KGgoAAAANSUhEUgAAABwAAAAcCAIAAAD9b0jDAAABzklEQVR4nG1VSZLEMAiTq+aL+JHwSOagblnG7UPKIaxCEHR3RGRmZvIOoLspAUAJv/ITn7TSK++ZGRGICGrwwkM9t6ffy/IbgEIeOoFykYgBmCY1KJdTD+Apn/o8neFXeo6PUPIE37JAM/lS7QMTWQpuV9MrP2GUKV8jFwfBy5eh1D7uFOfNqO+mCwTBMj1Kj9H8Ir9e108atfHhONV5sXc0PAYAr2/AOv2qluFioOxWL+EmlEJgtOX1cngOeJMz8w/A3jsz994Aqqq711pUrSrZVBU1I2KtlZl8VhVrp4eIuIbMS1AiP4v1i7erNaNq31BVQ/tmmJR9xgZz4XG8OZ7dy62Bry7wnkjk289dj9wHSbQfLqL5EnvH1LH2SfUAfJ379JM8Lkx84yi7se5cMzOX8Np7yympQ0qRTDQ4pAEiQizkJ5X7g1IipifoO9fHzEfzlPKKBL+HUUFOo1f/E8+7pv5I6Sd5+5n3vHf2tcHGCLtfdU+AXsT8SnjWua2l5jDTtRbdUUJ7roXTk6+kbWNgFDUI64jL18+R8yrPv3t0ZtTuczFmVLAo5Mm8u0lP4aCz9+5urTgnsg4hqqqqml12qnp/8v5BDbi8soj4B2xaNYLIurYdAAAAAElFTkSuQmCC\"/></td><td style=\"padding:1px;\"><img width=\"28\" height=\"28\" style=\"image-rendering:auto; object-fit:cover;\" src=\"data:image/png;base64,iVBORw0KGgoAAAANSUhEUgAAABwAAAAcCAIAAAD9b0jDAAAB1klEQVR4nHWVS5IDIQxD7VSuCIc0h2QW6jwUk2GRasD4I8lORMQYI2xpu/euKr8an7U/KyJkM8aoqr23bo/HqtIFv3KNKd8yxkYnxNPh404bWcudF+Fhmr0/eaISUyVQI1n4A6AgfVl6ieHP/kOgFXEvpUKaVZUKm5mkMOdUsmstHc459973VguUM1OuXjLy1GQn13NO8JXlWstxgCXSqqpADUre0YArxw58nX0vP7CAUOjiHIpICpZuuB+z24K8YMnlTUgXr3NbVS8wbhg5lPK41pKZvhU1MzNTNOhjrXWU7+A2Sf8UEwbUxO9Xy2Pk7cD7xiG3P7v2wOxNCfCuat4QxkuB5PBNa4xtnXYrqfWSr2P6U0ZNT8RwDsmG7/MMpPHewGrZIURyOqA7y6152gRyohpprvGnTfd3FwK/64a82kgOm21H4w3N1og+T1E0YTw7B+HI1bXiW7Th+HpUF8aThOPl0rnHUtjfXIOidcEzpDU36WuNYc1ZDdaI0JCWUw0Bx1cGsnl7+YyMpk351dwhd4YI8U6AxrLLxVvAKXapbetg/KSeUbJyIXJ9/mAopaXvJLNefspUZVzinVsBx/cYY84pSs6V8+it1ZrNC/c2vxtkjPEHXb+kYiML+70AAAAASUVORK5CYII=\"/></td><td style=\"padding:1px;\"><img width=\"28\" height=\"28\" style=\"image-rendering:auto; object-fit:cover;\" src=\"data:image/png;base64,iVBORw0KGgoAAAANSUhEUgAAABwAAAAcCAIAAAD9b0jDAAAB1ElEQVR4nHVVW5ZkIQiLfXqLskhYJPOR6hixpn7KK8ojhIjuBgCgu7s7MwHsvffe2uQ6M2nlfmbSRA88ycV1TQZe4IImWhlM4ffe78m9NxRq5EWzdpQF/XrKtHo8qFjV7gjIKTOSL51Xgo4elKanNrBzZBhAtb+Fdvev3DFgVcn7WktWABHB+xFRVZnJHR4TaFV19VHuRr2eZtvPe3jQBH74FxHKV1lUldYqnOu1lmpi4KrSsVOdyOG1iJtq+luTFgfT7q4qnltr8ZMx9RubmcnPiGDIiFBLPpg6RgJUBFB2aqY45LgLh+4+d8Q70UWn36kbJh+EzIT3Vxf462cuPTzusXZM8c6v74xIzv8xWu0DOaSk/5TCY+jaYOgQh8NcZf7KhCuegHN9GH4P4ZyknoLa5Y32k/L+gvNdj7+SbEQdJ4UeHE2YOPb9BPStQz4Uw+nnsJNDoDhkLwhe+NUfjbjDNxaOgG96PwcTPiYFf1ntlOqb/I6gt447S1pLKYOJ8VpLYsiFZJseKUDaVAXQUB5E7I1x5rvEubgoU794dcN1CKanAxbcb4TcHVidNMLR0YQr0N337xzQ97Z3KR+F96xHsW0j8+mV38GtZnhemqED/3P6D3ZauQB5/hyAAAAAAElFTkSuQmCC\"/></td><td style=\"padding:1px;\"><img width=\"28\" height=\"28\" style=\"image-rendering:auto; object-fit:cover;\" src=\"data:image/png;base64,iVBORw0KGgoAAAANSUhEUgAAABwAAAAcCAIAAAD9b0jDAAAB0klEQVR4nH2VS5LEIAxDTdVc0TmkOaRmYfpFQFdnkUrAH1kWJiIiIqpKkqSqighJmcmK7MG+DTKzDQjSBoH/u/Sx6C2Py9adrN+ZGQ4wMx0gkDOzv0lz46iqdun3+sdzZftsAwobzDo6+cg6JI0xJD3PU1VzTjgZY1TVvf48T9uTg90gJwRTrKcFI9V5WTAALWTa2u3NcQaIggvd92SSwlOR31XiXd5EY82hmt4dvdc0NYnNWq/POZuvOedyGMMphtMG1L5/Haut6TuZlj7Mk4Iyk9BV1d1ewnChsYry0S+9uqXqpC9YUHZrkJ46X7oe78SrZeDoOny+0kj95HSIO98vRP72vm/q2albJBDUeTwgU9Sh5a9zoKrC/VHrEdp7ckvdoSz4PkduLA7nwOUHOmwevlPKSQgbpn6o2P1x6pcXdk6i9/QoWbvg4NqrjHvkIB1v0VvXPhB8srwypy0seSBQs+K9Lhv1G0VHvd5654RqfGKmPRtpDpNwjsJLOWTn5b8H/6ASO28IDtpvQxeAQ6mqDZ32CX+f8YPQTUZG68hMBnDsV5hfebnPUP/A6/2mdu2nxU+EbFx6l4+yqGaN6x77krg/2oH1sKcr6CuH+vDNzH+jkdjmjl801wAAAABJRU5ErkJggg==\"/></td><td style=\"padding:1px;\"><img width=\"28\" height=\"28\" style=\"image-rendering:auto; object-fit:cover;\" src=\"data:image/png;base64,iVBORw0KGgoAAAANSUhEUgAAABwAAAAcCAIAAAD9b0jDAAAB20lEQVR4nG2VS5LEMAhD7am+IhySHJJZKP2skPYiFdt8hcCruyOiqrq7u9daOtHPWisitNXStrurqqqkq3PUl+7WWth9XJsVPMmWb/u79P+Xmeivta7ruq5r741dudTVsiXTe29u995S/yDNV+YyU+HgQEvn8oTw3vvhG2jIETTAxJH1ZN/ZcHjDr+9A1pXlGx2EkaSApxqOtP8PfQWFjCs6Zw7qnovjOJwRuPvjGxHr7Y3tMOp2CRY0qc2t6InIs8Pk4Hr14rvaSH27pKae+4jLIft5PlP0dFzTKcJVW7854Xpwi752i0TKIeEM7EDJe/eMD48L54gOzuFpkEH/p/erKjPVv/jwACWpRoSw6v1BsuX6bXx01EZ0g5s+CaX1kcXMvL4Lc9oyWThXsARO1zJfTpgUAbk3oD5YKabP1tsr1XSfbsKrPLqgbRrAkGPCWYZbR6qfk99RHiyuqu1UF6ARAV6S9ikuYQlUFeM5M8WQiDj86tcMdWScwpR+tOxpNm9e7wp0gOjn6ERmtOzjDfDKwAevOEGFPTyeR0ScF9ir7EbffTFqhS1M/SkEXlq1qbNVW7FdtUJY5aK8kszMg4vPCE9z0G7g61Cg+wAYnv5spLaBAJ3LngkQ+weSMMMtKBb6AAAAAABJRU5ErkJggg==\"/></td><td style=\"padding:1px;\"><img width=\"28\" height=\"28\" style=\"image-rendering:auto; object-fit:cover;\" src=\"data:image/png;base64,iVBORw0KGgoAAAANSUhEUgAAABwAAAAcCAIAAAD9b0jDAAABzUlEQVR4nG2WSaLEIAhEpe+ohySH5C/KlE/yXXQnzBSDiapaa40x5pzP88w5x3ue5/GvBaqqESOiqp73ZOaoqsy0RFXJrpTFEkVcEatKknrOTMlsU/oTg89Wk4wtiiiuXn2kNeccduisjQCVbd2+HZCzcSjj6z9xmkvSHabBMTKDsZBBNO3V4NCQvdLHwYWGpKnwv9Hp2T6I+2ZJuRWa0TEQ1p05WT4zLw9Gmo3iPiN8NGcum+QSYlexWxkmIWIGtuNGOm0gNstiCsvFhBru4yvX+pz+/h0BWtypWMhFbKZp10NxmbhLuo06L2bahr3NGLG2USseOVeQkRJcB85hdfo2dbYUGQ6Tzc/JaQvFbX5q1dAszH4r1LdPCD1b8Dc+x5FqE2dmRLA42sRrLQmstbwNRPlxwiIiIrzDD/CvM90RvhG4wOR4Xw1tWtrAEZk2zXTWZ5LFnTgksm5sap3Ws2OMkJBw8XVGcCPCLDsQUa8CV0a2Y5abE9Wq38BhHhTbyPS9co8NZ4xu2MLchzK90/eN70vcr/P9HnCyNiRhfzZccRH18dmBTL/udeclwmHbmLJwRsMJSqHNKLcn18UO2S8Dg0yUT/fdny0UaIp/YkSfIvRUmx8AAAAASUVORK5CYII=\"/></td><td style=\"padding:1px;\"><img width=\"28\" height=\"28\" style=\"image-rendering:auto; object-fit:cover;\" src=\"data:image/png;base64,iVBORw0KGgoAAAANSUhEUgAAABwAAAAcCAIAAAD9b0jDAAABuElEQVR4nHWVW5bEIAhEcfaIi8RF0h8k5RUzfvSxkTdVxCLC3d3dzOrXzDLT3TNT91KLiLqUvI6ZlVyaJks9lzs6UgxepFzZKCF3t8wss2bD4BKWL1VzGz6u4z2lWhcVqJIll736xnhPVMZPHKYsL0rT37OzU+2qogxU7J1Ue9WdA1Chg20aY+i5/tbrWktZlFCSMYb0S2GtZcqfWXA+NQ0ijzNku8rJhhSn1CTN+3+tJ8APDKt9nzNlH2+QcAYbbkQvg4tFyvqTFMJsRBwuaN/qZQdKyAAd//yTF/kac9pm4CnDJ1MNhza0VEbCgOKRh0r/CCt30mjdYOGG1SPhdiU6ca0RWwmCKt8GrxbpjwglAORozimDIlIprLWkX097CTQkc1AqSmrsHXtF8w8Wtbk3DNykYt87Te98HUuTayyxZEllDnzr6UKyk4hN+e7JRgj1GoVuY94DX7o8+Xqgnb6aTZ7I1ww4Brke5W7OudbKd/sWkhLLuIC15/tudPJKtrut7PfnMmY1RMXd2c42Uije0wZFtApMyb1zdPcFWuIrwqhEJStTNk+VCdgrX10IbFK5BWP3IuIHIujcmSD7LlMAAAAASUVORK5CYII=\"/></td><td style=\"padding:1px;\"><img width=\"28\" height=\"28\" style=\"image-rendering:auto; object-fit:cover;\" src=\"data:image/png;base64,iVBORw0KGgoAAAANSUhEUgAAABwAAAAcCAIAAAD9b0jDAAAB6ElEQVR4nHWVUbbjMAhDcc/bIl4kXiTzoUa5oRl/pDbFIEDg6O6IqKru1r6xMrO7q0ryqvI+MzNTx7yW9n/SiIi1VlVl5lqLGuccHSW3ji6ec/SVZmjZ24AgjNKpa0nivxyKvl5/QkSfsn7OkX9ZYSgOWdjl2DAnXqdVuIZ/2XK6aN1V8TEY2jjaHEO2GqFQM0b1tWESLXSirODIGFNVPdggPwZlK8TOtBLE4xbp6VISlEyYIQRuZdI2M4P1/V/uhpzt4Lv0HdRw4gyccgY0Go/lyszPWksM3Xvvvd2X4mlESG7HIq/0rSB6WvLikGQwcDf4bwFo4ZsTJpsh/B4dNStJ067K9eNOuBZLwThIQdbKODLzwwFhTvQ1CnRzraWxpK+tKPWmnRJ6d9QoolG8FpftNBKqvz577+4WFs1EwdEQUukt5BJtHMFay9y425TDhgl6lPXJFqb+pfq84LpRr68eGUxyv1H/0c7D7WjqMY0aw4w+vkhfu56vi+FzrBC+R9fNyzE6ydDf+d3PaTvGufafzFTz7r1FAE0AP1D6y3GozZUTUkLX794fhQqMrjFbGxTmc0LNiFgugvC6YeJ69C3UQyu1qjJM0Vymv/PMxCw8jY2pMVp7VJXK9xhjrV/5NCKl/Ne09v8AZ/K6Zel0n/UAAAAASUVORK5CYII=\"/></td><td style=\"padding:1px;\"><img width=\"28\" height=\"28\" style=\"image-rendering:auto; object-fit:cover;\" src=\"data:image/png;base64,iVBORw0KGgoAAAANSUhEUgAAABwAAAAcCAIAAAD9b0jDAAAB00lEQVR4nGWVQXLFMAhDodMr8g8ZDkkX+n2WiRcZ4xAshCARETMzM1VVVRHxPI/MmYkIneipQ1bZmhl9ODPhfgoaEVUlD55+ky+/9UBhBxx3Ii6mIyCu/HVSVSk7Irpb++5+m+7T3cqpu3H7fD7hy3N5AxFlYkCg4ITPIeebFsVx74v1mzWieFV1zkmAwpF6IDl4TtC3UiTIMZ57OfGk4sIC2opbVeEwXYlOH4kf1v5P5MM1XxBvAS4SOQEIPDobV0JeYtfsWC+4JNz0opPoFpZT6WLyTKk4qKHipP/+jFz0asnjko51nQ+BnBl1SOZ3T/NorxbSRm1DU9FF+NBsJx3PAm8HuCTp6BBlVSWZVpXuceDCAijq0N0zI5/4b3xSiffl9A8oVsVdf25evb/k7aV3VbzniHt6+8XcM9h1Cq3v4bDWGjdHpy5srnWpjs2HNy1jM+QaB8BcSnQZLGY8HA6nxF5WiU5F14k2ug+RIurHfh9HfV5KLljjw0cBr/wQ7IEUVgowuEzXADwQV+aPVykiMhMNo/nMzExErr1a07k+DYI8vVl9DjkzgIWcuv+J5HoG/hrVK02vftwzf+5p8Bv2i4/7L690FCszZcphaUZ7JsAfWgHPIkWy/LEAAAAASUVORK5CYII=\"/></td><td style=\"padding:1px;\"><img width=\"28\" height=\"28\" style=\"image-rendering:auto; object-fit:cover;\" src=\"data:image/png;base64,iVBORw0KGgoAAAANSUhEUgAAABwAAAAcCAIAAAD9b0jDAAABv0lEQVR4nHWVS3ZEIQhEMSdbxEXKIskAu7xix4FtK9+i4Jm7r7XMrHZ3z0wdMpMHM9OrJNuru++rzJTRtVa9tZvaZbdeS5L+rN7klqsuS7PEeH/0zWTuhFxOaEKhKanaCZGiUU4KPDM/P/Ami8xa4CplRqe17UifBWlR0BZBV+5yvGujsKUmlC/sUfeXAyzsjpRx6UBKtFi4iJXWUWBBvqImMaWvPK7czX4jwszmnJk5xhCH3H3OWW4igmIRMcaoQ2bOOUsyIrZj5sUoxBvek0kEre5rbZ6+CLIg0uFT44yMXn1ByBQXDdFBmw9Ef7sn75oae6yVsXki87ZYmxQKfAOEfMkhNjuDXWv9VE3HGCpu0cCeFRGqclW/FMUNpWIEkVmzEdhyqgk5w3JtSqnhWNa3hd7pxSdKHipoZ2tyCFBfJFOz2GdmnjZt8H+90VnkbxQ8Iy3v3ld0NPrf2BdopFqqTdVkL7cSTcUY8262i6fCmLiQ2CRK6wLVXfltdfohiDwwLppuwqf9+NC+E62DtYiY35/LDR2hJJnEmAM/fCuzdzYe4PL+loib79BsYuTcqQeHMROUCcPQazVhE/LvH1xq75r61mXpAAAAAElFTkSuQmCC\"/></td><td style=\"padding:1px;\"><img width=\"28\" height=\"28\" style=\"image-rendering:auto; object-fit:cover;\" src=\"data:image/png;base64,iVBORw0KGgoAAAANSUhEUgAAABwAAAAcCAIAAAD9b0jDAAABuUlEQVR4nHWVQXIFIQhEMZUr4iHxkGSBv31i/iymHAWB7oYxM8tMd48IM3N3d6/N2ql1PdyhZTnWkbtbRNR3LcpZnrUfEQpcC91bBnWXHI+PPuteXUF/2WhTRaigiDDmJTvhoPQZu8WQgU6v7N6FcNSnsmO9wnpjqji01i2kUTuiqKFZNjtAg4bllD850SfRpwAiwnjcqqMYGEmbSo2JG4HI+6GqVG/T4+ulAEb1EX7u5C0aOStlQnw1jDylD0pSt7Nq4nbURot6U54UqTqlLWi5MyOzpIjkMN9vutbR7qhWhQr3z8MOJkUtvJI4zLzsqzQRQuyoDbKfmT/uPsbIzLXWGGOMsdYq0zmnclxrlY2OhEmXp1BgaaKuxWeNb2uyvoMpPWlKPbDflEo+PW0cH7KTvN9km/1F+gflX3cvpPTmrBxjFKBmNucUrHXEDpT7hphosv9IfVMC0+fR1aZ6U/NNVY1Pnv7zU2g+eXdn3hOLZbUppTDGKs7geobT2x15zxTGM8NwJctMk3Jh4aqv2V+FcCw2tV7avn9cnACno1qBZJkz9BsgTbwbU3KlHEmR4S9AA2XKTXf/AzL0AYVOk4BNAAAAAElFTkSuQmCC\"/></td><td style=\"padding:1px;\"><img width=\"28\" height=\"28\" style=\"image-rendering:auto; object-fit:cover;\" src=\"data:image/png;base64,iVBORw0KGgoAAAANSUhEUgAAABwAAAAcCAIAAAD9b0jDAAAByUlEQVR4nG2WQRbcMAhDcV+vCIfEh3QXSpU/OF5kbBxAgCATmdndEXHOiQhttDLznNPdPGamVPR+d2emtR473W01iXTUq5Job6N2T11rPbf6oUOjOF9LkdmuLb7g/IYC0Z0TYs92rNiJ3QG92bDOQDrkRO0sSW7rLwjnnvitzLR+Po1DRh4FRmTnBsL8EpHlN5pguZ1cuXVlmS+X2AVg4Bb+3Xtn5t7bwB11Zq61KNl7V9U5p6qsEhFrLQN/5D6PKJwm5p0t8Mmzc06MV2mXauQZK3O+1iQjrYx2JNtHoknYh6e0e9Pl5imZ7yKbHj/VNxyqOa3UGckZOQlC4LiaHYJakVUHrXk4iQarB+e9Z4BjOFjo0v0hdapqzAhRtaqqyqzUXlceLntveaqqt6wOlvVl+KMm7BTSOSKWkO+95UqtIkNqJx+51DZsKnVmDCdjja9I/I47E2NkXFrLlGZa9fQVG7yqJFFwYzJ091orAl3PL+DAxdu7X3ns7rftRu7JVn7giIB7fla/JxDVyHBKRsa9juc0zdknyX9LHNnw8dSA6Iz6ToJRjJHIYfQWtv+vuBr0nmysnht34PhJzd3RRhTXf4tAm3kvxX+XbuXBZMDgMQAAAABJRU5ErkJggg==\"/></td><td style=\"padding:1px;\"><img width=\"28\" height=\"28\" style=\"image-rendering:auto; object-fit:cover;\" src=\"data:image/png;base64,iVBORw0KGgoAAAANSUhEUgAAABwAAAAcCAIAAAD9b0jDAAABxUlEQVR4nHVVQZboIAhL580V8ZBwSP4iTpqi30WfVcQQAiIiIqK7/ZuZmnc3gIjgNzO5C4ArsuHobnBJe3Lqg2c4kRmH/NId5093P8+zbwAAPM+TmQICYK2VmVUFG9riuo6staCgCJCmgibgPKAVUSQoMutunFTKmi6GF644FXQkm8yEe/Fr/f4rNCeRGMXyS5BCdmtxN5gZwKcGHLmMXA+OdBDi2d+B+3DRXFl2dJ6Wkysop+5r6EZxuZmjdlr278jAkLHH7slRaQ0tKhNQ7k6heOBC6pkYHG7vnpwzb+5lCEPXyOyN2LF8NsblN82OQtAcnx/jVBh1a/+/hwnEzrPLzTvbtRCv+nPxCsTr9zoZXvrQ6Ujm61RYXH2u2aFltatRgfz+ZiYb6ForItgcq8pbalWxpWolItg3eXD3UGCvj6R7XIPKs6EoLOX5I1pFOgL36EYfueadgH66u6rGAVlX1XgtNKrKE+gX7NeJzxT+ilV8uV/PNXHoFBd5aleUl5oXTB8V6cwMGYj9XftO5RA2rNj9GnwrzRlrPnyDFBe5F1tb4cb3/RjNENKH59e11cc4lTMYe9OqA64BfLvtsNSW+KXBP3Okxc9sNwY+AAAAAElFTkSuQmCC\"/></td></tr></table>"
            ]
          },
          "metadata": {}
        },
        {
          "output_type": "stream",
          "name": "stdout",
          "text": [
            "Generated sample images (min/max): 0/3\n"
          ]
        },
        {
          "output_type": "display_data",
          "data": {
            "text/plain": [
              "Epoch 1/5:   0%|          | 0/1875 [00:00<?, ? batches/s]"
            ],
            "application/vnd.jupyter.widget-view+json": {
              "version_major": 2,
              "version_minor": 0,
              "model_id": "810361717f3241829a17333bb710786c"
            }
          },
          "metadata": {}
        },
        {
          "output_type": "stream",
          "name": "stdout",
          "text": [
            "mean train: {'loss': 0.2564704418182373}\n",
            "mean train: {'loss': 0.2124959212730302}\n",
            "mean train: {'loss': 0.20499897887074728}\n",
            "mean train: {'loss': 0.20271398726279144}\n",
            "mean train: {'loss': 0.2006598432109785}\n",
            "epoch=1 test {'loss': 0.18892263527959585}\n"
          ]
        },
        {
          "output_type": "display_data",
          "data": {
            "text/plain": [
              "<IPython.core.display.HTML object>"
            ],
            "text/html": [
              "<table class=\"show_images\" style=\"border-spacing:0px;\"><tr><td style=\"padding:1px;\"><img width=\"28\" height=\"28\" style=\"image-rendering:auto; object-fit:cover;\" src=\"data:image/png;base64,iVBORw0KGgoAAAANSUhEUgAAABwAAAAcCAIAAAD9b0jDAAAApElEQVR4nO2UQRLDIAwDQ6dfNI+UH+kePGWoCSBaDj2wJzIJQrZRrutwaDAzMwNgFQBEZLo3DUR7r1RVVX2xYFNEjKDn+sGc4Y5SSmvWen5bL3WXmf6yJxVdAHtEnbEu1dPAbVt+Fd0wrpZw4chEjAgZoybme8JH8machUldXhGZq/bafmR/tTs557Kup/fkJer95Z8yJ9QbwuOP3wx6c/IOf80L3b4hHnGsk0wAAAAASUVORK5CYII=\"/></td><td style=\"padding:1px;\"><img width=\"28\" height=\"28\" style=\"image-rendering:auto; object-fit:cover;\" src=\"data:image/png;base64,iVBORw0KGgoAAAANSUhEUgAAABwAAAAcCAIAAAD9b0jDAAAAe0lEQVR4nO2VwQrAIAxD2/1j/Mj6kdlB7FE7yGDIcvLiIwlBzX6dLwARQVIJ5RQADXF4JBkRGiIAvU09MW3qq9R7XM/oegodh9baClpPAUAWOVUfpteh2aP75la10wzee6/72Cizy4j6tdu0KXs47FWbn2/T5p+hJJ6uG0jckIDg6n3EAAAAAElFTkSuQmCC\"/></td><td style=\"padding:1px;\"><img width=\"28\" height=\"28\" style=\"image-rendering:auto; object-fit:cover;\" src=\"data:image/png;base64,iVBORw0KGgoAAAANSUhEUgAAABwAAAAcCAIAAAD9b0jDAAAAgklEQVR4nO2TSw7AIAgFtXfkknjI58LENGoQkX7SdJZGRj4Sws93IKKl+4dSCgAAEa0+MDFWmHlXihFb+fZpFuSoOE1zHBalQGlQ5hpvl5rfM0plJGlKyV9avIXm3G2vmFm5VNqeNsnKnTEOymH9zy7P8pd4gdTnJ/XUtjp7L5E+QwZHXoOrMVcC9gAAAABJRU5ErkJggg==\"/></td><td style=\"padding:1px;\"><img width=\"28\" height=\"28\" style=\"image-rendering:auto; object-fit:cover;\" src=\"data:image/png;base64,iVBORw0KGgoAAAANSUhEUgAAABwAAAAcCAIAAAD9b0jDAAAAaklEQVR4nO3TQQqAMBBD0SBecS6ZHjIuCkXcmEIoIv3r8ggjArvdskhKklRVMVS3Ym5VjbHhvQ865na6oyRfHx8m2lrzF7goSd91UQD+h5pAe87eD6DmWedQ86x/XZov/5uOnLOeWW4H4AIU6lTeiBfezQAAAABJRU5ErkJggg==\"/></td><td style=\"padding:1px;\"><img width=\"28\" height=\"28\" style=\"image-rendering:auto; object-fit:cover;\" src=\"data:image/png;base64,iVBORw0KGgoAAAANSUhEUgAAABwAAAAcCAIAAAD9b0jDAAAAjklEQVR4nO2SUQrAIAxDdXeMh0wP2X0UykCtK4zBhu9LkMYktZTNy6iqqpJ8UhSA6QK4P3U8aeF7ohFeaLCr9BpJBluKb9c2hwaD22mn/r6I9B79XGtNiM4gae+JyFBxMdyniztJOPWw7rGMOsk5tU+jc3Jf6ho2oB9cNA3AIvtyLDgAEQHQWkvY3Gz+zgkhPMZiT3OUeAAAAABJRU5ErkJggg==\"/></td><td style=\"padding:1px;\"><img width=\"28\" height=\"28\" style=\"image-rendering:auto; object-fit:cover;\" src=\"data:image/png;base64,iVBORw0KGgoAAAANSUhEUgAAABwAAAAcCAIAAAD9b0jDAAAAl0lEQVR4nO2UQQ6AIAwExT8uj2wfuR6aGINAbT0YjXPwoGTcyuKy/HwTAE9HiAIAgIiQJCkiScuu6BLwmsjVBYwAJq5RuuLOe7yjqqpqBVDV/RqgGXlUJpIZY3Jnu++/EvMqo+rcyjtpTz7mOeDdsF1FNOw6eWaVTEzdlt9VlDI7L0abtNY6WmrHyTX2sUo1H/eF/+Yflw1jwDP8GhXcJAAAAABJRU5ErkJggg==\"/></td><td style=\"padding:1px;\"><img width=\"28\" height=\"28\" style=\"image-rendering:auto; object-fit:cover;\" src=\"data:image/png;base64,iVBORw0KGgoAAAANSUhEUgAAABwAAAAcCAIAAAD9b0jDAAAApUlEQVR4nO2VSw6DMAxEoeKKk0NODmkWgchqgz8RC1r1LcF5DMYJy/ItrKlqETmWrdbC11wWAHMLB5CUk9uk3Wgn3YK6N0ut1ShO9LR7beMDpN3oSqMEP1GC7CRNDv/N0tYBACTnWwFArkmrWxzDqNVR6acRJ8O7vjGYpav9sDpF5NVI6rLBWdtaqa/oLVRKcZ/hJ02NfSM6p6n9fnme2n+hPz/BDnSP9z+ONwPxAAAAAElFTkSuQmCC\"/></td><td style=\"padding:1px;\"><img width=\"28\" height=\"28\" style=\"image-rendering:auto; object-fit:cover;\" src=\"data:image/png;base64,iVBORw0KGgoAAAANSUhEUgAAABwAAAAcCAIAAAD9b0jDAAAAnUlEQVR4nO2UQQ6FIAxEq3ecSw6HrAsTv2lLocGV31mRwDyGUhD59EIBAPAwVFVVlWSO3qrQn3PrevcEAYCk3mRmS4FERAzOa4l4VtDvUUsKIHQadA16OUnmJ1iN6Wdnw949vSAz3N0YrnFrbZxi5o2ZKw7DmqSD3vKrPTfsrcGNkQx7vteqU2GTUoQ6M5bfa45e+gZNuYdf36d/1gFr5JOGgt+46gAAAABJRU5ErkJggg==\"/></td><td style=\"padding:1px;\"><img width=\"28\" height=\"28\" style=\"image-rendering:auto; object-fit:cover;\" src=\"data:image/png;base64,iVBORw0KGgoAAAANSUhEUgAAABwAAAAcCAIAAAD9b0jDAAAAnUlEQVR4nO2VQQrFIAxE5dMrxkOOh5y/ECS0aU2iq9JZ6/ORSWkpbwsAkiQBTA//nFARWbOyiFSZnneZas1aa95OZzh6Blo8polpxqCttQ3QE9EJnWSsJ8k9WxXdpDBR976krKEdBCD0vT6Z9vt6vhmuSbxC79o7PG88tCQigT27SpmJlXZq30ymK3OIS8Th6+8nqdx3YP9f4MuL8gccyUTnSj1sLgAAAABJRU5ErkJggg==\"/></td><td style=\"padding:1px;\"><img width=\"28\" height=\"28\" style=\"image-rendering:auto; object-fit:cover;\" src=\"data:image/png;base64,iVBORw0KGgoAAAANSUhEUgAAABwAAAAcCAIAAAD9b0jDAAAAn0lEQVR4nO2UQQ7DMAgEoeoX8SPhkeQQtVpFqRdH5JTO2VrDgC3yaLR4zt1FJCIiou1yd88PZjY//CqGdhaIfIvdVTRgZglQAyXQaWbOD1edItRvKdTMevpFsPeeKS3Z3HnTxEPjvzxUF/nQdU4pScfFpIkLrmkQJmKlxOkpquRvm+3pqfsxBr11ObSBKyOmz1RVL9TL3/5doZXh/LmXDc3RAlC7jnPbAAAAAElFTkSuQmCC\"/></td><td style=\"padding:1px;\"><img width=\"28\" height=\"28\" style=\"image-rendering:auto; object-fit:cover;\" src=\"data:image/png;base64,iVBORw0KGgoAAAANSUhEUgAAABwAAAAcCAIAAAD9b0jDAAAAiklEQVR4nO2TMQ6AMAwDW/6YPtJ5ZBlYUKG2SDMgxI0FHY5JS/n5IGaW5gIAoJ8AsKTrE4KpiZF7t/gUgYrNjMc8yE86Y0nq7vnSCLLQyFaRlQJAjGz8WWXyqZDWWskLEWkYLW2tDSfuzpvR091eG16LSHr7i3lMLX30sVWpDCu4rv2SbvCm6V7EDtDW4la5d8C2AAAAAElFTkSuQmCC\"/></td><td style=\"padding:1px;\"><img width=\"28\" height=\"28\" style=\"image-rendering:auto; object-fit:cover;\" src=\"data:image/png;base64,iVBORw0KGgoAAAANSUhEUgAAABwAAAAcCAIAAAD9b0jDAAAAk0lEQVR4nO1TQQrDMAxr9kd9UnqkegiMQRMnNmWMMl0jC9lSjuOPZ4Kk7ZjzqkkDuHPAtm2SAWfgVFLfcaguaWlrvH5gti7aJ4c77lyzzR5IApD0aQ1AF21tOhgBgOdIp3/1exWN0y/aT1cqFt2hFX9UXKyc6E5J09hMKeH0fdCl38pN7xet//2voge1pP1ApR6HE9XLgr4028PxAAAAAElFTkSuQmCC\"/></td><td style=\"padding:1px;\"><img width=\"28\" height=\"28\" style=\"image-rendering:auto; object-fit:cover;\" src=\"data:image/png;base64,iVBORw0KGgoAAAANSUhEUgAAABwAAAAcCAIAAAD9b0jDAAAAoElEQVR4nO2VwQ7DMAhD0/2j85HmI+kha4Q6lZXMh03aOyVqcKgFpLVfYasGuPszcruMfZQUSY6FmSXHaqKTXLQAAD/QK2pEo+K09SNIxhwBCET1ijFNjeKylVmdxtRkhSn+8RbcXKihxTbNuZw0sW2mocOHsQVgZr33wm2nvkyoOX7qpfu6b4Y0Dl4/TU/MbLHgSI7ENQPljxJXvUXfyw4mZ+pCedNRnQAAAABJRU5ErkJggg==\"/></td><td style=\"padding:1px;\"><img width=\"28\" height=\"28\" style=\"image-rendering:auto; object-fit:cover;\" src=\"data:image/png;base64,iVBORw0KGgoAAAANSUhEUgAAABwAAAAcCAIAAAD9b0jDAAAAjUlEQVR4nO2UOxLAIAhE0Tuuh8RDksIJk0kRlgx2vhpWlo8ih2paKhoAABEZY9S8D0BVzczMviN7VldE5pz/S3thN0u6AABLUVXDYNa+V8d478+EKtiV8om3FqdQ9r2P5NxzK0WyRZRi44aG1+nE9r06/hOJRX3iletc31AXZU7eCeynTp4V3UXK+GEXF5bNXNI0klg9AAAAAElFTkSuQmCC\"/></td><td style=\"padding:1px;\"><img width=\"28\" height=\"28\" style=\"image-rendering:auto; object-fit:cover;\" src=\"data:image/png;base64,iVBORw0KGgoAAAANSUhEUgAAABwAAAAcCAIAAAD9b0jDAAAArElEQVR4nO2UQQoEMQgEY9gvmkfqI92DIGGi7sQM7GXqGKFtuoOtvfwLIhIREXle0TiSQ0TxQMQnPRpEVJSOnOaW+/0FzDzGWLceObWXi/1tUcuUiFoQcd3mVqy9xbmouwhmjkbdHavHVUW7AgAASPZ97njU0ufdldJ/VjE35meaEAV36nStK59mXL6kWkPE+X1P0dV111SIrlSumH030zUJ6229LEXqB/TlnC/qNHbP5+G8ZQAAAABJRU5ErkJggg==\"/></td><td style=\"padding:1px;\"><img width=\"28\" height=\"28\" style=\"image-rendering:auto; object-fit:cover;\" src=\"data:image/png;base64,iVBORw0KGgoAAAANSUhEUgAAABwAAAAcCAIAAAD9b0jDAAAArklEQVR4nO2UwQ7EIAhE7f7j8JHwkfZA1pAuYHBtT30nUzPTAQmtvTwJAADM3A0ApsLD/crMahrKDl84ydh75y9reZ2krsxal00jbGRt0Tbfv5oQYZvg+n4WTEVERPS8M2wzeX+vVpJaRuSCafLESeHzpDr/0a2bNCOfnsWpyuc8ucrK1xR2gDaQFDiKKJcfyaZrJVuLQ0NEw9r+g4jKnbns0As1r8hXz9GqfbmXExfs+TEarY//AAAAAElFTkSuQmCC\"/></td><td style=\"padding:1px;\"><img width=\"28\" height=\"28\" style=\"image-rendering:auto; object-fit:cover;\" src=\"data:image/png;base64,iVBORw0KGgoAAAANSUhEUgAAABwAAAAcCAIAAAD9b0jDAAAAp0lEQVR4nO2TQQ7FIAhEoflXhEPiIfkLUmOUKrQm3fStdKLjIArw8bEVXK4gIhuUUlqFiGyAuDbpERE9EREiUo96ds5xQk1tLJKr6ijWe6jTTpnRVWq1Rze7dIVvcASAp90YuWqxe8U3HVslEvZwVesmMyMiIrb9jZj+3KTMvNw5wUn60NE3dUn1PWqa4j3TtvbIN08nvf9OR9p3KiLZKJfYv9rp+D5/sr7gY6O6J0sAAAAASUVORK5CYII=\"/></td><td style=\"padding:1px;\"><img width=\"28\" height=\"28\" style=\"image-rendering:auto; object-fit:cover;\" src=\"data:image/png;base64,iVBORw0KGgoAAAANSUhEUgAAABwAAAAcCAIAAAD9b0jDAAAAnElEQVR4nO2TQQrAMAgEQ+kX9ZHrI+0hIJK0qbGBQumcgod1V2MpPz93AACgqqpKRGtE1QGgFq/Ut6DN+hARZmZmX8xARI3BqthU5rDUFtbaJIdry+lt5p2azb7TQHG0KEsnIhlHp1jMptNt9pHTtMHQP/VbXnBONaYX6n/YUyIDLcH4XvSZqzNey16m4sdvYW6mQdF9VmvlyX6UA4lutXgDsW9KAAAAAElFTkSuQmCC\"/></td><td style=\"padding:1px;\"><img width=\"28\" height=\"28\" style=\"image-rendering:auto; object-fit:cover;\" src=\"data:image/png;base64,iVBORw0KGgoAAAANSUhEUgAAABwAAAAcCAIAAAD9b0jDAAAAo0lEQVR4nO2UQQ7AIAgEtekX8ZHwSHowMcSiAuXYvUnMsLLEUn79EgKAfCgzMzMirhoAACL2ayqhqlB5JCIikg2mTrUqEN2pUf1Bk653qfsyynW5IOIY3DA1VVaR3itoa02tr8KJCwCONos60z30s7EXcR96RJaI4sQ0m3KZcojG0H3yPvy8UmkTlMRA6I7lH39gJtSuA1Ra8/1ye419SiPG9ACq1edIvEq5wQAAAABJRU5ErkJggg==\"/></td><td style=\"padding:1px;\"><img width=\"28\" height=\"28\" style=\"image-rendering:auto; object-fit:cover;\" src=\"data:image/png;base64,iVBORw0KGgoAAAANSUhEUgAAABwAAAAcCAIAAAD9b0jDAAAAd0lEQVR4nO2USw6AMAgF0TvSQ8Ihn4tG4so+DKYxdVZdkCmfgMjSbKloVe0Pd6/538wAAAh1ATgxs/vInTSmsmOlgbu31oqlDKx02Mc0qkqOqDO1/JWl2ZX/TvkU/CnpUJkOl/2JNCBv1byeyuXsA3jFWyn9ITkAIP5I5PGKIwIAAAAASUVORK5CYII=\"/></td></tr></table>"
            ]
          },
          "metadata": {}
        },
        {
          "output_type": "stream",
          "name": "stdout",
          "text": [
            "Generated sample images (min/max): 0/3\n"
          ]
        },
        {
          "output_type": "display_data",
          "data": {
            "text/plain": [
              "Epoch 2/5:   0%|          | 0/1875 [00:00<?, ? batches/s]"
            ],
            "application/vnd.jupyter.widget-view+json": {
              "version_major": 2,
              "version_minor": 0,
              "model_id": "4b719706304d463bb4a5b857fdba347d"
            }
          },
          "metadata": {}
        },
        {
          "output_type": "stream",
          "name": "stdout",
          "text": [
            "mean train: {'loss': 0.19699250350932818}\n",
            "mean train: {'loss': 0.19588007116540868}\n",
            "mean train: {'loss': 0.19193674649388145}\n",
            "mean train: {'loss': 0.19061148583889007}\n",
            "mean train: {'loss': 0.19277786860601254}\n",
            "epoch=2 test {'loss': 0.18200428690761328}\n"
          ]
        },
        {
          "output_type": "display_data",
          "data": {
            "text/plain": [
              "<IPython.core.display.HTML object>"
            ],
            "text/html": [
              "<table class=\"show_images\" style=\"border-spacing:0px;\"><tr><td style=\"padding:1px;\"><img width=\"28\" height=\"28\" style=\"image-rendering:auto; object-fit:cover;\" src=\"data:image/png;base64,iVBORw0KGgoAAAANSUhEUgAAABwAAAAcCAIAAAD9b0jDAAAAr0lEQVR4nO2UQQ7EIAhFy6RXhEN+DsksmmGIRUZtN5P0rayGJxDstj2UMDMAMzMzZr7B6DoHwCWjdVj3MnNPuu4tjOv9Tbs56H31pKoa10QkIkQ0nd0IMd/pTHuoqhdxz9g6nm96Op1pQ5rsorQufO/FHGFxBvyo2QQQG53zc+yn38J5wsfJjfV7H5fujbTqSyCOqn7IpUW833d8isjg9d/yAfgAHJx3Jrj6Y3/4J941i5XDu1eqXwAAAABJRU5ErkJggg==\"/></td><td style=\"padding:1px;\"><img width=\"28\" height=\"28\" style=\"image-rendering:auto; object-fit:cover;\" src=\"data:image/png;base64,iVBORw0KGgoAAAANSUhEUgAAABwAAAAcCAIAAAD9b0jDAAAAq0lEQVR4nO1USxYDIQjD3jEeEg/ZLnxNeT5KQWfXyWp0+ISAiNz4X7S8KQBV5XGMYb/tMQtVfYaohQNATwAAmEPfmL/KBG3hbtbAwA/6k8US8RGbJovKdolSUscLwOZMBUq+/pyy8NaaGMl67/s02XTeWDWOgi7+Gzp88G3u8i/HGSl3PmaOnQduSVmmFDTpHg2/DSqHNMXsC6nTjLBstsK+iDGfwGXhbpzgBcfJ3UYsQpmzAAAAAElFTkSuQmCC\"/></td><td style=\"padding:1px;\"><img width=\"28\" height=\"28\" style=\"image-rendering:auto; object-fit:cover;\" src=\"data:image/png;base64,iVBORw0KGgoAAAANSUhEUgAAABwAAAAcCAIAAAD9b0jDAAAAmklEQVR4nO2USw7AIAhEtXfkkuMh6YKEkH5ALE266OxM6ssrjrb25890iKiSBYCZmRlAAVFxkgJZK0hEBaaHX9blOlG8rJpAH5mevXSs/sYtRI8xsjYJqD10vwAe1DpKT0ODGKoBIMRL6xWo1FOIC/O9jXppyYpfgJmeTs3UQmc++wD0leg19ce6aOp3q6dY+pT0ntsYpLKhqez6/piTpsIFMwAAAABJRU5ErkJggg==\"/></td><td style=\"padding:1px;\"><img width=\"28\" height=\"28\" style=\"image-rendering:auto; object-fit:cover;\" src=\"data:image/png;base64,iVBORw0KGgoAAAANSUhEUgAAABwAAAAcCAIAAAD9b0jDAAAAn0lEQVR4nO2TUQrEMAhEJ6VXNIccD+l+yILY0hqwsAt9nyG86GiAl39FREiamYh0eu1Lp9crdUi2qUXEAp3eWPJTUTziJUny9v5Wkc45l4ooSQGoKoDO9uMm9HijsRIoKu3H0jyEI2a2II3faYzhJ44X7h0sTDJ9qriwiRT0Xn3hbPSq6oGQ9D6WpUmHsL/ReM9ps8UduCKNpcH48it8ALfI3lNPDP0vAAAAAElFTkSuQmCC\"/></td><td style=\"padding:1px;\"><img width=\"28\" height=\"28\" style=\"image-rendering:auto; object-fit:cover;\" src=\"data:image/png;base64,iVBORw0KGgoAAAANSUhEUgAAABwAAAAcCAIAAAD9b0jDAAAAr0lEQVR4nO1UQQ7DMAhLpn2RPBIeSQ9oVtYMAWlvnY8UjG3atvbHU0BERFQbUFVV9caY2Rrm4uuKRma2ZSJyDykYV9J4cnVn0A+YuSbHCxTLyifCle5hnCdXd/ao7Lr5ae7LhPGTHK9+wtsjnaX97LH6GCOrFB5DFEIwg0SEm3hrds4FIE1w2cp9xvYdSNhc/vYzl+lJLgjsPR5JKUV2GcYUSmkaYqX2rxSRwnv+bBwwaAwtIQMubwAAAABJRU5ErkJggg==\"/></td><td style=\"padding:1px;\"><img width=\"28\" height=\"28\" style=\"image-rendering:auto; object-fit:cover;\" src=\"data:image/png;base64,iVBORw0KGgoAAAANSUhEUgAAABwAAAAcCAIAAAD9b0jDAAAAvklEQVR4nO1TQQ4CMQhE4xenj4RH4qEJmRSXLerBmJ1D06QwhYERufBTUFV3/z6ju6sqAH66f84OYCF9E57AvI1KAahq1tHM2kXN7kJBRvwx75HyKOjyBApwvYekWf6ZxucMALClAIDc5suqI6bHuEyWEYKeq7TM5CiB/z5hlNIqDBanUWYR3WCUDZl4Z7cYpZzmYoHC8rdMOi9mFtsX+xhhY4yGO7MXM3a7DuQlXeh2jLu2L2RQ9h+788K/4AkfsGHiHHLVGwAAAABJRU5ErkJggg==\"/></td><td style=\"padding:1px;\"><img width=\"28\" height=\"28\" style=\"image-rendering:auto; object-fit:cover;\" src=\"data:image/png;base64,iVBORw0KGgoAAAANSUhEUgAAABwAAAAcCAIAAAD9b0jDAAAAoUlEQVR4nO2UQQ6EMAwDXYkvuo+MH7l7iDaKSrUCGi4InxBIriduAF5dFUkzKzP6/ESywDHszKzSsQYZibp4iDW8uAM5Wq4JiDsyAlhx3KZvnVdS7336yR8kSTp0ToDnUZIcdukcyv4+5kUKrz+mc/whYERurTm1n400jUNJHf/amrdpOk8RJezrOq08wdz16u7nHnLjq3mH21P2N3n1dH0BRGf7JoJiyS8AAAAASUVORK5CYII=\"/></td><td style=\"padding:1px;\"><img width=\"28\" height=\"28\" style=\"image-rendering:auto; object-fit:cover;\" src=\"data:image/png;base64,iVBORw0KGgoAAAANSUhEUgAAABwAAAAcCAIAAAD9b0jDAAAAvklEQVR4nO2UQQ4DIQhFoekV4ZB4yOmCjLEICOmu7V/O4OchCMBfXygiIqJj2DP6ISLmCzPr93GrhyMiV6o9ZUYqIpUCc1nT6Tir+zwHuNXtF5KXbzH1jEtnrKsV6JmEYjWtwh4RDGwU9ihlu2VmM0r/ZlqZ50qMQ6qjqpXmvqVeze4n3VhjoqzoYkZoho6ZGxsgf/hHUn9LIeK65aK76y0qV/vqajzWlq/7XnrDz8y6qnP1TAFgjIGIvb7/mF6eFCJE6mT1aQAAAABJRU5ErkJggg==\"/></td><td style=\"padding:1px;\"><img width=\"28\" height=\"28\" style=\"image-rendering:auto; object-fit:cover;\" src=\"data:image/png;base64,iVBORw0KGgoAAAANSUhEUgAAABwAAAAcCAIAAAD9b0jDAAAAqklEQVR4nO2USw7DMAhEnapXxIfEh5ws0iJE4zBEXkWdnSXzxPBr7ZlSVVVNv71KRBFhfm48FMAnZkui2EzNde+dzyMhAgDAFJSSiFSJuX1rzhhjDdQTeWgiq+YaXLtVzVz4ipz5AvQ3TREh9zXKvPs0D5w5KHOD94Aznca+Z2n6J39KDlG7PyPOJjeHhsL5LSivgzVqpjtzdtoWknh1bkN/vOtld+Cvx2kHIeDaXEFA1MkAAAAASUVORK5CYII=\"/></td><td style=\"padding:1px;\"><img width=\"28\" height=\"28\" style=\"image-rendering:auto; object-fit:cover;\" src=\"data:image/png;base64,iVBORw0KGgoAAAANSUhEUgAAABwAAAAcCAIAAAD9b0jDAAAAfElEQVR4nO2UQQrAMAgETf9oHrk+0h4CgV7a3WIJlMwpEB1ETcw2fwAAgMx09zJjXgHAJLb7a3efNY5Daw8pGqNYpg+Hqq6USoOSK61kbgIT/EmllHQ2tPdeKa0fVETwRlaqPvxFg1IbSklfsFoaEeQaaFI+mIL88zdmdgLOcj/we59EiQAAAABJRU5ErkJggg==\"/></td><td style=\"padding:1px;\"><img width=\"28\" height=\"28\" style=\"image-rendering:auto; object-fit:cover;\" src=\"data:image/png;base64,iVBORw0KGgoAAAANSUhEUgAAABwAAAAcCAIAAAD9b0jDAAAAtklEQVR4nO2VQRLDIAhFsdMr4iHhkGbBDDUpQRSzav9KM/Hx/SEK8NduleEbiIiIAMDMzJwtSETtLC2wgUhEl+kKERF1fW9N0StcgZorheuH8LqDXgbmdE66/dZa/1C37y9/RwrIQNJIdVVvdva725lmHflaNhuC9s2f6gGFKiXo9zZTU6WUDVmbXSlROGY9p8vZzW3/KWjE/vg3hfP5IuNa66ybj74P/0j/j+8oQeg1lbX5AzoAz7zwQXIvWdEAAAAASUVORK5CYII=\"/></td><td style=\"padding:1px;\"><img width=\"28\" height=\"28\" style=\"image-rendering:auto; object-fit:cover;\" src=\"data:image/png;base64,iVBORw0KGgoAAAANSUhEUgAAABwAAAAcCAIAAAD9b0jDAAAAj0lEQVR4nO2UQQqFMAxEU/lXnB4yOeS4CBSpn5poRQTfLhCmk04bkY9XUOKtAACIiJmZ2aBzicipKklVbaWrn6dTBLAt//KL6JbS39J4/JGoz1hrjRx8CZIkxz2hoBot/fOm9hxG5CScutwzNiXudL7NyINPk1U8Hv+uwa+uj47I/8nh+2mmzfmKkk/8415WTTpmyJmvXr8AAAAASUVORK5CYII=\"/></td><td style=\"padding:1px;\"><img width=\"28\" height=\"28\" style=\"image-rendering:auto; object-fit:cover;\" src=\"data:image/png;base64,iVBORw0KGgoAAAANSUhEUgAAABwAAAAcCAIAAAD9b0jDAAAAmElEQVR4nO2UwQ7EIAhEx01/cfxI+Eh7IGGTNW2hpelh+05GyTgCAry8/Clt60BESAJQ1Z8jVSVJUlV776F7SI4wIjIrLLOixZkdd+p+bdMX8zv2Xn0YNsaIREapVwSwlUrnk1X0jJ83NXNoE1mn9Tat24rrY0WvVARgX6hSMdWbuUI90ElOuvmvip4uy55oa98RHh3G97ECSTWHsYmwcnUAAAAASUVORK5CYII=\"/></td><td style=\"padding:1px;\"><img width=\"28\" height=\"28\" style=\"image-rendering:auto; object-fit:cover;\" src=\"data:image/png;base64,iVBORw0KGgoAAAANSUhEUgAAABwAAAAcCAIAAAD9b0jDAAAAZ0lEQVR4nO2TQQoAMQgDy/4xPlIfmR4Ke21clLLQOcfRFDrG5SAASALYJp+O9aelSvE0JEkqyaP1V/eIqJQuWqQiufqVUgD10pf6NzUzManW13d3SSUjSXfXR/aXpv6SKv1Ai/TyEyYyeiIOfHtm0AAAAABJRU5ErkJggg==\"/></td><td style=\"padding:1px;\"><img width=\"28\" height=\"28\" style=\"image-rendering:auto; object-fit:cover;\" src=\"data:image/png;base64,iVBORw0KGgoAAAANSUhEUgAAABwAAAAcCAIAAAD9b0jDAAAAvElEQVR4nO2USw7DIAxEadQrjg/pOSRdWLIoMRgSdZW+VWTCxJ9xSvnzXF6jA1UFUEoh2cYtKCJdPAFArVVV6xhV3VZcwVIOeYclGyTbGu1oopXnOLrsry11oBWdXGh7Pfrw4U9eKUkRybMYc5xDe15JRU0uLAqAFb4yqK/pkwRgzRURAJ71njE75p5ft+ot3VAh3v12C9q5kez6cN8qQSlhrwNLpaSpXRFNdS+K/grv7N5/a47v2MhYj+UDFgMwLngK56IAAAAASUVORK5CYII=\"/></td><td style=\"padding:1px;\"><img width=\"28\" height=\"28\" style=\"image-rendering:auto; object-fit:cover;\" src=\"data:image/png;base64,iVBORw0KGgoAAAANSUhEUgAAABwAAAAcCAIAAAD9b0jDAAAArklEQVR4nO2UwQ6EIAxE62Z/cfqRw0e6B92GCBRaPTonEjrPMS0VefW0tmkFSTsDUNVSSuZTAEiS3HsCEE5K0mx1qJoVy2vpanT3dpUoIr4HQBLqG1ag8+630NO5Db2fKPRQcqpGWulVMunzSg7WBdGabbamr6sjx3xchaHTUc+EXXxdLXTYfStVVb8gptGvXVZiW/P1uWZoDyJS/gokdfa035/JQuku7HC6V/f1A/Y780UmvoH+AAAAAElFTkSuQmCC\"/></td><td style=\"padding:1px;\"><img width=\"28\" height=\"28\" style=\"image-rendering:auto; object-fit:cover;\" src=\"data:image/png;base64,iVBORw0KGgoAAAANSUhEUgAAABwAAAAcCAIAAAD9b0jDAAAAuUlEQVR4nO2UTRLDIAiFodMrPg6Jh7QLpgyjxBDTXfqtiInPx08k+vMsVLX3bvG7vs33MDMRAfBXAOJjFQA9YL5mVPWCxwqueJ7+4vDWmgceExGfKg7FOhKqMtex2I1X8YD25feixY+rojtjmDIMY72mK9JhrOgepu/jKSLM7DW9ZTa1Fm+Ny05dSER2JjzFWzScNC+mrEYqegRgVd437qZMK/6vtxqV3phFxdUtZfkCsJRFZN/jk/gAr/cNWtobCIAAAAAASUVORK5CYII=\"/></td><td style=\"padding:1px;\"><img width=\"28\" height=\"28\" style=\"image-rendering:auto; object-fit:cover;\" src=\"data:image/png;base64,iVBORw0KGgoAAAANSUhEUgAAABwAAAAcCAIAAAD9b0jDAAAAvUlEQVR4nO2USw6DMAxESdUr2od0DukuRnURiZMhIHXRvh0BT8YfvG1/vo6I3Czn7u5+m66Z+RszG3/8IEUP7qCbWaZEI7iUoqo4mfqd0GaNamS6c6cRWWuNw0u9io4fTI07xjYKpSShRPeJM+cTkGZ2vjJSiFm0k4G56drJMgDzmrZO45qV7ovIOPfTlcGEdl+Ra6VDVtBYV4NYdvhDEdec+hc+IP12iTBL+smoAzyq6vrkYmP6jqsL9Gd4AWhTsouB2vCAAAAAAElFTkSuQmCC\"/></td><td style=\"padding:1px;\"><img width=\"28\" height=\"28\" style=\"image-rendering:auto; object-fit:cover;\" src=\"data:image/png;base64,iVBORw0KGgoAAAANSUhEUgAAABwAAAAcCAIAAAD9b0jDAAAAjklEQVR4nO2UUQoAIQhEZdkrToccD9l+BBFsmIb9NZ+RD8exRK6uTgtArZUkAADTCzbhNdCtWFVVdWQBKKW0w1intkgGiP9mSU65yyHs+DCgTxTqGWUYuj9NQ56gYp12VmyfDHkiCsu/oV77B41nRp//ivozzW8zRFwE1f2m5SOD9zTikW0XkXxi+6E3Cj++7LxqM86rlQAAAABJRU5ErkJggg==\"/></td><td style=\"padding:1px;\"><img width=\"28\" height=\"28\" style=\"image-rendering:auto; object-fit:cover;\" src=\"data:image/png;base64,iVBORw0KGgoAAAANSUhEUgAAABwAAAAcCAIAAAD9b0jDAAAAmUlEQVR4nO2UwQ6AMAhD1X/sT3YfWQ8khKhR5jAetCcP7NkV2DR9WnNXNQD7aK2dlC29UJKXZR1QAO60UiQl1RMz188KgCRJmQSymTqrLNZoM2k2C7U0y5zGNGsGYN+f0QTM18bakFMnRl+Wbz3xJtQPb/bH/nQz0MONHF3T/dwULD7JeD4O/xDUKN6ugsfJG2W4R97mX+9rBYkNwErWpFz/AAAAAElFTkSuQmCC\"/></td></tr></table>"
            ]
          },
          "metadata": {}
        },
        {
          "output_type": "stream",
          "name": "stdout",
          "text": [
            "Generated sample images (min/max): 0/3\n"
          ]
        },
        {
          "output_type": "display_data",
          "data": {
            "text/plain": [
              "Epoch 3/5:   0%|          | 0/1875 [00:00<?, ? batches/s]"
            ],
            "application/vnd.jupyter.widget-view+json": {
              "version_major": 2,
              "version_minor": 0,
              "model_id": "1df33551d60d4b09b92d58e83ed398ad"
            }
          },
          "metadata": {}
        },
        {
          "output_type": "stream",
          "name": "stdout",
          "text": [
            "mean train: {'loss': 0.1892879721323649}\n",
            "mean train: {'loss': 0.1893943448728275}\n",
            "mean train: {'loss': 0.190940869007917}\n",
            "mean train: {'loss': 0.1888091646895934}\n",
            "mean train: {'loss': 0.18848023620935586}\n",
            "epoch=3 test {'loss': 0.18169338908046484}\n"
          ]
        },
        {
          "output_type": "display_data",
          "data": {
            "text/plain": [
              "<IPython.core.display.HTML object>"
            ],
            "text/html": [
              "<table class=\"show_images\" style=\"border-spacing:0px;\"><tr><td style=\"padding:1px;\"><img width=\"28\" height=\"28\" style=\"image-rendering:auto; object-fit:cover;\" src=\"data:image/png;base64,iVBORw0KGgoAAAANSUhEUgAAABwAAAAcCAIAAAD9b0jDAAAAuUlEQVR4nO2TSw7DMAhEcdUrDoeEQ7oLN5Y/4JpE7aLKW0VWMh6GCdHNjxEREckNIhJWATCozIgIgIDoWu6kXwBf0fXGn8+9EJ7zETPPb6tqecg5Bwxu0vr1nD6ioqpaXcc68JHq90xtTdqGmGaNRa3ZaX7yvACo2dERnymnB67olcak9FYLb39BXVonerEibQLdVfs/ftmY2YHw9omImaupmqMrqqrDneXjdi57xp7xnhL2rHXzj7wAaA48JTtQVXsAAAAASUVORK5CYII=\"/></td><td style=\"padding:1px;\"><img width=\"28\" height=\"28\" style=\"image-rendering:auto; object-fit:cover;\" src=\"data:image/png;base64,iVBORw0KGgoAAAANSUhEUgAAABwAAAAcCAIAAAD9b0jDAAAAvElEQVR4nO1UQQ6EMAjEzX6RPpI+cj0QCbYIU+NlE+dgqpnOwBAhevEX2EoGM9tZROzcDyx7isgvhYh417rAUIWZZydId77mGzdLb1zohi1f3THdwbUWLbtTmr1+ZsYwUHy+mfdCUmd+RvLtIwUqP8vUl1lkf+ajvSNlhuRxUGbYWkMUQ3IwfRAWTr0BkCn5PzXM/ZuXM8TPzP5L7x1Jichln2NhOdH1frqvqEjWKLJAs82vl/V5c8m/eAo76zGRsKfowW8AAAAASUVORK5CYII=\"/></td><td style=\"padding:1px;\"><img width=\"28\" height=\"28\" style=\"image-rendering:auto; object-fit:cover;\" src=\"data:image/png;base64,iVBORw0KGgoAAAANSUhEUgAAABwAAAAcCAIAAAD9b0jDAAAAgklEQVR4nO2UQQrAIAwEbekX4yOzj0wPgSBaVKKHUJybIOMoakqHwwgiEhERIaLNRoWZdxqZeUNvaSyHS5lmtLRVqXXZIdr2/dJW0YZ/8gzVAFRRigCslrb0S+9+o6/mGs6orro2Asg5+5asmXysve27cUrDl07ehwClkz9egNLf8QKHFKKHqQcjPAAAAABJRU5ErkJggg==\"/></td><td style=\"padding:1px;\"><img width=\"28\" height=\"28\" style=\"image-rendering:auto; object-fit:cover;\" src=\"data:image/png;base64,iVBORw0KGgoAAAANSUhEUgAAABwAAAAcCAIAAAD9b0jDAAAAxElEQVR4nO1Uyw7DMAgj+0f4SPOR2SEToyQNyVppl/oURcgY8yB6cDdKGsHM4UFEqqqq29mYGQCAegKfY0lprTX8mC5VBWBvEVmV6QUC6EVZgCXIlZJzcOhdM+dDUfLGJGDmYO5Q7O90Z7wbyvvuHYicCa8txuZvG1IRKaVY9ycTlqN38AZnA8xor3S1/C1cJb1k5ZBuvlfbdPPjcphTAP5AtFB/Pvz/l2K+plbL5OKFRco9XSFa5fL1hqPXc9055A/+jDct4jsVH88ZowAAAABJRU5ErkJggg==\"/></td><td style=\"padding:1px;\"><img width=\"28\" height=\"28\" style=\"image-rendering:auto; object-fit:cover;\" src=\"data:image/png;base64,iVBORw0KGgoAAAANSUhEUgAAABwAAAAcCAIAAAD9b0jDAAAAkklEQVR4nO2TQQ6FMAhE8d9xekg4JC6I5EdqxUpc9W0Jz5FJiRbVbOOxqhKRiBBRay0p/Y3HJgKQ1KWkrrOwNdJHrpQUADMXSx0RmYt8BoAeFBdlxJiTn2Rm24ln9ZGTlfrCv9Sq00A2bExxZYzS1E1dOvcWRkm7GbtHv5faWoGRehW/NY7/d1J3yssHsejF4gt2ThcpEOlN9gsAAAAASUVORK5CYII=\"/></td><td style=\"padding:1px;\"><img width=\"28\" height=\"28\" style=\"image-rendering:auto; object-fit:cover;\" src=\"data:image/png;base64,iVBORw0KGgoAAAANSUhEUgAAABwAAAAcCAIAAAD9b0jDAAAAsklEQVR4nO2UwRLDIAhETSe/uH7k8pH2YMexoEWpx+whkzjwWMSY0qPTuv5JLqV8KNcX57ULApBSItkvqs+4SJZOtVhEABSradssgCEo7nRmLeh0EdcUbJkkgNZpi6nrEaJN61vZJg5d9GG+zZUDqAo7RLuDbmF/7iv1e+LefFY8zmLuWQERUfXqs77knG2MDyXZctSuicgMN9DKP+7P2uo3Lnhv1mNkWfHrUpk9wHp0Sm8DpuRKR7pY2gAAAABJRU5ErkJggg==\"/></td><td style=\"padding:1px;\"><img width=\"28\" height=\"28\" style=\"image-rendering:auto; object-fit:cover;\" src=\"data:image/png;base64,iVBORw0KGgoAAAANSUhEUgAAABwAAAAcCAIAAAD9b0jDAAAAk0lEQVR4nO2TMQ7AMAgDM/SL5JHkkXRAilyaSFDYGk8REldjaGtHQRGRiIhIPbEMikRmLsD5iVeIq4/e+xgj5bE9p57oMmJBjqp6IjMXE5cnSUT4Jb2KLzbfFaMAFNdtcNOj1r1m8QdHHPaHE8eG5ZhY9zo1qU0vuL0Y0Ry8dr63pMm6iEs7Kdxu/BRrZzaLO/qNbszhep6arGe2AAAAAElFTkSuQmCC\"/></td><td style=\"padding:1px;\"><img width=\"28\" height=\"28\" style=\"image-rendering:auto; object-fit:cover;\" src=\"data:image/png;base64,iVBORw0KGgoAAAANSUhEUgAAABwAAAAcCAIAAAD9b0jDAAAAr0lEQVR4nO1UQRKAIAjUpi/CI/WRdnAyBkGIqUvTnhrTdRcWU/rxQQAAAJjb8vp3KYUyju96IqKrLUGvpNg1Ou1ABKY6Bhep6LELD5LOMmlzZmq7RIxRi45nzyauIqIWF0+MZNLFyTipViw2UZp9NaettTEzzuk0SEVdflz2g7NsYhHyWxMlvFK9S7XW4X1Uti+y5woRHzDE3LiUekC5cuYkck5NvNLSdBYhlrlv4wAduDsmCBnNAQAAAABJRU5ErkJggg==\"/></td><td style=\"padding:1px;\"><img width=\"28\" height=\"28\" style=\"image-rendering:auto; object-fit:cover;\" src=\"data:image/png;base64,iVBORw0KGgoAAAANSUhEUgAAABwAAAAcCAIAAAD9b0jDAAAAqElEQVR4nO2TwQ7DIAxDWdVfNB/pfGR6mBRFbYDAuh2qvRMHMI6TlPI0SKqqqpIcXt5+YCgGgDqG91NOAdi51rruzmMeM4GWjFNfr4isWzN8mj6Ej5iaJKNX/nJ/Bpm+de+Jsnwpzc4YASBJcvqz0OZptZILFjz27q6Koeie/KM1UmEPxxvVUWyJNoXCSk9MbURKd2XOWm3JKL76uv6xxScit+3Yn8dxAO4lFSZOwns+AAAAAElFTkSuQmCC\"/></td><td style=\"padding:1px;\"><img width=\"28\" height=\"28\" style=\"image-rendering:auto; object-fit:cover;\" src=\"data:image/png;base64,iVBORw0KGgoAAAANSUhEUgAAABwAAAAcCAIAAAD9b0jDAAAAv0lEQVR4nO1VyxIDIQjT/mP8SPhI9+B0x/LQ2J46bW7LYAwY2FL++ApUHwIAwAdrDZIpiEjPISIMyePoSgC992NSVTWfJlJKYXgpDI1kEw7K95I/wumLbZQCyM6LiHfeBsOtC3vdYKlJOoo3U7eeCM/7MnlZm8y7jxxVNcnBHHuNeIJsVJzxRvvnzuyvZXbHnJ+KMB1Y884aN2UZ0nCxjok4qilYqSKSuYrcsDGv51qUnP4hZjMBuK3aWmOl/Sou2ybGcesWMDQAAAAASUVORK5CYII=\"/></td><td style=\"padding:1px;\"><img width=\"28\" height=\"28\" style=\"image-rendering:auto; object-fit:cover;\" src=\"data:image/png;base64,iVBORw0KGgoAAAANSUhEUgAAABwAAAAcCAIAAAD9b0jDAAAAmUlEQVR4nO2TSw6AMAhENfGK00PCIXVBJISmWBEXJs6qDc3r8FuWX18VEe1jERGA21AAAVTRea66plPKzfgdSbllUFuZemKBTQCWmOmSw9nmTM7TFsTKCuegI+VrGq9WEu2aI1f30ysrUFx34T4dr55Y5rSf3Epc0KXV3W06zMzMcu4dtdY0eqF4MCdT9k4lR7HZv7bef410AE3KcLm5Feb7AAAAAElFTkSuQmCC\"/></td><td style=\"padding:1px;\"><img width=\"28\" height=\"28\" style=\"image-rendering:auto; object-fit:cover;\" src=\"data:image/png;base64,iVBORw0KGgoAAAANSUhEUgAAABwAAAAcCAIAAAD9b0jDAAAAlklEQVR4nO2UwQrDMAxDxdgvKh+pfKR3EATTraNN3LFDdQ7PwpID3PqlJEUEyUiSRHKSSHLgJHmGx0REpXck+1/ePM5Ce+8AiqGXyDudz+pdB4N6HmHZl/sAoLW2ZG1T0tyweq7XurRZc31LY63FcQ3ve9ClnvoQalQW11XEEdFp4sei5NAnPeZvNBdotUMbVnEst/5FL75O4DPLKkfEAAAAAElFTkSuQmCC\"/></td><td style=\"padding:1px;\"><img width=\"28\" height=\"28\" style=\"image-rendering:auto; object-fit:cover;\" src=\"data:image/png;base64,iVBORw0KGgoAAAANSUhEUgAAABwAAAAcCAIAAAD9b0jDAAAAr0lEQVR4nO2UQQ6FMAgF0XhFOCQcEhdNDIG2iJqY/+MsDbwOFgX4+B+YWVVVFRER8clEy61ERIyJqsrMTzpayq9i5HjdNyY2KWZ2+oVcFxfHLOdal0mDLSs4pgpHblJZON/UJ6HVdTkk7MP1TOcIe4czidLsceca203BBhGJSH74aJy4/LFyiRbuKq2C6xcRIhoKTly6dAVzuj+U9u2nvX78rjgAiMjsKl7m5Lb+MjvdnZSXe80vNQAAAABJRU5ErkJggg==\"/></td><td style=\"padding:1px;\"><img width=\"28\" height=\"28\" style=\"image-rendering:auto; object-fit:cover;\" src=\"data:image/png;base64,iVBORw0KGgoAAAANSUhEUgAAABwAAAAcCAIAAAD9b0jDAAAAYElEQVR4nO2UwQ3AMAgDo+7oJc2Q7iMD1EggUin3RheBIWtdbEhKAlBmBCCJ5GflU/bmcdKIqJT6+bRIE0iS5FSOBrV7d1I6Q2rSMlOLffXFe5rd0Dlplv9IXVp+k8swL0BbJQNMowR7AAAAAElFTkSuQmCC\"/></td><td style=\"padding:1px;\"><img width=\"28\" height=\"28\" style=\"image-rendering:auto; object-fit:cover;\" src=\"data:image/png;base64,iVBORw0KGgoAAAANSUhEUgAAABwAAAAcCAIAAAD9b0jDAAAAnElEQVR4nO2UQQ7AIAgETf+Ij1wf2R5MGqKAQE1P7lnWYUFLOfpfRATgZgJARJ8cb0UAkqaaY1eSd2h8j+9QL96Rx+xEYsQBWF7PZzL7BiY2Y3aJyQ61l4YpNpVfo6L0buysi5SrtWawvwcCmD1Qg1Gc/pr060t/XQyuZaAuUlu1Vtc5P2MgFmf74aBtu+QT0D6kPZvA79jjdZTTAwEGBSkJPJAkAAAAAElFTkSuQmCC\"/></td><td style=\"padding:1px;\"><img width=\"28\" height=\"28\" style=\"image-rendering:auto; object-fit:cover;\" src=\"data:image/png;base64,iVBORw0KGgoAAAANSUhEUgAAABwAAAAcCAIAAAD9b0jDAAAAtUlEQVR4nO2UQQ5DIQhEtekVx0MOh6QLE2P5qPhruvqzMlGeAoMpPfqbSKqqqrZFE8k7RJf1KxfAhFgFYBSeR1CzuG6JSCll+73zDG5WdkJU1clJP31XBpTzMPYVh/YVFJF44EIke/8e46bvuTjJbU07zI1MwbZ6h5mtDUtd1XDGXtZSAGoflsSNrCO/Rrt4dOY9v4Ok6/O95ix/vF4kQ/TIT7p0ktN9ADXAhIlILcXJwX8U1Afr3kT0+BA1tAAAAABJRU5ErkJggg==\"/></td><td style=\"padding:1px;\"><img width=\"28\" height=\"28\" style=\"image-rendering:auto; object-fit:cover;\" src=\"data:image/png;base64,iVBORw0KGgoAAAANSUhEUgAAABwAAAAcCAIAAAD9b0jDAAAAqklEQVR4nO2USwoDIAxEtfSK8ZDjIdNFINj4aaJuSvsWEkGHfEZT+vNDEBEAZpbt81xOVgliN4mImZlZMgIggQGAS3F4eQgAV75ORVN+Xotq7w211jZutyu0ieHqZtM3/c45E5E3nRk7A13TFx714MNzSL0ZdnivMjPjvq4+55590UXuHw+7epre3X5N9D5t7Xdsa8Z15KqhonP0sZ6WUk5FpVKde+CL+xpe0E4/AW6i8DIAAAAASUVORK5CYII=\"/></td><td style=\"padding:1px;\"><img width=\"28\" height=\"28\" style=\"image-rendering:auto; object-fit:cover;\" src=\"data:image/png;base64,iVBORw0KGgoAAAANSUhEUgAAABwAAAAcCAIAAAD9b0jDAAAAoklEQVR4nO2UQQ7AIAgEadMv4iPxkfZASkgDKpZLE+fUGN2uuACw+THNh4gQsX/8MFfxAQBqrXqdP0opev0riEhE7HpoOUZf9FwT5bunOc28Pp8XOY6Bt/kayrXWog4GNU1+X0aXT36QUFOzdiy67NWmL7qSU12HNFEhs/2HOQ0jTx9z4QVFGnRmpL5FXxlkLd2g4XjqeWGO/ZicJ617aTPDDQn/2kIyHmQhAAAAAElFTkSuQmCC\"/></td><td style=\"padding:1px;\"><img width=\"28\" height=\"28\" style=\"image-rendering:auto; object-fit:cover;\" src=\"data:image/png;base64,iVBORw0KGgoAAAANSUhEUgAAABwAAAAcCAIAAAD9b0jDAAAAn0lEQVR4nO2USw4EIQhEnUlfUQ5ZHLJmQUIc+2NDWPSia2GIMc8ChdZePVYAyli9dwAkSZYROcj3tyjFA49NIpIx5WnuNRX0c83y05MvVbXVgpi7a0cZHeY7WU7qsJo16P0Fldw2lOWM+01Aly+egVa2uROX3yvQpiRVNfY+VvizRkx+qZu4WF8tbQK4ifsbKJbUON9UVUQAZCbbq6frB/loJhLeOWOfAAAAAElFTkSuQmCC\"/></td><td style=\"padding:1px;\"><img width=\"28\" height=\"28\" style=\"image-rendering:auto; object-fit:cover;\" src=\"data:image/png;base64,iVBORw0KGgoAAAANSUhEUgAAABwAAAAcCAIAAAD9b0jDAAAAoklEQVR4nO2UwRLCMAhEqeMvLh8JH7keYp1MaxrC4EXdQ6YHeEDYVOSntcVDAQBwdxFpZ4HMjCRJANeRtwT9I9AyAeCu+k5Vdbql6PZJPhO2eUqoUzNrH6oaiZ9Dmz2l0JtL+4lqZHgArzvJt3kuk5zgkNbXSEIPg4+IC5fQI8zsPHJm8BElSLwvlNqt6u7Xnl2AunvwRb2H9o0U/+r/+nY9AMly81JfRxyGAAAAAElFTkSuQmCC\"/></td></tr></table>"
            ]
          },
          "metadata": {}
        },
        {
          "output_type": "stream",
          "name": "stdout",
          "text": [
            "Generated sample images (min/max): 0/3\n"
          ]
        },
        {
          "output_type": "display_data",
          "data": {
            "text/plain": [
              "Epoch 4/5:   0%|          | 0/1875 [00:00<?, ? batches/s]"
            ],
            "application/vnd.jupyter.widget-view+json": {
              "version_major": 2,
              "version_minor": 0,
              "model_id": "39fbcbfa4e7e4e94aa98e0900d9657d7"
            }
          },
          "metadata": {}
        },
        {
          "output_type": "stream",
          "name": "stdout",
          "text": [
            "mean train: {'loss': 0.18582893050018143}\n",
            "mean train: {'loss': 0.1876825066461955}\n",
            "mean train: {'loss': 0.1881301712499906}\n",
            "mean train: {'loss': 0.18874692371308477}\n",
            "mean train: {'loss': 0.1865629378475269}\n",
            "epoch=4 test {'loss': 0.1775970133021474}\n"
          ]
        },
        {
          "output_type": "display_data",
          "data": {
            "text/plain": [
              "<IPython.core.display.HTML object>"
            ],
            "text/html": [
              "<table class=\"show_images\" style=\"border-spacing:0px;\"><tr><td style=\"padding:1px;\"><img width=\"28\" height=\"28\" style=\"image-rendering:auto; object-fit:cover;\" src=\"data:image/png;base64,iVBORw0KGgoAAAANSUhEUgAAABwAAAAcCAIAAAD9b0jDAAAAr0lEQVR4nO2UQQ4DIQhFsekV4ZBwSLogIcQqFcOii3mrycz4+IoK8JCCiMysqqqKiCdD3vlnZj4UHYGIuuKkxjppc8Ako3NTMnFV12GbNOaavLWwCdG7C/uqSkVEROy5uZmet80YF70zbGxjjzHZHsYo6SzXbspj7G12LflgDPw8aWaYz74b2zo7HZgLzFPe/AAgIkQ0AkRkLxd/f6+aZ7cWX16JNsyIxS4m9PD3fAAheWjbahL70wAAAABJRU5ErkJggg==\"/></td><td style=\"padding:1px;\"><img width=\"28\" height=\"28\" style=\"image-rendering:auto; object-fit:cover;\" src=\"data:image/png;base64,iVBORw0KGgoAAAANSUhEUgAAABwAAAAcCAIAAAD9b0jDAAAAuUlEQVR4nO2UQQ4DIQhFadMrwiHhkO3C9NcoAprZNJm3cjL4v4BCdPMXPCpBzNwWZnaNqKpCtAcGIlJx+vH2UNXh03VdnnG1k7/g78kxV2fZ00V0oDjY4/MZiLZFseM9S1FgZge6Psg9jUQ/q3GV8s/2SfrpxYZrXqJi0/uLnCi20DTxoESvxMEDz4mIzGwu0bZo/15dxUiUmee8+iqLyN79dYdTZRREDMNtd9BFQ7ptRkPoaA7cXMMHXwEZO4q1oW8AAAAASUVORK5CYII=\"/></td><td style=\"padding:1px;\"><img width=\"28\" height=\"28\" style=\"image-rendering:auto; object-fit:cover;\" src=\"data:image/png;base64,iVBORw0KGgoAAAANSUhEUgAAABwAAAAcCAIAAAD9b0jDAAAArklEQVR4nO2Uyw7EIAhFZTK/iB95+UhmQUKMdsDXsmfVGnuCF2wpLy8ZzKyqqsrMl40GgHj/Z1K6VEQuBWBSIqq1LtmfGaOcOX7C2Jxr0m4ljTjK1CoSkXZRRI6mCsB4Ukt532vft68AfFoD73emXpfagyXAzF0yC9LWZZRSuu6tYQn4/DuPcZ8ST+vU3e84mtNY+q9Lm1IjkO6QXv/lSu833f+E8badTIloq6QzfjZ6lqbZS+4KAAAAAElFTkSuQmCC\"/></td><td style=\"padding:1px;\"><img width=\"28\" height=\"28\" style=\"image-rendering:auto; object-fit:cover;\" src=\"data:image/png;base64,iVBORw0KGgoAAAANSUhEUgAAABwAAAAcCAIAAAD9b0jDAAAAqElEQVR4nO2UwQ7EIAhE2Y8cPxI+cnogJaauNXXn0mTnZEJ4gDKavUWf+zCAPESEpiAAkiTdXUM0M3fnqWpZQ9TgUnpiP7i7a9AcJOCSNDMA+rdK1WL1XABZcv9yKtNPyS6nx1WZnwxSxDG5uM+Iy3aynpK4A82E2VNsunnWY7/FghUWm+KCm23+3c/fJ6SF+mhEtNYWXVzqj39KRZ/t+VcLLof967U6ADEhS84pAzKMAAAAAElFTkSuQmCC\"/></td><td style=\"padding:1px;\"><img width=\"28\" height=\"28\" style=\"image-rendering:auto; object-fit:cover;\" src=\"data:image/png;base64,iVBORw0KGgoAAAANSUhEUgAAABwAAAAcCAIAAAD9b0jDAAAAnElEQVR4nO2TQQ7EMAgDyWq/6DwSP9I9oPZQpaSsqh5W8TGIwTGJ2dLLAiDJ3Utdn0cGA3ge6u4n7qRBUtIwzGfidDo/cCTv2jQzSZISYnmN0XMFjWohStvDyonVp5bZ/JFo17fLMwmVtx8n+bq/OdT2R1PSBDpcLkmSRwlA7/3WtPh5EZ+7H1GeFKWCU5KttaF3ABFr7S8tLf27NgMvnZLt5cpAAAAAAElFTkSuQmCC\"/></td><td style=\"padding:1px;\"><img width=\"28\" height=\"28\" style=\"image-rendering:auto; object-fit:cover;\" src=\"data:image/png;base64,iVBORw0KGgoAAAANSUhEUgAAABwAAAAcCAIAAAD9b0jDAAAAuklEQVR4nO2USw7DQAhDZ6pekUuaQ7oLJEQzygRSFpVaL6J8lBcMJmP89W0SERFpoMRzkiQbuCYADALgj573iCQ3Tx95kIgAsALjfVX1o2lmWONqIHNec96I3Cq2MlWp+fVLt2klr65T8vkC6AlNTEz13VP7kaWq5trNll1bK/fDKXdjT8z05LhRax6j5Zu/j1jmIYMxszV0jNHZx8p5WFdobXGNaGqeu2ktzVgfLZV3oG07I7oT90t6ASLtWOqxpuxYAAAAAElFTkSuQmCC\"/></td><td style=\"padding:1px;\"><img width=\"28\" height=\"28\" style=\"image-rendering:auto; object-fit:cover;\" src=\"data:image/png;base64,iVBORw0KGgoAAAANSUhEUgAAABwAAAAcCAIAAAD9b0jDAAAApklEQVR4nO2USw6DMAxETcUVk0POHNIsrFom/BJqtYsyqwDKy9ieIPLo5yqlAFBVVU0j6lsAEnBOvMS9hrgiQrLW+pFBWTfRuAnEtA66Mg2azGamR/myTYsXgDvnRaiDdK0xdHS6y2oe4975BGqL6MViT9LeS7gRvbVHbWt0s73xiJlv9jSdHQicQ92gsSJuePSxtO1MLnHT0YfmH0zSptE7k0f/qgVhehAeV5dgdwAAAABJRU5ErkJggg==\"/></td><td style=\"padding:1px;\"><img width=\"28\" height=\"28\" style=\"image-rendering:auto; object-fit:cover;\" src=\"data:image/png;base64,iVBORw0KGgoAAAANSUhEUgAAABwAAAAcCAIAAAD9b0jDAAAAtklEQVR4nO2UwQ6EIAxE1X+cfuT0I9kDkSUFutTAyZ2D0QLPYWg4jr/eqzM0G0B+qqqq/oYCACAieaWpd1aeQ0PfgZRSyLUDvcqbiISg3v/MN8l6s3VwJgTHaUAASKZb3aAfqkBJLoPWZkdzwrnUrFGsV7c60mSOQ2g+FlMxjRGItZwyyTrBVrNQAA5lEmq371wTztCs32yZt0qaZivLutUEvQback2rxfp0u7aHsPJyydoCbfUBsSnyQa3SN4kAAAAASUVORK5CYII=\"/></td><td style=\"padding:1px;\"><img width=\"28\" height=\"28\" style=\"image-rendering:auto; object-fit:cover;\" src=\"data:image/png;base64,iVBORw0KGgoAAAANSUhEUgAAABwAAAAcCAIAAAD9b0jDAAAAo0lEQVR4nO2USw7DMAhE46pXHB9yOCRZIKEodopx3C6ivlUWDBl+3ranAUBVVZVkGPz6gaE+btMI44ecAvDvWuuapI6IiEhK0ic1olFIDrbSCcr3bq6p2jCb2cI/OQVwnPsafDGzqd9hRLtGx3/ket3dJN+EySVzvSkBnDKOX+3Z5git/Cuv1K2kIlJKSQjCDsw8BVdjMeaPos1LkuT6M/vzIHaYyAY29CcLgwAAAABJRU5ErkJggg==\"/></td><td style=\"padding:1px;\"><img width=\"28\" height=\"28\" style=\"image-rendering:auto; object-fit:cover;\" src=\"data:image/png;base64,iVBORw0KGgoAAAANSUhEUgAAABwAAAAcCAIAAAD9b0jDAAAAx0lEQVR4nO1VQQ7EIAgsm34RHgmP7B5IiIuo6LrZHjona3SYYWg8jgf/AjMj4jYuZr4+sciOiFcbzLyirsO4IjbUhYiu0pzMjtO8/bP8cKeJSER0/VX04eXS+0pKYZnZbsLwhCMSEeuJ7UxodK47YzvR8Qxj2JazxeiwZwxMQoelzLDcf7VOqzoAyORARFmZQ6etyY2VKvqkxlVbyQZVVtJi1qKaNB5+Gz0AML21TYD4+kBp+F+qtFQ4Dm7g9V3Z9kzdBr9w9AZTBWzr7Jmd0gAAAABJRU5ErkJggg==\"/></td><td style=\"padding:1px;\"><img width=\"28\" height=\"28\" style=\"image-rendering:auto; object-fit:cover;\" src=\"data:image/png;base64,iVBORw0KGgoAAAANSUhEUgAAABwAAAAcCAIAAAD9b0jDAAAAvElEQVR4nO2UQQ7DIAwETZUvmkeuH9kcULYuiYIxPbRS9xRFYZiwgMg/P5ES/1RV+Wxm+TlVFQCA53sAJE31iFejbykTf/kKBb0XX2aIHO+JqtqIfn3n0o0n8X5BRWSL0Bu3scys1prUpGm8dGbQYFdIsPFH5CM/R1B2QDknX30HFdf+0Df0+61uO7KkeXl4Irt1bNqpRWTn2g/mDtqMEl2HTD0XQHcZToed8Pgv3Xt0PG/+JeIl9wPEL8oO4M30TNaKv8oAAAAASUVORK5CYII=\"/></td><td style=\"padding:1px;\"><img width=\"28\" height=\"28\" style=\"image-rendering:auto; object-fit:cover;\" src=\"data:image/png;base64,iVBORw0KGgoAAAANSUhEUgAAABwAAAAcCAIAAAD9b0jDAAAAfElEQVR4nO2UUQrAMAhDZXfMJe0hsw/Br9Fpl0Fhy3f7MCZo9msHASDp7kooSZIAZMQYk+TkzbGGHmOsfbyWu8/HbKvi3br2leEkUZ97ECv1rNpPljJ3vfGokbhJ9W1WpR8zia1tVtOXhZ5t33ub9kY37cGVuwlKfIy/oROMXX+Xxm2IYQAAAABJRU5ErkJggg==\"/></td><td style=\"padding:1px;\"><img width=\"28\" height=\"28\" style=\"image-rendering:auto; object-fit:cover;\" src=\"data:image/png;base64,iVBORw0KGgoAAAANSUhEUgAAABwAAAAcCAIAAAD9b0jDAAAApklEQVR4nO2UQQ7EIAwDy6pfxI80j2QPkaIoi2hgc+BQn1AbBuMA1/Xq1ZNqrZkskiR77yRziP1Hf1lWohoUv/vcCVG/L6dhNyuxWpwdR107m8M0bdwhyzJhQlSpa8e9h1Adl1ImywOIJmC3H5kQTWDp9EixrfwM6wAAaK0t9Dco24cJeuEMOK6eWfd381kQkLtR7nblPAiqfZaV+Eru3pFKi+xcfQGx5S/0wmIdfQAAAABJRU5ErkJggg==\"/></td><td style=\"padding:1px;\"><img width=\"28\" height=\"28\" style=\"image-rendering:auto; object-fit:cover;\" src=\"data:image/png;base64,iVBORw0KGgoAAAANSUhEUgAAABwAAAAcCAIAAAD9b0jDAAAAdElEQVR4nO2UUQrAMAhDZXeMh6yHzD4KgzFY43CUQt+3PNJINdvMhWRrbTh26EYAZhYR30M9IUlSmUwk1VlL2jfwjrL0m1RfqDi5VqdDACi956QX9Z1GRKU09fap0uxlSnTq7pXSnjRbwhgA4jG1n37Upp4TO8kpFRBgjnEAAAAASUVORK5CYII=\"/></td><td style=\"padding:1px;\"><img width=\"28\" height=\"28\" style=\"image-rendering:auto; object-fit:cover;\" src=\"data:image/png;base64,iVBORw0KGgoAAAANSUhEUgAAABwAAAAcCAIAAAD9b0jDAAAAm0lEQVR4nO1UWw6AIAwzxiv2kuOQ84NIlvJ088NE+4VIa9dNtu3HGwAAwJOKIqKqqioiUS0ARa4g5LeWG5vdVzw6Xk0Ura/8aI2HFC3f7nvMNskUsdMpNYQy6ZLXFamCGwlMU6O46czRJNT12kX9mbyTUura7I36AKQwH34HGuWvI9dbV+0RTRfu0ai5Zbai1x21K//4IcUf38AJRlI1+yWJ+MkAAAAASUVORK5CYII=\"/></td><td style=\"padding:1px;\"><img width=\"28\" height=\"28\" style=\"image-rendering:auto; object-fit:cover;\" src=\"data:image/png;base64,iVBORw0KGgoAAAANSUhEUgAAABwAAAAcCAIAAAD9b0jDAAAAoElEQVR4nO2USw7DIAxEadQrDoccHzJdWIksQ/hYNIsoswKEnwcwTunV/SK5GwEAEAEBIOlwViTj1hStORx3wq8NLsNcviEigHbAuaEN3aqrItJ1kHMectqVPf4aoj17sKqqijzUE7n/ul/LXQZN5h6WERtO6z9qEKqD8mt9A6xuS/24+VkiIlJGuhU51Ddy1Zid5ir0iqtvrT17AvdqiX6cBj3vGaYzyAAAAABJRU5ErkJggg==\"/></td><td style=\"padding:1px;\"><img width=\"28\" height=\"28\" style=\"image-rendering:auto; object-fit:cover;\" src=\"data:image/png;base64,iVBORw0KGgoAAAANSUhEUgAAABwAAAAcCAIAAAD9b0jDAAAAc0lEQVR4nO2VQQ7AIAgEpX/kk/jI9WDKsS4JhCbtnDzgKGyMY/w0YmYAkqUAAJjZsfJKPjkkVdW9mHPmSxlKpELWee4i5y2tQTH5OH3th1JipQ45hL6gQimx0igl0he8qOhwn1BV3DD1JTNl2R8Uf9kvswBW5Tj/2jC0LAAAAABJRU5ErkJggg==\"/></td><td style=\"padding:1px;\"><img width=\"28\" height=\"28\" style=\"image-rendering:auto; object-fit:cover;\" src=\"data:image/png;base64,iVBORw0KGgoAAAANSUhEUgAAABwAAAAcCAIAAAD9b0jDAAAApUlEQVR4nO2UwQrEIAxEZekvxo+cfGT2IDuESjXaLPTQOYmQR2YSLeXVq4AAmJmZiUgO0X4CwMsr+idCZLGq1lrb2dNvtcmbFsU+t49SRG6Fy3o2BWDa5jFtk2dvf6zRoLy7tDUqLtDmujj7m8QW6Ck7pjwoPNvvLavqZlNxRTY09KIoEYlMbA1K8bEmQIMpL0CD3tfEnc2EJv/Q/beSQPyL8UfoC0L3qHlsJJHTAAAAAElFTkSuQmCC\"/></td><td style=\"padding:1px;\"><img width=\"28\" height=\"28\" style=\"image-rendering:auto; object-fit:cover;\" src=\"data:image/png;base64,iVBORw0KGgoAAAANSUhEUgAAABwAAAAcCAIAAAD9b0jDAAAAn0lEQVR4nO2UQQ7AIAgES9Mv8snlkfRASq01xCoHD52DMdGsK6ts28+yAPD5kSuXADPrxZRTZrbRJrOmAADQFiMVeGvZAYNmzaALJVy5NJgWsYf7VXEP1obdUbCmqvc+inZWRE6JSERExA5ISKnEE0vW9WfQoxtdv8SK0MlD1P91U9R0e5zWDQWAm/KuMVXKZrOYbRz2hZrtIzn3nyU4AQwv0Vxk86X7AAAAAElFTkSuQmCC\"/></td><td style=\"padding:1px;\"><img width=\"28\" height=\"28\" style=\"image-rendering:auto; object-fit:cover;\" src=\"data:image/png;base64,iVBORw0KGgoAAAANSUhEUgAAABwAAAAcCAIAAAD9b0jDAAAAr0lEQVR4nO2UQQ7DIAwEl6pfxI+0H0kPVhANSVkTpB6SPSGEx9hrAG6tRJ4rpQAwMzPzxYLkqlo25ZwXEHfc4ckXD+VLDkC96jXdrMR/NpRVvSYJjc0pgJTGIZRR0T4G3HcxdoWhrquD1T7QkF1jVjsAk9AWoar9/u/w9xkUgIjgu33kGBwY5VcTkfp7YuuG5/BkMXl8X7WqtpuT3GnTj+e0H0MzYx4opZUf3aMr+gA1k8l+/crZDwAAAABJRU5ErkJggg==\"/></td></tr></table>"
            ]
          },
          "metadata": {}
        },
        {
          "output_type": "stream",
          "name": "stdout",
          "text": [
            "Generated sample images (min/max): 0/3\n"
          ]
        },
        {
          "output_type": "display_data",
          "data": {
            "text/plain": [
              "Epoch 5/5:   0%|          | 0/1875 [00:00<?, ? batches/s]"
            ],
            "application/vnd.jupyter.widget-view+json": {
              "version_major": 2,
              "version_minor": 0,
              "model_id": "c9a549f9d98b4664b8d3c67395c8bb5a"
            }
          },
          "metadata": {}
        },
        {
          "output_type": "stream",
          "name": "stdout",
          "text": [
            "mean train: {'loss': 0.18887059558084401}\n",
            "mean train: {'loss': 0.1839341744000375}\n",
            "mean train: {'loss': 0.1829035377069827}\n",
            "mean train: {'loss': 0.18409946641406497}\n",
            "mean train: {'loss': 0.1847560100433742}\n",
            "epoch=4 test {'loss': 0.1791500011458993}\n"
          ]
        },
        {
          "output_type": "display_data",
          "data": {
            "text/plain": [
              "<IPython.core.display.HTML object>"
            ],
            "text/html": [
              "<table class=\"show_images\" style=\"border-spacing:0px;\"><tr><td style=\"padding:1px;\"><img width=\"28\" height=\"28\" style=\"image-rendering:auto; object-fit:cover;\" src=\"data:image/png;base64,iVBORw0KGgoAAAANSUhEUgAAABwAAAAcCAIAAAD9b0jDAAAAuUlEQVR4nO2UQRaDMAhEY1+vODkkHJIueKaRAjGpCxf+lUqY4CRQykMKACISEREBcCblnYeJ6KRQz5bERMSu3rL1jVcUcAtcK/yLxKxLu1r967QuADe/1yWilWJdet2o2PCgIpi5Pf91aIZhL0xXWo7FXiY65B6iAHorXVudXtY0NU5zmolG0WpFk8Fc+yn8/UwjJtCOKzeYpy7MXGtNFhxckH2AMnPvqVqsX4aX1KJ/9GvNle34cCM+4MgcMXPlmAcAAAAASUVORK5CYII=\"/></td><td style=\"padding:1px;\"><img width=\"28\" height=\"28\" style=\"image-rendering:auto; object-fit:cover;\" src=\"data:image/png;base64,iVBORw0KGgoAAAANSUhEUgAAABwAAAAcCAIAAAD9b0jDAAAAl0lEQVR4nO2VXQ7DIAyDs93ROaQ55PYQKaoEowbBpqn1U4TaL+bPmN36Cz2UjwBEUUpZAwVAsh4/NohabGkkX5WagzkbiUhS/UHRmIWDnsssiBperx9zc693cVdCzQzAFr/2haXocIfPqbuf3vH5w7/Saarjtw3NvY40aZpSg66Gfkq8ZsKq6Ejo0fSUnpNsELW7T9q8ht67z89ZBTC+UwAAAABJRU5ErkJggg==\"/></td><td style=\"padding:1px;\"><img width=\"28\" height=\"28\" style=\"image-rendering:auto; object-fit:cover;\" src=\"data:image/png;base64,iVBORw0KGgoAAAANSUhEUgAAABwAAAAcCAIAAAD9b0jDAAAAoElEQVR4nO1UQQ6AIAyb/nE8sjxyHmamgpFlLPGgPQGBUroyoh/vgpmTGUVERDw7VyejadQBMwOIiTsY5QoAU1Y0jEo3a26aul5mWt3zGYkIgD9GZ4wjVWvNJ9VIpuWpj+cZU0YDaKSFvR7f9EDq/fsNtHrJTev5+QOlt1p0MRC1/fBtldXQ4NstUja1us/2vSb5niQtHmpr8qWUuMDPYAN2x9RDIpEd+wAAAABJRU5ErkJggg==\"/></td><td style=\"padding:1px;\"><img width=\"28\" height=\"28\" style=\"image-rendering:auto; object-fit:cover;\" src=\"data:image/png;base64,iVBORw0KGgoAAAANSUhEUgAAABwAAAAcCAIAAAD9b0jDAAAAjklEQVR4nO2UMQ6AMAwDDX/0J8Mjw1CBDAUJiAULHiqxXExjF/j1giLCT8zMzIwIkh5obvWMO+hHQ+gJYFpUNgyQrFs+1XrL7aJtaySpaJ3hGdDM+rnovNu4kGWa+7L61XiMRehhfqtQc351Vx609q1K3CXp+UtG8rBRV2Ok8/tSav1vGOz/ThHmRf/6XjNhPPwVww9SCQAAAABJRU5ErkJggg==\"/></td><td style=\"padding:1px;\"><img width=\"28\" height=\"28\" style=\"image-rendering:auto; object-fit:cover;\" src=\"data:image/png;base64,iVBORw0KGgoAAAANSUhEUgAAABwAAAAcCAIAAAD9b0jDAAAAo0lEQVR4nO2TwQ6EMAhE2Y2/OHwkfCQeiI2hLaIxe9h0jgqPYVCipd8IgIi8DBURMwNQN1EqMjMRqVS7g9LwolkfHyq/pQlzokevqmfo9gqRmc+vpk5V9RJKRMwciBk0l9+QmS9nx7bkUP5tzHqfOHVcv3UV2jttiydd4+sDaLiwpj8HcC9NOgItqgpt/6jT5VBPHJ7rk5gdBhdSvh3C0tJfawc3zqyOJclsvgAAAABJRU5ErkJggg==\"/></td><td style=\"padding:1px;\"><img width=\"28\" height=\"28\" style=\"image-rendering:auto; object-fit:cover;\" src=\"data:image/png;base64,iVBORw0KGgoAAAANSUhEUgAAABwAAAAcCAIAAAD9b0jDAAAAs0lEQVR4nO2UwQ7DIAxDvam/CB+ZfGR2iBRlJQSy9dBDfagqAQ/jmgKP7iMiEhERGYeOKqu1pk99CVWGAiCifMK7SjwZZOYq4YyzHE0X41RhFOtMlfi7o5DoTVmgZjzpwJo4rk96OpUPMbSTmJ1Wyqb23v/tDb5PPYvMz9mC2rmSj77cNbaQeNzZNbaZ42plmlnwuPJd8CsVdLqg5bZjKLzXvsFXyLU/MQBm1p5e0NZH99IH/0gsBjVyGCQAAAAASUVORK5CYII=\"/></td><td style=\"padding:1px;\"><img width=\"28\" height=\"28\" style=\"image-rendering:auto; object-fit:cover;\" src=\"data:image/png;base64,iVBORw0KGgoAAAANSUhEUgAAABwAAAAcCAIAAAD9b0jDAAAAmUlEQVR4nO2UzQqAMAyDq/iK2UNmD6mHQSjzd1tPag4ik36kWavZpzV11ADw7ymlURcASK5OJMthP7FiBXgUbpQlla4jibIZRjSz+MZbbc4PoWYWMI+eGJzmIRFA/4RWo66n1Iz2xL1Eb+NWprSXolxwT/9SyrFces65qdEDDa75cv1ZBkXvn1blRdKH+7D8PlP5jdyoX+/VBrK/6zZ2zY97AAAAAElFTkSuQmCC\"/></td><td style=\"padding:1px;\"><img width=\"28\" height=\"28\" style=\"image-rendering:auto; object-fit:cover;\" src=\"data:image/png;base64,iVBORw0KGgoAAAANSUhEUgAAABwAAAAcCAIAAAD9b0jDAAAAvElEQVR4nO2VQQ5DIQhEtXfkknDI3wUtmSp/xMRFm3SWig8Q0Nb++hKJyGGcql5vleiqSuxE5AKpaonITZG4cQN+gLisBNhnaGut93E9tu52UY90laRmZpyYsEj6UfdSfVD8DDYTgXyk71mTBM0sdgk3gRKhP+I7L1SRu4aKCEbqZUFTX9mr0jCCFZW4HsgdIsKsj1biYLiQOa1t6FIk2MUUc+gLMT0F2y0Vwik49hFgt5whurwNDv9Xv68nzpwMMjTRdr0AAAAASUVORK5CYII=\"/></td><td style=\"padding:1px;\"><img width=\"28\" height=\"28\" style=\"image-rendering:auto; object-fit:cover;\" src=\"data:image/png;base64,iVBORw0KGgoAAAANSUhEUgAAABwAAAAcCAIAAAD9b0jDAAAAoklEQVR4nO2UQQ7EIAwDoX/0J5NHZg9oIwTsxoGeqvpEJctyJ4FSniYAZmZmIhKaLz70rNUq0b5i/FRTr6mqjL8yJi9YK+WPm2ZrUhIRnial1CaxajWzif+YAthbzyC0He4c0S+aDfQOZR9RTwCAL8NO7nJENmkJfc3UR9TT5HslXqm5lKomZuhAh8/wxwPNKaeJpbvyg07v65B7/+P/6on6ALBW5T988gqqAAAAAElFTkSuQmCC\"/></td><td style=\"padding:1px;\"><img width=\"28\" height=\"28\" style=\"image-rendering:auto; object-fit:cover;\" src=\"data:image/png;base64,iVBORw0KGgoAAAANSUhEUgAAABwAAAAcCAIAAAD9b0jDAAAAxElEQVR4nO1VQQ7EIAjUzX4RHzk+snsgSwgGBeulm51DUy2MAwIt5Y9HoJo1EfGTiHrvvMkvskwDwOUAAIAdpeLWWjPCxYY/7QvXICIdxwFGgc7GXS4j8wCvodM7AHS6ExoNozlpR68O1oiS8xJiddSenDRp+dbp3GCssNfcJ1jhxmxBugSHEjrb9OXELNFdwULx7tANfxmRcI2W79E6cuOSn1rtnHN9uPQ0O/e+7q50d05GdaTfXfGcMnGWP8qZ2fzT+ADdNx4rmoLU5QAAAABJRU5ErkJggg==\"/></td><td style=\"padding:1px;\"><img width=\"28\" height=\"28\" style=\"image-rendering:auto; object-fit:cover;\" src=\"data:image/png;base64,iVBORw0KGgoAAAANSUhEUgAAABwAAAAcCAIAAAD9b0jDAAAAoElEQVR4nO2UwQ7DIAxDy9Rf9E/aH9keLCEUNNiyHHboOyDUgmOSKMfxUE1b/yYpCYAkf+mbJCSvCZIAkooARqEQIO8UQPDVI5HM687YcqVod5pP6zvFGpsAKhVdq7ENPrl1bhV/9RWYO7/g+eHhlWkNDeRI65Za5dS0thk6M6+vTru3tsc2TruEN14l5QfgOKjKqp9WXBXBGSyb+Q9/xw04W+hAUz+G9wAAAABJRU5ErkJggg==\"/></td><td style=\"padding:1px;\"><img width=\"28\" height=\"28\" style=\"image-rendering:auto; object-fit:cover;\" src=\"data:image/png;base64,iVBORw0KGgoAAAANSUhEUgAAABwAAAAcCAIAAAD9b0jDAAAAXUlEQVR4nO2TwQ3AMAwCre7IknhI+sgAwRJVHs29rZNlQ9XlOCS3M0/cOJZWVXcnpSQBOJPjTa80L3W+P0DSVzn9s9T8kitdBQ3XdJSk0zcNx34BQJJ51gFmoy55XuoLHxFgPj5iAAAAAElFTkSuQmCC\"/></td><td style=\"padding:1px;\"><img width=\"28\" height=\"28\" style=\"image-rendering:auto; object-fit:cover;\" src=\"data:image/png;base64,iVBORw0KGgoAAAANSUhEUgAAABwAAAAcCAIAAAD9b0jDAAAAi0lEQVR4nO2UUQrAMAhDy+7oJdNDug9BxG51zsIYNJ+ij7QGW9vaikREK1kAADAzgDVEHlSyfEmsouXJIgBEJF9hi++hzpRD5yzPl2PRCcsyExrJBUNchG2yTwc9wpl5Q+99LAbQ8F25RWlOJ2Pak+Da/SpaA3uXuUd+bSqdqtfAnhXnfetr5QL4S53fAfQT9fEkSgAAAABJRU5ErkJggg==\"/></td><td style=\"padding:1px;\"><img width=\"28\" height=\"28\" style=\"image-rendering:auto; object-fit:cover;\" src=\"data:image/png;base64,iVBORw0KGgoAAAANSUhEUgAAABwAAAAcCAIAAAD9b0jDAAAAUUlEQVR4nO2U2wkAMAgDQ3d0ybhkPzpAIygieN9yxAcCSy9mppSdkDFfqhNLOkSq0y1193ypzi5KZc6iUPGlIE+gO+mLqXjD7ZP8ektOasnnApTLGCGupCdfAAAAAElFTkSuQmCC\"/></td><td style=\"padding:1px;\"><img width=\"28\" height=\"28\" style=\"image-rendering:auto; object-fit:cover;\" src=\"data:image/png;base64,iVBORw0KGgoAAAANSUhEUgAAABwAAAAcCAIAAAD9b0jDAAAAsUlEQVR4nO1TQQ7DIAyD/dE8Mn4kPURCaUMJZeyyzSdkgrEhSemP30W+2xARALom2XglSymWjAGgTmC/Yq215fA4xbeRNaM/ICJtTbJbc+txYERExmUvT5HMOU/+gzU+En2EIH5KKQyusPG79R2nY1EA4a2n3wfQ3kjb+3LeK8YNkFy0bSPwSDeOf5H2JEmSVmsq/gxslG19GlpbbP7xvH1EdB3tZf3W+uxrJ7zh6mtxAOCHKjzwrl8SAAAAAElFTkSuQmCC\"/></td><td style=\"padding:1px;\"><img width=\"28\" height=\"28\" style=\"image-rendering:auto; object-fit:cover;\" src=\"data:image/png;base64,iVBORw0KGgoAAAANSUhEUgAAABwAAAAcCAIAAAD9b0jDAAAApklEQVR4nO2USw6EMAxDzWiumB7SOeSwiIiqIeFTwgreqhTVcUow8GimgTMkfS0iAFS1teab3yMSdrIGkr8Eq0QyLBm3bwcAqKqq2gJLs/54DrNT2fV1xU/2otImFqcZg8VEZP2t/3SLh8wL9L9AAd5KpajrFpvFHbOM+y4hM5sO/y4bjY+L1uMXGg5AEH0eeplcH4B94O9b2GBkPD3Sw7Q/LfdSwgy57wA3k89JjAAAAABJRU5ErkJggg==\"/></td><td style=\"padding:1px;\"><img width=\"28\" height=\"28\" style=\"image-rendering:auto; object-fit:cover;\" src=\"data:image/png;base64,iVBORw0KGgoAAAANSUhEUgAAABwAAAAcCAIAAAD9b0jDAAAAX0lEQVR4nO2VQQoAIAgEoz/uJ/WR28EHpKBY0ZxlTBdsjE8jIkIyWUqSJIBt5UzuHJJ6HhiWGqqaL3V6W3dqJI9fGNQN0pLxLSKn+r2dlgDATp+n+ICD0pl+gJI/6kUWOyQnC8rjhx0AAAAASUVORK5CYII=\"/></td><td style=\"padding:1px;\"><img width=\"28\" height=\"28\" style=\"image-rendering:auto; object-fit:cover;\" src=\"data:image/png;base64,iVBORw0KGgoAAAANSUhEUgAAABwAAAAcCAIAAAD9b0jDAAAAkUlEQVR4nO2UwQrDMAxDxf5R+Uj7I7WDWA8dS5tNY1CmW0J42JZi4OIiWVVJoiRJkwe3VSJJAN39flHPcplGZ1RVYSLJMBGApJOOnzXKuKQ/P258gTiP+rK+0riDubs5HMXMfZIkd477GP773T3GwCNky9BXqfx0p3imW1Feo4GEOVL2J7miNlw+sOG0/nVR3QFg6oSewH4PgQAAAABJRU5ErkJggg==\"/></td><td style=\"padding:1px;\"><img width=\"28\" height=\"28\" style=\"image-rendering:auto; object-fit:cover;\" src=\"data:image/png;base64,iVBORw0KGgoAAAANSUhEUgAAABwAAAAcCAIAAAD9b0jDAAAAmklEQVR4nO2UwQrDQAhEp6W/qB85fqQ9CFIa6nbF0B7yDoFsdFYnInBxcTYi4u4kRUREjl8jIDgGAHgU0pFgZmYWJ/lsVvoNny641epvpakqAHePDuJ1gOyjiLk3RAGEy2PUbnYguex9j3ST5JjocpL6opNlnujmLxtfD39qjQ18WvnfY/S6A7cSK0+zut0Vt/5Rqjq5k9o+PgF0A8FqIeqLJwAAAABJRU5ErkJggg==\"/></td><td style=\"padding:1px;\"><img width=\"28\" height=\"28\" style=\"image-rendering:auto; object-fit:cover;\" src=\"data:image/png;base64,iVBORw0KGgoAAAANSUhEUgAAABwAAAAcCAIAAAD9b0jDAAAAbklEQVR4nO2UOwrAMAxDQ++oS1qHdIeA6SiBIBTyhkzhIfxb63IQAN2t/Hws6bwx6VcdlpKMSQEoGT2qqrtFr5TUjWnX9CfSZE1dPKkypLZURJKKAT3pcLJREvuSbpLevfvhIz29St5Tku4MXJK8+iYyARxNcdIAAAAASUVORK5CYII=\"/></td></tr></table>"
            ]
          },
          "metadata": {}
        },
        {
          "output_type": "stream",
          "name": "stdout",
          "text": [
            "Generated sample images (min/max): 0/3\n"
          ]
        }
      ],
      "source": [
        "fm_model = UNetFlowMatcherMNIST(num_pixel_classes=N_GRAYSCALES, base_channels=32)\n",
        "fm_model.to(device)\n",
        "\n",
        "def sample_and_viz(model_to_eval):\n",
        "  torch.manual_seed(1)\n",
        "  initial_noise = torch.randint(0, N_GRAYSCALES, (20, 28, 28),\n",
        "                                dtype=torch.long, device=device)\n",
        "  imgs = sample_batch(model_to_eval, initial_noise, num_steps=20, K=N_GRAYSCALES)\n",
        "  show_images(imgs.cpu().to(torch.uint8))\n",
        "  print(f\"Generated sample images (min/max): {imgs.min()}/{imgs.max()}\")\n",
        "  torch.random.seed()\n",
        "\n",
        "trainer_fm = Trainer(model=fm_model,\n",
        "                  train_loader=train_loader,\n",
        "                  test_loader=test_loader,\n",
        "                  loss_fn=flow_matching_loss,\n",
        "                  extra_eval_fn=sample_and_viz,\n",
        "                  num_epochs=5)\n",
        "trainer_fm.train()\n"
      ]
    },
    {
      "cell_type": "markdown",
      "metadata": {
        "id": "YupNGtOw7j9h"
      },
      "source": [
        "## Simple Guidance (just brightness)"
      ]
    },
    {
      "cell_type": "code",
      "execution_count": 24,
      "metadata": {
        "colab": {
          "base_uri": "https://localhost:8080/",
          "height": 335,
          "referenced_widgets": [
            "61c2c5a922734311836cb94a9615dbde",
            "0e66c24de73342aaa54c4042c4e1fce1",
            "dccaa20e8dc745b5910b4f43cf6a947d",
            "82a9dab3baa24afbb3a766ff05e7e4c4",
            "80e879ead5344c999f447d5edbd3de67",
            "dd6a185c12544222a8336ffc0d25caf7",
            "a5e1145a63fd40ce9ebcfa7e724e9236",
            "ad16c262142246239954d0ca7e34e783",
            "8c73261fcc094536bc661e3dc5ef831a",
            "8859566379a94edc8fd608630012a971",
            "d059362912a34c7aba9246702afa0e3b"
          ]
        },
        "id": "ROr_U0gs7mFt",
        "outputId": "03c6424a-6500-4212-97bc-81645aa979c6"
      },
      "outputs": [
        {
          "output_type": "display_data",
          "data": {
            "text/plain": [
              "Intensity Guidance:   0%|          | 0/30 [00:00<?, ?guidance_steps/s]"
            ],
            "application/vnd.jupyter.widget-view+json": {
              "version_major": 2,
              "version_minor": 0,
              "model_id": "61c2c5a922734311836cb94a9615dbde"
            }
          },
          "metadata": {}
        },
        {
          "output_type": "display_data",
          "data": {
            "text/plain": [
              "<IPython.core.display.HTML object>"
            ],
            "text/html": [
              "<table class=\"show_images\" style=\"border-spacing:0px;\"><tr><td style=\"padding:1px;\"><img width=\"840\" height=\"280\" style=\"image-rendering:auto; object-fit:cover;\" src=\"data:image/png;base64,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\"/></td></tr></table>"
            ]
          },
          "metadata": {}
        }
      ],
      "source": [
        "@torch.no_grad()\n",
        "def sample_with_guidance(model, initial_noise_discrete, guidance_fn, guidance_scale,\n",
        "                         num_steps=10, K=N_GRAYSCALES):\n",
        "    model.eval()\n",
        "    device = next(model.parameters()).device\n",
        "    x_est_x0_discrete = initial_noise_discrete.clone().to(device)\n",
        "    fixed_x1_sample_discrete = torch.randint(0, K, size=initial_noise_discrete.shape, device=device, dtype=torch.long)\n",
        "\n",
        "    for i in range(num_steps):\n",
        "        t_model_scalar = (num_steps - i) / num_steps\n",
        "        t_for_model_nn = torch.full((x_est_x0_discrete.shape[0],), t_model_scalar, device=device, dtype=torch.float)\n",
        "        mask_prob = t_model_scalar\n",
        "        mask = torch.rand_like(x_est_x0_discrete, dtype=torch.float) < mask_prob\n",
        "        x_t_formed_discrete = torch.where(mask, fixed_x1_sample_discrete, x_est_x0_discrete)\n",
        "\n",
        "        logits_pred_x0 = model(x_t_formed_discrete, t_for_model_nn)\n",
        "\n",
        "        with torch.enable_grad():\n",
        "            logits_for_guidance = logits_pred_x0.clone().requires_grad_(True)\n",
        "            # probs_for_guidance = F.softmax(logits_for_guidance, dim=1)\n",
        "            # scores = guidance_fn(probs_for_guidance)\n",
        "            onehots_for_guidance = F.gumbel_softmax(logits_for_guidance, dim=1)\n",
        "            scores = guidance_fn(onehots_for_guidance)\n",
        "            grad_wrt_logits = torch.autograd.grad(scores, logits_for_guidance)[0]\n",
        "\n",
        "        logits_guided = logits_pred_x0 + guidance_scale * grad_wrt_logits\n",
        "        b, _, h, w = logits_guided.shape\n",
        "        flat_logits = einops.rearrange(logits_guided, \"b c h w -> (b h w) c\")\n",
        "        flat_probs = F.softmax(flat_logits, dim=-1)\n",
        "        flat_discrete = torch.multinomial(flat_probs, num_samples=1)\n",
        "        x_est_x0_discrete = einops.rearrange(flat_discrete, \"(b h w) 1 -> b h w\", b=b, h=h, w=w)\n",
        "\n",
        "    return x_est_x0_discrete.squeeze(1)\n",
        "\n",
        "\n",
        "def intensity_guidance_viz(model_to_guide, steps=30, num_examples=10, K_val=N_GRAYSCALES):\n",
        "  device = next(model_to_guide.parameters()).device\n",
        "  def intensity_objective(x):\n",
        "    pixel_values_tensor = torch.arange(K_val, device=device, dtype=torch.float32).view(1, K_val, 1, 1)\n",
        "    expected_img_values = torch.sum(x * pixel_values_tensor, dim=1)\n",
        "    return expected_img_values.mean()\n",
        "  torch.manual_seed(1)\n",
        "  device_viz = next(model_to_guide.parameters()).device\n",
        "  initial_noise = torch.randint(0, K_val, (num_examples, 28, 28), dtype=torch.long, device=device_viz)\n",
        "\n",
        "  images = []\n",
        "  for s in tqdm(range(steps), total=steps, unit=\"guidance_steps\", desc=\"Intensity Guidance\"):\n",
        "    scale = torch.tensor(s / (steps - 1)) * 2 - 1\n",
        "    scale *= 1e4\n",
        "\n",
        "    sampled_imgs = sample_with_guidance(\n",
        "        model_to_guide, initial_noise_discrete=initial_noise, guidance_fn=intensity_objective,\n",
        "        guidance_scale=scale, num_steps=20, K=K_val)\n",
        "    images.append(sampled_imgs.cpu())\n",
        "\n",
        "  torch.random.seed()\n",
        "\n",
        "  i = torch.stack(images, axis=0).to(torch.uint8)\n",
        "  i = einops.rearrange(i, \"r c w h -> (c w) (r h)\")\n",
        "  show_image(i)\n",
        "\n",
        "intensity_guidance_viz(fm_model)"
      ]
    },
    {
      "cell_type": "markdown",
      "metadata": {
        "id": "_e2TcD2kUfyC"
      },
      "source": [
        "## Classifier Model"
      ]
    },
    {
      "cell_type": "code",
      "execution_count": 25,
      "metadata": {
        "id": "lK4hsltuUfyC"
      },
      "outputs": [],
      "source": [
        "class MNISTClassifier(nn.Module):\n",
        "    def __init__(self,\n",
        "                 num_classes=10, base_channels=32,\n",
        "                 num_groups_norm=8, use_attention_bottleneck=True,\n",
        "                 K_pixel_input=N_GRAYSCALES):\n",
        "        super().__init__()\n",
        "        if base_channels <= 0:\n",
        "            raise ValueError(\"base_channels must be positive.\")\n",
        "        self.embedding = nn.Conv2d(K_pixel_input, base_channels, kernel_size=1, padding=0)\n",
        "        self.conv_in = ConvBlock(base_channels, base_channels, time_emb_dim=None, num_groups=num_groups_norm)\n",
        "        self.down1 = DownBlock(base_channels, base_channels * 2, time_emb_dim=None, num_groups_norm=num_groups_norm)\n",
        "        self.down2 = DownBlock(base_channels * 2, base_channels * 4, time_emb_dim=None, num_groups_norm=num_groups_norm)\n",
        "        self.bottleneck_conv1 = ConvBlock(base_channels * 4, base_channels * 8, time_emb_dim=None, num_groups=num_groups_norm)\n",
        "        if use_attention_bottleneck:\n",
        "            self.attention = SelfAttentionBlock(base_channels * 8, num_heads=4)\n",
        "        else:\n",
        "            self.attention = nn.Identity()\n",
        "        bottleneck_out_channels = base_channels * 8\n",
        "        self.global_avg_pool = nn.AdaptiveAvgPool2d((1, 1))\n",
        "        self.classifier_head = nn.Linear(bottleneck_out_channels, num_classes)\n",
        "        self.num_pixel_classes = K_pixel_input\n",
        "\n",
        "    def forward(self, x):\n",
        "        x = x.to(torch.long)\n",
        "        x = F.one_hot(x, num_classes=self.num_pixel_classes).to(torch.float32)\n",
        "        x = einops.rearrange(x, \"b h w d -> b d h w\")\n",
        "        return self.forward_onehot(x)\n",
        "\n",
        "    def forward_onehot(self, x):\n",
        "        h = self.embedding(x)\n",
        "        h = self.conv_in(h, t_emb=None)\n",
        "        h = self.down1(h, t_emb=None)\n",
        "        h = self.down2(h, t_emb=None)\n",
        "        h = self.bottleneck_conv1(h, t_emb=None)\n",
        "        h = self.attention(h)\n",
        "        h = self.global_avg_pool(h)\n",
        "        h = torch.flatten(h, 1)\n",
        "        out_logits = self.classifier_head(h)\n",
        "        return out_logits\n"
      ]
    },
    {
      "cell_type": "markdown",
      "metadata": {
        "id": "_JZlqTJ0UfyD"
      },
      "source": [
        "## CE Loss"
      ]
    },
    {
      "cell_type": "code",
      "execution_count": 26,
      "metadata": {
        "id": "xRVxKTDbUfyD"
      },
      "outputs": [],
      "source": [
        "def ce_loss_classifier(model, batch, K_pixel_val=N_GRAYSCALES):\n",
        "    x = batch[0].to(next(model.parameters()).device)\n",
        "    y_digit_labels = batch[1].to(next(model.parameters()).device)\n",
        "    y_logits_pred = model(x)\n",
        "    loss = nn.CrossEntropyLoss()(y_logits_pred, y_digit_labels)\n",
        "    predicted_classes = torch.argmax(y_logits_pred, dim=1)\n",
        "    accuracy = (predicted_classes == y_digit_labels).float().mean()\n",
        "    return dict(loss=loss, accuracy=accuracy)\n"
      ]
    },
    {
      "cell_type": "markdown",
      "metadata": {
        "id": "ueUyTjedUfyD"
      },
      "source": [
        "## Train the classifier"
      ]
    },
    {
      "cell_type": "code",
      "execution_count": 27,
      "metadata": {
        "colab": {
          "base_uri": "https://localhost:8080/",
          "height": 138,
          "referenced_widgets": [
            "bd1aec006f314678b622eb78d4f94fbd",
            "9b7a582522204a9797bcd4bef489a16d",
            "0d7761cb21374d339322f0b02a89b54f",
            "bfac2f0d0182449db8b9d7fa19b53e28",
            "00836b546874432086ea60fe3dae1dbc",
            "2ec9f4775aa048988a3f4286515d34e4",
            "367575c0a1cd4fad87abf118ce1470b3",
            "d787ff9ca4954fbfb92335c3fe13bfda",
            "a28ba06536c445ca945f716e6e157355",
            "2b252c13c2514a9aafa4fd4aae645de0",
            "9744a2f55d35404dbb53aa80f770d429"
          ]
        },
        "id": "zKWb0BPGUfyD",
        "outputId": "93a56672-674b-4538-a418-e7f558048301"
      },
      "outputs": [
        {
          "output_type": "stream",
          "name": "stdout",
          "text": [
            "epoch=0 test {'loss': 2.438400626182556, 'accuracy': 0.09121093759313226}\n"
          ]
        },
        {
          "output_type": "display_data",
          "data": {
            "text/plain": [
              "Epoch 1/1:   0%|          | 0/1875 [00:00<?, ? batches/s]"
            ],
            "application/vnd.jupyter.widget-view+json": {
              "version_major": 2,
              "version_minor": 0,
              "model_id": "bd1aec006f314678b622eb78d4f94fbd"
            }
          },
          "metadata": {}
        },
        {
          "output_type": "stream",
          "name": "stdout",
          "text": [
            "mean train: {'loss': 0.7561990917958592, 'accuracy': 0.7373930317848411}\n",
            "mean train: {'loss': 0.17022757836530508, 'accuracy': 0.9499254473161034}\n",
            "mean train: {'loss': 0.12287002402609883, 'accuracy': 0.9627647329650092}\n",
            "epoch=0 test {'loss': 0.0838384751114063, 'accuracy': 0.9750000014901161}\n"
          ]
        }
      ],
      "source": [
        "classifier_model = MNISTClassifier(K_pixel_input=N_GRAYSCALES)\n",
        "classifier_model.to(device)\n",
        "trainer_classifier = Trainer(\n",
        "    model=classifier_model, train_loader=train_loader, test_loader=test_loader,\n",
        "    loss_fn=ce_loss_classifier, extra_eval_fn=None, num_epochs=1 )\n",
        "trainer_classifier.train()"
      ]
    },
    {
      "cell_type": "markdown",
      "metadata": {
        "id": "sZo70soCUfyD"
      },
      "source": [
        "## Classifier Guidance"
      ]
    },
    {
      "cell_type": "code",
      "execution_count": 28,
      "metadata": {
        "colab": {
          "base_uri": "https://localhost:8080/",
          "height": 335,
          "referenced_widgets": [
            "a7e3af29bfdd4a29a77b0a50f803ac47",
            "67d3b5493d6341a28ad63a93bd183a92",
            "8be55625f0274f96afe1ce7e4edcfc94",
            "ef7464aa22dd4b43a8a3049ebdab6e99",
            "59804550529a49c6b515bc43e74bc357",
            "e302cde00e4b4b3297d916bd4e413c3f",
            "7fd0786a02ba467ea5c8285217242745",
            "cb3d0dd0fd434596b0e9e5b79be09a73",
            "9b471a572a0741749390cc44f674d96e",
            "372083c6b6d64b39b306f98a41483072",
            "c83306e4f01b4e16b082256aaa186b32"
          ]
        },
        "id": "HtVZ4B9HUfyD",
        "outputId": "d4bd6f35-03f2-4c91-d928-f6b1cf10f0b0"
      },
      "outputs": [
        {
          "output_type": "display_data",
          "data": {
            "text/plain": [
              "  0%|          | 0/10 [00:00<?, ?it/s]"
            ],
            "application/vnd.jupyter.widget-view+json": {
              "version_major": 2,
              "version_minor": 0,
              "model_id": "a7e3af29bfdd4a29a77b0a50f803ac47"
            }
          },
          "metadata": {}
        },
        {
          "output_type": "display_data",
          "data": {
            "text/plain": [
              "<IPython.core.display.HTML object>"
            ],
            "text/html": [
              "<table class=\"show_images\" style=\"border-spacing:0px;\"><tr><td style=\"padding:1px;\"><img width=\"280\" height=\"280\" style=\"image-rendering:auto; object-fit:cover;\" src=\"data:image/png;base64,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\"/></td></tr></table>"
            ]
          },
          "metadata": {}
        }
      ],
      "source": [
        "def class_scorer(classifier_nn, x, class_weights):\n",
        "    digit_logits = classifier_nn.forward_onehot(x)\n",
        "    log_probs_digits = F.log_softmax(digit_logits, dim=-1)\n",
        "    score = (log_probs_digits * class_weights[None, :]).sum(dim=-1).mean()\n",
        "    return score\n",
        "\n",
        "\n",
        "def number_guidance(model_to_guide, classifier_model, num_examples=10, K_val=N_GRAYSCALES):\n",
        "  torch.manual_seed(1)\n",
        "  device_viz = next(model_to_guide.parameters()).device\n",
        "  initial_noise = torch.randint(0, K_val, (num_examples, 28, 28), dtype=torch.long, device=device_viz)\n",
        "\n",
        "\n",
        "  images = []\n",
        "  for n in tqdm(range(10)):\n",
        "    one_hot = F.one_hot(torch.tensor(n), 10).to(device)\n",
        "    def scorer(x):\n",
        "      return class_scorer(classifier_model, x, one_hot)\n",
        "    sampled_imgs = sample_with_guidance(\n",
        "      fm_model, initial_noise_discrete=initial_noise, guidance_fn=scorer,\n",
        "      guidance_scale=1e4, num_steps=30, K=N_GRAYSCALES)\n",
        "    images.append(sampled_imgs.cpu())\n",
        "  i = torch.stack(images, axis=0).to(torch.uint8)\n",
        "  i = einops.rearrange(i, \"r c w h -> (c w) (r h)\")\n",
        "  show_image(i)\n",
        "\n",
        "\n",
        "number_guidance(fm_model, classifier_model)"
      ]
    }
  ],
  "metadata": {
    "accelerator": "GPU",
    "colab": {
      "collapsed_sections": [
        "dtKnMN895gBQ",
        "VVWAyVgg5pU9",
        "-eeE0Bq353C0",
        "zJzok4756FQ3",
        "45klsck961RS"
      ],
      "gpuType": "T4",
      "provenance": [],
      "include_colab_link": true
    },
    "kernelspec": {
      "display_name": ".venv",
      "language": "python",
      "name": "python3"
    },
    "language_info": {
      "codemirror_mode": {
        "name": "ipython",
        "version": 3
      },
      "file_extension": ".py",
      "mimetype": "text/x-python",
      "name": "python",
      "nbconvert_exporter": "python",
      "pygments_lexer": "ipython3",
      "version": "3.11.10"
    }
  },
  "nbformat": 4,
  "nbformat_minor": 0
}
